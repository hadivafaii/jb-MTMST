{
 "cells": [
  {
   "cell_type": "markdown",
   "id": "a9736f88",
   "metadata": {},
   "source": [
    "# (30) KL Balancer\n",
    "\n",
    "**Motivation**: Debug. <br>"
   ]
  },
  {
   "cell_type": "code",
   "execution_count": 1,
   "id": "5360bb70",
   "metadata": {
    "tags": [
     "hide-input"
    ]
   },
   "outputs": [],
   "source": [
    "# HIDE CODE\n",
    "\n",
    "\n",
    "import os, sys\n",
    "from copy import deepcopy as dc\n",
    "from os.path import join as pjoin\n",
    "from IPython.display import display, IFrame, HTML\n",
    "# tmp & extras dir\n",
    "git_dir = pjoin(os.environ['HOME'], 'Dropbox/git')\n",
    "extras_dir = pjoin(git_dir, 'jb-MTMST/_extras')\n",
    "fig_base_dir = pjoin(git_dir, 'jb-MTMST/figs')\n",
    "tmp_dir = pjoin(git_dir, 'jb-MTMST/tmp')\n",
    "# GitHub\n",
    "sys.path.insert(0, pjoin(git_dir, '_MTMST'))\n",
    "from figures.fighelper import *\n",
    "from analysis.opticflow import *\n",
    "\n",
    "# warnings, tqdm, & style\n",
    "warnings.filterwarnings('ignore', category=DeprecationWarning)\n",
    "from tqdm.notebook import tqdm\n",
    "from rich.jupyter import print\n",
    "%matplotlib inline\n",
    "set_style()"
   ]
  },
  {
   "cell_type": "markdown",
   "id": "f199f8a7",
   "metadata": {},
   "source": [
    "## Trainer"
   ]
  },
  {
   "cell_type": "code",
   "execution_count": 2,
   "id": "bbe8175d",
   "metadata": {},
   "outputs": [],
   "source": [
    "from model.vae2d import VAE\n",
    "from model.train_vae import TrainerVAE\n",
    "\n",
    "from torch import _dynamo\n",
    "_dynamo.config.cache_size_limit = 1024"
   ]
  },
  {
   "cell_type": "code",
   "execution_count": 3,
   "id": "e5e65832",
   "metadata": {},
   "outputs": [
    {
     "data": {
      "text/plain": [
       "150"
      ]
     },
     "execution_count": 3,
     "metadata": {},
     "output_type": "execute_result"
    }
   ],
   "source": [
    "vae = VAE(ConfigVAE(\n",
    "    n_kers=4,\n",
    "    n_latent_scales=2, n_groups_per_scale=20, n_latent_per_group=5,\n",
    "    scale_init=False, ada_groups=True, residual_kl=False,\n",
    "))\n",
    "tr = TrainerVAE(\n",
    "    # model=torch.compile(vae),\n",
    "    model=vae,\n",
    "    cfg=ConfigTrain(\n",
    "        lr=0.003, batch_size=512, epochs=1000, grad_clip=1000,\n",
    "        lambda_anneal=True, lambda_init=1e-5, lambda_norm=1e-2,\n",
    "        kl_beta=1, kl_anneal_cycles=0),\n",
    "    device='cuda',\n",
    ")\n",
    "vae.cfg.total_latents()"
   ]
  },
  {
   "cell_type": "code",
   "execution_count": null,
   "id": "4b5b538c",
   "metadata": {},
   "outputs": [],
   "source": []
  },
  {
   "cell_type": "code",
   "execution_count": 9,
   "id": "12c20f7d",
   "metadata": {},
   "outputs": [
    {
     "data": {
      "text/plain": [
       "[1, 2, 3]"
      ]
     },
     "execution_count": 9,
     "metadata": {},
     "output_type": "execute_result"
    }
   ],
   "source": [
    "vae.enc0[1].dims"
   ]
  },
  {
   "cell_type": "code",
   "execution_count": null,
   "id": "e04bf1e5",
   "metadata": {},
   "outputs": [],
   "source": []
  },
  {
   "cell_type": "code",
   "execution_count": 34,
   "id": "2190cfdd",
   "metadata": {},
   "outputs": [],
   "source": [
    "x, norm = next(iter(tr.dl_tst))\n",
    "with torch.no_grad():\n",
    "    y, _, q, p = tr.model(x)\n",
    "    kl_all, kl_diag = tr.model.loss_kl(q, p)"
   ]
  },
  {
   "cell_type": "code",
   "execution_count": 35,
   "id": "63f6794e",
   "metadata": {},
   "outputs": [],
   "source": [
    "from model.utils_model import kl_balancer as hadi"
   ]
  },
  {
   "cell_type": "code",
   "execution_count": 36,
   "id": "8284373a",
   "metadata": {},
   "outputs": [],
   "source": [
    "self = tr\n",
    "alpha = self.alphas\n",
    "coeff = self.betas[2000]\n",
    "beta = self.cfg.kl_beta"
   ]
  },
  {
   "cell_type": "code",
   "execution_count": 37,
   "id": "e522ad0e",
   "metadata": {},
   "outputs": [],
   "source": [
    "balanced_kl_hadi, gamma_hadi, kl_vals_hadi = hadi(kl_all, alpha, coeff, beta)"
   ]
  },
  {
   "cell_type": "code",
   "execution_count": 38,
   "id": "82ef6bdf",
   "metadata": {},
   "outputs": [
    {
     "data": {
      "text/plain": [
       "tensor([0.7949, 0.8578, 0.7993, 0.6783, 0.5866, 0.6408, 0.8419, 0.3419, 0.5713,\n",
       "        0.5191, 0.6939, 1.1721, 1.7183, 1.4775, 1.0333, 1.4136, 1.6136, 1.6540,\n",
       "        1.4441, 1.1103, 1.4425, 1.1693, 1.1969, 0.9247, 1.0388, 0.8849, 0.8082,\n",
       "        0.7917, 0.9472, 0.8333], device='cuda:0')"
      ]
     },
     "execution_count": 38,
     "metadata": {},
     "output_type": "execute_result"
    }
   ],
   "source": [
    "gamma_hadi"
   ]
  },
  {
   "cell_type": "code",
   "execution_count": 39,
   "id": "9b92d19b",
   "metadata": {
    "scrolled": true
   },
   "outputs": [
    {
     "data": {
      "text/plain": [
       "tensor([0.1990, 0.2648, 0.4416, 0.2776, 0.4627, 0.2846, 0.1957, 0.2428, 0.1864,\n",
       "        0.1925, 0.1986, 0.8973, 0.2601, 0.2069, 0.4113, 0.1822, 1.6090, 0.9014,\n",
       "        0.3611, 0.2737, 0.1965, 0.1871, 0.2331, 0.3501, 0.3134, 0.3046, 0.2201,\n",
       "        0.1857, 0.2382, 0.1794, 0.2019, 0.1893, 0.3603, 0.1953, 0.1790, 0.3835,\n",
       "        0.5815, 0.9122, 0.1849, 0.3253, 0.1980, 0.2025, 0.1888, 0.2350, 0.4466,\n",
       "        0.2364, 0.2145, 0.2585, 0.2864, 0.1869, 0.8017, 0.2065, 0.3460, 0.2556,\n",
       "        0.3376, 0.2189, 0.2826, 0.2428, 0.2954, 0.2021, 0.8540, 1.0958, 0.3085,\n",
       "        0.2120, 0.1817, 0.2101, 0.2121, 0.1836, 0.2190, 0.2970, 3.4314, 0.1942,\n",
       "        0.2336, 0.9997, 0.1992, 0.8648, 0.2131, 0.3037, 0.6240, 0.1823, 0.2194,\n",
       "        0.3115, 0.2063, 0.3918, 0.6348, 0.2084, 0.2037, 0.2058, 0.4219, 0.2654,\n",
       "        0.6904, 0.2010, 0.2110, 0.2823, 0.2717, 0.3475, 0.1924, 0.1922, 0.3340,\n",
       "        0.2115, 0.2900, 0.2528, 0.1825, 0.2220, 0.2004, 0.1868, 0.4263, 0.2916,\n",
       "        0.2148, 0.2290, 0.1751, 0.2890, 0.6944, 0.3072, 0.2976, 0.2232, 0.2040,\n",
       "        0.6909, 0.1848, 0.1839, 0.2205, 0.6524, 0.2126, 0.4538, 0.1868, 0.8479,\n",
       "        0.1837, 0.1927, 0.3827, 0.3374, 0.3613, 0.7167, 0.2107, 0.3857, 0.3204,\n",
       "        0.2154, 0.3013, 0.2892, 0.2684, 0.2088, 0.2039, 0.3220, 0.2609, 0.4268,\n",
       "        0.2169, 0.2108, 0.1852, 0.1884, 0.1777, 0.2734, 0.3733, 0.1799, 0.1845,\n",
       "        0.2270, 0.1882, 0.1951, 0.3360, 0.2615, 0.2436, 0.2408, 0.2018, 0.2806,\n",
       "        0.2043, 0.2605, 0.1795, 0.5629, 1.3486, 0.1973, 0.2782, 0.2331, 0.2931,\n",
       "        0.2731, 0.2808, 0.2057, 0.4523, 0.4551, 0.3046, 0.2071, 0.2282, 0.6040,\n",
       "        0.1942, 0.1954, 0.3991, 0.6324, 1.0442, 0.2303, 0.1894, 0.2063, 0.1913,\n",
       "        0.1784, 2.5539, 0.1826, 0.2082, 0.2011, 0.2148, 0.2356, 0.1783, 0.2085,\n",
       "        0.2546, 0.2688, 4.3263, 0.2734, 0.1930, 0.2107, 0.1776, 0.5931, 0.2669,\n",
       "        0.1863, 0.2635, 0.4106, 0.4488, 0.2269, 0.1934, 0.2507, 0.4758, 0.2437,\n",
       "        0.1803, 0.2355, 0.1893, 0.2239, 0.1947, 0.1929, 0.2451, 0.2219, 0.2102,\n",
       "        0.2917, 0.1911, 0.1995, 0.2104, 0.1897, 0.4017, 0.1933, 0.2356, 0.3093,\n",
       "        0.2510, 0.1884, 0.1784, 0.2334, 0.2313, 0.3499, 0.7278, 0.1952, 0.2061,\n",
       "        0.3529, 0.1929, 0.1855, 0.3335, 0.2826, 0.1950, 0.4598, 0.2294, 0.2396,\n",
       "        0.1900, 0.2834, 0.1964, 0.4114, 0.1938, 0.3360, 0.2349, 0.2568, 0.5332,\n",
       "        0.2534, 0.1850, 0.2096, 0.3054, 0.5186, 0.1774, 0.1784, 0.2441, 0.2291,\n",
       "        0.4438, 0.2033, 0.2123, 0.2197, 0.2495, 1.1268, 0.1854, 0.2134, 0.1942,\n",
       "        0.2251, 0.3156, 0.2238, 0.1966, 0.2140, 0.5733, 0.1857, 0.2699, 0.9174,\n",
       "        0.3342, 0.2200, 0.1880, 0.2529, 0.5702, 0.5419, 0.2184, 0.2423, 0.2791,\n",
       "        1.0894, 0.2420, 0.2386, 0.2161, 1.0175, 0.2440, 0.2987, 0.1881, 0.2357,\n",
       "        0.2607, 0.7042, 0.2371, 0.1885, 0.5672, 0.3687, 0.1897, 0.1817, 0.2228,\n",
       "        0.2017, 0.2170, 0.4278, 0.2015, 0.2435, 0.4688, 0.2175, 0.3529, 0.2546,\n",
       "        0.1888, 0.2898, 0.2193, 0.2555, 0.2210, 0.2703, 0.1842, 0.2097, 0.2024,\n",
       "        0.3532, 0.2203, 0.3879, 0.1904, 0.2261, 0.1861, 0.1986, 0.4583, 0.2639,\n",
       "        0.2334, 0.2061, 0.7562, 0.2347, 0.2150, 0.1892, 0.2332, 0.2178, 0.2317,\n",
       "        1.2156, 0.2459, 0.2062, 0.2242, 0.2236, 0.4364, 0.2005, 0.1799, 0.1813,\n",
       "        0.3110, 0.2339, 0.2281, 0.2050, 0.1982, 0.1854, 0.2978, 0.1853, 1.1167,\n",
       "        0.2476, 0.1905, 0.2418, 0.4391, 0.1825, 0.2039, 0.2586, 0.1788, 0.5354,\n",
       "        0.5865, 0.2161, 0.2891, 0.5118, 0.2438, 0.2656, 0.1944, 0.2369, 0.2390,\n",
       "        0.2134, 0.4205, 0.1842, 0.8330, 0.3841, 0.5766, 0.3589, 0.3094, 0.2050,\n",
       "        1.4429, 0.3073, 0.1985, 0.2078, 0.3250, 0.6245, 0.4266, 0.1965, 0.4323,\n",
       "        0.2112, 0.2360, 0.2228, 0.1920, 0.4732, 1.7331, 0.2294, 0.2436, 0.6147,\n",
       "        0.1934, 0.4257, 0.2274, 0.1768, 0.1849, 0.6331, 0.3636, 0.2168, 0.3270,\n",
       "        0.2270, 0.2961, 0.8602, 0.7224, 0.1866, 0.3695, 0.2340, 0.4612, 0.1981,\n",
       "        0.1858, 0.2154, 0.1949, 0.2000, 0.1875, 0.4019, 0.2508, 0.2097, 0.2255,\n",
       "        0.2653, 0.4263, 0.3152, 0.1977, 0.1947, 0.2388, 0.5128, 1.6737, 0.1919,\n",
       "        0.1916, 0.2576, 0.7001, 0.1942, 0.2104, 0.2135, 0.2565, 0.2235, 0.2013,\n",
       "        0.3035, 0.6118, 0.1943, 0.2221, 0.2069, 0.1880, 0.9042, 0.1931, 0.3717,\n",
       "        0.2044, 0.1887, 0.4816, 0.1907, 0.1901, 0.2389, 0.2819, 0.2331, 0.2155,\n",
       "        0.2167, 0.2971, 0.2040, 0.2749, 0.1874, 5.4014, 0.2168, 0.1888, 0.1938,\n",
       "        0.5980, 0.1757, 0.5250, 0.2820, 0.4648, 0.2542, 1.1502, 0.2270, 0.2202,\n",
       "        1.4765, 0.2270, 0.2016, 0.1902, 0.1778, 0.1866, 0.1898, 0.1893, 0.4968,\n",
       "        0.2489, 0.2053, 0.2430, 0.5931, 0.2742, 0.2752, 0.2038, 0.1790],\n",
       "       device='cuda:0')"
      ]
     },
     "execution_count": 39,
     "metadata": {},
     "output_type": "execute_result"
    }
   ],
   "source": [
    "balanced_kl_hadi"
   ]
  },
  {
   "cell_type": "code",
   "execution_count": null,
   "id": "25bd6eba",
   "metadata": {},
   "outputs": [],
   "source": []
  },
  {
   "cell_type": "code",
   "execution_count": null,
   "id": "d3debd90",
   "metadata": {},
   "outputs": [],
   "source": []
  },
  {
   "cell_type": "code",
   "execution_count": 72,
   "id": "00b7f398",
   "metadata": {},
   "outputs": [
    {
     "data": {
      "text/plain": [
       "tensor([1.0000, 1.0000, 1.0000, 1.0000, 1.0000, 1.0000, 1.0000, 1.0000, 1.0000,\n",
       "        1.0000, 1.4142, 1.4142, 1.4142, 1.4142, 1.4142, 1.4142, 1.4142, 1.4142,\n",
       "        1.4142, 1.4142, 1.4142, 1.4142, 1.4142, 1.4142, 1.4142, 1.4142, 1.4142,\n",
       "        1.4142, 1.4142, 1.4142], device='cuda:0')"
      ]
     },
     "execution_count": 72,
     "metadata": {},
     "output_type": "execute_result"
    }
   ],
   "source": [
    "kl_balancer_coeff_arash(vae.cfg.n_latent_scales, vae.cfg.groups, 'sqrt')"
   ]
  },
  {
   "cell_type": "code",
   "execution_count": null,
   "id": "3f4c7b34",
   "metadata": {},
   "outputs": [],
   "source": []
  },
  {
   "cell_type": "code",
   "execution_count": 68,
   "id": "22ea83a0",
   "metadata": {},
   "outputs": [],
   "source": [
    "def kl_balancer_coeff_arash(num_scales, groups_per_scale, fun):\n",
    "    if fun == 'equal':\n",
    "        coeff = torch.cat([torch.ones(groups_per_scale[num_scales - i - 1]) for i in range(num_scales)], dim=0).cuda()\n",
    "    elif fun == 'linear':\n",
    "        coeff = torch.cat([(2 ** i) * torch.ones(groups_per_scale[num_scales - i - 1]) for i in range(num_scales)], dim=0).cuda()\n",
    "    elif fun == 'sqrt':\n",
    "        coeff = torch.cat([np.sqrt(2 ** i) * torch.ones(groups_per_scale[num_scales - i - 1]) for i in range(num_scales)], dim=0).cuda()\n",
    "    elif fun == 'square':\n",
    "        coeff = torch.cat([np.square(2 ** i) / groups_per_scale[num_scales - i - 1] * torch.ones(groups_per_scale[num_scales - i - 1]) for i in range(num_scales)], dim=0).cuda()\n",
    "    else:\n",
    "        raise NotImplementedError\n",
    "    # convert min to 1.\n",
    "    coeff /= torch.min(coeff)\n",
    "    return coeff\n",
    "\n",
    "\n",
    "\n",
    "def kl_per_group(kl_all):\n",
    "    kl_vals = torch.mean(kl_all, dim=0)\n",
    "    kl_coeff_i = torch.abs(kl_all)\n",
    "    kl_coeff_i = torch.mean(kl_coeff_i, dim=0, keepdim=True) + 0.01\n",
    "\n",
    "    return kl_coeff_i, kl_vals\n",
    "\n",
    "\n",
    "def kl_balancer_arash(kl_all, kl_coeff=1.0, kl_balance=False, alpha_i=None):\n",
    "    if kl_balance and kl_coeff < 1.0:\n",
    "        alpha_i = alpha_i.unsqueeze(0)\n",
    "\n",
    "        kl_all = torch.stack(kl_all, dim=1)\n",
    "        kl_coeff_i, kl_vals = kl_per_group(kl_all)\n",
    "\n",
    "        kl_coeff_i = kl_coeff_i / alpha_i\n",
    "        kl_coeff_i = kl_coeff_i / torch.mean(kl_coeff_i, dim=1, keepdim=True)\n",
    "        kl = torch.sum(kl_all * kl_coeff_i.detach(), dim=1)\n",
    "\n",
    "        # for reporting\n",
    "        kl_coeffs = kl_coeff_i.squeeze(0)\n",
    "    else:\n",
    "        kl_all = torch.stack(kl_all, dim=1)\n",
    "        kl_vals = torch.mean(kl_all, dim=0)\n",
    "        kl = torch.sum(kl_all, dim=1)\n",
    "        kl_coeffs = torch.ones(size=(len(kl_vals),))\n",
    "\n",
    "    return kl_coeff * kl, kl_coeffs, kl_vals"
   ]
  },
  {
   "cell_type": "code",
   "execution_count": 61,
   "id": "e8650efa",
   "metadata": {},
   "outputs": [],
   "source": [
    "balanced_kl_arash, kl_coeffs_arash, kl_vals_arash = kl_balancer_arash(\n",
    "    kl_all, coeff, kl_balance=True, alpha_i=alpha)"
   ]
  },
  {
   "cell_type": "code",
   "execution_count": null,
   "id": "1a733802",
   "metadata": {},
   "outputs": [],
   "source": []
  },
  {
   "cell_type": "code",
   "execution_count": 62,
   "id": "520a359d",
   "metadata": {
    "scrolled": true
   },
   "outputs": [
    {
     "data": {
      "text/plain": [
       "tensor([0.8101, 0.8684, 0.8142, 0.7022, 0.6173, 0.6675, 0.8537, 0.3908, 0.6031,\n",
       "        0.5548, 0.7166, 1.1593, 1.6649, 1.4420, 1.0308, 1.3829, 1.5680, 1.6054,\n",
       "        1.4111, 1.1021, 1.4096, 1.1568, 1.1822, 0.9303, 1.0359, 0.8934, 0.8225,\n",
       "        0.8071, 0.9511, 0.8456], device='cuda:0')"
      ]
     },
     "execution_count": 62,
     "metadata": {},
     "output_type": "execute_result"
    }
   ],
   "source": [
    "kl_coeffs_arash"
   ]
  },
  {
   "cell_type": "code",
   "execution_count": 63,
   "id": "ce1246b3",
   "metadata": {
    "scrolled": true
   },
   "outputs": [
    {
     "data": {
      "text/plain": [
       "tensor([0.7949, 0.8578, 0.7993, 0.6783, 0.5866, 0.6408, 0.8419, 0.3419, 0.5713,\n",
       "        0.5191, 0.6939, 1.1721, 1.7183, 1.4775, 1.0333, 1.4136, 1.6136, 1.6540,\n",
       "        1.4441, 1.1103, 1.4425, 1.1693, 1.1969, 0.9247, 1.0388, 0.8849, 0.8082,\n",
       "        0.7917, 0.9472, 0.8333], device='cuda:0')"
      ]
     },
     "execution_count": 63,
     "metadata": {},
     "output_type": "execute_result"
    }
   ],
   "source": [
    "gamma_hadi"
   ]
  },
  {
   "cell_type": "code",
   "execution_count": null,
   "id": "d4688bbe",
   "metadata": {},
   "outputs": [],
   "source": []
  },
  {
   "cell_type": "code",
   "execution_count": 64,
   "id": "b03dbc3c",
   "metadata": {},
   "outputs": [
    {
     "data": {
      "text/plain": [
       "<matplotlib.legend.Legend at 0x7fac38820850>"
      ]
     },
     "execution_count": 64,
     "metadata": {},
     "output_type": "execute_result"
    },
    {
     "data": {
      "image/png": "[encoded data removed]",
      "text/plain": [
       "<Figure size 640x480 with 1 Axes>"
      ]
     },
     "metadata": {},
     "output_type": "display_data"
    }
   ],
   "source": [
    "plt.plot(to_np(gamma_hadi), label='hadi')\n",
    "plt.plot(to_np(kl_coeffs_arash), label='arash')\n",
    "plt.legend()"
   ]
  },
  {
   "cell_type": "code",
   "execution_count": null,
   "id": "d287a10e",
   "metadata": {},
   "outputs": [],
   "source": []
  },
  {
   "cell_type": "code",
   "execution_count": 65,
   "id": "3103dcda",
   "metadata": {},
   "outputs": [
    {
     "data": {
      "text/plain": [
       "<matplotlib.legend.Legend at 0x7fac385244f0>"
      ]
     },
     "execution_count": 65,
     "metadata": {},
     "output_type": "execute_result"
    },
    {
     "data": {
      "image/png": "[encoded data removed]",
      "text/plain": [
       "<Figure size 640x480 with 1 Axes>"
      ]
     },
     "metadata": {},
     "output_type": "display_data"
    }
   ],
   "source": [
    "plt.plot(to_np(balanced_kl_hadi), label='hadi')\n",
    "plt.plot(to_np(balanced_kl_arash), label='arash')\n",
    "plt.legend()"
   ]
  },
  {
   "cell_type": "code",
   "execution_count": 66,
   "id": "a9ee0b77",
   "metadata": {},
   "outputs": [
    {
     "data": {
      "text/plain": [
       "(0.999996266721964, 0.0)"
      ]
     },
     "execution_count": 66,
     "metadata": {},
     "output_type": "execute_result"
    }
   ],
   "source": [
    "sp_stats.pearsonr(to_np(balanced_kl_hadi), to_np(balanced_kl_arash))"
   ]
  },
  {
   "cell_type": "code",
   "execution_count": null,
   "id": "10957f4c",
   "metadata": {},
   "outputs": [],
   "source": []
  },
  {
   "cell_type": "code",
   "execution_count": 24,
   "id": "652de205",
   "metadata": {},
   "outputs": [
    {
     "data": {
      "text/plain": [
       "(torch.Size([512, 30]), torch.Size([30]))"
      ]
     },
     "execution_count": 24,
     "metadata": {},
     "output_type": "execute_result"
    }
   ],
   "source": [
    "kl_all = torch.stack(kl_all, dim=1)\n",
    "kl_vals = torch.mean(kl_all, dim=0)\n",
    "kl_all.size(), kl_vals.size()"
   ]
  },
  {
   "cell_type": "code",
   "execution_count": 25,
   "id": "372f2383",
   "metadata": {},
   "outputs": [
    {
     "data": {
      "text/plain": [
       "torch.Size([1, 30])"
      ]
     },
     "execution_count": 25,
     "metadata": {},
     "output_type": "execute_result"
    }
   ],
   "source": [
    "kl_coeff_i = torch.mean(\n",
    "    torch.abs(kl_all),\n",
    "    keepdim=True,\n",
    "    dim=0,\n",
    ") + 0.01\n",
    "kl_coeff_i.size()"
   ]
  },
  {
   "cell_type": "code",
   "execution_count": 29,
   "id": "618e0c21",
   "metadata": {},
   "outputs": [
    {
     "data": {
      "text/plain": [
       "0.1095895990729332"
      ]
     },
     "execution_count": 29,
     "metadata": {},
     "output_type": "execute_result"
    }
   ],
   "source": [
    "kl_coeff_i.squeeze()[2].item()"
   ]
  },
  {
   "cell_type": "code",
   "execution_count": 30,
   "id": "cb0d0ad5",
   "metadata": {},
   "outputs": [
    {
     "data": {
      "text/plain": [
       "30"
      ]
     },
     "execution_count": 30,
     "metadata": {},
     "output_type": "execute_result"
    }
   ],
   "source": [
    "len(kl_diag)"
   ]
  },
  {
   "cell_type": "code",
   "execution_count": 42,
   "id": "1c86232e",
   "metadata": {},
   "outputs": [
    {
     "data": {
      "text/plain": [
       "0.02491855062544346"
      ]
     },
     "execution_count": 42,
     "metadata": {},
     "output_type": "execute_result"
    }
   ],
   "source": []
  },
  {
   "cell_type": "code",
   "execution_count": null,
   "id": "a8e318e2",
   "metadata": {},
   "outputs": [],
   "source": []
  },
  {
   "cell_type": "code",
   "execution_count": null,
   "id": "93add82d",
   "metadata": {},
   "outputs": [],
   "source": [
    "alpha = alpha.unsqueeze(0)"
   ]
  },
  {
   "cell_type": "code",
   "execution_count": 37,
   "id": "688f077a",
   "metadata": {},
   "outputs": [
    {
     "data": {
      "text/plain": [
       "(torch.Size([30]), torch.Size([1, 30]))"
      ]
     },
     "execution_count": 37,
     "metadata": {},
     "output_type": "execute_result"
    }
   ],
   "source": [
    "## kl_per_group()\n",
    "kl_vals = torch.mean(kl_all, dim=0)\n",
    "kl_coeff_i = torch.mean(\n",
    "    torch.abs(kl_all),\n",
    "    keepdim=True,\n",
    "    dim=0,\n",
    ") + 0.01\n",
    "\n",
    "kl_vals.size(), kl_coeff_i.size()"
   ]
  },
  {
   "cell_type": "code",
   "execution_count": 44,
   "id": "a1a9d300",
   "metadata": {},
   "outputs": [
    {
     "data": {
      "text/plain": [
       "tensor([[0.1090, 0.1168, 0.1096, 0.0945, 0.0831, 0.0898, 0.1148, 0.0526, 0.0811,\n",
       "         0.0746, 0.0964, 0.1559, 0.2239, 0.1937, 0.1386, 0.1860, 0.2108, 0.2158,\n",
       "         0.1898, 0.1482, 0.1896, 0.1556, 0.1591, 0.1251, 0.1394, 0.1201, 0.1106,\n",
       "         0.1086, 0.1280, 0.1138]], device='cuda:0')"
      ]
     },
     "execution_count": 44,
     "metadata": {},
     "output_type": "execute_result"
    }
   ],
   "source": [
    "kl_coeff_i"
   ]
  },
  {
   "cell_type": "code",
   "execution_count": 45,
   "id": "eb1e3ac6",
   "metadata": {},
   "outputs": [
    {
     "data": {
      "text/plain": [
       "tensor(4.0346, device='cuda:0')"
      ]
     },
     "execution_count": 45,
     "metadata": {},
     "output_type": "execute_result"
    }
   ],
   "source": [
    "total_kl = torch.sum(kl_coeff_i)\n",
    "total_kl"
   ]
  },
  {
   "cell_type": "code",
   "execution_count": null,
   "id": "8cfe025d",
   "metadata": {},
   "outputs": [],
   "source": []
  },
  {
   "cell_type": "code",
   "execution_count": 46,
   "id": "b8c035cf",
   "metadata": {},
   "outputs": [
    {
     "data": {
      "text/plain": [
       "tensor([[0.4396, 0.4712, 0.4420, 0.3811, 0.3351, 0.3621, 0.4633, 0.2120, 0.3273,\n",
       "         0.3011, 0.3889, 0.6289, 0.9034, 0.7815, 0.5592, 0.7505, 0.8504, 0.8706,\n",
       "         0.7659, 0.5980, 0.7651, 0.6277, 0.6418, 0.5047, 0.5623, 0.4847, 0.4463,\n",
       "         0.4380, 0.5163, 0.4590]], device='cuda:0')"
      ]
     },
     "execution_count": 46,
     "metadata": {},
     "output_type": "execute_result"
    }
   ],
   "source": [
    "kl_coeff_i = kl_coeff_i / alpha * total_kl\n",
    "kl_coeff_i"
   ]
  },
  {
   "cell_type": "code",
   "execution_count": 47,
   "id": "39c02113",
   "metadata": {},
   "outputs": [
    {
     "data": {
      "text/plain": [
       "tensor([[0.8102, 0.8684, 0.8146, 0.7024, 0.6176, 0.6674, 0.8539, 0.3908, 0.6032,\n",
       "         0.5549, 0.7167, 1.1591, 1.6649, 1.4404, 1.0307, 1.3831, 1.5673, 1.6044,\n",
       "         1.4114, 1.1021, 1.4101, 1.1568, 1.1827, 0.9302, 1.0363, 0.8932, 0.8226,\n",
       "         0.8072, 0.9516, 0.8459]], device='cuda:0')"
      ]
     },
     "execution_count": 47,
     "metadata": {},
     "output_type": "execute_result"
    }
   ],
   "source": [
    "kl_coeff_i = kl_coeff_i / torch.mean(\n",
    "    kl_coeff_i, dim=1, keepdim=True)\n",
    "kl_coeff_i"
   ]
  },
  {
   "cell_type": "code",
   "execution_count": 50,
   "id": "0ea6afd8",
   "metadata": {},
   "outputs": [],
   "source": [
    "kl = torch.sum(kl_all * kl_coeff_i.detach(), dim=1)\n",
    "kl_coeffs = kl_coeff_i.squeeze(0)"
   ]
  },
  {
   "cell_type": "code",
   "execution_count": 51,
   "id": "fbe1530c",
   "metadata": {},
   "outputs": [
    {
     "data": {
      "text/plain": [
       "tensor([0.8102, 0.8684, 0.8146, 0.7024, 0.6176, 0.6674, 0.8539, 0.3908, 0.6032,\n",
       "        0.5549, 0.7167, 1.1591, 1.6649, 1.4404, 1.0307, 1.3831, 1.5673, 1.6044,\n",
       "        1.4114, 1.1021, 1.4101, 1.1568, 1.1827, 0.9302, 1.0363, 0.8932, 0.8226,\n",
       "        0.8072, 0.9516, 0.8459], device='cuda:0')"
      ]
     },
     "execution_count": 51,
     "metadata": {},
     "output_type": "execute_result"
    }
   ],
   "source": [
    "kl_coeffs"
   ]
  },
  {
   "cell_type": "code",
   "execution_count": null,
   "id": "2aa97941",
   "metadata": {},
   "outputs": [],
   "source": []
  },
  {
   "cell_type": "code",
   "execution_count": null,
   "id": "efefaa84",
   "metadata": {},
   "outputs": [],
   "source": []
  },
  {
   "cell_type": "code",
   "execution_count": null,
   "id": "ed70bbd5",
   "metadata": {},
   "outputs": [],
   "source": []
  }
 ],
 "metadata": {
  "kernelspec": {
   "display_name": "Python 3 (ipykernel)",
   "language": "python",
   "name": "python3"
  },
  "language_info": {
   "codemirror_mode": {
    "name": "ipython",
    "version": 3
   },
   "file_extension": ".py",
   "mimetype": "text/x-python",
   "name": "python",
   "nbconvert_exporter": "python",
   "pygments_lexer": "ipython3",
   "version": "3.8.5"
  }
 },
 "nbformat": 4,
 "nbformat_minor": 5
}
