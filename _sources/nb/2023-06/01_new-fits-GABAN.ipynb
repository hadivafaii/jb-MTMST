{
 "cells": [
  {
   "cell_type": "markdown",
   "id": "fe66e455",
   "metadata": {},
   "source": [
    "# (01) Neural results ($ skip + 0.1 * x \\dots$ ```GABAN```)\n",
    "\n",
    "**Motivation**: Fits on ```GABAN``` <br>"
   ]
  },
  {
   "cell_type": "code",
   "execution_count": 1,
   "id": "5360bb70",
   "metadata": {
    "tags": [
     "hide-input"
    ]
   },
   "outputs": [],
   "source": [
    "# HIDE CODE\n",
    "\n",
    "\n",
    "import os, sys\n",
    "from IPython.display import display\n",
    "\n",
    "# tmp & extras dir\n",
    "git_dir = os.path.join(os.environ['HOME'], 'Dropbox/git')\n",
    "extras_dir = os.path.join(git_dir, 'jb-MTMST/_extras')\n",
    "fig_base_dir = os.path.join(git_dir, 'jb-MTMST/figs')\n",
    "tmp_dir = os.path.join(git_dir, 'jb-MTMST/tmp')\n",
    "\n",
    "# GitHub\n",
    "sys.path.insert(0, os.path.join(git_dir, '_MTMST'))\n",
    "from vae.train_vae import TrainerVAE, ConfigTrainVAE\n",
    "from vae.vae2d import VAE, ConfigVAE\n",
    "from figures.fighelper import *\n",
    "from analysis.glm import *\n",
    "\n",
    "\n",
    "# warnings, tqdm, & style\n",
    "warnings.filterwarnings('ignore', category=DeprecationWarning)\n",
    "from rich.jupyter import print\n",
    "%matplotlib inline\n",
    "set_style()"
   ]
  },
  {
   "cell_type": "code",
   "execution_count": 2,
   "id": "fa2f8677",
   "metadata": {},
   "outputs": [
    {
     "data": {
      "text/html": [
       "<pre style=\"white-space:pre;overflow-x:auto;line-height:normal;font-family:Menlo,'DejaVu Sans Mono',consolas,'Courier New',monospace\"><span style=\"font-weight: bold\">[</span>PROGRESS<span style=\"font-weight: bold\">]</span> <span style=\"color: #008000; text-decoration-color: #008000\">'run_neuron_gaban.txt'</span> saved at\n",
       "<span style=\"color: #800080; text-decoration-color: #800080\">/home/hadi/Dropbox/git/_MTMST/</span><span style=\"color: #ff00ff; text-decoration-color: #ff00ff\">scripts</span>\n",
       "</pre>\n"
      ],
      "text/plain": [
       "\u001b[1m[\u001b[0mPROGRESS\u001b[1m]\u001b[0m \u001b[32m'run_neuron_gaban.txt'\u001b[0m saved at\n",
       "\u001b[35m/home/hadi/Dropbox/git/_MTMST/\u001b[0m\u001b[95mscripts\u001b[0m\n"
      ]
     },
     "metadata": {},
     "output_type": "display_data"
    }
   ],
   "source": [
    "fits = [\n",
    "    'fixate1_k-32_z-14x[5,10,20]_enc(2x2)-dec(2x1)-pre(1x3)-post(1x3)/skip+0.1x_ep160-b600-lr(0.002)_beta(0.15:0x0.5)_lamb(0.0001)_gr(250.0)_(2023_05_30,09:01)',\n",
    "]\n",
    "save_script_neural(fits, 'cuda')"
   ]
  },
  {
   "cell_type": "markdown",
   "id": "e0ca3f94",
   "metadata": {},
   "source": [
    "## $\\beta = 0.15$"
   ]
  },
  {
   "cell_type": "code",
   "execution_count": null,
   "id": "efa4f1a4",
   "metadata": {},
   "outputs": [],
   "source": [
    "fit_name = ''\n",
    "df, df_all, ro_all, args, tr = summarize_neural_fits(fit_name)\n",
    "\n",
    "_ = show_neural_results(df)\n",
    "len(df)"
   ]
  },
  {
   "cell_type": "code",
   "execution_count": null,
   "id": "d0c7db84",
   "metadata": {},
   "outputs": [],
   "source": []
  },
  {
   "cell_type": "code",
   "execution_count": null,
   "id": "91e53bf8",
   "metadata": {},
   "outputs": [],
   "source": [
    "inds = df['perf'].argsort()[::-1]\n",
    "df.iloc[inds]"
   ]
  },
  {
   "cell_type": "code",
   "execution_count": null,
   "id": "98f44f68",
   "metadata": {},
   "outputs": [],
   "source": []
  },
  {
   "cell_type": "code",
   "execution_count": null,
   "id": "8f522757",
   "metadata": {},
   "outputs": [],
   "source": []
  }
 ],
 "metadata": {
  "kernelspec": {
   "display_name": "Python 3 (ipykernel)",
   "language": "python",
   "name": "python3"
  },
  "language_info": {
   "codemirror_mode": {
    "name": "ipython",
    "version": 3
   },
   "file_extension": ".py",
   "mimetype": "text/x-python",
   "name": "python",
   "nbconvert_exporter": "python",
   "pygments_lexer": "ipython3",
   "version": "3.8.5"
  }
 },
 "nbformat": 4,
 "nbformat_minor": 5
}
