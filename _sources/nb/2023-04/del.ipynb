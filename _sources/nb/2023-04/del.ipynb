{
 "cells": [
  {
   "cell_type": "markdown",
   "id": "fe66e455",
   "metadata": {},
   "source": [
    "# (20) Load and plot readout results\n",
    "\n",
    "**Motivation**: <br>"
   ]
  },
  {
   "cell_type": "code",
   "execution_count": 1,
   "id": "5360bb70",
   "metadata": {
    "tags": [
     "hide-input"
    ]
   },
   "outputs": [],
   "source": [
    "# HIDE CODE\n",
    "\n",
    "\n",
    "import os, sys\n",
    "from IPython.display import display\n",
    "\n",
    "# tmp & extras dir\n",
    "git_dir = os.path.join(os.environ['HOME'], 'Dropbox/git')\n",
    "extras_dir = os.path.join(git_dir, 'jb-MTMST/_extras')\n",
    "fig_base_dir = os.path.join(git_dir, 'jb-MTMST/figs')\n",
    "tmp_dir = os.path.join(git_dir, 'jb-MTMST/tmp')\n",
    "\n",
    "# GitHub\n",
    "sys.path.insert(0, os.path.join(git_dir, '_MTMST'))\n",
    "from vae.train_vae import TrainerVAE, ConfigTrainVAE\n",
    "from vae.vae2d import VAE, ConfigVAE\n",
    "from figures.fighelper import *\n",
    "from analysis.glm import *\n",
    "\n",
    "\n",
    "# warnings, tqdm, & style\n",
    "warnings.filterwarnings('ignore', category=DeprecationWarning)\n",
    "from rich.jupyter import print\n",
    "%matplotlib inline\n",
    "set_style()"
   ]
  },
  {
   "cell_type": "markdown",
   "id": "8eaedcac",
   "metadata": {},
   "source": [
    "## Load"
   ]
  },
  {
   "cell_type": "code",
   "execution_count": 2,
   "id": "11962300",
   "metadata": {},
   "outputs": [
    {
     "data": {
      "text/html": [
       "<pre style=\"white-space:pre;overflow-x:auto;line-height:normal;font-family:Menlo,'DejaVu Sans Mono',consolas,'Courier New',monospace\"><span style=\"color: #008000; text-decoration-color: #008000\">'checkpoint'</span>: <span style=\"color: #008080; text-decoration-color: #008080; font-weight: bold\">400</span>\n",
       "</pre>\n"
      ],
      "text/plain": [
       "\u001b[32m'checkpoint'\u001b[0m: \u001b[1;36m400\u001b[0m\n"
      ]
     },
     "metadata": {},
     "output_type": "display_data"
    }
   ],
   "source": [
    "from base.utils_model import load_model\n",
    "\n",
    "tr, metadata = load_model(\n",
    "    model_name='fixate1_k-32_z-13x[3,6,12]_enc(1x3)-dec(1x2)-pre(1x3)-post(1x3)',\n",
    "    fit_name='ep400-b1000-lr(0.002)_beta(0.2:1x0.3)_lamb(0.0001)_gr(1000)_(2023_04_15,21:35)',\n",
    "    device='cpu', # 'cuda',\n",
    "    checkpoint=-1,\n",
    ")\n",
    "print(f\"'checkpoint': {metadata['checkpoint']}\")"
   ]
  },
  {
   "cell_type": "code",
   "execution_count": 4,
   "id": "f468df4c",
   "metadata": {},
   "outputs": [],
   "source": [
    "# grads = metadata['stats']['grad']"
   ]
  },
  {
   "cell_type": "code",
   "execution_count": 5,
   "id": "beaa8310",
   "metadata": {
    "scrolled": true
   },
   "outputs": [],
   "source": [
    "# plt.semilogy(grads.keys(), grads.values(), marker='.');"
   ]
  },
  {
   "cell_type": "code",
   "execution_count": 5,
   "id": "638457d1",
   "metadata": {},
   "outputs": [
    {
     "data": {
      "text/html": [
       "<pre style=\"white-space:pre;overflow-x:auto;line-height:normal;font-family:Menlo,'DejaVu Sans Mono',consolas,'Courier New',monospace\">+-----------+-----+-------+\n",
       "| Threshold |  #  |   %   |\n",
       "+-----------+-----+-------+\n",
       "|   <span style=\"color: #008080; text-decoration-color: #008080; font-weight: bold\">400.0</span>   | <span style=\"color: #008080; text-decoration-color: #008080; font-weight: bold\">511</span> | <span style=\"color: #008080; text-decoration-color: #008080; font-weight: bold\">0.608</span> |\n",
       "|   <span style=\"color: #008080; text-decoration-color: #008080; font-weight: bold\">800.0</span>   |  <span style=\"color: #008080; text-decoration-color: #008080; font-weight: bold\">30</span> | <span style=\"color: #008080; text-decoration-color: #008080; font-weight: bold\">0.036</span> |\n",
       "|   <span style=\"color: #008080; text-decoration-color: #008080; font-weight: bold\">2000.0</span>  |  <span style=\"color: #008080; text-decoration-color: #008080; font-weight: bold\">24</span> | <span style=\"color: #008080; text-decoration-color: #008080; font-weight: bold\">0.029</span> |\n",
       "|   <span style=\"color: #008080; text-decoration-color: #008080; font-weight: bold\">4000.0</span>  |  <span style=\"color: #008080; text-decoration-color: #008080; font-weight: bold\">22</span> | <span style=\"color: #008080; text-decoration-color: #008080; font-weight: bold\">0.026</span> |\n",
       "|   <span style=\"color: #008080; text-decoration-color: #008080; font-weight: bold\">8000.0</span>  |  <span style=\"color: #008080; text-decoration-color: #008080; font-weight: bold\">18</span> | <span style=\"color: #008080; text-decoration-color: #008080; font-weight: bold\">0.021</span> |\n",
       "|  <span style=\"color: #008080; text-decoration-color: #008080; font-weight: bold\">20000.0</span>  |  <span style=\"color: #008080; text-decoration-color: #008080; font-weight: bold\">15</span> | <span style=\"color: #008080; text-decoration-color: #008080; font-weight: bold\">0.018</span> |\n",
       "|  <span style=\"color: #008080; text-decoration-color: #008080; font-weight: bold\">40000.0</span>  |  <span style=\"color: #008080; text-decoration-color: #008080; font-weight: bold\">14</span> | <span style=\"color: #008080; text-decoration-color: #008080; font-weight: bold\">0.017</span> |\n",
       "|  <span style=\"color: #008080; text-decoration-color: #008080; font-weight: bold\">80000.0</span>  |  <span style=\"color: #008080; text-decoration-color: #008080; font-weight: bold\">12</span> | <span style=\"color: #008080; text-decoration-color: #008080; font-weight: bold\">0.014</span> |\n",
       "+-----------+-----+-------+ \n",
       "\n",
       "</pre>\n"
      ],
      "text/plain": [
       "+-----------+-----+-------+\n",
       "| Threshold |  #  |   %   |\n",
       "+-----------+-----+-------+\n",
       "|   \u001b[1;36m400.0\u001b[0m   | \u001b[1;36m511\u001b[0m | \u001b[1;36m0.608\u001b[0m |\n",
       "|   \u001b[1;36m800.0\u001b[0m   |  \u001b[1;36m30\u001b[0m | \u001b[1;36m0.036\u001b[0m |\n",
       "|   \u001b[1;36m2000.0\u001b[0m  |  \u001b[1;36m24\u001b[0m | \u001b[1;36m0.029\u001b[0m |\n",
       "|   \u001b[1;36m4000.0\u001b[0m  |  \u001b[1;36m22\u001b[0m | \u001b[1;36m0.026\u001b[0m |\n",
       "|   \u001b[1;36m8000.0\u001b[0m  |  \u001b[1;36m18\u001b[0m | \u001b[1;36m0.021\u001b[0m |\n",
       "|  \u001b[1;36m20000.0\u001b[0m  |  \u001b[1;36m15\u001b[0m | \u001b[1;36m0.018\u001b[0m |\n",
       "|  \u001b[1;36m40000.0\u001b[0m  |  \u001b[1;36m14\u001b[0m | \u001b[1;36m0.017\u001b[0m |\n",
       "|  \u001b[1;36m80000.0\u001b[0m  |  \u001b[1;36m12\u001b[0m | \u001b[1;36m0.014\u001b[0m |\n",
       "+-----------+-----+-------+ \n",
       "\n"
      ]
     },
     "metadata": {},
     "output_type": "display_data"
    }
   ],
   "source": [
    "thresholds = [\n",
    "    tr.cfg.grad_clip * i for i in\n",
    "    [1, 2, 5, 10, 20, 50, 100, 200]\n",
    "]\n",
    "bad = np.array(list(grads.values()))\n",
    "\n",
    "t = PrettyTable(['Threshold', '#', '%'])\n",
    "for thres in thresholds:\n",
    "    tot = (bad > thres).sum()\n",
    "    perc = tot / metadata['global_step']\n",
    "    perc = np.round(100 * perc, 3)\n",
    "    t.add_row([thres, tot, perc])\n",
    "print(t, '\\n')"
   ]
  },
  {
   "cell_type": "code",
   "execution_count": null,
   "id": "70f939b4",
   "metadata": {},
   "outputs": [],
   "source": []
  },
  {
   "cell_type": "code",
   "execution_count": 6,
   "id": "4942d81e",
   "metadata": {},
   "outputs": [
    {
     "data": {
      "text/plain": [
       "2752"
      ]
     },
     "execution_count": 6,
     "metadata": {},
     "output_type": "execute_result"
    }
   ],
   "source": [
    "nf = sum(tr.model.ftr_sizes()[0].values())\n",
    "nf"
   ]
  },
  {
   "cell_type": "markdown",
   "id": "c5ee691b",
   "metadata": {},
   "source": [
    "## Load Readout"
   ]
  },
  {
   "cell_type": "code",
   "execution_count": 6,
   "id": "5ae1d4f9",
   "metadata": {},
   "outputs": [],
   "source": [
    "fit_name = 'fixate1_nf-2752_(2023_04_20,19:16)'\n",
    "path = pjoin(tr.model.cfg.results_dir, 'Ridge', fit_name)"
   ]
  },
  {
   "cell_type": "code",
   "execution_count": 7,
   "id": "81512d7d",
   "metadata": {},
   "outputs": [
    {
     "name": "stderr",
     "output_type": "stream",
     "text": [
      "100%|████████████████████████████████████████████| 7/7 [00:00<00:00, 101.15it/s]\n"
     ]
    }
   ],
   "source": [
    "perf_raw, perf_all, alpha_all = [], [], []\n",
    "pix_ranks, pix_counts = [], []\n",
    "for f in tqdm(sorted(os.listdir(path))):\n",
    "    if not f.endswith('.pkl'):\n",
    "        continue\n",
    "    root = f.split('.')[0]\n",
    "    root, expt = root.split('-')\n",
    "    kws = dict(\n",
    "        tr=tr,\n",
    "        root=root,\n",
    "        expt=expt,\n",
    "        verbose=False,\n",
    "    )\n",
    "    ro = Readout(**kws).load(fit_name, 'cuda:2')\n",
    "    perf_raw.extend(list(ro.perf.values()))\n",
    "    alpha_all.extend([m.alpha for m in ro.mod.values()])\n",
    "\n",
    "    if ro.max_perf is not None:\n",
    "        for i, r in ro.perf.items():\n",
    "            perf_all.append(r / ro.max_perf[i])\n",
    "    else:\n",
    "        perf_all.extend(list(ro.perf.values()))\n",
    "    \n",
    "    # pixel stuff\n",
    "    for idx, best in ro.best_pix.items():\n",
    "        rank = np.where(np.all(\n",
    "            ro.sorted_pix[idx] == best,\n",
    "            axis=1\n",
    "        ))[0][0]\n",
    "        count = collections.Counter([\n",
    "            tuple(e) for e in\n",
    "            ro.best_pix_all[idx]\n",
    "        ])\n",
    "        count = count.get(best, 0)\n",
    "\n",
    "        pix_ranks.append(rank) \n",
    "        pix_counts.append(count)"
   ]
  },
  {
   "cell_type": "code",
   "execution_count": 8,
   "id": "54cdc1dd",
   "metadata": {},
   "outputs": [
    {
     "data": {
      "text/plain": [
       "(5, 0.35037239953398946, 0.35037239953398946)"
      ]
     },
     "execution_count": 8,
     "metadata": {},
     "output_type": "execute_result"
    }
   ],
   "source": [
    "len(perf_all), np.mean(perf_raw), np.mean(perf_all)"
   ]
  },
  {
   "cell_type": "code",
   "execution_count": 9,
   "id": "278359a8",
   "metadata": {},
   "outputs": [
    {
     "data": {
      "text/plain": [
       "[0.13161761655338194,\n",
       " 0.29448376830763395,\n",
       " 0.3702581506090746,\n",
       " 0.4104967780190537,\n",
       " 0.5450056841808034]"
      ]
     },
     "execution_count": 9,
     "metadata": {},
     "output_type": "execute_result"
    }
   ],
   "source": [
    "perf_all"
   ]
  },
  {
   "cell_type": "code",
   "execution_count": null,
   "id": "f925e535",
   "metadata": {},
   "outputs": [],
   "source": []
  },
  {
   "cell_type": "code",
   "execution_count": 25,
   "id": "c9cdad1a",
   "metadata": {},
   "outputs": [
    {
     "data": {
      "image/png": "[encoded data removed]",
      "text/plain": [
       "<Figure size 500x320 with 1 Axes>"
      ]
     },
     "metadata": {},
     "output_type": "display_data"
    }
   ],
   "source": [
    "ax = sns.histplot(perf_all, bins=np.linspace(0, 1, 41))\n",
    "ax.locator_params(axis='x', nbins=10)\n",
    "ax.set(xlim=(0, 1));"
   ]
  },
  {
   "cell_type": "code",
   "execution_count": 26,
   "id": "ff2136ec",
   "metadata": {},
   "outputs": [
    {
     "data": {
      "image/png": "[encoded data removed]",
      "text/plain": [
       "<Figure size 1100x300 with 2 Axes>"
      ]
     },
     "metadata": {},
     "output_type": "display_data"
    },
    {
     "data": {
      "text/plain": [
       "0.5104418015793724"
      ]
     },
     "execution_count": 26,
     "metadata": {},
     "output_type": "execute_result"
    }
   ],
   "source": [
    "fig, axes = create_figure(1, 2, (11, 3))\n",
    "sns.histplot(perf_all, bins=np.linspace(0, 1, 41), ax=axes[0])\n",
    "avg = np.mean(perf_all)\n",
    "axes[0].axvline(avg, color='r', ls='--', label=f\"avg = {avg:0.3f}\")\n",
    "axes[0].locator_params(axis='x', nbins=10)\n",
    "axes[0].set(xlabel=r'$r$')\n",
    "axes[0].legend()\n",
    "axes[0].set_xlim(0, 1)\n",
    "\n",
    "sns.histplot(np.log10(alpha_all), bins=np.linspace(-1, 8, 10) - 0.5, ax=axes[1])\n",
    "axes[1].locator_params(axis='x', nbins=10)\n",
    "axes[1].set(ylabel='', xlabel=r'$\\alpha$')\n",
    "\n",
    "plt.show()\n",
    "\n",
    "avg"
   ]
  },
  {
   "cell_type": "code",
   "execution_count": 27,
   "id": "a4366110",
   "metadata": {},
   "outputs": [
    {
     "data": {
      "image/png": "[encoded data removed]",
      "text/plain": [
       "<Figure size 1100x300 with 2 Axes>"
      ]
     },
     "metadata": {},
     "output_type": "display_data"
    }
   ],
   "source": [
    "fig, axes = create_figure(1, 2, (11, 3))\n",
    "\n",
    "sns.histplot(pix_ranks, bins=np.linspace(0, 8, 9) - 0.5, ax=axes[0])\n",
    "axes[0].locator_params(axis='x', nbins=10)\n",
    "axes[0].set(ylabel='', xlabel='pixel rank (0 means top norm in self.spatial)')\n",
    "\n",
    "sns.histplot(pix_counts, bins=np.linspace(0, 14, 15) - 0.5, ax=axes[1])\n",
    "axes[1].locator_params(axis='x', nbins=15)\n",
    "axes[1].set(ylabel='', xlabel='pixel count (if it was top in a given lag)')\n",
    "\n",
    "plt.show()"
   ]
  },
  {
   "cell_type": "code",
   "execution_count": null,
   "id": "43b0bc04",
   "metadata": {},
   "outputs": [],
   "source": []
  },
  {
   "cell_type": "code",
   "execution_count": null,
   "id": "0a4e8ede",
   "metadata": {},
   "outputs": [],
   "source": []
  },
  {
   "cell_type": "code",
   "execution_count": 34,
   "id": "111c7992",
   "metadata": {},
   "outputs": [
    {
     "name": "stderr",
     "output_type": "stream",
     "text": [
      "100%|██████████| 61/61 [00:02<00:00, 28.95it/s] \n"
     ]
    }
   ],
   "source": [
    "best_lag_all = []\n",
    "for f in tqdm(sorted(os.listdir(path))):\n",
    "    if not f.endswith('.pkl'):\n",
    "        continue\n",
    "    root = f.split('.')[0]\n",
    "    root, expt = root.split('-')\n",
    "    kws = dict(\n",
    "        tr=tr,\n",
    "        root=root,\n",
    "        expt=expt,\n",
    "        verbose=False,\n",
    "    )\n",
    "    ro = Readout(**kws).load(fit_name, 'cuda:2')\n",
    "    best_lag_all.extend(list(ro.best_lags))"
   ]
  },
  {
   "cell_type": "code",
   "execution_count": 51,
   "id": "2f967324",
   "metadata": {},
   "outputs": [
    {
     "data": {
      "image/png": "[encoded data removed]",
      "text/plain": [
       "<Figure size 1000x300 with 1 Axes>"
      ]
     },
     "metadata": {},
     "output_type": "display_data"
    }
   ],
   "source": [
    "fig, ax = create_figure(1, 1, (10, 3))\n",
    "sns.histplot(best_lag_all, bins=np.linspace(0, 21, 22) - 0.5, ax=ax)\n",
    "ax.locator_params(axis='x', nbins=24)"
   ]
  },
  {
   "cell_type": "code",
   "execution_count": null,
   "id": "bbae80ea",
   "metadata": {},
   "outputs": [],
   "source": []
  },
  {
   "cell_type": "code",
   "execution_count": 52,
   "id": "bedba7db",
   "metadata": {},
   "outputs": [
    {
     "data": {
      "text/plain": [
       "'YUWEI-ytu029'"
      ]
     },
     "execution_count": 52,
     "metadata": {},
     "output_type": "execute_result"
    }
   ],
   "source": [
    "ro.name()"
   ]
  },
  {
   "cell_type": "code",
   "execution_count": 53,
   "id": "f6e8f0ac",
   "metadata": {},
   "outputs": [
    {
     "data": {
      "text/plain": [
       "{0: 0.1040044907322527,\n",
       " 1: 0.4360466153773416,\n",
       " 2: 0.31633306447742704,\n",
       " 3: 0.3544574026497518,\n",
       " 4: 0.8206905335123917,\n",
       " 5: 0.2828317705477584,\n",
       " 6: 0.31989903465936664,\n",
       " 7: 0.14737506487696467,\n",
       " 8: 0.5534566705626145,\n",
       " 9: 0.48721576839402975,\n",
       " 12: 0.14246210802680204,\n",
       " 13: 0.12138484194414599,\n",
       " 15: 0.5397319499437503,\n",
       " 16: 0.42146193141461,\n",
       " 17: 0.4852431609643415,\n",
       " 18: 0.1944878144793781,\n",
       " 19: 0.3499528197332127,\n",
       " 20: 0.2323178544653955,\n",
       " 21: 0.1611313238266908,\n",
       " 22: 0.6407801728198075,\n",
       " 23: 0.697364118530261}"
      ]
     },
     "execution_count": 53,
     "metadata": {},
     "output_type": "execute_result"
    }
   ],
   "source": [
    "ro.perf"
   ]
  },
  {
   "cell_type": "code",
   "execution_count": 60,
   "id": "d4cffa89",
   "metadata": {},
   "outputs": [
    {
     "data": {
      "text/plain": [
       "array([11,  0, 20, 12,  2,  0,  3, 20,  2,  2, 20, 20, 20, 20,  2,  0,  6,\n",
       "        4, 15,  0,  2, 15,  5,  3])"
      ]
     },
     "execution_count": 60,
     "metadata": {},
     "output_type": "execute_result"
    }
   ],
   "source": [
    "ro.best_lags"
   ]
  },
  {
   "cell_type": "code",
   "execution_count": 62,
   "id": "c2f97519",
   "metadata": {},
   "outputs": [
    {
     "data": {
      "text/plain": [
       "0.3718394529494426"
      ]
     },
     "execution_count": 62,
     "metadata": {},
     "output_type": "execute_result"
    }
   ],
   "source": [
    "np.mean(list(ro.perf.values()))"
   ]
  },
  {
   "cell_type": "code",
   "execution_count": 65,
   "id": "d81683be",
   "metadata": {},
   "outputs": [
    {
     "data": {
      "text/plain": [
       "array([0.33108475, 0.87946936, 0.66127801, 0.66874722, 0.93558345,\n",
       "       0.50904479, 0.62691563, 0.50264635, 0.84960201, 0.79756451,\n",
       "       0.87772498, 0.90904363, 0.32449578, 0.26745876, 0.89406833,\n",
       "       0.8621174 , 0.94587316, 0.94132411, 0.9341642 , 0.94125361,\n",
       "       0.95839459, 0.84670991, 0.93003266, 0.9468225 ])"
      ]
     },
     "execution_count": 65,
     "metadata": {},
     "output_type": "execute_result"
    }
   ],
   "source": [
    "ro.max_perf"
   ]
  },
  {
   "cell_type": "code",
   "execution_count": null,
   "id": "054b92b4",
   "metadata": {},
   "outputs": [],
   "source": []
  },
  {
   "cell_type": "code",
   "execution_count": 74,
   "id": "bf0197d5",
   "metadata": {},
   "outputs": [
    {
     "data": {
      "image/png": "[encoded data removed]",
      "text/plain": [
       "<Figure size 500x320 with 1 Axes>"
      ]
     },
     "metadata": {},
     "output_type": "display_data"
    }
   ],
   "source": [
    "plt.plot(ro.max_perf[list(ro.perf)], marker='o')\n",
    "plt.plot(ro.perf.values(), marker='o')\n",
    "plt.grid();"
   ]
  },
  {
   "cell_type": "code",
   "execution_count": null,
   "id": "0de3dab3",
   "metadata": {},
   "outputs": [],
   "source": []
  },
  {
   "cell_type": "code",
   "execution_count": 76,
   "id": "e7b1c7c5",
   "metadata": {},
   "outputs": [
    {
     "data": {
      "text/plain": [
       "(20, 0.12138484194414599)"
      ]
     },
     "execution_count": 76,
     "metadata": {},
     "output_type": "execute_result"
    }
   ],
   "source": [
    "ro.best_lags[13], ro.perf[13]"
   ]
  },
  {
   "cell_type": "code",
   "execution_count": null,
   "id": "b44a9806",
   "metadata": {},
   "outputs": [],
   "source": []
  },
  {
   "cell_type": "code",
   "execution_count": 58,
   "id": "f3187dff",
   "metadata": {},
   "outputs": [
    {
     "data": {
      "text/plain": [
       "array([1.e-01, 1.e+00, 1.e+01, 1.e+02, 1.e+03, 1.e+04, 1.e+05, 1.e+06,\n",
       "       1.e+07])"
      ]
     },
     "execution_count": 58,
     "metadata": {},
     "output_type": "execute_result"
    }
   ],
   "source": [
    "np.logspace(-1, 7, num=9)"
   ]
  },
  {
   "cell_type": "code",
   "execution_count": null,
   "id": "0f58337e",
   "metadata": {},
   "outputs": [],
   "source": []
  },
  {
   "cell_type": "code",
   "execution_count": null,
   "id": "a5be2058",
   "metadata": {},
   "outputs": [],
   "source": []
  },
  {
   "cell_type": "code",
   "execution_count": null,
   "id": "53055972",
   "metadata": {},
   "outputs": [],
   "source": []
  },
  {
   "cell_type": "code",
   "execution_count": 4,
   "id": "e4943acf",
   "metadata": {},
   "outputs": [],
   "source": [
    "fit_name = \"fixate1_nf-2752_(2023_04_20,18:54)/Trainer\""
   ]
  },
  {
   "cell_type": "code",
   "execution_count": 5,
   "id": "35f36882",
   "metadata": {},
   "outputs": [
    {
     "ename": "FileNotFoundError",
     "evalue": "[Errno 2] No such file or directory: 'fixate1_nf-2752_(2023_04_20,18:54)/Trainer'",
     "output_type": "error",
     "traceback": [
      "\u001b[0;31m---------------------------------------------------------------------------\u001b[0m",
      "\u001b[0;31mFileNotFoundError\u001b[0m                         Traceback (most recent call last)",
      "Cell \u001b[0;32mIn[5], line 1\u001b[0m\n\u001b[0;32m----> 1\u001b[0m \u001b[43mos\u001b[49m\u001b[38;5;241;43m.\u001b[39;49m\u001b[43mlistdir\u001b[49m\u001b[43m(\u001b[49m\u001b[43mfit_name\u001b[49m\u001b[43m)\u001b[49m\n",
      "\u001b[0;31mFileNotFoundError\u001b[0m: [Errno 2] No such file or directory: 'fixate1_nf-2752_(2023_04_20,18:54)/Trainer'"
     ]
    }
   ],
   "source": [
    "os.listdir(fit_name)"
   ]
  },
  {
   "cell_type": "code",
   "execution_count": null,
   "id": "f64aa3e8",
   "metadata": {},
   "outputs": [],
   "source": []
  },
  {
   "cell_type": "code",
   "execution_count": null,
   "id": "a6114c08",
   "metadata": {},
   "outputs": [],
   "source": []
  },
  {
   "cell_type": "code",
   "execution_count": null,
   "id": "3dd60236",
   "metadata": {},
   "outputs": [],
   "source": []
  }
 ],
 "metadata": {
  "kernelspec": {
   "display_name": "Python 3 (ipykernel)",
   "language": "python",
   "name": "python3"
  },
  "language_info": {
   "codemirror_mode": {
    "name": "ipython",
    "version": 3
   },
   "file_extension": ".py",
   "mimetype": "text/x-python",
   "name": "python",
   "nbconvert_exporter": "python",
   "pygments_lexer": "ipython3",
   "version": "3.8.5"
  }
 },
 "nbformat": 4,
 "nbformat_minor": 5
}
