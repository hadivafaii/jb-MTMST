{
 "cells": [
  {
   "cell_type": "markdown",
   "id": "a9736f88",
   "metadata": {},
   "source": [
    "# (09) Sim -- generate & save ```dim=65```\n",
    "\n",
    "**Motivation**: Generate and save $n=750 k$ frames per condition. <br>"
   ]
  },
  {
   "cell_type": "code",
   "execution_count": 1,
   "id": "5360bb70",
   "metadata": {
    "tags": [
     "hide-input"
    ]
   },
   "outputs": [],
   "source": [
    "# HIDE CODE\n",
    "\n",
    "\n",
    "import os, sys\n",
    "from IPython.display import display, IFrame, HTML\n",
    "\n",
    "# tmp & extras dir\n",
    "git_dir = os.path.join(os.environ['HOME'], 'Dropbox/git')\n",
    "extras_dir = os.path.join(git_dir, 'jb-MTMST/_extras')\n",
    "fig_base_dir = os.path.join(git_dir, 'jb-MTMST/figs')\n",
    "tmp_dir = os.path.join(git_dir, 'jb-MTMST/tmp')\n",
    "\n",
    "# GitHub\n",
    "sys.path.insert(0, os.path.join(git_dir, '_MTMST'))\n",
    "from figures.fighelper import *\n",
    "from analysis.opticflow import *\n",
    "\n",
    "# warnings, tqdm, & style\n",
    "warnings.filterwarnings('ignore', category=DeprecationWarning)\n",
    "from rich.jupyter import print\n",
    "%matplotlib inline\n",
    "set_style()"
   ]
  },
  {
   "cell_type": "markdown",
   "id": "69e4c16b",
   "metadata": {},
   "source": [
    "## Prepare"
   ]
  },
  {
   "cell_type": "code",
   "execution_count": 2,
   "id": "e3b81a63",
   "metadata": {},
   "outputs": [
    {
     "data": {
      "text/html": [
       "<pre style=\"white-space:pre;overflow-x:auto;line-height:normal;font-family:Menlo,'DejaVu Sans Mono',consolas,'Courier New',monospace\"><span style=\"font-weight: bold\">{</span>\n",
       "    <span style=\"color: #008000; text-decoration-color: #008000\">'n'</span>: <span style=\"color: #008080; text-decoration-color: #008080; font-weight: bold\">10000</span>,\n",
       "    <span style=\"color: #008000; text-decoration-color: #008000\">'dim'</span>: <span style=\"color: #008080; text-decoration-color: #008080; font-weight: bold\">65</span>,\n",
       "    <span style=\"color: #008000; text-decoration-color: #008000\">'fov'</span>: <span style=\"color: #008080; text-decoration-color: #008080; font-weight: bold\">45.0</span>,\n",
       "    <span style=\"color: #008000; text-decoration-color: #008000\">'obj_r'</span>: <span style=\"color: #008080; text-decoration-color: #008080; font-weight: bold\">0.2</span>,\n",
       "    <span style=\"color: #008000; text-decoration-color: #008000\">'obj_bound'</span>: <span style=\"color: #008080; text-decoration-color: #008080; font-weight: bold\">0.97</span>,\n",
       "    <span style=\"color: #008000; text-decoration-color: #008000\">'obj_zlim'</span>: <span style=\"font-weight: bold\">(</span><span style=\"color: #008080; text-decoration-color: #008080; font-weight: bold\">0.5</span>, <span style=\"color: #008080; text-decoration-color: #008080; font-weight: bold\">1.0</span><span style=\"font-weight: bold\">)</span>,\n",
       "    <span style=\"color: #008000; text-decoration-color: #008000\">'vlim_obj'</span>: <span style=\"font-weight: bold\">(</span><span style=\"color: #008080; text-decoration-color: #008080; font-weight: bold\">0.01</span>, <span style=\"color: #008080; text-decoration-color: #008080; font-weight: bold\">5.0</span><span style=\"font-weight: bold\">)</span>,\n",
       "    <span style=\"color: #008000; text-decoration-color: #008000\">'vlim_slf'</span>: <span style=\"font-weight: bold\">(</span><span style=\"color: #008080; text-decoration-color: #008080; font-weight: bold\">0.01</span>, <span style=\"color: #008080; text-decoration-color: #008080; font-weight: bold\">5.0</span><span style=\"font-weight: bold\">)</span>,\n",
       "    <span style=\"color: #008000; text-decoration-color: #008000\">'residual'</span>: <span style=\"color: #ff0000; text-decoration-color: #ff0000; font-style: italic\">False</span>,\n",
       "    <span style=\"color: #008000; text-decoration-color: #008000\">'z_bg'</span>: <span style=\"color: #008080; text-decoration-color: #008080; font-weight: bold\">1.0</span>,\n",
       "    <span style=\"color: #008000; text-decoration-color: #008000\">'seed'</span>: <span style=\"color: #008080; text-decoration-color: #008080; font-weight: bold\">0</span>\n",
       "<span style=\"font-weight: bold\">}</span>\n",
       "</pre>\n"
      ],
      "text/plain": [
       "\u001b[1m{\u001b[0m\n",
       "    \u001b[32m'n'\u001b[0m: \u001b[1;36m10000\u001b[0m,\n",
       "    \u001b[32m'dim'\u001b[0m: \u001b[1;36m65\u001b[0m,\n",
       "    \u001b[32m'fov'\u001b[0m: \u001b[1;36m45.0\u001b[0m,\n",
       "    \u001b[32m'obj_r'\u001b[0m: \u001b[1;36m0.2\u001b[0m,\n",
       "    \u001b[32m'obj_bound'\u001b[0m: \u001b[1;36m0.97\u001b[0m,\n",
       "    \u001b[32m'obj_zlim'\u001b[0m: \u001b[1m(\u001b[0m\u001b[1;36m0.5\u001b[0m, \u001b[1;36m1.0\u001b[0m\u001b[1m)\u001b[0m,\n",
       "    \u001b[32m'vlim_obj'\u001b[0m: \u001b[1m(\u001b[0m\u001b[1;36m0.01\u001b[0m, \u001b[1;36m5.0\u001b[0m\u001b[1m)\u001b[0m,\n",
       "    \u001b[32m'vlim_slf'\u001b[0m: \u001b[1m(\u001b[0m\u001b[1;36m0.01\u001b[0m, \u001b[1;36m5.0\u001b[0m\u001b[1m)\u001b[0m,\n",
       "    \u001b[32m'residual'\u001b[0m: \u001b[3;91mFalse\u001b[0m,\n",
       "    \u001b[32m'z_bg'\u001b[0m: \u001b[1;36m1.0\u001b[0m,\n",
       "    \u001b[32m'seed'\u001b[0m: \u001b[1;36m0\u001b[0m\n",
       "\u001b[1m}\u001b[0m\n"
      ]
     },
     "metadata": {},
     "output_type": "display_data"
    }
   ],
   "source": [
    "kws = dict(\n",
    "    n=int(1e4),\n",
    "    dim=65,\n",
    "    fov=45.0,\n",
    "    obj_r=0.2,\n",
    "    obj_bound=0.97,\n",
    "    obj_zlim=(0.5, 1.0),\n",
    "    vlim_obj=(0.01, 5.0),\n",
    "    vlim_slf=(0.01, 5.0),\n",
    "    residual=False,\n",
    "    z_bg=1.0,\n",
    "    seed=0,\n",
    ")\n",
    "print(kws)\n",
    "\n",
    "min_obj_size = 6"
   ]
  },
  {
   "cell_type": "code",
   "execution_count": 3,
   "id": "7a96ce2e",
   "metadata": {},
   "outputs": [
    {
     "data": {
      "text/html": [
       "<pre style=\"white-space:pre;overflow-x:auto;line-height:normal;font-family:Menlo,'DejaVu Sans Mono',consolas,'Courier New',monospace\"><span style=\"font-weight: bold\">[</span>\n",
       "    <span style=\"font-weight: bold\">(</span><span style=\"color: #008000; text-decoration-color: #008000\">'fixate'</span>, <span style=\"color: #008080; text-decoration-color: #008080; font-weight: bold\">0</span><span style=\"font-weight: bold\">)</span>,\n",
       "    <span style=\"font-weight: bold\">(</span><span style=\"color: #008000; text-decoration-color: #008000\">'fixate'</span>, <span style=\"color: #008080; text-decoration-color: #008080; font-weight: bold\">1</span><span style=\"font-weight: bold\">)</span>,\n",
       "    <span style=\"font-weight: bold\">(</span><span style=\"color: #008000; text-decoration-color: #008000\">'fixate'</span>, <span style=\"color: #008080; text-decoration-color: #008080; font-weight: bold\">2</span><span style=\"font-weight: bold\">)</span>,\n",
       "    <span style=\"font-weight: bold\">(</span><span style=\"color: #008000; text-decoration-color: #008000\">'fixate'</span>, <span style=\"color: #008080; text-decoration-color: #008080; font-weight: bold\">4</span><span style=\"font-weight: bold\">)</span>,\n",
       "    <span style=\"font-weight: bold\">(</span><span style=\"color: #008000; text-decoration-color: #008000\">'fixate'</span>, <span style=\"color: #008080; text-decoration-color: #008080; font-weight: bold\">8</span><span style=\"font-weight: bold\">)</span>,\n",
       "    <span style=\"font-weight: bold\">(</span><span style=\"color: #008000; text-decoration-color: #008000\">'obj'</span>, <span style=\"color: #008080; text-decoration-color: #008080; font-weight: bold\">1</span><span style=\"font-weight: bold\">)</span>,\n",
       "    <span style=\"font-weight: bold\">(</span><span style=\"color: #008000; text-decoration-color: #008000\">'obj'</span>, <span style=\"color: #008080; text-decoration-color: #008080; font-weight: bold\">2</span><span style=\"font-weight: bold\">)</span>,\n",
       "    <span style=\"font-weight: bold\">(</span><span style=\"color: #008000; text-decoration-color: #008000\">'obj'</span>, <span style=\"color: #008080; text-decoration-color: #008080; font-weight: bold\">4</span><span style=\"font-weight: bold\">)</span>,\n",
       "    <span style=\"font-weight: bold\">(</span><span style=\"color: #008000; text-decoration-color: #008000\">'obj'</span>, <span style=\"color: #008080; text-decoration-color: #008080; font-weight: bold\">8</span><span style=\"font-weight: bold\">)</span>,\n",
       "    <span style=\"font-weight: bold\">(</span><span style=\"color: #008000; text-decoration-color: #008000\">'terrain'</span>, <span style=\"color: #008080; text-decoration-color: #008080; font-weight: bold\">4</span><span style=\"font-weight: bold\">)</span>,\n",
       "    <span style=\"font-weight: bold\">(</span><span style=\"color: #008000; text-decoration-color: #008000\">'terrain'</span>, <span style=\"color: #008080; text-decoration-color: #008080; font-weight: bold\">8</span><span style=\"font-weight: bold\">)</span>,\n",
       "    <span style=\"font-weight: bold\">(</span><span style=\"color: #008000; text-decoration-color: #008000\">'terrain'</span>, <span style=\"color: #008080; text-decoration-color: #008080; font-weight: bold\">16</span><span style=\"font-weight: bold\">)</span>,\n",
       "    <span style=\"font-weight: bold\">(</span><span style=\"color: #008000; text-decoration-color: #008000\">'transl'</span>, <span style=\"color: #008080; text-decoration-color: #008080; font-weight: bold\">0</span><span style=\"font-weight: bold\">)</span>,\n",
       "    <span style=\"font-weight: bold\">(</span><span style=\"color: #008000; text-decoration-color: #008000\">'transl'</span>, <span style=\"color: #008080; text-decoration-color: #008080; font-weight: bold\">2</span><span style=\"font-weight: bold\">)</span>,\n",
       "    <span style=\"font-weight: bold\">(</span><span style=\"color: #008000; text-decoration-color: #008000\">'transl'</span>, <span style=\"color: #008080; text-decoration-color: #008080; font-weight: bold\">4</span><span style=\"font-weight: bold\">)</span>\n",
       "<span style=\"font-weight: bold\">]</span>\n",
       "</pre>\n"
      ],
      "text/plain": [
       "\u001b[1m[\u001b[0m\n",
       "    \u001b[1m(\u001b[0m\u001b[32m'fixate'\u001b[0m, \u001b[1;36m0\u001b[0m\u001b[1m)\u001b[0m,\n",
       "    \u001b[1m(\u001b[0m\u001b[32m'fixate'\u001b[0m, \u001b[1;36m1\u001b[0m\u001b[1m)\u001b[0m,\n",
       "    \u001b[1m(\u001b[0m\u001b[32m'fixate'\u001b[0m, \u001b[1;36m2\u001b[0m\u001b[1m)\u001b[0m,\n",
       "    \u001b[1m(\u001b[0m\u001b[32m'fixate'\u001b[0m, \u001b[1;36m4\u001b[0m\u001b[1m)\u001b[0m,\n",
       "    \u001b[1m(\u001b[0m\u001b[32m'fixate'\u001b[0m, \u001b[1;36m8\u001b[0m\u001b[1m)\u001b[0m,\n",
       "    \u001b[1m(\u001b[0m\u001b[32m'obj'\u001b[0m, \u001b[1;36m1\u001b[0m\u001b[1m)\u001b[0m,\n",
       "    \u001b[1m(\u001b[0m\u001b[32m'obj'\u001b[0m, \u001b[1;36m2\u001b[0m\u001b[1m)\u001b[0m,\n",
       "    \u001b[1m(\u001b[0m\u001b[32m'obj'\u001b[0m, \u001b[1;36m4\u001b[0m\u001b[1m)\u001b[0m,\n",
       "    \u001b[1m(\u001b[0m\u001b[32m'obj'\u001b[0m, \u001b[1;36m8\u001b[0m\u001b[1m)\u001b[0m,\n",
       "    \u001b[1m(\u001b[0m\u001b[32m'terrain'\u001b[0m, \u001b[1;36m4\u001b[0m\u001b[1m)\u001b[0m,\n",
       "    \u001b[1m(\u001b[0m\u001b[32m'terrain'\u001b[0m, \u001b[1;36m8\u001b[0m\u001b[1m)\u001b[0m,\n",
       "    \u001b[1m(\u001b[0m\u001b[32m'terrain'\u001b[0m, \u001b[1;36m16\u001b[0m\u001b[1m)\u001b[0m,\n",
       "    \u001b[1m(\u001b[0m\u001b[32m'transl'\u001b[0m, \u001b[1;36m0\u001b[0m\u001b[1m)\u001b[0m,\n",
       "    \u001b[1m(\u001b[0m\u001b[32m'transl'\u001b[0m, \u001b[1;36m2\u001b[0m\u001b[1m)\u001b[0m,\n",
       "    \u001b[1m(\u001b[0m\u001b[32m'transl'\u001b[0m, \u001b[1;36m4\u001b[0m\u001b[1m)\u001b[0m\n",
       "\u001b[1m]\u001b[0m\n"
      ]
     },
     "metadata": {},
     "output_type": "display_data"
    }
   ],
   "source": [
    "combos = [\n",
    "    ('fixate', 0), ('fixate', 1), ('fixate', 2), ('fixate', 4), ('fixate', 8),\n",
    "    ('obj', 1), ('obj', 2), ('obj', 4), ('obj', 8),\n",
    "    ('terrain', 4), ('terrain', 8), ('terrain', 16),\n",
    "    ('transl', 0), ('transl', 2), ('transl', 4),\n",
    "]\n",
    "print(combos)"
   ]
  },
  {
   "cell_type": "code",
   "execution_count": 4,
   "id": "b8ed16fb",
   "metadata": {},
   "outputs": [
    {
     "data": {
      "text/html": [
       "<pre style=\"white-space:pre;overflow-x:auto;line-height:normal;font-family:Menlo,'DejaVu Sans Mono',consolas,'Courier New',monospace\"><span style=\"font-weight: bold\">{</span><span style=\"color: #008080; text-decoration-color: #008080; font-weight: bold\">0</span>: <span style=\"color: #800080; text-decoration-color: #800080; font-style: italic\">None</span>, <span style=\"color: #008080; text-decoration-color: #008080; font-weight: bold\">1</span>: <span style=\"color: #800080; text-decoration-color: #800080; font-style: italic\">None</span>, <span style=\"color: #008080; text-decoration-color: #008080; font-weight: bold\">2</span>: <span style=\"color: #800080; text-decoration-color: #800080; font-style: italic\">None</span>, <span style=\"color: #008080; text-decoration-color: #008080; font-weight: bold\">4</span>: <span style=\"color: #008080; text-decoration-color: #008080; font-weight: bold\">3</span>, <span style=\"color: #008080; text-decoration-color: #008080; font-weight: bold\">8</span>: <span style=\"color: #008080; text-decoration-color: #008080; font-weight: bold\">7</span>, <span style=\"color: #008080; text-decoration-color: #008080; font-weight: bold\">16</span>: <span style=\"color: #008080; text-decoration-color: #008080; font-weight: bold\">14</span><span style=\"font-weight: bold\">}</span>\n",
       "</pre>\n"
      ],
      "text/plain": [
       "\u001b[1m{\u001b[0m\u001b[1;36m0\u001b[0m: \u001b[3;35mNone\u001b[0m, \u001b[1;36m1\u001b[0m: \u001b[3;35mNone\u001b[0m, \u001b[1;36m2\u001b[0m: \u001b[3;35mNone\u001b[0m, \u001b[1;36m4\u001b[0m: \u001b[1;36m3\u001b[0m, \u001b[1;36m8\u001b[0m: \u001b[1;36m7\u001b[0m, \u001b[1;36m16\u001b[0m: \u001b[1;36m14\u001b[0m\u001b[1m}\u001b[0m\n"
      ]
     },
     "metadata": {},
     "output_type": "display_data"
    }
   ],
   "source": [
    "accept_n = {\n",
    "    0: None,\n",
    "    1: None,\n",
    "    2: None,\n",
    "    4: 3,\n",
    "    8: 7,\n",
    "    16: 14,\n",
    "}\n",
    "print(accept_n)"
   ]
  },
  {
   "cell_type": "markdown",
   "id": "7b5b7cbb",
   "metadata": {},
   "source": [
    "## Generate"
   ]
  },
  {
   "cell_type": "code",
   "execution_count": 5,
   "id": "7ccfd80b",
   "metadata": {},
   "outputs": [
    {
     "data": {
      "text/plain": [
       "750000"
      ]
     },
     "execution_count": 5,
     "metadata": {},
     "output_type": "execute_result"
    }
   ],
   "source": [
    "from utils.process import generate_simulation, save_simulation\n",
    "save_dir = '/home/hadi/Documents/MTMST/data'\n",
    "\n",
    "total = int(750e3)\n",
    "total"
   ]
  },
  {
   "cell_type": "code",
   "execution_count": null,
   "id": "19fe105c",
   "metadata": {},
   "outputs": [
    {
     "name": "stderr",
     "output_type": "stream",
     "text": [
      "\r",
      "  0%|          | 0/15 [00:00<?, ?it/s]"
     ]
    },
    {
     "data": {
      "text/html": [
       "<pre style=\"white-space:pre;overflow-x:auto;line-height:normal;font-family:Menlo,'DejaVu Sans Mono',consolas,'Courier New',monospace\">fixate0_dim-65_n-750k   saved at        \n",
       "<span style=\"color: #800080; text-decoration-color: #800080\">/home/hadi/Documents/MTMST/data/fixate0_dim-65_n-750k/</span><span style=\"color: #ff00ff; text-decoration-color: #ff00ff\">tst</span>\n",
       "</pre>\n"
      ],
      "text/plain": [
       "fixate0_dim-65_n-750k   saved at        \n",
       "\u001b[35m/home/hadi/Documents/MTMST/data/fixate0_dim-65_n-750k/\u001b[0m\u001b[95mtst\u001b[0m\n"
      ]
     },
     "metadata": {},
     "output_type": "display_data"
    },
    {
     "name": "stderr",
     "output_type": "stream",
     "text": [
      "\r",
      "  7%|▋         | 1/15 [53:42<12:31:55, 3222.56s/it]"
     ]
    },
    {
     "data": {
      "text/html": [
       "<pre style=\"white-space:pre;overflow-x:auto;line-height:normal;font-family:Menlo,'DejaVu Sans Mono',consolas,'Courier New',monospace\">fixate1_dim-65_n-750k   saved at        \n",
       "<span style=\"color: #800080; text-decoration-color: #800080\">/home/hadi/Documents/MTMST/data/fixate1_dim-65_n-750k/</span><span style=\"color: #ff00ff; text-decoration-color: #ff00ff\">tst</span>\n",
       "</pre>\n"
      ],
      "text/plain": [
       "fixate1_dim-65_n-750k   saved at        \n",
       "\u001b[35m/home/hadi/Documents/MTMST/data/fixate1_dim-65_n-750k/\u001b[0m\u001b[95mtst\u001b[0m\n"
      ]
     },
     "metadata": {},
     "output_type": "display_data"
    },
    {
     "name": "stderr",
     "output_type": "stream",
     "text": [
      "\r",
      " 13%|█▎        | 2/15 [2:51:55<19:51:32, 5499.39s/it]"
     ]
    },
    {
     "data": {
      "text/html": [
       "<pre style=\"white-space:pre;overflow-x:auto;line-height:normal;font-family:Menlo,'DejaVu Sans Mono',consolas,'Courier New',monospace\">fixate2_dim-65_n-750k   saved at        \n",
       "<span style=\"color: #800080; text-decoration-color: #800080\">/home/hadi/Documents/MTMST/data/fixate2_dim-65_n-750k/</span><span style=\"color: #ff00ff; text-decoration-color: #ff00ff\">tst</span>\n",
       "</pre>\n"
      ],
      "text/plain": [
       "fixate2_dim-65_n-750k   saved at        \n",
       "\u001b[35m/home/hadi/Documents/MTMST/data/fixate2_dim-65_n-750k/\u001b[0m\u001b[95mtst\u001b[0m\n"
      ]
     },
     "metadata": {},
     "output_type": "display_data"
    },
    {
     "name": "stderr",
     "output_type": "stream",
     "text": [
      "\r",
      " 20%|██        | 3/15 [5:08:07<22:23:55, 6719.66s/it]"
     ]
    },
    {
     "data": {
      "text/html": [
       "<pre style=\"white-space:pre;overflow-x:auto;line-height:normal;font-family:Menlo,'DejaVu Sans Mono',consolas,'Courier New',monospace\">fixate4_dim-65_n-750k   saved at        \n",
       "<span style=\"color: #800080; text-decoration-color: #800080\">/home/hadi/Documents/MTMST/data/fixate4_dim-65_n-750k/</span><span style=\"color: #ff00ff; text-decoration-color: #ff00ff\">tst</span>\n",
       "</pre>\n"
      ],
      "text/plain": [
       "fixate4_dim-65_n-750k   saved at        \n",
       "\u001b[35m/home/hadi/Documents/MTMST/data/fixate4_dim-65_n-750k/\u001b[0m\u001b[95mtst\u001b[0m\n"
      ]
     },
     "metadata": {},
     "output_type": "display_data"
    },
    {
     "name": "stderr",
     "output_type": "stream",
     "text": [
      "\r",
      " 27%|██▋       | 4/15 [7:40:50<23:28:48, 7684.43s/it]"
     ]
    },
    {
     "data": {
      "text/html": [
       "<pre style=\"white-space:pre;overflow-x:auto;line-height:normal;font-family:Menlo,'DejaVu Sans Mono',consolas,'Courier New',monospace\">fixate8_dim-65_n-750k   saved at        \n",
       "<span style=\"color: #800080; text-decoration-color: #800080\">/home/hadi/Documents/MTMST/data/fixate8_dim-65_n-750k/</span><span style=\"color: #ff00ff; text-decoration-color: #ff00ff\">tst</span>\n",
       "</pre>\n"
      ],
      "text/plain": [
       "fixate8_dim-65_n-750k   saved at        \n",
       "\u001b[35m/home/hadi/Documents/MTMST/data/fixate8_dim-65_n-750k/\u001b[0m\u001b[95mtst\u001b[0m\n"
      ]
     },
     "metadata": {},
     "output_type": "display_data"
    },
    {
     "name": "stderr",
     "output_type": "stream",
     "text": [
      "\r",
      " 33%|███▎      | 5/15 [11:03:22<25:49:12, 9295.22s/it]"
     ]
    },
    {
     "data": {
      "text/html": [
       "<pre style=\"white-space:pre;overflow-x:auto;line-height:normal;font-family:Menlo,'DejaVu Sans Mono',consolas,'Courier New',monospace\">obj1_dim-65_n-750k      saved at        \n",
       "<span style=\"color: #800080; text-decoration-color: #800080\">/home/hadi/Documents/MTMST/data/obj1_dim-65_n-750k/</span><span style=\"color: #ff00ff; text-decoration-color: #ff00ff\">tst</span>\n",
       "</pre>\n"
      ],
      "text/plain": [
       "obj1_dim-65_n-750k      saved at        \n",
       "\u001b[35m/home/hadi/Documents/MTMST/data/obj1_dim-65_n-750k/\u001b[0m\u001b[95mtst\u001b[0m\n"
      ]
     },
     "metadata": {},
     "output_type": "display_data"
    },
    {
     "name": "stderr",
     "output_type": "stream",
     "text": [
      "\r",
      " 40%|████      | 6/15 [12:31:39<19:50:22, 7935.82s/it]"
     ]
    },
    {
     "data": {
      "text/html": [
       "<pre style=\"white-space:pre;overflow-x:auto;line-height:normal;font-family:Menlo,'DejaVu Sans Mono',consolas,'Courier New',monospace\">obj2_dim-65_n-750k      saved at        \n",
       "<span style=\"color: #800080; text-decoration-color: #800080\">/home/hadi/Documents/MTMST/data/obj2_dim-65_n-750k/</span><span style=\"color: #ff00ff; text-decoration-color: #ff00ff\">tst</span>\n",
       "</pre>\n"
      ],
      "text/plain": [
       "obj2_dim-65_n-750k      saved at        \n",
       "\u001b[35m/home/hadi/Documents/MTMST/data/obj2_dim-65_n-750k/\u001b[0m\u001b[95mtst\u001b[0m\n"
      ]
     },
     "metadata": {},
     "output_type": "display_data"
    },
    {
     "name": "stderr",
     "output_type": "stream",
     "text": [
      "\r",
      " 47%|████▋     | 7/15 [14:18:38<16:32:00, 7440.11s/it]"
     ]
    },
    {
     "data": {
      "text/html": [
       "<pre style=\"white-space:pre;overflow-x:auto;line-height:normal;font-family:Menlo,'DejaVu Sans Mono',consolas,'Courier New',monospace\">obj4_dim-65_n-750k      saved at        \n",
       "<span style=\"color: #800080; text-decoration-color: #800080\">/home/hadi/Documents/MTMST/data/obj4_dim-65_n-750k/</span><span style=\"color: #ff00ff; text-decoration-color: #ff00ff\">tst</span>\n",
       "</pre>\n"
      ],
      "text/plain": [
       "obj4_dim-65_n-750k      saved at        \n",
       "\u001b[35m/home/hadi/Documents/MTMST/data/obj4_dim-65_n-750k/\u001b[0m\u001b[95mtst\u001b[0m\n"
      ]
     },
     "metadata": {},
     "output_type": "display_data"
    },
    {
     "name": "stderr",
     "output_type": "stream",
     "text": [
      "\r",
      " 53%|█████▎    | 8/15 [16:39:15<15:05:01, 7757.31s/it]"
     ]
    },
    {
     "data": {
      "text/html": [
       "<pre style=\"white-space:pre;overflow-x:auto;line-height:normal;font-family:Menlo,'DejaVu Sans Mono',consolas,'Courier New',monospace\">obj8_dim-65_n-750k      saved at        \n",
       "<span style=\"color: #800080; text-decoration-color: #800080\">/home/hadi/Documents/MTMST/data/obj8_dim-65_n-750k/</span><span style=\"color: #ff00ff; text-decoration-color: #ff00ff\">tst</span>\n",
       "</pre>\n"
      ],
      "text/plain": [
       "obj8_dim-65_n-750k      saved at        \n",
       "\u001b[35m/home/hadi/Documents/MTMST/data/obj8_dim-65_n-750k/\u001b[0m\u001b[95mtst\u001b[0m\n"
      ]
     },
     "metadata": {},
     "output_type": "display_data"
    },
    {
     "name": "stderr",
     "output_type": "stream",
     "text": [
      "\r",
      " 60%|██████    | 9/15 [19:43:05<14:38:02, 8780.44s/it]"
     ]
    }
   ],
   "source": [
    "%%time\n",
    "\n",
    "for category, n_obj in tqdm(combos):\n",
    "    alpha_dot, g, g_aux, attrs = generate_simulation(\n",
    "        category=category,\n",
    "        n_obj=n_obj,\n",
    "        total=total,\n",
    "        kwargs=kws,\n",
    "        accept_n=accept_n,\n",
    "        min_obj_size=min_obj_size,\n",
    "        dtype='float32',\n",
    "    )\n",
    "    save_simulation(save_dir, alpha_dot, g, g_aux, attrs)"
   ]
  },
  {
   "cell_type": "code",
   "execution_count": null,
   "id": "e591969f",
   "metadata": {},
   "outputs": [],
   "source": []
  },
  {
   "cell_type": "markdown",
   "id": "368786e7",
   "metadata": {},
   "source": [
    "## Test if properly saved"
   ]
  },
  {
   "cell_type": "code",
   "execution_count": 23,
   "id": "1787a3ea",
   "metadata": {},
   "outputs": [],
   "source": [
    "from base.dataset import ROFL"
   ]
  },
  {
   "cell_type": "code",
   "execution_count": 24,
   "id": "45f5dbf0",
   "metadata": {},
   "outputs": [
    {
     "data": {
      "text/html": [
       "<pre style=\"white-space:pre;overflow-x:auto;line-height:normal;font-family:Menlo,'DejaVu Sans Mono',consolas,'Courier New',monospace\"><span style=\"font-weight: bold\">{</span>\n",
       "    <span style=\"color: #008000; text-decoration-color: #008000\">'category'</span>: <span style=\"color: #008000; text-decoration-color: #008000\">'terrain'</span>,\n",
       "    <span style=\"color: #008000; text-decoration-color: #008000\">'n_obj'</span>: <span style=\"color: #008080; text-decoration-color: #008080; font-weight: bold\">8</span>,\n",
       "    <span style=\"color: #008000; text-decoration-color: #008000\">'dim'</span>: <span style=\"color: #008080; text-decoration-color: #008080; font-weight: bold\">65</span>,\n",
       "    <span style=\"color: #008000; text-decoration-color: #008000\">'fov'</span>: <span style=\"color: #008080; text-decoration-color: #008080; font-weight: bold\">45.0</span>,\n",
       "    <span style=\"color: #008000; text-decoration-color: #008000\">'res'</span>: <span style=\"color: #008080; text-decoration-color: #008080; font-weight: bold\">1.40625</span>,\n",
       "    <span style=\"color: #008000; text-decoration-color: #008000\">'z_bg'</span>: <span style=\"color: #008080; text-decoration-color: #008080; font-weight: bold\">1.0</span>,\n",
       "    <span style=\"color: #008000; text-decoration-color: #008000\">'obj_r'</span>: <span style=\"color: #008080; text-decoration-color: #008080; font-weight: bold\">0.2</span>,\n",
       "    <span style=\"color: #008000; text-decoration-color: #008000\">'obj_bound'</span>: <span style=\"color: #008080; text-decoration-color: #008080; font-weight: bold\">0.97</span>,\n",
       "    <span style=\"color: #008000; text-decoration-color: #008000\">'obj_zlim'</span>: <span style=\"font-weight: bold\">(</span><span style=\"color: #008080; text-decoration-color: #008080; font-weight: bold\">0.5</span>, <span style=\"color: #008080; text-decoration-color: #008080; font-weight: bold\">1.0</span><span style=\"font-weight: bold\">)</span>,\n",
       "    <span style=\"color: #008000; text-decoration-color: #008000\">'vlim_obj'</span>: <span style=\"font-weight: bold\">(</span><span style=\"color: #008080; text-decoration-color: #008080; font-weight: bold\">0</span>, <span style=\"color: #008080; text-decoration-color: #008080; font-weight: bold\">0</span><span style=\"font-weight: bold\">)</span>,\n",
       "    <span style=\"color: #008000; text-decoration-color: #008000\">'vlim_slf'</span>: <span style=\"font-weight: bold\">(</span><span style=\"color: #008080; text-decoration-color: #008080; font-weight: bold\">0.01</span>, <span style=\"color: #008080; text-decoration-color: #008080; font-weight: bold\">5.0</span><span style=\"font-weight: bold\">)</span>,\n",
       "    <span style=\"color: #008000; text-decoration-color: #008000\">'residual'</span>: <span style=\"color: #ff0000; text-decoration-color: #ff0000; font-style: italic\">False</span>,\n",
       "    <span style=\"color: #008000; text-decoration-color: #008000\">'seeds'</span>: <span style=\"color: #800080; text-decoration-color: #800080; font-weight: bold\">range</span><span style=\"font-weight: bold\">(</span><span style=\"color: #008080; text-decoration-color: #008080; font-weight: bold\">0</span>, <span style=\"color: #008080; text-decoration-color: #008080; font-weight: bold\">22</span><span style=\"font-weight: bold\">)</span>\n",
       "<span style=\"font-weight: bold\">}</span>\n",
       "</pre>\n"
      ],
      "text/plain": [
       "\u001b[1m{\u001b[0m\n",
       "    \u001b[32m'category'\u001b[0m: \u001b[32m'terrain'\u001b[0m,\n",
       "    \u001b[32m'n_obj'\u001b[0m: \u001b[1;36m8\u001b[0m,\n",
       "    \u001b[32m'dim'\u001b[0m: \u001b[1;36m65\u001b[0m,\n",
       "    \u001b[32m'fov'\u001b[0m: \u001b[1;36m45.0\u001b[0m,\n",
       "    \u001b[32m'res'\u001b[0m: \u001b[1;36m1.40625\u001b[0m,\n",
       "    \u001b[32m'z_bg'\u001b[0m: \u001b[1;36m1.0\u001b[0m,\n",
       "    \u001b[32m'obj_r'\u001b[0m: \u001b[1;36m0.2\u001b[0m,\n",
       "    \u001b[32m'obj_bound'\u001b[0m: \u001b[1;36m0.97\u001b[0m,\n",
       "    \u001b[32m'obj_zlim'\u001b[0m: \u001b[1m(\u001b[0m\u001b[1;36m0.5\u001b[0m, \u001b[1;36m1.0\u001b[0m\u001b[1m)\u001b[0m,\n",
       "    \u001b[32m'vlim_obj'\u001b[0m: \u001b[1m(\u001b[0m\u001b[1;36m0\u001b[0m, \u001b[1;36m0\u001b[0m\u001b[1m)\u001b[0m,\n",
       "    \u001b[32m'vlim_slf'\u001b[0m: \u001b[1m(\u001b[0m\u001b[1;36m0.01\u001b[0m, \u001b[1;36m5.0\u001b[0m\u001b[1m)\u001b[0m,\n",
       "    \u001b[32m'residual'\u001b[0m: \u001b[3;91mFalse\u001b[0m,\n",
       "    \u001b[32m'seeds'\u001b[0m: \u001b[1;35mrange\u001b[0m\u001b[1m(\u001b[0m\u001b[1;36m0\u001b[0m, \u001b[1;36m22\u001b[0m\u001b[1m)\u001b[0m\n",
       "\u001b[1m}\u001b[0m\n"
      ]
     },
     "metadata": {},
     "output_type": "display_data"
    }
   ],
   "source": [
    "ds = ROFL(pjoin(save_dir, 'terrain8_dim-65_n-1k'), 'tst')\n",
    "print(ds.attrs)"
   ]
  },
  {
   "cell_type": "code",
   "execution_count": null,
   "id": "ce8f4a5d",
   "metadata": {},
   "outputs": [],
   "source": []
  },
  {
   "cell_type": "code",
   "execution_count": 25,
   "id": "050d814d",
   "metadata": {},
   "outputs": [
    {
     "data": {
      "text/plain": [
       "((100, 29), (100, 83), (100, 2, 65, 65))"
      ]
     },
     "execution_count": 25,
     "metadata": {},
     "output_type": "execute_result"
    }
   ],
   "source": [
    "ds.g.shape, ds.g_aux.shape, ds.x.shape"
   ]
  },
  {
   "cell_type": "code",
   "execution_count": null,
   "id": "7ee5124e",
   "metadata": {},
   "outputs": [],
   "source": []
  },
  {
   "cell_type": "code",
   "execution_count": 22,
   "id": "18176304",
   "metadata": {},
   "outputs": [
    {
     "data": {
      "text/html": [
       "<pre style=\"white-space:pre;overflow-x:auto;line-height:normal;font-family:Menlo,'DejaVu Sans Mono',consolas,'Courier New',monospace\"><span style=\"font-weight: bold\">[</span>\n",
       "    <span style=\"color: #008000; text-decoration-color: #008000\">'fix_x'</span>,\n",
       "    <span style=\"color: #008000; text-decoration-color: #008000\">'fix_y'</span>,\n",
       "    <span style=\"color: #008000; text-decoration-color: #008000\">'slf_v_norm'</span>,\n",
       "    <span style=\"color: #008000; text-decoration-color: #008000\">'slf_v_theta'</span>,\n",
       "    <span style=\"color: #008000; text-decoration-color: #008000\">'slf_v_phi'</span>,\n",
       "    <span style=\"color: #008000; text-decoration-color: #008000\">'obj0_alpha_x'</span>,\n",
       "    <span style=\"color: #008000; text-decoration-color: #008000\">'obj0_alpha_y'</span>,\n",
       "    <span style=\"color: #008000; text-decoration-color: #008000\">'obj0_distance'</span>,\n",
       "    <span style=\"color: #008000; text-decoration-color: #008000\">'obj1_alpha_x'</span>,\n",
       "    <span style=\"color: #008000; text-decoration-color: #008000\">'obj1_alpha_y'</span>,\n",
       "    <span style=\"color: #008000; text-decoration-color: #008000\">'obj1_distance'</span>,\n",
       "    <span style=\"color: #008000; text-decoration-color: #008000\">'obj2_alpha_x'</span>,\n",
       "    <span style=\"color: #008000; text-decoration-color: #008000\">'obj2_alpha_y'</span>,\n",
       "    <span style=\"color: #008000; text-decoration-color: #008000\">'obj2_distance'</span>,\n",
       "    <span style=\"color: #008000; text-decoration-color: #008000\">'obj3_alpha_x'</span>,\n",
       "    <span style=\"color: #008000; text-decoration-color: #008000\">'obj3_alpha_y'</span>,\n",
       "    <span style=\"color: #008000; text-decoration-color: #008000\">'obj3_distance'</span>,\n",
       "    <span style=\"color: #008000; text-decoration-color: #008000\">'obj4_alpha_x'</span>,\n",
       "    <span style=\"color: #008000; text-decoration-color: #008000\">'obj4_alpha_y'</span>,\n",
       "    <span style=\"color: #008000; text-decoration-color: #008000\">'obj4_distance'</span>,\n",
       "    <span style=\"color: #008000; text-decoration-color: #008000\">'obj5_alpha_x'</span>,\n",
       "    <span style=\"color: #008000; text-decoration-color: #008000\">'obj5_alpha_y'</span>,\n",
       "    <span style=\"color: #008000; text-decoration-color: #008000\">'obj5_distance'</span>,\n",
       "    <span style=\"color: #008000; text-decoration-color: #008000\">'obj6_alpha_x'</span>,\n",
       "    <span style=\"color: #008000; text-decoration-color: #008000\">'obj6_alpha_y'</span>,\n",
       "    <span style=\"color: #008000; text-decoration-color: #008000\">'obj6_distance'</span>,\n",
       "    <span style=\"color: #008000; text-decoration-color: #008000\">'obj7_alpha_x'</span>,\n",
       "    <span style=\"color: #008000; text-decoration-color: #008000\">'obj7_alpha_y'</span>,\n",
       "    <span style=\"color: #008000; text-decoration-color: #008000\">'obj7_distance'</span>\n",
       "<span style=\"font-weight: bold\">]</span>\n",
       "</pre>\n"
      ],
      "text/plain": [
       "\u001b[1m[\u001b[0m\n",
       "    \u001b[32m'fix_x'\u001b[0m,\n",
       "    \u001b[32m'fix_y'\u001b[0m,\n",
       "    \u001b[32m'slf_v_norm'\u001b[0m,\n",
       "    \u001b[32m'slf_v_theta'\u001b[0m,\n",
       "    \u001b[32m'slf_v_phi'\u001b[0m,\n",
       "    \u001b[32m'obj0_alpha_x'\u001b[0m,\n",
       "    \u001b[32m'obj0_alpha_y'\u001b[0m,\n",
       "    \u001b[32m'obj0_distance'\u001b[0m,\n",
       "    \u001b[32m'obj1_alpha_x'\u001b[0m,\n",
       "    \u001b[32m'obj1_alpha_y'\u001b[0m,\n",
       "    \u001b[32m'obj1_distance'\u001b[0m,\n",
       "    \u001b[32m'obj2_alpha_x'\u001b[0m,\n",
       "    \u001b[32m'obj2_alpha_y'\u001b[0m,\n",
       "    \u001b[32m'obj2_distance'\u001b[0m,\n",
       "    \u001b[32m'obj3_alpha_x'\u001b[0m,\n",
       "    \u001b[32m'obj3_alpha_y'\u001b[0m,\n",
       "    \u001b[32m'obj3_distance'\u001b[0m,\n",
       "    \u001b[32m'obj4_alpha_x'\u001b[0m,\n",
       "    \u001b[32m'obj4_alpha_y'\u001b[0m,\n",
       "    \u001b[32m'obj4_distance'\u001b[0m,\n",
       "    \u001b[32m'obj5_alpha_x'\u001b[0m,\n",
       "    \u001b[32m'obj5_alpha_y'\u001b[0m,\n",
       "    \u001b[32m'obj5_distance'\u001b[0m,\n",
       "    \u001b[32m'obj6_alpha_x'\u001b[0m,\n",
       "    \u001b[32m'obj6_alpha_y'\u001b[0m,\n",
       "    \u001b[32m'obj6_distance'\u001b[0m,\n",
       "    \u001b[32m'obj7_alpha_x'\u001b[0m,\n",
       "    \u001b[32m'obj7_alpha_y'\u001b[0m,\n",
       "    \u001b[32m'obj7_distance'\u001b[0m\n",
       "\u001b[1m]\u001b[0m\n"
      ]
     },
     "metadata": {},
     "output_type": "display_data"
    }
   ],
   "source": [
    "print(ds.f)"
   ]
  },
  {
   "cell_type": "code",
   "execution_count": 9,
   "id": "bbe35abe",
   "metadata": {},
   "outputs": [
    {
     "data": {
      "text/plain": [
       "'/home/hadi/Documents/MTMST/data'"
      ]
     },
     "execution_count": 9,
     "metadata": {},
     "output_type": "execute_result"
    }
   ],
   "source": [
    "save_dir"
   ]
  },
  {
   "cell_type": "code",
   "execution_count": null,
   "id": "9f254fcd",
   "metadata": {},
   "outputs": [],
   "source": []
  },
  {
   "cell_type": "code",
   "execution_count": null,
   "id": "256bacce",
   "metadata": {},
   "outputs": [],
   "source": []
  },
  {
   "cell_type": "code",
   "execution_count": 46,
   "id": "6885f379",
   "metadata": {
    "scrolled": true
   },
   "outputs": [
    {
     "data": {
      "text/plain": [
       "1.52e-07"
      ]
     },
     "execution_count": 46,
     "metadata": {},
     "output_type": "execute_result"
    }
   ],
   "source": [
    "sys.getsizeof(alpha_dot) / 1e9"
   ]
  },
  {
   "cell_type": "code",
   "execution_count": 47,
   "id": "8a3bf526",
   "metadata": {},
   "outputs": [
    {
     "data": {
      "text/plain": [
       "1.36e-07"
      ]
     },
     "execution_count": 47,
     "metadata": {},
     "output_type": "execute_result"
    }
   ],
   "source": [
    "sys.getsizeof(z_env) / 1e9"
   ]
  },
  {
   "cell_type": "code",
   "execution_count": 48,
   "id": "01ecd11b",
   "metadata": {},
   "outputs": [
    {
     "data": {
      "text/plain": [
       "(1.2e-07, 1.2e-07)"
      ]
     },
     "execution_count": 48,
     "metadata": {},
     "output_type": "execute_result"
    }
   ],
   "source": [
    "sys.getsizeof(g) / 1e9, sys.getsizeof(g_aux) / 1e9"
   ]
  },
  {
   "cell_type": "code",
   "execution_count": null,
   "id": "75d1906a",
   "metadata": {},
   "outputs": [],
   "source": []
  },
  {
   "cell_type": "markdown",
   "id": "6c2d10bd",
   "metadata": {},
   "source": [
    "## Print generative factors"
   ]
  },
  {
   "cell_type": "code",
   "execution_count": 6,
   "id": "fba0724b",
   "metadata": {
    "scrolled": true
   },
   "outputs": [
    {
     "data": {
      "text/html": [
       "<pre style=\"white-space:pre;overflow-x:auto;line-height:normal;font-family:Menlo,'DejaVu Sans Mono',consolas,'Courier New',monospace\">-------------------------------------------------------------------------------- \n",
       "category: fixate, n_obj = <span style=\"color: #008080; text-decoration-color: #008080; font-weight: bold\">0</span>\n",
       "</pre>\n"
      ],
      "text/plain": [
       "-------------------------------------------------------------------------------- \n",
       "category: fixate, n_obj = \u001b[1;36m0\u001b[0m\n"
      ]
     },
     "metadata": {},
     "output_type": "display_data"
    },
    {
     "data": {
      "text/html": [
       "<pre style=\"white-space:pre;overflow-x:auto;line-height:normal;font-family:Menlo,'DejaVu Sans Mono',consolas,'Courier New',monospace\">factors:\n",
       "<span style=\"font-weight: bold\">[</span><span style=\"color: #008000; text-decoration-color: #008000\">'fix_x'</span>, <span style=\"color: #008000; text-decoration-color: #008000\">'fix_y'</span>, <span style=\"color: #008000; text-decoration-color: #008000\">'slf_v_norm'</span>, <span style=\"color: #008000; text-decoration-color: #008000\">'slf_v_theta'</span>, <span style=\"color: #008000; text-decoration-color: #008000\">'slf_v_phi'</span><span style=\"font-weight: bold\">]</span>\n",
       "</pre>\n"
      ],
      "text/plain": [
       "factors:\n",
       "\u001b[1m[\u001b[0m\u001b[32m'fix_x'\u001b[0m, \u001b[32m'fix_y'\u001b[0m, \u001b[32m'slf_v_norm'\u001b[0m, \u001b[32m'slf_v_theta'\u001b[0m, \u001b[32m'slf_v_phi'\u001b[0m\u001b[1m]\u001b[0m\n"
      ]
     },
     "metadata": {},
     "output_type": "display_data"
    },
    {
     "data": {
      "text/html": [
       "<pre style=\"white-space:pre;overflow-x:auto;line-height:normal;font-family:Menlo,'DejaVu Sans Mono',consolas,'Courier New',monospace\">factors_aux:\n",
       "<span style=\"font-weight: bold\">[</span><span style=\"color: #008000; text-decoration-color: #008000\">'slf_v_x'</span>, <span style=\"color: #008000; text-decoration-color: #008000\">'slf_v_y'</span>, <span style=\"color: #008000; text-decoration-color: #008000\">'slf_v_z'</span><span style=\"font-weight: bold\">]</span>\n",
       " ~~~~~~~~~~~~~~~~~~~~~~~~~~~~~~~~~~~~~~~~~~~~~~~~~~~~~~~~~~~~~~~~~~~~~~~~~~~~~~~~\n",
       "</pre>\n"
      ],
      "text/plain": [
       "factors_aux:\n",
       "\u001b[1m[\u001b[0m\u001b[32m'slf_v_x'\u001b[0m, \u001b[32m'slf_v_y'\u001b[0m, \u001b[32m'slf_v_z'\u001b[0m\u001b[1m]\u001b[0m\n",
       " ~~~~~~~~~~~~~~~~~~~~~~~~~~~~~~~~~~~~~~~~~~~~~~~~~~~~~~~~~~~~~~~~~~~~~~~~~~~~~~~~\n"
      ]
     },
     "metadata": {},
     "output_type": "display_data"
    },
    {
     "data": {
      "text/html": [
       "<pre style=\"white-space:pre;overflow-x:auto;line-height:normal;font-family:Menlo,'DejaVu Sans Mono',consolas,'Courier New',monospace\">\n",
       "\n",
       "\n",
       "</pre>\n"
      ],
      "text/plain": [
       "\n",
       "\n",
       "\n"
      ]
     },
     "metadata": {},
     "output_type": "display_data"
    },
    {
     "data": {
      "text/html": [
       "<pre style=\"white-space:pre;overflow-x:auto;line-height:normal;font-family:Menlo,'DejaVu Sans Mono',consolas,'Courier New',monospace\">-------------------------------------------------------------------------------- \n",
       "category: fixate, n_obj = <span style=\"color: #008080; text-decoration-color: #008080; font-weight: bold\">1</span>\n",
       "</pre>\n"
      ],
      "text/plain": [
       "-------------------------------------------------------------------------------- \n",
       "category: fixate, n_obj = \u001b[1;36m1\u001b[0m\n"
      ]
     },
     "metadata": {},
     "output_type": "display_data"
    },
    {
     "data": {
      "text/html": [
       "<pre style=\"white-space:pre;overflow-x:auto;line-height:normal;font-family:Menlo,'DejaVu Sans Mono',consolas,'Courier New',monospace\">factors:\n",
       "<span style=\"font-weight: bold\">[</span><span style=\"color: #008000; text-decoration-color: #008000\">'fix_x'</span>, <span style=\"color: #008000; text-decoration-color: #008000\">'fix_y'</span>, <span style=\"color: #008000; text-decoration-color: #008000\">'slf_v_norm'</span>, <span style=\"color: #008000; text-decoration-color: #008000\">'slf_v_theta'</span>, <span style=\"color: #008000; text-decoration-color: #008000\">'slf_v_phi'</span>, <span style=\"color: #008000; text-decoration-color: #008000\">'obj0_alpha_x'</span>, <span style=\"color: #008000; text-decoration-color: #008000\">'obj0_alpha_y'</span>, \n",
       "<span style=\"color: #008000; text-decoration-color: #008000\">'obj0_distance'</span>, <span style=\"color: #008000; text-decoration-color: #008000\">'obj0_v_norm'</span>, <span style=\"color: #008000; text-decoration-color: #008000\">'obj0_v_theta'</span>, <span style=\"color: #008000; text-decoration-color: #008000\">'obj0_v_phi'</span><span style=\"font-weight: bold\">]</span>\n",
       "</pre>\n"
      ],
      "text/plain": [
       "factors:\n",
       "\u001b[1m[\u001b[0m\u001b[32m'fix_x'\u001b[0m, \u001b[32m'fix_y'\u001b[0m, \u001b[32m'slf_v_norm'\u001b[0m, \u001b[32m'slf_v_theta'\u001b[0m, \u001b[32m'slf_v_phi'\u001b[0m, \u001b[32m'obj0_alpha_x'\u001b[0m, \u001b[32m'obj0_alpha_y'\u001b[0m, \n",
       "\u001b[32m'obj0_distance'\u001b[0m, \u001b[32m'obj0_v_norm'\u001b[0m, \u001b[32m'obj0_v_theta'\u001b[0m, \u001b[32m'obj0_v_phi'\u001b[0m\u001b[1m]\u001b[0m\n"
      ]
     },
     "metadata": {},
     "output_type": "display_data"
    },
    {
     "data": {
      "text/html": [
       "<pre style=\"white-space:pre;overflow-x:auto;line-height:normal;font-family:Menlo,'DejaVu Sans Mono',consolas,'Courier New',monospace\">factors_aux:\n",
       "<span style=\"font-weight: bold\">[</span><span style=\"color: #008000; text-decoration-color: #008000\">'slf_v_x'</span>, <span style=\"color: #008000; text-decoration-color: #008000\">'slf_v_y'</span>, <span style=\"color: #008000; text-decoration-color: #008000\">'slf_v_z'</span>, <span style=\"color: #008000; text-decoration-color: #008000\">'obj0_size_eff'</span>, <span style=\"color: #008000; text-decoration-color: #008000\">'obj0_size'</span>, <span style=\"color: #008000; text-decoration-color: #008000\">'obj0_theta'</span>, <span style=\"color: #008000; text-decoration-color: #008000\">'obj0_phi'</span>, \n",
       "<span style=\"color: #008000; text-decoration-color: #008000\">'obj0_x'</span>, <span style=\"color: #008000; text-decoration-color: #008000\">'obj0_y'</span>, <span style=\"color: #008000; text-decoration-color: #008000\">'obj0_z'</span>, <span style=\"color: #008000; text-decoration-color: #008000\">'obj0_dx'</span>, <span style=\"color: #008000; text-decoration-color: #008000\">'obj0_dy'</span>, <span style=\"color: #008000; text-decoration-color: #008000\">'obj0_dz'</span>, <span style=\"color: #008000; text-decoration-color: #008000\">'obj0_v_x'</span>, <span style=\"color: #008000; text-decoration-color: #008000\">'obj0_v_y'</span>, \n",
       "<span style=\"color: #008000; text-decoration-color: #008000\">'obj0_v_z'</span>, <span style=\"color: #008000; text-decoration-color: #008000\">'obj0_dv_x'</span>, <span style=\"color: #008000; text-decoration-color: #008000\">'obj0_dv_y'</span>, <span style=\"color: #008000; text-decoration-color: #008000\">'obj0_dv_z'</span>, <span style=\"color: #008000; text-decoration-color: #008000\">'obj0_dv_norm'</span>, <span style=\"color: #008000; text-decoration-color: #008000\">'obj0_dv_theta'</span>, \n",
       "<span style=\"color: #008000; text-decoration-color: #008000\">'obj0_dv_phi'</span><span style=\"font-weight: bold\">]</span>\n",
       " ~~~~~~~~~~~~~~~~~~~~~~~~~~~~~~~~~~~~~~~~~~~~~~~~~~~~~~~~~~~~~~~~~~~~~~~~~~~~~~~~\n",
       "</pre>\n"
      ],
      "text/plain": [
       "factors_aux:\n",
       "\u001b[1m[\u001b[0m\u001b[32m'slf_v_x'\u001b[0m, \u001b[32m'slf_v_y'\u001b[0m, \u001b[32m'slf_v_z'\u001b[0m, \u001b[32m'obj0_size_eff'\u001b[0m, \u001b[32m'obj0_size'\u001b[0m, \u001b[32m'obj0_theta'\u001b[0m, \u001b[32m'obj0_phi'\u001b[0m, \n",
       "\u001b[32m'obj0_x'\u001b[0m, \u001b[32m'obj0_y'\u001b[0m, \u001b[32m'obj0_z'\u001b[0m, \u001b[32m'obj0_dx'\u001b[0m, \u001b[32m'obj0_dy'\u001b[0m, \u001b[32m'obj0_dz'\u001b[0m, \u001b[32m'obj0_v_x'\u001b[0m, \u001b[32m'obj0_v_y'\u001b[0m, \n",
       "\u001b[32m'obj0_v_z'\u001b[0m, \u001b[32m'obj0_dv_x'\u001b[0m, \u001b[32m'obj0_dv_y'\u001b[0m, \u001b[32m'obj0_dv_z'\u001b[0m, \u001b[32m'obj0_dv_norm'\u001b[0m, \u001b[32m'obj0_dv_theta'\u001b[0m, \n",
       "\u001b[32m'obj0_dv_phi'\u001b[0m\u001b[1m]\u001b[0m\n",
       " ~~~~~~~~~~~~~~~~~~~~~~~~~~~~~~~~~~~~~~~~~~~~~~~~~~~~~~~~~~~~~~~~~~~~~~~~~~~~~~~~\n"
      ]
     },
     "metadata": {},
     "output_type": "display_data"
    },
    {
     "data": {
      "text/html": [
       "<pre style=\"white-space:pre;overflow-x:auto;line-height:normal;font-family:Menlo,'DejaVu Sans Mono',consolas,'Courier New',monospace\">\n",
       "\n",
       "\n",
       "</pre>\n"
      ],
      "text/plain": [
       "\n",
       "\n",
       "\n"
      ]
     },
     "metadata": {},
     "output_type": "display_data"
    },
    {
     "data": {
      "text/html": [
       "<pre style=\"white-space:pre;overflow-x:auto;line-height:normal;font-family:Menlo,'DejaVu Sans Mono',consolas,'Courier New',monospace\">-------------------------------------------------------------------------------- \n",
       "category: fixate, n_obj = <span style=\"color: #008080; text-decoration-color: #008080; font-weight: bold\">2</span>\n",
       "</pre>\n"
      ],
      "text/plain": [
       "-------------------------------------------------------------------------------- \n",
       "category: fixate, n_obj = \u001b[1;36m2\u001b[0m\n"
      ]
     },
     "metadata": {},
     "output_type": "display_data"
    },
    {
     "data": {
      "text/html": [
       "<pre style=\"white-space:pre;overflow-x:auto;line-height:normal;font-family:Menlo,'DejaVu Sans Mono',consolas,'Courier New',monospace\">factors:\n",
       "<span style=\"font-weight: bold\">[</span><span style=\"color: #008000; text-decoration-color: #008000\">'fix_x'</span>, <span style=\"color: #008000; text-decoration-color: #008000\">'fix_y'</span>, <span style=\"color: #008000; text-decoration-color: #008000\">'slf_v_norm'</span>, <span style=\"color: #008000; text-decoration-color: #008000\">'slf_v_theta'</span>, <span style=\"color: #008000; text-decoration-color: #008000\">'slf_v_phi'</span>, <span style=\"color: #008000; text-decoration-color: #008000\">'obj0_alpha_x'</span>, <span style=\"color: #008000; text-decoration-color: #008000\">'obj0_alpha_y'</span>, \n",
       "<span style=\"color: #008000; text-decoration-color: #008000\">'obj0_distance'</span>, <span style=\"color: #008000; text-decoration-color: #008000\">'obj0_v_norm'</span>, <span style=\"color: #008000; text-decoration-color: #008000\">'obj0_v_theta'</span>, <span style=\"color: #008000; text-decoration-color: #008000\">'obj0_v_phi'</span>, <span style=\"color: #008000; text-decoration-color: #008000\">'obj1_alpha_x'</span>, <span style=\"color: #008000; text-decoration-color: #008000\">'obj1_alpha_y'</span>,\n",
       "<span style=\"color: #008000; text-decoration-color: #008000\">'obj1_distance'</span>, <span style=\"color: #008000; text-decoration-color: #008000\">'obj1_v_norm'</span>, <span style=\"color: #008000; text-decoration-color: #008000\">'obj1_v_theta'</span>, <span style=\"color: #008000; text-decoration-color: #008000\">'obj1_v_phi'</span><span style=\"font-weight: bold\">]</span>\n",
       "</pre>\n"
      ],
      "text/plain": [
       "factors:\n",
       "\u001b[1m[\u001b[0m\u001b[32m'fix_x'\u001b[0m, \u001b[32m'fix_y'\u001b[0m, \u001b[32m'slf_v_norm'\u001b[0m, \u001b[32m'slf_v_theta'\u001b[0m, \u001b[32m'slf_v_phi'\u001b[0m, \u001b[32m'obj0_alpha_x'\u001b[0m, \u001b[32m'obj0_alpha_y'\u001b[0m, \n",
       "\u001b[32m'obj0_distance'\u001b[0m, \u001b[32m'obj0_v_norm'\u001b[0m, \u001b[32m'obj0_v_theta'\u001b[0m, \u001b[32m'obj0_v_phi'\u001b[0m, \u001b[32m'obj1_alpha_x'\u001b[0m, \u001b[32m'obj1_alpha_y'\u001b[0m,\n",
       "\u001b[32m'obj1_distance'\u001b[0m, \u001b[32m'obj1_v_norm'\u001b[0m, \u001b[32m'obj1_v_theta'\u001b[0m, \u001b[32m'obj1_v_phi'\u001b[0m\u001b[1m]\u001b[0m\n"
      ]
     },
     "metadata": {},
     "output_type": "display_data"
    },
    {
     "data": {
      "text/html": [
       "<pre style=\"white-space:pre;overflow-x:auto;line-height:normal;font-family:Menlo,'DejaVu Sans Mono',consolas,'Courier New',monospace\">factors_aux:\n",
       "<span style=\"font-weight: bold\">[</span><span style=\"color: #008000; text-decoration-color: #008000\">'slf_v_x'</span>, <span style=\"color: #008000; text-decoration-color: #008000\">'slf_v_y'</span>, <span style=\"color: #008000; text-decoration-color: #008000\">'slf_v_z'</span>, <span style=\"color: #008000; text-decoration-color: #008000\">'obj0_size_eff'</span>, <span style=\"color: #008000; text-decoration-color: #008000\">'obj0_size'</span>, <span style=\"color: #008000; text-decoration-color: #008000\">'obj0_theta'</span>, <span style=\"color: #008000; text-decoration-color: #008000\">'obj0_phi'</span>, \n",
       "<span style=\"color: #008000; text-decoration-color: #008000\">'obj0_x'</span>, <span style=\"color: #008000; text-decoration-color: #008000\">'obj0_y'</span>, <span style=\"color: #008000; text-decoration-color: #008000\">'obj0_z'</span>, <span style=\"color: #008000; text-decoration-color: #008000\">'obj0_dx'</span>, <span style=\"color: #008000; text-decoration-color: #008000\">'obj0_dy'</span>, <span style=\"color: #008000; text-decoration-color: #008000\">'obj0_dz'</span>, <span style=\"color: #008000; text-decoration-color: #008000\">'obj0_v_x'</span>, <span style=\"color: #008000; text-decoration-color: #008000\">'obj0_v_y'</span>, \n",
       "<span style=\"color: #008000; text-decoration-color: #008000\">'obj0_v_z'</span>, <span style=\"color: #008000; text-decoration-color: #008000\">'obj0_dv_x'</span>, <span style=\"color: #008000; text-decoration-color: #008000\">'obj0_dv_y'</span>, <span style=\"color: #008000; text-decoration-color: #008000\">'obj0_dv_z'</span>, <span style=\"color: #008000; text-decoration-color: #008000\">'obj0_dv_norm'</span>, <span style=\"color: #008000; text-decoration-color: #008000\">'obj0_dv_theta'</span>, \n",
       "<span style=\"color: #008000; text-decoration-color: #008000\">'obj0_dv_phi'</span>, <span style=\"color: #008000; text-decoration-color: #008000\">'obj1_size_eff'</span>, <span style=\"color: #008000; text-decoration-color: #008000\">'obj1_size'</span>, <span style=\"color: #008000; text-decoration-color: #008000\">'obj1_theta'</span>, <span style=\"color: #008000; text-decoration-color: #008000\">'obj1_phi'</span>, <span style=\"color: #008000; text-decoration-color: #008000\">'obj1_x'</span>, <span style=\"color: #008000; text-decoration-color: #008000\">'obj1_y'</span>, \n",
       "<span style=\"color: #008000; text-decoration-color: #008000\">'obj1_z'</span>, <span style=\"color: #008000; text-decoration-color: #008000\">'obj1_dx'</span>, <span style=\"color: #008000; text-decoration-color: #008000\">'obj1_dy'</span>, <span style=\"color: #008000; text-decoration-color: #008000\">'obj1_dz'</span>, <span style=\"color: #008000; text-decoration-color: #008000\">'obj1_v_x'</span>, <span style=\"color: #008000; text-decoration-color: #008000\">'obj1_v_y'</span>, <span style=\"color: #008000; text-decoration-color: #008000\">'obj1_v_z'</span>, <span style=\"color: #008000; text-decoration-color: #008000\">'obj1_dv_x'</span>, \n",
       "<span style=\"color: #008000; text-decoration-color: #008000\">'obj1_dv_y'</span>, <span style=\"color: #008000; text-decoration-color: #008000\">'obj1_dv_z'</span>, <span style=\"color: #008000; text-decoration-color: #008000\">'obj1_dv_norm'</span>, <span style=\"color: #008000; text-decoration-color: #008000\">'obj1_dv_theta'</span>, <span style=\"color: #008000; text-decoration-color: #008000\">'obj1_dv_phi'</span><span style=\"font-weight: bold\">]</span>\n",
       " ~~~~~~~~~~~~~~~~~~~~~~~~~~~~~~~~~~~~~~~~~~~~~~~~~~~~~~~~~~~~~~~~~~~~~~~~~~~~~~~~\n",
       "</pre>\n"
      ],
      "text/plain": [
       "factors_aux:\n",
       "\u001b[1m[\u001b[0m\u001b[32m'slf_v_x'\u001b[0m, \u001b[32m'slf_v_y'\u001b[0m, \u001b[32m'slf_v_z'\u001b[0m, \u001b[32m'obj0_size_eff'\u001b[0m, \u001b[32m'obj0_size'\u001b[0m, \u001b[32m'obj0_theta'\u001b[0m, \u001b[32m'obj0_phi'\u001b[0m, \n",
       "\u001b[32m'obj0_x'\u001b[0m, \u001b[32m'obj0_y'\u001b[0m, \u001b[32m'obj0_z'\u001b[0m, \u001b[32m'obj0_dx'\u001b[0m, \u001b[32m'obj0_dy'\u001b[0m, \u001b[32m'obj0_dz'\u001b[0m, \u001b[32m'obj0_v_x'\u001b[0m, \u001b[32m'obj0_v_y'\u001b[0m, \n",
       "\u001b[32m'obj0_v_z'\u001b[0m, \u001b[32m'obj0_dv_x'\u001b[0m, \u001b[32m'obj0_dv_y'\u001b[0m, \u001b[32m'obj0_dv_z'\u001b[0m, \u001b[32m'obj0_dv_norm'\u001b[0m, \u001b[32m'obj0_dv_theta'\u001b[0m, \n",
       "\u001b[32m'obj0_dv_phi'\u001b[0m, \u001b[32m'obj1_size_eff'\u001b[0m, \u001b[32m'obj1_size'\u001b[0m, \u001b[32m'obj1_theta'\u001b[0m, \u001b[32m'obj1_phi'\u001b[0m, \u001b[32m'obj1_x'\u001b[0m, \u001b[32m'obj1_y'\u001b[0m, \n",
       "\u001b[32m'obj1_z'\u001b[0m, \u001b[32m'obj1_dx'\u001b[0m, \u001b[32m'obj1_dy'\u001b[0m, \u001b[32m'obj1_dz'\u001b[0m, \u001b[32m'obj1_v_x'\u001b[0m, \u001b[32m'obj1_v_y'\u001b[0m, \u001b[32m'obj1_v_z'\u001b[0m, \u001b[32m'obj1_dv_x'\u001b[0m, \n",
       "\u001b[32m'obj1_dv_y'\u001b[0m, \u001b[32m'obj1_dv_z'\u001b[0m, \u001b[32m'obj1_dv_norm'\u001b[0m, \u001b[32m'obj1_dv_theta'\u001b[0m, \u001b[32m'obj1_dv_phi'\u001b[0m\u001b[1m]\u001b[0m\n",
       " ~~~~~~~~~~~~~~~~~~~~~~~~~~~~~~~~~~~~~~~~~~~~~~~~~~~~~~~~~~~~~~~~~~~~~~~~~~~~~~~~\n"
      ]
     },
     "metadata": {},
     "output_type": "display_data"
    },
    {
     "data": {
      "text/html": [
       "<pre style=\"white-space:pre;overflow-x:auto;line-height:normal;font-family:Menlo,'DejaVu Sans Mono',consolas,'Courier New',monospace\">\n",
       "\n",
       "\n",
       "</pre>\n"
      ],
      "text/plain": [
       "\n",
       "\n",
       "\n"
      ]
     },
     "metadata": {},
     "output_type": "display_data"
    },
    {
     "data": {
      "text/html": [
       "<pre style=\"white-space:pre;overflow-x:auto;line-height:normal;font-family:Menlo,'DejaVu Sans Mono',consolas,'Courier New',monospace\">-------------------------------------------------------------------------------- \n",
       "category: fixate, n_obj = <span style=\"color: #008080; text-decoration-color: #008080; font-weight: bold\">4</span>\n",
       "</pre>\n"
      ],
      "text/plain": [
       "-------------------------------------------------------------------------------- \n",
       "category: fixate, n_obj = \u001b[1;36m4\u001b[0m\n"
      ]
     },
     "metadata": {},
     "output_type": "display_data"
    },
    {
     "data": {
      "text/html": [
       "<pre style=\"white-space:pre;overflow-x:auto;line-height:normal;font-family:Menlo,'DejaVu Sans Mono',consolas,'Courier New',monospace\">factors:\n",
       "<span style=\"font-weight: bold\">[</span><span style=\"color: #008000; text-decoration-color: #008000\">'fix_x'</span>, <span style=\"color: #008000; text-decoration-color: #008000\">'fix_y'</span>, <span style=\"color: #008000; text-decoration-color: #008000\">'slf_v_norm'</span>, <span style=\"color: #008000; text-decoration-color: #008000\">'slf_v_theta'</span>, <span style=\"color: #008000; text-decoration-color: #008000\">'slf_v_phi'</span>, <span style=\"color: #008000; text-decoration-color: #008000\">'obj0_alpha_x'</span>, <span style=\"color: #008000; text-decoration-color: #008000\">'obj0_alpha_y'</span>, \n",
       "<span style=\"color: #008000; text-decoration-color: #008000\">'obj0_distance'</span>, <span style=\"color: #008000; text-decoration-color: #008000\">'obj0_v_norm'</span>, <span style=\"color: #008000; text-decoration-color: #008000\">'obj0_v_theta'</span>, <span style=\"color: #008000; text-decoration-color: #008000\">'obj0_v_phi'</span>, <span style=\"color: #008000; text-decoration-color: #008000\">'obj1_alpha_x'</span>, <span style=\"color: #008000; text-decoration-color: #008000\">'obj1_alpha_y'</span>,\n",
       "<span style=\"color: #008000; text-decoration-color: #008000\">'obj1_distance'</span>, <span style=\"color: #008000; text-decoration-color: #008000\">'obj1_v_norm'</span>, <span style=\"color: #008000; text-decoration-color: #008000\">'obj1_v_theta'</span>, <span style=\"color: #008000; text-decoration-color: #008000\">'obj1_v_phi'</span>, <span style=\"color: #008000; text-decoration-color: #008000\">'obj2_alpha_x'</span>, <span style=\"color: #008000; text-decoration-color: #008000\">'obj2_alpha_y'</span>,\n",
       "<span style=\"color: #008000; text-decoration-color: #008000\">'obj2_distance'</span>, <span style=\"color: #008000; text-decoration-color: #008000\">'obj2_v_norm'</span>, <span style=\"color: #008000; text-decoration-color: #008000\">'obj2_v_theta'</span>, <span style=\"color: #008000; text-decoration-color: #008000\">'obj2_v_phi'</span>, <span style=\"color: #008000; text-decoration-color: #008000\">'obj3_alpha_x'</span>, <span style=\"color: #008000; text-decoration-color: #008000\">'obj3_alpha_y'</span>,\n",
       "<span style=\"color: #008000; text-decoration-color: #008000\">'obj3_distance'</span>, <span style=\"color: #008000; text-decoration-color: #008000\">'obj3_v_norm'</span>, <span style=\"color: #008000; text-decoration-color: #008000\">'obj3_v_theta'</span>, <span style=\"color: #008000; text-decoration-color: #008000\">'obj3_v_phi'</span><span style=\"font-weight: bold\">]</span>\n",
       "</pre>\n"
      ],
      "text/plain": [
       "factors:\n",
       "\u001b[1m[\u001b[0m\u001b[32m'fix_x'\u001b[0m, \u001b[32m'fix_y'\u001b[0m, \u001b[32m'slf_v_norm'\u001b[0m, \u001b[32m'slf_v_theta'\u001b[0m, \u001b[32m'slf_v_phi'\u001b[0m, \u001b[32m'obj0_alpha_x'\u001b[0m, \u001b[32m'obj0_alpha_y'\u001b[0m, \n",
       "\u001b[32m'obj0_distance'\u001b[0m, \u001b[32m'obj0_v_norm'\u001b[0m, \u001b[32m'obj0_v_theta'\u001b[0m, \u001b[32m'obj0_v_phi'\u001b[0m, \u001b[32m'obj1_alpha_x'\u001b[0m, \u001b[32m'obj1_alpha_y'\u001b[0m,\n",
       "\u001b[32m'obj1_distance'\u001b[0m, \u001b[32m'obj1_v_norm'\u001b[0m, \u001b[32m'obj1_v_theta'\u001b[0m, \u001b[32m'obj1_v_phi'\u001b[0m, \u001b[32m'obj2_alpha_x'\u001b[0m, \u001b[32m'obj2_alpha_y'\u001b[0m,\n",
       "\u001b[32m'obj2_distance'\u001b[0m, \u001b[32m'obj2_v_norm'\u001b[0m, \u001b[32m'obj2_v_theta'\u001b[0m, \u001b[32m'obj2_v_phi'\u001b[0m, \u001b[32m'obj3_alpha_x'\u001b[0m, \u001b[32m'obj3_alpha_y'\u001b[0m,\n",
       "\u001b[32m'obj3_distance'\u001b[0m, \u001b[32m'obj3_v_norm'\u001b[0m, \u001b[32m'obj3_v_theta'\u001b[0m, \u001b[32m'obj3_v_phi'\u001b[0m\u001b[1m]\u001b[0m\n"
      ]
     },
     "metadata": {},
     "output_type": "display_data"
    },
    {
     "data": {
      "text/html": [
       "<pre style=\"white-space:pre;overflow-x:auto;line-height:normal;font-family:Menlo,'DejaVu Sans Mono',consolas,'Courier New',monospace\">factors_aux:\n",
       "<span style=\"font-weight: bold\">[</span><span style=\"color: #008000; text-decoration-color: #008000\">'slf_v_x'</span>, <span style=\"color: #008000; text-decoration-color: #008000\">'slf_v_y'</span>, <span style=\"color: #008000; text-decoration-color: #008000\">'slf_v_z'</span>, <span style=\"color: #008000; text-decoration-color: #008000\">'obj0_size_eff'</span>, <span style=\"color: #008000; text-decoration-color: #008000\">'obj0_size'</span>, <span style=\"color: #008000; text-decoration-color: #008000\">'obj0_theta'</span>, <span style=\"color: #008000; text-decoration-color: #008000\">'obj0_phi'</span>, \n",
       "<span style=\"color: #008000; text-decoration-color: #008000\">'obj0_x'</span>, <span style=\"color: #008000; text-decoration-color: #008000\">'obj0_y'</span>, <span style=\"color: #008000; text-decoration-color: #008000\">'obj0_z'</span>, <span style=\"color: #008000; text-decoration-color: #008000\">'obj0_dx'</span>, <span style=\"color: #008000; text-decoration-color: #008000\">'obj0_dy'</span>, <span style=\"color: #008000; text-decoration-color: #008000\">'obj0_dz'</span>, <span style=\"color: #008000; text-decoration-color: #008000\">'obj0_v_x'</span>, <span style=\"color: #008000; text-decoration-color: #008000\">'obj0_v_y'</span>, \n",
       "<span style=\"color: #008000; text-decoration-color: #008000\">'obj0_v_z'</span>, <span style=\"color: #008000; text-decoration-color: #008000\">'obj0_dv_x'</span>, <span style=\"color: #008000; text-decoration-color: #008000\">'obj0_dv_y'</span>, <span style=\"color: #008000; text-decoration-color: #008000\">'obj0_dv_z'</span>, <span style=\"color: #008000; text-decoration-color: #008000\">'obj0_dv_norm'</span>, <span style=\"color: #008000; text-decoration-color: #008000\">'obj0_dv_theta'</span>, \n",
       "<span style=\"color: #008000; text-decoration-color: #008000\">'obj0_dv_phi'</span>, <span style=\"color: #008000; text-decoration-color: #008000\">'obj1_size_eff'</span>, <span style=\"color: #008000; text-decoration-color: #008000\">'obj1_size'</span>, <span style=\"color: #008000; text-decoration-color: #008000\">'obj1_theta'</span>, <span style=\"color: #008000; text-decoration-color: #008000\">'obj1_phi'</span>, <span style=\"color: #008000; text-decoration-color: #008000\">'obj1_x'</span>, <span style=\"color: #008000; text-decoration-color: #008000\">'obj1_y'</span>, \n",
       "<span style=\"color: #008000; text-decoration-color: #008000\">'obj1_z'</span>, <span style=\"color: #008000; text-decoration-color: #008000\">'obj1_dx'</span>, <span style=\"color: #008000; text-decoration-color: #008000\">'obj1_dy'</span>, <span style=\"color: #008000; text-decoration-color: #008000\">'obj1_dz'</span>, <span style=\"color: #008000; text-decoration-color: #008000\">'obj1_v_x'</span>, <span style=\"color: #008000; text-decoration-color: #008000\">'obj1_v_y'</span>, <span style=\"color: #008000; text-decoration-color: #008000\">'obj1_v_z'</span>, <span style=\"color: #008000; text-decoration-color: #008000\">'obj1_dv_x'</span>, \n",
       "<span style=\"color: #008000; text-decoration-color: #008000\">'obj1_dv_y'</span>, <span style=\"color: #008000; text-decoration-color: #008000\">'obj1_dv_z'</span>, <span style=\"color: #008000; text-decoration-color: #008000\">'obj1_dv_norm'</span>, <span style=\"color: #008000; text-decoration-color: #008000\">'obj1_dv_theta'</span>, <span style=\"color: #008000; text-decoration-color: #008000\">'obj1_dv_phi'</span>, <span style=\"color: #008000; text-decoration-color: #008000\">'obj2_size_eff'</span>, \n",
       "<span style=\"color: #008000; text-decoration-color: #008000\">'obj2_size'</span>, <span style=\"color: #008000; text-decoration-color: #008000\">'obj2_theta'</span>, <span style=\"color: #008000; text-decoration-color: #008000\">'obj2_phi'</span>, <span style=\"color: #008000; text-decoration-color: #008000\">'obj2_x'</span>, <span style=\"color: #008000; text-decoration-color: #008000\">'obj2_y'</span>, <span style=\"color: #008000; text-decoration-color: #008000\">'obj2_z'</span>, <span style=\"color: #008000; text-decoration-color: #008000\">'obj2_dx'</span>, <span style=\"color: #008000; text-decoration-color: #008000\">'obj2_dy'</span>, \n",
       "<span style=\"color: #008000; text-decoration-color: #008000\">'obj2_dz'</span>, <span style=\"color: #008000; text-decoration-color: #008000\">'obj2_v_x'</span>, <span style=\"color: #008000; text-decoration-color: #008000\">'obj2_v_y'</span>, <span style=\"color: #008000; text-decoration-color: #008000\">'obj2_v_z'</span>, <span style=\"color: #008000; text-decoration-color: #008000\">'obj2_dv_x'</span>, <span style=\"color: #008000; text-decoration-color: #008000\">'obj2_dv_y'</span>, <span style=\"color: #008000; text-decoration-color: #008000\">'obj2_dv_z'</span>, \n",
       "<span style=\"color: #008000; text-decoration-color: #008000\">'obj2_dv_norm'</span>, <span style=\"color: #008000; text-decoration-color: #008000\">'obj2_dv_theta'</span>, <span style=\"color: #008000; text-decoration-color: #008000\">'obj2_dv_phi'</span>, <span style=\"color: #008000; text-decoration-color: #008000\">'obj3_size_eff'</span>, <span style=\"color: #008000; text-decoration-color: #008000\">'obj3_size'</span>, <span style=\"color: #008000; text-decoration-color: #008000\">'obj3_theta'</span>, \n",
       "<span style=\"color: #008000; text-decoration-color: #008000\">'obj3_phi'</span>, <span style=\"color: #008000; text-decoration-color: #008000\">'obj3_x'</span>, <span style=\"color: #008000; text-decoration-color: #008000\">'obj3_y'</span>, <span style=\"color: #008000; text-decoration-color: #008000\">'obj3_z'</span>, <span style=\"color: #008000; text-decoration-color: #008000\">'obj3_dx'</span>, <span style=\"color: #008000; text-decoration-color: #008000\">'obj3_dy'</span>, <span style=\"color: #008000; text-decoration-color: #008000\">'obj3_dz'</span>, <span style=\"color: #008000; text-decoration-color: #008000\">'obj3_v_x'</span>, \n",
       "<span style=\"color: #008000; text-decoration-color: #008000\">'obj3_v_y'</span>, <span style=\"color: #008000; text-decoration-color: #008000\">'obj3_v_z'</span>, <span style=\"color: #008000; text-decoration-color: #008000\">'obj3_dv_x'</span>, <span style=\"color: #008000; text-decoration-color: #008000\">'obj3_dv_y'</span>, <span style=\"color: #008000; text-decoration-color: #008000\">'obj3_dv_z'</span>, <span style=\"color: #008000; text-decoration-color: #008000\">'obj3_dv_norm'</span>, \n",
       "<span style=\"color: #008000; text-decoration-color: #008000\">'obj3_dv_theta'</span>, <span style=\"color: #008000; text-decoration-color: #008000\">'obj3_dv_phi'</span><span style=\"font-weight: bold\">]</span>\n",
       " ~~~~~~~~~~~~~~~~~~~~~~~~~~~~~~~~~~~~~~~~~~~~~~~~~~~~~~~~~~~~~~~~~~~~~~~~~~~~~~~~\n",
       "</pre>\n"
      ],
      "text/plain": [
       "factors_aux:\n",
       "\u001b[1m[\u001b[0m\u001b[32m'slf_v_x'\u001b[0m, \u001b[32m'slf_v_y'\u001b[0m, \u001b[32m'slf_v_z'\u001b[0m, \u001b[32m'obj0_size_eff'\u001b[0m, \u001b[32m'obj0_size'\u001b[0m, \u001b[32m'obj0_theta'\u001b[0m, \u001b[32m'obj0_phi'\u001b[0m, \n",
       "\u001b[32m'obj0_x'\u001b[0m, \u001b[32m'obj0_y'\u001b[0m, \u001b[32m'obj0_z'\u001b[0m, \u001b[32m'obj0_dx'\u001b[0m, \u001b[32m'obj0_dy'\u001b[0m, \u001b[32m'obj0_dz'\u001b[0m, \u001b[32m'obj0_v_x'\u001b[0m, \u001b[32m'obj0_v_y'\u001b[0m, \n",
       "\u001b[32m'obj0_v_z'\u001b[0m, \u001b[32m'obj0_dv_x'\u001b[0m, \u001b[32m'obj0_dv_y'\u001b[0m, \u001b[32m'obj0_dv_z'\u001b[0m, \u001b[32m'obj0_dv_norm'\u001b[0m, \u001b[32m'obj0_dv_theta'\u001b[0m, \n",
       "\u001b[32m'obj0_dv_phi'\u001b[0m, \u001b[32m'obj1_size_eff'\u001b[0m, \u001b[32m'obj1_size'\u001b[0m, \u001b[32m'obj1_theta'\u001b[0m, \u001b[32m'obj1_phi'\u001b[0m, \u001b[32m'obj1_x'\u001b[0m, \u001b[32m'obj1_y'\u001b[0m, \n",
       "\u001b[32m'obj1_z'\u001b[0m, \u001b[32m'obj1_dx'\u001b[0m, \u001b[32m'obj1_dy'\u001b[0m, \u001b[32m'obj1_dz'\u001b[0m, \u001b[32m'obj1_v_x'\u001b[0m, \u001b[32m'obj1_v_y'\u001b[0m, \u001b[32m'obj1_v_z'\u001b[0m, \u001b[32m'obj1_dv_x'\u001b[0m, \n",
       "\u001b[32m'obj1_dv_y'\u001b[0m, \u001b[32m'obj1_dv_z'\u001b[0m, \u001b[32m'obj1_dv_norm'\u001b[0m, \u001b[32m'obj1_dv_theta'\u001b[0m, \u001b[32m'obj1_dv_phi'\u001b[0m, \u001b[32m'obj2_size_eff'\u001b[0m, \n",
       "\u001b[32m'obj2_size'\u001b[0m, \u001b[32m'obj2_theta'\u001b[0m, \u001b[32m'obj2_phi'\u001b[0m, \u001b[32m'obj2_x'\u001b[0m, \u001b[32m'obj2_y'\u001b[0m, \u001b[32m'obj2_z'\u001b[0m, \u001b[32m'obj2_dx'\u001b[0m, \u001b[32m'obj2_dy'\u001b[0m, \n",
       "\u001b[32m'obj2_dz'\u001b[0m, \u001b[32m'obj2_v_x'\u001b[0m, \u001b[32m'obj2_v_y'\u001b[0m, \u001b[32m'obj2_v_z'\u001b[0m, \u001b[32m'obj2_dv_x'\u001b[0m, \u001b[32m'obj2_dv_y'\u001b[0m, \u001b[32m'obj2_dv_z'\u001b[0m, \n",
       "\u001b[32m'obj2_dv_norm'\u001b[0m, \u001b[32m'obj2_dv_theta'\u001b[0m, \u001b[32m'obj2_dv_phi'\u001b[0m, \u001b[32m'obj3_size_eff'\u001b[0m, \u001b[32m'obj3_size'\u001b[0m, \u001b[32m'obj3_theta'\u001b[0m, \n",
       "\u001b[32m'obj3_phi'\u001b[0m, \u001b[32m'obj3_x'\u001b[0m, \u001b[32m'obj3_y'\u001b[0m, \u001b[32m'obj3_z'\u001b[0m, \u001b[32m'obj3_dx'\u001b[0m, \u001b[32m'obj3_dy'\u001b[0m, \u001b[32m'obj3_dz'\u001b[0m, \u001b[32m'obj3_v_x'\u001b[0m, \n",
       "\u001b[32m'obj3_v_y'\u001b[0m, \u001b[32m'obj3_v_z'\u001b[0m, \u001b[32m'obj3_dv_x'\u001b[0m, \u001b[32m'obj3_dv_y'\u001b[0m, \u001b[32m'obj3_dv_z'\u001b[0m, \u001b[32m'obj3_dv_norm'\u001b[0m, \n",
       "\u001b[32m'obj3_dv_theta'\u001b[0m, \u001b[32m'obj3_dv_phi'\u001b[0m\u001b[1m]\u001b[0m\n",
       " ~~~~~~~~~~~~~~~~~~~~~~~~~~~~~~~~~~~~~~~~~~~~~~~~~~~~~~~~~~~~~~~~~~~~~~~~~~~~~~~~\n"
      ]
     },
     "metadata": {},
     "output_type": "display_data"
    },
    {
     "data": {
      "text/html": [
       "<pre style=\"white-space:pre;overflow-x:auto;line-height:normal;font-family:Menlo,'DejaVu Sans Mono',consolas,'Courier New',monospace\">\n",
       "\n",
       "\n",
       "</pre>\n"
      ],
      "text/plain": [
       "\n",
       "\n",
       "\n"
      ]
     },
     "metadata": {},
     "output_type": "display_data"
    },
    {
     "data": {
      "text/html": [
       "<pre style=\"white-space:pre;overflow-x:auto;line-height:normal;font-family:Menlo,'DejaVu Sans Mono',consolas,'Courier New',monospace\">-------------------------------------------------------------------------------- \n",
       "category: fixate, n_obj = <span style=\"color: #008080; text-decoration-color: #008080; font-weight: bold\">8</span>\n",
       "</pre>\n"
      ],
      "text/plain": [
       "-------------------------------------------------------------------------------- \n",
       "category: fixate, n_obj = \u001b[1;36m8\u001b[0m\n"
      ]
     },
     "metadata": {},
     "output_type": "display_data"
    },
    {
     "data": {
      "text/html": [
       "<pre style=\"white-space:pre;overflow-x:auto;line-height:normal;font-family:Menlo,'DejaVu Sans Mono',consolas,'Courier New',monospace\">factors:\n",
       "<span style=\"font-weight: bold\">[</span><span style=\"color: #008000; text-decoration-color: #008000\">'fix_x'</span>, <span style=\"color: #008000; text-decoration-color: #008000\">'fix_y'</span>, <span style=\"color: #008000; text-decoration-color: #008000\">'slf_v_norm'</span>, <span style=\"color: #008000; text-decoration-color: #008000\">'slf_v_theta'</span>, <span style=\"color: #008000; text-decoration-color: #008000\">'slf_v_phi'</span>, <span style=\"color: #008000; text-decoration-color: #008000\">'obj0_alpha_x'</span>, <span style=\"color: #008000; text-decoration-color: #008000\">'obj0_alpha_y'</span>, \n",
       "<span style=\"color: #008000; text-decoration-color: #008000\">'obj0_distance'</span>, <span style=\"color: #008000; text-decoration-color: #008000\">'obj0_v_norm'</span>, <span style=\"color: #008000; text-decoration-color: #008000\">'obj0_v_theta'</span>, <span style=\"color: #008000; text-decoration-color: #008000\">'obj0_v_phi'</span>, <span style=\"color: #008000; text-decoration-color: #008000\">'obj1_alpha_x'</span>, <span style=\"color: #008000; text-decoration-color: #008000\">'obj1_alpha_y'</span>,\n",
       "<span style=\"color: #008000; text-decoration-color: #008000\">'obj1_distance'</span>, <span style=\"color: #008000; text-decoration-color: #008000\">'obj1_v_norm'</span>, <span style=\"color: #008000; text-decoration-color: #008000\">'obj1_v_theta'</span>, <span style=\"color: #008000; text-decoration-color: #008000\">'obj1_v_phi'</span>, <span style=\"color: #008000; text-decoration-color: #008000\">'obj2_alpha_x'</span>, <span style=\"color: #008000; text-decoration-color: #008000\">'obj2_alpha_y'</span>,\n",
       "<span style=\"color: #008000; text-decoration-color: #008000\">'obj2_distance'</span>, <span style=\"color: #008000; text-decoration-color: #008000\">'obj2_v_norm'</span>, <span style=\"color: #008000; text-decoration-color: #008000\">'obj2_v_theta'</span>, <span style=\"color: #008000; text-decoration-color: #008000\">'obj2_v_phi'</span>, <span style=\"color: #008000; text-decoration-color: #008000\">'obj3_alpha_x'</span>, <span style=\"color: #008000; text-decoration-color: #008000\">'obj3_alpha_y'</span>,\n",
       "<span style=\"color: #008000; text-decoration-color: #008000\">'obj3_distance'</span>, <span style=\"color: #008000; text-decoration-color: #008000\">'obj3_v_norm'</span>, <span style=\"color: #008000; text-decoration-color: #008000\">'obj3_v_theta'</span>, <span style=\"color: #008000; text-decoration-color: #008000\">'obj3_v_phi'</span>, <span style=\"color: #008000; text-decoration-color: #008000\">'obj4_alpha_x'</span>, <span style=\"color: #008000; text-decoration-color: #008000\">'obj4_alpha_y'</span>,\n",
       "<span style=\"color: #008000; text-decoration-color: #008000\">'obj4_distance'</span>, <span style=\"color: #008000; text-decoration-color: #008000\">'obj4_v_norm'</span>, <span style=\"color: #008000; text-decoration-color: #008000\">'obj4_v_theta'</span>, <span style=\"color: #008000; text-decoration-color: #008000\">'obj4_v_phi'</span>, <span style=\"color: #008000; text-decoration-color: #008000\">'obj5_alpha_x'</span>, <span style=\"color: #008000; text-decoration-color: #008000\">'obj5_alpha_y'</span>,\n",
       "<span style=\"color: #008000; text-decoration-color: #008000\">'obj5_distance'</span>, <span style=\"color: #008000; text-decoration-color: #008000\">'obj5_v_norm'</span>, <span style=\"color: #008000; text-decoration-color: #008000\">'obj5_v_theta'</span>, <span style=\"color: #008000; text-decoration-color: #008000\">'obj5_v_phi'</span>, <span style=\"color: #008000; text-decoration-color: #008000\">'obj6_alpha_x'</span>, <span style=\"color: #008000; text-decoration-color: #008000\">'obj6_alpha_y'</span>,\n",
       "<span style=\"color: #008000; text-decoration-color: #008000\">'obj6_distance'</span>, <span style=\"color: #008000; text-decoration-color: #008000\">'obj6_v_norm'</span>, <span style=\"color: #008000; text-decoration-color: #008000\">'obj6_v_theta'</span>, <span style=\"color: #008000; text-decoration-color: #008000\">'obj6_v_phi'</span>, <span style=\"color: #008000; text-decoration-color: #008000\">'obj7_alpha_x'</span>, <span style=\"color: #008000; text-decoration-color: #008000\">'obj7_alpha_y'</span>,\n",
       "<span style=\"color: #008000; text-decoration-color: #008000\">'obj7_distance'</span>, <span style=\"color: #008000; text-decoration-color: #008000\">'obj7_v_norm'</span>, <span style=\"color: #008000; text-decoration-color: #008000\">'obj7_v_theta'</span>, <span style=\"color: #008000; text-decoration-color: #008000\">'obj7_v_phi'</span><span style=\"font-weight: bold\">]</span>\n",
       "</pre>\n"
      ],
      "text/plain": [
       "factors:\n",
       "\u001b[1m[\u001b[0m\u001b[32m'fix_x'\u001b[0m, \u001b[32m'fix_y'\u001b[0m, \u001b[32m'slf_v_norm'\u001b[0m, \u001b[32m'slf_v_theta'\u001b[0m, \u001b[32m'slf_v_phi'\u001b[0m, \u001b[32m'obj0_alpha_x'\u001b[0m, \u001b[32m'obj0_alpha_y'\u001b[0m, \n",
       "\u001b[32m'obj0_distance'\u001b[0m, \u001b[32m'obj0_v_norm'\u001b[0m, \u001b[32m'obj0_v_theta'\u001b[0m, \u001b[32m'obj0_v_phi'\u001b[0m, \u001b[32m'obj1_alpha_x'\u001b[0m, \u001b[32m'obj1_alpha_y'\u001b[0m,\n",
       "\u001b[32m'obj1_distance'\u001b[0m, \u001b[32m'obj1_v_norm'\u001b[0m, \u001b[32m'obj1_v_theta'\u001b[0m, \u001b[32m'obj1_v_phi'\u001b[0m, \u001b[32m'obj2_alpha_x'\u001b[0m, \u001b[32m'obj2_alpha_y'\u001b[0m,\n",
       "\u001b[32m'obj2_distance'\u001b[0m, \u001b[32m'obj2_v_norm'\u001b[0m, \u001b[32m'obj2_v_theta'\u001b[0m, \u001b[32m'obj2_v_phi'\u001b[0m, \u001b[32m'obj3_alpha_x'\u001b[0m, \u001b[32m'obj3_alpha_y'\u001b[0m,\n",
       "\u001b[32m'obj3_distance'\u001b[0m, \u001b[32m'obj3_v_norm'\u001b[0m, \u001b[32m'obj3_v_theta'\u001b[0m, \u001b[32m'obj3_v_phi'\u001b[0m, \u001b[32m'obj4_alpha_x'\u001b[0m, \u001b[32m'obj4_alpha_y'\u001b[0m,\n",
       "\u001b[32m'obj4_distance'\u001b[0m, \u001b[32m'obj4_v_norm'\u001b[0m, \u001b[32m'obj4_v_theta'\u001b[0m, \u001b[32m'obj4_v_phi'\u001b[0m, \u001b[32m'obj5_alpha_x'\u001b[0m, \u001b[32m'obj5_alpha_y'\u001b[0m,\n",
       "\u001b[32m'obj5_distance'\u001b[0m, \u001b[32m'obj5_v_norm'\u001b[0m, \u001b[32m'obj5_v_theta'\u001b[0m, \u001b[32m'obj5_v_phi'\u001b[0m, \u001b[32m'obj6_alpha_x'\u001b[0m, \u001b[32m'obj6_alpha_y'\u001b[0m,\n",
       "\u001b[32m'obj6_distance'\u001b[0m, \u001b[32m'obj6_v_norm'\u001b[0m, \u001b[32m'obj6_v_theta'\u001b[0m, \u001b[32m'obj6_v_phi'\u001b[0m, \u001b[32m'obj7_alpha_x'\u001b[0m, \u001b[32m'obj7_alpha_y'\u001b[0m,\n",
       "\u001b[32m'obj7_distance'\u001b[0m, \u001b[32m'obj7_v_norm'\u001b[0m, \u001b[32m'obj7_v_theta'\u001b[0m, \u001b[32m'obj7_v_phi'\u001b[0m\u001b[1m]\u001b[0m\n"
      ]
     },
     "metadata": {},
     "output_type": "display_data"
    },
    {
     "data": {
      "text/html": [
       "<pre style=\"white-space:pre;overflow-x:auto;line-height:normal;font-family:Menlo,'DejaVu Sans Mono',consolas,'Courier New',monospace\">factors_aux:\n",
       "<span style=\"font-weight: bold\">[</span><span style=\"color: #008000; text-decoration-color: #008000\">'slf_v_x'</span>, <span style=\"color: #008000; text-decoration-color: #008000\">'slf_v_y'</span>, <span style=\"color: #008000; text-decoration-color: #008000\">'slf_v_z'</span>, <span style=\"color: #008000; text-decoration-color: #008000\">'obj0_size_eff'</span>, <span style=\"color: #008000; text-decoration-color: #008000\">'obj0_size'</span>, <span style=\"color: #008000; text-decoration-color: #008000\">'obj0_theta'</span>, <span style=\"color: #008000; text-decoration-color: #008000\">'obj0_phi'</span>, \n",
       "<span style=\"color: #008000; text-decoration-color: #008000\">'obj0_x'</span>, <span style=\"color: #008000; text-decoration-color: #008000\">'obj0_y'</span>, <span style=\"color: #008000; text-decoration-color: #008000\">'obj0_z'</span>, <span style=\"color: #008000; text-decoration-color: #008000\">'obj0_dx'</span>, <span style=\"color: #008000; text-decoration-color: #008000\">'obj0_dy'</span>, <span style=\"color: #008000; text-decoration-color: #008000\">'obj0_dz'</span>, <span style=\"color: #008000; text-decoration-color: #008000\">'obj0_v_x'</span>, <span style=\"color: #008000; text-decoration-color: #008000\">'obj0_v_y'</span>, \n",
       "<span style=\"color: #008000; text-decoration-color: #008000\">'obj0_v_z'</span>, <span style=\"color: #008000; text-decoration-color: #008000\">'obj0_dv_x'</span>, <span style=\"color: #008000; text-decoration-color: #008000\">'obj0_dv_y'</span>, <span style=\"color: #008000; text-decoration-color: #008000\">'obj0_dv_z'</span>, <span style=\"color: #008000; text-decoration-color: #008000\">'obj0_dv_norm'</span>, <span style=\"color: #008000; text-decoration-color: #008000\">'obj0_dv_theta'</span>, \n",
       "<span style=\"color: #008000; text-decoration-color: #008000\">'obj0_dv_phi'</span>, <span style=\"color: #008000; text-decoration-color: #008000\">'obj1_size_eff'</span>, <span style=\"color: #008000; text-decoration-color: #008000\">'obj1_size'</span>, <span style=\"color: #008000; text-decoration-color: #008000\">'obj1_theta'</span>, <span style=\"color: #008000; text-decoration-color: #008000\">'obj1_phi'</span>, <span style=\"color: #008000; text-decoration-color: #008000\">'obj1_x'</span>, <span style=\"color: #008000; text-decoration-color: #008000\">'obj1_y'</span>, \n",
       "<span style=\"color: #008000; text-decoration-color: #008000\">'obj1_z'</span>, <span style=\"color: #008000; text-decoration-color: #008000\">'obj1_dx'</span>, <span style=\"color: #008000; text-decoration-color: #008000\">'obj1_dy'</span>, <span style=\"color: #008000; text-decoration-color: #008000\">'obj1_dz'</span>, <span style=\"color: #008000; text-decoration-color: #008000\">'obj1_v_x'</span>, <span style=\"color: #008000; text-decoration-color: #008000\">'obj1_v_y'</span>, <span style=\"color: #008000; text-decoration-color: #008000\">'obj1_v_z'</span>, <span style=\"color: #008000; text-decoration-color: #008000\">'obj1_dv_x'</span>, \n",
       "<span style=\"color: #008000; text-decoration-color: #008000\">'obj1_dv_y'</span>, <span style=\"color: #008000; text-decoration-color: #008000\">'obj1_dv_z'</span>, <span style=\"color: #008000; text-decoration-color: #008000\">'obj1_dv_norm'</span>, <span style=\"color: #008000; text-decoration-color: #008000\">'obj1_dv_theta'</span>, <span style=\"color: #008000; text-decoration-color: #008000\">'obj1_dv_phi'</span>, <span style=\"color: #008000; text-decoration-color: #008000\">'obj2_size_eff'</span>, \n",
       "<span style=\"color: #008000; text-decoration-color: #008000\">'obj2_size'</span>, <span style=\"color: #008000; text-decoration-color: #008000\">'obj2_theta'</span>, <span style=\"color: #008000; text-decoration-color: #008000\">'obj2_phi'</span>, <span style=\"color: #008000; text-decoration-color: #008000\">'obj2_x'</span>, <span style=\"color: #008000; text-decoration-color: #008000\">'obj2_y'</span>, <span style=\"color: #008000; text-decoration-color: #008000\">'obj2_z'</span>, <span style=\"color: #008000; text-decoration-color: #008000\">'obj2_dx'</span>, <span style=\"color: #008000; text-decoration-color: #008000\">'obj2_dy'</span>, \n",
       "<span style=\"color: #008000; text-decoration-color: #008000\">'obj2_dz'</span>, <span style=\"color: #008000; text-decoration-color: #008000\">'obj2_v_x'</span>, <span style=\"color: #008000; text-decoration-color: #008000\">'obj2_v_y'</span>, <span style=\"color: #008000; text-decoration-color: #008000\">'obj2_v_z'</span>, <span style=\"color: #008000; text-decoration-color: #008000\">'obj2_dv_x'</span>, <span style=\"color: #008000; text-decoration-color: #008000\">'obj2_dv_y'</span>, <span style=\"color: #008000; text-decoration-color: #008000\">'obj2_dv_z'</span>, \n",
       "<span style=\"color: #008000; text-decoration-color: #008000\">'obj2_dv_norm'</span>, <span style=\"color: #008000; text-decoration-color: #008000\">'obj2_dv_theta'</span>, <span style=\"color: #008000; text-decoration-color: #008000\">'obj2_dv_phi'</span>, <span style=\"color: #008000; text-decoration-color: #008000\">'obj3_size_eff'</span>, <span style=\"color: #008000; text-decoration-color: #008000\">'obj3_size'</span>, <span style=\"color: #008000; text-decoration-color: #008000\">'obj3_theta'</span>, \n",
       "<span style=\"color: #008000; text-decoration-color: #008000\">'obj3_phi'</span>, <span style=\"color: #008000; text-decoration-color: #008000\">'obj3_x'</span>, <span style=\"color: #008000; text-decoration-color: #008000\">'obj3_y'</span>, <span style=\"color: #008000; text-decoration-color: #008000\">'obj3_z'</span>, <span style=\"color: #008000; text-decoration-color: #008000\">'obj3_dx'</span>, <span style=\"color: #008000; text-decoration-color: #008000\">'obj3_dy'</span>, <span style=\"color: #008000; text-decoration-color: #008000\">'obj3_dz'</span>, <span style=\"color: #008000; text-decoration-color: #008000\">'obj3_v_x'</span>, \n",
       "<span style=\"color: #008000; text-decoration-color: #008000\">'obj3_v_y'</span>, <span style=\"color: #008000; text-decoration-color: #008000\">'obj3_v_z'</span>, <span style=\"color: #008000; text-decoration-color: #008000\">'obj3_dv_x'</span>, <span style=\"color: #008000; text-decoration-color: #008000\">'obj3_dv_y'</span>, <span style=\"color: #008000; text-decoration-color: #008000\">'obj3_dv_z'</span>, <span style=\"color: #008000; text-decoration-color: #008000\">'obj3_dv_norm'</span>, \n",
       "<span style=\"color: #008000; text-decoration-color: #008000\">'obj3_dv_theta'</span>, <span style=\"color: #008000; text-decoration-color: #008000\">'obj3_dv_phi'</span>, <span style=\"color: #008000; text-decoration-color: #008000\">'obj4_size_eff'</span>, <span style=\"color: #008000; text-decoration-color: #008000\">'obj4_size'</span>, <span style=\"color: #008000; text-decoration-color: #008000\">'obj4_theta'</span>, <span style=\"color: #008000; text-decoration-color: #008000\">'obj4_phi'</span>, \n",
       "<span style=\"color: #008000; text-decoration-color: #008000\">'obj4_x'</span>, <span style=\"color: #008000; text-decoration-color: #008000\">'obj4_y'</span>, <span style=\"color: #008000; text-decoration-color: #008000\">'obj4_z'</span>, <span style=\"color: #008000; text-decoration-color: #008000\">'obj4_dx'</span>, <span style=\"color: #008000; text-decoration-color: #008000\">'obj4_dy'</span>, <span style=\"color: #008000; text-decoration-color: #008000\">'obj4_dz'</span>, <span style=\"color: #008000; text-decoration-color: #008000\">'obj4_v_x'</span>, <span style=\"color: #008000; text-decoration-color: #008000\">'obj4_v_y'</span>, \n",
       "<span style=\"color: #008000; text-decoration-color: #008000\">'obj4_v_z'</span>, <span style=\"color: #008000; text-decoration-color: #008000\">'obj4_dv_x'</span>, <span style=\"color: #008000; text-decoration-color: #008000\">'obj4_dv_y'</span>, <span style=\"color: #008000; text-decoration-color: #008000\">'obj4_dv_z'</span>, <span style=\"color: #008000; text-decoration-color: #008000\">'obj4_dv_norm'</span>, <span style=\"color: #008000; text-decoration-color: #008000\">'obj4_dv_theta'</span>, \n",
       "<span style=\"color: #008000; text-decoration-color: #008000\">'obj4_dv_phi'</span>, <span style=\"color: #008000; text-decoration-color: #008000\">'obj5_size_eff'</span>, <span style=\"color: #008000; text-decoration-color: #008000\">'obj5_size'</span>, <span style=\"color: #008000; text-decoration-color: #008000\">'obj5_theta'</span>, <span style=\"color: #008000; text-decoration-color: #008000\">'obj5_phi'</span>, <span style=\"color: #008000; text-decoration-color: #008000\">'obj5_x'</span>, <span style=\"color: #008000; text-decoration-color: #008000\">'obj5_y'</span>, \n",
       "<span style=\"color: #008000; text-decoration-color: #008000\">'obj5_z'</span>, <span style=\"color: #008000; text-decoration-color: #008000\">'obj5_dx'</span>, <span style=\"color: #008000; text-decoration-color: #008000\">'obj5_dy'</span>, <span style=\"color: #008000; text-decoration-color: #008000\">'obj5_dz'</span>, <span style=\"color: #008000; text-decoration-color: #008000\">'obj5_v_x'</span>, <span style=\"color: #008000; text-decoration-color: #008000\">'obj5_v_y'</span>, <span style=\"color: #008000; text-decoration-color: #008000\">'obj5_v_z'</span>, <span style=\"color: #008000; text-decoration-color: #008000\">'obj5_dv_x'</span>, \n",
       "<span style=\"color: #008000; text-decoration-color: #008000\">'obj5_dv_y'</span>, <span style=\"color: #008000; text-decoration-color: #008000\">'obj5_dv_z'</span>, <span style=\"color: #008000; text-decoration-color: #008000\">'obj5_dv_norm'</span>, <span style=\"color: #008000; text-decoration-color: #008000\">'obj5_dv_theta'</span>, <span style=\"color: #008000; text-decoration-color: #008000\">'obj5_dv_phi'</span>, <span style=\"color: #008000; text-decoration-color: #008000\">'obj6_size_eff'</span>, \n",
       "<span style=\"color: #008000; text-decoration-color: #008000\">'obj6_size'</span>, <span style=\"color: #008000; text-decoration-color: #008000\">'obj6_theta'</span>, <span style=\"color: #008000; text-decoration-color: #008000\">'obj6_phi'</span>, <span style=\"color: #008000; text-decoration-color: #008000\">'obj6_x'</span>, <span style=\"color: #008000; text-decoration-color: #008000\">'obj6_y'</span>, <span style=\"color: #008000; text-decoration-color: #008000\">'obj6_z'</span>, <span style=\"color: #008000; text-decoration-color: #008000\">'obj6_dx'</span>, <span style=\"color: #008000; text-decoration-color: #008000\">'obj6_dy'</span>, \n",
       "<span style=\"color: #008000; text-decoration-color: #008000\">'obj6_dz'</span>, <span style=\"color: #008000; text-decoration-color: #008000\">'obj6_v_x'</span>, <span style=\"color: #008000; text-decoration-color: #008000\">'obj6_v_y'</span>, <span style=\"color: #008000; text-decoration-color: #008000\">'obj6_v_z'</span>, <span style=\"color: #008000; text-decoration-color: #008000\">'obj6_dv_x'</span>, <span style=\"color: #008000; text-decoration-color: #008000\">'obj6_dv_y'</span>, <span style=\"color: #008000; text-decoration-color: #008000\">'obj6_dv_z'</span>, \n",
       "<span style=\"color: #008000; text-decoration-color: #008000\">'obj6_dv_norm'</span>, <span style=\"color: #008000; text-decoration-color: #008000\">'obj6_dv_theta'</span>, <span style=\"color: #008000; text-decoration-color: #008000\">'obj6_dv_phi'</span>, <span style=\"color: #008000; text-decoration-color: #008000\">'obj7_size_eff'</span>, <span style=\"color: #008000; text-decoration-color: #008000\">'obj7_size'</span>, <span style=\"color: #008000; text-decoration-color: #008000\">'obj7_theta'</span>, \n",
       "<span style=\"color: #008000; text-decoration-color: #008000\">'obj7_phi'</span>, <span style=\"color: #008000; text-decoration-color: #008000\">'obj7_x'</span>, <span style=\"color: #008000; text-decoration-color: #008000\">'obj7_y'</span>, <span style=\"color: #008000; text-decoration-color: #008000\">'obj7_z'</span>, <span style=\"color: #008000; text-decoration-color: #008000\">'obj7_dx'</span>, <span style=\"color: #008000; text-decoration-color: #008000\">'obj7_dy'</span>, <span style=\"color: #008000; text-decoration-color: #008000\">'obj7_dz'</span>, <span style=\"color: #008000; text-decoration-color: #008000\">'obj7_v_x'</span>, \n",
       "<span style=\"color: #008000; text-decoration-color: #008000\">'obj7_v_y'</span>, <span style=\"color: #008000; text-decoration-color: #008000\">'obj7_v_z'</span>, <span style=\"color: #008000; text-decoration-color: #008000\">'obj7_dv_x'</span>, <span style=\"color: #008000; text-decoration-color: #008000\">'obj7_dv_y'</span>, <span style=\"color: #008000; text-decoration-color: #008000\">'obj7_dv_z'</span>, <span style=\"color: #008000; text-decoration-color: #008000\">'obj7_dv_norm'</span>, \n",
       "<span style=\"color: #008000; text-decoration-color: #008000\">'obj7_dv_theta'</span>, <span style=\"color: #008000; text-decoration-color: #008000\">'obj7_dv_phi'</span><span style=\"font-weight: bold\">]</span>\n",
       " ~~~~~~~~~~~~~~~~~~~~~~~~~~~~~~~~~~~~~~~~~~~~~~~~~~~~~~~~~~~~~~~~~~~~~~~~~~~~~~~~\n",
       "</pre>\n"
      ],
      "text/plain": [
       "factors_aux:\n",
       "\u001b[1m[\u001b[0m\u001b[32m'slf_v_x'\u001b[0m, \u001b[32m'slf_v_y'\u001b[0m, \u001b[32m'slf_v_z'\u001b[0m, \u001b[32m'obj0_size_eff'\u001b[0m, \u001b[32m'obj0_size'\u001b[0m, \u001b[32m'obj0_theta'\u001b[0m, \u001b[32m'obj0_phi'\u001b[0m, \n",
       "\u001b[32m'obj0_x'\u001b[0m, \u001b[32m'obj0_y'\u001b[0m, \u001b[32m'obj0_z'\u001b[0m, \u001b[32m'obj0_dx'\u001b[0m, \u001b[32m'obj0_dy'\u001b[0m, \u001b[32m'obj0_dz'\u001b[0m, \u001b[32m'obj0_v_x'\u001b[0m, \u001b[32m'obj0_v_y'\u001b[0m, \n",
       "\u001b[32m'obj0_v_z'\u001b[0m, \u001b[32m'obj0_dv_x'\u001b[0m, \u001b[32m'obj0_dv_y'\u001b[0m, \u001b[32m'obj0_dv_z'\u001b[0m, \u001b[32m'obj0_dv_norm'\u001b[0m, \u001b[32m'obj0_dv_theta'\u001b[0m, \n",
       "\u001b[32m'obj0_dv_phi'\u001b[0m, \u001b[32m'obj1_size_eff'\u001b[0m, \u001b[32m'obj1_size'\u001b[0m, \u001b[32m'obj1_theta'\u001b[0m, \u001b[32m'obj1_phi'\u001b[0m, \u001b[32m'obj1_x'\u001b[0m, \u001b[32m'obj1_y'\u001b[0m, \n",
       "\u001b[32m'obj1_z'\u001b[0m, \u001b[32m'obj1_dx'\u001b[0m, \u001b[32m'obj1_dy'\u001b[0m, \u001b[32m'obj1_dz'\u001b[0m, \u001b[32m'obj1_v_x'\u001b[0m, \u001b[32m'obj1_v_y'\u001b[0m, \u001b[32m'obj1_v_z'\u001b[0m, \u001b[32m'obj1_dv_x'\u001b[0m, \n",
       "\u001b[32m'obj1_dv_y'\u001b[0m, \u001b[32m'obj1_dv_z'\u001b[0m, \u001b[32m'obj1_dv_norm'\u001b[0m, \u001b[32m'obj1_dv_theta'\u001b[0m, \u001b[32m'obj1_dv_phi'\u001b[0m, \u001b[32m'obj2_size_eff'\u001b[0m, \n",
       "\u001b[32m'obj2_size'\u001b[0m, \u001b[32m'obj2_theta'\u001b[0m, \u001b[32m'obj2_phi'\u001b[0m, \u001b[32m'obj2_x'\u001b[0m, \u001b[32m'obj2_y'\u001b[0m, \u001b[32m'obj2_z'\u001b[0m, \u001b[32m'obj2_dx'\u001b[0m, \u001b[32m'obj2_dy'\u001b[0m, \n",
       "\u001b[32m'obj2_dz'\u001b[0m, \u001b[32m'obj2_v_x'\u001b[0m, \u001b[32m'obj2_v_y'\u001b[0m, \u001b[32m'obj2_v_z'\u001b[0m, \u001b[32m'obj2_dv_x'\u001b[0m, \u001b[32m'obj2_dv_y'\u001b[0m, \u001b[32m'obj2_dv_z'\u001b[0m, \n",
       "\u001b[32m'obj2_dv_norm'\u001b[0m, \u001b[32m'obj2_dv_theta'\u001b[0m, \u001b[32m'obj2_dv_phi'\u001b[0m, \u001b[32m'obj3_size_eff'\u001b[0m, \u001b[32m'obj3_size'\u001b[0m, \u001b[32m'obj3_theta'\u001b[0m, \n",
       "\u001b[32m'obj3_phi'\u001b[0m, \u001b[32m'obj3_x'\u001b[0m, \u001b[32m'obj3_y'\u001b[0m, \u001b[32m'obj3_z'\u001b[0m, \u001b[32m'obj3_dx'\u001b[0m, \u001b[32m'obj3_dy'\u001b[0m, \u001b[32m'obj3_dz'\u001b[0m, \u001b[32m'obj3_v_x'\u001b[0m, \n",
       "\u001b[32m'obj3_v_y'\u001b[0m, \u001b[32m'obj3_v_z'\u001b[0m, \u001b[32m'obj3_dv_x'\u001b[0m, \u001b[32m'obj3_dv_y'\u001b[0m, \u001b[32m'obj3_dv_z'\u001b[0m, \u001b[32m'obj3_dv_norm'\u001b[0m, \n",
       "\u001b[32m'obj3_dv_theta'\u001b[0m, \u001b[32m'obj3_dv_phi'\u001b[0m, \u001b[32m'obj4_size_eff'\u001b[0m, \u001b[32m'obj4_size'\u001b[0m, \u001b[32m'obj4_theta'\u001b[0m, \u001b[32m'obj4_phi'\u001b[0m, \n",
       "\u001b[32m'obj4_x'\u001b[0m, \u001b[32m'obj4_y'\u001b[0m, \u001b[32m'obj4_z'\u001b[0m, \u001b[32m'obj4_dx'\u001b[0m, \u001b[32m'obj4_dy'\u001b[0m, \u001b[32m'obj4_dz'\u001b[0m, \u001b[32m'obj4_v_x'\u001b[0m, \u001b[32m'obj4_v_y'\u001b[0m, \n",
       "\u001b[32m'obj4_v_z'\u001b[0m, \u001b[32m'obj4_dv_x'\u001b[0m, \u001b[32m'obj4_dv_y'\u001b[0m, \u001b[32m'obj4_dv_z'\u001b[0m, \u001b[32m'obj4_dv_norm'\u001b[0m, \u001b[32m'obj4_dv_theta'\u001b[0m, \n",
       "\u001b[32m'obj4_dv_phi'\u001b[0m, \u001b[32m'obj5_size_eff'\u001b[0m, \u001b[32m'obj5_size'\u001b[0m, \u001b[32m'obj5_theta'\u001b[0m, \u001b[32m'obj5_phi'\u001b[0m, \u001b[32m'obj5_x'\u001b[0m, \u001b[32m'obj5_y'\u001b[0m, \n",
       "\u001b[32m'obj5_z'\u001b[0m, \u001b[32m'obj5_dx'\u001b[0m, \u001b[32m'obj5_dy'\u001b[0m, \u001b[32m'obj5_dz'\u001b[0m, \u001b[32m'obj5_v_x'\u001b[0m, \u001b[32m'obj5_v_y'\u001b[0m, \u001b[32m'obj5_v_z'\u001b[0m, \u001b[32m'obj5_dv_x'\u001b[0m, \n",
       "\u001b[32m'obj5_dv_y'\u001b[0m, \u001b[32m'obj5_dv_z'\u001b[0m, \u001b[32m'obj5_dv_norm'\u001b[0m, \u001b[32m'obj5_dv_theta'\u001b[0m, \u001b[32m'obj5_dv_phi'\u001b[0m, \u001b[32m'obj6_size_eff'\u001b[0m, \n",
       "\u001b[32m'obj6_size'\u001b[0m, \u001b[32m'obj6_theta'\u001b[0m, \u001b[32m'obj6_phi'\u001b[0m, \u001b[32m'obj6_x'\u001b[0m, \u001b[32m'obj6_y'\u001b[0m, \u001b[32m'obj6_z'\u001b[0m, \u001b[32m'obj6_dx'\u001b[0m, \u001b[32m'obj6_dy'\u001b[0m, \n",
       "\u001b[32m'obj6_dz'\u001b[0m, \u001b[32m'obj6_v_x'\u001b[0m, \u001b[32m'obj6_v_y'\u001b[0m, \u001b[32m'obj6_v_z'\u001b[0m, \u001b[32m'obj6_dv_x'\u001b[0m, \u001b[32m'obj6_dv_y'\u001b[0m, \u001b[32m'obj6_dv_z'\u001b[0m, \n",
       "\u001b[32m'obj6_dv_norm'\u001b[0m, \u001b[32m'obj6_dv_theta'\u001b[0m, \u001b[32m'obj6_dv_phi'\u001b[0m, \u001b[32m'obj7_size_eff'\u001b[0m, \u001b[32m'obj7_size'\u001b[0m, \u001b[32m'obj7_theta'\u001b[0m, \n",
       "\u001b[32m'obj7_phi'\u001b[0m, \u001b[32m'obj7_x'\u001b[0m, \u001b[32m'obj7_y'\u001b[0m, \u001b[32m'obj7_z'\u001b[0m, \u001b[32m'obj7_dx'\u001b[0m, \u001b[32m'obj7_dy'\u001b[0m, \u001b[32m'obj7_dz'\u001b[0m, \u001b[32m'obj7_v_x'\u001b[0m, \n",
       "\u001b[32m'obj7_v_y'\u001b[0m, \u001b[32m'obj7_v_z'\u001b[0m, \u001b[32m'obj7_dv_x'\u001b[0m, \u001b[32m'obj7_dv_y'\u001b[0m, \u001b[32m'obj7_dv_z'\u001b[0m, \u001b[32m'obj7_dv_norm'\u001b[0m, \n",
       "\u001b[32m'obj7_dv_theta'\u001b[0m, \u001b[32m'obj7_dv_phi'\u001b[0m\u001b[1m]\u001b[0m\n",
       " ~~~~~~~~~~~~~~~~~~~~~~~~~~~~~~~~~~~~~~~~~~~~~~~~~~~~~~~~~~~~~~~~~~~~~~~~~~~~~~~~\n"
      ]
     },
     "metadata": {},
     "output_type": "display_data"
    },
    {
     "data": {
      "text/html": [
       "<pre style=\"white-space:pre;overflow-x:auto;line-height:normal;font-family:Menlo,'DejaVu Sans Mono',consolas,'Courier New',monospace\">\n",
       "\n",
       "\n",
       "</pre>\n"
      ],
      "text/plain": [
       "\n",
       "\n",
       "\n"
      ]
     },
     "metadata": {},
     "output_type": "display_data"
    },
    {
     "data": {
      "text/html": [
       "<pre style=\"white-space:pre;overflow-x:auto;line-height:normal;font-family:Menlo,'DejaVu Sans Mono',consolas,'Courier New',monospace\">-------------------------------------------------------------------------------- \n",
       "category: obj, n_obj = <span style=\"color: #008080; text-decoration-color: #008080; font-weight: bold\">1</span>\n",
       "</pre>\n"
      ],
      "text/plain": [
       "-------------------------------------------------------------------------------- \n",
       "category: obj, n_obj = \u001b[1;36m1\u001b[0m\n"
      ]
     },
     "metadata": {},
     "output_type": "display_data"
    },
    {
     "data": {
      "text/html": [
       "<pre style=\"white-space:pre;overflow-x:auto;line-height:normal;font-family:Menlo,'DejaVu Sans Mono',consolas,'Courier New',monospace\">factors:\n",
       "<span style=\"font-weight: bold\">[</span><span style=\"color: #008000; text-decoration-color: #008000\">'fix_x'</span>, <span style=\"color: #008000; text-decoration-color: #008000\">'fix_y'</span>, <span style=\"color: #008000; text-decoration-color: #008000\">'obj0_alpha_x'</span>, <span style=\"color: #008000; text-decoration-color: #008000\">'obj0_alpha_y'</span>, <span style=\"color: #008000; text-decoration-color: #008000\">'obj0_distance'</span>, <span style=\"color: #008000; text-decoration-color: #008000\">'obj0_v_norm'</span>, \n",
       "<span style=\"color: #008000; text-decoration-color: #008000\">'obj0_v_theta'</span>, <span style=\"color: #008000; text-decoration-color: #008000\">'obj0_v_phi'</span><span style=\"font-weight: bold\">]</span>\n",
       "</pre>\n"
      ],
      "text/plain": [
       "factors:\n",
       "\u001b[1m[\u001b[0m\u001b[32m'fix_x'\u001b[0m, \u001b[32m'fix_y'\u001b[0m, \u001b[32m'obj0_alpha_x'\u001b[0m, \u001b[32m'obj0_alpha_y'\u001b[0m, \u001b[32m'obj0_distance'\u001b[0m, \u001b[32m'obj0_v_norm'\u001b[0m, \n",
       "\u001b[32m'obj0_v_theta'\u001b[0m, \u001b[32m'obj0_v_phi'\u001b[0m\u001b[1m]\u001b[0m\n"
      ]
     },
     "metadata": {},
     "output_type": "display_data"
    },
    {
     "data": {
      "text/html": [
       "<pre style=\"white-space:pre;overflow-x:auto;line-height:normal;font-family:Menlo,'DejaVu Sans Mono',consolas,'Courier New',monospace\">factors_aux:\n",
       "<span style=\"font-weight: bold\">[</span><span style=\"color: #008000; text-decoration-color: #008000\">'obj0_size_eff'</span>, <span style=\"color: #008000; text-decoration-color: #008000\">'obj0_size'</span>, <span style=\"color: #008000; text-decoration-color: #008000\">'obj0_theta'</span>, <span style=\"color: #008000; text-decoration-color: #008000\">'obj0_phi'</span>, <span style=\"color: #008000; text-decoration-color: #008000\">'obj0_x'</span>, <span style=\"color: #008000; text-decoration-color: #008000\">'obj0_y'</span>, <span style=\"color: #008000; text-decoration-color: #008000\">'obj0_z'</span>, \n",
       "<span style=\"color: #008000; text-decoration-color: #008000\">'obj0_dx'</span>, <span style=\"color: #008000; text-decoration-color: #008000\">'obj0_dy'</span>, <span style=\"color: #008000; text-decoration-color: #008000\">'obj0_dz'</span>, <span style=\"color: #008000; text-decoration-color: #008000\">'obj0_v_x'</span>, <span style=\"color: #008000; text-decoration-color: #008000\">'obj0_v_y'</span>, <span style=\"color: #008000; text-decoration-color: #008000\">'obj0_v_z'</span><span style=\"font-weight: bold\">]</span>\n",
       " ~~~~~~~~~~~~~~~~~~~~~~~~~~~~~~~~~~~~~~~~~~~~~~~~~~~~~~~~~~~~~~~~~~~~~~~~~~~~~~~~\n",
       "</pre>\n"
      ],
      "text/plain": [
       "factors_aux:\n",
       "\u001b[1m[\u001b[0m\u001b[32m'obj0_size_eff'\u001b[0m, \u001b[32m'obj0_size'\u001b[0m, \u001b[32m'obj0_theta'\u001b[0m, \u001b[32m'obj0_phi'\u001b[0m, \u001b[32m'obj0_x'\u001b[0m, \u001b[32m'obj0_y'\u001b[0m, \u001b[32m'obj0_z'\u001b[0m, \n",
       "\u001b[32m'obj0_dx'\u001b[0m, \u001b[32m'obj0_dy'\u001b[0m, \u001b[32m'obj0_dz'\u001b[0m, \u001b[32m'obj0_v_x'\u001b[0m, \u001b[32m'obj0_v_y'\u001b[0m, \u001b[32m'obj0_v_z'\u001b[0m\u001b[1m]\u001b[0m\n",
       " ~~~~~~~~~~~~~~~~~~~~~~~~~~~~~~~~~~~~~~~~~~~~~~~~~~~~~~~~~~~~~~~~~~~~~~~~~~~~~~~~\n"
      ]
     },
     "metadata": {},
     "output_type": "display_data"
    },
    {
     "data": {
      "text/html": [
       "<pre style=\"white-space:pre;overflow-x:auto;line-height:normal;font-family:Menlo,'DejaVu Sans Mono',consolas,'Courier New',monospace\">\n",
       "\n",
       "\n",
       "</pre>\n"
      ],
      "text/plain": [
       "\n",
       "\n",
       "\n"
      ]
     },
     "metadata": {},
     "output_type": "display_data"
    },
    {
     "data": {
      "text/html": [
       "<pre style=\"white-space:pre;overflow-x:auto;line-height:normal;font-family:Menlo,'DejaVu Sans Mono',consolas,'Courier New',monospace\">-------------------------------------------------------------------------------- \n",
       "category: obj, n_obj = <span style=\"color: #008080; text-decoration-color: #008080; font-weight: bold\">2</span>\n",
       "</pre>\n"
      ],
      "text/plain": [
       "-------------------------------------------------------------------------------- \n",
       "category: obj, n_obj = \u001b[1;36m2\u001b[0m\n"
      ]
     },
     "metadata": {},
     "output_type": "display_data"
    },
    {
     "data": {
      "text/html": [
       "<pre style=\"white-space:pre;overflow-x:auto;line-height:normal;font-family:Menlo,'DejaVu Sans Mono',consolas,'Courier New',monospace\">factors:\n",
       "<span style=\"font-weight: bold\">[</span><span style=\"color: #008000; text-decoration-color: #008000\">'fix_x'</span>, <span style=\"color: #008000; text-decoration-color: #008000\">'fix_y'</span>, <span style=\"color: #008000; text-decoration-color: #008000\">'obj0_alpha_x'</span>, <span style=\"color: #008000; text-decoration-color: #008000\">'obj0_alpha_y'</span>, <span style=\"color: #008000; text-decoration-color: #008000\">'obj0_distance'</span>, <span style=\"color: #008000; text-decoration-color: #008000\">'obj0_v_norm'</span>, \n",
       "<span style=\"color: #008000; text-decoration-color: #008000\">'obj0_v_theta'</span>, <span style=\"color: #008000; text-decoration-color: #008000\">'obj0_v_phi'</span>, <span style=\"color: #008000; text-decoration-color: #008000\">'obj1_alpha_x'</span>, <span style=\"color: #008000; text-decoration-color: #008000\">'obj1_alpha_y'</span>, <span style=\"color: #008000; text-decoration-color: #008000\">'obj1_distance'</span>, <span style=\"color: #008000; text-decoration-color: #008000\">'obj1_v_norm'</span>,\n",
       "<span style=\"color: #008000; text-decoration-color: #008000\">'obj1_v_theta'</span>, <span style=\"color: #008000; text-decoration-color: #008000\">'obj1_v_phi'</span><span style=\"font-weight: bold\">]</span>\n",
       "</pre>\n"
      ],
      "text/plain": [
       "factors:\n",
       "\u001b[1m[\u001b[0m\u001b[32m'fix_x'\u001b[0m, \u001b[32m'fix_y'\u001b[0m, \u001b[32m'obj0_alpha_x'\u001b[0m, \u001b[32m'obj0_alpha_y'\u001b[0m, \u001b[32m'obj0_distance'\u001b[0m, \u001b[32m'obj0_v_norm'\u001b[0m, \n",
       "\u001b[32m'obj0_v_theta'\u001b[0m, \u001b[32m'obj0_v_phi'\u001b[0m, \u001b[32m'obj1_alpha_x'\u001b[0m, \u001b[32m'obj1_alpha_y'\u001b[0m, \u001b[32m'obj1_distance'\u001b[0m, \u001b[32m'obj1_v_norm'\u001b[0m,\n",
       "\u001b[32m'obj1_v_theta'\u001b[0m, \u001b[32m'obj1_v_phi'\u001b[0m\u001b[1m]\u001b[0m\n"
      ]
     },
     "metadata": {},
     "output_type": "display_data"
    },
    {
     "data": {
      "text/html": [
       "<pre style=\"white-space:pre;overflow-x:auto;line-height:normal;font-family:Menlo,'DejaVu Sans Mono',consolas,'Courier New',monospace\">factors_aux:\n",
       "<span style=\"font-weight: bold\">[</span><span style=\"color: #008000; text-decoration-color: #008000\">'obj0_size_eff'</span>, <span style=\"color: #008000; text-decoration-color: #008000\">'obj0_size'</span>, <span style=\"color: #008000; text-decoration-color: #008000\">'obj0_theta'</span>, <span style=\"color: #008000; text-decoration-color: #008000\">'obj0_phi'</span>, <span style=\"color: #008000; text-decoration-color: #008000\">'obj0_x'</span>, <span style=\"color: #008000; text-decoration-color: #008000\">'obj0_y'</span>, <span style=\"color: #008000; text-decoration-color: #008000\">'obj0_z'</span>, \n",
       "<span style=\"color: #008000; text-decoration-color: #008000\">'obj0_dx'</span>, <span style=\"color: #008000; text-decoration-color: #008000\">'obj0_dy'</span>, <span style=\"color: #008000; text-decoration-color: #008000\">'obj0_dz'</span>, <span style=\"color: #008000; text-decoration-color: #008000\">'obj0_v_x'</span>, <span style=\"color: #008000; text-decoration-color: #008000\">'obj0_v_y'</span>, <span style=\"color: #008000; text-decoration-color: #008000\">'obj0_v_z'</span>, <span style=\"color: #008000; text-decoration-color: #008000\">'obj1_size_eff'</span>, \n",
       "<span style=\"color: #008000; text-decoration-color: #008000\">'obj1_size'</span>, <span style=\"color: #008000; text-decoration-color: #008000\">'obj1_theta'</span>, <span style=\"color: #008000; text-decoration-color: #008000\">'obj1_phi'</span>, <span style=\"color: #008000; text-decoration-color: #008000\">'obj1_x'</span>, <span style=\"color: #008000; text-decoration-color: #008000\">'obj1_y'</span>, <span style=\"color: #008000; text-decoration-color: #008000\">'obj1_z'</span>, <span style=\"color: #008000; text-decoration-color: #008000\">'obj1_dx'</span>, <span style=\"color: #008000; text-decoration-color: #008000\">'obj1_dy'</span>, \n",
       "<span style=\"color: #008000; text-decoration-color: #008000\">'obj1_dz'</span>, <span style=\"color: #008000; text-decoration-color: #008000\">'obj1_v_x'</span>, <span style=\"color: #008000; text-decoration-color: #008000\">'obj1_v_y'</span>, <span style=\"color: #008000; text-decoration-color: #008000\">'obj1_v_z'</span><span style=\"font-weight: bold\">]</span>\n",
       " ~~~~~~~~~~~~~~~~~~~~~~~~~~~~~~~~~~~~~~~~~~~~~~~~~~~~~~~~~~~~~~~~~~~~~~~~~~~~~~~~\n",
       "</pre>\n"
      ],
      "text/plain": [
       "factors_aux:\n",
       "\u001b[1m[\u001b[0m\u001b[32m'obj0_size_eff'\u001b[0m, \u001b[32m'obj0_size'\u001b[0m, \u001b[32m'obj0_theta'\u001b[0m, \u001b[32m'obj0_phi'\u001b[0m, \u001b[32m'obj0_x'\u001b[0m, \u001b[32m'obj0_y'\u001b[0m, \u001b[32m'obj0_z'\u001b[0m, \n",
       "\u001b[32m'obj0_dx'\u001b[0m, \u001b[32m'obj0_dy'\u001b[0m, \u001b[32m'obj0_dz'\u001b[0m, \u001b[32m'obj0_v_x'\u001b[0m, \u001b[32m'obj0_v_y'\u001b[0m, \u001b[32m'obj0_v_z'\u001b[0m, \u001b[32m'obj1_size_eff'\u001b[0m, \n",
       "\u001b[32m'obj1_size'\u001b[0m, \u001b[32m'obj1_theta'\u001b[0m, \u001b[32m'obj1_phi'\u001b[0m, \u001b[32m'obj1_x'\u001b[0m, \u001b[32m'obj1_y'\u001b[0m, \u001b[32m'obj1_z'\u001b[0m, \u001b[32m'obj1_dx'\u001b[0m, \u001b[32m'obj1_dy'\u001b[0m, \n",
       "\u001b[32m'obj1_dz'\u001b[0m, \u001b[32m'obj1_v_x'\u001b[0m, \u001b[32m'obj1_v_y'\u001b[0m, \u001b[32m'obj1_v_z'\u001b[0m\u001b[1m]\u001b[0m\n",
       " ~~~~~~~~~~~~~~~~~~~~~~~~~~~~~~~~~~~~~~~~~~~~~~~~~~~~~~~~~~~~~~~~~~~~~~~~~~~~~~~~\n"
      ]
     },
     "metadata": {},
     "output_type": "display_data"
    },
    {
     "data": {
      "text/html": [
       "<pre style=\"white-space:pre;overflow-x:auto;line-height:normal;font-family:Menlo,'DejaVu Sans Mono',consolas,'Courier New',monospace\">\n",
       "\n",
       "\n",
       "</pre>\n"
      ],
      "text/plain": [
       "\n",
       "\n",
       "\n"
      ]
     },
     "metadata": {},
     "output_type": "display_data"
    },
    {
     "data": {
      "text/html": [
       "<pre style=\"white-space:pre;overflow-x:auto;line-height:normal;font-family:Menlo,'DejaVu Sans Mono',consolas,'Courier New',monospace\">-------------------------------------------------------------------------------- \n",
       "category: obj, n_obj = <span style=\"color: #008080; text-decoration-color: #008080; font-weight: bold\">4</span>\n",
       "</pre>\n"
      ],
      "text/plain": [
       "-------------------------------------------------------------------------------- \n",
       "category: obj, n_obj = \u001b[1;36m4\u001b[0m\n"
      ]
     },
     "metadata": {},
     "output_type": "display_data"
    },
    {
     "data": {
      "text/html": [
       "<pre style=\"white-space:pre;overflow-x:auto;line-height:normal;font-family:Menlo,'DejaVu Sans Mono',consolas,'Courier New',monospace\">factors:\n",
       "<span style=\"font-weight: bold\">[</span><span style=\"color: #008000; text-decoration-color: #008000\">'fix_x'</span>, <span style=\"color: #008000; text-decoration-color: #008000\">'fix_y'</span>, <span style=\"color: #008000; text-decoration-color: #008000\">'obj0_alpha_x'</span>, <span style=\"color: #008000; text-decoration-color: #008000\">'obj0_alpha_y'</span>, <span style=\"color: #008000; text-decoration-color: #008000\">'obj0_distance'</span>, <span style=\"color: #008000; text-decoration-color: #008000\">'obj0_v_norm'</span>, \n",
       "<span style=\"color: #008000; text-decoration-color: #008000\">'obj0_v_theta'</span>, <span style=\"color: #008000; text-decoration-color: #008000\">'obj0_v_phi'</span>, <span style=\"color: #008000; text-decoration-color: #008000\">'obj1_alpha_x'</span>, <span style=\"color: #008000; text-decoration-color: #008000\">'obj1_alpha_y'</span>, <span style=\"color: #008000; text-decoration-color: #008000\">'obj1_distance'</span>, <span style=\"color: #008000; text-decoration-color: #008000\">'obj1_v_norm'</span>,\n",
       "<span style=\"color: #008000; text-decoration-color: #008000\">'obj1_v_theta'</span>, <span style=\"color: #008000; text-decoration-color: #008000\">'obj1_v_phi'</span>, <span style=\"color: #008000; text-decoration-color: #008000\">'obj2_alpha_x'</span>, <span style=\"color: #008000; text-decoration-color: #008000\">'obj2_alpha_y'</span>, <span style=\"color: #008000; text-decoration-color: #008000\">'obj2_distance'</span>, <span style=\"color: #008000; text-decoration-color: #008000\">'obj2_v_norm'</span>,\n",
       "<span style=\"color: #008000; text-decoration-color: #008000\">'obj2_v_theta'</span>, <span style=\"color: #008000; text-decoration-color: #008000\">'obj2_v_phi'</span>, <span style=\"color: #008000; text-decoration-color: #008000\">'obj3_alpha_x'</span>, <span style=\"color: #008000; text-decoration-color: #008000\">'obj3_alpha_y'</span>, <span style=\"color: #008000; text-decoration-color: #008000\">'obj3_distance'</span>, <span style=\"color: #008000; text-decoration-color: #008000\">'obj3_v_norm'</span>,\n",
       "<span style=\"color: #008000; text-decoration-color: #008000\">'obj3_v_theta'</span>, <span style=\"color: #008000; text-decoration-color: #008000\">'obj3_v_phi'</span><span style=\"font-weight: bold\">]</span>\n",
       "</pre>\n"
      ],
      "text/plain": [
       "factors:\n",
       "\u001b[1m[\u001b[0m\u001b[32m'fix_x'\u001b[0m, \u001b[32m'fix_y'\u001b[0m, \u001b[32m'obj0_alpha_x'\u001b[0m, \u001b[32m'obj0_alpha_y'\u001b[0m, \u001b[32m'obj0_distance'\u001b[0m, \u001b[32m'obj0_v_norm'\u001b[0m, \n",
       "\u001b[32m'obj0_v_theta'\u001b[0m, \u001b[32m'obj0_v_phi'\u001b[0m, \u001b[32m'obj1_alpha_x'\u001b[0m, \u001b[32m'obj1_alpha_y'\u001b[0m, \u001b[32m'obj1_distance'\u001b[0m, \u001b[32m'obj1_v_norm'\u001b[0m,\n",
       "\u001b[32m'obj1_v_theta'\u001b[0m, \u001b[32m'obj1_v_phi'\u001b[0m, \u001b[32m'obj2_alpha_x'\u001b[0m, \u001b[32m'obj2_alpha_y'\u001b[0m, \u001b[32m'obj2_distance'\u001b[0m, \u001b[32m'obj2_v_norm'\u001b[0m,\n",
       "\u001b[32m'obj2_v_theta'\u001b[0m, \u001b[32m'obj2_v_phi'\u001b[0m, \u001b[32m'obj3_alpha_x'\u001b[0m, \u001b[32m'obj3_alpha_y'\u001b[0m, \u001b[32m'obj3_distance'\u001b[0m, \u001b[32m'obj3_v_norm'\u001b[0m,\n",
       "\u001b[32m'obj3_v_theta'\u001b[0m, \u001b[32m'obj3_v_phi'\u001b[0m\u001b[1m]\u001b[0m\n"
      ]
     },
     "metadata": {},
     "output_type": "display_data"
    },
    {
     "data": {
      "text/html": [
       "<pre style=\"white-space:pre;overflow-x:auto;line-height:normal;font-family:Menlo,'DejaVu Sans Mono',consolas,'Courier New',monospace\">factors_aux:\n",
       "<span style=\"font-weight: bold\">[</span><span style=\"color: #008000; text-decoration-color: #008000\">'obj0_size_eff'</span>, <span style=\"color: #008000; text-decoration-color: #008000\">'obj0_size'</span>, <span style=\"color: #008000; text-decoration-color: #008000\">'obj0_theta'</span>, <span style=\"color: #008000; text-decoration-color: #008000\">'obj0_phi'</span>, <span style=\"color: #008000; text-decoration-color: #008000\">'obj0_x'</span>, <span style=\"color: #008000; text-decoration-color: #008000\">'obj0_y'</span>, <span style=\"color: #008000; text-decoration-color: #008000\">'obj0_z'</span>, \n",
       "<span style=\"color: #008000; text-decoration-color: #008000\">'obj0_dx'</span>, <span style=\"color: #008000; text-decoration-color: #008000\">'obj0_dy'</span>, <span style=\"color: #008000; text-decoration-color: #008000\">'obj0_dz'</span>, <span style=\"color: #008000; text-decoration-color: #008000\">'obj0_v_x'</span>, <span style=\"color: #008000; text-decoration-color: #008000\">'obj0_v_y'</span>, <span style=\"color: #008000; text-decoration-color: #008000\">'obj0_v_z'</span>, <span style=\"color: #008000; text-decoration-color: #008000\">'obj1_size_eff'</span>, \n",
       "<span style=\"color: #008000; text-decoration-color: #008000\">'obj1_size'</span>, <span style=\"color: #008000; text-decoration-color: #008000\">'obj1_theta'</span>, <span style=\"color: #008000; text-decoration-color: #008000\">'obj1_phi'</span>, <span style=\"color: #008000; text-decoration-color: #008000\">'obj1_x'</span>, <span style=\"color: #008000; text-decoration-color: #008000\">'obj1_y'</span>, <span style=\"color: #008000; text-decoration-color: #008000\">'obj1_z'</span>, <span style=\"color: #008000; text-decoration-color: #008000\">'obj1_dx'</span>, <span style=\"color: #008000; text-decoration-color: #008000\">'obj1_dy'</span>, \n",
       "<span style=\"color: #008000; text-decoration-color: #008000\">'obj1_dz'</span>, <span style=\"color: #008000; text-decoration-color: #008000\">'obj1_v_x'</span>, <span style=\"color: #008000; text-decoration-color: #008000\">'obj1_v_y'</span>, <span style=\"color: #008000; text-decoration-color: #008000\">'obj1_v_z'</span>, <span style=\"color: #008000; text-decoration-color: #008000\">'obj2_size_eff'</span>, <span style=\"color: #008000; text-decoration-color: #008000\">'obj2_size'</span>, <span style=\"color: #008000; text-decoration-color: #008000\">'obj2_theta'</span>, \n",
       "<span style=\"color: #008000; text-decoration-color: #008000\">'obj2_phi'</span>, <span style=\"color: #008000; text-decoration-color: #008000\">'obj2_x'</span>, <span style=\"color: #008000; text-decoration-color: #008000\">'obj2_y'</span>, <span style=\"color: #008000; text-decoration-color: #008000\">'obj2_z'</span>, <span style=\"color: #008000; text-decoration-color: #008000\">'obj2_dx'</span>, <span style=\"color: #008000; text-decoration-color: #008000\">'obj2_dy'</span>, <span style=\"color: #008000; text-decoration-color: #008000\">'obj2_dz'</span>, <span style=\"color: #008000; text-decoration-color: #008000\">'obj2_v_x'</span>, \n",
       "<span style=\"color: #008000; text-decoration-color: #008000\">'obj2_v_y'</span>, <span style=\"color: #008000; text-decoration-color: #008000\">'obj2_v_z'</span>, <span style=\"color: #008000; text-decoration-color: #008000\">'obj3_size_eff'</span>, <span style=\"color: #008000; text-decoration-color: #008000\">'obj3_size'</span>, <span style=\"color: #008000; text-decoration-color: #008000\">'obj3_theta'</span>, <span style=\"color: #008000; text-decoration-color: #008000\">'obj3_phi'</span>, <span style=\"color: #008000; text-decoration-color: #008000\">'obj3_x'</span>, \n",
       "<span style=\"color: #008000; text-decoration-color: #008000\">'obj3_y'</span>, <span style=\"color: #008000; text-decoration-color: #008000\">'obj3_z'</span>, <span style=\"color: #008000; text-decoration-color: #008000\">'obj3_dx'</span>, <span style=\"color: #008000; text-decoration-color: #008000\">'obj3_dy'</span>, <span style=\"color: #008000; text-decoration-color: #008000\">'obj3_dz'</span>, <span style=\"color: #008000; text-decoration-color: #008000\">'obj3_v_x'</span>, <span style=\"color: #008000; text-decoration-color: #008000\">'obj3_v_y'</span>, <span style=\"color: #008000; text-decoration-color: #008000\">'obj3_v_z'</span><span style=\"font-weight: bold\">]</span>\n",
       " ~~~~~~~~~~~~~~~~~~~~~~~~~~~~~~~~~~~~~~~~~~~~~~~~~~~~~~~~~~~~~~~~~~~~~~~~~~~~~~~~\n",
       "</pre>\n"
      ],
      "text/plain": [
       "factors_aux:\n",
       "\u001b[1m[\u001b[0m\u001b[32m'obj0_size_eff'\u001b[0m, \u001b[32m'obj0_size'\u001b[0m, \u001b[32m'obj0_theta'\u001b[0m, \u001b[32m'obj0_phi'\u001b[0m, \u001b[32m'obj0_x'\u001b[0m, \u001b[32m'obj0_y'\u001b[0m, \u001b[32m'obj0_z'\u001b[0m, \n",
       "\u001b[32m'obj0_dx'\u001b[0m, \u001b[32m'obj0_dy'\u001b[0m, \u001b[32m'obj0_dz'\u001b[0m, \u001b[32m'obj0_v_x'\u001b[0m, \u001b[32m'obj0_v_y'\u001b[0m, \u001b[32m'obj0_v_z'\u001b[0m, \u001b[32m'obj1_size_eff'\u001b[0m, \n",
       "\u001b[32m'obj1_size'\u001b[0m, \u001b[32m'obj1_theta'\u001b[0m, \u001b[32m'obj1_phi'\u001b[0m, \u001b[32m'obj1_x'\u001b[0m, \u001b[32m'obj1_y'\u001b[0m, \u001b[32m'obj1_z'\u001b[0m, \u001b[32m'obj1_dx'\u001b[0m, \u001b[32m'obj1_dy'\u001b[0m, \n",
       "\u001b[32m'obj1_dz'\u001b[0m, \u001b[32m'obj1_v_x'\u001b[0m, \u001b[32m'obj1_v_y'\u001b[0m, \u001b[32m'obj1_v_z'\u001b[0m, \u001b[32m'obj2_size_eff'\u001b[0m, \u001b[32m'obj2_size'\u001b[0m, \u001b[32m'obj2_theta'\u001b[0m, \n",
       "\u001b[32m'obj2_phi'\u001b[0m, \u001b[32m'obj2_x'\u001b[0m, \u001b[32m'obj2_y'\u001b[0m, \u001b[32m'obj2_z'\u001b[0m, \u001b[32m'obj2_dx'\u001b[0m, \u001b[32m'obj2_dy'\u001b[0m, \u001b[32m'obj2_dz'\u001b[0m, \u001b[32m'obj2_v_x'\u001b[0m, \n",
       "\u001b[32m'obj2_v_y'\u001b[0m, \u001b[32m'obj2_v_z'\u001b[0m, \u001b[32m'obj3_size_eff'\u001b[0m, \u001b[32m'obj3_size'\u001b[0m, \u001b[32m'obj3_theta'\u001b[0m, \u001b[32m'obj3_phi'\u001b[0m, \u001b[32m'obj3_x'\u001b[0m, \n",
       "\u001b[32m'obj3_y'\u001b[0m, \u001b[32m'obj3_z'\u001b[0m, \u001b[32m'obj3_dx'\u001b[0m, \u001b[32m'obj3_dy'\u001b[0m, \u001b[32m'obj3_dz'\u001b[0m, \u001b[32m'obj3_v_x'\u001b[0m, \u001b[32m'obj3_v_y'\u001b[0m, \u001b[32m'obj3_v_z'\u001b[0m\u001b[1m]\u001b[0m\n",
       " ~~~~~~~~~~~~~~~~~~~~~~~~~~~~~~~~~~~~~~~~~~~~~~~~~~~~~~~~~~~~~~~~~~~~~~~~~~~~~~~~\n"
      ]
     },
     "metadata": {},
     "output_type": "display_data"
    },
    {
     "data": {
      "text/html": [
       "<pre style=\"white-space:pre;overflow-x:auto;line-height:normal;font-family:Menlo,'DejaVu Sans Mono',consolas,'Courier New',monospace\">\n",
       "\n",
       "\n",
       "</pre>\n"
      ],
      "text/plain": [
       "\n",
       "\n",
       "\n"
      ]
     },
     "metadata": {},
     "output_type": "display_data"
    },
    {
     "data": {
      "text/html": [
       "<pre style=\"white-space:pre;overflow-x:auto;line-height:normal;font-family:Menlo,'DejaVu Sans Mono',consolas,'Courier New',monospace\">-------------------------------------------------------------------------------- \n",
       "category: obj, n_obj = <span style=\"color: #008080; text-decoration-color: #008080; font-weight: bold\">8</span>\n",
       "</pre>\n"
      ],
      "text/plain": [
       "-------------------------------------------------------------------------------- \n",
       "category: obj, n_obj = \u001b[1;36m8\u001b[0m\n"
      ]
     },
     "metadata": {},
     "output_type": "display_data"
    },
    {
     "data": {
      "text/html": [
       "<pre style=\"white-space:pre;overflow-x:auto;line-height:normal;font-family:Menlo,'DejaVu Sans Mono',consolas,'Courier New',monospace\">factors:\n",
       "<span style=\"font-weight: bold\">[</span><span style=\"color: #008000; text-decoration-color: #008000\">'fix_x'</span>, <span style=\"color: #008000; text-decoration-color: #008000\">'fix_y'</span>, <span style=\"color: #008000; text-decoration-color: #008000\">'obj0_alpha_x'</span>, <span style=\"color: #008000; text-decoration-color: #008000\">'obj0_alpha_y'</span>, <span style=\"color: #008000; text-decoration-color: #008000\">'obj0_distance'</span>, <span style=\"color: #008000; text-decoration-color: #008000\">'obj0_v_norm'</span>, \n",
       "<span style=\"color: #008000; text-decoration-color: #008000\">'obj0_v_theta'</span>, <span style=\"color: #008000; text-decoration-color: #008000\">'obj0_v_phi'</span>, <span style=\"color: #008000; text-decoration-color: #008000\">'obj1_alpha_x'</span>, <span style=\"color: #008000; text-decoration-color: #008000\">'obj1_alpha_y'</span>, <span style=\"color: #008000; text-decoration-color: #008000\">'obj1_distance'</span>, <span style=\"color: #008000; text-decoration-color: #008000\">'obj1_v_norm'</span>,\n",
       "<span style=\"color: #008000; text-decoration-color: #008000\">'obj1_v_theta'</span>, <span style=\"color: #008000; text-decoration-color: #008000\">'obj1_v_phi'</span>, <span style=\"color: #008000; text-decoration-color: #008000\">'obj2_alpha_x'</span>, <span style=\"color: #008000; text-decoration-color: #008000\">'obj2_alpha_y'</span>, <span style=\"color: #008000; text-decoration-color: #008000\">'obj2_distance'</span>, <span style=\"color: #008000; text-decoration-color: #008000\">'obj2_v_norm'</span>,\n",
       "<span style=\"color: #008000; text-decoration-color: #008000\">'obj2_v_theta'</span>, <span style=\"color: #008000; text-decoration-color: #008000\">'obj2_v_phi'</span>, <span style=\"color: #008000; text-decoration-color: #008000\">'obj3_alpha_x'</span>, <span style=\"color: #008000; text-decoration-color: #008000\">'obj3_alpha_y'</span>, <span style=\"color: #008000; text-decoration-color: #008000\">'obj3_distance'</span>, <span style=\"color: #008000; text-decoration-color: #008000\">'obj3_v_norm'</span>,\n",
       "<span style=\"color: #008000; text-decoration-color: #008000\">'obj3_v_theta'</span>, <span style=\"color: #008000; text-decoration-color: #008000\">'obj3_v_phi'</span>, <span style=\"color: #008000; text-decoration-color: #008000\">'obj4_alpha_x'</span>, <span style=\"color: #008000; text-decoration-color: #008000\">'obj4_alpha_y'</span>, <span style=\"color: #008000; text-decoration-color: #008000\">'obj4_distance'</span>, <span style=\"color: #008000; text-decoration-color: #008000\">'obj4_v_norm'</span>,\n",
       "<span style=\"color: #008000; text-decoration-color: #008000\">'obj4_v_theta'</span>, <span style=\"color: #008000; text-decoration-color: #008000\">'obj4_v_phi'</span>, <span style=\"color: #008000; text-decoration-color: #008000\">'obj5_alpha_x'</span>, <span style=\"color: #008000; text-decoration-color: #008000\">'obj5_alpha_y'</span>, <span style=\"color: #008000; text-decoration-color: #008000\">'obj5_distance'</span>, <span style=\"color: #008000; text-decoration-color: #008000\">'obj5_v_norm'</span>,\n",
       "<span style=\"color: #008000; text-decoration-color: #008000\">'obj5_v_theta'</span>, <span style=\"color: #008000; text-decoration-color: #008000\">'obj5_v_phi'</span>, <span style=\"color: #008000; text-decoration-color: #008000\">'obj6_alpha_x'</span>, <span style=\"color: #008000; text-decoration-color: #008000\">'obj6_alpha_y'</span>, <span style=\"color: #008000; text-decoration-color: #008000\">'obj6_distance'</span>, <span style=\"color: #008000; text-decoration-color: #008000\">'obj6_v_norm'</span>,\n",
       "<span style=\"color: #008000; text-decoration-color: #008000\">'obj6_v_theta'</span>, <span style=\"color: #008000; text-decoration-color: #008000\">'obj6_v_phi'</span>, <span style=\"color: #008000; text-decoration-color: #008000\">'obj7_alpha_x'</span>, <span style=\"color: #008000; text-decoration-color: #008000\">'obj7_alpha_y'</span>, <span style=\"color: #008000; text-decoration-color: #008000\">'obj7_distance'</span>, <span style=\"color: #008000; text-decoration-color: #008000\">'obj7_v_norm'</span>,\n",
       "<span style=\"color: #008000; text-decoration-color: #008000\">'obj7_v_theta'</span>, <span style=\"color: #008000; text-decoration-color: #008000\">'obj7_v_phi'</span><span style=\"font-weight: bold\">]</span>\n",
       "</pre>\n"
      ],
      "text/plain": [
       "factors:\n",
       "\u001b[1m[\u001b[0m\u001b[32m'fix_x'\u001b[0m, \u001b[32m'fix_y'\u001b[0m, \u001b[32m'obj0_alpha_x'\u001b[0m, \u001b[32m'obj0_alpha_y'\u001b[0m, \u001b[32m'obj0_distance'\u001b[0m, \u001b[32m'obj0_v_norm'\u001b[0m, \n",
       "\u001b[32m'obj0_v_theta'\u001b[0m, \u001b[32m'obj0_v_phi'\u001b[0m, \u001b[32m'obj1_alpha_x'\u001b[0m, \u001b[32m'obj1_alpha_y'\u001b[0m, \u001b[32m'obj1_distance'\u001b[0m, \u001b[32m'obj1_v_norm'\u001b[0m,\n",
       "\u001b[32m'obj1_v_theta'\u001b[0m, \u001b[32m'obj1_v_phi'\u001b[0m, \u001b[32m'obj2_alpha_x'\u001b[0m, \u001b[32m'obj2_alpha_y'\u001b[0m, \u001b[32m'obj2_distance'\u001b[0m, \u001b[32m'obj2_v_norm'\u001b[0m,\n",
       "\u001b[32m'obj2_v_theta'\u001b[0m, \u001b[32m'obj2_v_phi'\u001b[0m, \u001b[32m'obj3_alpha_x'\u001b[0m, \u001b[32m'obj3_alpha_y'\u001b[0m, \u001b[32m'obj3_distance'\u001b[0m, \u001b[32m'obj3_v_norm'\u001b[0m,\n",
       "\u001b[32m'obj3_v_theta'\u001b[0m, \u001b[32m'obj3_v_phi'\u001b[0m, \u001b[32m'obj4_alpha_x'\u001b[0m, \u001b[32m'obj4_alpha_y'\u001b[0m, \u001b[32m'obj4_distance'\u001b[0m, \u001b[32m'obj4_v_norm'\u001b[0m,\n",
       "\u001b[32m'obj4_v_theta'\u001b[0m, \u001b[32m'obj4_v_phi'\u001b[0m, \u001b[32m'obj5_alpha_x'\u001b[0m, \u001b[32m'obj5_alpha_y'\u001b[0m, \u001b[32m'obj5_distance'\u001b[0m, \u001b[32m'obj5_v_norm'\u001b[0m,\n",
       "\u001b[32m'obj5_v_theta'\u001b[0m, \u001b[32m'obj5_v_phi'\u001b[0m, \u001b[32m'obj6_alpha_x'\u001b[0m, \u001b[32m'obj6_alpha_y'\u001b[0m, \u001b[32m'obj6_distance'\u001b[0m, \u001b[32m'obj6_v_norm'\u001b[0m,\n",
       "\u001b[32m'obj6_v_theta'\u001b[0m, \u001b[32m'obj6_v_phi'\u001b[0m, \u001b[32m'obj7_alpha_x'\u001b[0m, \u001b[32m'obj7_alpha_y'\u001b[0m, \u001b[32m'obj7_distance'\u001b[0m, \u001b[32m'obj7_v_norm'\u001b[0m,\n",
       "\u001b[32m'obj7_v_theta'\u001b[0m, \u001b[32m'obj7_v_phi'\u001b[0m\u001b[1m]\u001b[0m\n"
      ]
     },
     "metadata": {},
     "output_type": "display_data"
    },
    {
     "data": {
      "text/html": [
       "<pre style=\"white-space:pre;overflow-x:auto;line-height:normal;font-family:Menlo,'DejaVu Sans Mono',consolas,'Courier New',monospace\">factors_aux:\n",
       "<span style=\"font-weight: bold\">[</span><span style=\"color: #008000; text-decoration-color: #008000\">'obj0_size_eff'</span>, <span style=\"color: #008000; text-decoration-color: #008000\">'obj0_size'</span>, <span style=\"color: #008000; text-decoration-color: #008000\">'obj0_theta'</span>, <span style=\"color: #008000; text-decoration-color: #008000\">'obj0_phi'</span>, <span style=\"color: #008000; text-decoration-color: #008000\">'obj0_x'</span>, <span style=\"color: #008000; text-decoration-color: #008000\">'obj0_y'</span>, <span style=\"color: #008000; text-decoration-color: #008000\">'obj0_z'</span>, \n",
       "<span style=\"color: #008000; text-decoration-color: #008000\">'obj0_dx'</span>, <span style=\"color: #008000; text-decoration-color: #008000\">'obj0_dy'</span>, <span style=\"color: #008000; text-decoration-color: #008000\">'obj0_dz'</span>, <span style=\"color: #008000; text-decoration-color: #008000\">'obj0_v_x'</span>, <span style=\"color: #008000; text-decoration-color: #008000\">'obj0_v_y'</span>, <span style=\"color: #008000; text-decoration-color: #008000\">'obj0_v_z'</span>, <span style=\"color: #008000; text-decoration-color: #008000\">'obj1_size_eff'</span>, \n",
       "<span style=\"color: #008000; text-decoration-color: #008000\">'obj1_size'</span>, <span style=\"color: #008000; text-decoration-color: #008000\">'obj1_theta'</span>, <span style=\"color: #008000; text-decoration-color: #008000\">'obj1_phi'</span>, <span style=\"color: #008000; text-decoration-color: #008000\">'obj1_x'</span>, <span style=\"color: #008000; text-decoration-color: #008000\">'obj1_y'</span>, <span style=\"color: #008000; text-decoration-color: #008000\">'obj1_z'</span>, <span style=\"color: #008000; text-decoration-color: #008000\">'obj1_dx'</span>, <span style=\"color: #008000; text-decoration-color: #008000\">'obj1_dy'</span>, \n",
       "<span style=\"color: #008000; text-decoration-color: #008000\">'obj1_dz'</span>, <span style=\"color: #008000; text-decoration-color: #008000\">'obj1_v_x'</span>, <span style=\"color: #008000; text-decoration-color: #008000\">'obj1_v_y'</span>, <span style=\"color: #008000; text-decoration-color: #008000\">'obj1_v_z'</span>, <span style=\"color: #008000; text-decoration-color: #008000\">'obj2_size_eff'</span>, <span style=\"color: #008000; text-decoration-color: #008000\">'obj2_size'</span>, <span style=\"color: #008000; text-decoration-color: #008000\">'obj2_theta'</span>, \n",
       "<span style=\"color: #008000; text-decoration-color: #008000\">'obj2_phi'</span>, <span style=\"color: #008000; text-decoration-color: #008000\">'obj2_x'</span>, <span style=\"color: #008000; text-decoration-color: #008000\">'obj2_y'</span>, <span style=\"color: #008000; text-decoration-color: #008000\">'obj2_z'</span>, <span style=\"color: #008000; text-decoration-color: #008000\">'obj2_dx'</span>, <span style=\"color: #008000; text-decoration-color: #008000\">'obj2_dy'</span>, <span style=\"color: #008000; text-decoration-color: #008000\">'obj2_dz'</span>, <span style=\"color: #008000; text-decoration-color: #008000\">'obj2_v_x'</span>, \n",
       "<span style=\"color: #008000; text-decoration-color: #008000\">'obj2_v_y'</span>, <span style=\"color: #008000; text-decoration-color: #008000\">'obj2_v_z'</span>, <span style=\"color: #008000; text-decoration-color: #008000\">'obj3_size_eff'</span>, <span style=\"color: #008000; text-decoration-color: #008000\">'obj3_size'</span>, <span style=\"color: #008000; text-decoration-color: #008000\">'obj3_theta'</span>, <span style=\"color: #008000; text-decoration-color: #008000\">'obj3_phi'</span>, <span style=\"color: #008000; text-decoration-color: #008000\">'obj3_x'</span>, \n",
       "<span style=\"color: #008000; text-decoration-color: #008000\">'obj3_y'</span>, <span style=\"color: #008000; text-decoration-color: #008000\">'obj3_z'</span>, <span style=\"color: #008000; text-decoration-color: #008000\">'obj3_dx'</span>, <span style=\"color: #008000; text-decoration-color: #008000\">'obj3_dy'</span>, <span style=\"color: #008000; text-decoration-color: #008000\">'obj3_dz'</span>, <span style=\"color: #008000; text-decoration-color: #008000\">'obj3_v_x'</span>, <span style=\"color: #008000; text-decoration-color: #008000\">'obj3_v_y'</span>, <span style=\"color: #008000; text-decoration-color: #008000\">'obj3_v_z'</span>, \n",
       "<span style=\"color: #008000; text-decoration-color: #008000\">'obj4_size_eff'</span>, <span style=\"color: #008000; text-decoration-color: #008000\">'obj4_size'</span>, <span style=\"color: #008000; text-decoration-color: #008000\">'obj4_theta'</span>, <span style=\"color: #008000; text-decoration-color: #008000\">'obj4_phi'</span>, <span style=\"color: #008000; text-decoration-color: #008000\">'obj4_x'</span>, <span style=\"color: #008000; text-decoration-color: #008000\">'obj4_y'</span>, <span style=\"color: #008000; text-decoration-color: #008000\">'obj4_z'</span>, \n",
       "<span style=\"color: #008000; text-decoration-color: #008000\">'obj4_dx'</span>, <span style=\"color: #008000; text-decoration-color: #008000\">'obj4_dy'</span>, <span style=\"color: #008000; text-decoration-color: #008000\">'obj4_dz'</span>, <span style=\"color: #008000; text-decoration-color: #008000\">'obj4_v_x'</span>, <span style=\"color: #008000; text-decoration-color: #008000\">'obj4_v_y'</span>, <span style=\"color: #008000; text-decoration-color: #008000\">'obj4_v_z'</span>, <span style=\"color: #008000; text-decoration-color: #008000\">'obj5_size_eff'</span>, \n",
       "<span style=\"color: #008000; text-decoration-color: #008000\">'obj5_size'</span>, <span style=\"color: #008000; text-decoration-color: #008000\">'obj5_theta'</span>, <span style=\"color: #008000; text-decoration-color: #008000\">'obj5_phi'</span>, <span style=\"color: #008000; text-decoration-color: #008000\">'obj5_x'</span>, <span style=\"color: #008000; text-decoration-color: #008000\">'obj5_y'</span>, <span style=\"color: #008000; text-decoration-color: #008000\">'obj5_z'</span>, <span style=\"color: #008000; text-decoration-color: #008000\">'obj5_dx'</span>, <span style=\"color: #008000; text-decoration-color: #008000\">'obj5_dy'</span>, \n",
       "<span style=\"color: #008000; text-decoration-color: #008000\">'obj5_dz'</span>, <span style=\"color: #008000; text-decoration-color: #008000\">'obj5_v_x'</span>, <span style=\"color: #008000; text-decoration-color: #008000\">'obj5_v_y'</span>, <span style=\"color: #008000; text-decoration-color: #008000\">'obj5_v_z'</span>, <span style=\"color: #008000; text-decoration-color: #008000\">'obj6_size_eff'</span>, <span style=\"color: #008000; text-decoration-color: #008000\">'obj6_size'</span>, <span style=\"color: #008000; text-decoration-color: #008000\">'obj6_theta'</span>, \n",
       "<span style=\"color: #008000; text-decoration-color: #008000\">'obj6_phi'</span>, <span style=\"color: #008000; text-decoration-color: #008000\">'obj6_x'</span>, <span style=\"color: #008000; text-decoration-color: #008000\">'obj6_y'</span>, <span style=\"color: #008000; text-decoration-color: #008000\">'obj6_z'</span>, <span style=\"color: #008000; text-decoration-color: #008000\">'obj6_dx'</span>, <span style=\"color: #008000; text-decoration-color: #008000\">'obj6_dy'</span>, <span style=\"color: #008000; text-decoration-color: #008000\">'obj6_dz'</span>, <span style=\"color: #008000; text-decoration-color: #008000\">'obj6_v_x'</span>, \n",
       "<span style=\"color: #008000; text-decoration-color: #008000\">'obj6_v_y'</span>, <span style=\"color: #008000; text-decoration-color: #008000\">'obj6_v_z'</span>, <span style=\"color: #008000; text-decoration-color: #008000\">'obj7_size_eff'</span>, <span style=\"color: #008000; text-decoration-color: #008000\">'obj7_size'</span>, <span style=\"color: #008000; text-decoration-color: #008000\">'obj7_theta'</span>, <span style=\"color: #008000; text-decoration-color: #008000\">'obj7_phi'</span>, <span style=\"color: #008000; text-decoration-color: #008000\">'obj7_x'</span>, \n",
       "<span style=\"color: #008000; text-decoration-color: #008000\">'obj7_y'</span>, <span style=\"color: #008000; text-decoration-color: #008000\">'obj7_z'</span>, <span style=\"color: #008000; text-decoration-color: #008000\">'obj7_dx'</span>, <span style=\"color: #008000; text-decoration-color: #008000\">'obj7_dy'</span>, <span style=\"color: #008000; text-decoration-color: #008000\">'obj7_dz'</span>, <span style=\"color: #008000; text-decoration-color: #008000\">'obj7_v_x'</span>, <span style=\"color: #008000; text-decoration-color: #008000\">'obj7_v_y'</span>, <span style=\"color: #008000; text-decoration-color: #008000\">'obj7_v_z'</span><span style=\"font-weight: bold\">]</span>\n",
       " ~~~~~~~~~~~~~~~~~~~~~~~~~~~~~~~~~~~~~~~~~~~~~~~~~~~~~~~~~~~~~~~~~~~~~~~~~~~~~~~~\n",
       "</pre>\n"
      ],
      "text/plain": [
       "factors_aux:\n",
       "\u001b[1m[\u001b[0m\u001b[32m'obj0_size_eff'\u001b[0m, \u001b[32m'obj0_size'\u001b[0m, \u001b[32m'obj0_theta'\u001b[0m, \u001b[32m'obj0_phi'\u001b[0m, \u001b[32m'obj0_x'\u001b[0m, \u001b[32m'obj0_y'\u001b[0m, \u001b[32m'obj0_z'\u001b[0m, \n",
       "\u001b[32m'obj0_dx'\u001b[0m, \u001b[32m'obj0_dy'\u001b[0m, \u001b[32m'obj0_dz'\u001b[0m, \u001b[32m'obj0_v_x'\u001b[0m, \u001b[32m'obj0_v_y'\u001b[0m, \u001b[32m'obj0_v_z'\u001b[0m, \u001b[32m'obj1_size_eff'\u001b[0m, \n",
       "\u001b[32m'obj1_size'\u001b[0m, \u001b[32m'obj1_theta'\u001b[0m, \u001b[32m'obj1_phi'\u001b[0m, \u001b[32m'obj1_x'\u001b[0m, \u001b[32m'obj1_y'\u001b[0m, \u001b[32m'obj1_z'\u001b[0m, \u001b[32m'obj1_dx'\u001b[0m, \u001b[32m'obj1_dy'\u001b[0m, \n",
       "\u001b[32m'obj1_dz'\u001b[0m, \u001b[32m'obj1_v_x'\u001b[0m, \u001b[32m'obj1_v_y'\u001b[0m, \u001b[32m'obj1_v_z'\u001b[0m, \u001b[32m'obj2_size_eff'\u001b[0m, \u001b[32m'obj2_size'\u001b[0m, \u001b[32m'obj2_theta'\u001b[0m, \n",
       "\u001b[32m'obj2_phi'\u001b[0m, \u001b[32m'obj2_x'\u001b[0m, \u001b[32m'obj2_y'\u001b[0m, \u001b[32m'obj2_z'\u001b[0m, \u001b[32m'obj2_dx'\u001b[0m, \u001b[32m'obj2_dy'\u001b[0m, \u001b[32m'obj2_dz'\u001b[0m, \u001b[32m'obj2_v_x'\u001b[0m, \n",
       "\u001b[32m'obj2_v_y'\u001b[0m, \u001b[32m'obj2_v_z'\u001b[0m, \u001b[32m'obj3_size_eff'\u001b[0m, \u001b[32m'obj3_size'\u001b[0m, \u001b[32m'obj3_theta'\u001b[0m, \u001b[32m'obj3_phi'\u001b[0m, \u001b[32m'obj3_x'\u001b[0m, \n",
       "\u001b[32m'obj3_y'\u001b[0m, \u001b[32m'obj3_z'\u001b[0m, \u001b[32m'obj3_dx'\u001b[0m, \u001b[32m'obj3_dy'\u001b[0m, \u001b[32m'obj3_dz'\u001b[0m, \u001b[32m'obj3_v_x'\u001b[0m, \u001b[32m'obj3_v_y'\u001b[0m, \u001b[32m'obj3_v_z'\u001b[0m, \n",
       "\u001b[32m'obj4_size_eff'\u001b[0m, \u001b[32m'obj4_size'\u001b[0m, \u001b[32m'obj4_theta'\u001b[0m, \u001b[32m'obj4_phi'\u001b[0m, \u001b[32m'obj4_x'\u001b[0m, \u001b[32m'obj4_y'\u001b[0m, \u001b[32m'obj4_z'\u001b[0m, \n",
       "\u001b[32m'obj4_dx'\u001b[0m, \u001b[32m'obj4_dy'\u001b[0m, \u001b[32m'obj4_dz'\u001b[0m, \u001b[32m'obj4_v_x'\u001b[0m, \u001b[32m'obj4_v_y'\u001b[0m, \u001b[32m'obj4_v_z'\u001b[0m, \u001b[32m'obj5_size_eff'\u001b[0m, \n",
       "\u001b[32m'obj5_size'\u001b[0m, \u001b[32m'obj5_theta'\u001b[0m, \u001b[32m'obj5_phi'\u001b[0m, \u001b[32m'obj5_x'\u001b[0m, \u001b[32m'obj5_y'\u001b[0m, \u001b[32m'obj5_z'\u001b[0m, \u001b[32m'obj5_dx'\u001b[0m, \u001b[32m'obj5_dy'\u001b[0m, \n",
       "\u001b[32m'obj5_dz'\u001b[0m, \u001b[32m'obj5_v_x'\u001b[0m, \u001b[32m'obj5_v_y'\u001b[0m, \u001b[32m'obj5_v_z'\u001b[0m, \u001b[32m'obj6_size_eff'\u001b[0m, \u001b[32m'obj6_size'\u001b[0m, \u001b[32m'obj6_theta'\u001b[0m, \n",
       "\u001b[32m'obj6_phi'\u001b[0m, \u001b[32m'obj6_x'\u001b[0m, \u001b[32m'obj6_y'\u001b[0m, \u001b[32m'obj6_z'\u001b[0m, \u001b[32m'obj6_dx'\u001b[0m, \u001b[32m'obj6_dy'\u001b[0m, \u001b[32m'obj6_dz'\u001b[0m, \u001b[32m'obj6_v_x'\u001b[0m, \n",
       "\u001b[32m'obj6_v_y'\u001b[0m, \u001b[32m'obj6_v_z'\u001b[0m, \u001b[32m'obj7_size_eff'\u001b[0m, \u001b[32m'obj7_size'\u001b[0m, \u001b[32m'obj7_theta'\u001b[0m, \u001b[32m'obj7_phi'\u001b[0m, \u001b[32m'obj7_x'\u001b[0m, \n",
       "\u001b[32m'obj7_y'\u001b[0m, \u001b[32m'obj7_z'\u001b[0m, \u001b[32m'obj7_dx'\u001b[0m, \u001b[32m'obj7_dy'\u001b[0m, \u001b[32m'obj7_dz'\u001b[0m, \u001b[32m'obj7_v_x'\u001b[0m, \u001b[32m'obj7_v_y'\u001b[0m, \u001b[32m'obj7_v_z'\u001b[0m\u001b[1m]\u001b[0m\n",
       " ~~~~~~~~~~~~~~~~~~~~~~~~~~~~~~~~~~~~~~~~~~~~~~~~~~~~~~~~~~~~~~~~~~~~~~~~~~~~~~~~\n"
      ]
     },
     "metadata": {},
     "output_type": "display_data"
    },
    {
     "data": {
      "text/html": [
       "<pre style=\"white-space:pre;overflow-x:auto;line-height:normal;font-family:Menlo,'DejaVu Sans Mono',consolas,'Courier New',monospace\">\n",
       "\n",
       "\n",
       "</pre>\n"
      ],
      "text/plain": [
       "\n",
       "\n",
       "\n"
      ]
     },
     "metadata": {},
     "output_type": "display_data"
    },
    {
     "data": {
      "text/html": [
       "<pre style=\"white-space:pre;overflow-x:auto;line-height:normal;font-family:Menlo,'DejaVu Sans Mono',consolas,'Courier New',monospace\">-------------------------------------------------------------------------------- \n",
       "category: terrain, n_obj = <span style=\"color: #008080; text-decoration-color: #008080; font-weight: bold\">4</span>\n",
       "</pre>\n"
      ],
      "text/plain": [
       "-------------------------------------------------------------------------------- \n",
       "category: terrain, n_obj = \u001b[1;36m4\u001b[0m\n"
      ]
     },
     "metadata": {},
     "output_type": "display_data"
    },
    {
     "data": {
      "text/html": [
       "<pre style=\"white-space:pre;overflow-x:auto;line-height:normal;font-family:Menlo,'DejaVu Sans Mono',consolas,'Courier New',monospace\">factors:\n",
       "<span style=\"font-weight: bold\">[</span><span style=\"color: #008000; text-decoration-color: #008000\">'fix_x'</span>, <span style=\"color: #008000; text-decoration-color: #008000\">'fix_y'</span>, <span style=\"color: #008000; text-decoration-color: #008000\">'slf_v_norm'</span>, <span style=\"color: #008000; text-decoration-color: #008000\">'slf_v_theta'</span>, <span style=\"color: #008000; text-decoration-color: #008000\">'slf_v_phi'</span>, <span style=\"color: #008000; text-decoration-color: #008000\">'obj0_alpha_x'</span>, <span style=\"color: #008000; text-decoration-color: #008000\">'obj0_alpha_y'</span>, \n",
       "<span style=\"color: #008000; text-decoration-color: #008000\">'obj0_distance'</span>, <span style=\"color: #008000; text-decoration-color: #008000\">'obj1_alpha_x'</span>, <span style=\"color: #008000; text-decoration-color: #008000\">'obj1_alpha_y'</span>, <span style=\"color: #008000; text-decoration-color: #008000\">'obj1_distance'</span>, <span style=\"color: #008000; text-decoration-color: #008000\">'obj2_alpha_x'</span>, \n",
       "<span style=\"color: #008000; text-decoration-color: #008000\">'obj2_alpha_y'</span>, <span style=\"color: #008000; text-decoration-color: #008000\">'obj2_distance'</span>, <span style=\"color: #008000; text-decoration-color: #008000\">'obj3_alpha_x'</span>, <span style=\"color: #008000; text-decoration-color: #008000\">'obj3_alpha_y'</span>, <span style=\"color: #008000; text-decoration-color: #008000\">'obj3_distance'</span><span style=\"font-weight: bold\">]</span>\n",
       "</pre>\n"
      ],
      "text/plain": [
       "factors:\n",
       "\u001b[1m[\u001b[0m\u001b[32m'fix_x'\u001b[0m, \u001b[32m'fix_y'\u001b[0m, \u001b[32m'slf_v_norm'\u001b[0m, \u001b[32m'slf_v_theta'\u001b[0m, \u001b[32m'slf_v_phi'\u001b[0m, \u001b[32m'obj0_alpha_x'\u001b[0m, \u001b[32m'obj0_alpha_y'\u001b[0m, \n",
       "\u001b[32m'obj0_distance'\u001b[0m, \u001b[32m'obj1_alpha_x'\u001b[0m, \u001b[32m'obj1_alpha_y'\u001b[0m, \u001b[32m'obj1_distance'\u001b[0m, \u001b[32m'obj2_alpha_x'\u001b[0m, \n",
       "\u001b[32m'obj2_alpha_y'\u001b[0m, \u001b[32m'obj2_distance'\u001b[0m, \u001b[32m'obj3_alpha_x'\u001b[0m, \u001b[32m'obj3_alpha_y'\u001b[0m, \u001b[32m'obj3_distance'\u001b[0m\u001b[1m]\u001b[0m\n"
      ]
     },
     "metadata": {},
     "output_type": "display_data"
    },
    {
     "data": {
      "text/html": [
       "<pre style=\"white-space:pre;overflow-x:auto;line-height:normal;font-family:Menlo,'DejaVu Sans Mono',consolas,'Courier New',monospace\">factors_aux:\n",
       "<span style=\"font-weight: bold\">[</span><span style=\"color: #008000; text-decoration-color: #008000\">'slf_v_x'</span>, <span style=\"color: #008000; text-decoration-color: #008000\">'slf_v_y'</span>, <span style=\"color: #008000; text-decoration-color: #008000\">'slf_v_z'</span>, <span style=\"color: #008000; text-decoration-color: #008000\">'obj0_size_eff'</span>, <span style=\"color: #008000; text-decoration-color: #008000\">'obj0_size'</span>, <span style=\"color: #008000; text-decoration-color: #008000\">'obj0_theta'</span>, <span style=\"color: #008000; text-decoration-color: #008000\">'obj0_phi'</span>, \n",
       "<span style=\"color: #008000; text-decoration-color: #008000\">'obj0_x'</span>, <span style=\"color: #008000; text-decoration-color: #008000\">'obj0_y'</span>, <span style=\"color: #008000; text-decoration-color: #008000\">'obj0_z'</span>, <span style=\"color: #008000; text-decoration-color: #008000\">'obj0_dx'</span>, <span style=\"color: #008000; text-decoration-color: #008000\">'obj0_dy'</span>, <span style=\"color: #008000; text-decoration-color: #008000\">'obj0_dz'</span>, <span style=\"color: #008000; text-decoration-color: #008000\">'obj1_size_eff'</span>, <span style=\"color: #008000; text-decoration-color: #008000\">'obj1_size'</span>, \n",
       "<span style=\"color: #008000; text-decoration-color: #008000\">'obj1_theta'</span>, <span style=\"color: #008000; text-decoration-color: #008000\">'obj1_phi'</span>, <span style=\"color: #008000; text-decoration-color: #008000\">'obj1_x'</span>, <span style=\"color: #008000; text-decoration-color: #008000\">'obj1_y'</span>, <span style=\"color: #008000; text-decoration-color: #008000\">'obj1_z'</span>, <span style=\"color: #008000; text-decoration-color: #008000\">'obj1_dx'</span>, <span style=\"color: #008000; text-decoration-color: #008000\">'obj1_dy'</span>, <span style=\"color: #008000; text-decoration-color: #008000\">'obj1_dz'</span>, \n",
       "<span style=\"color: #008000; text-decoration-color: #008000\">'obj2_size_eff'</span>, <span style=\"color: #008000; text-decoration-color: #008000\">'obj2_size'</span>, <span style=\"color: #008000; text-decoration-color: #008000\">'obj2_theta'</span>, <span style=\"color: #008000; text-decoration-color: #008000\">'obj2_phi'</span>, <span style=\"color: #008000; text-decoration-color: #008000\">'obj2_x'</span>, <span style=\"color: #008000; text-decoration-color: #008000\">'obj2_y'</span>, <span style=\"color: #008000; text-decoration-color: #008000\">'obj2_z'</span>, \n",
       "<span style=\"color: #008000; text-decoration-color: #008000\">'obj2_dx'</span>, <span style=\"color: #008000; text-decoration-color: #008000\">'obj2_dy'</span>, <span style=\"color: #008000; text-decoration-color: #008000\">'obj2_dz'</span>, <span style=\"color: #008000; text-decoration-color: #008000\">'obj3_size_eff'</span>, <span style=\"color: #008000; text-decoration-color: #008000\">'obj3_size'</span>, <span style=\"color: #008000; text-decoration-color: #008000\">'obj3_theta'</span>, <span style=\"color: #008000; text-decoration-color: #008000\">'obj3_phi'</span>, \n",
       "<span style=\"color: #008000; text-decoration-color: #008000\">'obj3_x'</span>, <span style=\"color: #008000; text-decoration-color: #008000\">'obj3_y'</span>, <span style=\"color: #008000; text-decoration-color: #008000\">'obj3_z'</span>, <span style=\"color: #008000; text-decoration-color: #008000\">'obj3_dx'</span>, <span style=\"color: #008000; text-decoration-color: #008000\">'obj3_dy'</span>, <span style=\"color: #008000; text-decoration-color: #008000\">'obj3_dz'</span><span style=\"font-weight: bold\">]</span>\n",
       " ~~~~~~~~~~~~~~~~~~~~~~~~~~~~~~~~~~~~~~~~~~~~~~~~~~~~~~~~~~~~~~~~~~~~~~~~~~~~~~~~\n",
       "</pre>\n"
      ],
      "text/plain": [
       "factors_aux:\n",
       "\u001b[1m[\u001b[0m\u001b[32m'slf_v_x'\u001b[0m, \u001b[32m'slf_v_y'\u001b[0m, \u001b[32m'slf_v_z'\u001b[0m, \u001b[32m'obj0_size_eff'\u001b[0m, \u001b[32m'obj0_size'\u001b[0m, \u001b[32m'obj0_theta'\u001b[0m, \u001b[32m'obj0_phi'\u001b[0m, \n",
       "\u001b[32m'obj0_x'\u001b[0m, \u001b[32m'obj0_y'\u001b[0m, \u001b[32m'obj0_z'\u001b[0m, \u001b[32m'obj0_dx'\u001b[0m, \u001b[32m'obj0_dy'\u001b[0m, \u001b[32m'obj0_dz'\u001b[0m, \u001b[32m'obj1_size_eff'\u001b[0m, \u001b[32m'obj1_size'\u001b[0m, \n",
       "\u001b[32m'obj1_theta'\u001b[0m, \u001b[32m'obj1_phi'\u001b[0m, \u001b[32m'obj1_x'\u001b[0m, \u001b[32m'obj1_y'\u001b[0m, \u001b[32m'obj1_z'\u001b[0m, \u001b[32m'obj1_dx'\u001b[0m, \u001b[32m'obj1_dy'\u001b[0m, \u001b[32m'obj1_dz'\u001b[0m, \n",
       "\u001b[32m'obj2_size_eff'\u001b[0m, \u001b[32m'obj2_size'\u001b[0m, \u001b[32m'obj2_theta'\u001b[0m, \u001b[32m'obj2_phi'\u001b[0m, \u001b[32m'obj2_x'\u001b[0m, \u001b[32m'obj2_y'\u001b[0m, \u001b[32m'obj2_z'\u001b[0m, \n",
       "\u001b[32m'obj2_dx'\u001b[0m, \u001b[32m'obj2_dy'\u001b[0m, \u001b[32m'obj2_dz'\u001b[0m, \u001b[32m'obj3_size_eff'\u001b[0m, \u001b[32m'obj3_size'\u001b[0m, \u001b[32m'obj3_theta'\u001b[0m, \u001b[32m'obj3_phi'\u001b[0m, \n",
       "\u001b[32m'obj3_x'\u001b[0m, \u001b[32m'obj3_y'\u001b[0m, \u001b[32m'obj3_z'\u001b[0m, \u001b[32m'obj3_dx'\u001b[0m, \u001b[32m'obj3_dy'\u001b[0m, \u001b[32m'obj3_dz'\u001b[0m\u001b[1m]\u001b[0m\n",
       " ~~~~~~~~~~~~~~~~~~~~~~~~~~~~~~~~~~~~~~~~~~~~~~~~~~~~~~~~~~~~~~~~~~~~~~~~~~~~~~~~\n"
      ]
     },
     "metadata": {},
     "output_type": "display_data"
    },
    {
     "data": {
      "text/html": [
       "<pre style=\"white-space:pre;overflow-x:auto;line-height:normal;font-family:Menlo,'DejaVu Sans Mono',consolas,'Courier New',monospace\">\n",
       "\n",
       "\n",
       "</pre>\n"
      ],
      "text/plain": [
       "\n",
       "\n",
       "\n"
      ]
     },
     "metadata": {},
     "output_type": "display_data"
    },
    {
     "data": {
      "text/html": [
       "<pre style=\"white-space:pre;overflow-x:auto;line-height:normal;font-family:Menlo,'DejaVu Sans Mono',consolas,'Courier New',monospace\">-------------------------------------------------------------------------------- \n",
       "category: terrain, n_obj = <span style=\"color: #008080; text-decoration-color: #008080; font-weight: bold\">8</span>\n",
       "</pre>\n"
      ],
      "text/plain": [
       "-------------------------------------------------------------------------------- \n",
       "category: terrain, n_obj = \u001b[1;36m8\u001b[0m\n"
      ]
     },
     "metadata": {},
     "output_type": "display_data"
    },
    {
     "data": {
      "text/html": [
       "<pre style=\"white-space:pre;overflow-x:auto;line-height:normal;font-family:Menlo,'DejaVu Sans Mono',consolas,'Courier New',monospace\">factors:\n",
       "<span style=\"font-weight: bold\">[</span><span style=\"color: #008000; text-decoration-color: #008000\">'fix_x'</span>, <span style=\"color: #008000; text-decoration-color: #008000\">'fix_y'</span>, <span style=\"color: #008000; text-decoration-color: #008000\">'slf_v_norm'</span>, <span style=\"color: #008000; text-decoration-color: #008000\">'slf_v_theta'</span>, <span style=\"color: #008000; text-decoration-color: #008000\">'slf_v_phi'</span>, <span style=\"color: #008000; text-decoration-color: #008000\">'obj0_alpha_x'</span>, <span style=\"color: #008000; text-decoration-color: #008000\">'obj0_alpha_y'</span>, \n",
       "<span style=\"color: #008000; text-decoration-color: #008000\">'obj0_distance'</span>, <span style=\"color: #008000; text-decoration-color: #008000\">'obj1_alpha_x'</span>, <span style=\"color: #008000; text-decoration-color: #008000\">'obj1_alpha_y'</span>, <span style=\"color: #008000; text-decoration-color: #008000\">'obj1_distance'</span>, <span style=\"color: #008000; text-decoration-color: #008000\">'obj2_alpha_x'</span>, \n",
       "<span style=\"color: #008000; text-decoration-color: #008000\">'obj2_alpha_y'</span>, <span style=\"color: #008000; text-decoration-color: #008000\">'obj2_distance'</span>, <span style=\"color: #008000; text-decoration-color: #008000\">'obj3_alpha_x'</span>, <span style=\"color: #008000; text-decoration-color: #008000\">'obj3_alpha_y'</span>, <span style=\"color: #008000; text-decoration-color: #008000\">'obj3_distance'</span>, \n",
       "<span style=\"color: #008000; text-decoration-color: #008000\">'obj4_alpha_x'</span>, <span style=\"color: #008000; text-decoration-color: #008000\">'obj4_alpha_y'</span>, <span style=\"color: #008000; text-decoration-color: #008000\">'obj4_distance'</span>, <span style=\"color: #008000; text-decoration-color: #008000\">'obj5_alpha_x'</span>, <span style=\"color: #008000; text-decoration-color: #008000\">'obj5_alpha_y'</span>, \n",
       "<span style=\"color: #008000; text-decoration-color: #008000\">'obj5_distance'</span>, <span style=\"color: #008000; text-decoration-color: #008000\">'obj6_alpha_x'</span>, <span style=\"color: #008000; text-decoration-color: #008000\">'obj6_alpha_y'</span>, <span style=\"color: #008000; text-decoration-color: #008000\">'obj6_distance'</span>, <span style=\"color: #008000; text-decoration-color: #008000\">'obj7_alpha_x'</span>, \n",
       "<span style=\"color: #008000; text-decoration-color: #008000\">'obj7_alpha_y'</span>, <span style=\"color: #008000; text-decoration-color: #008000\">'obj7_distance'</span><span style=\"font-weight: bold\">]</span>\n",
       "</pre>\n"
      ],
      "text/plain": [
       "factors:\n",
       "\u001b[1m[\u001b[0m\u001b[32m'fix_x'\u001b[0m, \u001b[32m'fix_y'\u001b[0m, \u001b[32m'slf_v_norm'\u001b[0m, \u001b[32m'slf_v_theta'\u001b[0m, \u001b[32m'slf_v_phi'\u001b[0m, \u001b[32m'obj0_alpha_x'\u001b[0m, \u001b[32m'obj0_alpha_y'\u001b[0m, \n",
       "\u001b[32m'obj0_distance'\u001b[0m, \u001b[32m'obj1_alpha_x'\u001b[0m, \u001b[32m'obj1_alpha_y'\u001b[0m, \u001b[32m'obj1_distance'\u001b[0m, \u001b[32m'obj2_alpha_x'\u001b[0m, \n",
       "\u001b[32m'obj2_alpha_y'\u001b[0m, \u001b[32m'obj2_distance'\u001b[0m, \u001b[32m'obj3_alpha_x'\u001b[0m, \u001b[32m'obj3_alpha_y'\u001b[0m, \u001b[32m'obj3_distance'\u001b[0m, \n",
       "\u001b[32m'obj4_alpha_x'\u001b[0m, \u001b[32m'obj4_alpha_y'\u001b[0m, \u001b[32m'obj4_distance'\u001b[0m, \u001b[32m'obj5_alpha_x'\u001b[0m, \u001b[32m'obj5_alpha_y'\u001b[0m, \n",
       "\u001b[32m'obj5_distance'\u001b[0m, \u001b[32m'obj6_alpha_x'\u001b[0m, \u001b[32m'obj6_alpha_y'\u001b[0m, \u001b[32m'obj6_distance'\u001b[0m, \u001b[32m'obj7_alpha_x'\u001b[0m, \n",
       "\u001b[32m'obj7_alpha_y'\u001b[0m, \u001b[32m'obj7_distance'\u001b[0m\u001b[1m]\u001b[0m\n"
      ]
     },
     "metadata": {},
     "output_type": "display_data"
    },
    {
     "data": {
      "text/html": [
       "<pre style=\"white-space:pre;overflow-x:auto;line-height:normal;font-family:Menlo,'DejaVu Sans Mono',consolas,'Courier New',monospace\">factors_aux:\n",
       "<span style=\"font-weight: bold\">[</span><span style=\"color: #008000; text-decoration-color: #008000\">'slf_v_x'</span>, <span style=\"color: #008000; text-decoration-color: #008000\">'slf_v_y'</span>, <span style=\"color: #008000; text-decoration-color: #008000\">'slf_v_z'</span>, <span style=\"color: #008000; text-decoration-color: #008000\">'obj0_size_eff'</span>, <span style=\"color: #008000; text-decoration-color: #008000\">'obj0_size'</span>, <span style=\"color: #008000; text-decoration-color: #008000\">'obj0_theta'</span>, <span style=\"color: #008000; text-decoration-color: #008000\">'obj0_phi'</span>, \n",
       "<span style=\"color: #008000; text-decoration-color: #008000\">'obj0_x'</span>, <span style=\"color: #008000; text-decoration-color: #008000\">'obj0_y'</span>, <span style=\"color: #008000; text-decoration-color: #008000\">'obj0_z'</span>, <span style=\"color: #008000; text-decoration-color: #008000\">'obj0_dx'</span>, <span style=\"color: #008000; text-decoration-color: #008000\">'obj0_dy'</span>, <span style=\"color: #008000; text-decoration-color: #008000\">'obj0_dz'</span>, <span style=\"color: #008000; text-decoration-color: #008000\">'obj1_size_eff'</span>, <span style=\"color: #008000; text-decoration-color: #008000\">'obj1_size'</span>, \n",
       "<span style=\"color: #008000; text-decoration-color: #008000\">'obj1_theta'</span>, <span style=\"color: #008000; text-decoration-color: #008000\">'obj1_phi'</span>, <span style=\"color: #008000; text-decoration-color: #008000\">'obj1_x'</span>, <span style=\"color: #008000; text-decoration-color: #008000\">'obj1_y'</span>, <span style=\"color: #008000; text-decoration-color: #008000\">'obj1_z'</span>, <span style=\"color: #008000; text-decoration-color: #008000\">'obj1_dx'</span>, <span style=\"color: #008000; text-decoration-color: #008000\">'obj1_dy'</span>, <span style=\"color: #008000; text-decoration-color: #008000\">'obj1_dz'</span>, \n",
       "<span style=\"color: #008000; text-decoration-color: #008000\">'obj2_size_eff'</span>, <span style=\"color: #008000; text-decoration-color: #008000\">'obj2_size'</span>, <span style=\"color: #008000; text-decoration-color: #008000\">'obj2_theta'</span>, <span style=\"color: #008000; text-decoration-color: #008000\">'obj2_phi'</span>, <span style=\"color: #008000; text-decoration-color: #008000\">'obj2_x'</span>, <span style=\"color: #008000; text-decoration-color: #008000\">'obj2_y'</span>, <span style=\"color: #008000; text-decoration-color: #008000\">'obj2_z'</span>, \n",
       "<span style=\"color: #008000; text-decoration-color: #008000\">'obj2_dx'</span>, <span style=\"color: #008000; text-decoration-color: #008000\">'obj2_dy'</span>, <span style=\"color: #008000; text-decoration-color: #008000\">'obj2_dz'</span>, <span style=\"color: #008000; text-decoration-color: #008000\">'obj3_size_eff'</span>, <span style=\"color: #008000; text-decoration-color: #008000\">'obj3_size'</span>, <span style=\"color: #008000; text-decoration-color: #008000\">'obj3_theta'</span>, <span style=\"color: #008000; text-decoration-color: #008000\">'obj3_phi'</span>, \n",
       "<span style=\"color: #008000; text-decoration-color: #008000\">'obj3_x'</span>, <span style=\"color: #008000; text-decoration-color: #008000\">'obj3_y'</span>, <span style=\"color: #008000; text-decoration-color: #008000\">'obj3_z'</span>, <span style=\"color: #008000; text-decoration-color: #008000\">'obj3_dx'</span>, <span style=\"color: #008000; text-decoration-color: #008000\">'obj3_dy'</span>, <span style=\"color: #008000; text-decoration-color: #008000\">'obj3_dz'</span>, <span style=\"color: #008000; text-decoration-color: #008000\">'obj4_size_eff'</span>, <span style=\"color: #008000; text-decoration-color: #008000\">'obj4_size'</span>, \n",
       "<span style=\"color: #008000; text-decoration-color: #008000\">'obj4_theta'</span>, <span style=\"color: #008000; text-decoration-color: #008000\">'obj4_phi'</span>, <span style=\"color: #008000; text-decoration-color: #008000\">'obj4_x'</span>, <span style=\"color: #008000; text-decoration-color: #008000\">'obj4_y'</span>, <span style=\"color: #008000; text-decoration-color: #008000\">'obj4_z'</span>, <span style=\"color: #008000; text-decoration-color: #008000\">'obj4_dx'</span>, <span style=\"color: #008000; text-decoration-color: #008000\">'obj4_dy'</span>, <span style=\"color: #008000; text-decoration-color: #008000\">'obj4_dz'</span>, \n",
       "<span style=\"color: #008000; text-decoration-color: #008000\">'obj5_size_eff'</span>, <span style=\"color: #008000; text-decoration-color: #008000\">'obj5_size'</span>, <span style=\"color: #008000; text-decoration-color: #008000\">'obj5_theta'</span>, <span style=\"color: #008000; text-decoration-color: #008000\">'obj5_phi'</span>, <span style=\"color: #008000; text-decoration-color: #008000\">'obj5_x'</span>, <span style=\"color: #008000; text-decoration-color: #008000\">'obj5_y'</span>, <span style=\"color: #008000; text-decoration-color: #008000\">'obj5_z'</span>, \n",
       "<span style=\"color: #008000; text-decoration-color: #008000\">'obj5_dx'</span>, <span style=\"color: #008000; text-decoration-color: #008000\">'obj5_dy'</span>, <span style=\"color: #008000; text-decoration-color: #008000\">'obj5_dz'</span>, <span style=\"color: #008000; text-decoration-color: #008000\">'obj6_size_eff'</span>, <span style=\"color: #008000; text-decoration-color: #008000\">'obj6_size'</span>, <span style=\"color: #008000; text-decoration-color: #008000\">'obj6_theta'</span>, <span style=\"color: #008000; text-decoration-color: #008000\">'obj6_phi'</span>, \n",
       "<span style=\"color: #008000; text-decoration-color: #008000\">'obj6_x'</span>, <span style=\"color: #008000; text-decoration-color: #008000\">'obj6_y'</span>, <span style=\"color: #008000; text-decoration-color: #008000\">'obj6_z'</span>, <span style=\"color: #008000; text-decoration-color: #008000\">'obj6_dx'</span>, <span style=\"color: #008000; text-decoration-color: #008000\">'obj6_dy'</span>, <span style=\"color: #008000; text-decoration-color: #008000\">'obj6_dz'</span>, <span style=\"color: #008000; text-decoration-color: #008000\">'obj7_size_eff'</span>, <span style=\"color: #008000; text-decoration-color: #008000\">'obj7_size'</span>, \n",
       "<span style=\"color: #008000; text-decoration-color: #008000\">'obj7_theta'</span>, <span style=\"color: #008000; text-decoration-color: #008000\">'obj7_phi'</span>, <span style=\"color: #008000; text-decoration-color: #008000\">'obj7_x'</span>, <span style=\"color: #008000; text-decoration-color: #008000\">'obj7_y'</span>, <span style=\"color: #008000; text-decoration-color: #008000\">'obj7_z'</span>, <span style=\"color: #008000; text-decoration-color: #008000\">'obj7_dx'</span>, <span style=\"color: #008000; text-decoration-color: #008000\">'obj7_dy'</span>, <span style=\"color: #008000; text-decoration-color: #008000\">'obj7_dz'</span><span style=\"font-weight: bold\">]</span>\n",
       " ~~~~~~~~~~~~~~~~~~~~~~~~~~~~~~~~~~~~~~~~~~~~~~~~~~~~~~~~~~~~~~~~~~~~~~~~~~~~~~~~\n",
       "</pre>\n"
      ],
      "text/plain": [
       "factors_aux:\n",
       "\u001b[1m[\u001b[0m\u001b[32m'slf_v_x'\u001b[0m, \u001b[32m'slf_v_y'\u001b[0m, \u001b[32m'slf_v_z'\u001b[0m, \u001b[32m'obj0_size_eff'\u001b[0m, \u001b[32m'obj0_size'\u001b[0m, \u001b[32m'obj0_theta'\u001b[0m, \u001b[32m'obj0_phi'\u001b[0m, \n",
       "\u001b[32m'obj0_x'\u001b[0m, \u001b[32m'obj0_y'\u001b[0m, \u001b[32m'obj0_z'\u001b[0m, \u001b[32m'obj0_dx'\u001b[0m, \u001b[32m'obj0_dy'\u001b[0m, \u001b[32m'obj0_dz'\u001b[0m, \u001b[32m'obj1_size_eff'\u001b[0m, \u001b[32m'obj1_size'\u001b[0m, \n",
       "\u001b[32m'obj1_theta'\u001b[0m, \u001b[32m'obj1_phi'\u001b[0m, \u001b[32m'obj1_x'\u001b[0m, \u001b[32m'obj1_y'\u001b[0m, \u001b[32m'obj1_z'\u001b[0m, \u001b[32m'obj1_dx'\u001b[0m, \u001b[32m'obj1_dy'\u001b[0m, \u001b[32m'obj1_dz'\u001b[0m, \n",
       "\u001b[32m'obj2_size_eff'\u001b[0m, \u001b[32m'obj2_size'\u001b[0m, \u001b[32m'obj2_theta'\u001b[0m, \u001b[32m'obj2_phi'\u001b[0m, \u001b[32m'obj2_x'\u001b[0m, \u001b[32m'obj2_y'\u001b[0m, \u001b[32m'obj2_z'\u001b[0m, \n",
       "\u001b[32m'obj2_dx'\u001b[0m, \u001b[32m'obj2_dy'\u001b[0m, \u001b[32m'obj2_dz'\u001b[0m, \u001b[32m'obj3_size_eff'\u001b[0m, \u001b[32m'obj3_size'\u001b[0m, \u001b[32m'obj3_theta'\u001b[0m, \u001b[32m'obj3_phi'\u001b[0m, \n",
       "\u001b[32m'obj3_x'\u001b[0m, \u001b[32m'obj3_y'\u001b[0m, \u001b[32m'obj3_z'\u001b[0m, \u001b[32m'obj3_dx'\u001b[0m, \u001b[32m'obj3_dy'\u001b[0m, \u001b[32m'obj3_dz'\u001b[0m, \u001b[32m'obj4_size_eff'\u001b[0m, \u001b[32m'obj4_size'\u001b[0m, \n",
       "\u001b[32m'obj4_theta'\u001b[0m, \u001b[32m'obj4_phi'\u001b[0m, \u001b[32m'obj4_x'\u001b[0m, \u001b[32m'obj4_y'\u001b[0m, \u001b[32m'obj4_z'\u001b[0m, \u001b[32m'obj4_dx'\u001b[0m, \u001b[32m'obj4_dy'\u001b[0m, \u001b[32m'obj4_dz'\u001b[0m, \n",
       "\u001b[32m'obj5_size_eff'\u001b[0m, \u001b[32m'obj5_size'\u001b[0m, \u001b[32m'obj5_theta'\u001b[0m, \u001b[32m'obj5_phi'\u001b[0m, \u001b[32m'obj5_x'\u001b[0m, \u001b[32m'obj5_y'\u001b[0m, \u001b[32m'obj5_z'\u001b[0m, \n",
       "\u001b[32m'obj5_dx'\u001b[0m, \u001b[32m'obj5_dy'\u001b[0m, \u001b[32m'obj5_dz'\u001b[0m, \u001b[32m'obj6_size_eff'\u001b[0m, \u001b[32m'obj6_size'\u001b[0m, \u001b[32m'obj6_theta'\u001b[0m, \u001b[32m'obj6_phi'\u001b[0m, \n",
       "\u001b[32m'obj6_x'\u001b[0m, \u001b[32m'obj6_y'\u001b[0m, \u001b[32m'obj6_z'\u001b[0m, \u001b[32m'obj6_dx'\u001b[0m, \u001b[32m'obj6_dy'\u001b[0m, \u001b[32m'obj6_dz'\u001b[0m, \u001b[32m'obj7_size_eff'\u001b[0m, \u001b[32m'obj7_size'\u001b[0m, \n",
       "\u001b[32m'obj7_theta'\u001b[0m, \u001b[32m'obj7_phi'\u001b[0m, \u001b[32m'obj7_x'\u001b[0m, \u001b[32m'obj7_y'\u001b[0m, \u001b[32m'obj7_z'\u001b[0m, \u001b[32m'obj7_dx'\u001b[0m, \u001b[32m'obj7_dy'\u001b[0m, \u001b[32m'obj7_dz'\u001b[0m\u001b[1m]\u001b[0m\n",
       " ~~~~~~~~~~~~~~~~~~~~~~~~~~~~~~~~~~~~~~~~~~~~~~~~~~~~~~~~~~~~~~~~~~~~~~~~~~~~~~~~\n"
      ]
     },
     "metadata": {},
     "output_type": "display_data"
    },
    {
     "data": {
      "text/html": [
       "<pre style=\"white-space:pre;overflow-x:auto;line-height:normal;font-family:Menlo,'DejaVu Sans Mono',consolas,'Courier New',monospace\">\n",
       "\n",
       "\n",
       "</pre>\n"
      ],
      "text/plain": [
       "\n",
       "\n",
       "\n"
      ]
     },
     "metadata": {},
     "output_type": "display_data"
    },
    {
     "data": {
      "text/html": [
       "<pre style=\"white-space:pre;overflow-x:auto;line-height:normal;font-family:Menlo,'DejaVu Sans Mono',consolas,'Courier New',monospace\">-------------------------------------------------------------------------------- \n",
       "category: terrain, n_obj = <span style=\"color: #008080; text-decoration-color: #008080; font-weight: bold\">16</span>\n",
       "</pre>\n"
      ],
      "text/plain": [
       "-------------------------------------------------------------------------------- \n",
       "category: terrain, n_obj = \u001b[1;36m16\u001b[0m\n"
      ]
     },
     "metadata": {},
     "output_type": "display_data"
    },
    {
     "data": {
      "text/html": [
       "<pre style=\"white-space:pre;overflow-x:auto;line-height:normal;font-family:Menlo,'DejaVu Sans Mono',consolas,'Courier New',monospace\">factors:\n",
       "<span style=\"font-weight: bold\">[</span><span style=\"color: #008000; text-decoration-color: #008000\">'fix_x'</span>, <span style=\"color: #008000; text-decoration-color: #008000\">'fix_y'</span>, <span style=\"color: #008000; text-decoration-color: #008000\">'slf_v_norm'</span>, <span style=\"color: #008000; text-decoration-color: #008000\">'slf_v_theta'</span>, <span style=\"color: #008000; text-decoration-color: #008000\">'slf_v_phi'</span>, <span style=\"color: #008000; text-decoration-color: #008000\">'obj0_alpha_x'</span>, <span style=\"color: #008000; text-decoration-color: #008000\">'obj0_alpha_y'</span>, \n",
       "<span style=\"color: #008000; text-decoration-color: #008000\">'obj0_distance'</span>, <span style=\"color: #008000; text-decoration-color: #008000\">'obj1_alpha_x'</span>, <span style=\"color: #008000; text-decoration-color: #008000\">'obj1_alpha_y'</span>, <span style=\"color: #008000; text-decoration-color: #008000\">'obj1_distance'</span>, <span style=\"color: #008000; text-decoration-color: #008000\">'obj2_alpha_x'</span>, \n",
       "<span style=\"color: #008000; text-decoration-color: #008000\">'obj2_alpha_y'</span>, <span style=\"color: #008000; text-decoration-color: #008000\">'obj2_distance'</span>, <span style=\"color: #008000; text-decoration-color: #008000\">'obj3_alpha_x'</span>, <span style=\"color: #008000; text-decoration-color: #008000\">'obj3_alpha_y'</span>, <span style=\"color: #008000; text-decoration-color: #008000\">'obj3_distance'</span>, \n",
       "<span style=\"color: #008000; text-decoration-color: #008000\">'obj4_alpha_x'</span>, <span style=\"color: #008000; text-decoration-color: #008000\">'obj4_alpha_y'</span>, <span style=\"color: #008000; text-decoration-color: #008000\">'obj4_distance'</span>, <span style=\"color: #008000; text-decoration-color: #008000\">'obj5_alpha_x'</span>, <span style=\"color: #008000; text-decoration-color: #008000\">'obj5_alpha_y'</span>, \n",
       "<span style=\"color: #008000; text-decoration-color: #008000\">'obj5_distance'</span>, <span style=\"color: #008000; text-decoration-color: #008000\">'obj6_alpha_x'</span>, <span style=\"color: #008000; text-decoration-color: #008000\">'obj6_alpha_y'</span>, <span style=\"color: #008000; text-decoration-color: #008000\">'obj6_distance'</span>, <span style=\"color: #008000; text-decoration-color: #008000\">'obj7_alpha_x'</span>, \n",
       "<span style=\"color: #008000; text-decoration-color: #008000\">'obj7_alpha_y'</span>, <span style=\"color: #008000; text-decoration-color: #008000\">'obj7_distance'</span>, <span style=\"color: #008000; text-decoration-color: #008000\">'obj8_alpha_x'</span>, <span style=\"color: #008000; text-decoration-color: #008000\">'obj8_alpha_y'</span>, <span style=\"color: #008000; text-decoration-color: #008000\">'obj8_distance'</span>, \n",
       "<span style=\"color: #008000; text-decoration-color: #008000\">'obj9_alpha_x'</span>, <span style=\"color: #008000; text-decoration-color: #008000\">'obj9_alpha_y'</span>, <span style=\"color: #008000; text-decoration-color: #008000\">'obj9_distance'</span>, <span style=\"color: #008000; text-decoration-color: #008000\">'obj10_alpha_x'</span>, <span style=\"color: #008000; text-decoration-color: #008000\">'obj10_alpha_y'</span>, \n",
       "<span style=\"color: #008000; text-decoration-color: #008000\">'obj10_distance'</span>, <span style=\"color: #008000; text-decoration-color: #008000\">'obj11_alpha_x'</span>, <span style=\"color: #008000; text-decoration-color: #008000\">'obj11_alpha_y'</span>, <span style=\"color: #008000; text-decoration-color: #008000\">'obj11_distance'</span>, <span style=\"color: #008000; text-decoration-color: #008000\">'obj12_alpha_x'</span>, \n",
       "<span style=\"color: #008000; text-decoration-color: #008000\">'obj12_alpha_y'</span>, <span style=\"color: #008000; text-decoration-color: #008000\">'obj12_distance'</span>, <span style=\"color: #008000; text-decoration-color: #008000\">'obj13_alpha_x'</span>, <span style=\"color: #008000; text-decoration-color: #008000\">'obj13_alpha_y'</span>, <span style=\"color: #008000; text-decoration-color: #008000\">'obj13_distance'</span>, \n",
       "<span style=\"color: #008000; text-decoration-color: #008000\">'obj14_alpha_x'</span>, <span style=\"color: #008000; text-decoration-color: #008000\">'obj14_alpha_y'</span>, <span style=\"color: #008000; text-decoration-color: #008000\">'obj14_distance'</span>, <span style=\"color: #008000; text-decoration-color: #008000\">'obj15_alpha_x'</span>, <span style=\"color: #008000; text-decoration-color: #008000\">'obj15_alpha_y'</span>, \n",
       "<span style=\"color: #008000; text-decoration-color: #008000\">'obj15_distance'</span><span style=\"font-weight: bold\">]</span>\n",
       "</pre>\n"
      ],
      "text/plain": [
       "factors:\n",
       "\u001b[1m[\u001b[0m\u001b[32m'fix_x'\u001b[0m, \u001b[32m'fix_y'\u001b[0m, \u001b[32m'slf_v_norm'\u001b[0m, \u001b[32m'slf_v_theta'\u001b[0m, \u001b[32m'slf_v_phi'\u001b[0m, \u001b[32m'obj0_alpha_x'\u001b[0m, \u001b[32m'obj0_alpha_y'\u001b[0m, \n",
       "\u001b[32m'obj0_distance'\u001b[0m, \u001b[32m'obj1_alpha_x'\u001b[0m, \u001b[32m'obj1_alpha_y'\u001b[0m, \u001b[32m'obj1_distance'\u001b[0m, \u001b[32m'obj2_alpha_x'\u001b[0m, \n",
       "\u001b[32m'obj2_alpha_y'\u001b[0m, \u001b[32m'obj2_distance'\u001b[0m, \u001b[32m'obj3_alpha_x'\u001b[0m, \u001b[32m'obj3_alpha_y'\u001b[0m, \u001b[32m'obj3_distance'\u001b[0m, \n",
       "\u001b[32m'obj4_alpha_x'\u001b[0m, \u001b[32m'obj4_alpha_y'\u001b[0m, \u001b[32m'obj4_distance'\u001b[0m, \u001b[32m'obj5_alpha_x'\u001b[0m, \u001b[32m'obj5_alpha_y'\u001b[0m, \n",
       "\u001b[32m'obj5_distance'\u001b[0m, \u001b[32m'obj6_alpha_x'\u001b[0m, \u001b[32m'obj6_alpha_y'\u001b[0m, \u001b[32m'obj6_distance'\u001b[0m, \u001b[32m'obj7_alpha_x'\u001b[0m, \n",
       "\u001b[32m'obj7_alpha_y'\u001b[0m, \u001b[32m'obj7_distance'\u001b[0m, \u001b[32m'obj8_alpha_x'\u001b[0m, \u001b[32m'obj8_alpha_y'\u001b[0m, \u001b[32m'obj8_distance'\u001b[0m, \n",
       "\u001b[32m'obj9_alpha_x'\u001b[0m, \u001b[32m'obj9_alpha_y'\u001b[0m, \u001b[32m'obj9_distance'\u001b[0m, \u001b[32m'obj10_alpha_x'\u001b[0m, \u001b[32m'obj10_alpha_y'\u001b[0m, \n",
       "\u001b[32m'obj10_distance'\u001b[0m, \u001b[32m'obj11_alpha_x'\u001b[0m, \u001b[32m'obj11_alpha_y'\u001b[0m, \u001b[32m'obj11_distance'\u001b[0m, \u001b[32m'obj12_alpha_x'\u001b[0m, \n",
       "\u001b[32m'obj12_alpha_y'\u001b[0m, \u001b[32m'obj12_distance'\u001b[0m, \u001b[32m'obj13_alpha_x'\u001b[0m, \u001b[32m'obj13_alpha_y'\u001b[0m, \u001b[32m'obj13_distance'\u001b[0m, \n",
       "\u001b[32m'obj14_alpha_x'\u001b[0m, \u001b[32m'obj14_alpha_y'\u001b[0m, \u001b[32m'obj14_distance'\u001b[0m, \u001b[32m'obj15_alpha_x'\u001b[0m, \u001b[32m'obj15_alpha_y'\u001b[0m, \n",
       "\u001b[32m'obj15_distance'\u001b[0m\u001b[1m]\u001b[0m\n"
      ]
     },
     "metadata": {},
     "output_type": "display_data"
    },
    {
     "data": {
      "text/html": [
       "<pre style=\"white-space:pre;overflow-x:auto;line-height:normal;font-family:Menlo,'DejaVu Sans Mono',consolas,'Courier New',monospace\">factors_aux:\n",
       "<span style=\"font-weight: bold\">[</span><span style=\"color: #008000; text-decoration-color: #008000\">'slf_v_x'</span>, <span style=\"color: #008000; text-decoration-color: #008000\">'slf_v_y'</span>, <span style=\"color: #008000; text-decoration-color: #008000\">'slf_v_z'</span>, <span style=\"color: #008000; text-decoration-color: #008000\">'obj0_size_eff'</span>, <span style=\"color: #008000; text-decoration-color: #008000\">'obj0_size'</span>, <span style=\"color: #008000; text-decoration-color: #008000\">'obj0_theta'</span>, <span style=\"color: #008000; text-decoration-color: #008000\">'obj0_phi'</span>, \n",
       "<span style=\"color: #008000; text-decoration-color: #008000\">'obj0_x'</span>, <span style=\"color: #008000; text-decoration-color: #008000\">'obj0_y'</span>, <span style=\"color: #008000; text-decoration-color: #008000\">'obj0_z'</span>, <span style=\"color: #008000; text-decoration-color: #008000\">'obj0_dx'</span>, <span style=\"color: #008000; text-decoration-color: #008000\">'obj0_dy'</span>, <span style=\"color: #008000; text-decoration-color: #008000\">'obj0_dz'</span>, <span style=\"color: #008000; text-decoration-color: #008000\">'obj1_size_eff'</span>, <span style=\"color: #008000; text-decoration-color: #008000\">'obj1_size'</span>, \n",
       "<span style=\"color: #008000; text-decoration-color: #008000\">'obj1_theta'</span>, <span style=\"color: #008000; text-decoration-color: #008000\">'obj1_phi'</span>, <span style=\"color: #008000; text-decoration-color: #008000\">'obj1_x'</span>, <span style=\"color: #008000; text-decoration-color: #008000\">'obj1_y'</span>, <span style=\"color: #008000; text-decoration-color: #008000\">'obj1_z'</span>, <span style=\"color: #008000; text-decoration-color: #008000\">'obj1_dx'</span>, <span style=\"color: #008000; text-decoration-color: #008000\">'obj1_dy'</span>, <span style=\"color: #008000; text-decoration-color: #008000\">'obj1_dz'</span>, \n",
       "<span style=\"color: #008000; text-decoration-color: #008000\">'obj2_size_eff'</span>, <span style=\"color: #008000; text-decoration-color: #008000\">'obj2_size'</span>, <span style=\"color: #008000; text-decoration-color: #008000\">'obj2_theta'</span>, <span style=\"color: #008000; text-decoration-color: #008000\">'obj2_phi'</span>, <span style=\"color: #008000; text-decoration-color: #008000\">'obj2_x'</span>, <span style=\"color: #008000; text-decoration-color: #008000\">'obj2_y'</span>, <span style=\"color: #008000; text-decoration-color: #008000\">'obj2_z'</span>, \n",
       "<span style=\"color: #008000; text-decoration-color: #008000\">'obj2_dx'</span>, <span style=\"color: #008000; text-decoration-color: #008000\">'obj2_dy'</span>, <span style=\"color: #008000; text-decoration-color: #008000\">'obj2_dz'</span>, <span style=\"color: #008000; text-decoration-color: #008000\">'obj3_size_eff'</span>, <span style=\"color: #008000; text-decoration-color: #008000\">'obj3_size'</span>, <span style=\"color: #008000; text-decoration-color: #008000\">'obj3_theta'</span>, <span style=\"color: #008000; text-decoration-color: #008000\">'obj3_phi'</span>, \n",
       "<span style=\"color: #008000; text-decoration-color: #008000\">'obj3_x'</span>, <span style=\"color: #008000; text-decoration-color: #008000\">'obj3_y'</span>, <span style=\"color: #008000; text-decoration-color: #008000\">'obj3_z'</span>, <span style=\"color: #008000; text-decoration-color: #008000\">'obj3_dx'</span>, <span style=\"color: #008000; text-decoration-color: #008000\">'obj3_dy'</span>, <span style=\"color: #008000; text-decoration-color: #008000\">'obj3_dz'</span>, <span style=\"color: #008000; text-decoration-color: #008000\">'obj4_size_eff'</span>, <span style=\"color: #008000; text-decoration-color: #008000\">'obj4_size'</span>, \n",
       "<span style=\"color: #008000; text-decoration-color: #008000\">'obj4_theta'</span>, <span style=\"color: #008000; text-decoration-color: #008000\">'obj4_phi'</span>, <span style=\"color: #008000; text-decoration-color: #008000\">'obj4_x'</span>, <span style=\"color: #008000; text-decoration-color: #008000\">'obj4_y'</span>, <span style=\"color: #008000; text-decoration-color: #008000\">'obj4_z'</span>, <span style=\"color: #008000; text-decoration-color: #008000\">'obj4_dx'</span>, <span style=\"color: #008000; text-decoration-color: #008000\">'obj4_dy'</span>, <span style=\"color: #008000; text-decoration-color: #008000\">'obj4_dz'</span>, \n",
       "<span style=\"color: #008000; text-decoration-color: #008000\">'obj5_size_eff'</span>, <span style=\"color: #008000; text-decoration-color: #008000\">'obj5_size'</span>, <span style=\"color: #008000; text-decoration-color: #008000\">'obj5_theta'</span>, <span style=\"color: #008000; text-decoration-color: #008000\">'obj5_phi'</span>, <span style=\"color: #008000; text-decoration-color: #008000\">'obj5_x'</span>, <span style=\"color: #008000; text-decoration-color: #008000\">'obj5_y'</span>, <span style=\"color: #008000; text-decoration-color: #008000\">'obj5_z'</span>, \n",
       "<span style=\"color: #008000; text-decoration-color: #008000\">'obj5_dx'</span>, <span style=\"color: #008000; text-decoration-color: #008000\">'obj5_dy'</span>, <span style=\"color: #008000; text-decoration-color: #008000\">'obj5_dz'</span>, <span style=\"color: #008000; text-decoration-color: #008000\">'obj6_size_eff'</span>, <span style=\"color: #008000; text-decoration-color: #008000\">'obj6_size'</span>, <span style=\"color: #008000; text-decoration-color: #008000\">'obj6_theta'</span>, <span style=\"color: #008000; text-decoration-color: #008000\">'obj6_phi'</span>, \n",
       "<span style=\"color: #008000; text-decoration-color: #008000\">'obj6_x'</span>, <span style=\"color: #008000; text-decoration-color: #008000\">'obj6_y'</span>, <span style=\"color: #008000; text-decoration-color: #008000\">'obj6_z'</span>, <span style=\"color: #008000; text-decoration-color: #008000\">'obj6_dx'</span>, <span style=\"color: #008000; text-decoration-color: #008000\">'obj6_dy'</span>, <span style=\"color: #008000; text-decoration-color: #008000\">'obj6_dz'</span>, <span style=\"color: #008000; text-decoration-color: #008000\">'obj7_size_eff'</span>, <span style=\"color: #008000; text-decoration-color: #008000\">'obj7_size'</span>, \n",
       "<span style=\"color: #008000; text-decoration-color: #008000\">'obj7_theta'</span>, <span style=\"color: #008000; text-decoration-color: #008000\">'obj7_phi'</span>, <span style=\"color: #008000; text-decoration-color: #008000\">'obj7_x'</span>, <span style=\"color: #008000; text-decoration-color: #008000\">'obj7_y'</span>, <span style=\"color: #008000; text-decoration-color: #008000\">'obj7_z'</span>, <span style=\"color: #008000; text-decoration-color: #008000\">'obj7_dx'</span>, <span style=\"color: #008000; text-decoration-color: #008000\">'obj7_dy'</span>, <span style=\"color: #008000; text-decoration-color: #008000\">'obj7_dz'</span>, \n",
       "<span style=\"color: #008000; text-decoration-color: #008000\">'obj8_size_eff'</span>, <span style=\"color: #008000; text-decoration-color: #008000\">'obj8_size'</span>, <span style=\"color: #008000; text-decoration-color: #008000\">'obj8_theta'</span>, <span style=\"color: #008000; text-decoration-color: #008000\">'obj8_phi'</span>, <span style=\"color: #008000; text-decoration-color: #008000\">'obj8_x'</span>, <span style=\"color: #008000; text-decoration-color: #008000\">'obj8_y'</span>, <span style=\"color: #008000; text-decoration-color: #008000\">'obj8_z'</span>, \n",
       "<span style=\"color: #008000; text-decoration-color: #008000\">'obj8_dx'</span>, <span style=\"color: #008000; text-decoration-color: #008000\">'obj8_dy'</span>, <span style=\"color: #008000; text-decoration-color: #008000\">'obj8_dz'</span>, <span style=\"color: #008000; text-decoration-color: #008000\">'obj9_size_eff'</span>, <span style=\"color: #008000; text-decoration-color: #008000\">'obj9_size'</span>, <span style=\"color: #008000; text-decoration-color: #008000\">'obj9_theta'</span>, <span style=\"color: #008000; text-decoration-color: #008000\">'obj9_phi'</span>, \n",
       "<span style=\"color: #008000; text-decoration-color: #008000\">'obj9_x'</span>, <span style=\"color: #008000; text-decoration-color: #008000\">'obj9_y'</span>, <span style=\"color: #008000; text-decoration-color: #008000\">'obj9_z'</span>, <span style=\"color: #008000; text-decoration-color: #008000\">'obj9_dx'</span>, <span style=\"color: #008000; text-decoration-color: #008000\">'obj9_dy'</span>, <span style=\"color: #008000; text-decoration-color: #008000\">'obj9_dz'</span>, <span style=\"color: #008000; text-decoration-color: #008000\">'obj10_size_eff'</span>, \n",
       "<span style=\"color: #008000; text-decoration-color: #008000\">'obj10_size'</span>, <span style=\"color: #008000; text-decoration-color: #008000\">'obj10_theta'</span>, <span style=\"color: #008000; text-decoration-color: #008000\">'obj10_phi'</span>, <span style=\"color: #008000; text-decoration-color: #008000\">'obj10_x'</span>, <span style=\"color: #008000; text-decoration-color: #008000\">'obj10_y'</span>, <span style=\"color: #008000; text-decoration-color: #008000\">'obj10_z'</span>, <span style=\"color: #008000; text-decoration-color: #008000\">'obj10_dx'</span>, \n",
       "<span style=\"color: #008000; text-decoration-color: #008000\">'obj10_dy'</span>, <span style=\"color: #008000; text-decoration-color: #008000\">'obj10_dz'</span>, <span style=\"color: #008000; text-decoration-color: #008000\">'obj11_size_eff'</span>, <span style=\"color: #008000; text-decoration-color: #008000\">'obj11_size'</span>, <span style=\"color: #008000; text-decoration-color: #008000\">'obj11_theta'</span>, <span style=\"color: #008000; text-decoration-color: #008000\">'obj11_phi'</span>, \n",
       "<span style=\"color: #008000; text-decoration-color: #008000\">'obj11_x'</span>, <span style=\"color: #008000; text-decoration-color: #008000\">'obj11_y'</span>, <span style=\"color: #008000; text-decoration-color: #008000\">'obj11_z'</span>, <span style=\"color: #008000; text-decoration-color: #008000\">'obj11_dx'</span>, <span style=\"color: #008000; text-decoration-color: #008000\">'obj11_dy'</span>, <span style=\"color: #008000; text-decoration-color: #008000\">'obj11_dz'</span>, <span style=\"color: #008000; text-decoration-color: #008000\">'obj12_size_eff'</span>, \n",
       "<span style=\"color: #008000; text-decoration-color: #008000\">'obj12_size'</span>, <span style=\"color: #008000; text-decoration-color: #008000\">'obj12_theta'</span>, <span style=\"color: #008000; text-decoration-color: #008000\">'obj12_phi'</span>, <span style=\"color: #008000; text-decoration-color: #008000\">'obj12_x'</span>, <span style=\"color: #008000; text-decoration-color: #008000\">'obj12_y'</span>, <span style=\"color: #008000; text-decoration-color: #008000\">'obj12_z'</span>, <span style=\"color: #008000; text-decoration-color: #008000\">'obj12_dx'</span>, \n",
       "<span style=\"color: #008000; text-decoration-color: #008000\">'obj12_dy'</span>, <span style=\"color: #008000; text-decoration-color: #008000\">'obj12_dz'</span>, <span style=\"color: #008000; text-decoration-color: #008000\">'obj13_size_eff'</span>, <span style=\"color: #008000; text-decoration-color: #008000\">'obj13_size'</span>, <span style=\"color: #008000; text-decoration-color: #008000\">'obj13_theta'</span>, <span style=\"color: #008000; text-decoration-color: #008000\">'obj13_phi'</span>, \n",
       "<span style=\"color: #008000; text-decoration-color: #008000\">'obj13_x'</span>, <span style=\"color: #008000; text-decoration-color: #008000\">'obj13_y'</span>, <span style=\"color: #008000; text-decoration-color: #008000\">'obj13_z'</span>, <span style=\"color: #008000; text-decoration-color: #008000\">'obj13_dx'</span>, <span style=\"color: #008000; text-decoration-color: #008000\">'obj13_dy'</span>, <span style=\"color: #008000; text-decoration-color: #008000\">'obj13_dz'</span>, <span style=\"color: #008000; text-decoration-color: #008000\">'obj14_size_eff'</span>, \n",
       "<span style=\"color: #008000; text-decoration-color: #008000\">'obj14_size'</span>, <span style=\"color: #008000; text-decoration-color: #008000\">'obj14_theta'</span>, <span style=\"color: #008000; text-decoration-color: #008000\">'obj14_phi'</span>, <span style=\"color: #008000; text-decoration-color: #008000\">'obj14_x'</span>, <span style=\"color: #008000; text-decoration-color: #008000\">'obj14_y'</span>, <span style=\"color: #008000; text-decoration-color: #008000\">'obj14_z'</span>, <span style=\"color: #008000; text-decoration-color: #008000\">'obj14_dx'</span>, \n",
       "<span style=\"color: #008000; text-decoration-color: #008000\">'obj14_dy'</span>, <span style=\"color: #008000; text-decoration-color: #008000\">'obj14_dz'</span>, <span style=\"color: #008000; text-decoration-color: #008000\">'obj15_size_eff'</span>, <span style=\"color: #008000; text-decoration-color: #008000\">'obj15_size'</span>, <span style=\"color: #008000; text-decoration-color: #008000\">'obj15_theta'</span>, <span style=\"color: #008000; text-decoration-color: #008000\">'obj15_phi'</span>, \n",
       "<span style=\"color: #008000; text-decoration-color: #008000\">'obj15_x'</span>, <span style=\"color: #008000; text-decoration-color: #008000\">'obj15_y'</span>, <span style=\"color: #008000; text-decoration-color: #008000\">'obj15_z'</span>, <span style=\"color: #008000; text-decoration-color: #008000\">'obj15_dx'</span>, <span style=\"color: #008000; text-decoration-color: #008000\">'obj15_dy'</span>, <span style=\"color: #008000; text-decoration-color: #008000\">'obj15_dz'</span><span style=\"font-weight: bold\">]</span>\n",
       " ~~~~~~~~~~~~~~~~~~~~~~~~~~~~~~~~~~~~~~~~~~~~~~~~~~~~~~~~~~~~~~~~~~~~~~~~~~~~~~~~\n",
       "</pre>\n"
      ],
      "text/plain": [
       "factors_aux:\n",
       "\u001b[1m[\u001b[0m\u001b[32m'slf_v_x'\u001b[0m, \u001b[32m'slf_v_y'\u001b[0m, \u001b[32m'slf_v_z'\u001b[0m, \u001b[32m'obj0_size_eff'\u001b[0m, \u001b[32m'obj0_size'\u001b[0m, \u001b[32m'obj0_theta'\u001b[0m, \u001b[32m'obj0_phi'\u001b[0m, \n",
       "\u001b[32m'obj0_x'\u001b[0m, \u001b[32m'obj0_y'\u001b[0m, \u001b[32m'obj0_z'\u001b[0m, \u001b[32m'obj0_dx'\u001b[0m, \u001b[32m'obj0_dy'\u001b[0m, \u001b[32m'obj0_dz'\u001b[0m, \u001b[32m'obj1_size_eff'\u001b[0m, \u001b[32m'obj1_size'\u001b[0m, \n",
       "\u001b[32m'obj1_theta'\u001b[0m, \u001b[32m'obj1_phi'\u001b[0m, \u001b[32m'obj1_x'\u001b[0m, \u001b[32m'obj1_y'\u001b[0m, \u001b[32m'obj1_z'\u001b[0m, \u001b[32m'obj1_dx'\u001b[0m, \u001b[32m'obj1_dy'\u001b[0m, \u001b[32m'obj1_dz'\u001b[0m, \n",
       "\u001b[32m'obj2_size_eff'\u001b[0m, \u001b[32m'obj2_size'\u001b[0m, \u001b[32m'obj2_theta'\u001b[0m, \u001b[32m'obj2_phi'\u001b[0m, \u001b[32m'obj2_x'\u001b[0m, \u001b[32m'obj2_y'\u001b[0m, \u001b[32m'obj2_z'\u001b[0m, \n",
       "\u001b[32m'obj2_dx'\u001b[0m, \u001b[32m'obj2_dy'\u001b[0m, \u001b[32m'obj2_dz'\u001b[0m, \u001b[32m'obj3_size_eff'\u001b[0m, \u001b[32m'obj3_size'\u001b[0m, \u001b[32m'obj3_theta'\u001b[0m, \u001b[32m'obj3_phi'\u001b[0m, \n",
       "\u001b[32m'obj3_x'\u001b[0m, \u001b[32m'obj3_y'\u001b[0m, \u001b[32m'obj3_z'\u001b[0m, \u001b[32m'obj3_dx'\u001b[0m, \u001b[32m'obj3_dy'\u001b[0m, \u001b[32m'obj3_dz'\u001b[0m, \u001b[32m'obj4_size_eff'\u001b[0m, \u001b[32m'obj4_size'\u001b[0m, \n",
       "\u001b[32m'obj4_theta'\u001b[0m, \u001b[32m'obj4_phi'\u001b[0m, \u001b[32m'obj4_x'\u001b[0m, \u001b[32m'obj4_y'\u001b[0m, \u001b[32m'obj4_z'\u001b[0m, \u001b[32m'obj4_dx'\u001b[0m, \u001b[32m'obj4_dy'\u001b[0m, \u001b[32m'obj4_dz'\u001b[0m, \n",
       "\u001b[32m'obj5_size_eff'\u001b[0m, \u001b[32m'obj5_size'\u001b[0m, \u001b[32m'obj5_theta'\u001b[0m, \u001b[32m'obj5_phi'\u001b[0m, \u001b[32m'obj5_x'\u001b[0m, \u001b[32m'obj5_y'\u001b[0m, \u001b[32m'obj5_z'\u001b[0m, \n",
       "\u001b[32m'obj5_dx'\u001b[0m, \u001b[32m'obj5_dy'\u001b[0m, \u001b[32m'obj5_dz'\u001b[0m, \u001b[32m'obj6_size_eff'\u001b[0m, \u001b[32m'obj6_size'\u001b[0m, \u001b[32m'obj6_theta'\u001b[0m, \u001b[32m'obj6_phi'\u001b[0m, \n",
       "\u001b[32m'obj6_x'\u001b[0m, \u001b[32m'obj6_y'\u001b[0m, \u001b[32m'obj6_z'\u001b[0m, \u001b[32m'obj6_dx'\u001b[0m, \u001b[32m'obj6_dy'\u001b[0m, \u001b[32m'obj6_dz'\u001b[0m, \u001b[32m'obj7_size_eff'\u001b[0m, \u001b[32m'obj7_size'\u001b[0m, \n",
       "\u001b[32m'obj7_theta'\u001b[0m, \u001b[32m'obj7_phi'\u001b[0m, \u001b[32m'obj7_x'\u001b[0m, \u001b[32m'obj7_y'\u001b[0m, \u001b[32m'obj7_z'\u001b[0m, \u001b[32m'obj7_dx'\u001b[0m, \u001b[32m'obj7_dy'\u001b[0m, \u001b[32m'obj7_dz'\u001b[0m, \n",
       "\u001b[32m'obj8_size_eff'\u001b[0m, \u001b[32m'obj8_size'\u001b[0m, \u001b[32m'obj8_theta'\u001b[0m, \u001b[32m'obj8_phi'\u001b[0m, \u001b[32m'obj8_x'\u001b[0m, \u001b[32m'obj8_y'\u001b[0m, \u001b[32m'obj8_z'\u001b[0m, \n",
       "\u001b[32m'obj8_dx'\u001b[0m, \u001b[32m'obj8_dy'\u001b[0m, \u001b[32m'obj8_dz'\u001b[0m, \u001b[32m'obj9_size_eff'\u001b[0m, \u001b[32m'obj9_size'\u001b[0m, \u001b[32m'obj9_theta'\u001b[0m, \u001b[32m'obj9_phi'\u001b[0m, \n",
       "\u001b[32m'obj9_x'\u001b[0m, \u001b[32m'obj9_y'\u001b[0m, \u001b[32m'obj9_z'\u001b[0m, \u001b[32m'obj9_dx'\u001b[0m, \u001b[32m'obj9_dy'\u001b[0m, \u001b[32m'obj9_dz'\u001b[0m, \u001b[32m'obj10_size_eff'\u001b[0m, \n",
       "\u001b[32m'obj10_size'\u001b[0m, \u001b[32m'obj10_theta'\u001b[0m, \u001b[32m'obj10_phi'\u001b[0m, \u001b[32m'obj10_x'\u001b[0m, \u001b[32m'obj10_y'\u001b[0m, \u001b[32m'obj10_z'\u001b[0m, \u001b[32m'obj10_dx'\u001b[0m, \n",
       "\u001b[32m'obj10_dy'\u001b[0m, \u001b[32m'obj10_dz'\u001b[0m, \u001b[32m'obj11_size_eff'\u001b[0m, \u001b[32m'obj11_size'\u001b[0m, \u001b[32m'obj11_theta'\u001b[0m, \u001b[32m'obj11_phi'\u001b[0m, \n",
       "\u001b[32m'obj11_x'\u001b[0m, \u001b[32m'obj11_y'\u001b[0m, \u001b[32m'obj11_z'\u001b[0m, \u001b[32m'obj11_dx'\u001b[0m, \u001b[32m'obj11_dy'\u001b[0m, \u001b[32m'obj11_dz'\u001b[0m, \u001b[32m'obj12_size_eff'\u001b[0m, \n",
       "\u001b[32m'obj12_size'\u001b[0m, \u001b[32m'obj12_theta'\u001b[0m, \u001b[32m'obj12_phi'\u001b[0m, \u001b[32m'obj12_x'\u001b[0m, \u001b[32m'obj12_y'\u001b[0m, \u001b[32m'obj12_z'\u001b[0m, \u001b[32m'obj12_dx'\u001b[0m, \n",
       "\u001b[32m'obj12_dy'\u001b[0m, \u001b[32m'obj12_dz'\u001b[0m, \u001b[32m'obj13_size_eff'\u001b[0m, \u001b[32m'obj13_size'\u001b[0m, \u001b[32m'obj13_theta'\u001b[0m, \u001b[32m'obj13_phi'\u001b[0m, \n",
       "\u001b[32m'obj13_x'\u001b[0m, \u001b[32m'obj13_y'\u001b[0m, \u001b[32m'obj13_z'\u001b[0m, \u001b[32m'obj13_dx'\u001b[0m, \u001b[32m'obj13_dy'\u001b[0m, \u001b[32m'obj13_dz'\u001b[0m, \u001b[32m'obj14_size_eff'\u001b[0m, \n",
       "\u001b[32m'obj14_size'\u001b[0m, \u001b[32m'obj14_theta'\u001b[0m, \u001b[32m'obj14_phi'\u001b[0m, \u001b[32m'obj14_x'\u001b[0m, \u001b[32m'obj14_y'\u001b[0m, \u001b[32m'obj14_z'\u001b[0m, \u001b[32m'obj14_dx'\u001b[0m, \n",
       "\u001b[32m'obj14_dy'\u001b[0m, \u001b[32m'obj14_dz'\u001b[0m, \u001b[32m'obj15_size_eff'\u001b[0m, \u001b[32m'obj15_size'\u001b[0m, \u001b[32m'obj15_theta'\u001b[0m, \u001b[32m'obj15_phi'\u001b[0m, \n",
       "\u001b[32m'obj15_x'\u001b[0m, \u001b[32m'obj15_y'\u001b[0m, \u001b[32m'obj15_z'\u001b[0m, \u001b[32m'obj15_dx'\u001b[0m, \u001b[32m'obj15_dy'\u001b[0m, \u001b[32m'obj15_dz'\u001b[0m\u001b[1m]\u001b[0m\n",
       " ~~~~~~~~~~~~~~~~~~~~~~~~~~~~~~~~~~~~~~~~~~~~~~~~~~~~~~~~~~~~~~~~~~~~~~~~~~~~~~~~\n"
      ]
     },
     "metadata": {},
     "output_type": "display_data"
    },
    {
     "data": {
      "text/html": [
       "<pre style=\"white-space:pre;overflow-x:auto;line-height:normal;font-family:Menlo,'DejaVu Sans Mono',consolas,'Courier New',monospace\">\n",
       "\n",
       "\n",
       "</pre>\n"
      ],
      "text/plain": [
       "\n",
       "\n",
       "\n"
      ]
     },
     "metadata": {},
     "output_type": "display_data"
    },
    {
     "data": {
      "text/html": [
       "<pre style=\"white-space:pre;overflow-x:auto;line-height:normal;font-family:Menlo,'DejaVu Sans Mono',consolas,'Courier New',monospace\">-------------------------------------------------------------------------------- \n",
       "category: transl, n_obj = <span style=\"color: #008080; text-decoration-color: #008080; font-weight: bold\">0</span>\n",
       "</pre>\n"
      ],
      "text/plain": [
       "-------------------------------------------------------------------------------- \n",
       "category: transl, n_obj = \u001b[1;36m0\u001b[0m\n"
      ]
     },
     "metadata": {},
     "output_type": "display_data"
    },
    {
     "data": {
      "text/html": [
       "<pre style=\"white-space:pre;overflow-x:auto;line-height:normal;font-family:Menlo,'DejaVu Sans Mono',consolas,'Courier New',monospace\">factors:\n",
       "<span style=\"font-weight: bold\">[</span><span style=\"color: #008000; text-decoration-color: #008000\">'fix_x'</span>, <span style=\"color: #008000; text-decoration-color: #008000\">'fix_y'</span>, <span style=\"color: #008000; text-decoration-color: #008000\">'slf_v_norm'</span>, <span style=\"color: #008000; text-decoration-color: #008000\">'slf_v_theta'</span>, <span style=\"color: #008000; text-decoration-color: #008000\">'slf_v_phi'</span><span style=\"font-weight: bold\">]</span>\n",
       "</pre>\n"
      ],
      "text/plain": [
       "factors:\n",
       "\u001b[1m[\u001b[0m\u001b[32m'fix_x'\u001b[0m, \u001b[32m'fix_y'\u001b[0m, \u001b[32m'slf_v_norm'\u001b[0m, \u001b[32m'slf_v_theta'\u001b[0m, \u001b[32m'slf_v_phi'\u001b[0m\u001b[1m]\u001b[0m\n"
      ]
     },
     "metadata": {},
     "output_type": "display_data"
    },
    {
     "data": {
      "text/html": [
       "<pre style=\"white-space:pre;overflow-x:auto;line-height:normal;font-family:Menlo,'DejaVu Sans Mono',consolas,'Courier New',monospace\">factors_aux:\n",
       "<span style=\"font-weight: bold\">[</span><span style=\"color: #008000; text-decoration-color: #008000\">'slf_v_x'</span>, <span style=\"color: #008000; text-decoration-color: #008000\">'slf_v_y'</span>, <span style=\"color: #008000; text-decoration-color: #008000\">'slf_v_z'</span><span style=\"font-weight: bold\">]</span>\n",
       " ~~~~~~~~~~~~~~~~~~~~~~~~~~~~~~~~~~~~~~~~~~~~~~~~~~~~~~~~~~~~~~~~~~~~~~~~~~~~~~~~\n",
       "</pre>\n"
      ],
      "text/plain": [
       "factors_aux:\n",
       "\u001b[1m[\u001b[0m\u001b[32m'slf_v_x'\u001b[0m, \u001b[32m'slf_v_y'\u001b[0m, \u001b[32m'slf_v_z'\u001b[0m\u001b[1m]\u001b[0m\n",
       " ~~~~~~~~~~~~~~~~~~~~~~~~~~~~~~~~~~~~~~~~~~~~~~~~~~~~~~~~~~~~~~~~~~~~~~~~~~~~~~~~\n"
      ]
     },
     "metadata": {},
     "output_type": "display_data"
    },
    {
     "data": {
      "text/html": [
       "<pre style=\"white-space:pre;overflow-x:auto;line-height:normal;font-family:Menlo,'DejaVu Sans Mono',consolas,'Courier New',monospace\">\n",
       "\n",
       "\n",
       "</pre>\n"
      ],
      "text/plain": [
       "\n",
       "\n",
       "\n"
      ]
     },
     "metadata": {},
     "output_type": "display_data"
    },
    {
     "data": {
      "text/html": [
       "<pre style=\"white-space:pre;overflow-x:auto;line-height:normal;font-family:Menlo,'DejaVu Sans Mono',consolas,'Courier New',monospace\">-------------------------------------------------------------------------------- \n",
       "category: transl, n_obj = <span style=\"color: #008080; text-decoration-color: #008080; font-weight: bold\">2</span>\n",
       "</pre>\n"
      ],
      "text/plain": [
       "-------------------------------------------------------------------------------- \n",
       "category: transl, n_obj = \u001b[1;36m2\u001b[0m\n"
      ]
     },
     "metadata": {},
     "output_type": "display_data"
    },
    {
     "data": {
      "text/html": [
       "<pre style=\"white-space:pre;overflow-x:auto;line-height:normal;font-family:Menlo,'DejaVu Sans Mono',consolas,'Courier New',monospace\">factors:\n",
       "<span style=\"font-weight: bold\">[</span><span style=\"color: #008000; text-decoration-color: #008000\">'fix_x'</span>, <span style=\"color: #008000; text-decoration-color: #008000\">'fix_y'</span>, <span style=\"color: #008000; text-decoration-color: #008000\">'slf_v_norm'</span>, <span style=\"color: #008000; text-decoration-color: #008000\">'slf_v_theta'</span>, <span style=\"color: #008000; text-decoration-color: #008000\">'slf_v_phi'</span>, <span style=\"color: #008000; text-decoration-color: #008000\">'obj0_alpha_x'</span>, <span style=\"color: #008000; text-decoration-color: #008000\">'obj0_alpha_y'</span>, \n",
       "<span style=\"color: #008000; text-decoration-color: #008000\">'obj0_distance'</span>, <span style=\"color: #008000; text-decoration-color: #008000\">'obj0_v_norm'</span>, <span style=\"color: #008000; text-decoration-color: #008000\">'obj0_v_theta'</span>, <span style=\"color: #008000; text-decoration-color: #008000\">'obj0_v_phi'</span>, <span style=\"color: #008000; text-decoration-color: #008000\">'obj1_alpha_x'</span>, <span style=\"color: #008000; text-decoration-color: #008000\">'obj1_alpha_y'</span>,\n",
       "<span style=\"color: #008000; text-decoration-color: #008000\">'obj1_distance'</span>, <span style=\"color: #008000; text-decoration-color: #008000\">'obj1_v_norm'</span>, <span style=\"color: #008000; text-decoration-color: #008000\">'obj1_v_theta'</span>, <span style=\"color: #008000; text-decoration-color: #008000\">'obj1_v_phi'</span><span style=\"font-weight: bold\">]</span>\n",
       "</pre>\n"
      ],
      "text/plain": [
       "factors:\n",
       "\u001b[1m[\u001b[0m\u001b[32m'fix_x'\u001b[0m, \u001b[32m'fix_y'\u001b[0m, \u001b[32m'slf_v_norm'\u001b[0m, \u001b[32m'slf_v_theta'\u001b[0m, \u001b[32m'slf_v_phi'\u001b[0m, \u001b[32m'obj0_alpha_x'\u001b[0m, \u001b[32m'obj0_alpha_y'\u001b[0m, \n",
       "\u001b[32m'obj0_distance'\u001b[0m, \u001b[32m'obj0_v_norm'\u001b[0m, \u001b[32m'obj0_v_theta'\u001b[0m, \u001b[32m'obj0_v_phi'\u001b[0m, \u001b[32m'obj1_alpha_x'\u001b[0m, \u001b[32m'obj1_alpha_y'\u001b[0m,\n",
       "\u001b[32m'obj1_distance'\u001b[0m, \u001b[32m'obj1_v_norm'\u001b[0m, \u001b[32m'obj1_v_theta'\u001b[0m, \u001b[32m'obj1_v_phi'\u001b[0m\u001b[1m]\u001b[0m\n"
      ]
     },
     "metadata": {},
     "output_type": "display_data"
    },
    {
     "data": {
      "text/html": [
       "<pre style=\"white-space:pre;overflow-x:auto;line-height:normal;font-family:Menlo,'DejaVu Sans Mono',consolas,'Courier New',monospace\">factors_aux:\n",
       "<span style=\"font-weight: bold\">[</span><span style=\"color: #008000; text-decoration-color: #008000\">'slf_v_x'</span>, <span style=\"color: #008000; text-decoration-color: #008000\">'slf_v_y'</span>, <span style=\"color: #008000; text-decoration-color: #008000\">'slf_v_z'</span>, <span style=\"color: #008000; text-decoration-color: #008000\">'obj0_size_eff'</span>, <span style=\"color: #008000; text-decoration-color: #008000\">'obj0_size'</span>, <span style=\"color: #008000; text-decoration-color: #008000\">'obj0_theta'</span>, <span style=\"color: #008000; text-decoration-color: #008000\">'obj0_phi'</span>, \n",
       "<span style=\"color: #008000; text-decoration-color: #008000\">'obj0_x'</span>, <span style=\"color: #008000; text-decoration-color: #008000\">'obj0_y'</span>, <span style=\"color: #008000; text-decoration-color: #008000\">'obj0_z'</span>, <span style=\"color: #008000; text-decoration-color: #008000\">'obj0_dx'</span>, <span style=\"color: #008000; text-decoration-color: #008000\">'obj0_dy'</span>, <span style=\"color: #008000; text-decoration-color: #008000\">'obj0_dz'</span>, <span style=\"color: #008000; text-decoration-color: #008000\">'obj0_v_x'</span>, <span style=\"color: #008000; text-decoration-color: #008000\">'obj0_v_y'</span>, \n",
       "<span style=\"color: #008000; text-decoration-color: #008000\">'obj0_v_z'</span>, <span style=\"color: #008000; text-decoration-color: #008000\">'obj0_dv_x'</span>, <span style=\"color: #008000; text-decoration-color: #008000\">'obj0_dv_y'</span>, <span style=\"color: #008000; text-decoration-color: #008000\">'obj0_dv_z'</span>, <span style=\"color: #008000; text-decoration-color: #008000\">'obj0_dv_norm'</span>, <span style=\"color: #008000; text-decoration-color: #008000\">'obj0_dv_theta'</span>, \n",
       "<span style=\"color: #008000; text-decoration-color: #008000\">'obj0_dv_phi'</span>, <span style=\"color: #008000; text-decoration-color: #008000\">'obj1_size_eff'</span>, <span style=\"color: #008000; text-decoration-color: #008000\">'obj1_size'</span>, <span style=\"color: #008000; text-decoration-color: #008000\">'obj1_theta'</span>, <span style=\"color: #008000; text-decoration-color: #008000\">'obj1_phi'</span>, <span style=\"color: #008000; text-decoration-color: #008000\">'obj1_x'</span>, <span style=\"color: #008000; text-decoration-color: #008000\">'obj1_y'</span>, \n",
       "<span style=\"color: #008000; text-decoration-color: #008000\">'obj1_z'</span>, <span style=\"color: #008000; text-decoration-color: #008000\">'obj1_dx'</span>, <span style=\"color: #008000; text-decoration-color: #008000\">'obj1_dy'</span>, <span style=\"color: #008000; text-decoration-color: #008000\">'obj1_dz'</span>, <span style=\"color: #008000; text-decoration-color: #008000\">'obj1_v_x'</span>, <span style=\"color: #008000; text-decoration-color: #008000\">'obj1_v_y'</span>, <span style=\"color: #008000; text-decoration-color: #008000\">'obj1_v_z'</span>, <span style=\"color: #008000; text-decoration-color: #008000\">'obj1_dv_x'</span>, \n",
       "<span style=\"color: #008000; text-decoration-color: #008000\">'obj1_dv_y'</span>, <span style=\"color: #008000; text-decoration-color: #008000\">'obj1_dv_z'</span>, <span style=\"color: #008000; text-decoration-color: #008000\">'obj1_dv_norm'</span>, <span style=\"color: #008000; text-decoration-color: #008000\">'obj1_dv_theta'</span>, <span style=\"color: #008000; text-decoration-color: #008000\">'obj1_dv_phi'</span><span style=\"font-weight: bold\">]</span>\n",
       " ~~~~~~~~~~~~~~~~~~~~~~~~~~~~~~~~~~~~~~~~~~~~~~~~~~~~~~~~~~~~~~~~~~~~~~~~~~~~~~~~\n",
       "</pre>\n"
      ],
      "text/plain": [
       "factors_aux:\n",
       "\u001b[1m[\u001b[0m\u001b[32m'slf_v_x'\u001b[0m, \u001b[32m'slf_v_y'\u001b[0m, \u001b[32m'slf_v_z'\u001b[0m, \u001b[32m'obj0_size_eff'\u001b[0m, \u001b[32m'obj0_size'\u001b[0m, \u001b[32m'obj0_theta'\u001b[0m, \u001b[32m'obj0_phi'\u001b[0m, \n",
       "\u001b[32m'obj0_x'\u001b[0m, \u001b[32m'obj0_y'\u001b[0m, \u001b[32m'obj0_z'\u001b[0m, \u001b[32m'obj0_dx'\u001b[0m, \u001b[32m'obj0_dy'\u001b[0m, \u001b[32m'obj0_dz'\u001b[0m, \u001b[32m'obj0_v_x'\u001b[0m, \u001b[32m'obj0_v_y'\u001b[0m, \n",
       "\u001b[32m'obj0_v_z'\u001b[0m, \u001b[32m'obj0_dv_x'\u001b[0m, \u001b[32m'obj0_dv_y'\u001b[0m, \u001b[32m'obj0_dv_z'\u001b[0m, \u001b[32m'obj0_dv_norm'\u001b[0m, \u001b[32m'obj0_dv_theta'\u001b[0m, \n",
       "\u001b[32m'obj0_dv_phi'\u001b[0m, \u001b[32m'obj1_size_eff'\u001b[0m, \u001b[32m'obj1_size'\u001b[0m, \u001b[32m'obj1_theta'\u001b[0m, \u001b[32m'obj1_phi'\u001b[0m, \u001b[32m'obj1_x'\u001b[0m, \u001b[32m'obj1_y'\u001b[0m, \n",
       "\u001b[32m'obj1_z'\u001b[0m, \u001b[32m'obj1_dx'\u001b[0m, \u001b[32m'obj1_dy'\u001b[0m, \u001b[32m'obj1_dz'\u001b[0m, \u001b[32m'obj1_v_x'\u001b[0m, \u001b[32m'obj1_v_y'\u001b[0m, \u001b[32m'obj1_v_z'\u001b[0m, \u001b[32m'obj1_dv_x'\u001b[0m, \n",
       "\u001b[32m'obj1_dv_y'\u001b[0m, \u001b[32m'obj1_dv_z'\u001b[0m, \u001b[32m'obj1_dv_norm'\u001b[0m, \u001b[32m'obj1_dv_theta'\u001b[0m, \u001b[32m'obj1_dv_phi'\u001b[0m\u001b[1m]\u001b[0m\n",
       " ~~~~~~~~~~~~~~~~~~~~~~~~~~~~~~~~~~~~~~~~~~~~~~~~~~~~~~~~~~~~~~~~~~~~~~~~~~~~~~~~\n"
      ]
     },
     "metadata": {},
     "output_type": "display_data"
    },
    {
     "data": {
      "text/html": [
       "<pre style=\"white-space:pre;overflow-x:auto;line-height:normal;font-family:Menlo,'DejaVu Sans Mono',consolas,'Courier New',monospace\">\n",
       "\n",
       "\n",
       "</pre>\n"
      ],
      "text/plain": [
       "\n",
       "\n",
       "\n"
      ]
     },
     "metadata": {},
     "output_type": "display_data"
    },
    {
     "data": {
      "text/html": [
       "<pre style=\"white-space:pre;overflow-x:auto;line-height:normal;font-family:Menlo,'DejaVu Sans Mono',consolas,'Courier New',monospace\">-------------------------------------------------------------------------------- \n",
       "category: transl, n_obj = <span style=\"color: #008080; text-decoration-color: #008080; font-weight: bold\">4</span>\n",
       "</pre>\n"
      ],
      "text/plain": [
       "-------------------------------------------------------------------------------- \n",
       "category: transl, n_obj = \u001b[1;36m4\u001b[0m\n"
      ]
     },
     "metadata": {},
     "output_type": "display_data"
    },
    {
     "data": {
      "text/html": [
       "<pre style=\"white-space:pre;overflow-x:auto;line-height:normal;font-family:Menlo,'DejaVu Sans Mono',consolas,'Courier New',monospace\">factors:\n",
       "<span style=\"font-weight: bold\">[</span><span style=\"color: #008000; text-decoration-color: #008000\">'fix_x'</span>, <span style=\"color: #008000; text-decoration-color: #008000\">'fix_y'</span>, <span style=\"color: #008000; text-decoration-color: #008000\">'slf_v_norm'</span>, <span style=\"color: #008000; text-decoration-color: #008000\">'slf_v_theta'</span>, <span style=\"color: #008000; text-decoration-color: #008000\">'slf_v_phi'</span>, <span style=\"color: #008000; text-decoration-color: #008000\">'obj0_alpha_x'</span>, <span style=\"color: #008000; text-decoration-color: #008000\">'obj0_alpha_y'</span>, \n",
       "<span style=\"color: #008000; text-decoration-color: #008000\">'obj0_distance'</span>, <span style=\"color: #008000; text-decoration-color: #008000\">'obj0_v_norm'</span>, <span style=\"color: #008000; text-decoration-color: #008000\">'obj0_v_theta'</span>, <span style=\"color: #008000; text-decoration-color: #008000\">'obj0_v_phi'</span>, <span style=\"color: #008000; text-decoration-color: #008000\">'obj1_alpha_x'</span>, <span style=\"color: #008000; text-decoration-color: #008000\">'obj1_alpha_y'</span>,\n",
       "<span style=\"color: #008000; text-decoration-color: #008000\">'obj1_distance'</span>, <span style=\"color: #008000; text-decoration-color: #008000\">'obj1_v_norm'</span>, <span style=\"color: #008000; text-decoration-color: #008000\">'obj1_v_theta'</span>, <span style=\"color: #008000; text-decoration-color: #008000\">'obj1_v_phi'</span>, <span style=\"color: #008000; text-decoration-color: #008000\">'obj2_alpha_x'</span>, <span style=\"color: #008000; text-decoration-color: #008000\">'obj2_alpha_y'</span>,\n",
       "<span style=\"color: #008000; text-decoration-color: #008000\">'obj2_distance'</span>, <span style=\"color: #008000; text-decoration-color: #008000\">'obj2_v_norm'</span>, <span style=\"color: #008000; text-decoration-color: #008000\">'obj2_v_theta'</span>, <span style=\"color: #008000; text-decoration-color: #008000\">'obj2_v_phi'</span>, <span style=\"color: #008000; text-decoration-color: #008000\">'obj3_alpha_x'</span>, <span style=\"color: #008000; text-decoration-color: #008000\">'obj3_alpha_y'</span>,\n",
       "<span style=\"color: #008000; text-decoration-color: #008000\">'obj3_distance'</span>, <span style=\"color: #008000; text-decoration-color: #008000\">'obj3_v_norm'</span>, <span style=\"color: #008000; text-decoration-color: #008000\">'obj3_v_theta'</span>, <span style=\"color: #008000; text-decoration-color: #008000\">'obj3_v_phi'</span><span style=\"font-weight: bold\">]</span>\n",
       "</pre>\n"
      ],
      "text/plain": [
       "factors:\n",
       "\u001b[1m[\u001b[0m\u001b[32m'fix_x'\u001b[0m, \u001b[32m'fix_y'\u001b[0m, \u001b[32m'slf_v_norm'\u001b[0m, \u001b[32m'slf_v_theta'\u001b[0m, \u001b[32m'slf_v_phi'\u001b[0m, \u001b[32m'obj0_alpha_x'\u001b[0m, \u001b[32m'obj0_alpha_y'\u001b[0m, \n",
       "\u001b[32m'obj0_distance'\u001b[0m, \u001b[32m'obj0_v_norm'\u001b[0m, \u001b[32m'obj0_v_theta'\u001b[0m, \u001b[32m'obj0_v_phi'\u001b[0m, \u001b[32m'obj1_alpha_x'\u001b[0m, \u001b[32m'obj1_alpha_y'\u001b[0m,\n",
       "\u001b[32m'obj1_distance'\u001b[0m, \u001b[32m'obj1_v_norm'\u001b[0m, \u001b[32m'obj1_v_theta'\u001b[0m, \u001b[32m'obj1_v_phi'\u001b[0m, \u001b[32m'obj2_alpha_x'\u001b[0m, \u001b[32m'obj2_alpha_y'\u001b[0m,\n",
       "\u001b[32m'obj2_distance'\u001b[0m, \u001b[32m'obj2_v_norm'\u001b[0m, \u001b[32m'obj2_v_theta'\u001b[0m, \u001b[32m'obj2_v_phi'\u001b[0m, \u001b[32m'obj3_alpha_x'\u001b[0m, \u001b[32m'obj3_alpha_y'\u001b[0m,\n",
       "\u001b[32m'obj3_distance'\u001b[0m, \u001b[32m'obj3_v_norm'\u001b[0m, \u001b[32m'obj3_v_theta'\u001b[0m, \u001b[32m'obj3_v_phi'\u001b[0m\u001b[1m]\u001b[0m\n"
      ]
     },
     "metadata": {},
     "output_type": "display_data"
    },
    {
     "data": {
      "text/html": [
       "<pre style=\"white-space:pre;overflow-x:auto;line-height:normal;font-family:Menlo,'DejaVu Sans Mono',consolas,'Courier New',monospace\">factors_aux:\n",
       "<span style=\"font-weight: bold\">[</span><span style=\"color: #008000; text-decoration-color: #008000\">'slf_v_x'</span>, <span style=\"color: #008000; text-decoration-color: #008000\">'slf_v_y'</span>, <span style=\"color: #008000; text-decoration-color: #008000\">'slf_v_z'</span>, <span style=\"color: #008000; text-decoration-color: #008000\">'obj0_size_eff'</span>, <span style=\"color: #008000; text-decoration-color: #008000\">'obj0_size'</span>, <span style=\"color: #008000; text-decoration-color: #008000\">'obj0_theta'</span>, <span style=\"color: #008000; text-decoration-color: #008000\">'obj0_phi'</span>, \n",
       "<span style=\"color: #008000; text-decoration-color: #008000\">'obj0_x'</span>, <span style=\"color: #008000; text-decoration-color: #008000\">'obj0_y'</span>, <span style=\"color: #008000; text-decoration-color: #008000\">'obj0_z'</span>, <span style=\"color: #008000; text-decoration-color: #008000\">'obj0_dx'</span>, <span style=\"color: #008000; text-decoration-color: #008000\">'obj0_dy'</span>, <span style=\"color: #008000; text-decoration-color: #008000\">'obj0_dz'</span>, <span style=\"color: #008000; text-decoration-color: #008000\">'obj0_v_x'</span>, <span style=\"color: #008000; text-decoration-color: #008000\">'obj0_v_y'</span>, \n",
       "<span style=\"color: #008000; text-decoration-color: #008000\">'obj0_v_z'</span>, <span style=\"color: #008000; text-decoration-color: #008000\">'obj0_dv_x'</span>, <span style=\"color: #008000; text-decoration-color: #008000\">'obj0_dv_y'</span>, <span style=\"color: #008000; text-decoration-color: #008000\">'obj0_dv_z'</span>, <span style=\"color: #008000; text-decoration-color: #008000\">'obj0_dv_norm'</span>, <span style=\"color: #008000; text-decoration-color: #008000\">'obj0_dv_theta'</span>, \n",
       "<span style=\"color: #008000; text-decoration-color: #008000\">'obj0_dv_phi'</span>, <span style=\"color: #008000; text-decoration-color: #008000\">'obj1_size_eff'</span>, <span style=\"color: #008000; text-decoration-color: #008000\">'obj1_size'</span>, <span style=\"color: #008000; text-decoration-color: #008000\">'obj1_theta'</span>, <span style=\"color: #008000; text-decoration-color: #008000\">'obj1_phi'</span>, <span style=\"color: #008000; text-decoration-color: #008000\">'obj1_x'</span>, <span style=\"color: #008000; text-decoration-color: #008000\">'obj1_y'</span>, \n",
       "<span style=\"color: #008000; text-decoration-color: #008000\">'obj1_z'</span>, <span style=\"color: #008000; text-decoration-color: #008000\">'obj1_dx'</span>, <span style=\"color: #008000; text-decoration-color: #008000\">'obj1_dy'</span>, <span style=\"color: #008000; text-decoration-color: #008000\">'obj1_dz'</span>, <span style=\"color: #008000; text-decoration-color: #008000\">'obj1_v_x'</span>, <span style=\"color: #008000; text-decoration-color: #008000\">'obj1_v_y'</span>, <span style=\"color: #008000; text-decoration-color: #008000\">'obj1_v_z'</span>, <span style=\"color: #008000; text-decoration-color: #008000\">'obj1_dv_x'</span>, \n",
       "<span style=\"color: #008000; text-decoration-color: #008000\">'obj1_dv_y'</span>, <span style=\"color: #008000; text-decoration-color: #008000\">'obj1_dv_z'</span>, <span style=\"color: #008000; text-decoration-color: #008000\">'obj1_dv_norm'</span>, <span style=\"color: #008000; text-decoration-color: #008000\">'obj1_dv_theta'</span>, <span style=\"color: #008000; text-decoration-color: #008000\">'obj1_dv_phi'</span>, <span style=\"color: #008000; text-decoration-color: #008000\">'obj2_size_eff'</span>, \n",
       "<span style=\"color: #008000; text-decoration-color: #008000\">'obj2_size'</span>, <span style=\"color: #008000; text-decoration-color: #008000\">'obj2_theta'</span>, <span style=\"color: #008000; text-decoration-color: #008000\">'obj2_phi'</span>, <span style=\"color: #008000; text-decoration-color: #008000\">'obj2_x'</span>, <span style=\"color: #008000; text-decoration-color: #008000\">'obj2_y'</span>, <span style=\"color: #008000; text-decoration-color: #008000\">'obj2_z'</span>, <span style=\"color: #008000; text-decoration-color: #008000\">'obj2_dx'</span>, <span style=\"color: #008000; text-decoration-color: #008000\">'obj2_dy'</span>, \n",
       "<span style=\"color: #008000; text-decoration-color: #008000\">'obj2_dz'</span>, <span style=\"color: #008000; text-decoration-color: #008000\">'obj2_v_x'</span>, <span style=\"color: #008000; text-decoration-color: #008000\">'obj2_v_y'</span>, <span style=\"color: #008000; text-decoration-color: #008000\">'obj2_v_z'</span>, <span style=\"color: #008000; text-decoration-color: #008000\">'obj2_dv_x'</span>, <span style=\"color: #008000; text-decoration-color: #008000\">'obj2_dv_y'</span>, <span style=\"color: #008000; text-decoration-color: #008000\">'obj2_dv_z'</span>, \n",
       "<span style=\"color: #008000; text-decoration-color: #008000\">'obj2_dv_norm'</span>, <span style=\"color: #008000; text-decoration-color: #008000\">'obj2_dv_theta'</span>, <span style=\"color: #008000; text-decoration-color: #008000\">'obj2_dv_phi'</span>, <span style=\"color: #008000; text-decoration-color: #008000\">'obj3_size_eff'</span>, <span style=\"color: #008000; text-decoration-color: #008000\">'obj3_size'</span>, <span style=\"color: #008000; text-decoration-color: #008000\">'obj3_theta'</span>, \n",
       "<span style=\"color: #008000; text-decoration-color: #008000\">'obj3_phi'</span>, <span style=\"color: #008000; text-decoration-color: #008000\">'obj3_x'</span>, <span style=\"color: #008000; text-decoration-color: #008000\">'obj3_y'</span>, <span style=\"color: #008000; text-decoration-color: #008000\">'obj3_z'</span>, <span style=\"color: #008000; text-decoration-color: #008000\">'obj3_dx'</span>, <span style=\"color: #008000; text-decoration-color: #008000\">'obj3_dy'</span>, <span style=\"color: #008000; text-decoration-color: #008000\">'obj3_dz'</span>, <span style=\"color: #008000; text-decoration-color: #008000\">'obj3_v_x'</span>, \n",
       "<span style=\"color: #008000; text-decoration-color: #008000\">'obj3_v_y'</span>, <span style=\"color: #008000; text-decoration-color: #008000\">'obj3_v_z'</span>, <span style=\"color: #008000; text-decoration-color: #008000\">'obj3_dv_x'</span>, <span style=\"color: #008000; text-decoration-color: #008000\">'obj3_dv_y'</span>, <span style=\"color: #008000; text-decoration-color: #008000\">'obj3_dv_z'</span>, <span style=\"color: #008000; text-decoration-color: #008000\">'obj3_dv_norm'</span>, \n",
       "<span style=\"color: #008000; text-decoration-color: #008000\">'obj3_dv_theta'</span>, <span style=\"color: #008000; text-decoration-color: #008000\">'obj3_dv_phi'</span><span style=\"font-weight: bold\">]</span>\n",
       " ~~~~~~~~~~~~~~~~~~~~~~~~~~~~~~~~~~~~~~~~~~~~~~~~~~~~~~~~~~~~~~~~~~~~~~~~~~~~~~~~\n",
       "</pre>\n"
      ],
      "text/plain": [
       "factors_aux:\n",
       "\u001b[1m[\u001b[0m\u001b[32m'slf_v_x'\u001b[0m, \u001b[32m'slf_v_y'\u001b[0m, \u001b[32m'slf_v_z'\u001b[0m, \u001b[32m'obj0_size_eff'\u001b[0m, \u001b[32m'obj0_size'\u001b[0m, \u001b[32m'obj0_theta'\u001b[0m, \u001b[32m'obj0_phi'\u001b[0m, \n",
       "\u001b[32m'obj0_x'\u001b[0m, \u001b[32m'obj0_y'\u001b[0m, \u001b[32m'obj0_z'\u001b[0m, \u001b[32m'obj0_dx'\u001b[0m, \u001b[32m'obj0_dy'\u001b[0m, \u001b[32m'obj0_dz'\u001b[0m, \u001b[32m'obj0_v_x'\u001b[0m, \u001b[32m'obj0_v_y'\u001b[0m, \n",
       "\u001b[32m'obj0_v_z'\u001b[0m, \u001b[32m'obj0_dv_x'\u001b[0m, \u001b[32m'obj0_dv_y'\u001b[0m, \u001b[32m'obj0_dv_z'\u001b[0m, \u001b[32m'obj0_dv_norm'\u001b[0m, \u001b[32m'obj0_dv_theta'\u001b[0m, \n",
       "\u001b[32m'obj0_dv_phi'\u001b[0m, \u001b[32m'obj1_size_eff'\u001b[0m, \u001b[32m'obj1_size'\u001b[0m, \u001b[32m'obj1_theta'\u001b[0m, \u001b[32m'obj1_phi'\u001b[0m, \u001b[32m'obj1_x'\u001b[0m, \u001b[32m'obj1_y'\u001b[0m, \n",
       "\u001b[32m'obj1_z'\u001b[0m, \u001b[32m'obj1_dx'\u001b[0m, \u001b[32m'obj1_dy'\u001b[0m, \u001b[32m'obj1_dz'\u001b[0m, \u001b[32m'obj1_v_x'\u001b[0m, \u001b[32m'obj1_v_y'\u001b[0m, \u001b[32m'obj1_v_z'\u001b[0m, \u001b[32m'obj1_dv_x'\u001b[0m, \n",
       "\u001b[32m'obj1_dv_y'\u001b[0m, \u001b[32m'obj1_dv_z'\u001b[0m, \u001b[32m'obj1_dv_norm'\u001b[0m, \u001b[32m'obj1_dv_theta'\u001b[0m, \u001b[32m'obj1_dv_phi'\u001b[0m, \u001b[32m'obj2_size_eff'\u001b[0m, \n",
       "\u001b[32m'obj2_size'\u001b[0m, \u001b[32m'obj2_theta'\u001b[0m, \u001b[32m'obj2_phi'\u001b[0m, \u001b[32m'obj2_x'\u001b[0m, \u001b[32m'obj2_y'\u001b[0m, \u001b[32m'obj2_z'\u001b[0m, \u001b[32m'obj2_dx'\u001b[0m, \u001b[32m'obj2_dy'\u001b[0m, \n",
       "\u001b[32m'obj2_dz'\u001b[0m, \u001b[32m'obj2_v_x'\u001b[0m, \u001b[32m'obj2_v_y'\u001b[0m, \u001b[32m'obj2_v_z'\u001b[0m, \u001b[32m'obj2_dv_x'\u001b[0m, \u001b[32m'obj2_dv_y'\u001b[0m, \u001b[32m'obj2_dv_z'\u001b[0m, \n",
       "\u001b[32m'obj2_dv_norm'\u001b[0m, \u001b[32m'obj2_dv_theta'\u001b[0m, \u001b[32m'obj2_dv_phi'\u001b[0m, \u001b[32m'obj3_size_eff'\u001b[0m, \u001b[32m'obj3_size'\u001b[0m, \u001b[32m'obj3_theta'\u001b[0m, \n",
       "\u001b[32m'obj3_phi'\u001b[0m, \u001b[32m'obj3_x'\u001b[0m, \u001b[32m'obj3_y'\u001b[0m, \u001b[32m'obj3_z'\u001b[0m, \u001b[32m'obj3_dx'\u001b[0m, \u001b[32m'obj3_dy'\u001b[0m, \u001b[32m'obj3_dz'\u001b[0m, \u001b[32m'obj3_v_x'\u001b[0m, \n",
       "\u001b[32m'obj3_v_y'\u001b[0m, \u001b[32m'obj3_v_z'\u001b[0m, \u001b[32m'obj3_dv_x'\u001b[0m, \u001b[32m'obj3_dv_y'\u001b[0m, \u001b[32m'obj3_dv_z'\u001b[0m, \u001b[32m'obj3_dv_norm'\u001b[0m, \n",
       "\u001b[32m'obj3_dv_theta'\u001b[0m, \u001b[32m'obj3_dv_phi'\u001b[0m\u001b[1m]\u001b[0m\n",
       " ~~~~~~~~~~~~~~~~~~~~~~~~~~~~~~~~~~~~~~~~~~~~~~~~~~~~~~~~~~~~~~~~~~~~~~~~~~~~~~~~\n"
      ]
     },
     "metadata": {},
     "output_type": "display_data"
    },
    {
     "data": {
      "text/html": [
       "<pre style=\"white-space:pre;overflow-x:auto;line-height:normal;font-family:Menlo,'DejaVu Sans Mono',consolas,'Courier New',monospace\">\n",
       "\n",
       "\n",
       "</pre>\n"
      ],
      "text/plain": [
       "\n",
       "\n",
       "\n"
      ]
     },
     "metadata": {},
     "output_type": "display_data"
    }
   ],
   "source": [
    "kws['n'] = 100\n",
    "for category, n_obj in combos:\n",
    "    kws['category'] = category\n",
    "    kws['n_obj'] = n_obj\n",
    "    of = OpticFlow(**kws).compute_coords()\n",
    "    _ = of.compute_flow()\n",
    "    f, g, f_aux, g_aux = of.groundtruth_factors()\n",
    "    print('-' * 80, f\"\\ncategory: {category}, n_obj = {n_obj}\")\n",
    "    print(f\"factors:\\n{f}\")\n",
    "    print(f\"factors_aux:\\n{f_aux}\\n\", '~' * 80)\n",
    "    print('\\n\\n')"
   ]
  },
  {
   "cell_type": "code",
   "execution_count": 7,
   "id": "dbf0fb5b",
   "metadata": {},
   "outputs": [
    {
     "data": {
      "text/plain": [
       "((100, 29), (100, 79))"
      ]
     },
     "execution_count": 7,
     "metadata": {},
     "output_type": "execute_result"
    }
   ],
   "source": [
    "g.shape, g_aux.shape"
   ]
  },
  {
   "cell_type": "code",
   "execution_count": null,
   "id": "b76bb72b",
   "metadata": {},
   "outputs": [],
   "source": []
  },
  {
   "cell_type": "code",
   "execution_count": null,
   "id": "c919d6de",
   "metadata": {},
   "outputs": [],
   "source": []
  },
  {
   "cell_type": "code",
   "execution_count": null,
   "id": "ebddde57",
   "metadata": {},
   "outputs": [],
   "source": []
  }
 ],
 "metadata": {
  "kernelspec": {
   "display_name": "Python 3",
   "language": "python",
   "name": "python3"
  },
  "language_info": {
   "codemirror_mode": {
    "name": "ipython",
    "version": 3
   },
   "file_extension": ".py",
   "mimetype": "text/x-python",
   "name": "python",
   "nbconvert_exporter": "python",
   "pygments_lexer": "ipython3",
   "version": "3.8.3"
  }
 },
 "nbformat": 4,
 "nbformat_minor": 5
}
