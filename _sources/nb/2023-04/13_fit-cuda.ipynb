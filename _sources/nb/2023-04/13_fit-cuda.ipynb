{
 "cells": [
  {
   "cell_type": "markdown",
   "id": "a9736f88",
   "metadata": {},
   "source": [
    "# (13) Fit -- cuda\n",
    "\n",
    "**Motivation**: Fitting notebook, cuda (```gaban```) <br>"
   ]
  },
  {
   "cell_type": "code",
   "execution_count": 1,
   "id": "5360bb70",
   "metadata": {
    "tags": [
     "hide-input"
    ]
   },
   "outputs": [],
   "source": [
    "# HIDE CODE\n",
    "\n",
    "\n",
    "import os, sys\n",
    "from IPython.display import display\n",
    "\n",
    "# tmp & extras dir\n",
    "git_dir = os.path.join(os.environ['HOME'], 'Dropbox/git')\n",
    "extras_dir = os.path.join(git_dir, 'jb-MTMST/_extras')\n",
    "fig_base_dir = os.path.join(git_dir, 'jb-MTMST/figs')\n",
    "tmp_dir = os.path.join(git_dir, 'jb-MTMST/tmp')\n",
    "\n",
    "# GitHub\n",
    "sys.path.insert(0, os.path.join(git_dir, '_MTMST'))\n",
    "from vae.train_vae import TrainerVAE, ConfigTrainVAE\n",
    "from vae.vae2d import VAE, ConfigVAE\n",
    "from analysis.opticflow import *\n",
    "from figures.fighelper import *\n",
    "\n",
    "# warnings, tqdm, & style\n",
    "warnings.filterwarnings('ignore', category=DeprecationWarning)\n",
    "from tqdm.notebook import tqdm\n",
    "from rich.jupyter import print\n",
    "%matplotlib inline\n",
    "set_style()"
   ]
  },
  {
   "cell_type": "markdown",
   "id": "f199f8a7",
   "metadata": {},
   "source": [
    "## Trainer"
   ]
  },
  {
   "cell_type": "code",
   "execution_count": 2,
   "id": "c2648828",
   "metadata": {
    "scrolled": true
   },
   "outputs": [
    {
     "data": {
      "text/plain": [
       "273"
      ]
     },
     "execution_count": 2,
     "metadata": {},
     "output_type": "execute_result"
    }
   ],
   "source": [
    "vae = VAE(ConfigVAE(\n",
    "    'fixate1', n_enc_cells=1, n_dec_cells=1, n_enc_nodes=3, n_dec_nodes=2,              \n",
    "    n_latent_scales=3, n_groups_per_scale=12, n_latent_per_group=13,\n",
    "))\n",
    "tr = TrainerVAE(\n",
    "    model=vae,\n",
    "    cfg=ConfigTrainVAE(\n",
    "        lr=0.002, batch_size=1000, epochs=400, grad_clip=1000,\n",
    "        warm_restart=1, warmup_portion=0.025,\n",
    "        lambda_anneal=True, lambda_init=1e-7, lambda_norm=1e-4, \n",
    "        kl_beta=0.20, kl_anneal_cycles=1, kl_anneal_portion=0.3, kl_const_portion=1e-4),\n",
    "    device='cuda',\n",
    ")\n",
    "vae.cfg.total_latents()"
   ]
  },
  {
   "cell_type": "code",
   "execution_count": 3,
   "id": "f339067e",
   "metadata": {},
   "outputs": [
    {
     "data": {
      "text/html": [
       "<pre style=\"white-space:pre;overflow-x:auto;line-height:normal;font-family:Menlo,'DejaVu Sans Mono',consolas,'Courier New',monospace\">+--------------+------------+\n",
       "| Module Name  | Num Params |\n",
       "+--------------+------------+\n",
       "|     VAE      |  <span style=\"color: #008080; text-decoration-color: #008080; font-weight: bold\">21.3</span> Mil  |\n",
       "|     ---      |    ---     |\n",
       "|     stem     |    <span style=\"color: #008080; text-decoration-color: #008080; font-weight: bold\">320</span>     |\n",
       "| pre_process  |  <span style=\"color: #008080; text-decoration-color: #008080; font-weight: bold\">151.6</span> K   |\n",
       "|  enc_tower   |  <span style=\"color: #008080; text-decoration-color: #008080; font-weight: bold\">11.5</span> Mil  |\n",
       "|     enc0     |   <span style=\"color: #008080; text-decoration-color: #008080; font-weight: bold\">66.0</span> K   |\n",
       "| enc_sampler  |  <span style=\"color: #008080; text-decoration-color: #008080; font-weight: bold\">1.7</span> Mil   |\n",
       "| dec_sampler  |  <span style=\"color: #008080; text-decoration-color: #008080; font-weight: bold\">1.6</span> Mil   |\n",
       "|    expand    |  <span style=\"color: #008080; text-decoration-color: #008080; font-weight: bold\">148.6</span> K   |\n",
       "|  dec_tower   |  <span style=\"color: #008080; text-decoration-color: #008080; font-weight: bold\">6.0</span> Mil   |\n",
       "| post_process |   <span style=\"color: #008080; text-decoration-color: #008080; font-weight: bold\">67.9</span> K   |\n",
       "|     out      |    <span style=\"color: #008080; text-decoration-color: #008080; font-weight: bold\">578</span>     |\n",
       "+--------------+------------+ \n",
       "\n",
       "\n",
       "</pre>\n"
      ],
      "text/plain": [
       "+--------------+------------+\n",
       "| Module Name  | Num Params |\n",
       "+--------------+------------+\n",
       "|     VAE      |  \u001b[1;36m21.3\u001b[0m Mil  |\n",
       "|     ---      |    ---     |\n",
       "|     stem     |    \u001b[1;36m320\u001b[0m     |\n",
       "| pre_process  |  \u001b[1;36m151.6\u001b[0m K   |\n",
       "|  enc_tower   |  \u001b[1;36m11.5\u001b[0m Mil  |\n",
       "|     enc0     |   \u001b[1;36m66.0\u001b[0m K   |\n",
       "| enc_sampler  |  \u001b[1;36m1.7\u001b[0m Mil   |\n",
       "| dec_sampler  |  \u001b[1;36m1.6\u001b[0m Mil   |\n",
       "|    expand    |  \u001b[1;36m148.6\u001b[0m K   |\n",
       "|  dec_tower   |  \u001b[1;36m6.0\u001b[0m Mil   |\n",
       "| post_process |   \u001b[1;36m67.9\u001b[0m K   |\n",
       "|     out      |    \u001b[1;36m578\u001b[0m     |\n",
       "+--------------+------------+ \n",
       "\n",
       "\n"
      ]
     },
     "metadata": {},
     "output_type": "display_data"
    },
    {
     "data": {
      "text/plain": [
       "[8, 4, 2]"
      ]
     },
     "execution_count": 3,
     "metadata": {},
     "output_type": "execute_result"
    }
   ],
   "source": [
    "vae.print()\n",
    "vae.scales"
   ]
  },
  {
   "cell_type": "code",
   "execution_count": 4,
   "id": "2627dee3",
   "metadata": {},
   "outputs": [
    {
     "data": {
      "text/plain": [
       "(207, 159)"
      ]
     },
     "execution_count": 4,
     "metadata": {},
     "output_type": "execute_result"
    }
   ],
   "source": [
    "len(vae.all_conv_layers), len(vae.all_log_norm)"
   ]
  },
  {
   "cell_type": "markdown",
   "id": "5ae507ed",
   "metadata": {},
   "source": [
    "## Review train options"
   ]
  },
  {
   "cell_type": "code",
   "execution_count": 5,
   "id": "6676a839",
   "metadata": {
    "scrolled": false
   },
   "outputs": [
    {
     "data": {
      "text/html": [
       "<pre style=\"white-space:pre;overflow-x:auto;line-height:normal;font-family:Menlo,'DejaVu Sans Mono',consolas,'Courier New',monospace\"><span style=\"font-weight: bold\">{</span>\n",
       "    <span style=\"color: #008000; text-decoration-color: #008000\">'sim'</span>: <span style=\"color: #008000; text-decoration-color: #008000\">'fixate1'</span>,\n",
       "    <span style=\"color: #008000; text-decoration-color: #008000\">'n_ch'</span>: <span style=\"color: #008080; text-decoration-color: #008080; font-weight: bold\">32</span>,\n",
       "    <span style=\"color: #008000; text-decoration-color: #008000\">'ker_sz'</span>: <span style=\"color: #008080; text-decoration-color: #008080; font-weight: bold\">2</span>,\n",
       "    <span style=\"color: #008000; text-decoration-color: #008000\">'input_sz'</span>: <span style=\"color: #008080; text-decoration-color: #008080; font-weight: bold\">17</span>,\n",
       "    <span style=\"color: #008000; text-decoration-color: #008000\">'n_enc_cells'</span>: <span style=\"color: #008080; text-decoration-color: #008080; font-weight: bold\">1</span>,\n",
       "    <span style=\"color: #008000; text-decoration-color: #008000\">'n_enc_nodes'</span>: <span style=\"color: #008080; text-decoration-color: #008080; font-weight: bold\">3</span>,\n",
       "    <span style=\"color: #008000; text-decoration-color: #008000\">'n_dec_cells'</span>: <span style=\"color: #008080; text-decoration-color: #008080; font-weight: bold\">1</span>,\n",
       "    <span style=\"color: #008000; text-decoration-color: #008000\">'n_dec_nodes'</span>: <span style=\"color: #008080; text-decoration-color: #008080; font-weight: bold\">2</span>,\n",
       "    <span style=\"color: #008000; text-decoration-color: #008000\">'n_pre_cells'</span>: <span style=\"color: #008080; text-decoration-color: #008080; font-weight: bold\">3</span>,\n",
       "    <span style=\"color: #008000; text-decoration-color: #008000\">'n_pre_blocks'</span>: <span style=\"color: #008080; text-decoration-color: #008080; font-weight: bold\">1</span>,\n",
       "    <span style=\"color: #008000; text-decoration-color: #008000\">'n_post_cells'</span>: <span style=\"color: #008080; text-decoration-color: #008080; font-weight: bold\">3</span>,\n",
       "    <span style=\"color: #008000; text-decoration-color: #008000\">'n_post_blocks'</span>: <span style=\"color: #008080; text-decoration-color: #008080; font-weight: bold\">1</span>,\n",
       "    <span style=\"color: #008000; text-decoration-color: #008000\">'n_latent_scales'</span>: <span style=\"color: #008080; text-decoration-color: #008080; font-weight: bold\">3</span>,\n",
       "    <span style=\"color: #008000; text-decoration-color: #008000\">'n_latent_per_group'</span>: <span style=\"color: #008080; text-decoration-color: #008080; font-weight: bold\">13</span>,\n",
       "    <span style=\"color: #008000; text-decoration-color: #008000\">'n_groups_per_scale'</span>: <span style=\"color: #008080; text-decoration-color: #008080; font-weight: bold\">12</span>,\n",
       "    <span style=\"color: #008000; text-decoration-color: #008000\">'spectral_norm'</span>: <span style=\"color: #008080; text-decoration-color: #008080; font-weight: bold\">0</span>,\n",
       "    <span style=\"color: #008000; text-decoration-color: #008000\">'separable'</span>: <span style=\"color: #ff0000; text-decoration-color: #ff0000; font-style: italic\">False</span>,\n",
       "    <span style=\"color: #008000; text-decoration-color: #008000\">'compress'</span>: <span style=\"color: #00ff00; text-decoration-color: #00ff00; font-style: italic\">True</span>,\n",
       "    <span style=\"color: #008000; text-decoration-color: #008000\">'use_bn'</span>: <span style=\"color: #ff0000; text-decoration-color: #ff0000; font-style: italic\">False</span>,\n",
       "    <span style=\"color: #008000; text-decoration-color: #008000\">'groups'</span>: <span style=\"font-weight: bold\">[</span><span style=\"color: #008080; text-decoration-color: #008080; font-weight: bold\">12</span>, <span style=\"color: #008080; text-decoration-color: #008080; font-weight: bold\">6</span>, <span style=\"color: #008080; text-decoration-color: #008080; font-weight: bold\">3</span><span style=\"font-weight: bold\">]</span>,\n",
       "    <span style=\"color: #008000; text-decoration-color: #008000\">'seed'</span>: <span style=\"color: #008080; text-decoration-color: #008080; font-weight: bold\">0</span>,\n",
       "    <span style=\"color: #008000; text-decoration-color: #008000\">'balanced_recon'</span>: <span style=\"color: #00ff00; text-decoration-color: #00ff00; font-style: italic\">True</span>,\n",
       "    <span style=\"color: #008000; text-decoration-color: #008000\">'activation_fn'</span>: <span style=\"color: #008000; text-decoration-color: #008000\">'swish'</span>,\n",
       "    <span style=\"color: #008000; text-decoration-color: #008000\">'residual_kl'</span>: <span style=\"color: #00ff00; text-decoration-color: #00ff00; font-style: italic\">True</span>,\n",
       "    <span style=\"color: #008000; text-decoration-color: #008000\">'scale_init'</span>: <span style=\"color: #ff0000; text-decoration-color: #ff0000; font-style: italic\">False</span>,\n",
       "    <span style=\"color: #008000; text-decoration-color: #008000\">'ada_groups'</span>: <span style=\"color: #00ff00; text-decoration-color: #00ff00; font-style: italic\">True</span>,\n",
       "    <span style=\"color: #008000; text-decoration-color: #008000\">'use_se'</span>: <span style=\"color: #00ff00; text-decoration-color: #00ff00; font-style: italic\">True</span>\n",
       "<span style=\"font-weight: bold\">}</span>\n",
       "</pre>\n"
      ],
      "text/plain": [
       "\u001b[1m{\u001b[0m\n",
       "    \u001b[32m'sim'\u001b[0m: \u001b[32m'fixate1'\u001b[0m,\n",
       "    \u001b[32m'n_ch'\u001b[0m: \u001b[1;36m32\u001b[0m,\n",
       "    \u001b[32m'ker_sz'\u001b[0m: \u001b[1;36m2\u001b[0m,\n",
       "    \u001b[32m'input_sz'\u001b[0m: \u001b[1;36m17\u001b[0m,\n",
       "    \u001b[32m'n_enc_cells'\u001b[0m: \u001b[1;36m1\u001b[0m,\n",
       "    \u001b[32m'n_enc_nodes'\u001b[0m: \u001b[1;36m3\u001b[0m,\n",
       "    \u001b[32m'n_dec_cells'\u001b[0m: \u001b[1;36m1\u001b[0m,\n",
       "    \u001b[32m'n_dec_nodes'\u001b[0m: \u001b[1;36m2\u001b[0m,\n",
       "    \u001b[32m'n_pre_cells'\u001b[0m: \u001b[1;36m3\u001b[0m,\n",
       "    \u001b[32m'n_pre_blocks'\u001b[0m: \u001b[1;36m1\u001b[0m,\n",
       "    \u001b[32m'n_post_cells'\u001b[0m: \u001b[1;36m3\u001b[0m,\n",
       "    \u001b[32m'n_post_blocks'\u001b[0m: \u001b[1;36m1\u001b[0m,\n",
       "    \u001b[32m'n_latent_scales'\u001b[0m: \u001b[1;36m3\u001b[0m,\n",
       "    \u001b[32m'n_latent_per_group'\u001b[0m: \u001b[1;36m13\u001b[0m,\n",
       "    \u001b[32m'n_groups_per_scale'\u001b[0m: \u001b[1;36m12\u001b[0m,\n",
       "    \u001b[32m'spectral_norm'\u001b[0m: \u001b[1;36m0\u001b[0m,\n",
       "    \u001b[32m'separable'\u001b[0m: \u001b[3;91mFalse\u001b[0m,\n",
       "    \u001b[32m'compress'\u001b[0m: \u001b[3;92mTrue\u001b[0m,\n",
       "    \u001b[32m'use_bn'\u001b[0m: \u001b[3;91mFalse\u001b[0m,\n",
       "    \u001b[32m'groups'\u001b[0m: \u001b[1m[\u001b[0m\u001b[1;36m12\u001b[0m, \u001b[1;36m6\u001b[0m, \u001b[1;36m3\u001b[0m\u001b[1m]\u001b[0m,\n",
       "    \u001b[32m'seed'\u001b[0m: \u001b[1;36m0\u001b[0m,\n",
       "    \u001b[32m'balanced_recon'\u001b[0m: \u001b[3;92mTrue\u001b[0m,\n",
       "    \u001b[32m'activation_fn'\u001b[0m: \u001b[32m'swish'\u001b[0m,\n",
       "    \u001b[32m'residual_kl'\u001b[0m: \u001b[3;92mTrue\u001b[0m,\n",
       "    \u001b[32m'scale_init'\u001b[0m: \u001b[3;91mFalse\u001b[0m,\n",
       "    \u001b[32m'ada_groups'\u001b[0m: \u001b[3;92mTrue\u001b[0m,\n",
       "    \u001b[32m'use_se'\u001b[0m: \u001b[3;92mTrue\u001b[0m\n",
       "\u001b[1m}\u001b[0m\n"
      ]
     },
     "metadata": {},
     "output_type": "display_data"
    }
   ],
   "source": [
    "print({\n",
    "    k: v for k, v in vars(vae.cfg).items() if\n",
    "    all(e not in k for e in ['useful', 'dir', 'path', 'file'])\n",
    "})"
   ]
  },
  {
   "cell_type": "code",
   "execution_count": 6,
   "id": "3ffbd501",
   "metadata": {},
   "outputs": [
    {
     "data": {
      "text/html": [
       "<pre style=\"white-space:pre;overflow-x:auto;line-height:normal;font-family:Menlo,'DejaVu Sans Mono',consolas,'Courier New',monospace\"><span style=\"font-weight: bold\">{</span>\n",
       "    <span style=\"color: #008000; text-decoration-color: #008000\">'lr'</span>: <span style=\"color: #008080; text-decoration-color: #008080; font-weight: bold\">0.002</span>,\n",
       "    <span style=\"color: #008000; text-decoration-color: #008000\">'epochs'</span>: <span style=\"color: #008080; text-decoration-color: #008080; font-weight: bold\">400</span>,\n",
       "    <span style=\"color: #008000; text-decoration-color: #008000\">'batch_size'</span>: <span style=\"color: #008080; text-decoration-color: #008080; font-weight: bold\">1000</span>,\n",
       "    <span style=\"color: #008000; text-decoration-color: #008000\">'warm_restart'</span>: <span style=\"color: #008080; text-decoration-color: #008080; font-weight: bold\">1</span>,\n",
       "    <span style=\"color: #008000; text-decoration-color: #008000\">'warmup_portion'</span>: <span style=\"color: #008080; text-decoration-color: #008080; font-weight: bold\">0.025</span>,\n",
       "    <span style=\"color: #008000; text-decoration-color: #008000\">'optimizer'</span>: <span style=\"color: #008000; text-decoration-color: #008000\">'adamax_fast'</span>,\n",
       "    <span style=\"color: #008000; text-decoration-color: #008000\">'optimizer_kws'</span>: <span style=\"font-weight: bold\">{</span><span style=\"color: #008000; text-decoration-color: #008000\">'betas'</span>: <span style=\"font-weight: bold\">(</span><span style=\"color: #008080; text-decoration-color: #008080; font-weight: bold\">0.9</span>, <span style=\"color: #008080; text-decoration-color: #008080; font-weight: bold\">0.999</span><span style=\"font-weight: bold\">)</span>, <span style=\"color: #008000; text-decoration-color: #008000\">'weight_decay'</span>: <span style=\"color: #008080; text-decoration-color: #008080; font-weight: bold\">0.0003</span>, <span style=\"color: #008000; text-decoration-color: #008000\">'eps'</span>: <span style=\"color: #008080; text-decoration-color: #008080; font-weight: bold\">1e-08</span><span style=\"font-weight: bold\">}</span>,\n",
       "    <span style=\"color: #008000; text-decoration-color: #008000\">'scheduler_type'</span>: <span style=\"color: #008000; text-decoration-color: #008000\">'cosine'</span>,\n",
       "    <span style=\"color: #008000; text-decoration-color: #008000\">'scheduler_kws'</span>: <span style=\"font-weight: bold\">{</span><span style=\"color: #008000; text-decoration-color: #008000\">'T_max'</span>: <span style=\"color: #008080; text-decoration-color: #008080; font-weight: bold\">130.0</span>, <span style=\"color: #008000; text-decoration-color: #008000\">'eta_min'</span>: <span style=\"color: #008080; text-decoration-color: #008080; font-weight: bold\">1e-05</span><span style=\"font-weight: bold\">}</span>,\n",
       "    <span style=\"color: #008000; text-decoration-color: #008000\">'ema_rate'</span>: <span style=\"color: #008080; text-decoration-color: #008080; font-weight: bold\">0.999</span>,\n",
       "    <span style=\"color: #008000; text-decoration-color: #008000\">'grad_clip'</span>: <span style=\"color: #008080; text-decoration-color: #008080; font-weight: bold\">1000</span>,\n",
       "    <span style=\"color: #008000; text-decoration-color: #008000\">'chkpt_freq'</span>: <span style=\"color: #008080; text-decoration-color: #008080; font-weight: bold\">20</span>,\n",
       "    <span style=\"color: #008000; text-decoration-color: #008000\">'eval_freq'</span>: <span style=\"color: #008080; text-decoration-color: #008080; font-weight: bold\">5</span>,\n",
       "    <span style=\"color: #008000; text-decoration-color: #008000\">'log_freq'</span>: <span style=\"color: #008080; text-decoration-color: #008080; font-weight: bold\">10</span>,\n",
       "    <span style=\"color: #008000; text-decoration-color: #008000\">'use_amp'</span>: <span style=\"color: #ff0000; text-decoration-color: #ff0000; font-style: italic\">False</span>,\n",
       "    <span style=\"color: #008000; text-decoration-color: #008000\">'kl_beta'</span>: <span style=\"color: #008080; text-decoration-color: #008080; font-weight: bold\">0.2</span>,\n",
       "    <span style=\"color: #008000; text-decoration-color: #008000\">'kl_beta_min'</span>: <span style=\"color: #008080; text-decoration-color: #008080; font-weight: bold\">0.0001</span>,\n",
       "    <span style=\"color: #008000; text-decoration-color: #008000\">'kl_balancer'</span>: <span style=\"color: #008000; text-decoration-color: #008000\">'equal'</span>,\n",
       "    <span style=\"color: #008000; text-decoration-color: #008000\">'kl_anneal_cycles'</span>: <span style=\"color: #008080; text-decoration-color: #008080; font-weight: bold\">1</span>,\n",
       "    <span style=\"color: #008000; text-decoration-color: #008000\">'kl_anneal_portion'</span>: <span style=\"color: #008080; text-decoration-color: #008080; font-weight: bold\">0.3</span>,\n",
       "    <span style=\"color: #008000; text-decoration-color: #008000\">'kl_const_portion'</span>: <span style=\"color: #008080; text-decoration-color: #008080; font-weight: bold\">0.0001</span>,\n",
       "    <span style=\"color: #008000; text-decoration-color: #008000\">'lambda_anneal'</span>: <span style=\"color: #00ff00; text-decoration-color: #00ff00; font-style: italic\">True</span>,\n",
       "    <span style=\"color: #008000; text-decoration-color: #008000\">'lambda_init'</span>: <span style=\"color: #008080; text-decoration-color: #008080; font-weight: bold\">1e-07</span>,\n",
       "    <span style=\"color: #008000; text-decoration-color: #008000\">'lambda_norm'</span>: <span style=\"color: #008080; text-decoration-color: #008080; font-weight: bold\">0.0001</span>,\n",
       "    <span style=\"color: #008000; text-decoration-color: #008000\">'spectral_reg'</span>: <span style=\"color: #ff0000; text-decoration-color: #ff0000; font-style: italic\">False</span>\n",
       "<span style=\"font-weight: bold\">}</span>\n",
       "</pre>\n"
      ],
      "text/plain": [
       "\u001b[1m{\u001b[0m\n",
       "    \u001b[32m'lr'\u001b[0m: \u001b[1;36m0.002\u001b[0m,\n",
       "    \u001b[32m'epochs'\u001b[0m: \u001b[1;36m400\u001b[0m,\n",
       "    \u001b[32m'batch_size'\u001b[0m: \u001b[1;36m1000\u001b[0m,\n",
       "    \u001b[32m'warm_restart'\u001b[0m: \u001b[1;36m1\u001b[0m,\n",
       "    \u001b[32m'warmup_portion'\u001b[0m: \u001b[1;36m0.025\u001b[0m,\n",
       "    \u001b[32m'optimizer'\u001b[0m: \u001b[32m'adamax_fast'\u001b[0m,\n",
       "    \u001b[32m'optimizer_kws'\u001b[0m: \u001b[1m{\u001b[0m\u001b[32m'betas'\u001b[0m: \u001b[1m(\u001b[0m\u001b[1;36m0.9\u001b[0m, \u001b[1;36m0.999\u001b[0m\u001b[1m)\u001b[0m, \u001b[32m'weight_decay'\u001b[0m: \u001b[1;36m0.0003\u001b[0m, \u001b[32m'eps'\u001b[0m: \u001b[1;36m1e-08\u001b[0m\u001b[1m}\u001b[0m,\n",
       "    \u001b[32m'scheduler_type'\u001b[0m: \u001b[32m'cosine'\u001b[0m,\n",
       "    \u001b[32m'scheduler_kws'\u001b[0m: \u001b[1m{\u001b[0m\u001b[32m'T_max'\u001b[0m: \u001b[1;36m130.0\u001b[0m, \u001b[32m'eta_min'\u001b[0m: \u001b[1;36m1e-05\u001b[0m\u001b[1m}\u001b[0m,\n",
       "    \u001b[32m'ema_rate'\u001b[0m: \u001b[1;36m0.999\u001b[0m,\n",
       "    \u001b[32m'grad_clip'\u001b[0m: \u001b[1;36m1000\u001b[0m,\n",
       "    \u001b[32m'chkpt_freq'\u001b[0m: \u001b[1;36m20\u001b[0m,\n",
       "    \u001b[32m'eval_freq'\u001b[0m: \u001b[1;36m5\u001b[0m,\n",
       "    \u001b[32m'log_freq'\u001b[0m: \u001b[1;36m10\u001b[0m,\n",
       "    \u001b[32m'use_amp'\u001b[0m: \u001b[3;91mFalse\u001b[0m,\n",
       "    \u001b[32m'kl_beta'\u001b[0m: \u001b[1;36m0.2\u001b[0m,\n",
       "    \u001b[32m'kl_beta_min'\u001b[0m: \u001b[1;36m0.0001\u001b[0m,\n",
       "    \u001b[32m'kl_balancer'\u001b[0m: \u001b[32m'equal'\u001b[0m,\n",
       "    \u001b[32m'kl_anneal_cycles'\u001b[0m: \u001b[1;36m1\u001b[0m,\n",
       "    \u001b[32m'kl_anneal_portion'\u001b[0m: \u001b[1;36m0.3\u001b[0m,\n",
       "    \u001b[32m'kl_const_portion'\u001b[0m: \u001b[1;36m0.0001\u001b[0m,\n",
       "    \u001b[32m'lambda_anneal'\u001b[0m: \u001b[3;92mTrue\u001b[0m,\n",
       "    \u001b[32m'lambda_init'\u001b[0m: \u001b[1;36m1e-07\u001b[0m,\n",
       "    \u001b[32m'lambda_norm'\u001b[0m: \u001b[1;36m0.0001\u001b[0m,\n",
       "    \u001b[32m'spectral_reg'\u001b[0m: \u001b[3;91mFalse\u001b[0m\n",
       "\u001b[1m}\u001b[0m\n"
      ]
     },
     "metadata": {},
     "output_type": "display_data"
    }
   ],
   "source": [
    "print(vars(tr.cfg))"
   ]
  },
  {
   "cell_type": "code",
   "execution_count": 7,
   "id": "a1e84679",
   "metadata": {},
   "outputs": [
    {
     "data": {
      "text/html": [
       "<pre style=\"white-space:pre;overflow-x:auto;line-height:normal;font-family:Menlo,'DejaVu Sans Mono',consolas,'Courier New',monospace\">fixate1_k-32_z-13x<span style=\"font-weight: bold\">[</span><span style=\"color: #008080; text-decoration-color: #008080; font-weight: bold\">3</span>,<span style=\"color: #008080; text-decoration-color: #008080; font-weight: bold\">6</span>,<span style=\"color: #008080; text-decoration-color: #008080; font-weight: bold\">12</span><span style=\"font-weight: bold\">]</span><span style=\"color: #800080; text-decoration-color: #800080; font-weight: bold\">_enc</span><span style=\"font-weight: bold\">(</span>1x3<span style=\"font-weight: bold\">)</span>-<span style=\"color: #800080; text-decoration-color: #800080; font-weight: bold\">dec</span><span style=\"font-weight: bold\">(</span>1x2<span style=\"font-weight: bold\">)</span>-<span style=\"color: #800080; text-decoration-color: #800080; font-weight: bold\">pre</span><span style=\"font-weight: bold\">(</span>1x3<span style=\"font-weight: bold\">)</span>-<span style=\"color: #800080; text-decoration-color: #800080; font-weight: bold\">post</span><span style=\"font-weight: bold\">(</span>1x3<span style=\"font-weight: bold\">)</span>\n",
       "ep400-b1000-<span style=\"color: #800080; text-decoration-color: #800080; font-weight: bold\">lr</span><span style=\"font-weight: bold\">(</span><span style=\"color: #008080; text-decoration-color: #008080; font-weight: bold\">0.002</span><span style=\"font-weight: bold\">)</span><span style=\"color: #800080; text-decoration-color: #800080; font-weight: bold\">_beta</span><span style=\"font-weight: bold\">(</span><span style=\"color: #008080; text-decoration-color: #008080; font-weight: bold\">0.2</span>:1x0.<span style=\"color: #008080; text-decoration-color: #008080; font-weight: bold\">3</span><span style=\"font-weight: bold\">)</span><span style=\"color: #800080; text-decoration-color: #800080; font-weight: bold\">_lamb</span><span style=\"font-weight: bold\">(</span><span style=\"color: #008080; text-decoration-color: #008080; font-weight: bold\">0.0001</span><span style=\"font-weight: bold\">)</span><span style=\"color: #800080; text-decoration-color: #800080; font-weight: bold\">_gr</span><span style=\"font-weight: bold\">(</span><span style=\"color: #008080; text-decoration-color: #008080; font-weight: bold\">1000</span><span style=\"font-weight: bold\">)</span>\n",
       "</pre>\n"
      ],
      "text/plain": [
       "fixate1_k-32_z-13x\u001b[1m[\u001b[0m\u001b[1;36m3\u001b[0m,\u001b[1;36m6\u001b[0m,\u001b[1;36m12\u001b[0m\u001b[1m]\u001b[0m\u001b[1;35m_enc\u001b[0m\u001b[1m(\u001b[0m1x3\u001b[1m)\u001b[0m-\u001b[1;35mdec\u001b[0m\u001b[1m(\u001b[0m1x2\u001b[1m)\u001b[0m-\u001b[1;35mpre\u001b[0m\u001b[1m(\u001b[0m1x3\u001b[1m)\u001b[0m-\u001b[1;35mpost\u001b[0m\u001b[1m(\u001b[0m1x3\u001b[1m)\u001b[0m\n",
       "ep400-b1000-\u001b[1;35mlr\u001b[0m\u001b[1m(\u001b[0m\u001b[1;36m0.002\u001b[0m\u001b[1m)\u001b[0m\u001b[1;35m_beta\u001b[0m\u001b[1m(\u001b[0m\u001b[1;36m0.2\u001b[0m:1x0.\u001b[1;36m3\u001b[0m\u001b[1m)\u001b[0m\u001b[1;35m_lamb\u001b[0m\u001b[1m(\u001b[0m\u001b[1;36m0.0001\u001b[0m\u001b[1m)\u001b[0m\u001b[1;35m_gr\u001b[0m\u001b[1m(\u001b[0m\u001b[1;36m1000\u001b[0m\u001b[1m)\u001b[0m\n"
      ]
     },
     "metadata": {},
     "output_type": "display_data"
    }
   ],
   "source": [
    "print(f\"{vae.cfg.name()}\\n{tr.cfg.name()}\")"
   ]
  },
  {
   "cell_type": "markdown",
   "id": "0b1bde66",
   "metadata": {},
   "source": [
    "## Train"
   ]
  },
  {
   "cell_type": "code",
   "execution_count": null,
   "id": "64808119",
   "metadata": {
    "scrolled": true
   },
   "outputs": [
    {
     "name": "stderr",
     "output_type": "stream",
     "text": [
      "gstep # 1.81e+05, nelbo: 9.567, grad: 69.8:  75%|▊| 300/400 [41:01:07<14:40:24, "
     ]
    }
   ],
   "source": [
    "# comment = f\"..._{tr.cfg.name()}\"\n",
    "tr.train(comment=tr.cfg.name())"
   ]
  },
  {
   "cell_type": "code",
   "execution_count": null,
   "id": "86f279fa",
   "metadata": {},
   "outputs": [],
   "source": []
  },
  {
   "cell_type": "markdown",
   "id": "3b37d2a6",
   "metadata": {},
   "source": [
    "## Eval"
   ]
  },
  {
   "cell_type": "code",
   "execution_count": null,
   "id": "3be4d91b",
   "metadata": {},
   "outputs": [],
   "source": [
    "%%time\n",
    "\n",
    "val, loss = tr.validate(use_ema=False)\n",
    "val_ema, loss_ema = tr.validate(use_ema=True)"
   ]
  },
  {
   "cell_type": "code",
   "execution_count": null,
   "id": "0ed132c5",
   "metadata": {},
   "outputs": [],
   "source": [
    "loss_summary = {\n",
    "    k: {\n",
    "        'vae': np.round(v.mean(), 2),\n",
    "        'ema': np.round(loss_ema[k].mean(), 2),\n",
    "    } for k, v in loss.items()\n",
    "}\n",
    "print(f\"{vae.cfg.name()}\\n{tr.cfg.name()}\\n\\n{loss_summary}\\n\")"
   ]
  },
  {
   "cell_type": "code",
   "execution_count": null,
   "id": "5184c9e6",
   "metadata": {},
   "outputs": [],
   "source": [
    "for k, v in val.items():\n",
    "    if 'fig' in k:\n",
    "        print(f\"{k} (VAE)\")\n",
    "        display(v)\n",
    "        print(f\"{k} (EMA)\")\n",
    "        display(val_ema[k])\n",
    "        print('-' * 70)"
   ]
  },
  {
   "cell_type": "code",
   "execution_count": null,
   "id": "4b9377c7",
   "metadata": {},
   "outputs": [],
   "source": []
  },
  {
   "cell_type": "code",
   "execution_count": 13,
   "id": "493f1099",
   "metadata": {},
   "outputs": [
    {
     "data": {
      "text/plain": [
       "482"
      ]
     },
     "execution_count": 13,
     "metadata": {},
     "output_type": "execute_result"
    }
   ],
   "source": [
    "len(tr.stats['grad'])"
   ]
  },
  {
   "cell_type": "code",
   "execution_count": null,
   "id": "2e36246f",
   "metadata": {},
   "outputs": [],
   "source": []
  },
  {
   "cell_type": "code",
   "execution_count": 14,
   "id": "073591cf",
   "metadata": {},
   "outputs": [
    {
     "data": {
      "text/plain": [
       "array([5.99852881e+03, 3.31414691e+04, 6.06242619e+05, 3.20467665e+11])"
      ]
     },
     "execution_count": 14,
     "metadata": {},
     "output_type": "execute_result"
    }
   ],
   "source": [
    "np.quantile(tr.stats['grad'], [0.5, 0.7, 0.9, 1])"
   ]
  },
  {
   "cell_type": "code",
   "execution_count": 15,
   "id": "fa01b0a5",
   "metadata": {},
   "outputs": [
    {
     "data": {
      "text/plain": [
       "array([1.83597097e+01, 3.33677979e+01, 1.99485512e+02, 5.41584938e+05])"
      ]
     },
     "execution_count": 15,
     "metadata": {},
     "output_type": "execute_result"
    }
   ],
   "source": [
    "np.quantile(tr.stats['loss'], [0.5, 0.7, 0.9, 1])"
   ]
  },
  {
   "cell_type": "code",
   "execution_count": null,
   "id": "f51db1a7",
   "metadata": {},
   "outputs": [],
   "source": []
  },
  {
   "cell_type": "code",
   "execution_count": 16,
   "id": "c4c2c938",
   "metadata": {},
   "outputs": [
    {
     "data": {
      "text/plain": [
       "(160000, 30)"
      ]
     },
     "execution_count": 16,
     "metadata": {},
     "output_type": "execute_result"
    }
   ],
   "source": [
    "gamma = np.stack(tr.stats['gamma'])\n",
    "gamma.shape"
   ]
  },
  {
   "cell_type": "code",
   "execution_count": 17,
   "id": "0782c78e",
   "metadata": {},
   "outputs": [
    {
     "data": {
      "image/png": "[encoded data removed]",
      "text/plain": [
       "<Figure size 1080x792 with 3 Axes>"
      ]
     },
     "metadata": {},
     "output_type": "display_data"
    }
   ],
   "source": [
    "fig, axes = create_figure(3, 1, (15, 11))\n",
    "axes[0].plot(gamma[:50000, 0])\n",
    "axes[1].plot(gamma[:50000, 1:])\n",
    "axes[2].plot(gamma[:50000]);"
   ]
  },
  {
   "cell_type": "code",
   "execution_count": null,
   "id": "5005540e",
   "metadata": {},
   "outputs": [],
   "source": []
  },
  {
   "cell_type": "code",
   "execution_count": null,
   "id": "bc3d127e",
   "metadata": {},
   "outputs": [],
   "source": []
  },
  {
   "cell_type": "code",
   "execution_count": null,
   "id": "8575f9eb",
   "metadata": {},
   "outputs": [],
   "source": []
  },
  {
   "cell_type": "code",
   "execution_count": null,
   "id": "101426e2",
   "metadata": {},
   "outputs": [],
   "source": []
  }
 ],
 "metadata": {
  "kernelspec": {
   "display_name": "Python 3 (ipykernel)",
   "language": "python",
   "name": "python3"
  },
  "language_info": {
   "codemirror_mode": {
    "name": "ipython",
    "version": 3
   },
   "file_extension": ".py",
   "mimetype": "text/x-python",
   "name": "python",
   "nbconvert_exporter": "python",
   "pygments_lexer": "ipython3",
   "version": "3.8.5"
  }
 },
 "nbformat": 4,
 "nbformat_minor": 5
}
