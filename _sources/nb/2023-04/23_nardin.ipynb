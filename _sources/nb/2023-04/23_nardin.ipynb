{
 "cells": [
  {
   "cell_type": "markdown",
   "id": "a9736f88",
   "metadata": {},
   "source": [
    "# (21) Nardin play\n",
    "\n",
    "**Motivation**:  <br>"
   ]
  },
  {
   "cell_type": "code",
   "execution_count": 1,
   "id": "5360bb70",
   "metadata": {
    "tags": [
     "hide-input"
    ]
   },
   "outputs": [],
   "source": [
    "# HIDE CODE\n",
    "\n",
    "\n",
    "import os, sys\n",
    "from IPython.display import display\n",
    "\n",
    "# tmp & extras dir\n",
    "git_dir = os.path.join(os.environ['HOME'], 'Dropbox/git')\n",
    "extras_dir = os.path.join(git_dir, 'jb-MTMST/_extras')\n",
    "fig_base_dir = os.path.join(git_dir, 'jb-MTMST/figs')\n",
    "tmp_dir = os.path.join(git_dir, 'jb-MTMST/tmp')\n",
    "\n",
    "# GitHub\n",
    "sys.path.insert(0, os.path.join(git_dir, '_MTMST'))\n",
    "from vae.train_vae import TrainerVAE, ConfigTrainVAE\n",
    "from vae.vae2d import VAE, ConfigVAE\n",
    "from figures.fighelper import *\n",
    "from analysis.glm import *\n",
    "\n",
    "\n",
    "# warnings, tqdm, & style\n",
    "warnings.filterwarnings('ignore', category=DeprecationWarning)\n",
    "from rich.jupyter import print\n",
    "%matplotlib inline\n",
    "set_style()"
   ]
  },
  {
   "cell_type": "markdown",
   "id": "71775294",
   "metadata": {},
   "source": [
    "## Load h file\n",
    "\n",
    "- Data file path on ```M1```:\n",
    "    - /Data/MT/xtracted_python/ALL_tres25.h5"
   ]
  },
  {
   "cell_type": "code",
   "execution_count": 2,
   "id": "3eb79354",
   "metadata": {},
   "outputs": [
    {
     "data": {
      "text/plain": [
       "['CRCNS', 'NARDIN', 'YUWEI']"
      ]
     },
     "execution_count": 2,
     "metadata": {},
     "output_type": "execute_result"
    }
   ],
   "source": [
    "path = ConfigVAE('fixate1', save=False).h_file\n",
    "file = h5py.File(path)\n",
    "list(file)"
   ]
  },
  {
   "cell_type": "code",
   "execution_count": 3,
   "id": "599b52a3",
   "metadata": {},
   "outputs": [
    {
     "data": {
      "text/html": [
       "<pre style=\"white-space:pre;overflow-x:auto;line-height:normal;font-family:Menlo,'DejaVu Sans Mono',consolas,'Courier New',monospace\"><span style=\"font-weight: bold\">{</span>\n",
       "    <span style=\"color: #008000; text-decoration-color: #008000\">'CRCNS_expts'</span>: <span style=\"color: #800080; text-decoration-color: #800080; font-weight: bold\">array</span><span style=\"font-weight: bold\">([</span><span style=\"color: #008000; text-decoration-color: #008000\">'clu004_Cell1'</span>, <span style=\"color: #008000; text-decoration-color: #008000\">'clu014_Cell2'</span>, <span style=\"color: #008000; text-decoration-color: #008000\">'clu014_Cell3'</span>, <span style=\"color: #008000; text-decoration-color: #008000\">'clu015_Cell4'</span>,\n",
       "       <span style=\"color: #008000; text-decoration-color: #008000\">'clu018_Cell5'</span>, <span style=\"color: #008000; text-decoration-color: #008000\">'clu023_Cell6'</span>, <span style=\"color: #008000; text-decoration-color: #008000\">'clu024_Cell7'</span>, <span style=\"color: #008000; text-decoration-color: #008000\">'clu025_Cell8'</span>,\n",
       "       <span style=\"color: #008000; text-decoration-color: #008000\">'clu025_Cell9'</span>, <span style=\"color: #008000; text-decoration-color: #008000\">'clu026_Cell10'</span>, <span style=\"color: #008000; text-decoration-color: #008000\">'clu036_Cell11'</span>, <span style=\"color: #008000; text-decoration-color: #008000\">'clu037_Cell12'</span>,\n",
       "       <span style=\"color: #008000; text-decoration-color: #008000\">'clu038_Cell13'</span>, <span style=\"color: #008000; text-decoration-color: #008000\">'clu039_Cell14'</span>, <span style=\"color: #008000; text-decoration-color: #008000\">'clu040_Cell15'</span>, <span style=\"color: #008000; text-decoration-color: #008000\">'clu042_Cell16'</span>,\n",
       "       <span style=\"color: #008000; text-decoration-color: #008000\">'clu043_Cell17'</span>, <span style=\"color: #008000; text-decoration-color: #008000\">'clu044_Cell18'</span>, <span style=\"color: #008000; text-decoration-color: #008000\">'clu053_Cell19'</span>, <span style=\"color: #008000; text-decoration-color: #008000\">'clu055_Cell20'</span>,\n",
       "       <span style=\"color: #008000; text-decoration-color: #008000\">'clu059_Cell21'</span>, <span style=\"color: #008000; text-decoration-color: #008000\">'clu061_Cell22'</span>, <span style=\"color: #008000; text-decoration-color: #008000\">'clu064_Cell23'</span>, <span style=\"color: #008000; text-decoration-color: #008000\">'clu068_Cell24'</span>,\n",
       "       <span style=\"color: #008000; text-decoration-color: #008000\">'clu069_Cell25'</span>, <span style=\"color: #008000; text-decoration-color: #008000\">'clu081_Cell26'</span>, <span style=\"color: #008000; text-decoration-color: #008000\">'clu082_Cell27'</span>, <span style=\"color: #008000; text-decoration-color: #008000\">'clu082_Cell28'</span>,\n",
       "       <span style=\"color: #008000; text-decoration-color: #008000\">'clu087_Cell29'</span>, <span style=\"color: #008000; text-decoration-color: #008000\">'clu088_Cell30'</span>, <span style=\"color: #008000; text-decoration-color: #008000\">'clu089_Cell31'</span>, <span style=\"color: #008000; text-decoration-color: #008000\">'clu090_Cell32'</span>,\n",
       "       <span style=\"color: #008000; text-decoration-color: #008000\">'clu095_Cell33'</span>, <span style=\"color: #008000; text-decoration-color: #008000\">'clu096_Cell34'</span>, <span style=\"color: #008000; text-decoration-color: #008000\">'clu099_Cell35'</span>, <span style=\"color: #008000; text-decoration-color: #008000\">'clu104_Cell36'</span>,\n",
       "       <span style=\"color: #008000; text-decoration-color: #008000\">'clu107_Cell37'</span>, <span style=\"color: #008000; text-decoration-color: #008000\">'clu108_Cell38'</span>, <span style=\"color: #008000; text-decoration-color: #008000\">'clu109_Cell39'</span>, <span style=\"color: #008000; text-decoration-color: #008000\">'clu110_Cell40'</span>,\n",
       "       <span style=\"color: #008000; text-decoration-color: #008000\">'clu116_Cell41'</span>, <span style=\"color: #008000; text-decoration-color: #008000\">'clu120_Cell42'</span>, <span style=\"color: #008000; text-decoration-color: #008000\">'clu126_Cell43'</span>, <span style=\"color: #008000; text-decoration-color: #008000\">'clu131_Cell44'</span>,\n",
       "       <span style=\"color: #008000; text-decoration-color: #008000\">'clu132_Cell45'</span>, <span style=\"color: #008000; text-decoration-color: #008000\">'clu142_Cell46'</span>, <span style=\"color: #008000; text-decoration-color: #008000\">'clu144_Cell47'</span>, <span style=\"color: #008000; text-decoration-color: #008000\">'clu145_Cell48'</span>,\n",
       "       <span style=\"color: #008000; text-decoration-color: #008000\">'clu146_Cell49'</span>, <span style=\"color: #008000; text-decoration-color: #008000\">'clu147_Cell50'</span>, <span style=\"color: #008000; text-decoration-color: #008000\">'clu148_Cell51'</span>, <span style=\"color: #008000; text-decoration-color: #008000\">'clu180_Cell52'</span>,\n",
       "       <span style=\"color: #008000; text-decoration-color: #008000\">'clu181_Cell53'</span>, <span style=\"color: #008000; text-decoration-color: #008000\">'clu181_Cell54'</span>, <span style=\"color: #008000; text-decoration-color: #008000\">'clu183_Cell55'</span>, <span style=\"color: #008000; text-decoration-color: #008000\">'clu209_Cell64'</span>,\n",
       "       <span style=\"color: #008000; text-decoration-color: #008000\">'clu209_Cell65'</span>, <span style=\"color: #008000; text-decoration-color: #008000\">'clu209_Cell66'</span>, <span style=\"color: #008000; text-decoration-color: #008000\">'clu209_Cell67'</span>, <span style=\"color: #008000; text-decoration-color: #008000\">'clu209_Cell68'</span>,\n",
       "       <span style=\"color: #008000; text-decoration-color: #008000\">'clu209_Cell69'</span>, <span style=\"color: #008000; text-decoration-color: #008000\">'clu209_Cell70'</span>, <span style=\"color: #008000; text-decoration-color: #008000\">'clu216_Cell71'</span>, <span style=\"color: #008000; text-decoration-color: #008000\">'clu221_Cell72'</span>,\n",
       "       <span style=\"color: #008000; text-decoration-color: #008000\">'clu221_Cell73'</span>, <span style=\"color: #008000; text-decoration-color: #008000\">'clu221_Cell74'</span>, <span style=\"color: #008000; text-decoration-color: #008000\">'clu221_Cell75'</span>, <span style=\"color: #008000; text-decoration-color: #008000\">'clu221_Cell76'</span>,\n",
       "       <span style=\"color: #008000; text-decoration-color: #008000\">'clu222_Cell56'</span>, <span style=\"color: #008000; text-decoration-color: #008000\">'clu222_Cell57'</span>, <span style=\"color: #008000; text-decoration-color: #008000\">'clu223_Cell77'</span>, <span style=\"color: #008000; text-decoration-color: #008000\">'clu223_Cell78'</span>,\n",
       "       <span style=\"color: #008000; text-decoration-color: #008000\">'clu223_Cell79'</span>, <span style=\"color: #008000; text-decoration-color: #008000\">'clu223_Cell80'</span>, <span style=\"color: #008000; text-decoration-color: #008000\">'clu223_Cell81'</span>, <span style=\"color: #008000; text-decoration-color: #008000\">'clu224_Cell58'</span>,\n",
       "       <span style=\"color: #008000; text-decoration-color: #008000\">'clu224_Cell59'</span>, <span style=\"color: #008000; text-decoration-color: #008000\">'clu225_Cell60'</span>, <span style=\"color: #008000; text-decoration-color: #008000\">'clu226_Cell61'</span>, <span style=\"color: #008000; text-decoration-color: #008000\">'clu227_Cell62'</span>,\n",
       "       <span style=\"color: #008000; text-decoration-color: #008000\">'clu227_Cell63'</span>, <span style=\"color: #008000; text-decoration-color: #008000\">'clu229_Cell82'</span>, <span style=\"color: #008000; text-decoration-color: #008000\">'clu229_Cell83'</span>, <span style=\"color: #008000; text-decoration-color: #008000\">'clu229_Cell84'</span><span style=\"font-weight: bold\">]</span>,\n",
       "      <span style=\"color: #808000; text-decoration-color: #808000\">dtype</span>=<span style=\"color: #800080; text-decoration-color: #800080\">object</span><span style=\"font-weight: bold\">)</span>,\n",
       "    <span style=\"color: #008000; text-decoration-color: #008000\">'CRCNS_nch'</span>: <span style=\"color: #800080; text-decoration-color: #800080; font-weight: bold\">array</span><span style=\"font-weight: bold\">([</span><span style=\"color: #008080; text-decoration-color: #008080; font-weight: bold\">1</span>, <span style=\"color: #008080; text-decoration-color: #008080; font-weight: bold\">1</span>, <span style=\"color: #008080; text-decoration-color: #008080; font-weight: bold\">1</span>, <span style=\"color: #008080; text-decoration-color: #008080; font-weight: bold\">1</span>, <span style=\"color: #008080; text-decoration-color: #008080; font-weight: bold\">1</span>, <span style=\"color: #008080; text-decoration-color: #008080; font-weight: bold\">1</span>, <span style=\"color: #008080; text-decoration-color: #008080; font-weight: bold\">1</span>, <span style=\"color: #008080; text-decoration-color: #008080; font-weight: bold\">1</span>, <span style=\"color: #008080; text-decoration-color: #008080; font-weight: bold\">1</span>, <span style=\"color: #008080; text-decoration-color: #008080; font-weight: bold\">1</span>, <span style=\"color: #008080; text-decoration-color: #008080; font-weight: bold\">1</span>, <span style=\"color: #008080; text-decoration-color: #008080; font-weight: bold\">1</span>, <span style=\"color: #008080; text-decoration-color: #008080; font-weight: bold\">1</span>, <span style=\"color: #008080; text-decoration-color: #008080; font-weight: bold\">1</span>, <span style=\"color: #008080; text-decoration-color: #008080; font-weight: bold\">1</span>, <span style=\"color: #008080; text-decoration-color: #008080; font-weight: bold\">1</span>, <span style=\"color: #008080; text-decoration-color: #008080; font-weight: bold\">1</span>, <span style=\"color: #008080; text-decoration-color: #008080; font-weight: bold\">1</span>, <span style=\"color: #008080; text-decoration-color: #008080; font-weight: bold\">1</span>, <span style=\"color: #008080; text-decoration-color: #008080; font-weight: bold\">1</span>, <span style=\"color: #008080; text-decoration-color: #008080; font-weight: bold\">1</span>, <span style=\"color: #008080; text-decoration-color: #008080; font-weight: bold\">1</span>,\n",
       "       <span style=\"color: #008080; text-decoration-color: #008080; font-weight: bold\">1</span>, <span style=\"color: #008080; text-decoration-color: #008080; font-weight: bold\">1</span>, <span style=\"color: #008080; text-decoration-color: #008080; font-weight: bold\">1</span>, <span style=\"color: #008080; text-decoration-color: #008080; font-weight: bold\">1</span>, <span style=\"color: #008080; text-decoration-color: #008080; font-weight: bold\">1</span>, <span style=\"color: #008080; text-decoration-color: #008080; font-weight: bold\">1</span>, <span style=\"color: #008080; text-decoration-color: #008080; font-weight: bold\">1</span>, <span style=\"color: #008080; text-decoration-color: #008080; font-weight: bold\">1</span>, <span style=\"color: #008080; text-decoration-color: #008080; font-weight: bold\">1</span>, <span style=\"color: #008080; text-decoration-color: #008080; font-weight: bold\">1</span>, <span style=\"color: #008080; text-decoration-color: #008080; font-weight: bold\">1</span>, <span style=\"color: #008080; text-decoration-color: #008080; font-weight: bold\">1</span>, <span style=\"color: #008080; text-decoration-color: #008080; font-weight: bold\">1</span>, <span style=\"color: #008080; text-decoration-color: #008080; font-weight: bold\">1</span>, <span style=\"color: #008080; text-decoration-color: #008080; font-weight: bold\">1</span>, <span style=\"color: #008080; text-decoration-color: #008080; font-weight: bold\">1</span>, <span style=\"color: #008080; text-decoration-color: #008080; font-weight: bold\">1</span>, <span style=\"color: #008080; text-decoration-color: #008080; font-weight: bold\">1</span>, <span style=\"color: #008080; text-decoration-color: #008080; font-weight: bold\">1</span>, <span style=\"color: #008080; text-decoration-color: #008080; font-weight: bold\">1</span>, <span style=\"color: #008080; text-decoration-color: #008080; font-weight: bold\">1</span>, <span style=\"color: #008080; text-decoration-color: #008080; font-weight: bold\">1</span>,\n",
       "       <span style=\"color: #008080; text-decoration-color: #008080; font-weight: bold\">1</span>, <span style=\"color: #008080; text-decoration-color: #008080; font-weight: bold\">1</span>, <span style=\"color: #008080; text-decoration-color: #008080; font-weight: bold\">1</span>, <span style=\"color: #008080; text-decoration-color: #008080; font-weight: bold\">1</span>, <span style=\"color: #008080; text-decoration-color: #008080; font-weight: bold\">1</span>, <span style=\"color: #008080; text-decoration-color: #008080; font-weight: bold\">1</span>, <span style=\"color: #008080; text-decoration-color: #008080; font-weight: bold\">1</span>, <span style=\"color: #008080; text-decoration-color: #008080; font-weight: bold\">1</span>, <span style=\"color: #008080; text-decoration-color: #008080; font-weight: bold\">1</span>, <span style=\"color: #008080; text-decoration-color: #008080; font-weight: bold\">1</span>, <span style=\"color: #008080; text-decoration-color: #008080; font-weight: bold\">1</span>, <span style=\"color: #008080; text-decoration-color: #008080; font-weight: bold\">1</span>, <span style=\"color: #008080; text-decoration-color: #008080; font-weight: bold\">1</span>, <span style=\"color: #008080; text-decoration-color: #008080; font-weight: bold\">1</span>, <span style=\"color: #008080; text-decoration-color: #008080; font-weight: bold\">1</span>, <span style=\"color: #008080; text-decoration-color: #008080; font-weight: bold\">1</span>, <span style=\"color: #008080; text-decoration-color: #008080; font-weight: bold\">1</span>, <span style=\"color: #008080; text-decoration-color: #008080; font-weight: bold\">1</span>, <span style=\"color: #008080; text-decoration-color: #008080; font-weight: bold\">1</span>, <span style=\"color: #008080; text-decoration-color: #008080; font-weight: bold\">1</span>, <span style=\"color: #008080; text-decoration-color: #008080; font-weight: bold\">1</span>, <span style=\"color: #008080; text-decoration-color: #008080; font-weight: bold\">1</span>,\n",
       "       <span style=\"color: #008080; text-decoration-color: #008080; font-weight: bold\">1</span>, <span style=\"color: #008080; text-decoration-color: #008080; font-weight: bold\">1</span>, <span style=\"color: #008080; text-decoration-color: #008080; font-weight: bold\">1</span>, <span style=\"color: #008080; text-decoration-color: #008080; font-weight: bold\">1</span>, <span style=\"color: #008080; text-decoration-color: #008080; font-weight: bold\">1</span>, <span style=\"color: #008080; text-decoration-color: #008080; font-weight: bold\">1</span>, <span style=\"color: #008080; text-decoration-color: #008080; font-weight: bold\">1</span>, <span style=\"color: #008080; text-decoration-color: #008080; font-weight: bold\">1</span>, <span style=\"color: #008080; text-decoration-color: #008080; font-weight: bold\">1</span>, <span style=\"color: #008080; text-decoration-color: #008080; font-weight: bold\">1</span>, <span style=\"color: #008080; text-decoration-color: #008080; font-weight: bold\">1</span>, <span style=\"color: #008080; text-decoration-color: #008080; font-weight: bold\">1</span>, <span style=\"color: #008080; text-decoration-color: #008080; font-weight: bold\">1</span>, <span style=\"color: #008080; text-decoration-color: #008080; font-weight: bold\">1</span>, <span style=\"color: #008080; text-decoration-color: #008080; font-weight: bold\">1</span>, <span style=\"color: #008080; text-decoration-color: #008080; font-weight: bold\">1</span>, <span style=\"color: #008080; text-decoration-color: #008080; font-weight: bold\">1</span>, <span style=\"color: #008080; text-decoration-color: #008080; font-weight: bold\">1</span><span style=\"font-weight: bold\">])</span>,\n",
       "    <span style=\"color: #008000; text-decoration-color: #008000\">'NARDIN_expts'</span>: <span style=\"color: #800080; text-decoration-color: #800080; font-weight: bold\">array</span><span style=\"font-weight: bold\">([</span><span style=\"color: #008000; text-decoration-color: #008000\">'slu020'</span>, <span style=\"color: #008000; text-decoration-color: #008000\">'slu021'</span>, <span style=\"color: #008000; text-decoration-color: #008000\">'slu023'</span>, <span style=\"color: #008000; text-decoration-color: #008000\">'slu049'</span>, <span style=\"color: #008000; text-decoration-color: #008000\">'slu053'</span>, <span style=\"color: #008000; text-decoration-color: #008000\">'slu054'</span>,\n",
       "       <span style=\"color: #008000; text-decoration-color: #008000\">'slu057'</span>, <span style=\"color: #008000; text-decoration-color: #008000\">'slu059'</span>, <span style=\"color: #008000; text-decoration-color: #008000\">'slu061'</span>, <span style=\"color: #008000; text-decoration-color: #008000\">'ytu289'</span>, <span style=\"color: #008000; text-decoration-color: #008000\">'ytu291'</span>, <span style=\"color: #008000; text-decoration-color: #008000\">'ytu292'</span>,\n",
       "       <span style=\"color: #008000; text-decoration-color: #008000\">'ytu293'</span>, <span style=\"color: #008000; text-decoration-color: #008000\">'ytu294'</span>, <span style=\"color: #008000; text-decoration-color: #008000\">'ytu295'</span>, <span style=\"color: #008000; text-decoration-color: #008000\">'ytu296'</span>, <span style=\"color: #008000; text-decoration-color: #008000\">'ytu297'</span>, <span style=\"color: #008000; text-decoration-color: #008000\">'ytu298'</span>,\n",
       "       <span style=\"color: #008000; text-decoration-color: #008000\">'ytu299'</span>, <span style=\"color: #008000; text-decoration-color: #008000\">'ytu300'</span>, <span style=\"color: #008000; text-decoration-color: #008000\">'ytu301'</span>, <span style=\"color: #008000; text-decoration-color: #008000\">'ytu303'</span>, <span style=\"color: #008000; text-decoration-color: #008000\">'ytu304'</span><span style=\"font-weight: bold\">]</span>, <span style=\"color: #808000; text-decoration-color: #808000\">dtype</span>=<span style=\"color: #800080; text-decoration-color: #800080\">object</span><span style=\"font-weight: bold\">)</span>,\n",
       "    <span style=\"color: #008000; text-decoration-color: #008000\">'NARDIN_nch'</span>: <span style=\"color: #800080; text-decoration-color: #800080; font-weight: bold\">array</span><span style=\"font-weight: bold\">([</span><span style=\"color: #008080; text-decoration-color: #008080; font-weight: bold\">32</span>, <span style=\"color: #008080; text-decoration-color: #008080; font-weight: bold\">32</span>, <span style=\"color: #008080; text-decoration-color: #008080; font-weight: bold\">32</span>, <span style=\"color: #008080; text-decoration-color: #008080; font-weight: bold\">32</span>, <span style=\"color: #008080; text-decoration-color: #008080; font-weight: bold\">32</span>, <span style=\"color: #008080; text-decoration-color: #008080; font-weight: bold\">32</span>, <span style=\"color: #008080; text-decoration-color: #008080; font-weight: bold\">32</span>, <span style=\"color: #008080; text-decoration-color: #008080; font-weight: bold\">32</span>, <span style=\"color: #008080; text-decoration-color: #008080; font-weight: bold\">32</span>, <span style=\"color: #008080; text-decoration-color: #008080; font-weight: bold\">32</span>, <span style=\"color: #008080; text-decoration-color: #008080; font-weight: bold\">32</span>, <span style=\"color: #008080; text-decoration-color: #008080; font-weight: bold\">32</span>, <span style=\"color: #008080; text-decoration-color: #008080; font-weight: bold\">32</span>, <span style=\"color: #008080; text-decoration-color: #008080; font-weight: bold\">32</span>, <span style=\"color: #008080; text-decoration-color: #008080; font-weight: bold\">32</span>, <span style=\"color: #008080; text-decoration-color: #008080; font-weight: bold\">32</span>, <span style=\"color: #008080; text-decoration-color: #008080; font-weight: bold\">32</span>,\n",
       "       <span style=\"color: #008080; text-decoration-color: #008080; font-weight: bold\">32</span>, <span style=\"color: #008080; text-decoration-color: #008080; font-weight: bold\">32</span>, <span style=\"color: #008080; text-decoration-color: #008080; font-weight: bold\">32</span>, <span style=\"color: #008080; text-decoration-color: #008080; font-weight: bold\">32</span>, <span style=\"color: #008080; text-decoration-color: #008080; font-weight: bold\">32</span>, <span style=\"color: #008080; text-decoration-color: #008080; font-weight: bold\">32</span><span style=\"font-weight: bold\">])</span>,\n",
       "    <span style=\"color: #008000; text-decoration-color: #008000\">'YUWEI_expts'</span>: <span style=\"color: #800080; text-decoration-color: #800080; font-weight: bold\">array</span><span style=\"font-weight: bold\">([</span><span style=\"color: #008000; text-decoration-color: #008000\">'clu036'</span>, <span style=\"color: #008000; text-decoration-color: #008000\">'clu037'</span>, <span style=\"color: #008000; text-decoration-color: #008000\">'clu038'</span>, <span style=\"color: #008000; text-decoration-color: #008000\">'clu039'</span>, <span style=\"color: #008000; text-decoration-color: #008000\">'clu040'</span>, <span style=\"color: #008000; text-decoration-color: #008000\">'clu043'</span>,\n",
       "       <span style=\"color: #008000; text-decoration-color: #008000\">'clu044'</span>, <span style=\"color: #008000; text-decoration-color: #008000\">'clu053'</span>, <span style=\"color: #008000; text-decoration-color: #008000\">'clu055'</span>, <span style=\"color: #008000; text-decoration-color: #008000\">'clu059'</span>, <span style=\"color: #008000; text-decoration-color: #008000\">'clu061'</span>, <span style=\"color: #008000; text-decoration-color: #008000\">'clu064'</span>,\n",
       "       <span style=\"color: #008000; text-decoration-color: #008000\">'clu068'</span>, <span style=\"color: #008000; text-decoration-color: #008000\">'clu069'</span>, <span style=\"color: #008000; text-decoration-color: #008000\">'clu081'</span>, <span style=\"color: #008000; text-decoration-color: #008000\">'clu082'</span>, <span style=\"color: #008000; text-decoration-color: #008000\">'clu087'</span>, <span style=\"color: #008000; text-decoration-color: #008000\">'clu088'</span>,\n",
       "       <span style=\"color: #008000; text-decoration-color: #008000\">'clu089'</span>, <span style=\"color: #008000; text-decoration-color: #008000\">'clu090'</span>, <span style=\"color: #008000; text-decoration-color: #008000\">'clu095'</span>, <span style=\"color: #008000; text-decoration-color: #008000\">'clu096'</span>, <span style=\"color: #008000; text-decoration-color: #008000\">'clu099'</span>, <span style=\"color: #008000; text-decoration-color: #008000\">'clu104'</span>,\n",
       "       <span style=\"color: #008000; text-decoration-color: #008000\">'clu107'</span>, <span style=\"color: #008000; text-decoration-color: #008000\">'clu108'</span>, <span style=\"color: #008000; text-decoration-color: #008000\">'clu109'</span>, <span style=\"color: #008000; text-decoration-color: #008000\">'clu110'</span>, <span style=\"color: #008000; text-decoration-color: #008000\">'clu116'</span>, <span style=\"color: #008000; text-decoration-color: #008000\">'clu120'</span>,\n",
       "       <span style=\"color: #008000; text-decoration-color: #008000\">'clu126'</span>, <span style=\"color: #008000; text-decoration-color: #008000\">'clu131'</span>, <span style=\"color: #008000; text-decoration-color: #008000\">'clu132'</span>, <span style=\"color: #008000; text-decoration-color: #008000\">'clu142'</span>, <span style=\"color: #008000; text-decoration-color: #008000\">'clu145'</span>, <span style=\"color: #008000; text-decoration-color: #008000\">'clu146'</span>,\n",
       "       <span style=\"color: #008000; text-decoration-color: #008000\">'clu147'</span>, <span style=\"color: #008000; text-decoration-color: #008000\">'clu148'</span>, <span style=\"color: #008000; text-decoration-color: #008000\">'clu180'</span>, <span style=\"color: #008000; text-decoration-color: #008000\">'clu181'</span>, <span style=\"color: #008000; text-decoration-color: #008000\">'clu183'</span>, <span style=\"color: #008000; text-decoration-color: #008000\">'clu209'</span>,\n",
       "       <span style=\"color: #008000; text-decoration-color: #008000\">'clu216'</span>, <span style=\"color: #008000; text-decoration-color: #008000\">'clu221'</span>, <span style=\"color: #008000; text-decoration-color: #008000\">'clu222'</span>, <span style=\"color: #008000; text-decoration-color: #008000\">'clu223'</span>, <span style=\"color: #008000; text-decoration-color: #008000\">'clu224'</span>, <span style=\"color: #008000; text-decoration-color: #008000\">'clu225'</span>,\n",
       "       <span style=\"color: #008000; text-decoration-color: #008000\">'clu226'</span>, <span style=\"color: #008000; text-decoration-color: #008000\">'clu227'</span>, <span style=\"color: #008000; text-decoration-color: #008000\">'clu229'</span>, <span style=\"color: #008000; text-decoration-color: #008000\">'clu267'</span>, <span style=\"color: #008000; text-decoration-color: #008000\">'clu292'</span>, <span style=\"color: #008000; text-decoration-color: #008000\">'clu293'</span>,\n",
       "       <span style=\"color: #008000; text-decoration-color: #008000\">'clu294'</span>, <span style=\"color: #008000; text-decoration-color: #008000\">'clu295'</span>, <span style=\"color: #008000; text-decoration-color: #008000\">'ytu021'</span>, <span style=\"color: #008000; text-decoration-color: #008000\">'ytu023'</span>, <span style=\"color: #008000; text-decoration-color: #008000\">'ytu028'</span>, <span style=\"color: #008000; text-decoration-color: #008000\">'ytu029'</span><span style=\"font-weight: bold\">]</span>,\n",
       "      <span style=\"color: #808000; text-decoration-color: #808000\">dtype</span>=<span style=\"color: #800080; text-decoration-color: #800080\">object</span><span style=\"font-weight: bold\">)</span>,\n",
       "    <span style=\"color: #008000; text-decoration-color: #008000\">'YUWEI_nch'</span>: <span style=\"color: #800080; text-decoration-color: #800080; font-weight: bold\">array</span><span style=\"font-weight: bold\">([</span> <span style=\"color: #008080; text-decoration-color: #008080; font-weight: bold\">1</span>,  <span style=\"color: #008080; text-decoration-color: #008080; font-weight: bold\">1</span>,  <span style=\"color: #008080; text-decoration-color: #008080; font-weight: bold\">1</span>,  <span style=\"color: #008080; text-decoration-color: #008080; font-weight: bold\">1</span>,  <span style=\"color: #008080; text-decoration-color: #008080; font-weight: bold\">1</span>,  <span style=\"color: #008080; text-decoration-color: #008080; font-weight: bold\">1</span>,  <span style=\"color: #008080; text-decoration-color: #008080; font-weight: bold\">1</span>,  <span style=\"color: #008080; text-decoration-color: #008080; font-weight: bold\">1</span>,  <span style=\"color: #008080; text-decoration-color: #008080; font-weight: bold\">1</span>,  <span style=\"color: #008080; text-decoration-color: #008080; font-weight: bold\">1</span>,  <span style=\"color: #008080; text-decoration-color: #008080; font-weight: bold\">1</span>,  <span style=\"color: #008080; text-decoration-color: #008080; font-weight: bold\">1</span>,  <span style=\"color: #008080; text-decoration-color: #008080; font-weight: bold\">1</span>,  <span style=\"color: #008080; text-decoration-color: #008080; font-weight: bold\">1</span>,  <span style=\"color: #008080; text-decoration-color: #008080; font-weight: bold\">1</span>,  <span style=\"color: #008080; text-decoration-color: #008080; font-weight: bold\">1</span>,  <span style=\"color: #008080; text-decoration-color: #008080; font-weight: bold\">1</span>,\n",
       "        <span style=\"color: #008080; text-decoration-color: #008080; font-weight: bold\">1</span>,  <span style=\"color: #008080; text-decoration-color: #008080; font-weight: bold\">1</span>,  <span style=\"color: #008080; text-decoration-color: #008080; font-weight: bold\">1</span>,  <span style=\"color: #008080; text-decoration-color: #008080; font-weight: bold\">1</span>,  <span style=\"color: #008080; text-decoration-color: #008080; font-weight: bold\">1</span>,  <span style=\"color: #008080; text-decoration-color: #008080; font-weight: bold\">1</span>,  <span style=\"color: #008080; text-decoration-color: #008080; font-weight: bold\">1</span>,  <span style=\"color: #008080; text-decoration-color: #008080; font-weight: bold\">1</span>,  <span style=\"color: #008080; text-decoration-color: #008080; font-weight: bold\">1</span>,  <span style=\"color: #008080; text-decoration-color: #008080; font-weight: bold\">1</span>,  <span style=\"color: #008080; text-decoration-color: #008080; font-weight: bold\">1</span>,  <span style=\"color: #008080; text-decoration-color: #008080; font-weight: bold\">1</span>,  <span style=\"color: #008080; text-decoration-color: #008080; font-weight: bold\">1</span>,  <span style=\"color: #008080; text-decoration-color: #008080; font-weight: bold\">1</span>,  <span style=\"color: #008080; text-decoration-color: #008080; font-weight: bold\">1</span>,  <span style=\"color: #008080; text-decoration-color: #008080; font-weight: bold\">1</span>,  <span style=\"color: #008080; text-decoration-color: #008080; font-weight: bold\">1</span>,\n",
       "        <span style=\"color: #008080; text-decoration-color: #008080; font-weight: bold\">1</span>,  <span style=\"color: #008080; text-decoration-color: #008080; font-weight: bold\">1</span>,  <span style=\"color: #008080; text-decoration-color: #008080; font-weight: bold\">1</span>,  <span style=\"color: #008080; text-decoration-color: #008080; font-weight: bold\">1</span>,  <span style=\"color: #008080; text-decoration-color: #008080; font-weight: bold\">1</span>,  <span style=\"color: #008080; text-decoration-color: #008080; font-weight: bold\">1</span>,  <span style=\"color: #008080; text-decoration-color: #008080; font-weight: bold\">1</span>, <span style=\"color: #008080; text-decoration-color: #008080; font-weight: bold\">16</span>, <span style=\"color: #008080; text-decoration-color: #008080; font-weight: bold\">16</span>, <span style=\"color: #008080; text-decoration-color: #008080; font-weight: bold\">16</span>,  <span style=\"color: #008080; text-decoration-color: #008080; font-weight: bold\">1</span>, <span style=\"color: #008080; text-decoration-color: #008080; font-weight: bold\">16</span>,  <span style=\"color: #008080; text-decoration-color: #008080; font-weight: bold\">1</span>,  <span style=\"color: #008080; text-decoration-color: #008080; font-weight: bold\">1</span>,  <span style=\"color: #008080; text-decoration-color: #008080; font-weight: bold\">1</span>,  <span style=\"color: #008080; text-decoration-color: #008080; font-weight: bold\">1</span>, <span style=\"color: #008080; text-decoration-color: #008080; font-weight: bold\">16</span>,\n",
       "       <span style=\"color: #008080; text-decoration-color: #008080; font-weight: bold\">16</span>, <span style=\"color: #008080; text-decoration-color: #008080; font-weight: bold\">16</span>, <span style=\"color: #008080; text-decoration-color: #008080; font-weight: bold\">16</span>, <span style=\"color: #008080; text-decoration-color: #008080; font-weight: bold\">16</span>, <span style=\"color: #008080; text-decoration-color: #008080; font-weight: bold\">16</span>, <span style=\"color: #008080; text-decoration-color: #008080; font-weight: bold\">16</span>, <span style=\"color: #008080; text-decoration-color: #008080; font-weight: bold\">16</span>, <span style=\"color: #008080; text-decoration-color: #008080; font-weight: bold\">24</span>, <span style=\"color: #008080; text-decoration-color: #008080; font-weight: bold\">24</span><span style=\"font-weight: bold\">])</span>\n",
       "<span style=\"font-weight: bold\">}</span>\n",
       "</pre>\n"
      ],
      "text/plain": [
       "\u001b[1m{\u001b[0m\n",
       "    \u001b[32m'CRCNS_expts'\u001b[0m: \u001b[1;35marray\u001b[0m\u001b[1m(\u001b[0m\u001b[1m[\u001b[0m\u001b[32m'clu004_Cell1'\u001b[0m, \u001b[32m'clu014_Cell2'\u001b[0m, \u001b[32m'clu014_Cell3'\u001b[0m, \u001b[32m'clu015_Cell4'\u001b[0m,\n",
       "       \u001b[32m'clu018_Cell5'\u001b[0m, \u001b[32m'clu023_Cell6'\u001b[0m, \u001b[32m'clu024_Cell7'\u001b[0m, \u001b[32m'clu025_Cell8'\u001b[0m,\n",
       "       \u001b[32m'clu025_Cell9'\u001b[0m, \u001b[32m'clu026_Cell10'\u001b[0m, \u001b[32m'clu036_Cell11'\u001b[0m, \u001b[32m'clu037_Cell12'\u001b[0m,\n",
       "       \u001b[32m'clu038_Cell13'\u001b[0m, \u001b[32m'clu039_Cell14'\u001b[0m, \u001b[32m'clu040_Cell15'\u001b[0m, \u001b[32m'clu042_Cell16'\u001b[0m,\n",
       "       \u001b[32m'clu043_Cell17'\u001b[0m, \u001b[32m'clu044_Cell18'\u001b[0m, \u001b[32m'clu053_Cell19'\u001b[0m, \u001b[32m'clu055_Cell20'\u001b[0m,\n",
       "       \u001b[32m'clu059_Cell21'\u001b[0m, \u001b[32m'clu061_Cell22'\u001b[0m, \u001b[32m'clu064_Cell23'\u001b[0m, \u001b[32m'clu068_Cell24'\u001b[0m,\n",
       "       \u001b[32m'clu069_Cell25'\u001b[0m, \u001b[32m'clu081_Cell26'\u001b[0m, \u001b[32m'clu082_Cell27'\u001b[0m, \u001b[32m'clu082_Cell28'\u001b[0m,\n",
       "       \u001b[32m'clu087_Cell29'\u001b[0m, \u001b[32m'clu088_Cell30'\u001b[0m, \u001b[32m'clu089_Cell31'\u001b[0m, \u001b[32m'clu090_Cell32'\u001b[0m,\n",
       "       \u001b[32m'clu095_Cell33'\u001b[0m, \u001b[32m'clu096_Cell34'\u001b[0m, \u001b[32m'clu099_Cell35'\u001b[0m, \u001b[32m'clu104_Cell36'\u001b[0m,\n",
       "       \u001b[32m'clu107_Cell37'\u001b[0m, \u001b[32m'clu108_Cell38'\u001b[0m, \u001b[32m'clu109_Cell39'\u001b[0m, \u001b[32m'clu110_Cell40'\u001b[0m,\n",
       "       \u001b[32m'clu116_Cell41'\u001b[0m, \u001b[32m'clu120_Cell42'\u001b[0m, \u001b[32m'clu126_Cell43'\u001b[0m, \u001b[32m'clu131_Cell44'\u001b[0m,\n",
       "       \u001b[32m'clu132_Cell45'\u001b[0m, \u001b[32m'clu142_Cell46'\u001b[0m, \u001b[32m'clu144_Cell47'\u001b[0m, \u001b[32m'clu145_Cell48'\u001b[0m,\n",
       "       \u001b[32m'clu146_Cell49'\u001b[0m, \u001b[32m'clu147_Cell50'\u001b[0m, \u001b[32m'clu148_Cell51'\u001b[0m, \u001b[32m'clu180_Cell52'\u001b[0m,\n",
       "       \u001b[32m'clu181_Cell53'\u001b[0m, \u001b[32m'clu181_Cell54'\u001b[0m, \u001b[32m'clu183_Cell55'\u001b[0m, \u001b[32m'clu209_Cell64'\u001b[0m,\n",
       "       \u001b[32m'clu209_Cell65'\u001b[0m, \u001b[32m'clu209_Cell66'\u001b[0m, \u001b[32m'clu209_Cell67'\u001b[0m, \u001b[32m'clu209_Cell68'\u001b[0m,\n",
       "       \u001b[32m'clu209_Cell69'\u001b[0m, \u001b[32m'clu209_Cell70'\u001b[0m, \u001b[32m'clu216_Cell71'\u001b[0m, \u001b[32m'clu221_Cell72'\u001b[0m,\n",
       "       \u001b[32m'clu221_Cell73'\u001b[0m, \u001b[32m'clu221_Cell74'\u001b[0m, \u001b[32m'clu221_Cell75'\u001b[0m, \u001b[32m'clu221_Cell76'\u001b[0m,\n",
       "       \u001b[32m'clu222_Cell56'\u001b[0m, \u001b[32m'clu222_Cell57'\u001b[0m, \u001b[32m'clu223_Cell77'\u001b[0m, \u001b[32m'clu223_Cell78'\u001b[0m,\n",
       "       \u001b[32m'clu223_Cell79'\u001b[0m, \u001b[32m'clu223_Cell80'\u001b[0m, \u001b[32m'clu223_Cell81'\u001b[0m, \u001b[32m'clu224_Cell58'\u001b[0m,\n",
       "       \u001b[32m'clu224_Cell59'\u001b[0m, \u001b[32m'clu225_Cell60'\u001b[0m, \u001b[32m'clu226_Cell61'\u001b[0m, \u001b[32m'clu227_Cell62'\u001b[0m,\n",
       "       \u001b[32m'clu227_Cell63'\u001b[0m, \u001b[32m'clu229_Cell82'\u001b[0m, \u001b[32m'clu229_Cell83'\u001b[0m, \u001b[32m'clu229_Cell84'\u001b[0m\u001b[1m]\u001b[0m,\n",
       "      \u001b[33mdtype\u001b[0m=\u001b[35mobject\u001b[0m\u001b[1m)\u001b[0m,\n",
       "    \u001b[32m'CRCNS_nch'\u001b[0m: \u001b[1;35marray\u001b[0m\u001b[1m(\u001b[0m\u001b[1m[\u001b[0m\u001b[1;36m1\u001b[0m, \u001b[1;36m1\u001b[0m, \u001b[1;36m1\u001b[0m, \u001b[1;36m1\u001b[0m, \u001b[1;36m1\u001b[0m, \u001b[1;36m1\u001b[0m, \u001b[1;36m1\u001b[0m, \u001b[1;36m1\u001b[0m, \u001b[1;36m1\u001b[0m, \u001b[1;36m1\u001b[0m, \u001b[1;36m1\u001b[0m, \u001b[1;36m1\u001b[0m, \u001b[1;36m1\u001b[0m, \u001b[1;36m1\u001b[0m, \u001b[1;36m1\u001b[0m, \u001b[1;36m1\u001b[0m, \u001b[1;36m1\u001b[0m, \u001b[1;36m1\u001b[0m, \u001b[1;36m1\u001b[0m, \u001b[1;36m1\u001b[0m, \u001b[1;36m1\u001b[0m, \u001b[1;36m1\u001b[0m,\n",
       "       \u001b[1;36m1\u001b[0m, \u001b[1;36m1\u001b[0m, \u001b[1;36m1\u001b[0m, \u001b[1;36m1\u001b[0m, \u001b[1;36m1\u001b[0m, \u001b[1;36m1\u001b[0m, \u001b[1;36m1\u001b[0m, \u001b[1;36m1\u001b[0m, \u001b[1;36m1\u001b[0m, \u001b[1;36m1\u001b[0m, \u001b[1;36m1\u001b[0m, \u001b[1;36m1\u001b[0m, \u001b[1;36m1\u001b[0m, \u001b[1;36m1\u001b[0m, \u001b[1;36m1\u001b[0m, \u001b[1;36m1\u001b[0m, \u001b[1;36m1\u001b[0m, \u001b[1;36m1\u001b[0m, \u001b[1;36m1\u001b[0m, \u001b[1;36m1\u001b[0m, \u001b[1;36m1\u001b[0m, \u001b[1;36m1\u001b[0m,\n",
       "       \u001b[1;36m1\u001b[0m, \u001b[1;36m1\u001b[0m, \u001b[1;36m1\u001b[0m, \u001b[1;36m1\u001b[0m, \u001b[1;36m1\u001b[0m, \u001b[1;36m1\u001b[0m, \u001b[1;36m1\u001b[0m, \u001b[1;36m1\u001b[0m, \u001b[1;36m1\u001b[0m, \u001b[1;36m1\u001b[0m, \u001b[1;36m1\u001b[0m, \u001b[1;36m1\u001b[0m, \u001b[1;36m1\u001b[0m, \u001b[1;36m1\u001b[0m, \u001b[1;36m1\u001b[0m, \u001b[1;36m1\u001b[0m, \u001b[1;36m1\u001b[0m, \u001b[1;36m1\u001b[0m, \u001b[1;36m1\u001b[0m, \u001b[1;36m1\u001b[0m, \u001b[1;36m1\u001b[0m, \u001b[1;36m1\u001b[0m,\n",
       "       \u001b[1;36m1\u001b[0m, \u001b[1;36m1\u001b[0m, \u001b[1;36m1\u001b[0m, \u001b[1;36m1\u001b[0m, \u001b[1;36m1\u001b[0m, \u001b[1;36m1\u001b[0m, \u001b[1;36m1\u001b[0m, \u001b[1;36m1\u001b[0m, \u001b[1;36m1\u001b[0m, \u001b[1;36m1\u001b[0m, \u001b[1;36m1\u001b[0m, \u001b[1;36m1\u001b[0m, \u001b[1;36m1\u001b[0m, \u001b[1;36m1\u001b[0m, \u001b[1;36m1\u001b[0m, \u001b[1;36m1\u001b[0m, \u001b[1;36m1\u001b[0m, \u001b[1;36m1\u001b[0m\u001b[1m]\u001b[0m\u001b[1m)\u001b[0m,\n",
       "    \u001b[32m'NARDIN_expts'\u001b[0m: \u001b[1;35marray\u001b[0m\u001b[1m(\u001b[0m\u001b[1m[\u001b[0m\u001b[32m'slu020'\u001b[0m, \u001b[32m'slu021'\u001b[0m, \u001b[32m'slu023'\u001b[0m, \u001b[32m'slu049'\u001b[0m, \u001b[32m'slu053'\u001b[0m, \u001b[32m'slu054'\u001b[0m,\n",
       "       \u001b[32m'slu057'\u001b[0m, \u001b[32m'slu059'\u001b[0m, \u001b[32m'slu061'\u001b[0m, \u001b[32m'ytu289'\u001b[0m, \u001b[32m'ytu291'\u001b[0m, \u001b[32m'ytu292'\u001b[0m,\n",
       "       \u001b[32m'ytu293'\u001b[0m, \u001b[32m'ytu294'\u001b[0m, \u001b[32m'ytu295'\u001b[0m, \u001b[32m'ytu296'\u001b[0m, \u001b[32m'ytu297'\u001b[0m, \u001b[32m'ytu298'\u001b[0m,\n",
       "       \u001b[32m'ytu299'\u001b[0m, \u001b[32m'ytu300'\u001b[0m, \u001b[32m'ytu301'\u001b[0m, \u001b[32m'ytu303'\u001b[0m, \u001b[32m'ytu304'\u001b[0m\u001b[1m]\u001b[0m, \u001b[33mdtype\u001b[0m=\u001b[35mobject\u001b[0m\u001b[1m)\u001b[0m,\n",
       "    \u001b[32m'NARDIN_nch'\u001b[0m: \u001b[1;35marray\u001b[0m\u001b[1m(\u001b[0m\u001b[1m[\u001b[0m\u001b[1;36m32\u001b[0m, \u001b[1;36m32\u001b[0m, \u001b[1;36m32\u001b[0m, \u001b[1;36m32\u001b[0m, \u001b[1;36m32\u001b[0m, \u001b[1;36m32\u001b[0m, \u001b[1;36m32\u001b[0m, \u001b[1;36m32\u001b[0m, \u001b[1;36m32\u001b[0m, \u001b[1;36m32\u001b[0m, \u001b[1;36m32\u001b[0m, \u001b[1;36m32\u001b[0m, \u001b[1;36m32\u001b[0m, \u001b[1;36m32\u001b[0m, \u001b[1;36m32\u001b[0m, \u001b[1;36m32\u001b[0m, \u001b[1;36m32\u001b[0m,\n",
       "       \u001b[1;36m32\u001b[0m, \u001b[1;36m32\u001b[0m, \u001b[1;36m32\u001b[0m, \u001b[1;36m32\u001b[0m, \u001b[1;36m32\u001b[0m, \u001b[1;36m32\u001b[0m\u001b[1m]\u001b[0m\u001b[1m)\u001b[0m,\n",
       "    \u001b[32m'YUWEI_expts'\u001b[0m: \u001b[1;35marray\u001b[0m\u001b[1m(\u001b[0m\u001b[1m[\u001b[0m\u001b[32m'clu036'\u001b[0m, \u001b[32m'clu037'\u001b[0m, \u001b[32m'clu038'\u001b[0m, \u001b[32m'clu039'\u001b[0m, \u001b[32m'clu040'\u001b[0m, \u001b[32m'clu043'\u001b[0m,\n",
       "       \u001b[32m'clu044'\u001b[0m, \u001b[32m'clu053'\u001b[0m, \u001b[32m'clu055'\u001b[0m, \u001b[32m'clu059'\u001b[0m, \u001b[32m'clu061'\u001b[0m, \u001b[32m'clu064'\u001b[0m,\n",
       "       \u001b[32m'clu068'\u001b[0m, \u001b[32m'clu069'\u001b[0m, \u001b[32m'clu081'\u001b[0m, \u001b[32m'clu082'\u001b[0m, \u001b[32m'clu087'\u001b[0m, \u001b[32m'clu088'\u001b[0m,\n",
       "       \u001b[32m'clu089'\u001b[0m, \u001b[32m'clu090'\u001b[0m, \u001b[32m'clu095'\u001b[0m, \u001b[32m'clu096'\u001b[0m, \u001b[32m'clu099'\u001b[0m, \u001b[32m'clu104'\u001b[0m,\n",
       "       \u001b[32m'clu107'\u001b[0m, \u001b[32m'clu108'\u001b[0m, \u001b[32m'clu109'\u001b[0m, \u001b[32m'clu110'\u001b[0m, \u001b[32m'clu116'\u001b[0m, \u001b[32m'clu120'\u001b[0m,\n",
       "       \u001b[32m'clu126'\u001b[0m, \u001b[32m'clu131'\u001b[0m, \u001b[32m'clu132'\u001b[0m, \u001b[32m'clu142'\u001b[0m, \u001b[32m'clu145'\u001b[0m, \u001b[32m'clu146'\u001b[0m,\n",
       "       \u001b[32m'clu147'\u001b[0m, \u001b[32m'clu148'\u001b[0m, \u001b[32m'clu180'\u001b[0m, \u001b[32m'clu181'\u001b[0m, \u001b[32m'clu183'\u001b[0m, \u001b[32m'clu209'\u001b[0m,\n",
       "       \u001b[32m'clu216'\u001b[0m, \u001b[32m'clu221'\u001b[0m, \u001b[32m'clu222'\u001b[0m, \u001b[32m'clu223'\u001b[0m, \u001b[32m'clu224'\u001b[0m, \u001b[32m'clu225'\u001b[0m,\n",
       "       \u001b[32m'clu226'\u001b[0m, \u001b[32m'clu227'\u001b[0m, \u001b[32m'clu229'\u001b[0m, \u001b[32m'clu267'\u001b[0m, \u001b[32m'clu292'\u001b[0m, \u001b[32m'clu293'\u001b[0m,\n",
       "       \u001b[32m'clu294'\u001b[0m, \u001b[32m'clu295'\u001b[0m, \u001b[32m'ytu021'\u001b[0m, \u001b[32m'ytu023'\u001b[0m, \u001b[32m'ytu028'\u001b[0m, \u001b[32m'ytu029'\u001b[0m\u001b[1m]\u001b[0m,\n",
       "      \u001b[33mdtype\u001b[0m=\u001b[35mobject\u001b[0m\u001b[1m)\u001b[0m,\n",
       "    \u001b[32m'YUWEI_nch'\u001b[0m: \u001b[1;35marray\u001b[0m\u001b[1m(\u001b[0m\u001b[1m[\u001b[0m \u001b[1;36m1\u001b[0m,  \u001b[1;36m1\u001b[0m,  \u001b[1;36m1\u001b[0m,  \u001b[1;36m1\u001b[0m,  \u001b[1;36m1\u001b[0m,  \u001b[1;36m1\u001b[0m,  \u001b[1;36m1\u001b[0m,  \u001b[1;36m1\u001b[0m,  \u001b[1;36m1\u001b[0m,  \u001b[1;36m1\u001b[0m,  \u001b[1;36m1\u001b[0m,  \u001b[1;36m1\u001b[0m,  \u001b[1;36m1\u001b[0m,  \u001b[1;36m1\u001b[0m,  \u001b[1;36m1\u001b[0m,  \u001b[1;36m1\u001b[0m,  \u001b[1;36m1\u001b[0m,\n",
       "        \u001b[1;36m1\u001b[0m,  \u001b[1;36m1\u001b[0m,  \u001b[1;36m1\u001b[0m,  \u001b[1;36m1\u001b[0m,  \u001b[1;36m1\u001b[0m,  \u001b[1;36m1\u001b[0m,  \u001b[1;36m1\u001b[0m,  \u001b[1;36m1\u001b[0m,  \u001b[1;36m1\u001b[0m,  \u001b[1;36m1\u001b[0m,  \u001b[1;36m1\u001b[0m,  \u001b[1;36m1\u001b[0m,  \u001b[1;36m1\u001b[0m,  \u001b[1;36m1\u001b[0m,  \u001b[1;36m1\u001b[0m,  \u001b[1;36m1\u001b[0m,  \u001b[1;36m1\u001b[0m,\n",
       "        \u001b[1;36m1\u001b[0m,  \u001b[1;36m1\u001b[0m,  \u001b[1;36m1\u001b[0m,  \u001b[1;36m1\u001b[0m,  \u001b[1;36m1\u001b[0m,  \u001b[1;36m1\u001b[0m,  \u001b[1;36m1\u001b[0m, \u001b[1;36m16\u001b[0m, \u001b[1;36m16\u001b[0m, \u001b[1;36m16\u001b[0m,  \u001b[1;36m1\u001b[0m, \u001b[1;36m16\u001b[0m,  \u001b[1;36m1\u001b[0m,  \u001b[1;36m1\u001b[0m,  \u001b[1;36m1\u001b[0m,  \u001b[1;36m1\u001b[0m, \u001b[1;36m16\u001b[0m,\n",
       "       \u001b[1;36m16\u001b[0m, \u001b[1;36m16\u001b[0m, \u001b[1;36m16\u001b[0m, \u001b[1;36m16\u001b[0m, \u001b[1;36m16\u001b[0m, \u001b[1;36m16\u001b[0m, \u001b[1;36m16\u001b[0m, \u001b[1;36m24\u001b[0m, \u001b[1;36m24\u001b[0m\u001b[1m]\u001b[0m\u001b[1m)\u001b[0m\n",
       "\u001b[1m}\u001b[0m\n"
      ]
     },
     "metadata": {},
     "output_type": "display_data"
    }
   ],
   "source": [
    "print(dict(file.attrs))"
   ]
  },
  {
   "cell_type": "code",
   "execution_count": 4,
   "id": "bf9a6494",
   "metadata": {},
   "outputs": [
    {
     "data": {
      "text/html": [
       "<pre style=\"white-space:pre;overflow-x:auto;line-height:normal;font-family:Menlo,'DejaVu Sans Mono',consolas,'Courier New',monospace\">There are a total of <span style=\"color: #008080; text-decoration-color: #008080; font-weight: bold\">23</span> experiments:\n",
       "\n",
       "<span style=\"font-weight: bold\">[</span><span style=\"color: #008000; text-decoration-color: #008000\">'slu020'</span> <span style=\"color: #008000; text-decoration-color: #008000\">'slu021'</span> <span style=\"color: #008000; text-decoration-color: #008000\">'slu023'</span> <span style=\"color: #008000; text-decoration-color: #008000\">'slu049'</span> <span style=\"color: #008000; text-decoration-color: #008000\">'slu053'</span> <span style=\"color: #008000; text-decoration-color: #008000\">'slu054'</span> <span style=\"color: #008000; text-decoration-color: #008000\">'slu057'</span> <span style=\"color: #008000; text-decoration-color: #008000\">'slu059'</span>\n",
       " <span style=\"color: #008000; text-decoration-color: #008000\">'slu061'</span> <span style=\"color: #008000; text-decoration-color: #008000\">'ytu289'</span> <span style=\"color: #008000; text-decoration-color: #008000\">'ytu291'</span> <span style=\"color: #008000; text-decoration-color: #008000\">'ytu292'</span> <span style=\"color: #008000; text-decoration-color: #008000\">'ytu293'</span> <span style=\"color: #008000; text-decoration-color: #008000\">'ytu294'</span> <span style=\"color: #008000; text-decoration-color: #008000\">'ytu295'</span> <span style=\"color: #008000; text-decoration-color: #008000\">'ytu296'</span>\n",
       " <span style=\"color: #008000; text-decoration-color: #008000\">'ytu297'</span> <span style=\"color: #008000; text-decoration-color: #008000\">'ytu298'</span> <span style=\"color: #008000; text-decoration-color: #008000\">'ytu299'</span> <span style=\"color: #008000; text-decoration-color: #008000\">'ytu300'</span> <span style=\"color: #008000; text-decoration-color: #008000\">'ytu301'</span> <span style=\"color: #008000; text-decoration-color: #008000\">'ytu303'</span> <span style=\"color: #008000; text-decoration-color: #008000\">'ytu304'</span><span style=\"font-weight: bold\">]</span>\n",
       "</pre>\n"
      ],
      "text/plain": [
       "There are a total of \u001b[1;36m23\u001b[0m experiments:\n",
       "\n",
       "\u001b[1m[\u001b[0m\u001b[32m'slu020'\u001b[0m \u001b[32m'slu021'\u001b[0m \u001b[32m'slu023'\u001b[0m \u001b[32m'slu049'\u001b[0m \u001b[32m'slu053'\u001b[0m \u001b[32m'slu054'\u001b[0m \u001b[32m'slu057'\u001b[0m \u001b[32m'slu059'\u001b[0m\n",
       " \u001b[32m'slu061'\u001b[0m \u001b[32m'ytu289'\u001b[0m \u001b[32m'ytu291'\u001b[0m \u001b[32m'ytu292'\u001b[0m \u001b[32m'ytu293'\u001b[0m \u001b[32m'ytu294'\u001b[0m \u001b[32m'ytu295'\u001b[0m \u001b[32m'ytu296'\u001b[0m\n",
       " \u001b[32m'ytu297'\u001b[0m \u001b[32m'ytu298'\u001b[0m \u001b[32m'ytu299'\u001b[0m \u001b[32m'ytu300'\u001b[0m \u001b[32m'ytu301'\u001b[0m \u001b[32m'ytu303'\u001b[0m \u001b[32m'ytu304'\u001b[0m\u001b[1m]\u001b[0m\n"
      ]
     },
     "metadata": {},
     "output_type": "display_data"
    }
   ],
   "source": [
    "nardin_expts = file.attrs.get('NARDIN_expts')\n",
    "print(f\"There are a total of {len(nardin_expts)} experiments:\\n\\n{nardin_expts}\")"
   ]
  },
  {
   "cell_type": "markdown",
   "id": "d93ba48a",
   "metadata": {},
   "source": [
    "## Load spreadsheet\n",
    "\n",
    "- Excel file path on ```M1```:\n",
    "    - /Data/MT/xtracted_python/latest_plxfileslabeled.xlsx"
   ]
  },
  {
   "cell_type": "code",
   "execution_count": 5,
   "id": "ea4ab244",
   "metadata": {},
   "outputs": [],
   "source": [
    "path = '/home/hadi/Documents/MTMST-other/Nardin/latest_plxfileslabeled.xlsx'\n",
    "excel = pd.read_excel(path, sheet_name='good units', header=1)"
   ]
  },
  {
   "cell_type": "markdown",
   "id": "f57d7b23",
   "metadata": {},
   "source": [
    "### Turn it into pandas dataframe"
   ]
  },
  {
   "cell_type": "code",
   "execution_count": 6,
   "id": "b9c59248",
   "metadata": {},
   "outputs": [],
   "source": [
    "df = []\n",
    "for i, row in excel.iterrows():\n",
    "    expt, _, channel, unit, good, tag_nardin = row\n",
    "    if str(expt) == 'nan':\n",
    "        continue\n",
    "    if tag_nardin in ['mt', 'mst']:\n",
    "        tag = tag_nardin\n",
    "    else:\n",
    "        tag = '?'\n",
    "    df.append({\n",
    "        'expt': [expt[:-1]],\n",
    "        'channel': [int(channel)],\n",
    "        'unit': [int(unit)],\n",
    "        'good': [str(good)],\n",
    "        'tag': [str(tag)],\n",
    "        'tag_nardin': [str(tag_nardin)],\n",
    "    })\n",
    "df = pd.DataFrame(merge_dicts(df))"
   ]
  },
  {
   "cell_type": "code",
   "execution_count": 7,
   "id": "11dd5ba8",
   "metadata": {},
   "outputs": [
    {
     "data": {
      "text/html": [
       "<div>\n",
       "<style scoped>\n",
       "    .dataframe tbody tr th:only-of-type {\n",
       "        vertical-align: middle;\n",
       "    }\n",
       "\n",
       "    .dataframe tbody tr th {\n",
       "        vertical-align: top;\n",
       "    }\n",
       "\n",
       "    .dataframe thead th {\n",
       "        text-align: right;\n",
       "    }\n",
       "</style>\n",
       "<table border=\"1\" class=\"dataframe\">\n",
       "  <thead>\n",
       "    <tr style=\"text-align: right;\">\n",
       "      <th></th>\n",
       "      <th>expt</th>\n",
       "      <th>channel</th>\n",
       "      <th>unit</th>\n",
       "      <th>good</th>\n",
       "      <th>tag</th>\n",
       "      <th>tag_nardin</th>\n",
       "    </tr>\n",
       "  </thead>\n",
       "  <tbody>\n",
       "    <tr>\n",
       "      <th>0</th>\n",
       "      <td>ytu202</td>\n",
       "      <td>1</td>\n",
       "      <td>1</td>\n",
       "      <td>yes</td>\n",
       "      <td>mt</td>\n",
       "      <td>mt</td>\n",
       "    </tr>\n",
       "    <tr>\n",
       "      <th>1</th>\n",
       "      <td>ytu202</td>\n",
       "      <td>2</td>\n",
       "      <td>1</td>\n",
       "      <td>yes</td>\n",
       "      <td>?</td>\n",
       "      <td>mt?</td>\n",
       "    </tr>\n",
       "    <tr>\n",
       "      <th>2</th>\n",
       "      <td>ytu202</td>\n",
       "      <td>2</td>\n",
       "      <td>2</td>\n",
       "      <td>no</td>\n",
       "      <td>?</td>\n",
       "      <td>nan</td>\n",
       "    </tr>\n",
       "    <tr>\n",
       "      <th>3</th>\n",
       "      <td>ytu202</td>\n",
       "      <td>3</td>\n",
       "      <td>1</td>\n",
       "      <td>yes</td>\n",
       "      <td>mt</td>\n",
       "      <td>mt</td>\n",
       "    </tr>\n",
       "    <tr>\n",
       "      <th>4</th>\n",
       "      <td>ytu202</td>\n",
       "      <td>3</td>\n",
       "      <td>2</td>\n",
       "      <td>no</td>\n",
       "      <td>?</td>\n",
       "      <td>nan</td>\n",
       "    </tr>\n",
       "    <tr>\n",
       "      <th>...</th>\n",
       "      <td>...</td>\n",
       "      <td>...</td>\n",
       "      <td>...</td>\n",
       "      <td>...</td>\n",
       "      <td>...</td>\n",
       "      <td>...</td>\n",
       "    </tr>\n",
       "    <tr>\n",
       "      <th>192</th>\n",
       "      <td>slu023</td>\n",
       "      <td>59</td>\n",
       "      <td>2</td>\n",
       "      <td>no</td>\n",
       "      <td>?</td>\n",
       "      <td>nan</td>\n",
       "    </tr>\n",
       "    <tr>\n",
       "      <th>193</th>\n",
       "      <td>slu023</td>\n",
       "      <td>60</td>\n",
       "      <td>1</td>\n",
       "      <td>no</td>\n",
       "      <td>?</td>\n",
       "      <td>nan</td>\n",
       "    </tr>\n",
       "    <tr>\n",
       "      <th>194</th>\n",
       "      <td>slu023</td>\n",
       "      <td>61</td>\n",
       "      <td>1</td>\n",
       "      <td>no</td>\n",
       "      <td>?</td>\n",
       "      <td>nan</td>\n",
       "    </tr>\n",
       "    <tr>\n",
       "      <th>195</th>\n",
       "      <td>slu023</td>\n",
       "      <td>61</td>\n",
       "      <td>2</td>\n",
       "      <td>no</td>\n",
       "      <td>?</td>\n",
       "      <td>nan</td>\n",
       "    </tr>\n",
       "    <tr>\n",
       "      <th>196</th>\n",
       "      <td>slu023</td>\n",
       "      <td>62</td>\n",
       "      <td>1</td>\n",
       "      <td>no</td>\n",
       "      <td>?</td>\n",
       "      <td>nan</td>\n",
       "    </tr>\n",
       "  </tbody>\n",
       "</table>\n",
       "<p>197 rows × 6 columns</p>\n",
       "</div>"
      ],
      "text/plain": [
       "       expt  channel  unit good tag tag_nardin\n",
       "0    ytu202        1     1  yes  mt         mt\n",
       "1    ytu202        2     1  yes   ?        mt?\n",
       "2    ytu202        2     2   no   ?        nan\n",
       "3    ytu202        3     1  yes  mt         mt\n",
       "4    ytu202        3     2   no   ?        nan\n",
       "..      ...      ...   ...  ...  ..        ...\n",
       "192  slu023       59     2   no   ?        nan\n",
       "193  slu023       60     1   no   ?        nan\n",
       "194  slu023       61     1   no   ?        nan\n",
       "195  slu023       61     2   no   ?        nan\n",
       "196  slu023       62     1   no   ?        nan\n",
       "\n",
       "[197 rows x 6 columns]"
      ]
     },
     "execution_count": 7,
     "metadata": {},
     "output_type": "execute_result"
    }
   ],
   "source": [
    "df"
   ]
  },
  {
   "cell_type": "markdown",
   "id": "d8c6e7cd",
   "metadata": {},
   "source": [
    "### Extract some info from the df"
   ]
  },
  {
   "cell_type": "markdown",
   "id": "98c2fc15",
   "metadata": {},
   "source": [
    "- How many neurons per experiment:"
   ]
  },
  {
   "cell_type": "code",
   "execution_count": 8,
   "id": "769b8292",
   "metadata": {},
   "outputs": [
    {
     "data": {
      "text/plain": [
       "Counter({'ytu202': 54, 'ytu205': 42, 'slu023': 101})"
      ]
     },
     "execution_count": 8,
     "metadata": {},
     "output_type": "execute_result"
    }
   ],
   "source": [
    "collections.Counter(df['expt'])"
   ]
  },
  {
   "cell_type": "markdown",
   "id": "13c87ff0",
   "metadata": {},
   "source": [
    "- how many reliable labels:\n",
    "    - this is from all cells in the spreadsheep"
   ]
  },
  {
   "cell_type": "code",
   "execution_count": 9,
   "id": "80a88359",
   "metadata": {},
   "outputs": [
    {
     "data": {
      "text/plain": [
       "Counter({'mt': 19, '?': 143, 'mst': 35})"
      ]
     },
     "execution_count": 9,
     "metadata": {},
     "output_type": "execute_result"
    }
   ],
   "source": [
    "collections.Counter(df['tag'])"
   ]
  },
  {
   "cell_type": "markdown",
   "id": "6835c8f9",
   "metadata": {},
   "source": [
    "- Take that one experiment (```slu023```) that we have both data and info about:\n",
    "    - ...and count number of labeled cells in this experiment"
   ]
  },
  {
   "cell_type": "code",
   "execution_count": 10,
   "id": "f5b6c863",
   "metadata": {},
   "outputs": [
    {
     "data": {
      "text/plain": [
       "Counter({'mt': 6, 'mst': 13, '?': 82})"
      ]
     },
     "execution_count": 10,
     "metadata": {},
     "output_type": "execute_result"
    }
   ],
   "source": [
    "df_slu023 = df.loc[df['expt'] == 'slu023'].reset_index()\n",
    "collections.Counter(df_slu023['tag'])"
   ]
  },
  {
   "cell_type": "markdown",
   "id": "82b535d5",
   "metadata": {},
   "source": [
    "- good units in ```slu023```"
   ]
  },
  {
   "cell_type": "code",
   "execution_count": 11,
   "id": "e615bf97",
   "metadata": {},
   "outputs": [
    {
     "data": {
      "text/html": [
       "<div>\n",
       "<style scoped>\n",
       "    .dataframe tbody tr th:only-of-type {\n",
       "        vertical-align: middle;\n",
       "    }\n",
       "\n",
       "    .dataframe tbody tr th {\n",
       "        vertical-align: top;\n",
       "    }\n",
       "\n",
       "    .dataframe thead th {\n",
       "        text-align: right;\n",
       "    }\n",
       "</style>\n",
       "<table border=\"1\" class=\"dataframe\">\n",
       "  <thead>\n",
       "    <tr style=\"text-align: right;\">\n",
       "      <th></th>\n",
       "      <th>index</th>\n",
       "      <th>expt</th>\n",
       "      <th>channel</th>\n",
       "      <th>unit</th>\n",
       "      <th>good</th>\n",
       "      <th>tag</th>\n",
       "      <th>tag_nardin</th>\n",
       "    </tr>\n",
       "  </thead>\n",
       "  <tbody>\n",
       "    <tr>\n",
       "      <th>0</th>\n",
       "      <td>96</td>\n",
       "      <td>slu023</td>\n",
       "      <td>2</td>\n",
       "      <td>1</td>\n",
       "      <td>yes</td>\n",
       "      <td>mt</td>\n",
       "      <td>mt</td>\n",
       "    </tr>\n",
       "    <tr>\n",
       "      <th>1</th>\n",
       "      <td>97</td>\n",
       "      <td>slu023</td>\n",
       "      <td>3</td>\n",
       "      <td>1</td>\n",
       "      <td>yes</td>\n",
       "      <td>mt</td>\n",
       "      <td>mt</td>\n",
       "    </tr>\n",
       "    <tr>\n",
       "      <th>2</th>\n",
       "      <td>98</td>\n",
       "      <td>slu023</td>\n",
       "      <td>4</td>\n",
       "      <td>1</td>\n",
       "      <td>yes</td>\n",
       "      <td>mt</td>\n",
       "      <td>mt</td>\n",
       "    </tr>\n",
       "    <tr>\n",
       "      <th>3</th>\n",
       "      <td>99</td>\n",
       "      <td>slu023</td>\n",
       "      <td>4</td>\n",
       "      <td>2</td>\n",
       "      <td>yes</td>\n",
       "      <td>mt</td>\n",
       "      <td>mt</td>\n",
       "    </tr>\n",
       "    <tr>\n",
       "      <th>4</th>\n",
       "      <td>100</td>\n",
       "      <td>slu023</td>\n",
       "      <td>5</td>\n",
       "      <td>1</td>\n",
       "      <td>yes</td>\n",
       "      <td>mt</td>\n",
       "      <td>mt</td>\n",
       "    </tr>\n",
       "    <tr>\n",
       "      <th>5</th>\n",
       "      <td>101</td>\n",
       "      <td>slu023</td>\n",
       "      <td>5</td>\n",
       "      <td>2</td>\n",
       "      <td>yes</td>\n",
       "      <td>mt</td>\n",
       "      <td>mt</td>\n",
       "    </tr>\n",
       "    <tr>\n",
       "      <th>6</th>\n",
       "      <td>102</td>\n",
       "      <td>slu023</td>\n",
       "      <td>6</td>\n",
       "      <td>1</td>\n",
       "      <td>yes</td>\n",
       "      <td>mst</td>\n",
       "      <td>mst</td>\n",
       "    </tr>\n",
       "    <tr>\n",
       "      <th>8</th>\n",
       "      <td>104</td>\n",
       "      <td>slu023</td>\n",
       "      <td>7</td>\n",
       "      <td>1</td>\n",
       "      <td>yes</td>\n",
       "      <td>mst</td>\n",
       "      <td>mst</td>\n",
       "    </tr>\n",
       "    <tr>\n",
       "      <th>14</th>\n",
       "      <td>110</td>\n",
       "      <td>slu023</td>\n",
       "      <td>10</td>\n",
       "      <td>2</td>\n",
       "      <td>yes</td>\n",
       "      <td>?</td>\n",
       "      <td>mt?</td>\n",
       "    </tr>\n",
       "    <tr>\n",
       "      <th>19</th>\n",
       "      <td>115</td>\n",
       "      <td>slu023</td>\n",
       "      <td>13</td>\n",
       "      <td>1</td>\n",
       "      <td>yes</td>\n",
       "      <td>?</td>\n",
       "      <td>mst?</td>\n",
       "    </tr>\n",
       "    <tr>\n",
       "      <th>22</th>\n",
       "      <td>118</td>\n",
       "      <td>slu023</td>\n",
       "      <td>15</td>\n",
       "      <td>1</td>\n",
       "      <td>yes</td>\n",
       "      <td>?</td>\n",
       "      <td>mst?</td>\n",
       "    </tr>\n",
       "    <tr>\n",
       "      <th>25</th>\n",
       "      <td>121</td>\n",
       "      <td>slu023</td>\n",
       "      <td>17</td>\n",
       "      <td>1</td>\n",
       "      <td>yes</td>\n",
       "      <td>mst</td>\n",
       "      <td>mst</td>\n",
       "    </tr>\n",
       "    <tr>\n",
       "      <th>30</th>\n",
       "      <td>126</td>\n",
       "      <td>slu023</td>\n",
       "      <td>21</td>\n",
       "      <td>2</td>\n",
       "      <td>yes</td>\n",
       "      <td>mst</td>\n",
       "      <td>mst</td>\n",
       "    </tr>\n",
       "    <tr>\n",
       "      <th>43</th>\n",
       "      <td>139</td>\n",
       "      <td>slu023</td>\n",
       "      <td>31</td>\n",
       "      <td>1</td>\n",
       "      <td>yes</td>\n",
       "      <td>mst</td>\n",
       "      <td>mst</td>\n",
       "    </tr>\n",
       "    <tr>\n",
       "      <th>63</th>\n",
       "      <td>159</td>\n",
       "      <td>slu023</td>\n",
       "      <td>43</td>\n",
       "      <td>2</td>\n",
       "      <td>yes</td>\n",
       "      <td>mst</td>\n",
       "      <td>mst</td>\n",
       "    </tr>\n",
       "    <tr>\n",
       "      <th>65</th>\n",
       "      <td>161</td>\n",
       "      <td>slu023</td>\n",
       "      <td>44</td>\n",
       "      <td>2</td>\n",
       "      <td>yes</td>\n",
       "      <td>mst</td>\n",
       "      <td>mst</td>\n",
       "    </tr>\n",
       "    <tr>\n",
       "      <th>69</th>\n",
       "      <td>165</td>\n",
       "      <td>slu023</td>\n",
       "      <td>46</td>\n",
       "      <td>2</td>\n",
       "      <td>yes</td>\n",
       "      <td>mst</td>\n",
       "      <td>mst</td>\n",
       "    </tr>\n",
       "    <tr>\n",
       "      <th>70</th>\n",
       "      <td>166</td>\n",
       "      <td>slu023</td>\n",
       "      <td>47</td>\n",
       "      <td>1</td>\n",
       "      <td>yes</td>\n",
       "      <td>mst</td>\n",
       "      <td>mst</td>\n",
       "    </tr>\n",
       "    <tr>\n",
       "      <th>79</th>\n",
       "      <td>175</td>\n",
       "      <td>slu023</td>\n",
       "      <td>51</td>\n",
       "      <td>1</td>\n",
       "      <td>yes</td>\n",
       "      <td>mst</td>\n",
       "      <td>mst</td>\n",
       "    </tr>\n",
       "    <tr>\n",
       "      <th>80</th>\n",
       "      <td>176</td>\n",
       "      <td>slu023</td>\n",
       "      <td>51</td>\n",
       "      <td>2</td>\n",
       "      <td>yes</td>\n",
       "      <td>mst</td>\n",
       "      <td>mst</td>\n",
       "    </tr>\n",
       "  </tbody>\n",
       "</table>\n",
       "</div>"
      ],
      "text/plain": [
       "    index    expt  channel  unit good  tag tag_nardin\n",
       "0      96  slu023        2     1  yes   mt         mt\n",
       "1      97  slu023        3     1  yes   mt         mt\n",
       "2      98  slu023        4     1  yes   mt         mt\n",
       "3      99  slu023        4     2  yes   mt         mt\n",
       "4     100  slu023        5     1  yes   mt         mt\n",
       "5     101  slu023        5     2  yes   mt         mt\n",
       "6     102  slu023        6     1  yes  mst        mst\n",
       "8     104  slu023        7     1  yes  mst        mst\n",
       "14    110  slu023       10     2  yes    ?        mt?\n",
       "19    115  slu023       13     1  yes    ?       mst?\n",
       "22    118  slu023       15     1  yes    ?       mst?\n",
       "25    121  slu023       17     1  yes  mst        mst\n",
       "30    126  slu023       21     2  yes  mst        mst\n",
       "43    139  slu023       31     1  yes  mst        mst\n",
       "63    159  slu023       43     2  yes  mst        mst\n",
       "65    161  slu023       44     2  yes  mst        mst\n",
       "69    165  slu023       46     2  yes  mst        mst\n",
       "70    166  slu023       47     1  yes  mst        mst\n",
       "79    175  slu023       51     1  yes  mst        mst\n",
       "80    176  slu023       51     2  yes  mst        mst"
      ]
     },
     "execution_count": 11,
     "metadata": {},
     "output_type": "execute_result"
    }
   ],
   "source": [
    "df_good_units = df_slu023.loc[df_slu023['good'] == 'yes']\n",
    "df_good_units"
   ]
  },
  {
   "cell_type": "code",
   "execution_count": 12,
   "id": "aa753457",
   "metadata": {},
   "outputs": [
    {
     "data": {
      "text/plain": [
       "Counter({'mt': 6, 'mst': 11, '?': 3})"
      ]
     },
     "execution_count": 12,
     "metadata": {},
     "output_type": "execute_result"
    }
   ],
   "source": [
    "collections.Counter(df_good_units['tag'])"
   ]
  },
  {
   "cell_type": "code",
   "execution_count": null,
   "id": "e61a22e3",
   "metadata": {},
   "outputs": [],
   "source": []
  },
  {
   "cell_type": "markdown",
   "id": "5e9b6895",
   "metadata": {},
   "source": [
    "## Load data from h5 file"
   ]
  },
  {
   "cell_type": "code",
   "execution_count": 13,
   "id": "053239d6",
   "metadata": {},
   "outputs": [
    {
     "data": {
      "text/plain": [
       "['badspks', 'hf_center', 'hf_params', 'lfp', 'spks']"
      ]
     },
     "execution_count": 13,
     "metadata": {},
     "output_type": "execute_result"
    }
   ],
   "source": [
    "expt = 'slu023'\n",
    "group = file['NARDIN'][expt]\n",
    "list(group)"
   ]
  },
  {
   "cell_type": "markdown",
   "id": "08e68ae4",
   "metadata": {},
   "source": [
    "### Full data (3 long repeats)"
   ]
  },
  {
   "cell_type": "code",
   "execution_count": 14,
   "id": "d8c987e2",
   "metadata": {},
   "outputs": [
    {
     "data": {
      "text/plain": [
       "((43200, 2, 17, 17), (43200, 32, 2), (43200, 1))"
      ]
     },
     "execution_count": 14,
     "metadata": {},
     "output_type": "execute_result"
    }
   ],
   "source": [
    "stim, spks, good_spks, *_ = load_ephys(group)\n",
    "stim.shape, spks.shape, good_spks.shape"
   ]
  },
  {
   "cell_type": "markdown",
   "id": "1c613817",
   "metadata": {},
   "source": [
    "### Take only the first part"
   ]
  },
  {
   "cell_type": "code",
   "execution_count": 15,
   "id": "74b827ac",
   "metadata": {},
   "outputs": [
    {
     "data": {
      "text/plain": [
       "14400"
      ]
     },
     "execution_count": 15,
     "metadata": {},
     "output_type": "execute_result"
    }
   ],
   "source": [
    "nt = len(stim)\n",
    "nt //= 3\n",
    "nt"
   ]
  },
  {
   "cell_type": "code",
   "execution_count": 16,
   "id": "9fe14f35",
   "metadata": {},
   "outputs": [
    {
     "data": {
      "text/plain": [
       "((14400, 2, 17, 17), (14400, 32, 2), (14400, 1))"
      ]
     },
     "execution_count": 16,
     "metadata": {},
     "output_type": "execute_result"
    }
   ],
   "source": [
    "stim = stim[:nt]\n",
    "spks = spks[:nt]\n",
    "good_spks = good_spks[:nt]\n",
    "stim.shape, spks.shape, good_spks.shape"
   ]
  },
  {
   "cell_type": "markdown",
   "id": "b4e888bc",
   "metadata": {},
   "source": [
    "### Prelim firing rate plot"
   ]
  },
  {
   "cell_type": "code",
   "execution_count": 17,
   "id": "c1d18420",
   "metadata": {},
   "outputs": [],
   "source": [
    "no_nan_channels = (np.isnan(spks)).sum(0) == 0"
   ]
  },
  {
   "cell_type": "code",
   "execution_count": 18,
   "id": "bc55add1",
   "metadata": {},
   "outputs": [
    {
     "data": {
      "image/png": "[encoded data removed]",
      "text/plain": [
       "<Figure size 1200x150 with 4 Axes>"
      ]
     },
     "metadata": {},
     "output_type": "display_data"
    }
   ],
   "source": [
    "fig, axes = create_figure(2, 1, (12, 1.5), sharex='all')\n",
    "sns.heatmap(\n",
    "    no_nan_channels.T,\n",
    "    cmap='bwr',\n",
    "    linewidths=0.01,\n",
    "    vmin=-0.5,\n",
    "    vmax=1.5, \n",
    "    linecolor='w',\n",
    "    ax=axes[0],\n",
    ")\n",
    "sns.heatmap(\n",
    "    np.nansum(spks, 0).T / len(spks) / 25e-3,\n",
    "    cmap='nipy_spectral',\n",
    "    linewidths=0.01,\n",
    "    linecolor='dimgrey',\n",
    "    ax=axes[1],\n",
    ")\n",
    "for ax in axes.flat:\n",
    "    ax.invert_yaxis()\n",
    "plt.show()"
   ]
  },
  {
   "cell_type": "code",
   "execution_count": null,
   "id": "9d56ca67",
   "metadata": {},
   "outputs": [],
   "source": []
  },
  {
   "cell_type": "code",
   "execution_count": null,
   "id": "feb48059",
   "metadata": {},
   "outputs": [],
   "source": []
  },
  {
   "cell_type": "code",
   "execution_count": null,
   "id": "136423fc",
   "metadata": {},
   "outputs": [],
   "source": []
  }
 ],
 "metadata": {
  "kernelspec": {
   "display_name": "Python 3",
   "language": "python",
   "name": "python3"
  },
  "language_info": {
   "codemirror_mode": {
    "name": "ipython",
    "version": 3
   },
   "file_extension": ".py",
   "mimetype": "text/x-python",
   "name": "python",
   "nbconvert_exporter": "python",
   "pygments_lexer": "ipython3",
   "version": "3.8.3"
  }
 },
 "nbformat": 4,
 "nbformat_minor": 5
}
