{
 "cells": [
  {
   "cell_type": "markdown",
   "id": "a9736f88",
   "metadata": {},
   "source": [
    "# (08) Sim -- behavior of ```filter()``` when ```dim=65```\n",
    "\n",
    "**Motivation**: Getting ready to generate and save. <br>"
   ]
  },
  {
   "cell_type": "code",
   "execution_count": 1,
   "id": "5360bb70",
   "metadata": {
    "tags": [
     "hide-input"
    ]
   },
   "outputs": [],
   "source": [
    "# HIDE CODE\n",
    "\n",
    "\n",
    "import os, sys\n",
    "from IPython.display import display, IFrame, HTML\n",
    "\n",
    "# tmp & extras dir\n",
    "git_dir = os.path.join(os.environ['HOME'], 'Dropbox/git')\n",
    "extras_dir = os.path.join(git_dir, 'jb-MTMST/_extras')\n",
    "fig_base_dir = os.path.join(git_dir, 'jb-MTMST/figs')\n",
    "tmp_dir = os.path.join(git_dir, 'jb-MTMST/tmp')\n",
    "\n",
    "# GitHub\n",
    "sys.path.insert(0, os.path.join(git_dir, '_MTMST'))\n",
    "from figures.fighelper import *\n",
    "from analysis.opticflow import *\n",
    "\n",
    "# warnings, tqdm, & style\n",
    "warnings.filterwarnings('ignore', category=DeprecationWarning)\n",
    "from rich.jupyter import print\n",
    "%matplotlib inline\n",
    "set_style()"
   ]
  },
  {
   "cell_type": "code",
   "execution_count": 2,
   "id": "3fd5c7af",
   "metadata": {},
   "outputs": [],
   "source": [
    "# HIDE CODE\n",
    "\n",
    "\n",
    "def _do_pca(a):\n",
    "    a = flatten_arr(a, ndim_end=0, ndim_start=1)\n",
    "    u, s, v = sp_lin.svd(a, full_matrices=False, compute_uv=True)\n",
    "    s *= 100 / s.sum()\n",
    "    titles = [f\"{e:0.1f} %\" for e in s]\n",
    "    pcs = v.reshape(-1, of.dim, of.dim, 2)\n",
    "    return s, pcs, titles\n",
    "\n",
    "\n",
    "def _plot_singular_values(s, thres=90):\n",
    "    fig, axes = create_figure(2, 1, (13, 7), sharex='all')\n",
    "    axes[0].plot(s, marker='.')\n",
    "    axes[1].plot(np.cumsum(s), lw=3, marker=None)\n",
    "\n",
    "    idx = np.where(np.cumsum(s) > thres)[0][0]\n",
    "    axes[1].axvline(\n",
    "        idx, color='g', ls=':', lw=1.5,\n",
    "        label=f'{idx} dimensions',\n",
    "    )\n",
    "    axes[1].axhline(\n",
    "        thres, color='magenta', ls=':', lw=1.5,\n",
    "        label=f'{thres}% of variance',\n",
    "    )\n",
    "    axes[1].legend()\n",
    "\n",
    "    axes[1].axhline(0, color='k', ls='--', lw=1.2)\n",
    "    axes[1].axhline(100, color='k', ls='--', lw=1.2)\n",
    "    axes[1].set_ylim((-3, 103))\n",
    "    add_grid(axes)\n",
    "    plt.show()\n",
    "\n",
    "    \n",
    "def _sizes_hist(of, obj_i: int = 0):\n",
    "    fig, ax = create_figure(1, 1, (15, 5))\n",
    "    size_pix = of.objects[obj_i].size * of.dim ** 2\n",
    "    sns.histplot(size_pix, bins=np.linspace(0, 80, 81) - 0.5, stat='percent', ax=ax)\n",
    "\n",
    "    for color, thres in zip(['magenta', 'k', 'g', 'r'], [2, 4, 6, 8]):\n",
    "        lbl = f'{100 * (size_pix < thres).sum() / of.n:0.1f}% smaller than {thres} pixels'\n",
    "        ax.axvline(thres, color=color, ls='--', lw=1.3, label=lbl)\n",
    "    ax.legend(fontsize=17)\n",
    "    plt.show()"
   ]
  },
  {
   "cell_type": "markdown",
   "id": "69e4c16b",
   "metadata": {},
   "source": [
    "## Accept explore"
   ]
  },
  {
   "cell_type": "code",
   "execution_count": 3,
   "id": "e3b81a63",
   "metadata": {},
   "outputs": [
    {
     "data": {
      "text/html": [
       "<pre style=\"white-space:pre;overflow-x:auto;line-height:normal;font-family:Menlo,'DejaVu Sans Mono',consolas,'Courier New',monospace\"><span style=\"font-weight: bold\">{</span>\n",
       "    <span style=\"color: #008000; text-decoration-color: #008000\">'n'</span>: <span style=\"color: #008080; text-decoration-color: #008080; font-weight: bold\">1000</span>,\n",
       "    <span style=\"color: #008000; text-decoration-color: #008000\">'dim'</span>: <span style=\"color: #008080; text-decoration-color: #008080; font-weight: bold\">65</span>,\n",
       "    <span style=\"color: #008000; text-decoration-color: #008000\">'fov'</span>: <span style=\"color: #008080; text-decoration-color: #008080; font-weight: bold\">45.0</span>,\n",
       "    <span style=\"color: #008000; text-decoration-color: #008000\">'obj_r'</span>: <span style=\"color: #008080; text-decoration-color: #008080; font-weight: bold\">0.2</span>,\n",
       "    <span style=\"color: #008000; text-decoration-color: #008000\">'obj_bound'</span>: <span style=\"color: #008080; text-decoration-color: #008080; font-weight: bold\">0.97</span>,\n",
       "    <span style=\"color: #008000; text-decoration-color: #008000\">'obj_zlim'</span>: <span style=\"font-weight: bold\">(</span><span style=\"color: #008080; text-decoration-color: #008080; font-weight: bold\">0.5</span>, <span style=\"color: #008080; text-decoration-color: #008080; font-weight: bold\">1.0</span><span style=\"font-weight: bold\">)</span>,\n",
       "    <span style=\"color: #008000; text-decoration-color: #008000\">'vlim_obj'</span>: <span style=\"font-weight: bold\">(</span><span style=\"color: #008080; text-decoration-color: #008080; font-weight: bold\">0.01</span>, <span style=\"color: #008080; text-decoration-color: #008080; font-weight: bold\">5.0</span><span style=\"font-weight: bold\">)</span>,\n",
       "    <span style=\"color: #008000; text-decoration-color: #008000\">'vlim_slf'</span>: <span style=\"font-weight: bold\">(</span><span style=\"color: #008080; text-decoration-color: #008080; font-weight: bold\">0.01</span>, <span style=\"color: #008080; text-decoration-color: #008080; font-weight: bold\">5.0</span><span style=\"font-weight: bold\">)</span>,\n",
       "    <span style=\"color: #008000; text-decoration-color: #008000\">'residual'</span>: <span style=\"color: #ff0000; text-decoration-color: #ff0000; font-style: italic\">False</span>,\n",
       "    <span style=\"color: #008000; text-decoration-color: #008000\">'z_bg'</span>: <span style=\"color: #008080; text-decoration-color: #008080; font-weight: bold\">1.0</span>,\n",
       "    <span style=\"color: #008000; text-decoration-color: #008000\">'seed'</span>: <span style=\"color: #008080; text-decoration-color: #008080; font-weight: bold\">0</span>\n",
       "<span style=\"font-weight: bold\">}</span>\n",
       "</pre>\n"
      ],
      "text/plain": [
       "\u001b[1m{\u001b[0m\n",
       "    \u001b[32m'n'\u001b[0m: \u001b[1;36m1000\u001b[0m,\n",
       "    \u001b[32m'dim'\u001b[0m: \u001b[1;36m65\u001b[0m,\n",
       "    \u001b[32m'fov'\u001b[0m: \u001b[1;36m45.0\u001b[0m,\n",
       "    \u001b[32m'obj_r'\u001b[0m: \u001b[1;36m0.2\u001b[0m,\n",
       "    \u001b[32m'obj_bound'\u001b[0m: \u001b[1;36m0.97\u001b[0m,\n",
       "    \u001b[32m'obj_zlim'\u001b[0m: \u001b[1m(\u001b[0m\u001b[1;36m0.5\u001b[0m, \u001b[1;36m1.0\u001b[0m\u001b[1m)\u001b[0m,\n",
       "    \u001b[32m'vlim_obj'\u001b[0m: \u001b[1m(\u001b[0m\u001b[1;36m0.01\u001b[0m, \u001b[1;36m5.0\u001b[0m\u001b[1m)\u001b[0m,\n",
       "    \u001b[32m'vlim_slf'\u001b[0m: \u001b[1m(\u001b[0m\u001b[1;36m0.01\u001b[0m, \u001b[1;36m5.0\u001b[0m\u001b[1m)\u001b[0m,\n",
       "    \u001b[32m'residual'\u001b[0m: \u001b[3;91mFalse\u001b[0m,\n",
       "    \u001b[32m'z_bg'\u001b[0m: \u001b[1;36m1.0\u001b[0m,\n",
       "    \u001b[32m'seed'\u001b[0m: \u001b[1;36m0\u001b[0m\n",
       "\u001b[1m}\u001b[0m\n"
      ]
     },
     "metadata": {},
     "output_type": "display_data"
    }
   ],
   "source": [
    "from skimage.transform import resize\n",
    "\n",
    "kws = dict(\n",
    "    n=int(1e3),\n",
    "    dim=65,\n",
    "    fov=45.0,\n",
    "    obj_r=0.2,\n",
    "    obj_bound=0.97,\n",
    "    obj_zlim=(0.5, 1.0),\n",
    "    vlim_obj=(0.01, 5.0),\n",
    "    vlim_slf=(0.01, 5.0),\n",
    "    residual=False,\n",
    "    z_bg=1.0,\n",
    "    seed=0,\n",
    ")\n",
    "print(kws)\n",
    "\n",
    "min_obj_size = 6"
   ]
  },
  {
   "cell_type": "code",
   "execution_count": 4,
   "id": "4969036a",
   "metadata": {},
   "outputs": [],
   "source": [
    "combos = [\n",
    "    ('fixate', 0), ('fixate', 1), ('fixate', 2), ('fixate', 4), ('fixate', 8),\n",
    "    ('obj', 1), ('obj', 2), ('obj', 4), ('obj', 8),\n",
    "    ('terrain', 4), ('terrain', 8), ('terrain', 16),\n",
    "    ('transl', 0), ('transl', 2),\n",
    "]"
   ]
  },
  {
   "cell_type": "code",
   "execution_count": 5,
   "id": "3d241dd9",
   "metadata": {},
   "outputs": [
    {
     "data": {
      "text/html": [
       "<pre style=\"white-space:pre;overflow-x:auto;line-height:normal;font-family:Menlo,'DejaVu Sans Mono',consolas,'Courier New',monospace\">category: fixate, # objects = <span style=\"color: #008080; text-decoration-color: #008080; font-weight: bold\">0</span>    ||    accepted: <span style=\"color: #008080; text-decoration-color: #008080; font-weight: bold\">100.0</span> %,  <span style=\"font-weight: bold\">(</span>min obj size = <span style=\"color: #008080; text-decoration-color: #008080; font-weight: bold\">6</span><span style=\"font-weight: bold\">)</span>\n",
       "</pre>\n"
      ],
      "text/plain": [
       "category: fixate, # objects = \u001b[1;36m0\u001b[0m    ||    accepted: \u001b[1;36m100.0\u001b[0m %,  \u001b[1m(\u001b[0mmin obj size = \u001b[1;36m6\u001b[0m\u001b[1m)\u001b[0m\n"
      ]
     },
     "metadata": {},
     "output_type": "display_data"
    },
    {
     "data": {
      "text/html": [
       "<pre style=\"white-space:pre;overflow-x:auto;line-height:normal;font-family:Menlo,'DejaVu Sans Mono',consolas,'Courier New',monospace\">category: fixate, # objects = <span style=\"color: #008080; text-decoration-color: #008080; font-weight: bold\">1</span>    ||    accepted: <span style=\"color: #008080; text-decoration-color: #008080; font-weight: bold\">97.7</span> %,  <span style=\"font-weight: bold\">(</span>min obj size = <span style=\"color: #008080; text-decoration-color: #008080; font-weight: bold\">6</span><span style=\"font-weight: bold\">)</span>\n",
       "</pre>\n"
      ],
      "text/plain": [
       "category: fixate, # objects = \u001b[1;36m1\u001b[0m    ||    accepted: \u001b[1;36m97.7\u001b[0m %,  \u001b[1m(\u001b[0mmin obj size = \u001b[1;36m6\u001b[0m\u001b[1m)\u001b[0m\n"
      ]
     },
     "metadata": {},
     "output_type": "display_data"
    },
    {
     "data": {
      "text/html": [
       "<pre style=\"white-space:pre;overflow-x:auto;line-height:normal;font-family:Menlo,'DejaVu Sans Mono',consolas,'Courier New',monospace\">category: fixate, # objects = <span style=\"color: #008080; text-decoration-color: #008080; font-weight: bold\">2</span>    ||    accepted: <span style=\"color: #008080; text-decoration-color: #008080; font-weight: bold\">95.1</span> %,  <span style=\"font-weight: bold\">(</span>min obj size = <span style=\"color: #008080; text-decoration-color: #008080; font-weight: bold\">6</span><span style=\"font-weight: bold\">)</span>\n",
       "</pre>\n"
      ],
      "text/plain": [
       "category: fixate, # objects = \u001b[1;36m2\u001b[0m    ||    accepted: \u001b[1;36m95.1\u001b[0m %,  \u001b[1m(\u001b[0mmin obj size = \u001b[1;36m6\u001b[0m\u001b[1m)\u001b[0m\n"
      ]
     },
     "metadata": {},
     "output_type": "display_data"
    },
    {
     "data": {
      "text/html": [
       "<pre style=\"white-space:pre;overflow-x:auto;line-height:normal;font-family:Menlo,'DejaVu Sans Mono',consolas,'Courier New',monospace\">category: fixate, # objects = <span style=\"color: #008080; text-decoration-color: #008080; font-weight: bold\">4</span>    ||    accepted: <span style=\"color: #008080; text-decoration-color: #008080; font-weight: bold\">91.2</span> %,  <span style=\"font-weight: bold\">(</span>min obj size = <span style=\"color: #008080; text-decoration-color: #008080; font-weight: bold\">6</span><span style=\"font-weight: bold\">)</span>\n",
       "</pre>\n"
      ],
      "text/plain": [
       "category: fixate, # objects = \u001b[1;36m4\u001b[0m    ||    accepted: \u001b[1;36m91.2\u001b[0m %,  \u001b[1m(\u001b[0mmin obj size = \u001b[1;36m6\u001b[0m\u001b[1m)\u001b[0m\n"
      ]
     },
     "metadata": {},
     "output_type": "display_data"
    },
    {
     "data": {
      "text/html": [
       "<pre style=\"white-space:pre;overflow-x:auto;line-height:normal;font-family:Menlo,'DejaVu Sans Mono',consolas,'Courier New',monospace\">category: fixate, # objects = <span style=\"color: #008080; text-decoration-color: #008080; font-weight: bold\">8</span>    ||    accepted: <span style=\"color: #008080; text-decoration-color: #008080; font-weight: bold\">85.2</span> %,  <span style=\"font-weight: bold\">(</span>min obj size = <span style=\"color: #008080; text-decoration-color: #008080; font-weight: bold\">6</span><span style=\"font-weight: bold\">)</span>\n",
       "</pre>\n"
      ],
      "text/plain": [
       "category: fixate, # objects = \u001b[1;36m8\u001b[0m    ||    accepted: \u001b[1;36m85.2\u001b[0m %,  \u001b[1m(\u001b[0mmin obj size = \u001b[1;36m6\u001b[0m\u001b[1m)\u001b[0m\n"
      ]
     },
     "metadata": {},
     "output_type": "display_data"
    },
    {
     "data": {
      "text/html": [
       "<pre style=\"white-space:pre;overflow-x:auto;line-height:normal;font-family:Menlo,'DejaVu Sans Mono',consolas,'Courier New',monospace\">category: obj, # objects = <span style=\"color: #008080; text-decoration-color: #008080; font-weight: bold\">1</span>    ||    accepted: <span style=\"color: #008080; text-decoration-color: #008080; font-weight: bold\">97.7</span> %,  <span style=\"font-weight: bold\">(</span>min obj size = <span style=\"color: #008080; text-decoration-color: #008080; font-weight: bold\">6</span><span style=\"font-weight: bold\">)</span>\n",
       "</pre>\n"
      ],
      "text/plain": [
       "category: obj, # objects = \u001b[1;36m1\u001b[0m    ||    accepted: \u001b[1;36m97.7\u001b[0m %,  \u001b[1m(\u001b[0mmin obj size = \u001b[1;36m6\u001b[0m\u001b[1m)\u001b[0m\n"
      ]
     },
     "metadata": {},
     "output_type": "display_data"
    },
    {
     "data": {
      "text/html": [
       "<pre style=\"white-space:pre;overflow-x:auto;line-height:normal;font-family:Menlo,'DejaVu Sans Mono',consolas,'Courier New',monospace\">category: obj, # objects = <span style=\"color: #008080; text-decoration-color: #008080; font-weight: bold\">2</span>    ||    accepted: <span style=\"color: #008080; text-decoration-color: #008080; font-weight: bold\">95.1</span> %,  <span style=\"font-weight: bold\">(</span>min obj size = <span style=\"color: #008080; text-decoration-color: #008080; font-weight: bold\">6</span><span style=\"font-weight: bold\">)</span>\n",
       "</pre>\n"
      ],
      "text/plain": [
       "category: obj, # objects = \u001b[1;36m2\u001b[0m    ||    accepted: \u001b[1;36m95.1\u001b[0m %,  \u001b[1m(\u001b[0mmin obj size = \u001b[1;36m6\u001b[0m\u001b[1m)\u001b[0m\n"
      ]
     },
     "metadata": {},
     "output_type": "display_data"
    },
    {
     "data": {
      "text/html": [
       "<pre style=\"white-space:pre;overflow-x:auto;line-height:normal;font-family:Menlo,'DejaVu Sans Mono',consolas,'Courier New',monospace\">category: obj, # objects = <span style=\"color: #008080; text-decoration-color: #008080; font-weight: bold\">4</span>    ||    accepted: <span style=\"color: #008080; text-decoration-color: #008080; font-weight: bold\">91.2</span> %,  <span style=\"font-weight: bold\">(</span>min obj size = <span style=\"color: #008080; text-decoration-color: #008080; font-weight: bold\">6</span><span style=\"font-weight: bold\">)</span>\n",
       "</pre>\n"
      ],
      "text/plain": [
       "category: obj, # objects = \u001b[1;36m4\u001b[0m    ||    accepted: \u001b[1;36m91.2\u001b[0m %,  \u001b[1m(\u001b[0mmin obj size = \u001b[1;36m6\u001b[0m\u001b[1m)\u001b[0m\n"
      ]
     },
     "metadata": {},
     "output_type": "display_data"
    },
    {
     "data": {
      "text/html": [
       "<pre style=\"white-space:pre;overflow-x:auto;line-height:normal;font-family:Menlo,'DejaVu Sans Mono',consolas,'Courier New',monospace\">category: obj, # objects = <span style=\"color: #008080; text-decoration-color: #008080; font-weight: bold\">8</span>    ||    accepted: <span style=\"color: #008080; text-decoration-color: #008080; font-weight: bold\">85.2</span> %,  <span style=\"font-weight: bold\">(</span>min obj size = <span style=\"color: #008080; text-decoration-color: #008080; font-weight: bold\">6</span><span style=\"font-weight: bold\">)</span>\n",
       "</pre>\n"
      ],
      "text/plain": [
       "category: obj, # objects = \u001b[1;36m8\u001b[0m    ||    accepted: \u001b[1;36m85.2\u001b[0m %,  \u001b[1m(\u001b[0mmin obj size = \u001b[1;36m6\u001b[0m\u001b[1m)\u001b[0m\n"
      ]
     },
     "metadata": {},
     "output_type": "display_data"
    },
    {
     "data": {
      "text/html": [
       "<pre style=\"white-space:pre;overflow-x:auto;line-height:normal;font-family:Menlo,'DejaVu Sans Mono',consolas,'Courier New',monospace\">category: terrain, # objects = <span style=\"color: #008080; text-decoration-color: #008080; font-weight: bold\">4</span>    ||    accepted: <span style=\"color: #008080; text-decoration-color: #008080; font-weight: bold\">81.2</span> %,  <span style=\"font-weight: bold\">(</span>min obj size = <span style=\"color: #008080; text-decoration-color: #008080; font-weight: bold\">6</span><span style=\"font-weight: bold\">)</span>\n",
       "</pre>\n"
      ],
      "text/plain": [
       "category: terrain, # objects = \u001b[1;36m4\u001b[0m    ||    accepted: \u001b[1;36m81.2\u001b[0m %,  \u001b[1m(\u001b[0mmin obj size = \u001b[1;36m6\u001b[0m\u001b[1m)\u001b[0m\n"
      ]
     },
     "metadata": {},
     "output_type": "display_data"
    },
    {
     "data": {
      "text/html": [
       "<pre style=\"white-space:pre;overflow-x:auto;line-height:normal;font-family:Menlo,'DejaVu Sans Mono',consolas,'Courier New',monospace\">category: terrain, # objects = <span style=\"color: #008080; text-decoration-color: #008080; font-weight: bold\">8</span>    ||    accepted: <span style=\"color: #008080; text-decoration-color: #008080; font-weight: bold\">67.2</span> %,  <span style=\"font-weight: bold\">(</span>min obj size = <span style=\"color: #008080; text-decoration-color: #008080; font-weight: bold\">6</span><span style=\"font-weight: bold\">)</span>\n",
       "</pre>\n"
      ],
      "text/plain": [
       "category: terrain, # objects = \u001b[1;36m8\u001b[0m    ||    accepted: \u001b[1;36m67.2\u001b[0m %,  \u001b[1m(\u001b[0mmin obj size = \u001b[1;36m6\u001b[0m\u001b[1m)\u001b[0m\n"
      ]
     },
     "metadata": {},
     "output_type": "display_data"
    },
    {
     "data": {
      "text/html": [
       "<pre style=\"white-space:pre;overflow-x:auto;line-height:normal;font-family:Menlo,'DejaVu Sans Mono',consolas,'Courier New',monospace\">category: terrain, # objects = <span style=\"color: #008080; text-decoration-color: #008080; font-weight: bold\">16</span>    ||    accepted: <span style=\"color: #008080; text-decoration-color: #008080; font-weight: bold\">47.3</span> %,  <span style=\"font-weight: bold\">(</span>min obj size = <span style=\"color: #008080; text-decoration-color: #008080; font-weight: bold\">6</span><span style=\"font-weight: bold\">)</span>\n",
       "</pre>\n"
      ],
      "text/plain": [
       "category: terrain, # objects = \u001b[1;36m16\u001b[0m    ||    accepted: \u001b[1;36m47.3\u001b[0m %,  \u001b[1m(\u001b[0mmin obj size = \u001b[1;36m6\u001b[0m\u001b[1m)\u001b[0m\n"
      ]
     },
     "metadata": {},
     "output_type": "display_data"
    },
    {
     "data": {
      "text/html": [
       "<pre style=\"white-space:pre;overflow-x:auto;line-height:normal;font-family:Menlo,'DejaVu Sans Mono',consolas,'Courier New',monospace\">category: transl, # objects = <span style=\"color: #008080; text-decoration-color: #008080; font-weight: bold\">0</span>    ||    accepted: <span style=\"color: #008080; text-decoration-color: #008080; font-weight: bold\">100.0</span> %,  <span style=\"font-weight: bold\">(</span>min obj size = <span style=\"color: #008080; text-decoration-color: #008080; font-weight: bold\">6</span><span style=\"font-weight: bold\">)</span>\n",
       "</pre>\n"
      ],
      "text/plain": [
       "category: transl, # objects = \u001b[1;36m0\u001b[0m    ||    accepted: \u001b[1;36m100.0\u001b[0m %,  \u001b[1m(\u001b[0mmin obj size = \u001b[1;36m6\u001b[0m\u001b[1m)\u001b[0m\n"
      ]
     },
     "metadata": {},
     "output_type": "display_data"
    },
    {
     "data": {
      "text/html": [
       "<pre style=\"white-space:pre;overflow-x:auto;line-height:normal;font-family:Menlo,'DejaVu Sans Mono',consolas,'Courier New',monospace\">category: transl, # objects = <span style=\"color: #008080; text-decoration-color: #008080; font-weight: bold\">2</span>    ||    accepted: <span style=\"color: #008080; text-decoration-color: #008080; font-weight: bold\">95.1</span> %,  <span style=\"font-weight: bold\">(</span>min obj size = <span style=\"color: #008080; text-decoration-color: #008080; font-weight: bold\">6</span><span style=\"font-weight: bold\">)</span>\n",
       "</pre>\n"
      ],
      "text/plain": [
       "category: transl, # objects = \u001b[1;36m2\u001b[0m    ||    accepted: \u001b[1;36m95.1\u001b[0m %,  \u001b[1m(\u001b[0mmin obj size = \u001b[1;36m6\u001b[0m\u001b[1m)\u001b[0m\n"
      ]
     },
     "metadata": {},
     "output_type": "display_data"
    }
   ],
   "source": [
    "for category, n_obj in combos:\n",
    "    kws['category'] = category\n",
    "    kws['n_obj'] = n_obj\n",
    "    of = OpticFlow(**kws).compute_coords()\n",
    "    _ = of.compute_flow()\n",
    "    accept = of.filter(min_obj_size)\n",
    "    \n",
    "    msg = f\"category: {category}, # objects = {n_obj}    ||    \"\n",
    "    msg += f\"accepted: {100 * accept.sum() / len(accept):0.1f}\"\n",
    "    msg += f\" %,  (min obj size = {min_obj_size})\"\n",
    "    print(msg)"
   ]
  },
  {
   "cell_type": "markdown",
   "id": "d5a29cbd",
   "metadata": {},
   "source": [
    "- Now change the ```min_n_obj``` to make it a bit relaxed. For instance, when ```n_obj > 2```, make it such that not all objects should be present (e.g., 7 out of 8 should suffice when ```n_obj=8```)."
   ]
  },
  {
   "cell_type": "code",
   "execution_count": 6,
   "id": "f1641180",
   "metadata": {},
   "outputs": [
    {
     "data": {
      "text/html": [
       "<pre style=\"white-space:pre;overflow-x:auto;line-height:normal;font-family:Menlo,'DejaVu Sans Mono',consolas,'Courier New',monospace\">category: fixate, # objects = <span style=\"color: #008080; text-decoration-color: #008080; font-weight: bold\">0</span>    ||    accepted: <span style=\"color: #008080; text-decoration-color: #008080; font-weight: bold\">100.0</span> %,  <span style=\"font-weight: bold\">(</span>min size = <span style=\"color: #008080; text-decoration-color: #008080; font-weight: bold\">6</span>, min n = <span style=\"color: #800080; text-decoration-color: #800080; font-style: italic\">None</span><span style=\"font-weight: bold\">)</span>\n",
       "</pre>\n"
      ],
      "text/plain": [
       "category: fixate, # objects = \u001b[1;36m0\u001b[0m    ||    accepted: \u001b[1;36m100.0\u001b[0m %,  \u001b[1m(\u001b[0mmin size = \u001b[1;36m6\u001b[0m, min n = \u001b[3;35mNone\u001b[0m\u001b[1m)\u001b[0m\n"
      ]
     },
     "metadata": {},
     "output_type": "display_data"
    },
    {
     "data": {
      "text/html": [
       "<pre style=\"white-space:pre;overflow-x:auto;line-height:normal;font-family:Menlo,'DejaVu Sans Mono',consolas,'Courier New',monospace\">category: fixate, # objects = <span style=\"color: #008080; text-decoration-color: #008080; font-weight: bold\">1</span>    ||    accepted: <span style=\"color: #008080; text-decoration-color: #008080; font-weight: bold\">97.7</span> %,  <span style=\"font-weight: bold\">(</span>min size = <span style=\"color: #008080; text-decoration-color: #008080; font-weight: bold\">6</span>, min n = <span style=\"color: #800080; text-decoration-color: #800080; font-style: italic\">None</span><span style=\"font-weight: bold\">)</span>\n",
       "</pre>\n"
      ],
      "text/plain": [
       "category: fixate, # objects = \u001b[1;36m1\u001b[0m    ||    accepted: \u001b[1;36m97.7\u001b[0m %,  \u001b[1m(\u001b[0mmin size = \u001b[1;36m6\u001b[0m, min n = \u001b[3;35mNone\u001b[0m\u001b[1m)\u001b[0m\n"
      ]
     },
     "metadata": {},
     "output_type": "display_data"
    },
    {
     "data": {
      "text/html": [
       "<pre style=\"white-space:pre;overflow-x:auto;line-height:normal;font-family:Menlo,'DejaVu Sans Mono',consolas,'Courier New',monospace\">category: fixate, # objects = <span style=\"color: #008080; text-decoration-color: #008080; font-weight: bold\">2</span>    ||    accepted: <span style=\"color: #008080; text-decoration-color: #008080; font-weight: bold\">95.1</span> %,  <span style=\"font-weight: bold\">(</span>min size = <span style=\"color: #008080; text-decoration-color: #008080; font-weight: bold\">6</span>, min n = <span style=\"color: #800080; text-decoration-color: #800080; font-style: italic\">None</span><span style=\"font-weight: bold\">)</span>\n",
       "</pre>\n"
      ],
      "text/plain": [
       "category: fixate, # objects = \u001b[1;36m2\u001b[0m    ||    accepted: \u001b[1;36m95.1\u001b[0m %,  \u001b[1m(\u001b[0mmin size = \u001b[1;36m6\u001b[0m, min n = \u001b[3;35mNone\u001b[0m\u001b[1m)\u001b[0m\n"
      ]
     },
     "metadata": {},
     "output_type": "display_data"
    },
    {
     "data": {
      "text/html": [
       "<pre style=\"white-space:pre;overflow-x:auto;line-height:normal;font-family:Menlo,'DejaVu Sans Mono',consolas,'Courier New',monospace\">category: fixate, # objects = <span style=\"color: #008080; text-decoration-color: #008080; font-weight: bold\">4</span>    ||    accepted: <span style=\"color: #008080; text-decoration-color: #008080; font-weight: bold\">99.5</span> %,  <span style=\"font-weight: bold\">(</span>min size = <span style=\"color: #008080; text-decoration-color: #008080; font-weight: bold\">6</span>, min n = <span style=\"color: #008080; text-decoration-color: #008080; font-weight: bold\">3</span><span style=\"font-weight: bold\">)</span>\n",
       "</pre>\n"
      ],
      "text/plain": [
       "category: fixate, # objects = \u001b[1;36m4\u001b[0m    ||    accepted: \u001b[1;36m99.5\u001b[0m %,  \u001b[1m(\u001b[0mmin size = \u001b[1;36m6\u001b[0m, min n = \u001b[1;36m3\u001b[0m\u001b[1m)\u001b[0m\n"
      ]
     },
     "metadata": {},
     "output_type": "display_data"
    },
    {
     "data": {
      "text/html": [
       "<pre style=\"white-space:pre;overflow-x:auto;line-height:normal;font-family:Menlo,'DejaVu Sans Mono',consolas,'Courier New',monospace\">category: fixate, # objects = <span style=\"color: #008080; text-decoration-color: #008080; font-weight: bold\">8</span>    ||    accepted: <span style=\"color: #008080; text-decoration-color: #008080; font-weight: bold\">97.6</span> %,  <span style=\"font-weight: bold\">(</span>min size = <span style=\"color: #008080; text-decoration-color: #008080; font-weight: bold\">6</span>, min n = <span style=\"color: #008080; text-decoration-color: #008080; font-weight: bold\">7</span><span style=\"font-weight: bold\">)</span>\n",
       "</pre>\n"
      ],
      "text/plain": [
       "category: fixate, # objects = \u001b[1;36m8\u001b[0m    ||    accepted: \u001b[1;36m97.6\u001b[0m %,  \u001b[1m(\u001b[0mmin size = \u001b[1;36m6\u001b[0m, min n = \u001b[1;36m7\u001b[0m\u001b[1m)\u001b[0m\n"
      ]
     },
     "metadata": {},
     "output_type": "display_data"
    },
    {
     "data": {
      "text/html": [
       "<pre style=\"white-space:pre;overflow-x:auto;line-height:normal;font-family:Menlo,'DejaVu Sans Mono',consolas,'Courier New',monospace\">category: obj, # objects = <span style=\"color: #008080; text-decoration-color: #008080; font-weight: bold\">1</span>    ||    accepted: <span style=\"color: #008080; text-decoration-color: #008080; font-weight: bold\">97.7</span> %,  <span style=\"font-weight: bold\">(</span>min size = <span style=\"color: #008080; text-decoration-color: #008080; font-weight: bold\">6</span>, min n = <span style=\"color: #800080; text-decoration-color: #800080; font-style: italic\">None</span><span style=\"font-weight: bold\">)</span>\n",
       "</pre>\n"
      ],
      "text/plain": [
       "category: obj, # objects = \u001b[1;36m1\u001b[0m    ||    accepted: \u001b[1;36m97.7\u001b[0m %,  \u001b[1m(\u001b[0mmin size = \u001b[1;36m6\u001b[0m, min n = \u001b[3;35mNone\u001b[0m\u001b[1m)\u001b[0m\n"
      ]
     },
     "metadata": {},
     "output_type": "display_data"
    },
    {
     "data": {
      "text/html": [
       "<pre style=\"white-space:pre;overflow-x:auto;line-height:normal;font-family:Menlo,'DejaVu Sans Mono',consolas,'Courier New',monospace\">category: obj, # objects = <span style=\"color: #008080; text-decoration-color: #008080; font-weight: bold\">2</span>    ||    accepted: <span style=\"color: #008080; text-decoration-color: #008080; font-weight: bold\">95.1</span> %,  <span style=\"font-weight: bold\">(</span>min size = <span style=\"color: #008080; text-decoration-color: #008080; font-weight: bold\">6</span>, min n = <span style=\"color: #800080; text-decoration-color: #800080; font-style: italic\">None</span><span style=\"font-weight: bold\">)</span>\n",
       "</pre>\n"
      ],
      "text/plain": [
       "category: obj, # objects = \u001b[1;36m2\u001b[0m    ||    accepted: \u001b[1;36m95.1\u001b[0m %,  \u001b[1m(\u001b[0mmin size = \u001b[1;36m6\u001b[0m, min n = \u001b[3;35mNone\u001b[0m\u001b[1m)\u001b[0m\n"
      ]
     },
     "metadata": {},
     "output_type": "display_data"
    },
    {
     "data": {
      "text/html": [
       "<pre style=\"white-space:pre;overflow-x:auto;line-height:normal;font-family:Menlo,'DejaVu Sans Mono',consolas,'Courier New',monospace\">category: obj, # objects = <span style=\"color: #008080; text-decoration-color: #008080; font-weight: bold\">4</span>    ||    accepted: <span style=\"color: #008080; text-decoration-color: #008080; font-weight: bold\">99.5</span> %,  <span style=\"font-weight: bold\">(</span>min size = <span style=\"color: #008080; text-decoration-color: #008080; font-weight: bold\">6</span>, min n = <span style=\"color: #008080; text-decoration-color: #008080; font-weight: bold\">3</span><span style=\"font-weight: bold\">)</span>\n",
       "</pre>\n"
      ],
      "text/plain": [
       "category: obj, # objects = \u001b[1;36m4\u001b[0m    ||    accepted: \u001b[1;36m99.5\u001b[0m %,  \u001b[1m(\u001b[0mmin size = \u001b[1;36m6\u001b[0m, min n = \u001b[1;36m3\u001b[0m\u001b[1m)\u001b[0m\n"
      ]
     },
     "metadata": {},
     "output_type": "display_data"
    },
    {
     "data": {
      "text/html": [
       "<pre style=\"white-space:pre;overflow-x:auto;line-height:normal;font-family:Menlo,'DejaVu Sans Mono',consolas,'Courier New',monospace\">category: obj, # objects = <span style=\"color: #008080; text-decoration-color: #008080; font-weight: bold\">8</span>    ||    accepted: <span style=\"color: #008080; text-decoration-color: #008080; font-weight: bold\">97.6</span> %,  <span style=\"font-weight: bold\">(</span>min size = <span style=\"color: #008080; text-decoration-color: #008080; font-weight: bold\">6</span>, min n = <span style=\"color: #008080; text-decoration-color: #008080; font-weight: bold\">7</span><span style=\"font-weight: bold\">)</span>\n",
       "</pre>\n"
      ],
      "text/plain": [
       "category: obj, # objects = \u001b[1;36m8\u001b[0m    ||    accepted: \u001b[1;36m97.6\u001b[0m %,  \u001b[1m(\u001b[0mmin size = \u001b[1;36m6\u001b[0m, min n = \u001b[1;36m7\u001b[0m\u001b[1m)\u001b[0m\n"
      ]
     },
     "metadata": {},
     "output_type": "display_data"
    },
    {
     "data": {
      "text/html": [
       "<pre style=\"white-space:pre;overflow-x:auto;line-height:normal;font-family:Menlo,'DejaVu Sans Mono',consolas,'Courier New',monospace\">category: terrain, # objects = <span style=\"color: #008080; text-decoration-color: #008080; font-weight: bold\">4</span>    ||    accepted: <span style=\"color: #008080; text-decoration-color: #008080; font-weight: bold\">98.2</span> %,  <span style=\"font-weight: bold\">(</span>min size = <span style=\"color: #008080; text-decoration-color: #008080; font-weight: bold\">6</span>, min n = <span style=\"color: #008080; text-decoration-color: #008080; font-weight: bold\">3</span><span style=\"font-weight: bold\">)</span>\n",
       "</pre>\n"
      ],
      "text/plain": [
       "category: terrain, # objects = \u001b[1;36m4\u001b[0m    ||    accepted: \u001b[1;36m98.2\u001b[0m %,  \u001b[1m(\u001b[0mmin size = \u001b[1;36m6\u001b[0m, min n = \u001b[1;36m3\u001b[0m\u001b[1m)\u001b[0m\n"
      ]
     },
     "metadata": {},
     "output_type": "display_data"
    },
    {
     "data": {
      "text/html": [
       "<pre style=\"white-space:pre;overflow-x:auto;line-height:normal;font-family:Menlo,'DejaVu Sans Mono',consolas,'Courier New',monospace\">category: terrain, # objects = <span style=\"color: #008080; text-decoration-color: #008080; font-weight: bold\">8</span>    ||    accepted: <span style=\"color: #008080; text-decoration-color: #008080; font-weight: bold\">92.2</span> %,  <span style=\"font-weight: bold\">(</span>min size = <span style=\"color: #008080; text-decoration-color: #008080; font-weight: bold\">6</span>, min n = <span style=\"color: #008080; text-decoration-color: #008080; font-weight: bold\">7</span><span style=\"font-weight: bold\">)</span>\n",
       "</pre>\n"
      ],
      "text/plain": [
       "category: terrain, # objects = \u001b[1;36m8\u001b[0m    ||    accepted: \u001b[1;36m92.2\u001b[0m %,  \u001b[1m(\u001b[0mmin size = \u001b[1;36m6\u001b[0m, min n = \u001b[1;36m7\u001b[0m\u001b[1m)\u001b[0m\n"
      ]
     },
     "metadata": {},
     "output_type": "display_data"
    },
    {
     "data": {
      "text/html": [
       "<pre style=\"white-space:pre;overflow-x:auto;line-height:normal;font-family:Menlo,'DejaVu Sans Mono',consolas,'Courier New',monospace\">category: terrain, # objects = <span style=\"color: #008080; text-decoration-color: #008080; font-weight: bold\">16</span>    ||    accepted: <span style=\"color: #008080; text-decoration-color: #008080; font-weight: bold\">92.1</span> %,  <span style=\"font-weight: bold\">(</span>min size = <span style=\"color: #008080; text-decoration-color: #008080; font-weight: bold\">6</span>, min n = <span style=\"color: #008080; text-decoration-color: #008080; font-weight: bold\">14</span><span style=\"font-weight: bold\">)</span>\n",
       "</pre>\n"
      ],
      "text/plain": [
       "category: terrain, # objects = \u001b[1;36m16\u001b[0m    ||    accepted: \u001b[1;36m92.1\u001b[0m %,  \u001b[1m(\u001b[0mmin size = \u001b[1;36m6\u001b[0m, min n = \u001b[1;36m14\u001b[0m\u001b[1m)\u001b[0m\n"
      ]
     },
     "metadata": {},
     "output_type": "display_data"
    },
    {
     "data": {
      "text/html": [
       "<pre style=\"white-space:pre;overflow-x:auto;line-height:normal;font-family:Menlo,'DejaVu Sans Mono',consolas,'Courier New',monospace\">category: transl, # objects = <span style=\"color: #008080; text-decoration-color: #008080; font-weight: bold\">0</span>    ||    accepted: <span style=\"color: #008080; text-decoration-color: #008080; font-weight: bold\">100.0</span> %,  <span style=\"font-weight: bold\">(</span>min size = <span style=\"color: #008080; text-decoration-color: #008080; font-weight: bold\">6</span>, min n = <span style=\"color: #800080; text-decoration-color: #800080; font-style: italic\">None</span><span style=\"font-weight: bold\">)</span>\n",
       "</pre>\n"
      ],
      "text/plain": [
       "category: transl, # objects = \u001b[1;36m0\u001b[0m    ||    accepted: \u001b[1;36m100.0\u001b[0m %,  \u001b[1m(\u001b[0mmin size = \u001b[1;36m6\u001b[0m, min n = \u001b[3;35mNone\u001b[0m\u001b[1m)\u001b[0m\n"
      ]
     },
     "metadata": {},
     "output_type": "display_data"
    },
    {
     "data": {
      "text/html": [
       "<pre style=\"white-space:pre;overflow-x:auto;line-height:normal;font-family:Menlo,'DejaVu Sans Mono',consolas,'Courier New',monospace\">category: transl, # objects = <span style=\"color: #008080; text-decoration-color: #008080; font-weight: bold\">2</span>    ||    accepted: <span style=\"color: #008080; text-decoration-color: #008080; font-weight: bold\">95.1</span> %,  <span style=\"font-weight: bold\">(</span>min size = <span style=\"color: #008080; text-decoration-color: #008080; font-weight: bold\">6</span>, min n = <span style=\"color: #800080; text-decoration-color: #800080; font-style: italic\">None</span><span style=\"font-weight: bold\">)</span>\n",
       "</pre>\n"
      ],
      "text/plain": [
       "category: transl, # objects = \u001b[1;36m2\u001b[0m    ||    accepted: \u001b[1;36m95.1\u001b[0m %,  \u001b[1m(\u001b[0mmin size = \u001b[1;36m6\u001b[0m, min n = \u001b[3;35mNone\u001b[0m\u001b[1m)\u001b[0m\n"
      ]
     },
     "metadata": {},
     "output_type": "display_data"
    }
   ],
   "source": [
    "accept_n = {\n",
    "    0: None,\n",
    "    1: None,\n",
    "    2: None,\n",
    "    4: 3,\n",
    "    8: 7,\n",
    "    16: 14,\n",
    "}\n",
    "\n",
    "for category, n_obj in combos:\n",
    "    kws['category'] = category\n",
    "    kws['n_obj'] = n_obj\n",
    "    of = OpticFlow(**kws).compute_coords()\n",
    "    _ = of.compute_flow()\n",
    "\n",
    "    min_n_obj = accept_n[n_obj]\n",
    "    accept = of.filter(\n",
    "        min_obj_size=min_obj_size,\n",
    "        min_n_obj=min_n_obj,\n",
    "    )\n",
    "\n",
    "    msg = f\"category: {category}, # objects = {n_obj}    ||    \"\n",
    "    msg += f\"accepted: {100 * accept.sum() / len(accept):0.1f}\"\n",
    "    msg += f\" %,  (min size = {min_obj_size}, min n = {min_n_obj})\"\n",
    "    print(msg)"
   ]
  },
  {
   "cell_type": "code",
   "execution_count": null,
   "id": "6cb89834",
   "metadata": {},
   "outputs": [],
   "source": []
  },
  {
   "cell_type": "markdown",
   "id": "441577d7",
   "metadata": {},
   "source": [
    "## category = ```terrain```, n_obj=16"
   ]
  },
  {
   "cell_type": "code",
   "execution_count": 7,
   "id": "261d2610",
   "metadata": {},
   "outputs": [],
   "source": [
    "kws['category'] = 'terrain'\n",
    "kws['n_obj'] = 16\n",
    "of = OpticFlow(**kws).compute_coords()\n",
    "_ = of.compute_flow()"
   ]
  },
  {
   "cell_type": "code",
   "execution_count": 8,
   "id": "1b8bdc58",
   "metadata": {},
   "outputs": [],
   "source": [
    "min_obj_size = 6\n",
    "\n",
    "accepted = [\n",
    "    obj.size > min_obj_size / of.dim**2\n",
    "    for obj in of.objects.values()\n",
    "]\n",
    "num_present = np.stack(accepted).sum(0)"
   ]
  },
  {
   "cell_type": "code",
   "execution_count": 9,
   "id": "033ba693",
   "metadata": {},
   "outputs": [
    {
     "data": {
      "image/png": "[encoded data removed]",
      "text/plain": [
       "<Figure size 432x288 with 1 Axes>"
      ]
     },
     "metadata": {},
     "output_type": "display_data"
    }
   ],
   "source": [
    "sns.histplot(num_present);"
   ]
  },
  {
   "cell_type": "code",
   "execution_count": 10,
   "id": "f3462d8e",
   "metadata": {},
   "outputs": [
    {
     "data": {
      "text/html": [
       "<pre style=\"white-space:pre;overflow-x:auto;line-height:normal;font-family:Menlo,'DejaVu Sans Mono',consolas,'Courier New',monospace\">min n = <span style=\"color: #008080; text-decoration-color: #008080; font-weight: bold\">16</span>,     accepted: <span style=\"color: #008080; text-decoration-color: #008080; font-weight: bold\">47.3</span> %\n",
       "</pre>\n"
      ],
      "text/plain": [
       "min n = \u001b[1;36m16\u001b[0m,     accepted: \u001b[1;36m47.3\u001b[0m %\n"
      ]
     },
     "metadata": {},
     "output_type": "display_data"
    },
    {
     "data": {
      "text/html": [
       "<pre style=\"white-space:pre;overflow-x:auto;line-height:normal;font-family:Menlo,'DejaVu Sans Mono',consolas,'Courier New',monospace\">min n = <span style=\"color: #008080; text-decoration-color: #008080; font-weight: bold\">15</span>,     accepted: <span style=\"color: #008080; text-decoration-color: #008080; font-weight: bold\">79.2</span> %\n",
       "</pre>\n"
      ],
      "text/plain": [
       "min n = \u001b[1;36m15\u001b[0m,     accepted: \u001b[1;36m79.2\u001b[0m %\n"
      ]
     },
     "metadata": {},
     "output_type": "display_data"
    },
    {
     "data": {
      "text/html": [
       "<pre style=\"white-space:pre;overflow-x:auto;line-height:normal;font-family:Menlo,'DejaVu Sans Mono',consolas,'Courier New',monospace\">min n = <span style=\"color: #008080; text-decoration-color: #008080; font-weight: bold\">14</span>,     accepted: <span style=\"color: #008080; text-decoration-color: #008080; font-weight: bold\">92.1</span> %\n",
       "</pre>\n"
      ],
      "text/plain": [
       "min n = \u001b[1;36m14\u001b[0m,     accepted: \u001b[1;36m92.1\u001b[0m %\n"
      ]
     },
     "metadata": {},
     "output_type": "display_data"
    },
    {
     "data": {
      "text/html": [
       "<pre style=\"white-space:pre;overflow-x:auto;line-height:normal;font-family:Menlo,'DejaVu Sans Mono',consolas,'Courier New',monospace\">min n = <span style=\"color: #008080; text-decoration-color: #008080; font-weight: bold\">13</span>,     accepted: <span style=\"color: #008080; text-decoration-color: #008080; font-weight: bold\">96.4</span> %\n",
       "</pre>\n"
      ],
      "text/plain": [
       "min n = \u001b[1;36m13\u001b[0m,     accepted: \u001b[1;36m96.4\u001b[0m %\n"
      ]
     },
     "metadata": {},
     "output_type": "display_data"
    }
   ],
   "source": [
    "for min_n in [16, 15, 14, 13]:\n",
    "    print(f\"min n = {min_n},\\taccepted: {100 * (num_present >= min_n).sum() / of.n:0.1f} %\")"
   ]
  },
  {
   "cell_type": "code",
   "execution_count": null,
   "id": "296ceb79",
   "metadata": {},
   "outputs": [],
   "source": []
  },
  {
   "cell_type": "code",
   "execution_count": null,
   "id": "6a76948d",
   "metadata": {},
   "outputs": [],
   "source": []
  },
  {
   "cell_type": "code",
   "execution_count": null,
   "id": "ebddde57",
   "metadata": {},
   "outputs": [],
   "source": []
  }
 ],
 "metadata": {
  "kernelspec": {
   "display_name": "Python 3 (ipykernel)",
   "language": "python",
   "name": "python3"
  },
  "language_info": {
   "codemirror_mode": {
    "name": "ipython",
    "version": 3
   },
   "file_extension": ".py",
   "mimetype": "text/x-python",
   "name": "python",
   "nbconvert_exporter": "python",
   "pygments_lexer": "ipython3",
   "version": "3.8.5"
  }
 },
 "nbformat": 4,
 "nbformat_minor": 5
}
