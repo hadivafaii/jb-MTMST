{
 "cells": [
  {
   "cell_type": "markdown",
   "id": "6c0cb91c",
   "metadata": {},
   "source": [
    "# (05) Align (within & across) -- perm\n",
    "\n",
    "**Motivation**: Alignment scores (using permutation importance) within and across model classes. Use active latents only. <br>"
   ]
  },
  {
   "cell_type": "code",
   "execution_count": 1,
   "id": "b12d2b0a",
   "metadata": {},
   "outputs": [],
   "source": [
    "# HIDE CODE\n",
    "\n",
    "\n",
    "import os, sys\n",
    "from IPython.display import display\n",
    "\n",
    "# tmp & extras dir\n",
    "git_dir = os.path.join(os.environ['HOME'], 'Dropbox/git')\n",
    "extras_dir = os.path.join(git_dir, 'jb-MTMST/_extras')\n",
    "fig_base_dir = os.path.join(git_dir, 'jb-MTMST/figs')\n",
    "tmp_dir = os.path.join(git_dir, 'jb-MTMST/tmp')\n",
    "\n",
    "# Code path\n",
    "sys.path.insert(0, '/home/hadi/Documents/MTMST/code')\n",
    "from vae.train_vae import TrainerVAE, ConfigTrainVAE\n",
    "from vae.vae2d import VAE, ConfigVAE\n",
    "from figures.fighelper import *\n",
    "from analysis.glm import *\n",
    "\n",
    "\n",
    "# warnings, tqdm, & style\n",
    "warnings.filterwarnings('ignore', category=DeprecationWarning)\n",
    "from rich.jupyter import print\n",
    "%matplotlib inline\n",
    "set_style()"
   ]
  },
  {
   "cell_type": "markdown",
   "id": "7597b19b",
   "metadata": {},
   "source": [
    "## Load, xtract z"
   ]
  },
  {
   "cell_type": "code",
   "execution_count": 2,
   "id": "62d34de9",
   "metadata": {},
   "outputs": [
    {
     "name": "stdout",
     "output_type": "stream",
     "text": [
      "CPU times: user 3min 21s, sys: 8.59 s, total: 3min 29s\n",
      "Wall time: 2min 39s\n"
     ]
    }
   ],
   "source": [
    "%%time\n",
    "\n",
    "model_name = 'fixate1_k-32_z-20x[3,6,12]_enc(1x3)-dec(1x2)-pre(1x3)-post(1x3)'\n",
    "fit_names = {\n",
    "    1: 's1_ep160-b600-lr(0.002)_beta(1:0x0.5)_lamb(0.0001)_gr(250.0)_(2023_08_03,22:56)',\n",
    "    2: 's2_ep160-b600-lr(0.002)_beta(1:0x0.5)_lamb(0.0001)_gr(250.0)_(2023_08_03,22:56)',\n",
    "    3: 's3_ep160-b600-lr(0.002)_beta(1:0x0.5)_lamb(0.0001)_gr(250.0)_(2023_08_03,22:56)',\n",
    "}\n",
    "\n",
    "thres = 0.01\n",
    "active = {}\n",
    "z_vld, z_tst = {}, {}\n",
    "\n",
    "for seed, fit_name in fit_names.items():\n",
    "    tr, meta = load_model(\n",
    "        model_name=model_name,\n",
    "        fit_name=fit_name,\n",
    "        device='cuda:1',\n",
    "    )\n",
    "    assert meta['checkpoint'] == 160\n",
    "    loss = tr.forward('vld', False)[1]\n",
    "    active[seed] = loss['kl_diag'] > thres\n",
    "    z_vld[seed] = tr.forward('vld', True)[0]['z']\n",
    "    z_tst[seed] = tr.forward('tst', True)[0]['z']"
   ]
  },
  {
   "cell_type": "markdown",
   "id": "c7fdc30a",
   "metadata": {},
   "source": [
    "## Analyze"
   ]
  },
  {
   "cell_type": "code",
   "execution_count": 3,
   "id": "d3478673",
   "metadata": {},
   "outputs": [],
   "source": [
    "src = 1\n",
    "tgt = 2\n",
    "x_vld, y_vld = z_vld[src], z_vld[tgt]\n",
    "x_tst, y_tst = z_tst[src], z_tst[tgt]\n",
    "active_ids = np.where(active[tgt])[0]"
   ]
  },
  {
   "cell_type": "code",
   "execution_count": 10,
   "id": "6d905539",
   "metadata": {},
   "outputs": [
    {
     "name": "stderr",
     "output_type": "stream",
     "text": [
      "                        \r"
     ]
    }
   ],
   "source": [
    "shape = (len(active_ids), x_vld.shape[1])\n",
    "importances_mu = np.zeros(shape)\n",
    "importances_sd = np.zeros(shape)\n",
    "\n",
    "for i, latent_id in tqdm(enumerate(active_ids), total=len(active_ids)):\n",
    "    _lr = sk_linear.LinearRegression().fit(\n",
    "        x_vld, y_vld[:, latent_id])\n",
    "    result = sk_inspect.permutation_importance(\n",
    "        estimator=_lr,\n",
    "        X=x_tst,\n",
    "        y=y_tst[:, latent_id],\n",
    "        n_repeats=5,\n",
    "        random_state=0,\n",
    "    )\n",
    "    importances_mu[i] = result.importances_mean\n",
    "    importances_sd[i] = result.importances_std"
   ]
  },
  {
   "cell_type": "code",
   "execution_count": null,
   "id": "8fd5a1c7",
   "metadata": {},
   "outputs": [],
   "source": []
  },
  {
   "cell_type": "code",
   "execution_count": 22,
   "id": "2e272c63",
   "metadata": {},
   "outputs": [],
   "source": [
    "w = np.maximum(0, importances_mu)\n",
    "w /= w.sum(1, keepdims=True)\n",
    "\n",
    "a = 1 - entropy_normalized(w, axis=1)"
   ]
  },
  {
   "cell_type": "code",
   "execution_count": 25,
   "id": "ece82255",
   "metadata": {},
   "outputs": [
    {
     "data": {
      "text/plain": [
       "<Axes: ylabel='Count'>"
      ]
     },
     "execution_count": 25,
     "metadata": {},
     "output_type": "execute_result"
    },
    {
     "data": {
      "image/png": "[encoded data removed]",
      "text/plain": [
       "<Figure size 500x320 with 1 Axes>"
      ]
     },
     "metadata": {},
     "output_type": "display_data"
    }
   ],
   "source": [
    "sns.histplot(a, bins=np.linspace(0, 1, 11))"
   ]
  },
  {
   "cell_type": "code",
   "execution_count": 27,
   "id": "6247f579",
   "metadata": {},
   "outputs": [
    {
     "data": {
      "text/plain": [
       "(0.4392645200823514, 0.4270666466989281)"
      ]
     },
     "execution_count": 27,
     "metadata": {},
     "output_type": "execute_result"
    }
   ],
   "source": [
    "np.mean(a), np.median(a)"
   ]
  },
  {
   "cell_type": "code",
   "execution_count": null,
   "id": "85c93f20",
   "metadata": {},
   "outputs": [],
   "source": []
  },
  {
   "cell_type": "code",
   "execution_count": 28,
   "id": "296c7a10",
   "metadata": {},
   "outputs": [],
   "source": [
    "lr = sk_linear.LinearRegression().fit(x_vld, y_vld)\n",
    "pred = lr.predict(x_tst)"
   ]
  },
  {
   "cell_type": "code",
   "execution_count": 30,
   "id": "13908b5d",
   "metadata": {},
   "outputs": [],
   "source": [
    "r = 1 - sp_dist.cdist(\n",
    "    XA=pred.T,\n",
    "    XB=y_tst.T,\n",
    "    metric='correlation',\n",
    ")\n",
    "r2 = sk_metric.r2_score(\n",
    "    y_pred=pred,\n",
    "    y_true=y_tst,\n",
    "    multioutput='raw_values',\n",
    ")"
   ]
  },
  {
   "cell_type": "code",
   "execution_count": 31,
   "id": "233b7fda",
   "metadata": {},
   "outputs": [
    {
     "data": {
      "text/plain": [
       "((420, 420), (420,))"
      ]
     },
     "execution_count": 31,
     "metadata": {},
     "output_type": "execute_result"
    }
   ],
   "source": [
    "r.shape, r2.shape"
   ]
  },
  {
   "cell_type": "code",
   "execution_count": 32,
   "id": "07375ace",
   "metadata": {},
   "outputs": [
    {
     "data": {
      "text/plain": [
       "0.9087022928245043"
      ]
     },
     "execution_count": 32,
     "metadata": {},
     "output_type": "execute_result"
    }
   ],
   "source": [
    "r2.mean()"
   ]
  },
  {
   "cell_type": "code",
   "execution_count": 33,
   "id": "b8595092",
   "metadata": {},
   "outputs": [
    {
     "data": {
      "text/plain": [
       "<Axes: ylabel='Count'>"
      ]
     },
     "execution_count": 33,
     "metadata": {},
     "output_type": "execute_result"
    },
    {
     "data": {
      "image/png": "[encoded data removed]",
      "text/plain": [
       "<Figure size 500x320 with 1 Axes>"
      ]
     },
     "metadata": {},
     "output_type": "display_data"
    }
   ],
   "source": [
    "sns.histplot(r2)"
   ]
  },
  {
   "cell_type": "code",
   "execution_count": null,
   "id": "5c7f5db1",
   "metadata": {},
   "outputs": [],
   "source": []
  },
  {
   "cell_type": "code",
   "execution_count": null,
   "id": "c945ca22",
   "metadata": {},
   "outputs": [],
   "source": []
  },
  {
   "cell_type": "code",
   "execution_count": null,
   "id": "70ec431d",
   "metadata": {},
   "outputs": [],
   "source": []
  },
  {
   "cell_type": "code",
   "execution_count": null,
   "id": "a6acecd2",
   "metadata": {},
   "outputs": [],
   "source": []
  },
  {
   "cell_type": "code",
   "execution_count": null,
   "id": "744a4fe8",
   "metadata": {},
   "outputs": [],
   "source": []
  },
  {
   "cell_type": "code",
   "execution_count": null,
   "id": "90ebeb08",
   "metadata": {},
   "outputs": [],
   "source": []
  },
  {
   "cell_type": "code",
   "execution_count": null,
   "id": "c9dc35e3",
   "metadata": {},
   "outputs": [],
   "source": []
  },
  {
   "cell_type": "code",
   "execution_count": null,
   "id": "6485ea66",
   "metadata": {},
   "outputs": [],
   "source": []
  }
 ],
 "metadata": {
  "kernelspec": {
   "display_name": "Python 3 (ipykernel)",
   "language": "python",
   "name": "python3"
  },
  "language_info": {
   "codemirror_mode": {
    "name": "ipython",
    "version": 3
   },
   "file_extension": ".py",
   "mimetype": "text/x-python",
   "name": "python",
   "nbconvert_exporter": "python",
   "pygments_lexer": "ipython3",
   "version": "3.8.5"
  }
 },
 "nbformat": 4,
 "nbformat_minor": 5
}
