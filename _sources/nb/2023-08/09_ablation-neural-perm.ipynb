{
 "cells": [
  {
   "cell_type": "markdown",
   "id": "6c0cb91c",
   "metadata": {},
   "source": [
    "# (09) Ablation -- neural\n",
    "\n",
    "**Motivation**: Lesion bottom-up and top-down pathways, test how much performance drops. <br>"
   ]
  },
  {
   "cell_type": "code",
   "execution_count": 1,
   "id": "083406a1",
   "metadata": {},
   "outputs": [],
   "source": [
    "# HIDE CODE\n",
    "\n",
    "\n",
    "import os, sys\n",
    "from IPython.display import display\n",
    "\n",
    "# tmp & extras dir\n",
    "git_dir = os.path.join(os.environ['HOME'], 'Dropbox/git')\n",
    "extras_dir = os.path.join(git_dir, 'jb-MTMST/_extras')\n",
    "fig_base_dir = os.path.join(git_dir, 'jb-MTMST/figs')\n",
    "tmp_dir = os.path.join(git_dir, 'jb-MTMST/tmp')\n",
    "\n",
    "# Code path\n",
    "sys.path.insert(0, '/home/hadi/Documents/MTMST/code')\n",
    "from vae.train_vae import TrainerVAE, ConfigTrainVAE\n",
    "from vae.vae2d import VAE, ConfigVAE\n",
    "from figures.fighelper import *\n",
    "from analysis.glm import *\n",
    "\n",
    "\n",
    "# warnings, tqdm, & style\n",
    "warnings.filterwarnings('ignore', category=DeprecationWarning)\n",
    "from rich.jupyter import print\n",
    "%matplotlib inline\n",
    "set_style()"
   ]
  },
  {
   "cell_type": "markdown",
   "id": "06f1133d",
   "metadata": {},
   "source": [
    "## Fit perm scores\n",
    "\n",
    "Code adapted from ```09_neural-analysis-KABA``` notebook."
   ]
  },
  {
   "cell_type": "code",
   "execution_count": 2,
   "id": "68776a30",
   "metadata": {},
   "outputs": [
    {
     "data": {
      "text/plain": [
       "66"
      ]
     },
     "execution_count": 2,
     "metadata": {},
     "output_type": "execute_result"
    }
   ],
   "source": [
    "path = results_dir()\n",
    "path = pathlib.Path(path)\n",
    "\n",
    "trainer_paths = set()\n",
    "pat = '**/*fixate1*/**/Trainer'\n",
    "for p in path.rglob(pat):\n",
    "    if p.is_dir():\n",
    "        trainer_paths.add(str(p))\n",
    "trainer_paths = sorted(trainer_paths)\n",
    "len(trainer_paths)"
   ]
  },
  {
   "cell_type": "code",
   "execution_count": null,
   "id": "ea92299c",
   "metadata": {},
   "outputs": [],
   "source": []
  },
  {
   "cell_type": "code",
   "execution_count": 3,
   "id": "8cd89581",
   "metadata": {},
   "outputs": [
    {
     "data": {
      "text/plain": [
       "['/home/hadi/Documents/MTMST/results/Ridge/fixate1_nf-420_beta-0.15_(2023_08_08,03:01)/Trainer',\n",
       " '/home/hadi/Documents/MTMST/results/Ridge/fixate1_nf-420_beta-0.15_lesion-dec-2_(2023_08_08,00:38)/Trainer',\n",
       " '/home/hadi/Documents/MTMST/results/Ridge/fixate1_nf-420_beta-0.15_lesion-dec-4_(2023_08_08,01:26)/Trainer',\n",
       " '/home/hadi/Documents/MTMST/results/Ridge/fixate1_nf-420_beta-0.15_lesion-dec-8_(2023_08_08,02:13)/Trainer',\n",
       " '/home/hadi/Documents/MTMST/results/Ridge/fixate1_nf-420_beta-0.15_lesion-enc-2_(2023_08_07,22:05)/Trainer',\n",
       " '/home/hadi/Documents/MTMST/results/Ridge/fixate1_nf-420_beta-0.15_lesion-enc-4_(2023_08_07,23:00)/Trainer',\n",
       " '/home/hadi/Documents/MTMST/results/Ridge/fixate1_nf-420_beta-0.15_lesion-enc-8_(2023_08_07,23:48)/Trainer',\n",
       " '/home/hadi/Documents/MTMST/results/Ridge/fixate1_nf-420_beta-0.5_(2023_08_08,15:39)/Trainer',\n",
       " '/home/hadi/Documents/MTMST/results/Ridge/fixate1_nf-420_beta-0.5_lesion-dec-2_(2023_08_08,12:30)/Trainer',\n",
       " '/home/hadi/Documents/MTMST/results/Ridge/fixate1_nf-420_beta-0.5_lesion-dec-4_(2023_08_08,13:32)/Trainer',\n",
       " '/home/hadi/Documents/MTMST/results/Ridge/fixate1_nf-420_beta-0.5_lesion-dec-8_(2023_08_08,14:35)/Trainer',\n",
       " '/home/hadi/Documents/MTMST/results/Ridge/fixate1_nf-420_beta-0.5_lesion-enc-2_(2023_08_08,08:07)/Trainer',\n",
       " '/home/hadi/Documents/MTMST/results/Ridge/fixate1_nf-420_beta-0.5_lesion-enc-4_(2023_08_08,09:09)/Trainer',\n",
       " '/home/hadi/Documents/MTMST/results/Ridge/fixate1_nf-420_beta-0.5_lesion-enc-8_(2023_08_08,11:24)/Trainer']"
      ]
     },
     "execution_count": 3,
     "metadata": {},
     "output_type": "execute_result"
    }
   ],
   "source": [
    "selected_fits = [\n",
    "    s for s in trainer_paths if\n",
    "    int(s.split('(')[1].split(')')[0].split('_')[1]) == 8\n",
    "]\n",
    "selected_fits"
   ]
  },
  {
   "cell_type": "code",
   "execution_count": null,
   "id": "53f43bb5",
   "metadata": {},
   "outputs": [],
   "source": []
  },
  {
   "cell_type": "code",
   "execution_count": 4,
   "id": "75d37c00",
   "metadata": {},
   "outputs": [
    {
     "name": "stderr",
     "output_type": "stream",
     "text": [
      "fixate1_nf-420_beta-0.5_(2023_08_08,15:39):   0%|        | 0/14 [00:00<?, ?it/s]/home/hadi/Documents/MTMST/code/analysis/helper.py:130: RuntimeWarning: invalid value encountered in true_divide\n",
      "  return signal_power / response_power\n"
     ]
    },
    {
     "data": {
      "text/html": [
       "<pre style=\"white-space:pre;overflow-x:auto;line-height:normal;font-family:Menlo,'DejaVu Sans Mono',consolas,'Courier New',monospace\"><span style=\"font-weight: bold\">[</span>PROGRESS<span style=\"font-weight: bold\">]</span> <span style=\"color: #008000; text-decoration-color: #008000\">'fixate1_nf-420_beta-0.5_(2023_08_08,15:39).npy'</span> saved at\n",
       "<span style=\"color: #800080; text-decoration-color: #800080\">/home/hadi/Dropbox/git/jb-MTMST/tmp/</span><span style=\"color: #ff00ff; text-decoration-color: #ff00ff\">neural_analysis</span>\n",
       "</pre>\n"
      ],
      "text/plain": [
       "\u001b[1m[\u001b[0mPROGRESS\u001b[1m]\u001b[0m \u001b[32m'fixate1_nf-420_beta-0.5_\u001b[0m\u001b[32m(\u001b[0m\u001b[32m2023_08_08,15:39\u001b[0m\u001b[32m)\u001b[0m\u001b[32m.npy'\u001b[0m saved at\n",
       "\u001b[35m/home/hadi/Dropbox/git/jb-MTMST/tmp/\u001b[0m\u001b[95mneural_analysis\u001b[0m\n"
      ]
     },
     "metadata": {},
     "output_type": "display_data"
    },
    {
     "name": "stderr",
     "output_type": "stream",
     "text": [
      "fixate1_nf-420_beta-0.5_lesion-dec-2_(2023_08_08,12:30):  57%|▌| 8/14 [43:10<32:/home/hadi/Documents/MTMST/code/analysis/helper.py:130: RuntimeWarning: invalid value encountered in true_divide\n",
      "  return signal_power / response_power\n"
     ]
    },
    {
     "data": {
      "text/html": [
       "<pre style=\"white-space:pre;overflow-x:auto;line-height:normal;font-family:Menlo,'DejaVu Sans Mono',consolas,'Courier New',monospace\"><span style=\"font-weight: bold\">[</span>PROGRESS<span style=\"font-weight: bold\">]</span> <span style=\"color: #008000; text-decoration-color: #008000\">'fixate1_nf-420_beta-0.5_lesion-dec-2_(2023_08_08,12:30).npy'</span> saved at\n",
       "<span style=\"color: #800080; text-decoration-color: #800080\">/home/hadi/Dropbox/git/jb-MTMST/tmp/</span><span style=\"color: #ff00ff; text-decoration-color: #ff00ff\">neural_analysis</span>\n",
       "</pre>\n"
      ],
      "text/plain": [
       "\u001b[1m[\u001b[0mPROGRESS\u001b[1m]\u001b[0m \u001b[32m'fixate1_nf-420_beta-0.5_lesion-dec-2_\u001b[0m\u001b[32m(\u001b[0m\u001b[32m2023_08_08,12:30\u001b[0m\u001b[32m)\u001b[0m\u001b[32m.npy'\u001b[0m saved at\n",
       "\u001b[35m/home/hadi/Dropbox/git/jb-MTMST/tmp/\u001b[0m\u001b[95mneural_analysis\u001b[0m\n"
      ]
     },
     "metadata": {},
     "output_type": "display_data"
    },
    {
     "name": "stderr",
     "output_type": "stream",
     "text": [
      "fixate1_nf-420_beta-0.5_lesion-dec-4_(2023_08_08,13:32):  64%|▋| 9/14 [1:26:52<5/home/hadi/Documents/MTMST/code/analysis/helper.py:130: RuntimeWarning: invalid value encountered in true_divide\n",
      "  return signal_power / response_power\n"
     ]
    },
    {
     "data": {
      "text/html": [
       "<pre style=\"white-space:pre;overflow-x:auto;line-height:normal;font-family:Menlo,'DejaVu Sans Mono',consolas,'Courier New',monospace\"><span style=\"font-weight: bold\">[</span>PROGRESS<span style=\"font-weight: bold\">]</span> <span style=\"color: #008000; text-decoration-color: #008000\">'fixate1_nf-420_beta-0.5_lesion-dec-4_(2023_08_08,13:32).npy'</span> saved at\n",
       "<span style=\"color: #800080; text-decoration-color: #800080\">/home/hadi/Dropbox/git/jb-MTMST/tmp/</span><span style=\"color: #ff00ff; text-decoration-color: #ff00ff\">neural_analysis</span>\n",
       "</pre>\n"
      ],
      "text/plain": [
       "\u001b[1m[\u001b[0mPROGRESS\u001b[1m]\u001b[0m \u001b[32m'fixate1_nf-420_beta-0.5_lesion-dec-4_\u001b[0m\u001b[32m(\u001b[0m\u001b[32m2023_08_08,13:32\u001b[0m\u001b[32m)\u001b[0m\u001b[32m.npy'\u001b[0m saved at\n",
       "\u001b[35m/home/hadi/Dropbox/git/jb-MTMST/tmp/\u001b[0m\u001b[95mneural_analysis\u001b[0m\n"
      ]
     },
     "metadata": {},
     "output_type": "display_data"
    },
    {
     "name": "stderr",
     "output_type": "stream",
     "text": [
      "fixate1_nf-420_beta-0.5_lesion-dec-8_(2023_08_08,14:35):  71%|▋| 10/14 [2:08:06</home/hadi/Documents/MTMST/code/analysis/helper.py:130: RuntimeWarning: invalid value encountered in true_divide\n",
      "  return signal_power / response_power\n"
     ]
    },
    {
     "data": {
      "text/html": [
       "<pre style=\"white-space:pre;overflow-x:auto;line-height:normal;font-family:Menlo,'DejaVu Sans Mono',consolas,'Courier New',monospace\"><span style=\"font-weight: bold\">[</span>PROGRESS<span style=\"font-weight: bold\">]</span> <span style=\"color: #008000; text-decoration-color: #008000\">'fixate1_nf-420_beta-0.5_lesion-dec-8_(2023_08_08,14:35).npy'</span> saved at\n",
       "<span style=\"color: #800080; text-decoration-color: #800080\">/home/hadi/Dropbox/git/jb-MTMST/tmp/</span><span style=\"color: #ff00ff; text-decoration-color: #ff00ff\">neural_analysis</span>\n",
       "</pre>\n"
      ],
      "text/plain": [
       "\u001b[1m[\u001b[0mPROGRESS\u001b[1m]\u001b[0m \u001b[32m'fixate1_nf-420_beta-0.5_lesion-dec-8_\u001b[0m\u001b[32m(\u001b[0m\u001b[32m2023_08_08,14:35\u001b[0m\u001b[32m)\u001b[0m\u001b[32m.npy'\u001b[0m saved at\n",
       "\u001b[35m/home/hadi/Dropbox/git/jb-MTMST/tmp/\u001b[0m\u001b[95mneural_analysis\u001b[0m\n"
      ]
     },
     "metadata": {},
     "output_type": "display_data"
    },
    {
     "name": "stderr",
     "output_type": "stream",
     "text": [
      "fixate1_nf-420_beta-0.5_lesion-dec-8_(2023_08_08,14:35): 100%|█| 14/14 [2:49:15<\n"
     ]
    }
   ],
   "source": [
    "# %%time\n",
    "\n",
    "pbar = tqdm(selected_fits)\n",
    "for fit_path in pbar:\n",
    "    fit_name = fit_path.split('/')[-2]\n",
    "    f = pjoin(tmp_dir, 'neural_analysis', f\"{fit_name}.npy\")\n",
    "    if os.path.isfile(f):\n",
    "        continue\n",
    "    pbar.set_description(fit_name)\n",
    "\n",
    "    df, df_all, ro_all, args, tr = summarize_neural_fits(\n",
    "        fit_name=fit_name, device='cuda')\n",
    "\n",
    "    # extract neural results\n",
    "    neural_results = collections.defaultdict(dict)\n",
    "    for key, ro in ro_all.items():\n",
    "        if hasattr(ro, 'kws_xtract'):\n",
    "            ro.kws_push = {\n",
    "                k: v for k, v in\n",
    "                ro.kws_push.items()\n",
    "                if 'xtract' not in k\n",
    "            }\n",
    "        else:\n",
    "            ro.kws_xtract = ro.kws_push['kws_xtract']\n",
    "            ro.kws_push = {\n",
    "                k: v for k, v in\n",
    "                ro.kws_push.items()\n",
    "                if 'xtract' not in k\n",
    "            }\n",
    "        for cell, m in ro.mod.items():\n",
    "            data = ro.validate(cell)\n",
    "            pred = m.predict(data['x'])\n",
    "            if ro.has_repeats:\n",
    "                pred_tst = m.predict(data['x_tst'])\n",
    "            else:\n",
    "                pred_tst = None\n",
    "\n",
    "            # perm importance\n",
    "            perm = sk_inspect.permutation_importance(\n",
    "                estimator=m,\n",
    "                X=data['x_tst' if ro.has_repeats else 'x'],\n",
    "                y=data['y_tst' if ro.has_repeats else 'y'],\n",
    "                random_state=0,\n",
    "                n_repeats=10,\n",
    "            )\n",
    "            perm_mu = np.maximum(0, perm['importances_mean'])\n",
    "            perm_sd = perm['importances_std']\n",
    "\n",
    "            # Probs\n",
    "            p_z_given_neuron = perm_mu / perm_mu.sum()\n",
    "            a = 1 - entropy_normalized(p_z_given_neuron, axis=0)\n",
    "            \n",
    "            k = f\"{key}_{cell}\"\n",
    "            neural_results['data'][k] = data\n",
    "            neural_results['pred'][k] = pred\n",
    "            neural_results['pred_tst'][k] = pred_tst\n",
    "            neural_results['perm_mu'][k] = perm_mu\n",
    "            neural_results['perm_sd'][k] = perm_sd\n",
    "            neural_results['alignment_score'][k] = a\n",
    "\n",
    "    # save\n",
    "    save_obj(\n",
    "        obj=neural_results,\n",
    "        file_name=fit_name,\n",
    "        save_dir=pjoin(tmp_dir, 'neural_analysis'),\n",
    "        verbose=True,\n",
    "        mode='npy',\n",
    "    )\n",
    "    torch.cuda.empty_cache()"
   ]
  },
  {
   "cell_type": "code",
   "execution_count": null,
   "id": "1b09e72f",
   "metadata": {},
   "outputs": [],
   "source": []
  },
  {
   "cell_type": "code",
   "execution_count": null,
   "id": "0418ad31",
   "metadata": {},
   "outputs": [],
   "source": []
  },
  {
   "cell_type": "code",
   "execution_count": null,
   "id": "1803d08e",
   "metadata": {},
   "outputs": [],
   "source": []
  },
  {
   "cell_type": "code",
   "execution_count": null,
   "id": "316439fb",
   "metadata": {},
   "outputs": [],
   "source": []
  }
 ],
 "metadata": {
  "kernelspec": {
   "display_name": "Python 3 (ipykernel)",
   "language": "python",
   "name": "python3"
  },
  "language_info": {
   "codemirror_mode": {
    "name": "ipython",
    "version": 3
   },
   "file_extension": ".py",
   "mimetype": "text/x-python",
   "name": "python",
   "nbconvert_exporter": "python",
   "pygments_lexer": "ipython3",
   "version": "3.8.5"
  }
 },
 "nbformat": 4,
 "nbformat_minor": 5
}
