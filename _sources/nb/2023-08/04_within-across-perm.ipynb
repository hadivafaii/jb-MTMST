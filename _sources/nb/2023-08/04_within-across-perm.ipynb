{
 "cells": [
  {
   "cell_type": "markdown",
   "id": "6c0cb91c",
   "metadata": {},
   "source": [
    "# (04) Align (within & across) -- perm\n",
    "\n",
    "**Motivation**: Alignment scores (using permutation importance) within and across model classes. <br>"
   ]
  },
  {
   "cell_type": "code",
   "execution_count": 1,
   "id": "b12d2b0a",
   "metadata": {},
   "outputs": [],
   "source": [
    "# HIDE CODE\n",
    "\n",
    "\n",
    "import os, sys\n",
    "from IPython.display import display\n",
    "\n",
    "# tmp & extras dir\n",
    "git_dir = os.path.join(os.environ['HOME'], 'Dropbox/git')\n",
    "extras_dir = os.path.join(git_dir, 'jb-MTMST/_extras')\n",
    "fig_base_dir = os.path.join(git_dir, 'jb-MTMST/figs')\n",
    "tmp_dir = os.path.join(git_dir, 'jb-MTMST/tmp')\n",
    "\n",
    "# Code path\n",
    "sys.path.insert(0, '/home/hadi/Documents/MTMST/code')\n",
    "from vae.train_vae import TrainerVAE, ConfigTrainVAE\n",
    "from vae.vae2d import VAE, ConfigVAE\n",
    "from figures.fighelper import *\n",
    "from analysis.glm import *\n",
    "\n",
    "\n",
    "# warnings, tqdm, & style\n",
    "warnings.filterwarnings('ignore', category=DeprecationWarning)\n",
    "from rich.jupyter import print\n",
    "%matplotlib inline\n",
    "set_style()"
   ]
  },
  {
   "cell_type": "markdown",
   "id": "0087ae40",
   "metadata": {},
   "source": [
    "## Setup"
   ]
  },
  {
   "cell_type": "code",
   "execution_count": 2,
   "id": "88fc7451",
   "metadata": {},
   "outputs": [
    {
     "data": {
      "text/html": [
       "<pre style=\"white-space:pre;overflow-x:auto;line-height:normal;font-family:Menlo,'DejaVu Sans Mono',consolas,'Courier New',monospace\"><span style=\"font-weight: bold\">[</span>\n",
       "    <span style=\"color: #008000; text-decoration-color: #008000\">'fixate1_nf-420_beta-0.9_(2023_05_07,05:51).npy'</span>,\n",
       "    <span style=\"color: #008000; text-decoration-color: #008000\">'fixate1_nf-420_beta-1.0_(2023_04_29,19:41).npy'</span>,\n",
       "    <span style=\"color: #008000; text-decoration-color: #008000\">'vanilla_fixate1_nf-420_beta-0.9_(2023_05_13,20:45).npy'</span>,\n",
       "    <span style=\"color: #008000; text-decoration-color: #008000\">'vanilla_fixate1_nf-420_beta-1.0_(2023_05_07,01:18).npy'</span>\n",
       "<span style=\"font-weight: bold\">]</span>\n",
       "</pre>\n"
      ],
      "text/plain": [
       "\u001b[1m[\u001b[0m\n",
       "    \u001b[32m'fixate1_nf-420_beta-0.9_\u001b[0m\u001b[32m(\u001b[0m\u001b[32m2023_05_07,05:51\u001b[0m\u001b[32m)\u001b[0m\u001b[32m.npy'\u001b[0m,\n",
       "    \u001b[32m'fixate1_nf-420_beta-1.0_\u001b[0m\u001b[32m(\u001b[0m\u001b[32m2023_04_29,19:41\u001b[0m\u001b[32m)\u001b[0m\u001b[32m.npy'\u001b[0m,\n",
       "    \u001b[32m'vanilla_fixate1_nf-420_beta-0.9_\u001b[0m\u001b[32m(\u001b[0m\u001b[32m2023_05_13,20:45\u001b[0m\u001b[32m)\u001b[0m\u001b[32m.npy'\u001b[0m,\n",
       "    \u001b[32m'vanilla_fixate1_nf-420_beta-1.0_\u001b[0m\u001b[32m(\u001b[0m\u001b[32m2023_05_07,01:18\u001b[0m\u001b[32m)\u001b[0m\u001b[32m.npy'\u001b[0m\n",
       "\u001b[1m]\u001b[0m\n"
      ]
     },
     "metadata": {},
     "output_type": "display_data"
    }
   ],
   "source": [
    "path = pjoin(tmp_dir, 'trainer_analysis')\n",
    "\n",
    "category = 'fixate1'\n",
    "betas = [0.9, 1.0]\n",
    "\n",
    "files = sorted([\n",
    "    f for f in os.listdir(path) if category in f\n",
    "    and any(f\"beta-{b}\" in f for b in betas)\n",
    "])\n",
    "print(files)"
   ]
  },
  {
   "cell_type": "code",
   "execution_count": 3,
   "id": "be3b4608",
   "metadata": {},
   "outputs": [],
   "source": [
    "z_vld, z_tst = {}, {}\n",
    "\n",
    "for f in files:\n",
    "    x = pjoin(path, f)\n",
    "    x = np.load(x, allow_pickle=True).item()\n",
    "    z_vld[f] = x['data_vld']['z']\n",
    "    z_tst[f] = x['data_tst']['z']"
   ]
  },
  {
   "cell_type": "markdown",
   "id": "4bd09e8f",
   "metadata": {},
   "source": [
    "## Analyze"
   ]
  },
  {
   "cell_type": "markdown",
   "id": "a8fa2cf7",
   "metadata": {},
   "source": [
    "### Within class: cNVAE"
   ]
  },
  {
   "cell_type": "code",
   "execution_count": 4,
   "id": "1d0944bf",
   "metadata": {},
   "outputs": [],
   "source": [
    "f1 = 'fixate1_nf-420_beta-0.9_(2023_05_07,05:51).npy'\n",
    "f2 = 'fixate1_nf-420_beta-1.0_(2023_04_29,19:41).npy'\n",
    "x_vld, y_vld = z_vld[f1], z_vld[f2]\n",
    "x_tst, y_tst = z_tst[f1], z_tst[f2]"
   ]
  },
  {
   "cell_type": "code",
   "execution_count": 5,
   "id": "365f361c",
   "metadata": {},
   "outputs": [
    {
     "name": "stderr",
     "output_type": "stream",
     "text": [
      "                                                                                \r"
     ]
    }
   ],
   "source": [
    "shape = (y_vld.shape[1], x_vld.shape[1])\n",
    "importances_mu = np.zeros(shape)\n",
    "importances_sd = np.zeros(shape)\n",
    "\n",
    "for i in tqdm(range(shape[0])):\n",
    "    _lr = sk_linear.LinearRegression().fit(\n",
    "        x_vld, y_vld[:, i])\n",
    "    result = sk_inspect.permutation_importance(\n",
    "        estimator=_lr,\n",
    "        X=x_tst,\n",
    "        y=y_tst[:, i],\n",
    "        n_repeats=5,\n",
    "        random_state=0,\n",
    "    )\n",
    "    importances_mu[i] = result.importances_mean\n",
    "    importances_sd[i] = result.importances_std"
   ]
  },
  {
   "cell_type": "markdown",
   "id": "c148f7dd",
   "metadata": {},
   "source": [
    "#### Measure alignment"
   ]
  },
  {
   "cell_type": "code",
   "execution_count": 7,
   "id": "8d19608b",
   "metadata": {},
   "outputs": [],
   "source": [
    "w = np.maximum(0, importances_mu)\n",
    "w /= w.sum(1, keepdims=True)\n",
    "\n",
    "a = 1 - entropy_normalized(w, axis=1)"
   ]
  },
  {
   "cell_type": "code",
   "execution_count": 20,
   "id": "abd4bbcb",
   "metadata": {},
   "outputs": [
    {
     "data": {
      "image/png": "[encoded data removed]",
      "text/plain": [
       "<Figure size 500x320 with 1 Axes>"
      ]
     },
     "metadata": {},
     "output_type": "display_data"
    }
   ],
   "source": [
    "sns.histplot(a, bins=np.linspace(0, 1, 41));"
   ]
  },
  {
   "cell_type": "code",
   "execution_count": 21,
   "id": "d2b97516",
   "metadata": {},
   "outputs": [
    {
     "data": {
      "text/plain": [
       "(0.6408380610133132, 0.6594946730779686)"
      ]
     },
     "execution_count": 21,
     "metadata": {},
     "output_type": "execute_result"
    }
   ],
   "source": [
    "np.mean(a), np.median(a)"
   ]
  },
  {
   "cell_type": "code",
   "execution_count": null,
   "id": "e9771046",
   "metadata": {},
   "outputs": [],
   "source": []
  },
  {
   "cell_type": "markdown",
   "id": "60f39443",
   "metadata": {},
   "source": [
    "#### Measure r2"
   ]
  },
  {
   "cell_type": "code",
   "execution_count": 10,
   "id": "e6d0ba04",
   "metadata": {},
   "outputs": [],
   "source": [
    "lr = sk_linear.LinearRegression().fit(z_vld[f1], z_vld[f2])\n",
    "pred = lr.predict(z_tst[f1])"
   ]
  },
  {
   "cell_type": "code",
   "execution_count": 11,
   "id": "05191261",
   "metadata": {},
   "outputs": [
    {
     "data": {
      "text/plain": [
       "(75000, 420)"
      ]
     },
     "execution_count": 11,
     "metadata": {},
     "output_type": "execute_result"
    }
   ],
   "source": [
    "pred.shape"
   ]
  },
  {
   "cell_type": "code",
   "execution_count": 12,
   "id": "a6041fc2",
   "metadata": {},
   "outputs": [],
   "source": [
    "r = 1 - sp_dist.cdist(\n",
    "    XA=pred.T,\n",
    "    XB=z_tst[f2].T,\n",
    "    metric='correlation',\n",
    ")\n",
    "r2 = sk_metric.r2_score(\n",
    "    y_true=z_tst[f2],\n",
    "    y_pred=pred,\n",
    "    multioutput='raw_values',\n",
    ")"
   ]
  },
  {
   "cell_type": "code",
   "execution_count": 13,
   "id": "8b6c7f1e",
   "metadata": {},
   "outputs": [
    {
     "data": {
      "text/plain": [
       "((420, 420), (420,))"
      ]
     },
     "execution_count": 13,
     "metadata": {},
     "output_type": "execute_result"
    }
   ],
   "source": [
    "r.shape, r2.shape"
   ]
  },
  {
   "cell_type": "code",
   "execution_count": 14,
   "id": "8251ce13",
   "metadata": {},
   "outputs": [
    {
     "data": {
      "text/plain": [
       "0.9018653902508128"
      ]
     },
     "execution_count": 14,
     "metadata": {},
     "output_type": "execute_result"
    }
   ],
   "source": [
    "r2.mean()"
   ]
  },
  {
   "cell_type": "code",
   "execution_count": 15,
   "id": "8647781e",
   "metadata": {},
   "outputs": [
    {
     "data": {
      "text/plain": [
       "<Axes: ylabel='Count'>"
      ]
     },
     "execution_count": 15,
     "metadata": {},
     "output_type": "execute_result"
    },
    {
     "data": {
      "image/png": "[encoded data removed]",
      "text/plain": [
       "<Figure size 500x320 with 1 Axes>"
      ]
     },
     "metadata": {},
     "output_type": "display_data"
    }
   ],
   "source": [
    "sns.histplot(r2);"
   ]
  },
  {
   "cell_type": "markdown",
   "id": "9e87ce97",
   "metadata": {},
   "source": [
    "### Within class: VAE"
   ]
  },
  {
   "cell_type": "code",
   "execution_count": 4,
   "id": "b856a62b",
   "metadata": {},
   "outputs": [],
   "source": [
    "f1 = 'vanilla_fixate1_nf-420_beta-0.9_(2023_05_13,20:45).npy'\n",
    "f2 = 'vanilla_fixate1_nf-420_beta-1.0_(2023_05_07,01:18).npy'\n",
    "x_vld, y_vld = z_vld[f1], z_vld[f2]\n",
    "x_tst, y_tst = z_tst[f1], z_tst[f2]"
   ]
  },
  {
   "cell_type": "code",
   "execution_count": 5,
   "id": "eb623f15",
   "metadata": {},
   "outputs": [
    {
     "name": "stderr",
     "output_type": "stream",
     "text": [
      "100%|███████████████████████████████████████| 420/420 [6:49:28<00:00, 58.50s/it]\n"
     ]
    }
   ],
   "source": [
    "shape = (y_vld.shape[1], x_vld.shape[1])\n",
    "importances_mu = np.zeros(shape)\n",
    "importances_sd = np.zeros(shape)\n",
    "\n",
    "for i in tqdm(range(shape[0])):\n",
    "    _lr = sk_linear.LinearRegression().fit(\n",
    "        x_vld, y_vld[:, i])\n",
    "    result = sk_inspect.permutation_importance(\n",
    "        estimator=_lr,\n",
    "        X=x_tst,\n",
    "        y=y_tst[:, i],\n",
    "        n_repeats=5,\n",
    "        random_state=0,\n",
    "    )\n",
    "    importances_mu[i] = result.importances_mean\n",
    "    importances_sd[i] = result.importances_std"
   ]
  },
  {
   "cell_type": "markdown",
   "id": "77cc74c6",
   "metadata": {},
   "source": [
    "#### TODO:\n",
    "\n",
    "Test if ```result.importances_std``` is not so large, then just do ```n_repeats=1``` to save time"
   ]
  },
  {
   "cell_type": "markdown",
   "id": "8fc1fdec",
   "metadata": {},
   "source": [
    "#### Measure alignment"
   ]
  },
  {
   "cell_type": "code",
   "execution_count": 6,
   "id": "26d5812f",
   "metadata": {},
   "outputs": [],
   "source": [
    "w = np.maximum(0, importances_mu)\n",
    "w /= w.sum(1, keepdims=True)\n",
    "\n",
    "a = 1 - entropy_normalized(w, axis=1)"
   ]
  },
  {
   "cell_type": "code",
   "execution_count": 7,
   "id": "b3d9e5be",
   "metadata": {},
   "outputs": [
    {
     "data": {
      "image/png": "[encoded data removed]",
      "text/plain": [
       "<Figure size 500x320 with 1 Axes>"
      ]
     },
     "metadata": {},
     "output_type": "display_data"
    }
   ],
   "source": [
    "sns.histplot(a, bins=np.linspace(0, 1, 41));"
   ]
  },
  {
   "cell_type": "code",
   "execution_count": 8,
   "id": "bb065656",
   "metadata": {},
   "outputs": [
    {
     "data": {
      "text/plain": [
       "(0.15495327456828287, 0.14554170922371545)"
      ]
     },
     "execution_count": 8,
     "metadata": {},
     "output_type": "execute_result"
    }
   ],
   "source": [
    "np.mean(a), np.median(a)"
   ]
  },
  {
   "cell_type": "code",
   "execution_count": 20,
   "id": "d0558cb1",
   "metadata": {},
   "outputs": [
    {
     "data": {
      "image/png": "[encoded data removed]",
      "text/plain": [
       "<Figure size 500x320 with 1 Axes>"
      ]
     },
     "metadata": {},
     "output_type": "display_data"
    }
   ],
   "source": []
  },
  {
   "cell_type": "code",
   "execution_count": 21,
   "id": "1fba89fe",
   "metadata": {},
   "outputs": [
    {
     "data": {
      "text/plain": [
       "(0.6408380610133132, 0.6594946730779686)"
      ]
     },
     "execution_count": 21,
     "metadata": {},
     "output_type": "execute_result"
    }
   ],
   "source": []
  },
  {
   "cell_type": "code",
   "execution_count": null,
   "id": "b85c7330",
   "metadata": {},
   "outputs": [],
   "source": []
  },
  {
   "cell_type": "markdown",
   "id": "5c89d003",
   "metadata": {},
   "source": [
    "#### Measure r2"
   ]
  },
  {
   "cell_type": "code",
   "execution_count": 9,
   "id": "3c1b64ae",
   "metadata": {},
   "outputs": [],
   "source": [
    "lr = sk_linear.LinearRegression().fit(z_vld[f1], z_vld[f2])\n",
    "pred = lr.predict(z_tst[f1])"
   ]
  },
  {
   "cell_type": "code",
   "execution_count": 10,
   "id": "4afa7a3f",
   "metadata": {},
   "outputs": [
    {
     "data": {
      "text/plain": [
       "(75000, 420)"
      ]
     },
     "execution_count": 10,
     "metadata": {},
     "output_type": "execute_result"
    }
   ],
   "source": [
    "pred.shape"
   ]
  },
  {
   "cell_type": "code",
   "execution_count": 11,
   "id": "39523f34",
   "metadata": {},
   "outputs": [],
   "source": [
    "r = 1 - sp_dist.cdist(\n",
    "    XA=pred.T,\n",
    "    XB=z_tst[f2].T,\n",
    "    metric='correlation',\n",
    ")\n",
    "r2 = sk_metric.r2_score(\n",
    "    y_true=z_tst[f2],\n",
    "    y_pred=pred,\n",
    "    multioutput='raw_values',\n",
    ")"
   ]
  },
  {
   "cell_type": "code",
   "execution_count": 12,
   "id": "a89f7675",
   "metadata": {},
   "outputs": [
    {
     "data": {
      "text/plain": [
       "((420, 420), (420,))"
      ]
     },
     "execution_count": 12,
     "metadata": {},
     "output_type": "execute_result"
    }
   ],
   "source": [
    "r.shape, r2.shape"
   ]
  },
  {
   "cell_type": "code",
   "execution_count": 13,
   "id": "ddec3236",
   "metadata": {},
   "outputs": [
    {
     "data": {
      "image/png": "[encoded data removed]",
      "text/plain": [
       "<Figure size 500x320 with 1 Axes>"
      ]
     },
     "metadata": {},
     "output_type": "display_data"
    }
   ],
   "source": [
    "sns.histplot(r2);"
   ]
  },
  {
   "cell_type": "code",
   "execution_count": 14,
   "id": "e0678b4a",
   "metadata": {},
   "outputs": [
    {
     "data": {
      "text/plain": [
       "0.7395668822590681"
      ]
     },
     "execution_count": 14,
     "metadata": {},
     "output_type": "execute_result"
    }
   ],
   "source": [
    "r2.mean()"
   ]
  },
  {
   "cell_type": "code",
   "execution_count": 14,
   "id": "ce7bf2e4",
   "metadata": {},
   "outputs": [
    {
     "data": {
      "text/plain": [
       "0.9018653902508128"
      ]
     },
     "execution_count": 14,
     "metadata": {},
     "output_type": "execute_result"
    }
   ],
   "source": []
  },
  {
   "cell_type": "code",
   "execution_count": 15,
   "id": "2de62752",
   "metadata": {},
   "outputs": [
    {
     "data": {
      "text/plain": [
       "<Axes: ylabel='Count'>"
      ]
     },
     "execution_count": 15,
     "metadata": {},
     "output_type": "execute_result"
    },
    {
     "data": {
      "image/png": "[encoded data removed]",
      "text/plain": [
       "<Figure size 500x320 with 1 Axes>"
      ]
     },
     "metadata": {},
     "output_type": "display_data"
    }
   ],
   "source": []
  },
  {
   "cell_type": "code",
   "execution_count": null,
   "id": "704d3a52",
   "metadata": {},
   "outputs": [],
   "source": []
  },
  {
   "cell_type": "code",
   "execution_count": null,
   "id": "c9dc35e3",
   "metadata": {},
   "outputs": [],
   "source": []
  },
  {
   "cell_type": "code",
   "execution_count": 16,
   "id": "6485ea66",
   "metadata": {},
   "outputs": [
    {
     "data": {
      "text/plain": [
       "['importances_mean', 'importances_std', 'importances']"
      ]
     },
     "execution_count": 16,
     "metadata": {},
     "output_type": "execute_result"
    }
   ],
   "source": [
    "list(result)"
   ]
  },
  {
   "cell_type": "code",
   "execution_count": 17,
   "id": "f6d8a8cc",
   "metadata": {},
   "outputs": [
    {
     "data": {
      "text/plain": [
       "(420, 5)"
      ]
     },
     "execution_count": 17,
     "metadata": {},
     "output_type": "execute_result"
    }
   ],
   "source": [
    "result['importances'].shape"
   ]
  },
  {
   "cell_type": "code",
   "execution_count": 24,
   "id": "4f32fd80",
   "metadata": {},
   "outputs": [
    {
     "data": {
      "text/plain": [
       "array([0.00477957, 0.00479909, 0.00502834, 0.00478505, 0.00483889])"
      ]
     },
     "execution_count": 24,
     "metadata": {},
     "output_type": "execute_result"
    }
   ],
   "source": [
    "result['importances'][6]"
   ]
  },
  {
   "cell_type": "code",
   "execution_count": null,
   "id": "31724dc3",
   "metadata": {},
   "outputs": [],
   "source": []
  },
  {
   "cell_type": "code",
   "execution_count": 25,
   "id": "2842e854",
   "metadata": {},
   "outputs": [
    {
     "data": {
      "text/plain": [
       "[<matplotlib.lines.Line2D at 0x7fcf4b04ce80>]"
      ]
     },
     "execution_count": 25,
     "metadata": {},
     "output_type": "execute_result"
    },
    {
     "data": {
      "image/png": "[encoded data removed]",
      "text/plain": [
       "<Figure size 500x320 with 1 Axes>"
      ]
     },
     "metadata": {},
     "output_type": "display_data"
    }
   ],
   "source": [
    "plt.plot(result['importances_mean'])"
   ]
  },
  {
   "cell_type": "code",
   "execution_count": null,
   "id": "59b09794",
   "metadata": {},
   "outputs": [],
   "source": []
  },
  {
   "cell_type": "code",
   "execution_count": null,
   "id": "b7abd618",
   "metadata": {},
   "outputs": [],
   "source": []
  },
  {
   "cell_type": "code",
   "execution_count": 29,
   "id": "bc2dbad5",
   "metadata": {},
   "outputs": [
    {
     "data": {
      "text/plain": [
       "[<matplotlib.lines.Line2D at 0x7fce23c92cd0>]"
      ]
     },
     "execution_count": 29,
     "metadata": {},
     "output_type": "execute_result"
    },
    {
     "data": {
      "image/png": "[encoded data removed]",
      "text/plain": [
       "<Figure size 500x320 with 1 Axes>"
      ]
     },
     "metadata": {},
     "output_type": "display_data"
    }
   ],
   "source": [
    "plt.plot(result['importances_std'])"
   ]
  },
  {
   "cell_type": "code",
   "execution_count": 41,
   "id": "f879e0c2",
   "metadata": {},
   "outputs": [
    {
     "data": {
      "image/png": "[encoded data removed]",
      "text/plain": [
       "<Figure size 1000x200 with 1 Axes>"
      ]
     },
     "metadata": {},
     "output_type": "display_data"
    }
   ],
   "source": [
    "fig, ax = create_figure(1, 1, (10, 2))\n",
    "intvl = range(420)\n",
    "plt.plot(result['importances_mean'][intvl], lw=0.8)\n",
    "plt.fill_between(\n",
    "    x=intvl,\n",
    "    y1=(result['importances_mean'] - 3 * result['importances_std'])[intvl],\n",
    "    y2=(result['importances_mean'] + 3 * result['importances_std'])[intvl],\n",
    "    color='r',\n",
    "    alpha=0.5,\n",
    ");"
   ]
  },
  {
   "cell_type": "code",
   "execution_count": null,
   "id": "a4085c97",
   "metadata": {},
   "outputs": [],
   "source": []
  },
  {
   "cell_type": "code",
   "execution_count": null,
   "id": "858b67e0",
   "metadata": {},
   "outputs": [],
   "source": []
  },
  {
   "cell_type": "code",
   "execution_count": null,
   "id": "1213d806",
   "metadata": {},
   "outputs": [],
   "source": []
  }
 ],
 "metadata": {
  "kernelspec": {
   "display_name": "Python 3 (ipykernel)",
   "language": "python",
   "name": "python3"
  },
  "language_info": {
   "codemirror_mode": {
    "name": "ipython",
    "version": 3
   },
   "file_extension": ".py",
   "mimetype": "text/x-python",
   "name": "python",
   "nbconvert_exporter": "python",
   "pygments_lexer": "ipython3",
   "version": "3.8.5"
  }
 },
 "nbformat": 4,
 "nbformat_minor": 5
}
