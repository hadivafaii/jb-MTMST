{
 "cells": [
  {
   "cell_type": "markdown",
   "id": "6c0cb91c",
   "metadata": {},
   "source": [
    "# (06) Align (across) -- lasso save\n",
    "\n",
    "**Motivation**: Alignment scores (using lasso) across model classes only. Generate and save results. <br>"
   ]
  },
  {
   "cell_type": "code",
   "execution_count": 1,
   "id": "b12d2b0a",
   "metadata": {},
   "outputs": [],
   "source": [
    "# HIDE CODE\n",
    "\n",
    "\n",
    "import os, sys\n",
    "from IPython.display import display\n",
    "\n",
    "# tmp & extras dir\n",
    "git_dir = os.path.join(os.environ['HOME'], 'Dropbox/git')\n",
    "extras_dir = os.path.join(git_dir, 'jb-MTMST/_extras')\n",
    "fig_base_dir = os.path.join(git_dir, 'jb-MTMST/figs')\n",
    "tmp_dir = os.path.join(git_dir, 'jb-MTMST/tmp')\n",
    "\n",
    "# Code path\n",
    "sys.path.insert(0, '/home/hadi/Documents/MTMST/code')\n",
    "from vae.train_vae import TrainerVAE, ConfigTrainVAE\n",
    "from vae.vae2d import VAE, ConfigVAE\n",
    "from figures.fighelper import *\n",
    "from analysis.glm import *\n",
    "\n",
    "\n",
    "# warnings, tqdm, & style\n",
    "warnings.filterwarnings('ignore', category=DeprecationWarning)\n",
    "from tqdm.notebook import tqdm\n",
    "from rich.jupyter import print\n",
    "%matplotlib inline\n",
    "set_style()"
   ]
  },
  {
   "cell_type": "code",
   "execution_count": 2,
   "id": "e0764399",
   "metadata": {},
   "outputs": [],
   "source": [
    "def _fit_lasso(\n",
    "    x,\n",
    "    y,\n",
    "    x_tst,\n",
    "    y_tst,\n",
    "    alpha=0.02, ):\n",
    "    \n",
    "    shape = (y.shape[1], x.shape[1])\n",
    "    importances = np.zeros(shape)\n",
    "    \n",
    "    mu_x = x.mean(0, keepdims=True)\n",
    "    sd_x = x.std(0, keepdims=True)\n",
    "    x = normalize_global(x, mu_x, sd_x)\n",
    "\n",
    "    mu_y = y.mean(0, keepdims=True)\n",
    "    sd_y = y.std(0, keepdims=True)\n",
    "    y = normalize_global(y, mu_y, sd_y)\n",
    "\n",
    "    lasso = sk_linear.Lasso(alpha=alpha).fit(x, y)\n",
    "    pred = lasso.predict(normalize_global(x_tst, mu_x, sd_x))\n",
    "    \n",
    "    r2 = sk_metric.r2_score(\n",
    "        y_pred=pred,\n",
    "        y_true=normalize_global(y_tst, mu_y, sd_y),\n",
    "        multioutput='raw_values',\n",
    "    )\n",
    "    return lasso, r2"
   ]
  },
  {
   "cell_type": "markdown",
   "id": "2c6be96f",
   "metadata": {},
   "source": [
    "## Setup"
   ]
  },
  {
   "cell_type": "code",
   "execution_count": 3,
   "id": "c5d93916",
   "metadata": {},
   "outputs": [
    {
     "data": {
      "text/html": [
       "<pre style=\"white-space:pre;overflow-x:auto;line-height:normal;font-family:Menlo,'DejaVu Sans Mono',consolas,'Courier New',monospace\"><span style=\"color: #800080; text-decoration-color: #800080\">/home/hadi/Dropbox/git/jb-MTMST/tmp/</span><span style=\"color: #ff00ff; text-decoration-color: #ff00ff\">alignment_rebuttal</span>\n",
       "</pre>\n"
      ],
      "text/plain": [
       "\u001b[35m/home/hadi/Dropbox/git/jb-MTMST/tmp/\u001b[0m\u001b[95malignment_rebuttal\u001b[0m\n"
      ]
     },
     "metadata": {},
     "output_type": "display_data"
    }
   ],
   "source": [
    "save_dir = pjoin(tmp_dir, 'alignment_rebuttal')\n",
    "print(save_dir)\n",
    "\n",
    "skip_fits = [\n",
    "    'fixate1_nf-420_beta-0.8_(2023_05_07,04:15).npy',\n",
    "]\n",
    "path = pjoin(tmp_dir, 'trainer_analysis')\n",
    "pal_model, pal_cat = get_palette()\n",
    "category = 'fixate1'"
   ]
  },
  {
   "cell_type": "markdown",
   "id": "11a75e43",
   "metadata": {},
   "source": [
    "## Fit"
   ]
  },
  {
   "cell_type": "code",
   "execution_count": 4,
   "id": "1a1f60ce",
   "metadata": {
    "scrolled": true
   },
   "outputs": [
    {
     "data": {
      "text/html": [
       "<pre style=\"white-space:pre;overflow-x:auto;line-height:normal;font-family:Menlo,'DejaVu Sans Mono',consolas,'Courier New',monospace\"><span style=\"font-weight: bold\">[</span>PROGRESS<span style=\"font-weight: bold\">]</span> <span style=\"color: #008000; text-decoration-color: #008000\">'lasso_src-cNVAE_tgt-VAE_beta-0.001.npy'</span> saved at\n",
       "<span style=\"color: #800080; text-decoration-color: #800080\">/home/hadi/Dropbox/git/jb-MTMST/tmp/</span><span style=\"color: #ff00ff; text-decoration-color: #ff00ff\">alignment_rebuttal</span>\n",
       "</pre>\n"
      ],
      "text/plain": [
       "\u001b[1m[\u001b[0mPROGRESS\u001b[1m]\u001b[0m \u001b[32m'lasso_src-cNVAE_tgt-VAE_beta-0.001.npy'\u001b[0m saved at\n",
       "\u001b[35m/home/hadi/Dropbox/git/jb-MTMST/tmp/\u001b[0m\u001b[95malignment_rebuttal\u001b[0m\n"
      ]
     },
     "metadata": {},
     "output_type": "display_data"
    },
    {
     "data": {
      "text/html": [
       "<pre style=\"white-space:pre;overflow-x:auto;line-height:normal;font-family:Menlo,'DejaVu Sans Mono',consolas,'Courier New',monospace\"><span style=\"font-weight: bold\">[</span>PROGRESS<span style=\"font-weight: bold\">]</span> <span style=\"color: #008000; text-decoration-color: #008000\">'lasso_src-VAE_tgt-cNVAE_beta-0.001.npy'</span> saved at\n",
       "<span style=\"color: #800080; text-decoration-color: #800080\">/home/hadi/Dropbox/git/jb-MTMST/tmp/</span><span style=\"color: #ff00ff; text-decoration-color: #ff00ff\">alignment_rebuttal</span>\n",
       "</pre>\n"
      ],
      "text/plain": [
       "\u001b[1m[\u001b[0mPROGRESS\u001b[1m]\u001b[0m \u001b[32m'lasso_src-VAE_tgt-cNVAE_beta-0.001.npy'\u001b[0m saved at\n",
       "\u001b[35m/home/hadi/Dropbox/git/jb-MTMST/tmp/\u001b[0m\u001b[95malignment_rebuttal\u001b[0m\n"
      ]
     },
     "metadata": {},
     "output_type": "display_data"
    },
    {
     "data": {
      "text/html": [
       "<pre style=\"white-space:pre;overflow-x:auto;line-height:normal;font-family:Menlo,'DejaVu Sans Mono',consolas,'Courier New',monospace\"><span style=\"font-weight: bold\">[</span>PROGRESS<span style=\"font-weight: bold\">]</span> <span style=\"color: #008000; text-decoration-color: #008000\">'lasso_src-cNVAE_tgt-VAE_beta-0.1.npy'</span> saved at\n",
       "<span style=\"color: #800080; text-decoration-color: #800080\">/home/hadi/Dropbox/git/jb-MTMST/tmp/</span><span style=\"color: #ff00ff; text-decoration-color: #ff00ff\">alignment_rebuttal</span>\n",
       "</pre>\n"
      ],
      "text/plain": [
       "\u001b[1m[\u001b[0mPROGRESS\u001b[1m]\u001b[0m \u001b[32m'lasso_src-cNVAE_tgt-VAE_beta-0.1.npy'\u001b[0m saved at\n",
       "\u001b[35m/home/hadi/Dropbox/git/jb-MTMST/tmp/\u001b[0m\u001b[95malignment_rebuttal\u001b[0m\n"
      ]
     },
     "metadata": {},
     "output_type": "display_data"
    },
    {
     "data": {
      "text/html": [
       "<pre style=\"white-space:pre;overflow-x:auto;line-height:normal;font-family:Menlo,'DejaVu Sans Mono',consolas,'Courier New',monospace\"><span style=\"font-weight: bold\">[</span>PROGRESS<span style=\"font-weight: bold\">]</span> <span style=\"color: #008000; text-decoration-color: #008000\">'lasso_src-cNVAE_tgt-VAE_beta-0.6.npy'</span> saved at\n",
       "<span style=\"color: #800080; text-decoration-color: #800080\">/home/hadi/Dropbox/git/jb-MTMST/tmp/</span><span style=\"color: #ff00ff; text-decoration-color: #ff00ff\">alignment_rebuttal</span>\n",
       "</pre>\n"
      ],
      "text/plain": [
       "\u001b[1m[\u001b[0mPROGRESS\u001b[1m]\u001b[0m \u001b[32m'lasso_src-cNVAE_tgt-VAE_beta-0.6.npy'\u001b[0m saved at\n",
       "\u001b[35m/home/hadi/Dropbox/git/jb-MTMST/tmp/\u001b[0m\u001b[95malignment_rebuttal\u001b[0m\n"
      ]
     },
     "metadata": {},
     "output_type": "display_data"
    },
    {
     "data": {
      "text/html": [
       "<pre style=\"white-space:pre;overflow-x:auto;line-height:normal;font-family:Menlo,'DejaVu Sans Mono',consolas,'Courier New',monospace\"><span style=\"font-weight: bold\">[</span>PROGRESS<span style=\"font-weight: bold\">]</span> <span style=\"color: #008000; text-decoration-color: #008000\">'lasso_src-VAE_tgt-cNVAE_beta-0.6.npy'</span> saved at\n",
       "<span style=\"color: #800080; text-decoration-color: #800080\">/home/hadi/Dropbox/git/jb-MTMST/tmp/</span><span style=\"color: #ff00ff; text-decoration-color: #ff00ff\">alignment_rebuttal</span>\n",
       "</pre>\n"
      ],
      "text/plain": [
       "\u001b[1m[\u001b[0mPROGRESS\u001b[1m]\u001b[0m \u001b[32m'lasso_src-VAE_tgt-cNVAE_beta-0.6.npy'\u001b[0m saved at\n",
       "\u001b[35m/home/hadi/Dropbox/git/jb-MTMST/tmp/\u001b[0m\u001b[95malignment_rebuttal\u001b[0m\n"
      ]
     },
     "metadata": {},
     "output_type": "display_data"
    },
    {
     "name": "stderr",
     "output_type": "stream",
     "text": [
      "/home/hadi/anaconda3/lib/python3.8/site-packages/sklearn/linear_model/_coordinate_descent.py:628: ConvergenceWarning: Objective did not converge. You might want to increase the number of iterations, check the scale of the features or consider increasing regularisation. Duality gap: 2.529e+01, tolerance: 7.500e+00\n",
      "  model = cd_fast.enet_coordinate_descent(\n",
      "/home/hadi/anaconda3/lib/python3.8/site-packages/sklearn/linear_model/_coordinate_descent.py:628: ConvergenceWarning: Objective did not converge. You might want to increase the number of iterations, check the scale of the features or consider increasing regularisation. Duality gap: 1.880e+01, tolerance: 7.500e+00\n",
      "  model = cd_fast.enet_coordinate_descent(\n",
      "/home/hadi/anaconda3/lib/python3.8/site-packages/sklearn/linear_model/_coordinate_descent.py:628: ConvergenceWarning: Objective did not converge. You might want to increase the number of iterations, check the scale of the features or consider increasing regularisation. Duality gap: 9.134e+00, tolerance: 7.500e+00\n",
      "  model = cd_fast.enet_coordinate_descent(\n",
      "/home/hadi/anaconda3/lib/python3.8/site-packages/sklearn/linear_model/_coordinate_descent.py:628: ConvergenceWarning: Objective did not converge. You might want to increase the number of iterations, check the scale of the features or consider increasing regularisation. Duality gap: 1.220e+01, tolerance: 7.500e+00\n",
      "  model = cd_fast.enet_coordinate_descent(\n",
      "/home/hadi/anaconda3/lib/python3.8/site-packages/sklearn/linear_model/_coordinate_descent.py:628: ConvergenceWarning: Objective did not converge. You might want to increase the number of iterations, check the scale of the features or consider increasing regularisation. Duality gap: 2.762e+01, tolerance: 7.500e+00\n",
      "  model = cd_fast.enet_coordinate_descent(\n",
      "/home/hadi/anaconda3/lib/python3.8/site-packages/sklearn/linear_model/_coordinate_descent.py:628: ConvergenceWarning: Objective did not converge. You might want to increase the number of iterations, check the scale of the features or consider increasing regularisation. Duality gap: 1.620e+01, tolerance: 7.500e+00\n",
      "  model = cd_fast.enet_coordinate_descent(\n",
      "/home/hadi/anaconda3/lib/python3.8/site-packages/sklearn/linear_model/_coordinate_descent.py:628: ConvergenceWarning: Objective did not converge. You might want to increase the number of iterations, check the scale of the features or consider increasing regularisation. Duality gap: 1.763e+01, tolerance: 7.500e+00\n",
      "  model = cd_fast.enet_coordinate_descent(\n",
      "/home/hadi/anaconda3/lib/python3.8/site-packages/sklearn/linear_model/_coordinate_descent.py:628: ConvergenceWarning: Objective did not converge. You might want to increase the number of iterations, check the scale of the features or consider increasing regularisation. Duality gap: 1.905e+01, tolerance: 7.500e+00\n",
      "  model = cd_fast.enet_coordinate_descent(\n",
      "/home/hadi/anaconda3/lib/python3.8/site-packages/sklearn/linear_model/_coordinate_descent.py:628: ConvergenceWarning: Objective did not converge. You might want to increase the number of iterations, check the scale of the features or consider increasing regularisation. Duality gap: 2.396e+01, tolerance: 7.500e+00\n",
      "  model = cd_fast.enet_coordinate_descent(\n",
      "/home/hadi/anaconda3/lib/python3.8/site-packages/sklearn/linear_model/_coordinate_descent.py:628: ConvergenceWarning: Objective did not converge. You might want to increase the number of iterations, check the scale of the features or consider increasing regularisation. Duality gap: 8.385e+00, tolerance: 7.500e+00\n",
      "  model = cd_fast.enet_coordinate_descent(\n",
      "/home/hadi/anaconda3/lib/python3.8/site-packages/sklearn/linear_model/_coordinate_descent.py:628: ConvergenceWarning: Objective did not converge. You might want to increase the number of iterations, check the scale of the features or consider increasing regularisation. Duality gap: 1.869e+01, tolerance: 7.500e+00\n",
      "  model = cd_fast.enet_coordinate_descent(\n",
      "/home/hadi/anaconda3/lib/python3.8/site-packages/sklearn/linear_model/_coordinate_descent.py:628: ConvergenceWarning: Objective did not converge. You might want to increase the number of iterations, check the scale of the features or consider increasing regularisation. Duality gap: 1.162e+01, tolerance: 7.500e+00\n",
      "  model = cd_fast.enet_coordinate_descent(\n"
     ]
    },
    {
     "data": {
      "text/html": [
       "<pre style=\"white-space:pre;overflow-x:auto;line-height:normal;font-family:Menlo,'DejaVu Sans Mono',consolas,'Courier New',monospace\"><span style=\"font-weight: bold\">[</span>PROGRESS<span style=\"font-weight: bold\">]</span> <span style=\"color: #008000; text-decoration-color: #008000\">'lasso_src-cNVAE_tgt-VAE_beta-0.7.npy'</span> saved at\n",
       "<span style=\"color: #800080; text-decoration-color: #800080\">/home/hadi/Dropbox/git/jb-MTMST/tmp/</span><span style=\"color: #ff00ff; text-decoration-color: #ff00ff\">alignment_rebuttal</span>\n",
       "</pre>\n"
      ],
      "text/plain": [
       "\u001b[1m[\u001b[0mPROGRESS\u001b[1m]\u001b[0m \u001b[32m'lasso_src-cNVAE_tgt-VAE_beta-0.7.npy'\u001b[0m saved at\n",
       "\u001b[35m/home/hadi/Dropbox/git/jb-MTMST/tmp/\u001b[0m\u001b[95malignment_rebuttal\u001b[0m\n"
      ]
     },
     "metadata": {},
     "output_type": "display_data"
    },
    {
     "data": {
      "text/html": [
       "<pre style=\"white-space:pre;overflow-x:auto;line-height:normal;font-family:Menlo,'DejaVu Sans Mono',consolas,'Courier New',monospace\"><span style=\"font-weight: bold\">[</span>PROGRESS<span style=\"font-weight: bold\">]</span> <span style=\"color: #008000; text-decoration-color: #008000\">'lasso_src-VAE_tgt-cNVAE_beta-0.7.npy'</span> saved at\n",
       "<span style=\"color: #800080; text-decoration-color: #800080\">/home/hadi/Dropbox/git/jb-MTMST/tmp/</span><span style=\"color: #ff00ff; text-decoration-color: #ff00ff\">alignment_rebuttal</span>\n",
       "</pre>\n"
      ],
      "text/plain": [
       "\u001b[1m[\u001b[0mPROGRESS\u001b[1m]\u001b[0m \u001b[32m'lasso_src-VAE_tgt-cNVAE_beta-0.7.npy'\u001b[0m saved at\n",
       "\u001b[35m/home/hadi/Dropbox/git/jb-MTMST/tmp/\u001b[0m\u001b[95malignment_rebuttal\u001b[0m\n"
      ]
     },
     "metadata": {},
     "output_type": "display_data"
    },
    {
     "data": {
      "text/html": [
       "<pre style=\"white-space:pre;overflow-x:auto;line-height:normal;font-family:Menlo,'DejaVu Sans Mono',consolas,'Courier New',monospace\"><span style=\"font-weight: bold\">[</span>PROGRESS<span style=\"font-weight: bold\">]</span> <span style=\"color: #008000; text-decoration-color: #008000\">'lasso_src-cNVAE_tgt-VAE_beta-0.8.npy'</span> saved at\n",
       "<span style=\"color: #800080; text-decoration-color: #800080\">/home/hadi/Dropbox/git/jb-MTMST/tmp/</span><span style=\"color: #ff00ff; text-decoration-color: #ff00ff\">alignment_rebuttal</span>\n",
       "</pre>\n"
      ],
      "text/plain": [
       "\u001b[1m[\u001b[0mPROGRESS\u001b[1m]\u001b[0m \u001b[32m'lasso_src-cNVAE_tgt-VAE_beta-0.8.npy'\u001b[0m saved at\n",
       "\u001b[35m/home/hadi/Dropbox/git/jb-MTMST/tmp/\u001b[0m\u001b[95malignment_rebuttal\u001b[0m\n"
      ]
     },
     "metadata": {},
     "output_type": "display_data"
    },
    {
     "data": {
      "text/html": [
       "<pre style=\"white-space:pre;overflow-x:auto;line-height:normal;font-family:Menlo,'DejaVu Sans Mono',consolas,'Courier New',monospace\"><span style=\"font-weight: bold\">[</span>PROGRESS<span style=\"font-weight: bold\">]</span> <span style=\"color: #008000; text-decoration-color: #008000\">'lasso_src-VAE_tgt-cNVAE_beta-0.8.npy'</span> saved at\n",
       "<span style=\"color: #800080; text-decoration-color: #800080\">/home/hadi/Dropbox/git/jb-MTMST/tmp/</span><span style=\"color: #ff00ff; text-decoration-color: #ff00ff\">alignment_rebuttal</span>\n",
       "</pre>\n"
      ],
      "text/plain": [
       "\u001b[1m[\u001b[0mPROGRESS\u001b[1m]\u001b[0m \u001b[32m'lasso_src-VAE_tgt-cNVAE_beta-0.8.npy'\u001b[0m saved at\n",
       "\u001b[35m/home/hadi/Dropbox/git/jb-MTMST/tmp/\u001b[0m\u001b[95malignment_rebuttal\u001b[0m\n"
      ]
     },
     "metadata": {},
     "output_type": "display_data"
    },
    {
     "data": {
      "text/html": [
       "<pre style=\"white-space:pre;overflow-x:auto;line-height:normal;font-family:Menlo,'DejaVu Sans Mono',consolas,'Courier New',monospace\"><span style=\"font-weight: bold\">[</span>PROGRESS<span style=\"font-weight: bold\">]</span> <span style=\"color: #008000; text-decoration-color: #008000\">'lasso_src-cNVAE_tgt-VAE_beta-0.9.npy'</span> saved at\n",
       "<span style=\"color: #800080; text-decoration-color: #800080\">/home/hadi/Dropbox/git/jb-MTMST/tmp/</span><span style=\"color: #ff00ff; text-decoration-color: #ff00ff\">alignment_rebuttal</span>\n",
       "</pre>\n"
      ],
      "text/plain": [
       "\u001b[1m[\u001b[0mPROGRESS\u001b[1m]\u001b[0m \u001b[32m'lasso_src-cNVAE_tgt-VAE_beta-0.9.npy'\u001b[0m saved at\n",
       "\u001b[35m/home/hadi/Dropbox/git/jb-MTMST/tmp/\u001b[0m\u001b[95malignment_rebuttal\u001b[0m\n"
      ]
     },
     "metadata": {},
     "output_type": "display_data"
    },
    {
     "name": "stderr",
     "output_type": "stream",
     "text": [
      "<timed exec>:45: RuntimeWarning: invalid value encountered in true_divide\n"
     ]
    },
    {
     "data": {
      "text/html": [
       "<pre style=\"white-space:pre;overflow-x:auto;line-height:normal;font-family:Menlo,'DejaVu Sans Mono',consolas,'Courier New',monospace\"><span style=\"font-weight: bold\">[</span>PROGRESS<span style=\"font-weight: bold\">]</span> <span style=\"color: #008000; text-decoration-color: #008000\">'lasso_src-VAE_tgt-cNVAE_beta-0.9.npy'</span> saved at\n",
       "<span style=\"color: #800080; text-decoration-color: #800080\">/home/hadi/Dropbox/git/jb-MTMST/tmp/</span><span style=\"color: #ff00ff; text-decoration-color: #ff00ff\">alignment_rebuttal</span>\n",
       "</pre>\n"
      ],
      "text/plain": [
       "\u001b[1m[\u001b[0mPROGRESS\u001b[1m]\u001b[0m \u001b[32m'lasso_src-VAE_tgt-cNVAE_beta-0.9.npy'\u001b[0m saved at\n",
       "\u001b[35m/home/hadi/Dropbox/git/jb-MTMST/tmp/\u001b[0m\u001b[95malignment_rebuttal\u001b[0m\n"
      ]
     },
     "metadata": {},
     "output_type": "display_data"
    },
    {
     "data": {
      "text/html": [
       "<pre style=\"white-space:pre;overflow-x:auto;line-height:normal;font-family:Menlo,'DejaVu Sans Mono',consolas,'Courier New',monospace\"><span style=\"font-weight: bold\">[</span>PROGRESS<span style=\"font-weight: bold\">]</span> <span style=\"color: #008000; text-decoration-color: #008000\">'lasso_src-cNVAE_tgt-VAE_beta-2.0.npy'</span> saved at\n",
       "<span style=\"color: #800080; text-decoration-color: #800080\">/home/hadi/Dropbox/git/jb-MTMST/tmp/</span><span style=\"color: #ff00ff; text-decoration-color: #ff00ff\">alignment_rebuttal</span>\n",
       "</pre>\n"
      ],
      "text/plain": [
       "\u001b[1m[\u001b[0mPROGRESS\u001b[1m]\u001b[0m \u001b[32m'lasso_src-cNVAE_tgt-VAE_beta-2.0.npy'\u001b[0m saved at\n",
       "\u001b[35m/home/hadi/Dropbox/git/jb-MTMST/tmp/\u001b[0m\u001b[95malignment_rebuttal\u001b[0m\n"
      ]
     },
     "metadata": {},
     "output_type": "display_data"
    },
    {
     "data": {
      "text/html": [
       "<pre style=\"white-space:pre;overflow-x:auto;line-height:normal;font-family:Menlo,'DejaVu Sans Mono',consolas,'Courier New',monospace\"><span style=\"font-weight: bold\">[</span>PROGRESS<span style=\"font-weight: bold\">]</span> <span style=\"color: #008000; text-decoration-color: #008000\">'lasso_src-VAE_tgt-cNVAE_beta-2.0.npy'</span> saved at\n",
       "<span style=\"color: #800080; text-decoration-color: #800080\">/home/hadi/Dropbox/git/jb-MTMST/tmp/</span><span style=\"color: #ff00ff; text-decoration-color: #ff00ff\">alignment_rebuttal</span>\n",
       "</pre>\n"
      ],
      "text/plain": [
       "\u001b[1m[\u001b[0mPROGRESS\u001b[1m]\u001b[0m \u001b[32m'lasso_src-VAE_tgt-cNVAE_beta-2.0.npy'\u001b[0m saved at\n",
       "\u001b[35m/home/hadi/Dropbox/git/jb-MTMST/tmp/\u001b[0m\u001b[95malignment_rebuttal\u001b[0m\n"
      ]
     },
     "metadata": {},
     "output_type": "display_data"
    },
    {
     "data": {
      "text/html": [
       "<pre style=\"white-space:pre;overflow-x:auto;line-height:normal;font-family:Menlo,'DejaVu Sans Mono',consolas,'Courier New',monospace\"><span style=\"font-weight: bold\">[</span>PROGRESS<span style=\"font-weight: bold\">]</span> <span style=\"color: #008000; text-decoration-color: #008000\">'lasso_src-cNVAE_tgt-VAE_beta-10.0.npy'</span> saved at\n",
       "<span style=\"color: #800080; text-decoration-color: #800080\">/home/hadi/Dropbox/git/jb-MTMST/tmp/</span><span style=\"color: #ff00ff; text-decoration-color: #ff00ff\">alignment_rebuttal</span>\n",
       "</pre>\n"
      ],
      "text/plain": [
       "\u001b[1m[\u001b[0mPROGRESS\u001b[1m]\u001b[0m \u001b[32m'lasso_src-cNVAE_tgt-VAE_beta-10.0.npy'\u001b[0m saved at\n",
       "\u001b[35m/home/hadi/Dropbox/git/jb-MTMST/tmp/\u001b[0m\u001b[95malignment_rebuttal\u001b[0m\n"
      ]
     },
     "metadata": {},
     "output_type": "display_data"
    },
    {
     "name": "stderr",
     "output_type": "stream",
     "text": [
      "<timed exec>:45: RuntimeWarning: invalid value encountered in true_divide\n"
     ]
    },
    {
     "data": {
      "text/html": [
       "<pre style=\"white-space:pre;overflow-x:auto;line-height:normal;font-family:Menlo,'DejaVu Sans Mono',consolas,'Courier New',monospace\"><span style=\"font-weight: bold\">[</span>PROGRESS<span style=\"font-weight: bold\">]</span> <span style=\"color: #008000; text-decoration-color: #008000\">'lasso_src-VAE_tgt-cNVAE_beta-10.0.npy'</span> saved at\n",
       "<span style=\"color: #800080; text-decoration-color: #800080\">/home/hadi/Dropbox/git/jb-MTMST/tmp/</span><span style=\"color: #ff00ff; text-decoration-color: #ff00ff\">alignment_rebuttal</span>\n",
       "</pre>\n"
      ],
      "text/plain": [
       "\u001b[1m[\u001b[0mPROGRESS\u001b[1m]\u001b[0m \u001b[32m'lasso_src-VAE_tgt-cNVAE_beta-10.0.npy'\u001b[0m saved at\n",
       "\u001b[35m/home/hadi/Dropbox/git/jb-MTMST/tmp/\u001b[0m\u001b[95malignment_rebuttal\u001b[0m\n"
      ]
     },
     "metadata": {},
     "output_type": "display_data"
    },
    {
     "name": "stdout",
     "output_type": "stream",
     "text": [
      "CPU times: user 4d 14h 33min 31s, sys: 14d 23h 38min 27s, total: 19d 14h 11min 58s\n",
      "Wall time: 13h 9min\n"
     ]
    }
   ],
   "source": [
    "%%time\n",
    "\n",
    "# betas = [\n",
    "#     0.01, 0.1, 0.15, 0.2, 0.3, 0.4, 0.5, 0.6,\n",
    "#     0.7, 0.8, 0.9, 1.0, 1.5, 2.0, 5.0, 10.0,\n",
    "# ]\n",
    "\n",
    "betas = [\n",
    "    0.001, 0.1, 0.6, 0.7,\n",
    "    0.8, 0.9, 2.0, 10.0,\n",
    "]\n",
    "\n",
    "for b in betas:\n",
    "    files = sorted([\n",
    "        f for f in os.listdir(path)\n",
    "        if category in f and\n",
    "        f\"beta-{b}_\" in f and\n",
    "        f not in skip_fits\n",
    "    ])\n",
    "    \n",
    "    data = {}\n",
    "    for f in files:\n",
    "        data[f] = np.load(\n",
    "            file=pjoin(path, f),\n",
    "            allow_pickle=True,\n",
    "        ).item()\n",
    "\n",
    "    for f1, f2 in itertools.combinations(files, 2):\n",
    "        for src, tgt in [(f1, f2), (f2, f1)]:\n",
    "            *_, b_src, m_src = extract_info(src)\n",
    "            *_, b_tgt, m_tgt = extract_info(tgt)\n",
    "            assert b_src == b_tgt\n",
    "\n",
    "            x_vld = data[src]['data_vld']['z']\n",
    "            x_tst = data[src]['data_tst']['z']\n",
    "            y_vld = data[tgt]['data_vld']['z']\n",
    "            y_tst = data[tgt]['data_tst']['z']\n",
    "            \n",
    "            lasso, r2 = _fit_lasso(\n",
    "                x=x_vld,\n",
    "                y=y_vld,\n",
    "                x_tst=x_tst,\n",
    "                y_tst=y_tst,\n",
    "                alpha=0.02,\n",
    "            )\n",
    "            w = np.abs(lasso.coef_)\n",
    "            w /= w.sum(1, keepdims=True)\n",
    "            a = 1 - entropy_normalized(w, axis=1)\n",
    "\n",
    "            results = {\n",
    "                'a': a,\n",
    "                'r2': r2,\n",
    "                'w': w,\n",
    "                'cond': f\"{m_src} -> {m_tgt}\",\n",
    "                'metadata': {\n",
    "                    'src': src,\n",
    "                    'tgt': tgt,\n",
    "                    'model_src': m_src,\n",
    "                    'model_tgt': m_tgt,\n",
    "                    'beta_src': b_src,\n",
    "                    'beta_tgt': b_tgt},\n",
    "                'kl_src': data[src]['loss']['kl_diag'],\n",
    "                'kl_tgt': data[tgt]['loss']['kl_diag'],\n",
    "            }\n",
    "            fname = '_'.join([\n",
    "                'lasso',\n",
    "                f\"src-{m_src}\",\n",
    "                f\"tgt-{m_tgt}\",\n",
    "                f\"beta-{b_src}\",\n",
    "            ])\n",
    "            save_obj(\n",
    "                obj=results,\n",
    "                file_name=fname,\n",
    "                save_dir=save_dir,\n",
    "                verbose=True,\n",
    "                mode='npy',\n",
    "            )"
   ]
  },
  {
   "cell_type": "code",
   "execution_count": null,
   "id": "2b5fe18e",
   "metadata": {},
   "outputs": [],
   "source": []
  },
  {
   "cell_type": "code",
   "execution_count": null,
   "id": "e31a6b38",
   "metadata": {},
   "outputs": [],
   "source": []
  },
  {
   "cell_type": "code",
   "execution_count": 5,
   "id": "4388f9fd",
   "metadata": {
    "scrolled": true
   },
   "outputs": [
    {
     "data": {
      "text/plain": [
       "array([1.        , 0.99999976, 1.0000002 , 1.0000001 ], dtype=float32)"
      ]
     },
     "execution_count": 5,
     "metadata": {},
     "output_type": "execute_result"
    }
   ],
   "source": [
    "w.sum(1)"
   ]
  },
  {
   "cell_type": "code",
   "execution_count": 6,
   "id": "5242ac87",
   "metadata": {},
   "outputs": [
    {
     "data": {
      "text/plain": [
       "'src-cNVAE_tgt-VAE_beta-1.0_lasso'"
      ]
     },
     "execution_count": 6,
     "metadata": {},
     "output_type": "execute_result"
    }
   ],
   "source": [
    "fname"
   ]
  },
  {
   "cell_type": "code",
   "execution_count": 7,
   "id": "dcab2903",
   "metadata": {},
   "outputs": [
    {
     "data": {
      "image/png": "[encoded data removed]",
      "text/plain": [
       "<Figure size 500x320 with 1 Axes>"
      ]
     },
     "metadata": {},
     "output_type": "display_data"
    }
   ],
   "source": [
    "plt.plot(w[3]);"
   ]
  },
  {
   "cell_type": "code",
   "execution_count": 8,
   "id": "d13a2d0b",
   "metadata": {},
   "outputs": [
    {
     "data": {
      "image/png": "[encoded data removed]",
      "text/plain": [
       "<Figure size 500x320 with 1 Axes>"
      ]
     },
     "metadata": {},
     "output_type": "display_data"
    }
   ],
   "source": [
    "sns.histplot(a, bins=np.linspace(0, 1, 41));"
   ]
  },
  {
   "cell_type": "code",
   "execution_count": 9,
   "id": "11f7f29a",
   "metadata": {},
   "outputs": [
    {
     "data": {
      "text/plain": [
       "array([0.64444002, 0.45285117, 0.55075177, 0.047318  ])"
      ]
     },
     "execution_count": 9,
     "metadata": {},
     "output_type": "execute_result"
    }
   ],
   "source": [
    "r2"
   ]
  },
  {
   "cell_type": "code",
   "execution_count": 9,
   "id": "bec6050f",
   "metadata": {},
   "outputs": [
    {
     "data": {
      "text/plain": [
       "[<matplotlib.lines.Line2D at 0x7f574922cd00>]"
      ]
     },
     "execution_count": 9,
     "metadata": {},
     "output_type": "execute_result"
    },
    {
     "data": {
      "image/png": "[encoded data removed]",
      "text/plain": [
       "<Figure size 500x320 with 1 Axes>"
      ]
     },
     "metadata": {},
     "output_type": "display_data"
    }
   ],
   "source": []
  },
  {
   "cell_type": "code",
   "execution_count": 12,
   "id": "1608b493",
   "metadata": {},
   "outputs": [
    {
     "data": {
      "image/png": "[encoded data removed]",
      "text/plain": [
       "<Figure size 500x320 with 1 Axes>"
      ]
     },
     "metadata": {},
     "output_type": "display_data"
    }
   ],
   "source": []
  },
  {
   "cell_type": "code",
   "execution_count": 13,
   "id": "0428bdc2",
   "metadata": {},
   "outputs": [
    {
     "data": {
      "text/plain": [
       "'src-cNVAE_tgt-VAE_beta-1.0_zscored'"
      ]
     },
     "execution_count": 13,
     "metadata": {},
     "output_type": "execute_result"
    }
   ],
   "source": []
  },
  {
   "cell_type": "code",
   "execution_count": null,
   "id": "30ee621c",
   "metadata": {},
   "outputs": [],
   "source": []
  },
  {
   "cell_type": "code",
   "execution_count": null,
   "id": "83abd0a8",
   "metadata": {},
   "outputs": [],
   "source": []
  },
  {
   "cell_type": "code",
   "execution_count": null,
   "id": "8c025097",
   "metadata": {},
   "outputs": [],
   "source": []
  }
 ],
 "metadata": {
  "kernelspec": {
   "display_name": "Python 3 (ipykernel)",
   "language": "python",
   "name": "python3"
  },
  "language_info": {
   "codemirror_mode": {
    "name": "ipython",
    "version": 3
   },
   "file_extension": ".py",
   "mimetype": "text/x-python",
   "name": "python",
   "nbconvert_exporter": "python",
   "pygments_lexer": "ipython3",
   "version": "3.8.5"
  }
 },
 "nbformat": 4,
 "nbformat_minor": 5
}
