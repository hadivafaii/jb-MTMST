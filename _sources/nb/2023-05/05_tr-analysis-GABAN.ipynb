{
 "cells": [
  {
   "cell_type": "markdown",
   "id": "fe66e455",
   "metadata": {},
   "source": [
    "# (05) Trainers (KABA)\n",
    "\n",
    "**Motivation**: <br>"
   ]
  },
  {
   "cell_type": "code",
   "execution_count": 1,
   "id": "ccc224d8",
   "metadata": {},
   "outputs": [],
   "source": [
    "# HIDE CODE\n",
    "\n",
    "\n",
    "import os, sys\n",
    "from IPython.display import display\n",
    "\n",
    "# tmp & extras dir\n",
    "git_dir = os.path.join(os.environ['HOME'], 'Dropbox/git')\n",
    "extras_dir = os.path.join(git_dir, 'jb-MTMST/_extras')\n",
    "fig_base_dir = os.path.join(git_dir, 'jb-MTMST/figs')\n",
    "tmp_dir = os.path.join(git_dir, 'jb-MTMST/tmp')\n",
    "\n",
    "# GitHub\n",
    "sys.path.insert(0, os.path.join(git_dir, '_MTMST'))\n",
    "from vae.train_vae import TrainerVAE, ConfigTrainVAE\n",
    "from vae.vae2d import VAE, ConfigVAE\n",
    "from figures.fighelper import *\n",
    "from analysis.glm import *\n",
    "\n",
    "\n",
    "# warnings, tqdm, & style\n",
    "warnings.filterwarnings('ignore', category=DeprecationWarning)\n",
    "from rich.jupyter import print\n",
    "%matplotlib inline\n",
    "set_style()"
   ]
  },
  {
   "cell_type": "code",
   "execution_count": null,
   "id": "3373813a",
   "metadata": {},
   "outputs": [],
   "source": []
  },
  {
   "cell_type": "code",
   "execution_count": 2,
   "id": "8bc9911e",
   "metadata": {},
   "outputs": [
    {
     "data": {
      "text/plain": [
       "34"
      ]
     },
     "execution_count": 2,
     "metadata": {},
     "output_type": "execute_result"
    }
   ],
   "source": [
    "path = results_dir()\n",
    "path = pathlib.Path(path)\n",
    "\n",
    "trainer_paths = set()\n",
    "pattern = '**/Trainer' # '**/*fixate1*/**/Trainer'\n",
    "for p in path.rglob(pattern):\n",
    "    if p.is_dir():\n",
    "        trainer_paths.add(str(p))\n",
    "trainer_paths = sorted(trainer_paths)\n",
    "len(trainer_paths)"
   ]
  },
  {
   "cell_type": "code",
   "execution_count": null,
   "id": "6056c960",
   "metadata": {},
   "outputs": [],
   "source": []
  },
  {
   "cell_type": "code",
   "execution_count": 3,
   "id": "b911b3b8",
   "metadata": {},
   "outputs": [],
   "source": [
    "for fit_path in trainer_paths:\n",
    "    fit_name = fit_path.split('/')[-2]\n",
    "    f = pjoin(tmp_dir, 'trainer_analysis', fit_name)\n",
    "    f = f\"{f}.npy\"\n",
    "    if not os.path.isfile(f):\n",
    "        print(fit_name, os.path.isfile(f))"
   ]
  },
  {
   "cell_type": "code",
   "execution_count": null,
   "id": "2ebc95b3",
   "metadata": {},
   "outputs": [],
   "source": []
  },
  {
   "cell_type": "code",
   "execution_count": 4,
   "id": "ec3fd2de",
   "metadata": {
    "scrolled": false
   },
   "outputs": [],
   "source": [
    "for fit_path in trainer_paths:\n",
    "    fit_name = fit_path.split('/')[-2]\n",
    "    f = pjoin(tmp_dir, 'trainer_analysis', fit_name)\n",
    "    f = f\"{f}.npy\"\n",
    "    if os.path.isfile(f):\n",
    "        continue\n",
    "\n",
    "    print('~' * 12 + '   fit name :   ' + '~' * 12)\n",
    "    print(fit_name)\n",
    "    print('-' * 40)\n",
    "    tr, _ = load_model_lite(fit_path, 'cuda')\n",
    "    all_norms = to_np(torch.cat(\n",
    "        tr.model.all_lognorm).exp())\n",
    "    avg_norms = all_norms.mean()\n",
    "\n",
    "    fig, ax = create_figure(1, 1, (5, 2.5))\n",
    "    sns.histplot(all_norms, bins=np.linspace(0.5, 1.5, 101), ax=ax)\n",
    "    ax.axvline(avg_norms, color='r', ls='--', lw=1.2, label=f'avg = {avg_norms:0.3f}')\n",
    "    title = f\"sim = {tr.model.cfg.sim},   \" + r\"$\\beta$ = \" + f\"{tr.cfg.kl_beta:0.2f}\"\n",
    "    ax.set_title(title, fontsize=12)\n",
    "    ax.legend()\n",
    "    plt.show()\n",
    "    \n",
    "    val, loss = tr.validate(use_ema=False)\n",
    "    data_trn, _ = tr.forward('trn', freeze=True, use_ema=False)\n",
    "    data_vld, _ = tr.forward('vld', freeze=True, use_ema=False)\n",
    "    data_tst, _ = tr.forward('tst', freeze=True, use_ema=False)\n",
    "    \n",
    "    msg = f\"{tr.model.cfg.sim}:\\tbeta = {tr.cfg.kl_beta},\\t\"\n",
    "    msg += f\"NELBO: {loss['epe'].mean() + loss['kl'].mean():0.2f}\"\n",
    "    print(msg)\n",
    "    print({k: v.mean() for k, v in loss.items()})\n",
    "\n",
    "    # regress\n",
    "    f = tr.dl_vld.dataset.f + tr.dl_vld.dataset.f_aux\n",
    "    g = np.concatenate([\n",
    "        tr.dl_vld.dataset.g,\n",
    "        tr.dl_vld.dataset.g_aux,\n",
    "    ], axis=1)\n",
    "    g_tst = np.concatenate([\n",
    "        tr.dl_tst.dataset.g,\n",
    "        tr.dl_tst.dataset.g_aux,\n",
    "    ], axis=1)\n",
    "\n",
    "    shape = (len(f), data_vld['z'].shape[1])\n",
    "    importances_mu = np.zeros(shape)\n",
    "    importances_sd = np.zeros(shape)\n",
    "\n",
    "    for i in tqdm(range(len(f)), leave=False):\n",
    "        _lr = sk_linear.LinearRegression().fit(\n",
    "            data_vld['z'], g[:, i])\n",
    "        result = sk_inspect.permutation_importance(\n",
    "            estimator=_lr,\n",
    "            X=data_tst['z'],\n",
    "            y=g_tst[:, i],\n",
    "            n_repeats=5,\n",
    "            random_state=0,\n",
    "        )\n",
    "        importances_mu[i] = result.importances_mean\n",
    "        importances_sd[i] = result.importances_std\n",
    "\n",
    "    everything = {\n",
    "        'val': val,\n",
    "        'loss': loss,\n",
    "        'data_trn': data_trn,\n",
    "        'data_vld': data_vld,\n",
    "        'data_tst': data_tst,\n",
    "        'importances_mu': importances_mu,\n",
    "        'importances_sd': importances_sd,\n",
    "        'f': f,\n",
    "    }\n",
    "    save_obj(\n",
    "        obj=everything,\n",
    "        file_name=fit_name,\n",
    "        save_dir=pjoin(tmp_dir, 'trainer_analysis'),\n",
    "        verbose=True,\n",
    "        mode='npy',\n",
    "    )\n",
    "\n",
    "    torch.cuda.empty_cache()"
   ]
  },
  {
   "cell_type": "code",
   "execution_count": null,
   "id": "10d3102a",
   "metadata": {},
   "outputs": [],
   "source": []
  },
  {
   "cell_type": "code",
   "execution_count": 5,
   "id": "b2975bd3",
   "metadata": {},
   "outputs": [],
   "source": [
    "for fit_path in trainer_paths:\n",
    "    fit_name = fit_path.split('/')[-2]\n",
    "    f = pjoin(tmp_dir, 'trainer_analysis', fit_name)\n",
    "    f = f\"{f}.npy\"\n",
    "    if not os.path.isfile(f):\n",
    "        print(fit_name, os.path.isfile(f))"
   ]
  },
  {
   "cell_type": "code",
   "execution_count": null,
   "id": "9c5e4043",
   "metadata": {},
   "outputs": [],
   "source": []
  },
  {
   "cell_type": "code",
   "execution_count": null,
   "id": "78a30698",
   "metadata": {},
   "outputs": [],
   "source": []
  },
  {
   "cell_type": "code",
   "execution_count": null,
   "id": "d4665e1b",
   "metadata": {},
   "outputs": [],
   "source": []
  }
 ],
 "metadata": {
  "kernelspec": {
   "display_name": "Python 3 (ipykernel)",
   "language": "python",
   "name": "python3"
  },
  "language_info": {
   "codemirror_mode": {
    "name": "ipython",
    "version": 3
   },
   "file_extension": ".py",
   "mimetype": "text/x-python",
   "name": "python",
   "nbconvert_exporter": "python",
   "pygments_lexer": "ipython3",
   "version": "3.8.5"
  }
 },
 "nbformat": 4,
 "nbformat_minor": 5
}
