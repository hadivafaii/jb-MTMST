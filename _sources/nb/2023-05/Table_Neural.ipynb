{
 "cells": [
  {
   "cell_type": "markdown",
   "id": "fe66e455",
   "metadata": {},
   "source": [
    "# Table: Neural"
   ]
  },
  {
   "cell_type": "code",
   "execution_count": 1,
   "id": "fb318b8d",
   "metadata": {},
   "outputs": [],
   "source": [
    "# HIDE CODE\n",
    "\n",
    "\n",
    "import os, sys\n",
    "from IPython.display import display\n",
    "\n",
    "# tmp & extras dir\n",
    "git_dir = os.path.join(os.environ['HOME'], 'Dropbox/git')\n",
    "extras_dir = os.path.join(git_dir, 'jb-MTMST/_extras')\n",
    "fig_base_dir = os.path.join(git_dir, 'jb-MTMST/figs')\n",
    "tmp_dir = os.path.join(git_dir, 'jb-MTMST/tmp')\n",
    "\n",
    "# GitHub\n",
    "sys.path.insert(0, os.path.join(git_dir, '_MTMST'))\n",
    "from vae.train_vae import TrainerVAE, ConfigTrainVAE\n",
    "from vae.vae2d import VAE, ConfigVAE\n",
    "from figures.fighelper import *\n",
    "from analysis.glm import *\n",
    "\n",
    "\n",
    "# warnings, tqdm, & style\n",
    "warnings.filterwarnings('ignore', category=DeprecationWarning)\n",
    "from rich.jupyter import print\n",
    "%matplotlib inline\n",
    "set_style()"
   ]
  },
  {
   "cell_type": "code",
   "execution_count": 2,
   "id": "6cc729a4",
   "metadata": {},
   "outputs": [],
   "source": [
    "pal_model, pal_cat = get_palette()\n",
    "\n",
    "kws_fig = {\n",
    "    'transparent': True,\n",
    "    'bbox_inches': 'tight',\n",
    "    'dpi': 300,\n",
    "}\n",
    "skip_fits = [\n",
    "    'fixate2_nf-420_beta-0.15_(2023_04_27,13:57)',\n",
    "    'fixate1_nf-420_beta-0.8_(2023_05_07,04:15)',\n",
    "]\n",
    "category2latex = {\n",
    "    'fixate0': '\\\\fixate{0}',\n",
    "    'fixate1': '\\\\fixate{1}',\n",
    "    'obj1': '\\\\obj{1}',\n",
    "}\n",
    "\n",
    "def _info(fit):\n",
    "    info = fit.split('_')\n",
    "    i = info.index([\n",
    "        e for e in info\n",
    "        if 'nf-' in e\n",
    "    ].pop())\n",
    "    category = info[i - 1]\n",
    "    nf = int(info[i].split('-')[1])\n",
    "    beta = info[i + 1].split('-')[1]\n",
    "    try:\n",
    "        beta = float(beta)\n",
    "    except ValueError:\n",
    "        beta = str(beta)\n",
    "    tag = 'VAE' if 'vanilla' in info else 'cNVAE'\n",
    "    if beta == 'ae':\n",
    "        tag = tag.replace('V', '')\n",
    "    return category, nf, beta, tag"
   ]
  },
  {
   "cell_type": "markdown",
   "id": "3bb7b82f",
   "metadata": {},
   "source": [
    "## Path"
   ]
  },
  {
   "cell_type": "code",
   "execution_count": 3,
   "id": "f74bbfcd",
   "metadata": {},
   "outputs": [],
   "source": [
    "path = pjoin(tmp_dir, 'results_combined')"
   ]
  },
  {
   "cell_type": "code",
   "execution_count": 4,
   "id": "e39fc211",
   "metadata": {},
   "outputs": [],
   "source": [
    "fits = []\n",
    "with open(pjoin(path, 'fits.txt'), 'r') as f:\n",
    "    for line in f:\n",
    "        if '# computer name' in line:\n",
    "            continue\n",
    "        fits.append(line.split('\\n')[0])"
   ]
  },
  {
   "cell_type": "markdown",
   "id": "782719eb",
   "metadata": {},
   "source": [
    "## Load to df"
   ]
  },
  {
   "cell_type": "code",
   "execution_count": 5,
   "id": "04fc7509",
   "metadata": {},
   "outputs": [],
   "source": [
    "df_neural = []\n",
    "for fit in fits:\n",
    "    if 'reservoir' in fit or fit in skip_fits:\n",
    "        continue\n",
    "    category, nf, beta, tag = _info(fit)    \n",
    "    if beta == 20.0:\n",
    "        continue\n",
    "\n",
    "    # load df\n",
    "    _df = f\"summary_{fit}.df\"\n",
    "    _df = pjoin(tmp_dir, 'results_combined', _df)\n",
    "    _df = pd.read_pickle(_df)\n",
    "    assert len(_df) == 141\n",
    "    _df.insert(0, 'model', tag)\n",
    "    df_neural.append(_df)\n",
    "\n",
    "df_neural = pd.concat(df_neural).reset_index()\n",
    "betas = ['ae'] + sorted([\n",
    "    b for b in df_neural['beta'].unique()\n",
    "    if isinstance(b, float)\n",
    "])"
   ]
  },
  {
   "cell_type": "markdown",
   "id": "1b29daa6",
   "metadata": {},
   "source": [
    "## Table without pool"
   ]
  },
  {
   "cell_type": "code",
   "execution_count": 6,
   "id": "4b784f44",
   "metadata": {},
   "outputs": [],
   "source": [
    "which_betas = [0.5, 0.8, 1, 5]\n",
    "\n",
    "looper = {\n",
    "    'cNVAE': ['fixate1', 'fixate0', 'obj1'],\n",
    "    'VAE': ['fixate1'],\n",
    "    'cNAE': ['fixate1'],\n",
    "    'AE': ['fixate1'],\n",
    "}\n",
    "table = ''\n",
    "for model, cat_list in looper.items():\n",
    "    first_row_added = False\n",
    "    for cat in cat_list:\n",
    "        _df = df_neural.loc[\n",
    "            (df_neural['model'] == model) &\n",
    "            (df_neural['category'] == cat)\n",
    "        ]\n",
    "        if not len(_df):\n",
    "            continue\n",
    "\n",
    "        mu = _df.groupby(['beta']).mean()\n",
    "        sd = _df.groupby(['beta']).std()\n",
    "        mu, sd = dict(mu['perf']), dict(sd['perf'])\n",
    "\n",
    "        with warnings.catch_warnings():\n",
    "            warnings.simplefilter(\"ignore\")\n",
    "            _df = _df.pivot(columns='beta', values='perf', index='index')\n",
    "        assert len(_df) == 141\n",
    "\n",
    "        mu['pool'] = _df.max(1).mean()\n",
    "        sd['pool'] = _df.max(1).std()\n",
    "        se = {\n",
    "            k: v / np.sqrt(len(_df))\n",
    "            for k, v in sd.items()\n",
    "        }\n",
    "\n",
    "        if 'VAE' in model:\n",
    "            r_str = []\n",
    "            for b in which_betas:\n",
    "                if mu[b] > 0.5:\n",
    "                    r_str.append(f\"$\\mathbf{'{'}{mu[b]:0.3f} \\\\pm {se[b]:0.3f}{'}'}$\")\n",
    "                else:\n",
    "                    r_str.append(f\"${mu[b]:0.3f} \\\\pm {se[b]:0.3f}$\")\n",
    "            r_str = ' & '.join(r_str)\n",
    "        else:\n",
    "            if mu['ae'] > 0.5:\n",
    "                r_str = f\"$\\mathbf{'{'}{mu['ae']:0.3f} \\\\pm {se['ae']:0.3f}{'}'}$\"\n",
    "            else:\n",
    "                r_str = f\"${mu['ae']:0.3f} \\\\pm {se['ae']:0.3f}$\"\n",
    "\n",
    "        if first_row_added:\n",
    "            table += f\"& {cat} & {r_str} \\\\\\\\\\n\"\n",
    "        else:\n",
    "            model_str = f\"{model} \"\n",
    "            table += model_str + f\"& {cat} & {r_str} \\\\\\\\\\n\"\n",
    "            first_row_added = True"
   ]
  },
  {
   "cell_type": "code",
   "execution_count": 7,
   "id": "c89932da",
   "metadata": {
    "scrolled": true
   },
   "outputs": [
    {
     "data": {
      "text/html": [
       "<pre style=\"white-space:pre;overflow-x:auto;line-height:normal;font-family:Menlo,'DejaVu Sans Mono',consolas,'Courier New',monospace\">cNVAE &amp; \\fixate<span style=\"font-weight: bold\">{</span><span style=\"color: #008080; text-decoration-color: #008080; font-weight: bold\">1</span><span style=\"font-weight: bold\">}</span> &amp; $\\mathbf<span style=\"font-weight: bold\">{</span><span style=\"color: #008080; text-decoration-color: #008080; font-weight: bold\">0.506</span> \\pm <span style=\"color: #008080; text-decoration-color: #008080; font-weight: bold\">0.018</span><span style=\"font-weight: bold\">}</span>$ &amp; $\\mathbf<span style=\"font-weight: bold\">{</span><span style=\"color: #008080; text-decoration-color: #008080; font-weight: bold\">0.517</span> \\pm <span style=\"color: #008080; text-decoration-color: #008080; font-weight: bold\">0.017</span><span style=\"font-weight: bold\">}</span>$ &amp; $<span style=\"color: #008080; text-decoration-color: #008080; font-weight: bold\">0.494</span> \\pm \n",
       "<span style=\"color: #008080; text-decoration-color: #008080; font-weight: bold\">0.018</span>$ &amp; $<span style=\"color: #008080; text-decoration-color: #008080; font-weight: bold\">0.486</span> \\pm <span style=\"color: #008080; text-decoration-color: #008080; font-weight: bold\">0.016</span>$ \\\\\n",
       "&amp; \\fixate<span style=\"font-weight: bold\">{</span><span style=\"color: #008080; text-decoration-color: #008080; font-weight: bold\">0</span><span style=\"font-weight: bold\">}</span> &amp; $<span style=\"color: #008080; text-decoration-color: #008080; font-weight: bold\">0.428</span> \\pm <span style=\"color: #008080; text-decoration-color: #008080; font-weight: bold\">0.018</span>$ &amp; $<span style=\"color: #008080; text-decoration-color: #008080; font-weight: bold\">0.450</span> \\pm <span style=\"color: #008080; text-decoration-color: #008080; font-weight: bold\">0.019</span>$ &amp; $<span style=\"color: #008080; text-decoration-color: #008080; font-weight: bold\">0.442</span> \\pm <span style=\"color: #008080; text-decoration-color: #008080; font-weight: bold\">0.019</span>$ &amp; $<span style=\"color: #008080; text-decoration-color: #008080; font-weight: bold\">0.469</span> \\pm <span style=\"color: #008080; text-decoration-color: #008080; font-weight: bold\">0.018</span>$ \n",
       "\\\\\n",
       "&amp; \\obj<span style=\"font-weight: bold\">{</span><span style=\"color: #008080; text-decoration-color: #008080; font-weight: bold\">1</span><span style=\"font-weight: bold\">}</span> &amp; $<span style=\"color: #008080; text-decoration-color: #008080; font-weight: bold\">0.471</span> \\pm <span style=\"color: #008080; text-decoration-color: #008080; font-weight: bold\">0.018</span>$ &amp; $<span style=\"color: #008080; text-decoration-color: #008080; font-weight: bold\">0.465</span> \\pm <span style=\"color: #008080; text-decoration-color: #008080; font-weight: bold\">0.018</span>$ &amp; $<span style=\"color: #008080; text-decoration-color: #008080; font-weight: bold\">0.477</span> \\pm <span style=\"color: #008080; text-decoration-color: #008080; font-weight: bold\">0.017</span>$ &amp; $<span style=\"color: #008080; text-decoration-color: #008080; font-weight: bold\">0.468</span> \\pm <span style=\"color: #008080; text-decoration-color: #008080; font-weight: bold\">0.018</span>$ \\\\\n",
       "VAE &amp; \\fixate<span style=\"font-weight: bold\">{</span><span style=\"color: #008080; text-decoration-color: #008080; font-weight: bold\">1</span><span style=\"font-weight: bold\">}</span> &amp; $\\mathbf<span style=\"font-weight: bold\">{</span><span style=\"color: #008080; text-decoration-color: #008080; font-weight: bold\">0.508</span> \\pm <span style=\"color: #008080; text-decoration-color: #008080; font-weight: bold\">0.019</span><span style=\"font-weight: bold\">}</span>$ &amp; $<span style=\"color: #008080; text-decoration-color: #008080; font-weight: bold\">0.481</span> \\pm <span style=\"color: #008080; text-decoration-color: #008080; font-weight: bold\">0.018</span>$ &amp; $<span style=\"color: #008080; text-decoration-color: #008080; font-weight: bold\">0.494</span> \\pm <span style=\"color: #008080; text-decoration-color: #008080; font-weight: bold\">0.018</span>$ &amp; \n",
       "$\\mathbf<span style=\"font-weight: bold\">{</span><span style=\"color: #008080; text-decoration-color: #008080; font-weight: bold\">0.509</span> \\pm <span style=\"color: #008080; text-decoration-color: #008080; font-weight: bold\">0.018</span><span style=\"font-weight: bold\">}</span>$ \\\\\n",
       "cNAE &amp; \\fixate<span style=\"font-weight: bold\">{</span><span style=\"color: #008080; text-decoration-color: #008080; font-weight: bold\">1</span><span style=\"font-weight: bold\">}</span> &amp; $<span style=\"color: #008080; text-decoration-color: #008080; font-weight: bold\">0.476</span> \\pm <span style=\"color: #008080; text-decoration-color: #008080; font-weight: bold\">0.018</span>$ \\\\\n",
       "AE &amp; \\fixate<span style=\"font-weight: bold\">{</span><span style=\"color: #008080; text-decoration-color: #008080; font-weight: bold\">1</span><span style=\"font-weight: bold\">}</span> &amp; $<span style=\"color: #008080; text-decoration-color: #008080; font-weight: bold\">0.495</span> \\pm <span style=\"color: #008080; text-decoration-color: #008080; font-weight: bold\">0.019</span>$ \\\\\n",
       "\n",
       "</pre>\n"
      ],
      "text/plain": [
       "cNVAE & \\fixate\u001b[1m{\u001b[0m\u001b[1;36m1\u001b[0m\u001b[1m}\u001b[0m & $\\mathbf\u001b[1m{\u001b[0m\u001b[1;36m0.506\u001b[0m \\pm \u001b[1;36m0.018\u001b[0m\u001b[1m}\u001b[0m$ & $\\mathbf\u001b[1m{\u001b[0m\u001b[1;36m0.517\u001b[0m \\pm \u001b[1;36m0.017\u001b[0m\u001b[1m}\u001b[0m$ & $\u001b[1;36m0.494\u001b[0m \\pm \n",
       "\u001b[1;36m0.018\u001b[0m$ & $\u001b[1;36m0.486\u001b[0m \\pm \u001b[1;36m0.016\u001b[0m$ \\\\\n",
       "& \\fixate\u001b[1m{\u001b[0m\u001b[1;36m0\u001b[0m\u001b[1m}\u001b[0m & $\u001b[1;36m0.428\u001b[0m \\pm \u001b[1;36m0.018\u001b[0m$ & $\u001b[1;36m0.450\u001b[0m \\pm \u001b[1;36m0.019\u001b[0m$ & $\u001b[1;36m0.442\u001b[0m \\pm \u001b[1;36m0.019\u001b[0m$ & $\u001b[1;36m0.469\u001b[0m \\pm \u001b[1;36m0.018\u001b[0m$ \n",
       "\\\\\n",
       "& \\obj\u001b[1m{\u001b[0m\u001b[1;36m1\u001b[0m\u001b[1m}\u001b[0m & $\u001b[1;36m0.471\u001b[0m \\pm \u001b[1;36m0.018\u001b[0m$ & $\u001b[1;36m0.465\u001b[0m \\pm \u001b[1;36m0.018\u001b[0m$ & $\u001b[1;36m0.477\u001b[0m \\pm \u001b[1;36m0.017\u001b[0m$ & $\u001b[1;36m0.468\u001b[0m \\pm \u001b[1;36m0.018\u001b[0m$ \\\\\n",
       "VAE & \\fixate\u001b[1m{\u001b[0m\u001b[1;36m1\u001b[0m\u001b[1m}\u001b[0m & $\\mathbf\u001b[1m{\u001b[0m\u001b[1;36m0.508\u001b[0m \\pm \u001b[1;36m0.019\u001b[0m\u001b[1m}\u001b[0m$ & $\u001b[1;36m0.481\u001b[0m \\pm \u001b[1;36m0.018\u001b[0m$ & $\u001b[1;36m0.494\u001b[0m \\pm \u001b[1;36m0.018\u001b[0m$ & \n",
       "$\\mathbf\u001b[1m{\u001b[0m\u001b[1;36m0.509\u001b[0m \\pm \u001b[1;36m0.018\u001b[0m\u001b[1m}\u001b[0m$ \\\\\n",
       "cNAE & \\fixate\u001b[1m{\u001b[0m\u001b[1;36m1\u001b[0m\u001b[1m}\u001b[0m & $\u001b[1;36m0.476\u001b[0m \\pm \u001b[1;36m0.018\u001b[0m$ \\\\\n",
       "AE & \\fixate\u001b[1m{\u001b[0m\u001b[1;36m1\u001b[0m\u001b[1m}\u001b[0m & $\u001b[1;36m0.495\u001b[0m \\pm \u001b[1;36m0.019\u001b[0m$ \\\\\n",
       "\n"
      ]
     },
     "metadata": {},
     "output_type": "display_data"
    }
   ],
   "source": [
    "for k, v in category2latex.items():\n",
    "    table = table.replace(k, v)\n",
    "\n",
    "print(table)    "
   ]
  },
  {
   "cell_type": "code",
   "execution_count": null,
   "id": "a8c6ac0d",
   "metadata": {},
   "outputs": [],
   "source": []
  },
  {
   "cell_type": "markdown",
   "id": "f333b4c0",
   "metadata": {},
   "source": [
    "## Fig"
   ]
  },
  {
   "cell_type": "code",
   "execution_count": 8,
   "id": "aad8fa06",
   "metadata": {},
   "outputs": [],
   "source": [
    "props_box = {\n",
    "    'boxprops': {\n",
    "        'edgecolor': 'k',\n",
    "        # 'facecolor': 'none',\n",
    "        # 'lw': 1.5,\n",
    "        'ls': '-'},\n",
    "    'medianprops': {'color': 'k', 'lw': 1.5},\n",
    "    'whiskerprops': {'color': 'k', 'lw': 1.5},\n",
    "    'capprops': {'color': 'k', 'lw': 1.5, 'zorder': 3},\n",
    "    'flierprops': {\n",
    "        'marker': 'o',\n",
    "        'alpha': 0.3,\n",
    "        'zorder': 1,\n",
    "        'markersize': 2},\n",
    "    'showfliers': True,\n",
    "    'showmeans': True,\n",
    "    'dodge': True,\n",
    "    'width': 0.5,\n",
    "}\n",
    "props_mean = {\n",
    "    'marker': 'o',\n",
    "    'markerfacecolor': 'white',\n",
    "    'markeredgecolor': 'k',\n",
    "    'markersize': 3,\n",
    "    'alpha': 1.0,\n",
    "}"
   ]
  },
  {
   "cell_type": "code",
   "execution_count": 53,
   "id": "eb905984",
   "metadata": {},
   "outputs": [
    {
     "data": {
      "image/png": "[encoded data removed]",
      "text/plain": [
       "<Figure size 1000x200 with 1 Axes>"
      ]
     },
     "metadata": {},
     "output_type": "display_data"
    }
   ],
   "source": [
    "_df1 = df_neural.loc[\n",
    "    (df_neural['category'] == 'fixate1') &\n",
    "    (df_neural['beta'] != 'ae')\n",
    "]\n",
    "_df2 = df_neural.loc[\n",
    "    (df_neural['category'] == 'fixate1') &\n",
    "    (df_neural['beta'] == 'ae')\n",
    "]\n",
    "_pal1 = {\n",
    "    k: v for k, v in pal_model.items()\n",
    "    if k in _df1['model'].unique()\n",
    "}\n",
    "_pal2 = {\n",
    "    k: v for k, v in pal_model.items()\n",
    "    if k in _df2['model'].unique()\n",
    "}\n",
    "\n",
    "fig, ax = create_figure(1, 1, (10, 2))\n",
    "sns.boxplot(\n",
    "    data=_df1,\n",
    "    x='beta',\n",
    "    y='perf',\n",
    "    hue='model',\n",
    "    order=betas,\n",
    "    palette=_pal1,\n",
    "    hue_order=_pal1,\n",
    "    meanprops=props_mean,\n",
    "    ax=ax,\n",
    "    **props_box,\n",
    ")\n",
    "sns.boxplot(\n",
    "    data=_df2,\n",
    "    x='beta',\n",
    "    y='perf',\n",
    "    hue='model',\n",
    "    order=betas,\n",
    "    palette=_pal2,\n",
    "    hue_order=_pal2,\n",
    "    meanprops=props_mean,\n",
    "    ax=ax,\n",
    "    **props_box,\n",
    ")\n",
    "ax.axhline(0.251, color='k', ls='--', zorder=0)\n",
    "ax.set_xlabel(r'$\\beta$', fontsize=13)\n",
    "ax.set_ylabel('Performance', fontsize=11)\n",
    "\n",
    "ax.tick_params(axis='y', labelsize=10)\n",
    "ax.set_ylim(0, 1)\n",
    "\n",
    "# leg = ax.get_legend()\n",
    "# leg.remove()\n",
    "sns.move_legend(ax, None, bbox_to_anchor=(1.0, 1.05))\n",
    "\n",
    "ax.grid()\n",
    "plt.show()"
   ]
  },
  {
   "cell_type": "code",
   "execution_count": 54,
   "id": "bb4df1e9",
   "metadata": {},
   "outputs": [],
   "source": [
    "fig.savefig(pjoin(fig_base_dir, 'neural_perf.pdf'), **kws_fig)\n",
    "fig.savefig(pjoin(fig_base_dir, 'neural_perf.png'), **kws_fig)"
   ]
  },
  {
   "cell_type": "code",
   "execution_count": null,
   "id": "8a798491",
   "metadata": {},
   "outputs": [],
   "source": []
  },
  {
   "cell_type": "code",
   "execution_count": 33,
   "id": "6f29195c",
   "metadata": {},
   "outputs": [],
   "source": [
    "from statsmodels.stats.multitest import multipletests"
   ]
  },
  {
   "cell_type": "code",
   "execution_count": 34,
   "id": "305ffa0d",
   "metadata": {},
   "outputs": [],
   "source": [
    "pvals = {}\n",
    "for b in betas:\n",
    "    _df = df_neural.loc[\n",
    "        (df_neural['category'] == 'fixate1') &\n",
    "        (df_neural['beta'] == b)\n",
    "    ]\n",
    "    if isinstance(b, float):\n",
    "        m1, m2 = 'cNVAE', 'VAE'\n",
    "    else:\n",
    "        m1, m2 = 'cNAE', 'AE'\n",
    "    a1 = _df.loc[_df['model'] == m1, 'perf'].values\n",
    "    a2 = _df.loc[_df['model'] == m2, 'perf'].values\n",
    "    test = sp_stats.ttest_rel(a=a1, b=a2, alternative='two-sided')\n",
    "    pvals[b] = test.pvalue"
   ]
  },
  {
   "cell_type": "code",
   "execution_count": 35,
   "id": "76b37e39",
   "metadata": {},
   "outputs": [
    {
     "data": {
      "text/plain": [
       "{'ae': 0.007831013431362856,\n",
       " 0.01: 0.0009338018491525361,\n",
       " 0.1: 1.0066700625327433e-07,\n",
       " 0.15: 0.05245045423217892,\n",
       " 0.2: 0.09213269756796097,\n",
       " 0.3: 0.8832320238310638,\n",
       " 0.4: 0.07125080192382834,\n",
       " 0.5: 0.8768421668079943,\n",
       " 0.6: 0.0006212115548061991,\n",
       " 0.7: 0.06377506188650818,\n",
       " 0.8: 6.758758248595369e-07,\n",
       " 0.9: 0.005292745356981266,\n",
       " 1.0: 0.9852235361522685,\n",
       " 1.5: 0.0475025010820402,\n",
       " 2.0: 0.6611231566295634,\n",
       " 5.0: 0.00483060353611394,\n",
       " 10.0: 0.5083819266573626}"
      ]
     },
     "execution_count": 35,
     "metadata": {},
     "output_type": "execute_result"
    }
   ],
   "source": [
    "pvals"
   ]
  },
  {
   "cell_type": "code",
   "execution_count": 38,
   "id": "72597c2c",
   "metadata": {},
   "outputs": [],
   "source": [
    "reject, pvals_corrected, *_ = multipletests(list(pvals.values()), method='fdr_bh')\n",
    "pvals_corrected = dict(zip(betas, pvals_corrected))"
   ]
  },
  {
   "cell_type": "code",
   "execution_count": 41,
   "id": "99028545",
   "metadata": {},
   "outputs": [
    {
     "data": {
      "text/html": [
       "<pre style=\"white-space:pre;overflow-x:auto;line-height:normal;font-family:Menlo,'DejaVu Sans Mono',consolas,'Courier New',monospace\"><span style=\"font-weight: bold\">[</span> <span style=\"color: #00ff00; text-decoration-color: #00ff00; font-style: italic\">True</span>  <span style=\"color: #00ff00; text-decoration-color: #00ff00; font-style: italic\">True</span>  <span style=\"color: #00ff00; text-decoration-color: #00ff00; font-style: italic\">True</span> <span style=\"color: #ff0000; text-decoration-color: #ff0000; font-style: italic\">False</span> <span style=\"color: #ff0000; text-decoration-color: #ff0000; font-style: italic\">False</span> <span style=\"color: #ff0000; text-decoration-color: #ff0000; font-style: italic\">False</span> <span style=\"color: #ff0000; text-decoration-color: #ff0000; font-style: italic\">False</span> <span style=\"color: #ff0000; text-decoration-color: #ff0000; font-style: italic\">False</span>  <span style=\"color: #00ff00; text-decoration-color: #00ff00; font-style: italic\">True</span> <span style=\"color: #ff0000; text-decoration-color: #ff0000; font-style: italic\">False</span>  <span style=\"color: #00ff00; text-decoration-color: #00ff00; font-style: italic\">True</span>  <span style=\"color: #00ff00; text-decoration-color: #00ff00; font-style: italic\">True</span>\n",
       " <span style=\"color: #ff0000; text-decoration-color: #ff0000; font-style: italic\">False</span> <span style=\"color: #ff0000; text-decoration-color: #ff0000; font-style: italic\">False</span> <span style=\"color: #ff0000; text-decoration-color: #ff0000; font-style: italic\">False</span>  <span style=\"color: #00ff00; text-decoration-color: #00ff00; font-style: italic\">True</span> <span style=\"color: #ff0000; text-decoration-color: #ff0000; font-style: italic\">False</span><span style=\"font-weight: bold\">]</span>\n",
       "</pre>\n"
      ],
      "text/plain": [
       "\u001b[1m[\u001b[0m \u001b[3;92mTrue\u001b[0m  \u001b[3;92mTrue\u001b[0m  \u001b[3;92mTrue\u001b[0m \u001b[3;91mFalse\u001b[0m \u001b[3;91mFalse\u001b[0m \u001b[3;91mFalse\u001b[0m \u001b[3;91mFalse\u001b[0m \u001b[3;91mFalse\u001b[0m  \u001b[3;92mTrue\u001b[0m \u001b[3;91mFalse\u001b[0m  \u001b[3;92mTrue\u001b[0m  \u001b[3;92mTrue\u001b[0m\n",
       " \u001b[3;91mFalse\u001b[0m \u001b[3;91mFalse\u001b[0m \u001b[3;91mFalse\u001b[0m  \u001b[3;92mTrue\u001b[0m \u001b[3;91mFalse\u001b[0m\u001b[1m]\u001b[0m\n"
      ]
     },
     "metadata": {},
     "output_type": "display_data"
    }
   ],
   "source": [
    "print(reject)"
   ]
  },
  {
   "cell_type": "code",
   "execution_count": 39,
   "id": "1ff96a88",
   "metadata": {},
   "outputs": [
    {
     "data": {
      "text/plain": [
       "{'ae': 0.019018175476166937,\n",
       " 0.01: 0.0039686578588982785,\n",
       " 0.1: 1.7113391063056637e-06,\n",
       " 0.15: 0.09907308021633797,\n",
       " 0.2: 0.13052132155461135,\n",
       " 0.3: 0.9384340253205053,\n",
       " 0.4: 0.11011487570046197,\n",
       " 0.5: 0.9384340253205053,\n",
       " 0.6: 0.0035201988105684613,\n",
       " 0.7: 0.10841760520706391,\n",
       " 0.8: 5.7449445113060635e-06,\n",
       " 0.9: 0.014996111844780254,\n",
       " 1.0: 0.9852235361522685,\n",
       " 1.5: 0.09907308021633797,\n",
       " 2.0: 0.8027924044787557,\n",
       " 5.0: 0.014996111844780254,\n",
       " 10.0: 0.6648071348596281}"
      ]
     },
     "execution_count": 39,
     "metadata": {},
     "output_type": "execute_result"
    }
   ],
   "source": [
    "pvals_corrected"
   ]
  },
  {
   "cell_type": "code",
   "execution_count": 42,
   "id": "078441f4",
   "metadata": {},
   "outputs": [
    {
     "data": {
      "text/html": [
       "<pre style=\"white-space:pre;overflow-x:auto;line-height:normal;font-family:Menlo,'DejaVu Sans Mono',consolas,'Courier New',monospace\"><span style=\"font-weight: bold\">[</span>\n",
       "    <span style=\"font-weight: bold\">(</span><span style=\"color: #008000; text-decoration-color: #008000\">'ae'</span>, <span style=\"color: #00ff00; text-decoration-color: #00ff00; font-style: italic\">True</span><span style=\"font-weight: bold\">)</span>,\n",
       "    <span style=\"font-weight: bold\">(</span><span style=\"color: #008080; text-decoration-color: #008080; font-weight: bold\">0.01</span>, <span style=\"color: #00ff00; text-decoration-color: #00ff00; font-style: italic\">True</span><span style=\"font-weight: bold\">)</span>,\n",
       "    <span style=\"font-weight: bold\">(</span><span style=\"color: #008080; text-decoration-color: #008080; font-weight: bold\">0.1</span>, <span style=\"color: #00ff00; text-decoration-color: #00ff00; font-style: italic\">True</span><span style=\"font-weight: bold\">)</span>,\n",
       "    <span style=\"font-weight: bold\">(</span><span style=\"color: #008080; text-decoration-color: #008080; font-weight: bold\">0.15</span>, <span style=\"color: #ff0000; text-decoration-color: #ff0000; font-style: italic\">False</span><span style=\"font-weight: bold\">)</span>,\n",
       "    <span style=\"font-weight: bold\">(</span><span style=\"color: #008080; text-decoration-color: #008080; font-weight: bold\">0.2</span>, <span style=\"color: #ff0000; text-decoration-color: #ff0000; font-style: italic\">False</span><span style=\"font-weight: bold\">)</span>,\n",
       "    <span style=\"font-weight: bold\">(</span><span style=\"color: #008080; text-decoration-color: #008080; font-weight: bold\">0.3</span>, <span style=\"color: #ff0000; text-decoration-color: #ff0000; font-style: italic\">False</span><span style=\"font-weight: bold\">)</span>,\n",
       "    <span style=\"font-weight: bold\">(</span><span style=\"color: #008080; text-decoration-color: #008080; font-weight: bold\">0.4</span>, <span style=\"color: #ff0000; text-decoration-color: #ff0000; font-style: italic\">False</span><span style=\"font-weight: bold\">)</span>,\n",
       "    <span style=\"font-weight: bold\">(</span><span style=\"color: #008080; text-decoration-color: #008080; font-weight: bold\">0.5</span>, <span style=\"color: #ff0000; text-decoration-color: #ff0000; font-style: italic\">False</span><span style=\"font-weight: bold\">)</span>,\n",
       "    <span style=\"font-weight: bold\">(</span><span style=\"color: #008080; text-decoration-color: #008080; font-weight: bold\">0.6</span>, <span style=\"color: #00ff00; text-decoration-color: #00ff00; font-style: italic\">True</span><span style=\"font-weight: bold\">)</span>,\n",
       "    <span style=\"font-weight: bold\">(</span><span style=\"color: #008080; text-decoration-color: #008080; font-weight: bold\">0.7</span>, <span style=\"color: #ff0000; text-decoration-color: #ff0000; font-style: italic\">False</span><span style=\"font-weight: bold\">)</span>,\n",
       "    <span style=\"font-weight: bold\">(</span><span style=\"color: #008080; text-decoration-color: #008080; font-weight: bold\">0.8</span>, <span style=\"color: #00ff00; text-decoration-color: #00ff00; font-style: italic\">True</span><span style=\"font-weight: bold\">)</span>,\n",
       "    <span style=\"font-weight: bold\">(</span><span style=\"color: #008080; text-decoration-color: #008080; font-weight: bold\">0.9</span>, <span style=\"color: #00ff00; text-decoration-color: #00ff00; font-style: italic\">True</span><span style=\"font-weight: bold\">)</span>,\n",
       "    <span style=\"font-weight: bold\">(</span><span style=\"color: #008080; text-decoration-color: #008080; font-weight: bold\">1.0</span>, <span style=\"color: #ff0000; text-decoration-color: #ff0000; font-style: italic\">False</span><span style=\"font-weight: bold\">)</span>,\n",
       "    <span style=\"font-weight: bold\">(</span><span style=\"color: #008080; text-decoration-color: #008080; font-weight: bold\">1.5</span>, <span style=\"color: #ff0000; text-decoration-color: #ff0000; font-style: italic\">False</span><span style=\"font-weight: bold\">)</span>,\n",
       "    <span style=\"font-weight: bold\">(</span><span style=\"color: #008080; text-decoration-color: #008080; font-weight: bold\">2.0</span>, <span style=\"color: #ff0000; text-decoration-color: #ff0000; font-style: italic\">False</span><span style=\"font-weight: bold\">)</span>,\n",
       "    <span style=\"font-weight: bold\">(</span><span style=\"color: #008080; text-decoration-color: #008080; font-weight: bold\">5.0</span>, <span style=\"color: #00ff00; text-decoration-color: #00ff00; font-style: italic\">True</span><span style=\"font-weight: bold\">)</span>,\n",
       "    <span style=\"font-weight: bold\">(</span><span style=\"color: #008080; text-decoration-color: #008080; font-weight: bold\">10.0</span>, <span style=\"color: #ff0000; text-decoration-color: #ff0000; font-style: italic\">False</span><span style=\"font-weight: bold\">)</span>\n",
       "<span style=\"font-weight: bold\">]</span>\n",
       "</pre>\n"
      ],
      "text/plain": [
       "\u001b[1m[\u001b[0m\n",
       "    \u001b[1m(\u001b[0m\u001b[32m'ae'\u001b[0m, \u001b[3;92mTrue\u001b[0m\u001b[1m)\u001b[0m,\n",
       "    \u001b[1m(\u001b[0m\u001b[1;36m0.01\u001b[0m, \u001b[3;92mTrue\u001b[0m\u001b[1m)\u001b[0m,\n",
       "    \u001b[1m(\u001b[0m\u001b[1;36m0.1\u001b[0m, \u001b[3;92mTrue\u001b[0m\u001b[1m)\u001b[0m,\n",
       "    \u001b[1m(\u001b[0m\u001b[1;36m0.15\u001b[0m, \u001b[3;91mFalse\u001b[0m\u001b[1m)\u001b[0m,\n",
       "    \u001b[1m(\u001b[0m\u001b[1;36m0.2\u001b[0m, \u001b[3;91mFalse\u001b[0m\u001b[1m)\u001b[0m,\n",
       "    \u001b[1m(\u001b[0m\u001b[1;36m0.3\u001b[0m, \u001b[3;91mFalse\u001b[0m\u001b[1m)\u001b[0m,\n",
       "    \u001b[1m(\u001b[0m\u001b[1;36m0.4\u001b[0m, \u001b[3;91mFalse\u001b[0m\u001b[1m)\u001b[0m,\n",
       "    \u001b[1m(\u001b[0m\u001b[1;36m0.5\u001b[0m, \u001b[3;91mFalse\u001b[0m\u001b[1m)\u001b[0m,\n",
       "    \u001b[1m(\u001b[0m\u001b[1;36m0.6\u001b[0m, \u001b[3;92mTrue\u001b[0m\u001b[1m)\u001b[0m,\n",
       "    \u001b[1m(\u001b[0m\u001b[1;36m0.7\u001b[0m, \u001b[3;91mFalse\u001b[0m\u001b[1m)\u001b[0m,\n",
       "    \u001b[1m(\u001b[0m\u001b[1;36m0.8\u001b[0m, \u001b[3;92mTrue\u001b[0m\u001b[1m)\u001b[0m,\n",
       "    \u001b[1m(\u001b[0m\u001b[1;36m0.9\u001b[0m, \u001b[3;92mTrue\u001b[0m\u001b[1m)\u001b[0m,\n",
       "    \u001b[1m(\u001b[0m\u001b[1;36m1.0\u001b[0m, \u001b[3;91mFalse\u001b[0m\u001b[1m)\u001b[0m,\n",
       "    \u001b[1m(\u001b[0m\u001b[1;36m1.5\u001b[0m, \u001b[3;91mFalse\u001b[0m\u001b[1m)\u001b[0m,\n",
       "    \u001b[1m(\u001b[0m\u001b[1;36m2.0\u001b[0m, \u001b[3;91mFalse\u001b[0m\u001b[1m)\u001b[0m,\n",
       "    \u001b[1m(\u001b[0m\u001b[1;36m5.0\u001b[0m, \u001b[3;92mTrue\u001b[0m\u001b[1m)\u001b[0m,\n",
       "    \u001b[1m(\u001b[0m\u001b[1;36m10.0\u001b[0m, \u001b[3;91mFalse\u001b[0m\u001b[1m)\u001b[0m\n",
       "\u001b[1m]\u001b[0m\n"
      ]
     },
     "metadata": {},
     "output_type": "display_data"
    }
   ],
   "source": [
    "print(list(zip(betas, reject)))"
   ]
  },
  {
   "cell_type": "code",
   "execution_count": null,
   "id": "63c38814",
   "metadata": {},
   "outputs": [],
   "source": []
  },
  {
   "cell_type": "code",
   "execution_count": null,
   "id": "d95d3536",
   "metadata": {},
   "outputs": [],
   "source": []
  },
  {
   "cell_type": "code",
   "execution_count": 10,
   "id": "cbf65cd3",
   "metadata": {},
   "outputs": [
    {
     "data": {
      "image/png": "[encoded data removed]",
      "text/plain": [
       "<Figure size 900x300 with 1 Axes>"
      ]
     },
     "metadata": {},
     "output_type": "display_data"
    }
   ],
   "source": [
    "_df = df_neural.loc[df_neural['category'] == 'fixate1']\n",
    "\n",
    "fig, ax = create_figure(1, 1, (9, 3))\n",
    "sns.pointplot(\n",
    "    data=_df,\n",
    "    x='beta',\n",
    "    y='perf',\n",
    "    hue='model',\n",
    "    order=betas,\n",
    "    errorbar='se',\n",
    "    palette=pal_model,\n",
    "    dodge=True,\n",
    "    ax=ax,\n",
    ")\n",
    "# ax.set_ylim(0.23, 0.54)\n",
    "# ax.axhline(0.251, color='dimgrey', ls='--')\n",
    "ax.set_ylabel('R', fontsize=15)\n",
    "ax.set_xlabel('')\n",
    "ax.grid()\n",
    "\n",
    "leg = ax.get_legend()\n",
    "if leg is not None:\n",
    "    leg.set_bbox_to_anchor((1.0, 1.04))\n",
    "\n",
    "plt.show()"
   ]
  },
  {
   "cell_type": "code",
   "execution_count": null,
   "id": "da3d9d93",
   "metadata": {},
   "outputs": [],
   "source": []
  },
  {
   "cell_type": "code",
   "execution_count": null,
   "id": "c54d0167",
   "metadata": {},
   "outputs": [],
   "source": []
  },
  {
   "cell_type": "code",
   "execution_count": null,
   "id": "ff9ce36b",
   "metadata": {},
   "outputs": [],
   "source": []
  },
  {
   "cell_type": "markdown",
   "id": "a5eecf66",
   "metadata": {},
   "source": [
    "## R2"
   ]
  },
  {
   "cell_type": "code",
   "execution_count": 82,
   "id": "a0cce96c",
   "metadata": {},
   "outputs": [
    {
     "name": "stderr",
     "output_type": "stream",
     "text": [
      "100%|██████████| 65/65 [00:27<00:00,  2.35it/s]\n"
     ]
    }
   ],
   "source": [
    "df_r2 = collections.defaultdict(list)\n",
    "for fit in tqdm(fits):\n",
    "    if 'reservoir' in fit:\n",
    "        continue\n",
    "    if fit == 'fixate2_nf-420_beta-0.15_(2023_04_27,13:57)':\n",
    "        continue\n",
    "    category, nf, beta, tag = _info(fit)    \n",
    "    if beta == 20.0:\n",
    "        continue\n",
    "\n",
    "    # load df\n",
    "    _df = f\"summary-all_{fit}.df\"\n",
    "    _df = pjoin(tmp_dir, 'results_combined', _df)\n",
    "    _df = pd.read_pickle(_df)\n",
    "    _df = _df.loc[~np.isnan(_df['r2_tst'])]\n",
    "    _df.drop(columns='index', inplace=True)\n",
    "\n",
    "    # pick best r2\n",
    "    looper = itertools.product(\n",
    "        sorted(_df['expt'].unique()),\n",
    "        sorted(_df['cell'].unique()),\n",
    "    )\n",
    "    for expt, cell in looper:\n",
    "        _df1 = _df.loc[\n",
    "            (_df['expt'] == expt) &\n",
    "            (_df['cell'] == cell)\n",
    "        ]\n",
    "        if not len(_df1):\n",
    "            continue\n",
    "        best_i = _df1['r2_tst'].argmax()\n",
    "        best = _df1.iloc[best_i]\n",
    "        best_r2 = best['r2_tst'] / best['max_r2']\n",
    "        if best_r2 < 0:\n",
    "            best_r2 = np.nan\n",
    "#        best_r2 = np.maximum(0, best_r2)\n",
    "\n",
    "        df_r2['model'].append(tag)\n",
    "        df_r2['category'].append(category)\n",
    "        df_r2['nf'].append(nf)\n",
    "        df_r2['beta'].append(beta)\n",
    "        df_r2['expt'].append(expt)\n",
    "        df_r2['cell'].append(cell)\n",
    "        df_r2['id'].append(f\"{expt}_{cell}\")\n",
    "        df_r2['r2'].append(best_r2)\n",
    "\n",
    "df_r2 = pd.DataFrame(df_r2)"
   ]
  },
  {
   "cell_type": "code",
   "execution_count": null,
   "id": "4ab4ac21",
   "metadata": {},
   "outputs": [],
   "source": []
  },
  {
   "cell_type": "code",
   "execution_count": 83,
   "id": "13349cf6",
   "metadata": {},
   "outputs": [],
   "source": [
    "_df = df_r2.loc[df_r2['category'] == 'fixate1']"
   ]
  },
  {
   "cell_type": "code",
   "execution_count": 84,
   "id": "8e6fd539",
   "metadata": {},
   "outputs": [
    {
     "data": {
      "text/plain": [
       "<Axes: xlabel='r2', ylabel='Count'>"
      ]
     },
     "execution_count": 84,
     "metadata": {},
     "output_type": "execute_result"
    },
    {
     "data": {
      "image/png": "[encoded data removed]",
      "text/plain": [
       "<Figure size 500x320 with 1 Axes>"
      ]
     },
     "metadata": {},
     "output_type": "display_data"
    }
   ],
   "source": [
    "sns.histplot(_df['r2'], bins=np.linspace(0, 100, 101))"
   ]
  },
  {
   "cell_type": "code",
   "execution_count": null,
   "id": "8f6dd769",
   "metadata": {},
   "outputs": [],
   "source": []
  },
  {
   "cell_type": "code",
   "execution_count": 85,
   "id": "8b83834d",
   "metadata": {},
   "outputs": [
    {
     "data": {
      "image/png": "[encoded data removed]",
      "text/plain": [
       "<Figure size 900x300 with 1 Axes>"
      ]
     },
     "metadata": {},
     "output_type": "display_data"
    }
   ],
   "source": [
    "_df = df_r2.loc[df_r2['category'] == 'fixate1']\n",
    "\n",
    "fig, ax = create_figure(1, 1, (9, 3))\n",
    "sns.pointplot(\n",
    "    data=_df,\n",
    "    x='beta',\n",
    "    y='r2',\n",
    "    hue='model',\n",
    "    order=betas,\n",
    "    errorbar='se',\n",
    "    palette=pal,\n",
    "    dodge=True,\n",
    "    ax=ax,\n",
    ")\n",
    "ax.set_ylabel(r'$R^2$', fontsize=16)\n",
    "ax.set_xlabel('')\n",
    "ax.grid()\n",
    "\n",
    "leg = ax.get_legend()\n",
    "if leg is not None:\n",
    "    leg.set_bbox_to_anchor((1.0, 1.04))\n",
    "\n",
    "plt.show()"
   ]
  },
  {
   "cell_type": "code",
   "execution_count": null,
   "id": "6b0feece",
   "metadata": {},
   "outputs": [],
   "source": []
  },
  {
   "cell_type": "code",
   "execution_count": null,
   "id": "9be4cba2",
   "metadata": {},
   "outputs": [],
   "source": []
  },
  {
   "cell_type": "code",
   "execution_count": 11,
   "id": "4f1695fb",
   "metadata": {},
   "outputs": [],
   "source": [
    "_df = df.loc[\n",
    "    (df['beta'] == 0.5) &\n",
    "    (df['model'] == 'cNVAE') &\n",
    "    (df['category'] == 'fixate1')\n",
    "]"
   ]
  },
  {
   "cell_type": "code",
   "execution_count": 12,
   "id": "bba0c487",
   "metadata": {},
   "outputs": [],
   "source": [
    "mu, sd = _df['perf'].mean(), _df['perf'].std()"
   ]
  },
  {
   "cell_type": "code",
   "execution_count": 13,
   "id": "ad75f672",
   "metadata": {},
   "outputs": [],
   "source": [
    "ci = 0.95\n",
    "dof = len(_df) - 1\n",
    "se = sd / np.sqrt(dof + 1)\n",
    "t_val = sp_stats.t.ppf((1 + ci) / 2, dof)"
   ]
  },
  {
   "cell_type": "code",
   "execution_count": 14,
   "id": "d423734a",
   "metadata": {},
   "outputs": [
    {
     "data": {
      "text/plain": [
       "(0.506407191271519, 0.01772121235584274)"
      ]
     },
     "execution_count": 14,
     "metadata": {},
     "output_type": "execute_result"
    }
   ],
   "source": [
    "mu, se"
   ]
  },
  {
   "cell_type": "code",
   "execution_count": 15,
   "id": "52324799",
   "metadata": {},
   "outputs": [
    {
     "data": {
      "text/plain": [
       "(0.47137140246680975, 0.5414429800762283)"
      ]
     },
     "execution_count": 15,
     "metadata": {},
     "output_type": "execute_result"
    }
   ],
   "source": [
    "mu - se * t_val, mu + se * t_val"
   ]
  },
  {
   "cell_type": "code",
   "execution_count": 16,
   "id": "b3daf798",
   "metadata": {},
   "outputs": [
    {
     "data": {
      "text/plain": [
       "(0.4886859789156763, 0.5241284036273618)"
      ]
     },
     "execution_count": 16,
     "metadata": {},
     "output_type": "execute_result"
    }
   ],
   "source": [
    "mu - se, mu + se"
   ]
  },
  {
   "cell_type": "code",
   "execution_count": null,
   "id": "92e31afa",
   "metadata": {},
   "outputs": [],
   "source": []
  },
  {
   "cell_type": "code",
   "execution_count": null,
   "id": "0a7f1d57",
   "metadata": {},
   "outputs": [],
   "source": []
  },
  {
   "cell_type": "code",
   "execution_count": null,
   "id": "52a20ca0",
   "metadata": {},
   "outputs": [],
   "source": []
  },
  {
   "cell_type": "code",
   "execution_count": 17,
   "id": "87aa6ff4",
   "metadata": {},
   "outputs": [
    {
     "ename": "AssertionError",
     "evalue": "",
     "output_type": "error",
     "traceback": [
      "\u001b[0;31m---------------------------------------------------------------------------\u001b[0m",
      "\u001b[0;31mAssertionError\u001b[0m                            Traceback (most recent call last)",
      "Cell \u001b[0;32mIn[17], line 28\u001b[0m\n\u001b[1;32m     26\u001b[0m     warnings\u001b[38;5;241m.\u001b[39msimplefilter(\u001b[38;5;124m\"\u001b[39m\u001b[38;5;124mignore\u001b[39m\u001b[38;5;124m\"\u001b[39m)\n\u001b[1;32m     27\u001b[0m     _df \u001b[38;5;241m=\u001b[39m _df\u001b[38;5;241m.\u001b[39mpivot(columns\u001b[38;5;241m=\u001b[39m\u001b[38;5;124m'\u001b[39m\u001b[38;5;124mbeta\u001b[39m\u001b[38;5;124m'\u001b[39m, values\u001b[38;5;241m=\u001b[39m\u001b[38;5;124m'\u001b[39m\u001b[38;5;124mperf\u001b[39m\u001b[38;5;124m'\u001b[39m)\n\u001b[0;32m---> 28\u001b[0m \u001b[38;5;28;01massert\u001b[39;00m \u001b[38;5;28mlen\u001b[39m(_df) \u001b[38;5;241m==\u001b[39m \u001b[38;5;241m141\u001b[39m\n\u001b[1;32m     30\u001b[0m mu[\u001b[38;5;124m'\u001b[39m\u001b[38;5;124mpool\u001b[39m\u001b[38;5;124m'\u001b[39m] \u001b[38;5;241m=\u001b[39m _df\u001b[38;5;241m.\u001b[39mmax(\u001b[38;5;241m1\u001b[39m)\u001b[38;5;241m.\u001b[39mmean()\n\u001b[1;32m     31\u001b[0m sd[\u001b[38;5;124m'\u001b[39m\u001b[38;5;124mpool\u001b[39m\u001b[38;5;124m'\u001b[39m] \u001b[38;5;241m=\u001b[39m _df\u001b[38;5;241m.\u001b[39mmax(\u001b[38;5;241m1\u001b[39m)\u001b[38;5;241m.\u001b[39mstd()   \n",
      "\u001b[0;31mAssertionError\u001b[0m: "
     ]
    }
   ],
   "source": [
    "looper = [\n",
    "    ('cNVAE', 'fixate1'),\n",
    "    ('cNVAE', 'transl1'),\n",
    "    ('cNVAE', 'fixate0'),\n",
    "    ('cNVAE', 'obj1'),\n",
    "    ('cNVAE', 'fixate2'),\n",
    "    ('cNVAE', 'transl2'),\n",
    "    ('VAE', 'fixate1'),\n",
    "    ('cNAE', 'fixate1'),\n",
    "    ('AE', 'fixate1'),\n",
    "]\n",
    "\n",
    "for model, cat in looper:\n",
    "    _df = df.loc[\n",
    "        (df['model'] == model) &\n",
    "        (df['category'] == cat)\n",
    "    ]\n",
    "    if not len(_df):\n",
    "        continue\n",
    "    mu = _df.groupby(['beta']).mean()\n",
    "    sd = _df.groupby(['beta']).std()\n",
    "    mu, sd = dict(mu['perf']), dict(sd['perf'])\n",
    "    best_beta, best_perf = max(mu.items(), key=lambda t: t[1])\n",
    "\n",
    "    with warnings.catch_warnings():\n",
    "        warnings.simplefilter(\"ignore\")\n",
    "        _df = _df.pivot(columns='beta', values='perf')\n",
    "    assert len(_df) == 141\n",
    "    \n",
    "    mu['pool'] = _df.max(1).mean()\n",
    "    sd['pool'] = _df.max(1).std()   \n",
    "\n",
    "    print(model, cat, best_beta, best_perf, mu['pool'])"
   ]
  },
  {
   "cell_type": "code",
   "execution_count": null,
   "id": "626c228b",
   "metadata": {},
   "outputs": [],
   "source": []
  },
  {
   "cell_type": "code",
   "execution_count": null,
   "id": "9ece4788",
   "metadata": {},
   "outputs": [],
   "source": []
  },
  {
   "cell_type": "code",
   "execution_count": 22,
   "id": "cf56e139",
   "metadata": {},
   "outputs": [
    {
     "data": {
      "text/html": [
       "<pre style=\"white-space:pre;overflow-x:auto;line-height:normal;font-family:Menlo,'DejaVu Sans Mono',consolas,'Courier New',monospace\">cNVAE fixate1\n",
       "<span style=\"font-weight: bold\">{</span><span style=\"color: #008080; text-decoration-color: #008080; font-weight: bold\">0.5</span>: <span style=\"color: #008080; text-decoration-color: #008080; font-weight: bold\">0.5064071912715188</span>, <span style=\"color: #008000; text-decoration-color: #008000\">'pool'</span>: <span style=\"color: #008080; text-decoration-color: #008080; font-weight: bold\">0.5859395317771818</span><span style=\"font-weight: bold\">}</span>\n",
       "</pre>\n"
      ],
      "text/plain": [
       "cNVAE fixate1\n",
       "\u001b[1m{\u001b[0m\u001b[1;36m0.5\u001b[0m: \u001b[1;36m0.5064071912715188\u001b[0m, \u001b[32m'pool'\u001b[0m: \u001b[1;36m0.5859395317771818\u001b[0m\u001b[1m}\u001b[0m\n"
      ]
     },
     "metadata": {},
     "output_type": "display_data"
    },
    {
     "data": {
      "text/html": [
       "<pre style=\"white-space:pre;overflow-x:auto;line-height:normal;font-family:Menlo,'DejaVu Sans Mono',consolas,'Courier New',monospace\">cNVAE transl1\n",
       "<span style=\"font-weight: bold\">{</span><span style=\"color: #008080; text-decoration-color: #008080; font-weight: bold\">0.5</span>: <span style=\"color: #008080; text-decoration-color: #008080; font-weight: bold\">0.5001359754154207</span>, <span style=\"color: #008080; text-decoration-color: #008080; font-weight: bold\">0.8</span>: <span style=\"color: #008080; text-decoration-color: #008080; font-weight: bold\">0.5177248621892456</span>, <span style=\"color: #008000; text-decoration-color: #008000\">'pool'</span>: <span style=\"color: #008080; text-decoration-color: #008080; font-weight: bold\">0.5737741112003537</span><span style=\"font-weight: bold\">}</span>\n",
       "</pre>\n"
      ],
      "text/plain": [
       "cNVAE transl1\n",
       "\u001b[1m{\u001b[0m\u001b[1;36m0.5\u001b[0m: \u001b[1;36m0.5001359754154207\u001b[0m, \u001b[1;36m0.8\u001b[0m: \u001b[1;36m0.5177248621892456\u001b[0m, \u001b[32m'pool'\u001b[0m: \u001b[1;36m0.5737741112003537\u001b[0m\u001b[1m}\u001b[0m\n"
      ]
     },
     "metadata": {},
     "output_type": "display_data"
    },
    {
     "data": {
      "text/html": [
       "<pre style=\"white-space:pre;overflow-x:auto;line-height:normal;font-family:Menlo,'DejaVu Sans Mono',consolas,'Courier New',monospace\">cNVAE fixate0\n",
       "<span style=\"font-weight: bold\">{</span><span style=\"color: #008080; text-decoration-color: #008080; font-weight: bold\">0.5</span>: <span style=\"color: #008080; text-decoration-color: #008080; font-weight: bold\">0.428312637523448</span>, <span style=\"color: #008080; text-decoration-color: #008080; font-weight: bold\">10.0</span>: <span style=\"color: #008080; text-decoration-color: #008080; font-weight: bold\">0.4981508495257506</span>, <span style=\"color: #008000; text-decoration-color: #008000\">'pool'</span>: <span style=\"color: #008080; text-decoration-color: #008080; font-weight: bold\">0.5474320077003935</span><span style=\"font-weight: bold\">}</span>\n",
       "</pre>\n"
      ],
      "text/plain": [
       "cNVAE fixate0\n",
       "\u001b[1m{\u001b[0m\u001b[1;36m0.5\u001b[0m: \u001b[1;36m0.428312637523448\u001b[0m, \u001b[1;36m10.0\u001b[0m: \u001b[1;36m0.4981508495257506\u001b[0m, \u001b[32m'pool'\u001b[0m: \u001b[1;36m0.5474320077003935\u001b[0m\u001b[1m}\u001b[0m\n"
      ]
     },
     "metadata": {},
     "output_type": "display_data"
    },
    {
     "data": {
      "text/html": [
       "<pre style=\"white-space:pre;overflow-x:auto;line-height:normal;font-family:Menlo,'DejaVu Sans Mono',consolas,'Courier New',monospace\">cNVAE obj1\n",
       "<span style=\"font-weight: bold\">{</span><span style=\"color: #008080; text-decoration-color: #008080; font-weight: bold\">0.15</span>: <span style=\"color: #008080; text-decoration-color: #008080; font-weight: bold\">0.4818380615252873</span>, <span style=\"color: #008080; text-decoration-color: #008080; font-weight: bold\">0.5</span>: <span style=\"color: #008080; text-decoration-color: #008080; font-weight: bold\">0.4714876600458387</span>, <span style=\"color: #008000; text-decoration-color: #008000\">'pool'</span>: <span style=\"color: #008080; text-decoration-color: #008080; font-weight: bold\">0.5299457026622052</span><span style=\"font-weight: bold\">}</span>\n",
       "</pre>\n"
      ],
      "text/plain": [
       "cNVAE obj1\n",
       "\u001b[1m{\u001b[0m\u001b[1;36m0.15\u001b[0m: \u001b[1;36m0.4818380615252873\u001b[0m, \u001b[1;36m0.5\u001b[0m: \u001b[1;36m0.4714876600458387\u001b[0m, \u001b[32m'pool'\u001b[0m: \u001b[1;36m0.5299457026622052\u001b[0m\u001b[1m}\u001b[0m\n"
      ]
     },
     "metadata": {},
     "output_type": "display_data"
    },
    {
     "data": {
      "text/html": [
       "<pre style=\"white-space:pre;overflow-x:auto;line-height:normal;font-family:Menlo,'DejaVu Sans Mono',consolas,'Courier New',monospace\">cNVAE fixate2\n",
       "<span style=\"font-weight: bold\">{</span><span style=\"color: #008080; text-decoration-color: #008080; font-weight: bold\">0.5</span>: <span style=\"color: #008080; text-decoration-color: #008080; font-weight: bold\">0.46635400657527865</span>, <span style=\"color: #008080; text-decoration-color: #008080; font-weight: bold\">1.0</span>: <span style=\"color: #008080; text-decoration-color: #008080; font-weight: bold\">0.5025134498856887</span>, <span style=\"color: #008000; text-decoration-color: #008000\">'pool'</span>: <span style=\"color: #008080; text-decoration-color: #008080; font-weight: bold\">0.5388732529263033</span><span style=\"font-weight: bold\">}</span>\n",
       "</pre>\n"
      ],
      "text/plain": [
       "cNVAE fixate2\n",
       "\u001b[1m{\u001b[0m\u001b[1;36m0.5\u001b[0m: \u001b[1;36m0.46635400657527865\u001b[0m, \u001b[1;36m1.0\u001b[0m: \u001b[1;36m0.5025134498856887\u001b[0m, \u001b[32m'pool'\u001b[0m: \u001b[1;36m0.5388732529263033\u001b[0m\u001b[1m}\u001b[0m\n"
      ]
     },
     "metadata": {},
     "output_type": "display_data"
    },
    {
     "data": {
      "text/html": [
       "<pre style=\"white-space:pre;overflow-x:auto;line-height:normal;font-family:Menlo,'DejaVu Sans Mono',consolas,'Courier New',monospace\">cNVAE transl2\n",
       "<span style=\"font-weight: bold\">{</span><span style=\"color: #008080; text-decoration-color: #008080; font-weight: bold\">0.5</span>: <span style=\"color: #008080; text-decoration-color: #008080; font-weight: bold\">0.4798065716146377</span>, <span style=\"color: #008080; text-decoration-color: #008080; font-weight: bold\">1.0</span>: <span style=\"color: #008080; text-decoration-color: #008080; font-weight: bold\">0.5088696984509916</span>, <span style=\"color: #008000; text-decoration-color: #008000\">'pool'</span>: <span style=\"color: #008080; text-decoration-color: #008080; font-weight: bold\">0.5436407289969494</span><span style=\"font-weight: bold\">}</span>\n",
       "</pre>\n"
      ],
      "text/plain": [
       "cNVAE transl2\n",
       "\u001b[1m{\u001b[0m\u001b[1;36m0.5\u001b[0m: \u001b[1;36m0.4798065716146377\u001b[0m, \u001b[1;36m1.0\u001b[0m: \u001b[1;36m0.5088696984509916\u001b[0m, \u001b[32m'pool'\u001b[0m: \u001b[1;36m0.5436407289969494\u001b[0m\u001b[1m}\u001b[0m\n"
      ]
     },
     "metadata": {},
     "output_type": "display_data"
    },
    {
     "data": {
      "text/html": [
       "<pre style=\"white-space:pre;overflow-x:auto;line-height:normal;font-family:Menlo,'DejaVu Sans Mono',consolas,'Courier New',monospace\">VAE fixate1\n",
       "<span style=\"font-weight: bold\">{</span><span style=\"color: #008080; text-decoration-color: #008080; font-weight: bold\">0.5</span>: <span style=\"color: #008080; text-decoration-color: #008080; font-weight: bold\">0.5077055183336352</span>, <span style=\"color: #008000; text-decoration-color: #008000\">'pool'</span>: <span style=\"color: #008080; text-decoration-color: #008080; font-weight: bold\">0.5734980268843509</span><span style=\"font-weight: bold\">}</span>\n",
       "</pre>\n"
      ],
      "text/plain": [
       "VAE fixate1\n",
       "\u001b[1m{\u001b[0m\u001b[1;36m0.5\u001b[0m: \u001b[1;36m0.5077055183336352\u001b[0m, \u001b[32m'pool'\u001b[0m: \u001b[1;36m0.5734980268843509\u001b[0m\u001b[1m}\u001b[0m\n"
      ]
     },
     "metadata": {},
     "output_type": "display_data"
    },
    {
     "data": {
      "text/html": [
       "<pre style=\"white-space:pre;overflow-x:auto;line-height:normal;font-family:Menlo,'DejaVu Sans Mono',consolas,'Courier New',monospace\">cNAE fixate1\n",
       "<span style=\"font-weight: bold\">{</span><span style=\"color: #008000; text-decoration-color: #008000\">'ae'</span>: <span style=\"color: #008080; text-decoration-color: #008080; font-weight: bold\">0.47613712392465674</span>, <span style=\"color: #008000; text-decoration-color: #008000\">'pool'</span>: <span style=\"color: #008080; text-decoration-color: #008080; font-weight: bold\">0.47613712392465685</span><span style=\"font-weight: bold\">}</span>\n",
       "</pre>\n"
      ],
      "text/plain": [
       "cNAE fixate1\n",
       "\u001b[1m{\u001b[0m\u001b[32m'ae'\u001b[0m: \u001b[1;36m0.47613712392465674\u001b[0m, \u001b[32m'pool'\u001b[0m: \u001b[1;36m0.47613712392465685\u001b[0m\u001b[1m}\u001b[0m\n"
      ]
     },
     "metadata": {},
     "output_type": "display_data"
    }
   ],
   "source": [
    "looper = [\n",
    "    ('cNVAE', 'fixate1'),\n",
    "    ('cNVAE', 'transl1'),\n",
    "    ('cNVAE', 'fixate0'),\n",
    "    ('cNVAE', 'obj1'),\n",
    "    ('cNVAE', 'fixate2'),\n",
    "    ('cNVAE', 'transl2'),\n",
    "    ('VAE', 'fixate1'),\n",
    "    ('cNAE', 'fixate1'),\n",
    "    ('AE', 'fixate1'),\n",
    "]\n",
    "for model, cat in looper:\n",
    "    _df = df.loc[\n",
    "        (df['model'] == model) &\n",
    "        (df['category'] == cat)\n",
    "    ]\n",
    "    if not len(_df):\n",
    "        continue\n",
    "    mu = _df.groupby(['beta']).mean()\n",
    "    sd = _df.groupby(['beta']).std()\n",
    "    mu, sd = dict(mu['perf']), dict(sd['perf'])\n",
    "    best_beta, best_perf = max(mu.items(), key=lambda t: t[1])\n",
    "    \n",
    "    mu = {\n",
    "        k: v for k, v in mu.items()\n",
    "        if k in [best_beta, which_beta]\n",
    "    }\n",
    "    sd = {\n",
    "        k: v for k, v in sd.items()\n",
    "        if k in [best_beta, which_beta]\n",
    "    }\n",
    "\n",
    "    with warnings.catch_warnings():\n",
    "        warnings.simplefilter(\"ignore\")\n",
    "        _df = _df.pivot(columns='beta', values='perf')\n",
    "    assert len(_df) == 141\n",
    "\n",
    "    mu['pool'] = _df.max(1).mean()\n",
    "    sd['pool'] = _df.max(1).std()   \n",
    "\n",
    "    print(model, cat, mu)"
   ]
  },
  {
   "cell_type": "code",
   "execution_count": null,
   "id": "d8987824",
   "metadata": {},
   "outputs": [],
   "source": []
  },
  {
   "cell_type": "code",
   "execution_count": null,
   "id": "8081b3db",
   "metadata": {},
   "outputs": [],
   "source": [
    "if 'ae' in mu:\n",
    "    pass\n",
    "else:\n",
    "    "
   ]
  },
  {
   "cell_type": "code",
   "execution_count": null,
   "id": "a5984212",
   "metadata": {},
   "outputs": [],
   "source": []
  },
  {
   "cell_type": "code",
   "execution_count": null,
   "id": "44b4ee58",
   "metadata": {},
   "outputs": [],
   "source": [
    "{cNVAE\\\\ $(\\beta = 0.5)$} & ROFL, \\fixateone & 0.5 & 60\\% \\\\\n",
    "& ROFL, \\translone & 0.5 & 60\\% \\\\\n",
    "& ROFL, \\fixatezero & 0.23 & 70\\% \\\\\n",
    "{cNVAE\\\\ ($\\beta$ pooled)} & ROFL, \\fixateone & 0.5 & 60\\% \\\\\n",
    "& ROFL, \\translone & 0.5 & 60\\% \\\\\n",
    "& ROFL, \\fixatezero & 0.23 & 70\\% \\\\"
   ]
  },
  {
   "cell_type": "code",
   "execution_count": null,
   "id": "3c369d45",
   "metadata": {},
   "outputs": [],
   "source": []
  },
  {
   "cell_type": "code",
   "execution_count": null,
   "id": "111a71c6",
   "metadata": {},
   "outputs": [],
   "source": []
  },
  {
   "cell_type": "code",
   "execution_count": null,
   "id": "b7194024",
   "metadata": {},
   "outputs": [],
   "source": []
  },
  {
   "cell_type": "markdown",
   "id": "735e5a1d",
   "metadata": {},
   "source": [
    "## Table (with $R^2$ in mind)"
   ]
  },
  {
   "cell_type": "code",
   "execution_count": 11,
   "id": "f2d18c70",
   "metadata": {},
   "outputs": [],
   "source": [
    "beta = 0.5\n",
    "\n",
    "looper = {\n",
    "    'cNVAE': ['obj1', 'fixate0', 'fixate1', 'fixate2', 'transl1', 'transl2'],\n",
    "    'VAE': ['fixate1'],\n",
    "    'cNAE': ['fixate1'],\n",
    "    'AE': ['fixate1'],\n",
    "}\n",
    "table = ''\n",
    "for model, cat_list in looper.items():\n",
    "    looper_beta = ['pool']\n",
    "    if model in ['cNVAE', 'VAE']:\n",
    "        looper_beta.insert(0, beta)\n",
    "    for b in looper_beta:\n",
    "        first_row_added = False\n",
    "        for cat in cat_list:\n",
    "            _df = df.loc[\n",
    "                (df['model'] == model) &\n",
    "                (df['category'] == cat)\n",
    "            ]\n",
    "            if not len(_df):\n",
    "                continue\n",
    "\n",
    "            mu = _df.groupby(['beta']).mean()\n",
    "            sd = _df.groupby(['beta']).std()\n",
    "            mu, sd = dict(mu['perf']), dict(sd['perf'])\n",
    "\n",
    "            with warnings.catch_warnings():\n",
    "                warnings.simplefilter(\"ignore\")\n",
    "                _df = _df.pivot(columns='beta', values='perf')\n",
    "            assert len(_df) == 141\n",
    "\n",
    "            mu['pool'] = _df.max(1).mean()\n",
    "            sd['pool'] = _df.max(1).std() \n",
    "            \n",
    "            se = {\n",
    "                k: v / np.sqrt(len(_df))\n",
    "                for k, v in sd.items()\n",
    "            }\n",
    "            \n",
    "            r_str = f\"${mu[b]:0.3f} \\\\pm {se[b]:0.3f}$\"\n",
    "            # r2_str = TODO\n",
    "\n",
    "            if first_row_added:\n",
    "                table += f\"& {cat} & {r_str} & - \\\\\\\\\\n\"\n",
    "            else:\n",
    "                if model == 'cNVAE':\n",
    "                    model_str = f\"{'{'}{model}\\\\\\\\ $(\\\\beta = {b})${'}'} \"\n",
    "                elif model == 'VAE':\n",
    "                    model_str = f\"{'{'}{model} $(\\\\beta = {b})${'}'} \"\n",
    "                else:\n",
    "                    model_str = f\"{model} \"\n",
    "                table += model_str + f\"& {cat} & {r_str} & - \\\\\\\\\\n\"\n",
    "                first_row_added = True"
   ]
  },
  {
   "cell_type": "code",
   "execution_count": 12,
   "id": "1c31aaae",
   "metadata": {},
   "outputs": [
    {
     "data": {
      "text/html": [
       "<pre style=\"white-space:pre;overflow-x:auto;line-height:normal;font-family:Menlo,'DejaVu Sans Mono',consolas,'Courier New',monospace\"><span style=\"font-weight: bold\">{</span>cNVAE\\\\ $<span style=\"font-weight: bold\">(</span>\\beta = <span style=\"color: #008080; text-decoration-color: #008080; font-weight: bold\">0.5</span><span style=\"font-weight: bold\">)</span>$<span style=\"font-weight: bold\">}</span> &amp; obj1 &amp; $<span style=\"color: #008080; text-decoration-color: #008080; font-weight: bold\">0.471</span> \\pm <span style=\"color: #008080; text-decoration-color: #008080; font-weight: bold\">0.018</span>$ &amp; - \\\\\n",
       "&amp; fixate0 &amp; $<span style=\"color: #008080; text-decoration-color: #008080; font-weight: bold\">0.428</span> \\pm <span style=\"color: #008080; text-decoration-color: #008080; font-weight: bold\">0.018</span>$ &amp; - \\\\\n",
       "&amp; fixate1 &amp; $<span style=\"color: #008080; text-decoration-color: #008080; font-weight: bold\">0.506</span> \\pm <span style=\"color: #008080; text-decoration-color: #008080; font-weight: bold\">0.018</span>$ &amp; - \\\\\n",
       "&amp; fixate2 &amp; $<span style=\"color: #008080; text-decoration-color: #008080; font-weight: bold\">0.466</span> \\pm <span style=\"color: #008080; text-decoration-color: #008080; font-weight: bold\">0.017</span>$ &amp; - \\\\\n",
       "&amp; transl1 &amp; $<span style=\"color: #008080; text-decoration-color: #008080; font-weight: bold\">0.500</span> \\pm <span style=\"color: #008080; text-decoration-color: #008080; font-weight: bold\">0.018</span>$ &amp; - \\\\\n",
       "&amp; transl2 &amp; $<span style=\"color: #008080; text-decoration-color: #008080; font-weight: bold\">0.480</span> \\pm <span style=\"color: #008080; text-decoration-color: #008080; font-weight: bold\">0.017</span>$ &amp; - \\\\\n",
       "<span style=\"font-weight: bold\">{</span>cNVAE\\\\ $<span style=\"font-weight: bold\">(</span>\\beta = pool<span style=\"font-weight: bold\">)</span>$<span style=\"font-weight: bold\">}</span> &amp; obj1 &amp; $<span style=\"color: #008080; text-decoration-color: #008080; font-weight: bold\">0.530</span> \\pm <span style=\"color: #008080; text-decoration-color: #008080; font-weight: bold\">0.018</span>$ &amp; - \\\\\n",
       "&amp; fixate0 &amp; $<span style=\"color: #008080; text-decoration-color: #008080; font-weight: bold\">0.547</span> \\pm <span style=\"color: #008080; text-decoration-color: #008080; font-weight: bold\">0.019</span>$ &amp; - \\\\\n",
       "&amp; fixate1 &amp; $<span style=\"color: #008080; text-decoration-color: #008080; font-weight: bold\">0.586</span> \\pm <span style=\"color: #008080; text-decoration-color: #008080; font-weight: bold\">0.019</span>$ &amp; - \\\\\n",
       "&amp; fixate2 &amp; $<span style=\"color: #008080; text-decoration-color: #008080; font-weight: bold\">0.539</span> \\pm <span style=\"color: #008080; text-decoration-color: #008080; font-weight: bold\">0.018</span>$ &amp; - \\\\\n",
       "&amp; transl1 &amp; $<span style=\"color: #008080; text-decoration-color: #008080; font-weight: bold\">0.574</span> \\pm <span style=\"color: #008080; text-decoration-color: #008080; font-weight: bold\">0.019</span>$ &amp; - \\\\\n",
       "&amp; transl2 &amp; $<span style=\"color: #008080; text-decoration-color: #008080; font-weight: bold\">0.544</span> \\pm <span style=\"color: #008080; text-decoration-color: #008080; font-weight: bold\">0.018</span>$ &amp; - \\\\\n",
       "<span style=\"font-weight: bold\">{</span>VAE $<span style=\"font-weight: bold\">(</span>\\beta = <span style=\"color: #008080; text-decoration-color: #008080; font-weight: bold\">0.5</span><span style=\"font-weight: bold\">)</span>$<span style=\"font-weight: bold\">}</span> &amp; fixate1 &amp; $<span style=\"color: #008080; text-decoration-color: #008080; font-weight: bold\">0.508</span> \\pm <span style=\"color: #008080; text-decoration-color: #008080; font-weight: bold\">0.019</span>$ &amp; - \\\\\n",
       "<span style=\"font-weight: bold\">{</span>VAE $<span style=\"font-weight: bold\">(</span>\\beta = pool<span style=\"font-weight: bold\">)</span>$<span style=\"font-weight: bold\">}</span> &amp; fixate1 &amp; $<span style=\"color: #008080; text-decoration-color: #008080; font-weight: bold\">0.573</span> \\pm <span style=\"color: #008080; text-decoration-color: #008080; font-weight: bold\">0.019</span>$ &amp; - \\\\\n",
       "cNAE &amp; fixate1 &amp; $<span style=\"color: #008080; text-decoration-color: #008080; font-weight: bold\">0.476</span> \\pm <span style=\"color: #008080; text-decoration-color: #008080; font-weight: bold\">0.018</span>$ &amp; - \\\\\n",
       "\n",
       "</pre>\n"
      ],
      "text/plain": [
       "\u001b[1m{\u001b[0mcNVAE\\\\ $\u001b[1m(\u001b[0m\\beta = \u001b[1;36m0.5\u001b[0m\u001b[1m)\u001b[0m$\u001b[1m}\u001b[0m & obj1 & $\u001b[1;36m0.471\u001b[0m \\pm \u001b[1;36m0.018\u001b[0m$ & - \\\\\n",
       "& fixate0 & $\u001b[1;36m0.428\u001b[0m \\pm \u001b[1;36m0.018\u001b[0m$ & - \\\\\n",
       "& fixate1 & $\u001b[1;36m0.506\u001b[0m \\pm \u001b[1;36m0.018\u001b[0m$ & - \\\\\n",
       "& fixate2 & $\u001b[1;36m0.466\u001b[0m \\pm \u001b[1;36m0.017\u001b[0m$ & - \\\\\n",
       "& transl1 & $\u001b[1;36m0.500\u001b[0m \\pm \u001b[1;36m0.018\u001b[0m$ & - \\\\\n",
       "& transl2 & $\u001b[1;36m0.480\u001b[0m \\pm \u001b[1;36m0.017\u001b[0m$ & - \\\\\n",
       "\u001b[1m{\u001b[0mcNVAE\\\\ $\u001b[1m(\u001b[0m\\beta = pool\u001b[1m)\u001b[0m$\u001b[1m}\u001b[0m & obj1 & $\u001b[1;36m0.530\u001b[0m \\pm \u001b[1;36m0.018\u001b[0m$ & - \\\\\n",
       "& fixate0 & $\u001b[1;36m0.547\u001b[0m \\pm \u001b[1;36m0.019\u001b[0m$ & - \\\\\n",
       "& fixate1 & $\u001b[1;36m0.586\u001b[0m \\pm \u001b[1;36m0.019\u001b[0m$ & - \\\\\n",
       "& fixate2 & $\u001b[1;36m0.539\u001b[0m \\pm \u001b[1;36m0.018\u001b[0m$ & - \\\\\n",
       "& transl1 & $\u001b[1;36m0.574\u001b[0m \\pm \u001b[1;36m0.019\u001b[0m$ & - \\\\\n",
       "& transl2 & $\u001b[1;36m0.544\u001b[0m \\pm \u001b[1;36m0.018\u001b[0m$ & - \\\\\n",
       "\u001b[1m{\u001b[0mVAE $\u001b[1m(\u001b[0m\\beta = \u001b[1;36m0.5\u001b[0m\u001b[1m)\u001b[0m$\u001b[1m}\u001b[0m & fixate1 & $\u001b[1;36m0.508\u001b[0m \\pm \u001b[1;36m0.019\u001b[0m$ & - \\\\\n",
       "\u001b[1m{\u001b[0mVAE $\u001b[1m(\u001b[0m\\beta = pool\u001b[1m)\u001b[0m$\u001b[1m}\u001b[0m & fixate1 & $\u001b[1;36m0.573\u001b[0m \\pm \u001b[1;36m0.019\u001b[0m$ & - \\\\\n",
       "cNAE & fixate1 & $\u001b[1;36m0.476\u001b[0m \\pm \u001b[1;36m0.018\u001b[0m$ & - \\\\\n",
       "\n"
      ]
     },
     "metadata": {},
     "output_type": "display_data"
    }
   ],
   "source": [
    "print(table)"
   ]
  },
  {
   "cell_type": "code",
   "execution_count": null,
   "id": "3bea7cc6",
   "metadata": {},
   "outputs": [],
   "source": []
  },
  {
   "cell_type": "code",
   "execution_count": 13,
   "id": "481bc2f0",
   "metadata": {},
   "outputs": [],
   "source": [
    "cat2latex = {\n",
    "    'fixate0': '\\\\fixatezero',\n",
    "    'fixate1': '\\\\fixateone',\n",
    "    'fixate2': '\\\\fixatetwo',\n",
    "\n",
    "    'transl0': '\\\\translzero',\n",
    "    'transl1': '\\\\translone',\n",
    "    'transl2': '\\\\transltwo',\n",
    "\n",
    "    'obj1': '\\\\objone',\n",
    "\n",
    "}\n",
    "for k, v in cat2latex.items():\n",
    "    table = table.replace(k, v)"
   ]
  },
  {
   "cell_type": "code",
   "execution_count": 14,
   "id": "aca46047",
   "metadata": {},
   "outputs": [
    {
     "data": {
      "text/html": [
       "<pre style=\"white-space:pre;overflow-x:auto;line-height:normal;font-family:Menlo,'DejaVu Sans Mono',consolas,'Courier New',monospace\"><span style=\"font-weight: bold\">{</span>cNVAE\\\\ $<span style=\"font-weight: bold\">(</span>\\beta = <span style=\"color: #008080; text-decoration-color: #008080; font-weight: bold\">0.5</span><span style=\"font-weight: bold\">)</span>$<span style=\"font-weight: bold\">}</span> &amp; \\objone &amp; $<span style=\"color: #008080; text-decoration-color: #008080; font-weight: bold\">0.471</span> \\pm <span style=\"color: #008080; text-decoration-color: #008080; font-weight: bold\">0.018</span>$ &amp; - \\\\\n",
       "&amp; \\fixatezero &amp; $<span style=\"color: #008080; text-decoration-color: #008080; font-weight: bold\">0.428</span> \\pm <span style=\"color: #008080; text-decoration-color: #008080; font-weight: bold\">0.018</span>$ &amp; - \\\\\n",
       "&amp; \\fixateone &amp; $<span style=\"color: #008080; text-decoration-color: #008080; font-weight: bold\">0.506</span> \\pm <span style=\"color: #008080; text-decoration-color: #008080; font-weight: bold\">0.018</span>$ &amp; - \\\\\n",
       "&amp; \\fixatetwo &amp; $<span style=\"color: #008080; text-decoration-color: #008080; font-weight: bold\">0.466</span> \\pm <span style=\"color: #008080; text-decoration-color: #008080; font-weight: bold\">0.017</span>$ &amp; - \\\\\n",
       "&amp; \\translone &amp; $<span style=\"color: #008080; text-decoration-color: #008080; font-weight: bold\">0.500</span> \\pm <span style=\"color: #008080; text-decoration-color: #008080; font-weight: bold\">0.018</span>$ &amp; - \\\\\n",
       "&amp; \\transltwo &amp; $<span style=\"color: #008080; text-decoration-color: #008080; font-weight: bold\">0.480</span> \\pm <span style=\"color: #008080; text-decoration-color: #008080; font-weight: bold\">0.017</span>$ &amp; - \\\\\n",
       "<span style=\"font-weight: bold\">{</span>cNVAE\\\\ $<span style=\"font-weight: bold\">(</span>\\beta = pool<span style=\"font-weight: bold\">)</span>$<span style=\"font-weight: bold\">}</span> &amp; \\objone &amp; $<span style=\"color: #008080; text-decoration-color: #008080; font-weight: bold\">0.530</span> \\pm <span style=\"color: #008080; text-decoration-color: #008080; font-weight: bold\">0.018</span>$ &amp; - \\\\\n",
       "&amp; \\fixatezero &amp; $<span style=\"color: #008080; text-decoration-color: #008080; font-weight: bold\">0.547</span> \\pm <span style=\"color: #008080; text-decoration-color: #008080; font-weight: bold\">0.019</span>$ &amp; - \\\\\n",
       "&amp; \\fixateone &amp; $<span style=\"color: #008080; text-decoration-color: #008080; font-weight: bold\">0.586</span> \\pm <span style=\"color: #008080; text-decoration-color: #008080; font-weight: bold\">0.019</span>$ &amp; - \\\\\n",
       "&amp; \\fixatetwo &amp; $<span style=\"color: #008080; text-decoration-color: #008080; font-weight: bold\">0.539</span> \\pm <span style=\"color: #008080; text-decoration-color: #008080; font-weight: bold\">0.018</span>$ &amp; - \\\\\n",
       "&amp; \\translone &amp; $<span style=\"color: #008080; text-decoration-color: #008080; font-weight: bold\">0.574</span> \\pm <span style=\"color: #008080; text-decoration-color: #008080; font-weight: bold\">0.019</span>$ &amp; - \\\\\n",
       "&amp; \\transltwo &amp; $<span style=\"color: #008080; text-decoration-color: #008080; font-weight: bold\">0.544</span> \\pm <span style=\"color: #008080; text-decoration-color: #008080; font-weight: bold\">0.018</span>$ &amp; - \\\\\n",
       "<span style=\"font-weight: bold\">{</span>VAE $<span style=\"font-weight: bold\">(</span>\\beta = <span style=\"color: #008080; text-decoration-color: #008080; font-weight: bold\">0.5</span><span style=\"font-weight: bold\">)</span>$<span style=\"font-weight: bold\">}</span> &amp; \\fixateone &amp; $<span style=\"color: #008080; text-decoration-color: #008080; font-weight: bold\">0.508</span> \\pm <span style=\"color: #008080; text-decoration-color: #008080; font-weight: bold\">0.019</span>$ &amp; - \\\\\n",
       "<span style=\"font-weight: bold\">{</span>VAE $<span style=\"font-weight: bold\">(</span>\\beta = pool<span style=\"font-weight: bold\">)</span>$<span style=\"font-weight: bold\">}</span> &amp; \\fixateone &amp; $<span style=\"color: #008080; text-decoration-color: #008080; font-weight: bold\">0.573</span> \\pm <span style=\"color: #008080; text-decoration-color: #008080; font-weight: bold\">0.019</span>$ &amp; - \\\\\n",
       "cNAE &amp; \\fixateone &amp; $<span style=\"color: #008080; text-decoration-color: #008080; font-weight: bold\">0.476</span> \\pm <span style=\"color: #008080; text-decoration-color: #008080; font-weight: bold\">0.018</span>$ &amp; - \\\\\n",
       "\n",
       "</pre>\n"
      ],
      "text/plain": [
       "\u001b[1m{\u001b[0mcNVAE\\\\ $\u001b[1m(\u001b[0m\\beta = \u001b[1;36m0.5\u001b[0m\u001b[1m)\u001b[0m$\u001b[1m}\u001b[0m & \\objone & $\u001b[1;36m0.471\u001b[0m \\pm \u001b[1;36m0.018\u001b[0m$ & - \\\\\n",
       "& \\fixatezero & $\u001b[1;36m0.428\u001b[0m \\pm \u001b[1;36m0.018\u001b[0m$ & - \\\\\n",
       "& \\fixateone & $\u001b[1;36m0.506\u001b[0m \\pm \u001b[1;36m0.018\u001b[0m$ & - \\\\\n",
       "& \\fixatetwo & $\u001b[1;36m0.466\u001b[0m \\pm \u001b[1;36m0.017\u001b[0m$ & - \\\\\n",
       "& \\translone & $\u001b[1;36m0.500\u001b[0m \\pm \u001b[1;36m0.018\u001b[0m$ & - \\\\\n",
       "& \\transltwo & $\u001b[1;36m0.480\u001b[0m \\pm \u001b[1;36m0.017\u001b[0m$ & - \\\\\n",
       "\u001b[1m{\u001b[0mcNVAE\\\\ $\u001b[1m(\u001b[0m\\beta = pool\u001b[1m)\u001b[0m$\u001b[1m}\u001b[0m & \\objone & $\u001b[1;36m0.530\u001b[0m \\pm \u001b[1;36m0.018\u001b[0m$ & - \\\\\n",
       "& \\fixatezero & $\u001b[1;36m0.547\u001b[0m \\pm \u001b[1;36m0.019\u001b[0m$ & - \\\\\n",
       "& \\fixateone & $\u001b[1;36m0.586\u001b[0m \\pm \u001b[1;36m0.019\u001b[0m$ & - \\\\\n",
       "& \\fixatetwo & $\u001b[1;36m0.539\u001b[0m \\pm \u001b[1;36m0.018\u001b[0m$ & - \\\\\n",
       "& \\translone & $\u001b[1;36m0.574\u001b[0m \\pm \u001b[1;36m0.019\u001b[0m$ & - \\\\\n",
       "& \\transltwo & $\u001b[1;36m0.544\u001b[0m \\pm \u001b[1;36m0.018\u001b[0m$ & - \\\\\n",
       "\u001b[1m{\u001b[0mVAE $\u001b[1m(\u001b[0m\\beta = \u001b[1;36m0.5\u001b[0m\u001b[1m)\u001b[0m$\u001b[1m}\u001b[0m & \\fixateone & $\u001b[1;36m0.508\u001b[0m \\pm \u001b[1;36m0.019\u001b[0m$ & - \\\\\n",
       "\u001b[1m{\u001b[0mVAE $\u001b[1m(\u001b[0m\\beta = pool\u001b[1m)\u001b[0m$\u001b[1m}\u001b[0m & \\fixateone & $\u001b[1;36m0.573\u001b[0m \\pm \u001b[1;36m0.019\u001b[0m$ & - \\\\\n",
       "cNAE & \\fixateone & $\u001b[1;36m0.476\u001b[0m \\pm \u001b[1;36m0.018\u001b[0m$ & - \\\\\n",
       "\n"
      ]
     },
     "metadata": {},
     "output_type": "display_data"
    }
   ],
   "source": [
    "print(table)"
   ]
  },
  {
   "cell_type": "code",
   "execution_count": null,
   "id": "8376dec9",
   "metadata": {},
   "outputs": [],
   "source": []
  },
  {
   "cell_type": "markdown",
   "id": "519c170e",
   "metadata": {},
   "source": [
    "## Table (old, contaiend beta pool)"
   ]
  },
  {
   "cell_type": "code",
   "execution_count": null,
   "id": "49d1bc35",
   "metadata": {},
   "outputs": [],
   "source": [
    "which_betas = [0.5, 0.8, 1, 5]\n",
    "\n",
    "looper = {\n",
    "    'cNVAE': ['obj1', 'fixate0', 'fixate1'],\n",
    "    # ['obj1', 'fixate0', 'fixate1', 'fixate2', 'transl1', 'transl2'],\n",
    "    'VAE': ['fixate1'],\n",
    "    'cNAE': ['fixate1'],\n",
    "    'AE': ['fixate1'],\n",
    "}\n",
    "table = ''\n",
    "for model, cat_list in looper.items():\n",
    "    first_row_added = False\n",
    "    for cat in cat_list:\n",
    "        _df = df_neural.loc[\n",
    "            (df_neural['model'] == model) &\n",
    "            (df_neural['category'] == cat)\n",
    "        ]\n",
    "        if not len(_df):\n",
    "            continue\n",
    "\n",
    "        mu = _df.groupby(['beta']).mean()\n",
    "        sd = _df.groupby(['beta']).std()\n",
    "        mu, sd = dict(mu['perf']), dict(sd['perf'])\n",
    "\n",
    "        with warnings.catch_warnings():\n",
    "            warnings.simplefilter(\"ignore\")\n",
    "            _df = _df.pivot(columns='beta', values='perf', index='index')\n",
    "        assert len(_df) == 141\n",
    "\n",
    "        mu['pool'] = _df.max(1).mean()\n",
    "        sd['pool'] = _df.max(1).std()\n",
    "        se = {\n",
    "            k: v / np.sqrt(len(_df))\n",
    "            for k, v in sd.items()\n",
    "        }\n",
    "\n",
    "        if 'VAE' in model:\n",
    "            r_str = []\n",
    "            for b in which_betas:\n",
    "                if mu[b] > 0.5:\n",
    "                    r_str.append(f\"$\\mathbf{'{'}{mu[b]:0.3f} \\\\pm {se[b]:0.3f}{'}'}$\")\n",
    "                else:\n",
    "                    r_str.append(f\"${mu[b]:0.3f} \\\\pm {se[b]:0.3f}$\")\n",
    "        else:\n",
    "            r_str = [' - '] * len(which_betas)\n",
    "        r_str = ' & '.join(r_str)\n",
    "        \n",
    "        if mu['pool'] > 0.57:\n",
    "            r_str_pool = f\"$\\mathbf{'{'}{mu['pool']:0.3f} \\\\pm {se['pool']:0.3f}{'}'}$\"\n",
    "        else:\n",
    "            r_str_pool = f\"${mu['pool']:0.3f} \\\\pm {se['pool']:0.3f}$\"\n",
    "\n",
    "        if first_row_added:\n",
    "            table += f\"& {cat} & {r_str} & {r_str_pool} \\\\\\\\\\n\"\n",
    "        else:\n",
    "            model_str = f\"{model} \"\n",
    "            table += model_str + f\"& {cat} & {r_str} & {r_str_pool} \\\\\\\\\\n\"\n",
    "            first_row_added = True"
   ]
  },
  {
   "cell_type": "code",
   "execution_count": null,
   "id": "1fb1b540",
   "metadata": {},
   "outputs": [],
   "source": []
  }
 ],
 "metadata": {
  "kernelspec": {
   "display_name": "Python 3",
   "language": "python",
   "name": "python3"
  },
  "language_info": {
   "codemirror_mode": {
    "name": "ipython",
    "version": 3
   },
   "file_extension": ".py",
   "mimetype": "text/x-python",
   "name": "python",
   "nbconvert_exporter": "python",
   "pygments_lexer": "ipython3",
   "version": "3.8.3"
  }
 },
 "nbformat": 4,
 "nbformat_minor": 5
}
