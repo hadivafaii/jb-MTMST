{
 "cells": [
  {
   "cell_type": "markdown",
   "id": "a9736f88",
   "metadata": {},
   "source": [
    "# (08) Wild play\n",
    "\n",
    "**Motivation**:  <br>"
   ]
  },
  {
   "cell_type": "code",
   "execution_count": 1,
   "id": "5360bb70",
   "metadata": {
    "tags": [
     "hide-input"
    ]
   },
   "outputs": [],
   "source": [
    "# HIDE CODE\n",
    "\n",
    "\n",
    "import os\n",
    "import sys\n",
    "from copy import deepcopy as dc\n",
    "from os.path import join as pjoin\n",
    "from IPython.display import display, IFrame, HTML\n",
    "\n",
    "# tmp & extras dir\n",
    "git_dir = pjoin(os.environ['HOME'], 'Dropbox/git')\n",
    "extras_dir = pjoin(git_dir, 'jb-MTMST/_extras')\n",
    "fig_base_dir = pjoin(git_dir, 'jb-MTMST/figs')\n",
    "tmp_dir = pjoin(git_dir, 'jb-MTMST/tmp')\n",
    "\n",
    "# GitHub\n",
    "sys.path.insert(0, pjoin(git_dir, '_MTMST'))\n",
    "from utils.plotting import *\n",
    "\n",
    "# warnings, tqdm, & style\n",
    "warnings.filterwarnings('ignore', category=DeprecationWarning)\n",
    "from tqdm.notebook import tqdm\n",
    "from rich.jupyter import print\n",
    "%matplotlib inline\n",
    "set_style()"
   ]
  },
  {
   "cell_type": "code",
   "execution_count": 13,
   "id": "c51c3d26",
   "metadata": {},
   "outputs": [],
   "source": [
    "path = '/home/hadi/Documents/MTMST/Wild22/data'\n",
    "expt = 'amm-MSTn-sun-090-01+01-task'\n",
    "f = pjoin(path, 'MSTn', f'{expt}.h5')\n",
    "f = h5py.File(f, 'r')"
   ]
  },
  {
   "cell_type": "code",
   "execution_count": null,
   "id": "8bf248a3",
   "metadata": {},
   "outputs": [],
   "source": []
  },
  {
   "cell_type": "code",
   "execution_count": 4,
   "id": "7a4f87a2",
   "metadata": {},
   "outputs": [
    {
     "data": {
      "text/plain": [
       "(74089, 1)"
      ]
     },
     "execution_count": 4,
     "metadata": {},
     "output_type": "execute_result"
    }
   ],
   "source": [
    "x = np.array(f['event_value']['SPIKE_channelUnit'])\n",
    "x.shape"
   ]
  },
  {
   "cell_type": "code",
   "execution_count": 5,
   "id": "c6e34f67",
   "metadata": {},
   "outputs": [
    {
     "data": {
      "text/plain": [
       "<AxesSubplot:ylabel='Count'>"
      ]
     },
     "execution_count": 5,
     "metadata": {},
     "output_type": "execute_result"
    },
    {
     "data": {
      "image/png": "[encoded data removed]",
      "text/plain": [
       "<Figure size 432x288 with 1 Axes>"
      ]
     },
     "metadata": {},
     "output_type": "display_data"
    }
   ],
   "source": [
    "sns.histplot(x.ravel())"
   ]
  },
  {
   "cell_type": "code",
   "execution_count": 6,
   "id": "4681c5bd",
   "metadata": {},
   "outputs": [
    {
     "data": {
      "text/plain": [
       "((726, 1), (726, 1))"
      ]
     },
     "execution_count": 6,
     "metadata": {},
     "output_type": "execute_result"
    }
   ],
   "source": [
    "x = np.array(f['event_value']['STIM_nDimRDP_posX'])\n",
    "y = np.array(f['event_value']['STIM_nDimRDP_posY'])\n",
    "x.shape, y.shape"
   ]
  },
  {
   "cell_type": "code",
   "execution_count": null,
   "id": "7e6c1153",
   "metadata": {},
   "outputs": [],
   "source": []
  },
  {
   "cell_type": "code",
   "execution_count": 7,
   "id": "a31d6027",
   "metadata": {},
   "outputs": [
    {
     "data": {
      "text/plain": [
       "(21952,)"
      ]
     },
     "execution_count": 7,
     "metadata": {},
     "output_type": "execute_result"
    }
   ],
   "source": [
    "x = np.array(f['event_value']['STIM_nDimRDP_probePosition'])\n",
    "x.shape"
   ]
  },
  {
   "cell_type": "code",
   "execution_count": null,
   "id": "6489de85",
   "metadata": {},
   "outputs": [],
   "source": []
  },
  {
   "cell_type": "code",
   "execution_count": 8,
   "id": "a4915657",
   "metadata": {},
   "outputs": [
    {
     "data": {
      "text/plain": [
       "((728, 1), (728, 1))"
      ]
     },
     "execution_count": 8,
     "metadata": {},
     "output_type": "execute_result"
    }
   ],
   "source": [
    "start = np.array(f['event_time']['TRIAL_start'])\n",
    "end = np.array(f['event_time']['TRIAL_end'])\n",
    "start.shape, end.shape"
   ]
  },
  {
   "cell_type": "code",
   "execution_count": 9,
   "id": "2ccf0c01",
   "metadata": {},
   "outputs": [
    {
     "data": {
      "text/plain": [
       "(728, 1)"
      ]
     },
     "execution_count": 9,
     "metadata": {},
     "output_type": "execute_result"
    }
   ],
   "source": [
    "duration = (end - start) / 1e6\n",
    "duration.shape"
   ]
  },
  {
   "cell_type": "code",
   "execution_count": 10,
   "id": "da7e9963",
   "metadata": {},
   "outputs": [
    {
     "data": {
      "text/plain": [
       "2428.868122"
      ]
     },
     "execution_count": 10,
     "metadata": {},
     "output_type": "execute_result"
    }
   ],
   "source": [
    "duration.sum()"
   ]
  },
  {
   "cell_type": "code",
   "execution_count": 12,
   "id": "8893be6d",
   "metadata": {},
   "outputs": [
    {
     "data": {
      "text/plain": [
       "40.48113536666666"
      ]
     },
     "execution_count": 12,
     "metadata": {},
     "output_type": "execute_result"
    }
   ],
   "source": [
    "duration.sum() / 60"
   ]
  },
  {
   "cell_type": "code",
   "execution_count": null,
   "id": "3f2e24f5",
   "metadata": {},
   "outputs": [],
   "source": []
  },
  {
   "cell_type": "markdown",
   "id": "1b4d79b0",
   "metadata": {},
   "source": [
    "## load velocity"
   ]
  },
  {
   "cell_type": "code",
   "execution_count": 118,
   "id": "f08a2838",
   "metadata": {},
   "outputs": [
    {
     "data": {
      "text/plain": [
       "((10, 15, 21952), (10, 15, 21952), (2, 10, 15, 21952))"
      ]
     },
     "execution_count": 118,
     "metadata": {},
     "output_type": "execute_result"
    }
   ],
   "source": [
    "from scipy import io as sio\n",
    "mat = sio.loadmat(pjoin('/home/hadi/Desktop', f\"{expt}.mat\"))\n",
    "\n",
    "rho = mat['sampleSpeeds'].astype(float).reshape((10, 15, -1))\n",
    "theta = mat['sampleDirections'].astype(float).reshape((10, 15, -1))\n",
    "v = np.concatenate([\n",
    "    np.expand_dims(rho * np.cos(theta), 0),\n",
    "    np.expand_dims(rho * np.sin(theta), 0),\n",
    "])\n",
    "\n",
    "rho.shape, theta.shape, v.shape"
   ]
  },
  {
   "cell_type": "code",
   "execution_count": null,
   "id": "d9db1e37",
   "metadata": {},
   "outputs": [],
   "source": []
  },
  {
   "cell_type": "code",
   "execution_count": 119,
   "id": "14e2a01e",
   "metadata": {},
   "outputs": [
    {
     "data": {
      "image/png": "[encoded data removed]",
      "text/plain": [
       "<Figure size 432x288 with 1 Axes>"
      ]
     },
     "metadata": {},
     "output_type": "display_data"
    }
   ],
   "source": [
    "plt.imshow(rho[..., 0], vmin=0, vmax=1);"
   ]
  },
  {
   "cell_type": "code",
   "execution_count": null,
   "id": "8ba54c0a",
   "metadata": {},
   "outputs": [],
   "source": []
  },
  {
   "cell_type": "code",
   "execution_count": 120,
   "id": "848f670d",
   "metadata": {},
   "outputs": [
    {
     "data": {
      "image/png": "[encoded data removed]",
      "text/plain": [
       "<Figure size 864x216 with 3 Axes>"
      ]
     },
     "metadata": {},
     "output_type": "display_data"
    }
   ],
   "source": [
    "fig, axes = create_figure(1, 3, (12, 3), sharey='row', constrained_layout=True)\n",
    "sns.histplot(rho.ravel(), stat='percent', bins=np.linspace(0, 1, 101), ax=axes[0])\n",
    "sns.histplot(theta.ravel(), stat='percent', bins=np.linspace(-np.pi, np.pi, 101), ax=axes[1])\n",
    "sns.histplot(v.ravel(), stat='percent', bins=np.linspace(-1, 1, 201), ax=axes[2])\n",
    "axes[0].set_title(r'$\\rho$')\n",
    "axes[1].set_title(r'$\\theta$')\n",
    "axes[2].set_title(r'$v = (\\rho \\cos(\\theta), \\rho \\sin(\\theta))$')\n",
    "plt.show()"
   ]
  },
  {
   "cell_type": "code",
   "execution_count": null,
   "id": "321f62d6",
   "metadata": {},
   "outputs": [],
   "source": []
  },
  {
   "cell_type": "code",
   "execution_count": 121,
   "id": "389597c9",
   "metadata": {},
   "outputs": [],
   "source": [
    "kws1 = {\n",
    "    'cmap': 'hsv',\n",
    "    'vmax': np.pi,\n",
    "    'vmin': -np.pi,\n",
    "}\n",
    "kws2 = {\n",
    "    'cmap': 'rocket',\n",
    "    'vmax': 1,\n",
    "    'vmin': 0,\n",
    "}"
   ]
  },
  {
   "cell_type": "code",
   "execution_count": 122,
   "id": "f30d33d4",
   "metadata": {},
   "outputs": [
    {
     "data": {
      "image/png": "[encoded data removed]",
      "text/plain": [
       "<Figure size 648x216 with 2 Axes>"
      ]
     },
     "metadata": {},
     "output_type": "display_data"
    }
   ],
   "source": [
    "fig, axes = create_figure(1, 2, (9, 3), 'all', 'all', constrained_layout=True)\n",
    "axes[0].imshow(theta[..., 0], **kws1)\n",
    "axes[1].imshow(rho[..., 0], **kws2);"
   ]
  },
  {
   "cell_type": "code",
   "execution_count": 123,
   "id": "22d8ebc0",
   "metadata": {},
   "outputs": [
    {
     "data": {
      "text/plain": [
       "array([-0.485727, -0.855124,  0.82596 , -0.339394,  0.393438, -0.279297,\n",
       "        0.181391, -0.457322,  0.020875,  0.698079, -0.780676,  0.906142,\n",
       "        0.047214,  0.380633,  0.406617])"
      ]
     },
     "execution_count": 123,
     "metadata": {},
     "output_type": "execute_result"
    }
   ],
   "source": [
    "theta[..., 0][0] / np.pi"
   ]
  },
  {
   "cell_type": "code",
   "execution_count": null,
   "id": "18f9a184",
   "metadata": {},
   "outputs": [],
   "source": []
  },
  {
   "cell_type": "markdown",
   "id": "9d15f29b",
   "metadata": {},
   "source": [
    "### Load but bring $0 \\leq \\theta \\leq 2\\pi$"
   ]
  },
  {
   "cell_type": "code",
   "execution_count": 124,
   "id": "7f32d142",
   "metadata": {},
   "outputs": [
    {
     "data": {
      "text/plain": [
       "((10, 15, 21952), (10, 15, 21952), (2, 10, 15, 21952))"
      ]
     },
     "execution_count": 124,
     "metadata": {},
     "output_type": "execute_result"
    }
   ],
   "source": [
    "from scipy import io as sio\n",
    "mat = sio.loadmat(pjoin('/home/hadi/Desktop', f\"{expt}.mat\"))\n",
    "\n",
    "rho = mat['sampleSpeeds'].astype(float).reshape((10, 15, -1))\n",
    "theta = mat['sampleDirections'].astype(float).reshape((10, 15, -1))\n",
    "theta += 2 * np.pi\n",
    "theta %= 2 * np.pi\n",
    "v = np.concatenate([\n",
    "    np.expand_dims(rho * np.cos(theta), 0),\n",
    "    np.expand_dims(rho * np.sin(theta), 0),\n",
    "])\n",
    "\n",
    "rho.shape, theta.shape, v.shape"
   ]
  },
  {
   "cell_type": "code",
   "execution_count": 125,
   "id": "463e73f5",
   "metadata": {},
   "outputs": [
    {
     "data": {
      "image/png": "[encoded data removed]",
      "text/plain": [
       "<Figure size 864x216 with 3 Axes>"
      ]
     },
     "metadata": {},
     "output_type": "display_data"
    }
   ],
   "source": [
    "fig, axes = create_figure(1, 3, (12, 3), sharey='row', constrained_layout=True)\n",
    "sns.histplot(rho.ravel(), stat='percent', bins=np.linspace(0, 1, 101), ax=axes[0])\n",
    "sns.histplot(theta.ravel(), stat='percent', bins=np.linspace(0, 2 * np.pi, 101), ax=axes[1])\n",
    "sns.histplot(v.ravel(), stat='percent', bins=np.linspace(-1, 1, 201), ax=axes[2])\n",
    "axes[0].set_title(r'$\\rho$')\n",
    "axes[1].set_title(r'$\\theta$')\n",
    "axes[2].set_title(r'$v = (\\rho \\cos(\\theta), \\rho \\sin(\\theta))$')\n",
    "plt.show()"
   ]
  },
  {
   "cell_type": "code",
   "execution_count": null,
   "id": "0132cc8c",
   "metadata": {},
   "outputs": [],
   "source": []
  },
  {
   "cell_type": "code",
   "execution_count": 126,
   "id": "db28a6dd",
   "metadata": {},
   "outputs": [],
   "source": [
    "kws1 = {\n",
    "    'cmap': 'hsv',\n",
    "    'vmax': 2 * np.pi,\n",
    "    'vmin': 0,\n",
    "}\n",
    "kws2 = {\n",
    "    'cmap': 'rocket',\n",
    "    'vmax': 1,\n",
    "    'vmin': 0,\n",
    "}"
   ]
  },
  {
   "cell_type": "code",
   "execution_count": 127,
   "id": "c22f10c5",
   "metadata": {},
   "outputs": [
    {
     "data": {
      "image/png": "[encoded data removed]",
      "text/plain": [
       "<Figure size 648x216 with 2 Axes>"
      ]
     },
     "metadata": {},
     "output_type": "display_data"
    }
   ],
   "source": [
    "fig, axes = create_figure(1, 2, (9, 3), 'all', 'all', constrained_layout=True)\n",
    "axes[0].imshow(theta[..., 0], **kws1)\n",
    "axes[1].imshow(rho[..., 0], **kws2);"
   ]
  },
  {
   "cell_type": "code",
   "execution_count": 129,
   "id": "97ff7826",
   "metadata": {},
   "outputs": [
    {
     "data": {
      "text/plain": [
       "array([1.514273, 1.144876, 0.82596 , 1.660606, 0.393438, 1.720703,\n",
       "       0.181391, 1.542678, 0.020875, 0.698079, 1.219324, 0.906142,\n",
       "       0.047214, 0.380633, 0.406617])"
      ]
     },
     "execution_count": 129,
     "metadata": {},
     "output_type": "execute_result"
    }
   ],
   "source": [
    "theta[..., 0][0] / np.pi"
   ]
  },
  {
   "cell_type": "code",
   "execution_count": 128,
   "id": "18da1bb6",
   "metadata": {},
   "outputs": [
    {
     "data": {
      "image/png": "[encoded data removed]",
      "text/plain": [
       "<Figure size 216x216 with 1 Axes>"
      ]
     },
     "metadata": {},
     "output_type": "display_data"
    }
   ],
   "source": [
    "show_hsv();"
   ]
  },
  {
   "cell_type": "code",
   "execution_count": null,
   "id": "ade1453f",
   "metadata": {},
   "outputs": [],
   "source": []
  },
  {
   "cell_type": "code",
   "execution_count": null,
   "id": "1df85f98",
   "metadata": {},
   "outputs": [],
   "source": []
  },
  {
   "cell_type": "markdown",
   "id": "16cc30a2",
   "metadata": {},
   "source": [
    "## load neural data"
   ]
  },
  {
   "cell_type": "code",
   "execution_count": 139,
   "id": "c0fcd733",
   "metadata": {},
   "outputs": [],
   "source": [
    "f = pjoin(path, 'MSTn', f'{expt}.h5')\n",
    "f = h5py.File(f, 'r')"
   ]
  },
  {
   "cell_type": "code",
   "execution_count": 140,
   "id": "0b8612da",
   "metadata": {},
   "outputs": [
    {
     "data": {
      "text/plain": [
       "['event_time', 'event_value']"
      ]
     },
     "execution_count": 140,
     "metadata": {},
     "output_type": "execute_result"
    }
   ],
   "source": [
    "list(f)"
   ]
  },
  {
   "cell_type": "code",
   "execution_count": 145,
   "id": "5d55e777",
   "metadata": {},
   "outputs": [
    {
     "data": {
      "text/plain": [
       "728"
      ]
     },
     "execution_count": 145,
     "metadata": {},
     "output_type": "execute_result"
    }
   ],
   "source": [
    "n_trials = len(f['event_time']['TRIAL_start'])\n",
    "n_trials"
   ]
  },
  {
   "cell_type": "code",
   "execution_count": 220,
   "id": "cccaea3d",
   "metadata": {},
   "outputs": [],
   "source": [
    "start = np.array(f['event_time']['TRIAL_start'], dtype=float)\n",
    "end = np.array(f['event_time']['TRIAL_end'], dtype=float)\n",
    "duration = (trials['end'] - trials['start']) / 1e6\n",
    "\n",
    "assert len(start) == len(end) == len(duration)\n",
    "n_trials = len(start)"
   ]
  },
  {
   "cell_type": "code",
   "execution_count": 222,
   "id": "ba29775e",
   "metadata": {},
   "outputs": [
    {
     "data": {
      "image/png": "[encoded data removed]",
      "text/plain": [
       "<Figure size 432x288 with 1 Axes>"
      ]
     },
     "metadata": {},
     "output_type": "display_data"
    }
   ],
   "source": [
    "sns.histplot(duration.ravel(), bins=np.linspace(0, 5, 101))\n",
    "plt.xlabel('Duration [s]');"
   ]
  },
  {
   "cell_type": "code",
   "execution_count": null,
   "id": "d7f61cb0",
   "metadata": {},
   "outputs": [],
   "source": []
  },
  {
   "cell_type": "code",
   "execution_count": 227,
   "id": "0f747c04",
   "metadata": {},
   "outputs": [],
   "source": [
    "spk_times = np.array(f['event_time']['SPIKE_channelUnit'], dtype=float)\n",
    "spk_times_trial = []\n",
    "for i in range(n_trials):\n",
    "    x = spk_times[np.logical_and(start[i] - latency <= spk_times, spk_times < end[i])]\n",
    "    spk_times_trial.append((x - start[i]) / 1e3)\n",
    "fr = []\n",
    "for i in range(n_trials):\n",
    "    fr.append(len([e for e in spk_times_trial[i] if e >= 0]) / duration[i, 0])"
   ]
  },
  {
   "cell_type": "code",
   "execution_count": 233,
   "id": "82f3d8cf",
   "metadata": {},
   "outputs": [
    {
     "data": {
      "image/png": "[encoded data removed]",
      "text/plain": [
       "<Figure size 432x288 with 1 Axes>"
      ]
     },
     "metadata": {},
     "output_type": "display_data"
    }
   ],
   "source": [
    "sns.histplot(fr, bins=np.linspace(0, 45, 45 + 1))\n",
    "plt.axvline(np.mean(fr), color='r', ls='--', label=f'avg fr: {np.mean(fr):0.1f} (Hz)')\n",
    "plt.xlabel('Firing rate [Hz]')\n",
    "plt.legend()\n",
    "plt.show()"
   ]
  },
  {
   "cell_type": "code",
   "execution_count": null,
   "id": "4b262992",
   "metadata": {},
   "outputs": [],
   "source": []
  },
  {
   "cell_type": "code",
   "execution_count": 236,
   "id": "3cd29520",
   "metadata": {},
   "outputs": [
    {
     "data": {
      "text/plain": [
       "(74089, 1)"
      ]
     },
     "execution_count": 236,
     "metadata": {},
     "output_type": "execute_result"
    }
   ],
   "source": [
    "f['event_time']['SPIKE_channelUnit'].shape"
   ]
  },
  {
   "cell_type": "code",
   "execution_count": 249,
   "id": "8adbf150",
   "metadata": {},
   "outputs": [],
   "source": [
    "channel = np.array(f['event_value']['SPIKE_channelUnit'], dtype=np.float32)"
   ]
  },
  {
   "cell_type": "code",
   "execution_count": 250,
   "id": "f45fa65f",
   "metadata": {},
   "outputs": [
    {
     "data": {
      "text/plain": [
       "array([ 1.1,  3.1,  4.1,  5.1, 35.1], dtype=float32)"
      ]
     },
     "execution_count": 250,
     "metadata": {},
     "output_type": "execute_result"
    }
   ],
   "source": [
    "np.unique(channel)"
   ]
  },
  {
   "cell_type": "code",
   "execution_count": null,
   "id": "c4b9021a",
   "metadata": {},
   "outputs": [],
   "source": []
  },
  {
   "cell_type": "code",
   "execution_count": null,
   "id": "a461136b",
   "metadata": {},
   "outputs": [],
   "source": []
  },
  {
   "cell_type": "code",
   "execution_count": null,
   "id": "e24e6089",
   "metadata": {},
   "outputs": [],
   "source": []
  },
  {
   "cell_type": "code",
   "execution_count": null,
   "id": "37a21198",
   "metadata": {},
   "outputs": [],
   "source": []
  },
  {
   "cell_type": "code",
   "execution_count": 136,
   "id": "23fcb6e0",
   "metadata": {},
   "outputs": [
    {
     "data": {
      "text/plain": [
       "'amm-MSTn-sun-090-01+01-task'"
      ]
     },
     "execution_count": 136,
     "metadata": {},
     "output_type": "execute_result"
    }
   ],
   "source": [
    "expt"
   ]
  },
  {
   "cell_type": "code",
   "execution_count": null,
   "id": "3b9dc009",
   "metadata": {},
   "outputs": [],
   "source": []
  },
  {
   "cell_type": "code",
   "execution_count": null,
   "id": "1915d010",
   "metadata": {},
   "outputs": [],
   "source": []
  },
  {
   "cell_type": "code",
   "execution_count": 255,
   "id": "b5057845",
   "metadata": {},
   "outputs": [
    {
     "data": {
      "text/html": [
       "<div>\n",
       "<style scoped>\n",
       "    .dataframe tbody tr th:only-of-type {\n",
       "        vertical-align: middle;\n",
       "    }\n",
       "\n",
       "    .dataframe tbody tr th {\n",
       "        vertical-align: top;\n",
       "    }\n",
       "\n",
       "    .dataframe thead th {\n",
       "        text-align: right;\n",
       "    }\n",
       "</style>\n",
       "<table border=\"1\" class=\"dataframe\">\n",
       "  <thead>\n",
       "    <tr style=\"text-align: right;\">\n",
       "      <th></th>\n",
       "      <th>format</th>\n",
       "      <th>recording_session</th>\n",
       "      <th>experimenter</th>\n",
       "      <th>date</th>\n",
       "      <th>monkey</th>\n",
       "      <th>hemisphere</th>\n",
       "      <th>chamber</th>\n",
       "      <th>session_number</th>\n",
       "      <th>daily_count</th>\n",
       "      <th>hardware</th>\n",
       "      <th>...</th>\n",
       "      <th>Exp_MSTm_st_3</th>\n",
       "      <th>Exp_MSTt_tt</th>\n",
       "      <th>Exp_MSTt_st_1</th>\n",
       "      <th>Exp_MSTt_st_2</th>\n",
       "      <th>Exp_MSTt_st_3</th>\n",
       "      <th>Exp_MSTn_tt</th>\n",
       "      <th>Exp_MSTn_st_1</th>\n",
       "      <th>Exp_MSTn_st_2</th>\n",
       "      <th>Exp_MSTn_st_3</th>\n",
       "      <th>notes</th>\n",
       "    </tr>\n",
       "  </thead>\n",
       "  <tbody>\n",
       "    <tr>\n",
       "      <th>0</th>\n",
       "      <td>1</td>\n",
       "      <td>1</td>\n",
       "      <td>amm</td>\n",
       "      <td>26. Nov 15</td>\n",
       "      <td>sun</td>\n",
       "      <td>left</td>\n",
       "      <td>1</td>\n",
       "      <td>\"085\"</td>\n",
       "      <td>01+01</td>\n",
       "      <td>A-MM1</td>\n",
       "      <td>...</td>\n",
       "      <td>0</td>\n",
       "      <td>238</td>\n",
       "      <td>'1:238'</td>\n",
       "      <td>0</td>\n",
       "      <td>0</td>\n",
       "      <td>0</td>\n",
       "      <td>0</td>\n",
       "      <td>0</td>\n",
       "      <td>0</td>\n",
       "      <td>firing rate increases throughout MSTt</td>\n",
       "    </tr>\n",
       "    <tr>\n",
       "      <th>1</th>\n",
       "      <td>1</td>\n",
       "      <td>2</td>\n",
       "      <td>amm</td>\n",
       "      <td>17. Dec 15</td>\n",
       "      <td>sun</td>\n",
       "      <td>left</td>\n",
       "      <td>1</td>\n",
       "      <td>\"089\"</td>\n",
       "      <td>01+01</td>\n",
       "      <td>A-MM1</td>\n",
       "      <td>...</td>\n",
       "      <td>0</td>\n",
       "      <td>59</td>\n",
       "      <td>'1:59'</td>\n",
       "      <td>0</td>\n",
       "      <td>0</td>\n",
       "      <td>823</td>\n",
       "      <td>'1:788'</td>\n",
       "      <td>0</td>\n",
       "      <td>0</td>\n",
       "      <td>NaN</td>\n",
       "    </tr>\n",
       "    <tr>\n",
       "      <th>2</th>\n",
       "      <td>1</td>\n",
       "      <td>3</td>\n",
       "      <td>amm</td>\n",
       "      <td>12. Jan 16</td>\n",
       "      <td>sun</td>\n",
       "      <td>left</td>\n",
       "      <td>1</td>\n",
       "      <td>\"090\"</td>\n",
       "      <td>01+01</td>\n",
       "      <td>A-MM1</td>\n",
       "      <td>...</td>\n",
       "      <td>0</td>\n",
       "      <td>91</td>\n",
       "      <td>'1:91'</td>\n",
       "      <td>0</td>\n",
       "      <td>0</td>\n",
       "      <td>728</td>\n",
       "      <td>'1:728'</td>\n",
       "      <td>0</td>\n",
       "      <td>0</td>\n",
       "      <td>NaN</td>\n",
       "    </tr>\n",
       "    <tr>\n",
       "      <th>3</th>\n",
       "      <td>1</td>\n",
       "      <td>4</td>\n",
       "      <td>amm</td>\n",
       "      <td>13. Jan 16</td>\n",
       "      <td>sun</td>\n",
       "      <td>left</td>\n",
       "      <td>1</td>\n",
       "      <td>\"091\"</td>\n",
       "      <td>01+01</td>\n",
       "      <td>A-MM1</td>\n",
       "      <td>...</td>\n",
       "      <td>0</td>\n",
       "      <td>96</td>\n",
       "      <td>'1:96'</td>\n",
       "      <td>0</td>\n",
       "      <td>0</td>\n",
       "      <td>1091</td>\n",
       "      <td>'1:1091'</td>\n",
       "      <td>0</td>\n",
       "      <td>0</td>\n",
       "      <td>NaN</td>\n",
       "    </tr>\n",
       "    <tr>\n",
       "      <th>4</th>\n",
       "      <td>1</td>\n",
       "      <td>5</td>\n",
       "      <td>amm</td>\n",
       "      <td>14. Jan 16</td>\n",
       "      <td>sun</td>\n",
       "      <td>left</td>\n",
       "      <td>1</td>\n",
       "      <td>\"092\"</td>\n",
       "      <td>01+01</td>\n",
       "      <td>A-MM1</td>\n",
       "      <td>...</td>\n",
       "      <td>0</td>\n",
       "      <td>206</td>\n",
       "      <td>'1:206'</td>\n",
       "      <td>0</td>\n",
       "      <td>0</td>\n",
       "      <td>633</td>\n",
       "      <td>'2:633'</td>\n",
       "      <td>0</td>\n",
       "      <td>0</td>\n",
       "      <td>NaN</td>\n",
       "    </tr>\n",
       "    <tr>\n",
       "      <th>...</th>\n",
       "      <td>...</td>\n",
       "      <td>...</td>\n",
       "      <td>...</td>\n",
       "      <td>...</td>\n",
       "      <td>...</td>\n",
       "      <td>...</td>\n",
       "      <td>...</td>\n",
       "      <td>...</td>\n",
       "      <td>...</td>\n",
       "      <td>...</td>\n",
       "      <td>...</td>\n",
       "      <td>...</td>\n",
       "      <td>...</td>\n",
       "      <td>...</td>\n",
       "      <td>...</td>\n",
       "      <td>...</td>\n",
       "      <td>...</td>\n",
       "      <td>...</td>\n",
       "      <td>...</td>\n",
       "      <td>...</td>\n",
       "      <td>...</td>\n",
       "    </tr>\n",
       "    <tr>\n",
       "      <th>134</th>\n",
       "      <td>1</td>\n",
       "      <td>135</td>\n",
       "      <td>bew</td>\n",
       "      <td>10. Oct 18</td>\n",
       "      <td>igg</td>\n",
       "      <td>right</td>\n",
       "      <td>1</td>\n",
       "      <td>\"118\"</td>\n",
       "      <td>01+01</td>\n",
       "      <td>A-MM2</td>\n",
       "      <td>...</td>\n",
       "      <td>0</td>\n",
       "      <td>255</td>\n",
       "      <td>'1:255'</td>\n",
       "      <td>0</td>\n",
       "      <td>0</td>\n",
       "      <td>596</td>\n",
       "      <td>'1:590'</td>\n",
       "      <td>0</td>\n",
       "      <td>0</td>\n",
       "      <td>NaN</td>\n",
       "    </tr>\n",
       "    <tr>\n",
       "      <th>135</th>\n",
       "      <td>1</td>\n",
       "      <td>136</td>\n",
       "      <td>bew</td>\n",
       "      <td>17. Oct 18</td>\n",
       "      <td>igg</td>\n",
       "      <td>right</td>\n",
       "      <td>1</td>\n",
       "      <td>\"122\"</td>\n",
       "      <td>01+01</td>\n",
       "      <td>B-MM2</td>\n",
       "      <td>...</td>\n",
       "      <td>0</td>\n",
       "      <td>220</td>\n",
       "      <td>'1:220'</td>\n",
       "      <td>0</td>\n",
       "      <td>0</td>\n",
       "      <td>343</td>\n",
       "      <td>'1:343'</td>\n",
       "      <td>0</td>\n",
       "      <td>0</td>\n",
       "      <td>NaN</td>\n",
       "    </tr>\n",
       "    <tr>\n",
       "      <th>136</th>\n",
       "      <td>1</td>\n",
       "      <td>137</td>\n",
       "      <td>amm</td>\n",
       "      <td>18. Oct 18</td>\n",
       "      <td>igg</td>\n",
       "      <td>right</td>\n",
       "      <td>1</td>\n",
       "      <td>\"123\"</td>\n",
       "      <td>01+01</td>\n",
       "      <td>B-MM2</td>\n",
       "      <td>...</td>\n",
       "      <td>0</td>\n",
       "      <td>184</td>\n",
       "      <td>'1:184'</td>\n",
       "      <td>'1:184'</td>\n",
       "      <td>0</td>\n",
       "      <td>453</td>\n",
       "      <td>'1:453'</td>\n",
       "      <td>'1:453'</td>\n",
       "      <td>0</td>\n",
       "      <td>NaN</td>\n",
       "    </tr>\n",
       "    <tr>\n",
       "      <th>137</th>\n",
       "      <td>1</td>\n",
       "      <td>138</td>\n",
       "      <td>amm</td>\n",
       "      <td>19. Oct 18</td>\n",
       "      <td>igg</td>\n",
       "      <td>right</td>\n",
       "      <td>1</td>\n",
       "      <td>\"124\"</td>\n",
       "      <td>01+01</td>\n",
       "      <td>B-MM2</td>\n",
       "      <td>...</td>\n",
       "      <td>0</td>\n",
       "      <td>210</td>\n",
       "      <td>'1:210'</td>\n",
       "      <td>0</td>\n",
       "      <td>0</td>\n",
       "      <td>583</td>\n",
       "      <td>1:179,205:583'</td>\n",
       "      <td>0</td>\n",
       "      <td>0</td>\n",
       "      <td>NaN</td>\n",
       "    </tr>\n",
       "    <tr>\n",
       "      <th>138</th>\n",
       "      <td>1</td>\n",
       "      <td>139</td>\n",
       "      <td>amm</td>\n",
       "      <td>22. Oct 18</td>\n",
       "      <td>igg</td>\n",
       "      <td>right</td>\n",
       "      <td>1</td>\n",
       "      <td>\"125\"</td>\n",
       "      <td>01+01</td>\n",
       "      <td>B-MM2</td>\n",
       "      <td>...</td>\n",
       "      <td>0</td>\n",
       "      <td>188</td>\n",
       "      <td>'1:188'</td>\n",
       "      <td>0</td>\n",
       "      <td>0</td>\n",
       "      <td>489</td>\n",
       "      <td>'1:489'</td>\n",
       "      <td>0</td>\n",
       "      <td>0</td>\n",
       "      <td>NaN</td>\n",
       "    </tr>\n",
       "  </tbody>\n",
       "</table>\n",
       "<p>139 rows × 35 columns</p>\n",
       "</div>"
      ],
      "text/plain": [
       "     format  recording_session experimenter        date monkey hemisphere  \\\n",
       "0         1                  1          amm  26. Nov 15    sun       left   \n",
       "1         1                  2          amm  17. Dec 15    sun       left   \n",
       "2         1                  3          amm  12. Jan 16    sun       left   \n",
       "3         1                  4          amm  13. Jan 16    sun       left   \n",
       "4         1                  5          amm  14. Jan 16    sun       left   \n",
       "..      ...                ...          ...         ...    ...        ...   \n",
       "134       1                135          bew  10. Oct 18    igg      right   \n",
       "135       1                136          bew  17. Oct 18    igg      right   \n",
       "136       1                137          amm  18. Oct 18    igg      right   \n",
       "137       1                138          amm  19. Oct 18    igg      right   \n",
       "138       1                139          amm  22. Oct 18    igg      right   \n",
       "\n",
       "     chamber session_number daily_count hardware  ...  Exp_MSTm_st_3  \\\n",
       "0          1          \"085\"       01+01    A-MM1  ...              0   \n",
       "1          1          \"089\"       01+01    A-MM1  ...              0   \n",
       "2          1          \"090\"       01+01    A-MM1  ...              0   \n",
       "3          1          \"091\"       01+01    A-MM1  ...              0   \n",
       "4          1          \"092\"       01+01    A-MM1  ...              0   \n",
       "..       ...            ...         ...      ...  ...            ...   \n",
       "134        1          \"118\"       01+01    A-MM2  ...              0   \n",
       "135        1          \"122\"       01+01    B-MM2  ...              0   \n",
       "136        1          \"123\"       01+01    B-MM2  ...              0   \n",
       "137        1          \"124\"       01+01    B-MM2  ...              0   \n",
       "138        1          \"125\"       01+01    B-MM2  ...              0   \n",
       "\n",
       "     Exp_MSTt_tt  Exp_MSTt_st_1  Exp_MSTt_st_2  Exp_MSTt_st_3  Exp_MSTn_tt  \\\n",
       "0            238        '1:238'              0              0            0   \n",
       "1             59         '1:59'              0              0          823   \n",
       "2             91         '1:91'              0              0          728   \n",
       "3             96         '1:96'              0              0         1091   \n",
       "4            206        '1:206'              0              0          633   \n",
       "..           ...            ...            ...            ...          ...   \n",
       "134          255        '1:255'              0              0          596   \n",
       "135          220        '1:220'              0              0          343   \n",
       "136          184        '1:184'        '1:184'              0          453   \n",
       "137          210        '1:210'              0              0          583   \n",
       "138          188        '1:188'              0              0          489   \n",
       "\n",
       "      Exp_MSTn_st_1  Exp_MSTn_st_2  Exp_MSTn_st_3  \\\n",
       "0                 0              0              0   \n",
       "1           '1:788'              0              0   \n",
       "2           '1:728'              0              0   \n",
       "3          '1:1091'              0              0   \n",
       "4           '2:633'              0              0   \n",
       "..              ...            ...            ...   \n",
       "134         '1:590'              0              0   \n",
       "135         '1:343'              0              0   \n",
       "136         '1:453'        '1:453'              0   \n",
       "137  1:179,205:583'              0              0   \n",
       "138         '1:489'              0              0   \n",
       "\n",
       "                                     notes  \n",
       "0    firing rate increases throughout MSTt  \n",
       "1                                      NaN  \n",
       "2                                      NaN  \n",
       "3                                      NaN  \n",
       "4                                      NaN  \n",
       "..                                     ...  \n",
       "134                                    NaN  \n",
       "135                                    NaN  \n",
       "136                                    NaN  \n",
       "137                                    NaN  \n",
       "138                                    NaN  \n",
       "\n",
       "[139 rows x 35 columns]"
      ]
     },
     "execution_count": 255,
     "metadata": {},
     "output_type": "execute_result"
    }
   ],
   "source": [
    "df_meta = pd.read_csv(pjoin(path, 'meta_data.txt'), sep='\\t')\n",
    "df_meta"
   ]
  },
  {
   "cell_type": "code",
   "execution_count": null,
   "id": "61afb50d",
   "metadata": {},
   "outputs": [],
   "source": []
  },
  {
   "cell_type": "code",
   "execution_count": 267,
   "id": "7441ae9a",
   "metadata": {},
   "outputs": [
    {
     "data": {
      "text/html": [
       "<div>\n",
       "<style scoped>\n",
       "    .dataframe tbody tr th:only-of-type {\n",
       "        vertical-align: middle;\n",
       "    }\n",
       "\n",
       "    .dataframe tbody tr th {\n",
       "        vertical-align: top;\n",
       "    }\n",
       "\n",
       "    .dataframe thead th {\n",
       "        text-align: right;\n",
       "    }\n",
       "</style>\n",
       "<table border=\"1\" class=\"dataframe\">\n",
       "  <thead>\n",
       "    <tr style=\"text-align: right;\">\n",
       "      <th></th>\n",
       "      <th>format</th>\n",
       "      <th>recording_session</th>\n",
       "      <th>experimenter</th>\n",
       "      <th>date</th>\n",
       "      <th>monkey</th>\n",
       "      <th>hemisphere</th>\n",
       "      <th>chamber</th>\n",
       "      <th>session_number</th>\n",
       "      <th>daily_count</th>\n",
       "      <th>hardware</th>\n",
       "      <th>...</th>\n",
       "      <th>Exp_MSTm_st_3</th>\n",
       "      <th>Exp_MSTt_tt</th>\n",
       "      <th>Exp_MSTt_st_1</th>\n",
       "      <th>Exp_MSTt_st_2</th>\n",
       "      <th>Exp_MSTt_st_3</th>\n",
       "      <th>Exp_MSTn_tt</th>\n",
       "      <th>Exp_MSTn_st_1</th>\n",
       "      <th>Exp_MSTn_st_2</th>\n",
       "      <th>Exp_MSTn_st_3</th>\n",
       "      <th>notes</th>\n",
       "    </tr>\n",
       "  </thead>\n",
       "  <tbody>\n",
       "    <tr>\n",
       "      <th>2</th>\n",
       "      <td>1</td>\n",
       "      <td>3</td>\n",
       "      <td>amm</td>\n",
       "      <td>12. Jan 16</td>\n",
       "      <td>sun</td>\n",
       "      <td>left</td>\n",
       "      <td>1</td>\n",
       "      <td>\"090\"</td>\n",
       "      <td>01+01</td>\n",
       "      <td>A-MM1</td>\n",
       "      <td>...</td>\n",
       "      <td>0</td>\n",
       "      <td>91</td>\n",
       "      <td>'1:91'</td>\n",
       "      <td>0</td>\n",
       "      <td>0</td>\n",
       "      <td>728</td>\n",
       "      <td>'1:728'</td>\n",
       "      <td>0</td>\n",
       "      <td>0</td>\n",
       "      <td>NaN</td>\n",
       "    </tr>\n",
       "  </tbody>\n",
       "</table>\n",
       "<p>1 rows × 35 columns</p>\n",
       "</div>"
      ],
      "text/plain": [
       "   format  recording_session experimenter        date monkey hemisphere  \\\n",
       "2       1                  3          amm  12. Jan 16    sun       left   \n",
       "\n",
       "   chamber session_number daily_count hardware  ...  Exp_MSTm_st_3  \\\n",
       "2        1          \"090\"       01+01    A-MM1  ...              0   \n",
       "\n",
       "   Exp_MSTt_tt  Exp_MSTt_st_1  Exp_MSTt_st_2  Exp_MSTt_st_3  Exp_MSTn_tt  \\\n",
       "2           91         '1:91'              0              0          728   \n",
       "\n",
       "   Exp_MSTn_st_1  Exp_MSTn_st_2  Exp_MSTn_st_3  notes  \n",
       "2        '1:728'              0              0    NaN  \n",
       "\n",
       "[1 rows x 35 columns]"
      ]
     },
     "execution_count": 267,
     "metadata": {},
     "output_type": "execute_result"
    }
   ],
   "source": [
    "df_meta.loc[\n",
    "    (df_meta['monkey'] == 'sun') &\n",
    "    (df_meta['session_number'] == '\"090\"')\n",
    "]"
   ]
  },
  {
   "cell_type": "code",
   "execution_count": 268,
   "id": "43caa9c6",
   "metadata": {},
   "outputs": [],
   "source": [
    "f.close()"
   ]
  },
  {
   "cell_type": "code",
   "execution_count": null,
   "id": "d17ffcaa",
   "metadata": {},
   "outputs": [],
   "source": []
  },
  {
   "cell_type": "code",
   "execution_count": null,
   "id": "c1fc414c",
   "metadata": {},
   "outputs": [],
   "source": []
  },
  {
   "cell_type": "code",
   "execution_count": 256,
   "id": "5e6cd8ed",
   "metadata": {},
   "outputs": [
    {
     "data": {
      "text/html": [
       "<div>\n",
       "<style scoped>\n",
       "    .dataframe tbody tr th:only-of-type {\n",
       "        vertical-align: middle;\n",
       "    }\n",
       "\n",
       "    .dataframe tbody tr th {\n",
       "        vertical-align: top;\n",
       "    }\n",
       "\n",
       "    .dataframe thead th {\n",
       "        text-align: right;\n",
       "    }\n",
       "</style>\n",
       "<table border=\"1\" class=\"dataframe\">\n",
       "  <thead>\n",
       "    <tr style=\"text-align: right;\">\n",
       "      <th></th>\n",
       "      <th>event name</th>\n",
       "      <th>event description</th>\n",
       "      <th>event_value</th>\n",
       "      <th>event_time</th>\n",
       "    </tr>\n",
       "  </thead>\n",
       "  <tbody>\n",
       "    <tr>\n",
       "      <th>0</th>\n",
       "      <td>EYE_pupilSizeLeft_raw</td>\n",
       "      <td>left eye pupil area</td>\n",
       "      <td>integer, raw value (arbitrary unit)</td>\n",
       "      <td>time at which a value was recorded</td>\n",
       "    </tr>\n",
       "    <tr>\n",
       "      <th>1</th>\n",
       "      <td>EYE_pupilSizeRight_raw</td>\n",
       "      <td>right eye pupil area</td>\n",
       "      <td>integer, raw value (arbitrary unit)</td>\n",
       "      <td>time at which a value was recorded</td>\n",
       "    </tr>\n",
       "    <tr>\n",
       "      <th>2</th>\n",
       "      <td>EYE_x_dva</td>\n",
       "      <td>calibrated gaze position</td>\n",
       "      <td>float, in degree visual angle</td>\n",
       "      <td>time at which a value was recorded</td>\n",
       "    </tr>\n",
       "    <tr>\n",
       "      <th>3</th>\n",
       "      <td>EYE_y_dva</td>\n",
       "      <td>calibrated gaze position</td>\n",
       "      <td>float, in degree visual angle</td>\n",
       "      <td>time at which a value was recorded</td>\n",
       "    </tr>\n",
       "    <tr>\n",
       "      <th>4</th>\n",
       "      <td>IO_buttonA</td>\n",
       "      <td>Boolean that specifies whether button is press...</td>\n",
       "      <td>1 (button pressed) or 0 (button released)</td>\n",
       "      <td>time at which button was pressed or released</td>\n",
       "    </tr>\n",
       "    <tr>\n",
       "      <th>...</th>\n",
       "      <td>...</td>\n",
       "      <td>...</td>\n",
       "      <td>...</td>\n",
       "      <td>...</td>\n",
       "    </tr>\n",
       "    <tr>\n",
       "      <th>129</th>\n",
       "      <td>TRIAL_outcome</td>\n",
       "      <td>outcome of a trial</td>\n",
       "      <td>string, \"hit\", \"failure\", or \"brokeFixation\"</td>\n",
       "      <td>time at which trial outcome was determined</td>\n",
       "    </tr>\n",
       "    <tr>\n",
       "      <th>130</th>\n",
       "      <td>TRIAL_responseEvent</td>\n",
       "      <td>response of the subject</td>\n",
       "      <td>integer, always 1</td>\n",
       "      <td>time at which the response occured</td>\n",
       "    </tr>\n",
       "    <tr>\n",
       "      <th>131</th>\n",
       "      <td>TRIAL_responseTrigger</td>\n",
       "      <td>change of stimulus to which subject should res...</td>\n",
       "      <td>integer, always 1</td>\n",
       "      <td>time at which the response trigger occured</td>\n",
       "    </tr>\n",
       "    <tr>\n",
       "      <th>132</th>\n",
       "      <td>TRIAL_start</td>\n",
       "      <td>start of a trial</td>\n",
       "      <td>integer, trial number</td>\n",
       "      <td>time of trial start</td>\n",
       "    </tr>\n",
       "    <tr>\n",
       "      <th>133</th>\n",
       "      <td>TRIAL_type</td>\n",
       "      <td>type of trials</td>\n",
       "      <td>string, \"Mapping\", \"Tuning\", or \"Reverse Corre...</td>\n",
       "      <td>time at which trial type was assigned</td>\n",
       "    </tr>\n",
       "  </tbody>\n",
       "</table>\n",
       "<p>134 rows × 4 columns</p>\n",
       "</div>"
      ],
      "text/plain": [
       "                 event name  \\\n",
       "0     EYE_pupilSizeLeft_raw   \n",
       "1    EYE_pupilSizeRight_raw   \n",
       "2                 EYE_x_dva   \n",
       "3                 EYE_y_dva   \n",
       "4                IO_buttonA   \n",
       "..                      ...   \n",
       "129           TRIAL_outcome   \n",
       "130     TRIAL_responseEvent   \n",
       "131   TRIAL_responseTrigger   \n",
       "132             TRIAL_start   \n",
       "133              TRIAL_type   \n",
       "\n",
       "                                     event description  \\\n",
       "0                                  left eye pupil area   \n",
       "1                                 right eye pupil area   \n",
       "2                             calibrated gaze position   \n",
       "3                             calibrated gaze position   \n",
       "4    Boolean that specifies whether button is press...   \n",
       "..                                                 ...   \n",
       "129                                 outcome of a trial   \n",
       "130                            response of the subject   \n",
       "131  change of stimulus to which subject should res...   \n",
       "132                                   start of a trial   \n",
       "133                                     type of trials   \n",
       "\n",
       "                                           event_value  \\\n",
       "0                  integer, raw value (arbitrary unit)   \n",
       "1                  integer, raw value (arbitrary unit)   \n",
       "2                       float, in degree visual angle    \n",
       "3                       float, in degree visual angle    \n",
       "4            1 (button pressed) or 0 (button released)   \n",
       "..                                                 ...   \n",
       "129       string, \"hit\", \"failure\", or \"brokeFixation\"   \n",
       "130                                  integer, always 1   \n",
       "131                                  integer, always 1   \n",
       "132                              integer, trial number   \n",
       "133  string, \"Mapping\", \"Tuning\", or \"Reverse Corre...   \n",
       "\n",
       "                                       event_time  \n",
       "0              time at which a value was recorded  \n",
       "1              time at which a value was recorded  \n",
       "2              time at which a value was recorded  \n",
       "3              time at which a value was recorded  \n",
       "4    time at which button was pressed or released  \n",
       "..                                            ...  \n",
       "129    time at which trial outcome was determined  \n",
       "130            time at which the response occured  \n",
       "131    time at which the response trigger occured  \n",
       "132                           time of trial start  \n",
       "133        time at which trial type was assigned   \n",
       "\n",
       "[134 rows x 4 columns]"
      ]
     },
     "execution_count": 256,
     "metadata": {},
     "output_type": "execute_result"
    }
   ],
   "source": [
    "df_desc = pd.read_excel(pjoin(path, 'data_description.xlsx'))\n",
    "df_desc"
   ]
  },
  {
   "cell_type": "code",
   "execution_count": null,
   "id": "f7a37645",
   "metadata": {},
   "outputs": [],
   "source": []
  },
  {
   "cell_type": "code",
   "execution_count": null,
   "id": "b194842d",
   "metadata": {},
   "outputs": [],
   "source": []
  },
  {
   "cell_type": "code",
   "execution_count": 32,
   "id": "0fca48a6",
   "metadata": {},
   "outputs": [],
   "source": [
    "event_value = f['event_value']\n",
    "event_time = f['event_time']"
   ]
  },
  {
   "cell_type": "code",
   "execution_count": 41,
   "id": "25411e6d",
   "metadata": {},
   "outputs": [
    {
     "data": {
      "text/plain": [
       "(0.0, 0.0)"
      ]
     },
     "execution_count": 41,
     "metadata": {},
     "output_type": "execute_result"
    }
   ],
   "source": [
    "stim_x = sp_stats.mode(np.array(event_value['STIM_nDimRDP_posX'], float).ravel()).mode.item()\n",
    "stim_y = sp_stats.mode(np.array(event_value['STIM_nDimRDP_posY'], float).ravel()).mode.item()\n",
    "stim_x, stim_y"
   ]
  },
  {
   "cell_type": "markdown",
   "id": "cf49897c",
   "metadata": {},
   "source": [
    "- stim_x and stim_y specify the center of the rectangular RDP. \n",
    "- Get the coordinate of the center of each of the 15x10 segment\n",
    "- subtract half the stimulus width (45/2 = 22.5) and add half a segment width (3/2 = 1.5) to get the center of the left most segment\n",
    "- subtract half the stimulus height (30/2 = 15) and add half a segment height (3/2 = 1.5) to get the center of the bottom segment"
   ]
  },
  {
   "cell_type": "code",
   "execution_count": 45,
   "id": "fba6224c",
   "metadata": {},
   "outputs": [],
   "source": [
    "stim_segment_x_coordinates = np.arange(stim_x-22.5+1.5, stim_x+22.5, 3)\n",
    "stim_segment_y_coordinates = np.arange(stim_y-15+1.5, stim_x+15, 3)"
   ]
  },
  {
   "cell_type": "code",
   "execution_count": 47,
   "id": "f927a2d8",
   "metadata": {},
   "outputs": [
    {
     "data": {
      "text/plain": [
       "(array([-21., -18., -15., -12.,  -9.,  -6.,  -3.,   0.,   3.,   6.,   9.,\n",
       "         12.,  15.,  18.,  21.]),\n",
       " array([-13.5, -10.5,  -7.5,  -4.5,  -1.5,   1.5,   4.5,   7.5,  10.5,\n",
       "         13.5]))"
      ]
     },
     "execution_count": 47,
     "metadata": {},
     "output_type": "execute_result"
    }
   ],
   "source": [
    "stim_segment_x_coordinates, stim_segment_y_coordinates"
   ]
  },
  {
   "cell_type": "code",
   "execution_count": null,
   "id": "0ec7e460",
   "metadata": {},
   "outputs": [],
   "source": []
  },
  {
   "cell_type": "code",
   "execution_count": null,
   "id": "95802a9b",
   "metadata": {},
   "outputs": [],
   "source": [
    "stim_segment_coordinates = [\n",
    "    np.repeat(stim_segment_x_coordinates.reshape(-1, 1), len(stim_segment_y_coordinates)),\n",
    "    np.tile(stim_segment_y_coordinates, (len(stim_segment_x_coordinates), 1))];"
   ]
  },
  {
   "cell_type": "code",
   "execution_count": 49,
   "id": "2e4a532e",
   "metadata": {},
   "outputs": [
    {
     "data": {
      "text/plain": [
       "(150,)"
      ]
     },
     "execution_count": 49,
     "metadata": {},
     "output_type": "execute_result"
    }
   ],
   "source": [
    "np.repeat(stim_segment_x_coordinates, len(stim_segment_y_coordinates)).shape"
   ]
  },
  {
   "cell_type": "code",
   "execution_count": 48,
   "id": "be3b849c",
   "metadata": {},
   "outputs": [
    {
     "data": {
      "text/plain": [
       "(15, 10)"
      ]
     },
     "execution_count": 48,
     "metadata": {},
     "output_type": "execute_result"
    }
   ],
   "source": [
    "np.tile(stim_segment_y_coordinates, (len(stim_segment_x_coordinates), 1)).shape"
   ]
  },
  {
   "cell_type": "code",
   "execution_count": 50,
   "id": "1cdd16ee",
   "metadata": {},
   "outputs": [
    {
     "data": {
      "text/plain": [
       "10"
      ]
     },
     "execution_count": 50,
     "metadata": {},
     "output_type": "execute_result"
    }
   ],
   "source": [
    "len(stim_segment_y_coordinates)"
   ]
  },
  {
   "cell_type": "code",
   "execution_count": 51,
   "id": "14752b7c",
   "metadata": {},
   "outputs": [
    {
     "data": {
      "text/plain": [
       "array([-21., -18., -15., -12.,  -9.,  -6.,  -3.,   0.,   3.,   6.,   9.,\n",
       "        12.,  15.,  18.,  21.])"
      ]
     },
     "execution_count": 51,
     "metadata": {},
     "output_type": "execute_result"
    }
   ],
   "source": [
    "stim_segment_x_coordinates"
   ]
  },
  {
   "cell_type": "code",
   "execution_count": null,
   "id": "9ca40db3",
   "metadata": {},
   "outputs": [],
   "source": []
  },
  {
   "cell_type": "code",
   "execution_count": 60,
   "id": "590fa652",
   "metadata": {},
   "outputs": [
    {
     "data": {
      "text/plain": [
       "Counter({22.5: 1241})"
      ]
     },
     "execution_count": 60,
     "metadata": {},
     "output_type": "execute_result"
    }
   ],
   "source": [
    "collections.Counter(np.array(event_value['STIM_nDimRDP_sizeX'], float).ravel())"
   ]
  },
  {
   "cell_type": "code",
   "execution_count": 61,
   "id": "94c5d3a8",
   "metadata": {},
   "outputs": [
    {
     "data": {
      "text/plain": [
       "Counter({15.0: 1241})"
      ]
     },
     "execution_count": 61,
     "metadata": {},
     "output_type": "execute_result"
    }
   ],
   "source": [
    "collections.Counter(np.array(event_value['STIM_nDimRDP_sizeY'], float).ravel())"
   ]
  },
  {
   "cell_type": "code",
   "execution_count": null,
   "id": "4fecbf07",
   "metadata": {},
   "outputs": [],
   "source": []
  },
  {
   "cell_type": "code",
   "execution_count": 59,
   "id": "eba3cae2",
   "metadata": {},
   "outputs": [
    {
     "data": {
      "text/plain": [
       "'n_dim_rdp'"
      ]
     },
     "execution_count": 59,
     "metadata": {},
     "output_type": "execute_result"
    }
   ],
   "source": [
    "np.unique(np.array(event_value['STIM_nDimRDP_type'], str).ravel()).item()"
   ]
  },
  {
   "cell_type": "code",
   "execution_count": null,
   "id": "fd85a143",
   "metadata": {},
   "outputs": [],
   "source": []
  },
  {
   "cell_type": "code",
   "execution_count": null,
   "id": "136423fc",
   "metadata": {},
   "outputs": [],
   "source": []
  }
 ],
 "metadata": {
  "kernelspec": {
   "display_name": "Python 3",
   "language": "python",
   "name": "python3"
  },
  "language_info": {
   "codemirror_mode": {
    "name": "ipython",
    "version": 3
   },
   "file_extension": ".py",
   "mimetype": "text/x-python",
   "name": "python",
   "nbconvert_exporter": "python",
   "pygments_lexer": "ipython3",
   "version": "3.8.3"
  }
 },
 "nbformat": 4,
 "nbformat_minor": 5
}
