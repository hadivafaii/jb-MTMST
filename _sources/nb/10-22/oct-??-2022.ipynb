{
 "cells": [
  {
   "cell_type": "markdown",
   "id": "a9736f88",
   "metadata": {},
   "source": [
    "# Oct ??th, 2022 ()\n",
    "\n",
    "**Motivation**:  <br>"
   ]
  },
  {
   "cell_type": "code",
   "execution_count": 1,
   "id": "5360bb70",
   "metadata": {
    "tags": [
     "hide-input"
    ]
   },
   "outputs": [],
   "source": [
    "# HIDE CODE\n",
    "\n",
    "\n",
    "import os\n",
    "import sys\n",
    "from copy import deepcopy as dc\n",
    "from os.path import join as pjoin\n",
    "from IPython.display import display, IFrame, HTML\n",
    "\n",
    "# tmp & extras dir\n",
    "git_dir = pjoin(os.environ['HOME'], 'Dropbox/git')\n",
    "extras_dir = pjoin(git_dir, 'jb-MTMST/_extras')\n",
    "fig_base_dir = pjoin(git_dir, 'jb-MTMST/figs')\n",
    "tmp_dir = pjoin(git_dir, 'jb-MTMST/tmp')\n",
    "\n",
    "# GitHub\n",
    "sys.path.insert(0, pjoin(git_dir, '_MTMST'))\n",
    "from model.vae import ConfigVAE, VAE\n",
    "from utils.plotting import *\n",
    "\n",
    "# warnings, tqdm, & style\n",
    "warnings.filterwarnings('ignore', category=DeprecationWarning)\n",
    "from tqdm.notebook import tqdm\n",
    "%matplotlib inline\n",
    "set_style()"
   ]
  },
  {
   "cell_type": "code",
   "execution_count": null,
   "id": "0682ae03",
   "metadata": {},
   "outputs": [],
   "source": []
  },
  {
   "cell_type": "code",
   "execution_count": 2,
   "id": "a71543e1",
   "metadata": {},
   "outputs": [],
   "source": [
    "from torch import nn"
   ]
  },
  {
   "cell_type": "code",
   "execution_count": null,
   "id": "2ed95583",
   "metadata": {},
   "outputs": [],
   "source": []
  },
  {
   "cell_type": "code",
   "execution_count": 3,
   "id": "da9a9f5b",
   "metadata": {},
   "outputs": [],
   "source": [
    "from model.common import Chomp"
   ]
  },
  {
   "cell_type": "code",
   "execution_count": 5,
   "id": "55376b6e",
   "metadata": {},
   "outputs": [
    {
     "data": {
      "text/plain": [
       "(2, 2, 2)"
      ]
     },
     "execution_count": 5,
     "metadata": {},
     "output_type": "execute_result"
    }
   ],
   "source": [
    "rot_kernel_size = [3] * 3\n",
    "padding = tuple(k - 1 for k in rot_kernel_size)\n",
    "padding"
   ]
  },
  {
   "cell_type": "code",
   "execution_count": 6,
   "id": "1c362aca",
   "metadata": {},
   "outputs": [],
   "source": [
    "ch = Chomp(padding, 3)"
   ]
  },
  {
   "cell_type": "code",
   "execution_count": 11,
   "id": "72a16535",
   "metadata": {},
   "outputs": [],
   "source": [
    "x = torch.randn(10, 2, 12, 15, 15)\n",
    "y = ch(x)"
   ]
  },
  {
   "cell_type": "code",
   "execution_count": 13,
   "id": "21dd5940",
   "metadata": {},
   "outputs": [
    {
     "data": {
      "text/plain": [
       "torch.Size([10, 2, 12, 15, 15])"
      ]
     },
     "execution_count": 13,
     "metadata": {},
     "output_type": "execute_result"
    }
   ],
   "source": [
    "x.shape"
   ]
  },
  {
   "cell_type": "code",
   "execution_count": 14,
   "id": "9b758798",
   "metadata": {},
   "outputs": [
    {
     "data": {
      "text/plain": [
       "torch.Size([10, 2, 10, 13, 13])"
      ]
     },
     "execution_count": 14,
     "metadata": {},
     "output_type": "execute_result"
    }
   ],
   "source": [
    "y.shape"
   ]
  },
  {
   "cell_type": "code",
   "execution_count": 15,
   "id": "d1aca5d9",
   "metadata": {},
   "outputs": [
    {
     "data": {
      "text/plain": [
       "True"
      ]
     },
     "execution_count": 15,
     "metadata": {},
     "output_type": "execute_result"
    }
   ],
   "source": [
    "x.is_contiguous()"
   ]
  },
  {
   "cell_type": "code",
   "execution_count": 16,
   "id": "e6eda03a",
   "metadata": {},
   "outputs": [
    {
     "data": {
      "text/plain": [
       "True"
      ]
     },
     "execution_count": 16,
     "metadata": {},
     "output_type": "execute_result"
    }
   ],
   "source": [
    "y.is_contiguous()"
   ]
  },
  {
   "cell_type": "code",
   "execution_count": null,
   "id": "c6e76261",
   "metadata": {},
   "outputs": [],
   "source": []
  },
  {
   "cell_type": "code",
   "execution_count": 17,
   "id": "c3a821e9",
   "metadata": {},
   "outputs": [],
   "source": [
    "_dir = '/home/hadi/Documents/MTMST/MT_LFP/pytorch_processed'"
   ]
  },
  {
   "cell_type": "code",
   "execution_count": 19,
   "id": "fc40333c",
   "metadata": {},
   "outputs": [
    {
     "data": {
      "text/plain": [
       "['stim', 'spks', 'filters', 'train_indxs', 'valid_indxs', 'cell_ids']"
      ]
     },
     "execution_count": 19,
     "metadata": {},
     "output_type": "execute_result"
    }
   ],
   "source": [
    "x = joblib.load(pjoin(_dir, 'nardin.sav'))\n",
    "list(x)"
   ]
  },
  {
   "cell_type": "code",
   "execution_count": 20,
   "id": "6e062246",
   "metadata": {},
   "outputs": [
    {
     "data": {
      "text/plain": [
       "(2, 15, 15, 14400)"
      ]
     },
     "execution_count": 20,
     "metadata": {},
     "output_type": "execute_result"
    }
   ],
   "source": [
    "x['stim'].shape"
   ]
  },
  {
   "cell_type": "code",
   "execution_count": 21,
   "id": "a50b0c2f",
   "metadata": {},
   "outputs": [
    {
     "data": {
      "text/plain": [
       "(450, 14400)"
      ]
     },
     "execution_count": 21,
     "metadata": {},
     "output_type": "execute_result"
    }
   ],
   "source": [
    "y = x['stim'].reshape(-1, x['stim'].shape[-1])\n",
    "y.shape"
   ]
  },
  {
   "cell_type": "code",
   "execution_count": 24,
   "id": "c41ca4ba",
   "metadata": {},
   "outputs": [
    {
     "data": {
      "text/plain": [
       "((450, 4800), (450, 4800), (450, 4800))"
      ]
     },
     "execution_count": 24,
     "metadata": {},
     "output_type": "execute_result"
    }
   ],
   "source": [
    "y1, y2, y3 = np.split(y, 3, -1)\n",
    "y1.shape, y2.shape, y3.shape"
   ]
  },
  {
   "cell_type": "code",
   "execution_count": 26,
   "id": "5a8aeb7a",
   "metadata": {},
   "outputs": [
    {
     "data": {
      "text/plain": [
       "73.12644958496094"
      ]
     },
     "execution_count": 26,
     "metadata": {},
     "output_type": "execute_result"
    }
   ],
   "source": [
    "sp_dist.euclidean(y1[0], y3[0])"
   ]
  },
  {
   "cell_type": "code",
   "execution_count": 28,
   "id": "ced95992",
   "metadata": {},
   "outputs": [
    {
     "data": {
      "text/plain": [
       "(15, 15, 14400)"
      ]
     },
     "execution_count": 28,
     "metadata": {},
     "output_type": "execute_result"
    }
   ],
   "source": [
    "v = np.linalg.norm(x['stim'], ord=2, axis=0)\n",
    "v.shape"
   ]
  },
  {
   "cell_type": "code",
   "execution_count": 67,
   "id": "59b2e1ba",
   "metadata": {},
   "outputs": [
    {
     "data": {
      "text/plain": [
       "<matplotlib.image.AxesImage at 0x7ff57c294220>"
      ]
     },
     "execution_count": 67,
     "metadata": {},
     "output_type": "execute_result"
    },
    {
     "data": {
      "image/png": "[encoded data removed]",
      "text/plain": [
       "<Figure size 432x288 with 1 Axes>"
      ]
     },
     "metadata": {},
     "output_type": "display_data"
    }
   ],
   "source": [
    "plt.imshow(v[..., 7210])"
   ]
  },
  {
   "cell_type": "code",
   "execution_count": 75,
   "id": "1fb1e653",
   "metadata": {},
   "outputs": [
    {
     "data": {
      "application/vnd.jupyter.widget-view+json": {
       "model_id": "f54d588b73004b2abb32efa530e328da",
       "version_major": 2,
       "version_minor": 0
      },
      "text/plain": [
       "  0%|          | 0/14400 [00:00<?, ?it/s]"
      ]
     },
     "metadata": {},
     "output_type": "display_data"
    }
   ],
   "source": [
    "i = 7210\n",
    "\n",
    "error = np_nans(x['stim'].shape[-1])\n",
    "for j in tqdm(range(len(error))):\n",
    "    e = x['stim'][..., j] - x['stim'][..., i]\n",
    "    e = np.linalg.norm(e.ravel(), ord=2).sum()\n",
    "    error[j] = e"
   ]
  },
  {
   "cell_type": "code",
   "execution_count": 76,
   "id": "fddf9bfc",
   "metadata": {},
   "outputs": [
    {
     "data": {
      "text/plain": [
       "[<matplotlib.lines.Line2D at 0x7ff57c0ed1c0>]"
      ]
     },
     "execution_count": 76,
     "metadata": {},
     "output_type": "execute_result"
    },
    {
     "data": {
      "image/png": "[encoded data removed]",
      "text/plain": [
       "<Figure size 432x288 with 1 Axes>"
      ]
     },
     "metadata": {},
     "output_type": "display_data"
    }
   ],
   "source": [
    "plt.plot(error)"
   ]
  },
  {
   "cell_type": "code",
   "execution_count": 79,
   "id": "dd3c406d",
   "metadata": {},
   "outputs": [
    {
     "data": {
      "text/plain": [
       "array([ 7210,  7211,  7209,  7212,  7208,  7207,  7213,  7206, 12893,\n",
       "       12894])"
      ]
     },
     "execution_count": 79,
     "metadata": {},
     "output_type": "execute_result"
    }
   ],
   "source": [
    "np.argsort(error)[:10]"
   ]
  },
  {
   "cell_type": "code",
   "execution_count": 89,
   "id": "1e1aa28c",
   "metadata": {},
   "outputs": [
    {
     "data": {
      "image/png": "[encoded data removed]",
      "text/plain": [
       "<Figure size 648x216 with 3 Axes>"
      ]
     },
     "metadata": {},
     "output_type": "display_data"
    }
   ],
   "source": [
    "fig, axes = create_figure(1, 3, (9, 3), constrained_layout=True)\n",
    "axes[0].imshow(v[..., 7210])\n",
    "axes[1].imshow(v[..., 7211])\n",
    "axes[2].imshow(v[..., 12894])\n",
    "remove_ticks(axes)"
   ]
  },
  {
   "cell_type": "code",
   "execution_count": null,
   "id": "e8970a0e",
   "metadata": {},
   "outputs": [],
   "source": []
  },
  {
   "cell_type": "code",
   "execution_count": 91,
   "id": "fa709380",
   "metadata": {},
   "outputs": [
    {
     "data": {
      "image/png": "[encoded data removed]",
      "text/plain": [
       "<Figure size 648x432 with 6 Axes>"
      ]
     },
     "metadata": {},
     "output_type": "display_data"
    }
   ],
   "source": [
    "fig, axes = create_figure(2, 3, (9, 6), constrained_layout=True)\n",
    "axes[0, 0].imshow(x['stim'][0, ..., 7210])\n",
    "axes[1, 0].imshow(x['stim'][1, ..., 7210])\n",
    "\n",
    "axes[0, 1].imshow(x['stim'][0, ..., 7211])\n",
    "axes[1, 1].imshow(x['stim'][1, ..., 7211])\n",
    "\n",
    "axes[0, 2].imshow(x['stim'][0, ..., 12894])\n",
    "axes[1, 2].imshow(x['stim'][1, ..., 12894])\n",
    "\n",
    "remove_ticks(axes)"
   ]
  },
  {
   "cell_type": "code",
   "execution_count": null,
   "id": "7d9bda83",
   "metadata": {},
   "outputs": [],
   "source": []
  },
  {
   "cell_type": "code",
   "execution_count": null,
   "id": "eb2578e7",
   "metadata": {},
   "outputs": [],
   "source": []
  },
  {
   "cell_type": "code",
   "execution_count": null,
   "id": "cbb1886d",
   "metadata": {},
   "outputs": [],
   "source": []
  },
  {
   "cell_type": "code",
   "execution_count": null,
   "id": "b0d1e5d8",
   "metadata": {},
   "outputs": [],
   "source": []
  },
  {
   "cell_type": "code",
   "execution_count": null,
   "id": "8b81ceae",
   "metadata": {},
   "outputs": [],
   "source": []
  },
  {
   "cell_type": "code",
   "execution_count": null,
   "id": "2ba54e6c",
   "metadata": {},
   "outputs": [],
   "source": []
  },
  {
   "cell_type": "code",
   "execution_count": null,
   "id": "5790ed37",
   "metadata": {},
   "outputs": [],
   "source": []
  },
  {
   "cell_type": "code",
   "execution_count": null,
   "id": "58c55394",
   "metadata": {},
   "outputs": [],
   "source": []
  },
  {
   "cell_type": "code",
   "execution_count": null,
   "id": "b6fd9ea5",
   "metadata": {},
   "outputs": [],
   "source": []
  },
  {
   "cell_type": "code",
   "execution_count": 3,
   "id": "3c00c6e0",
   "metadata": {},
   "outputs": [
    {
     "data": {
      "text/plain": [
       "'Linear'"
      ]
     },
     "execution_count": 3,
     "metadata": {},
     "output_type": "execute_result"
    }
   ],
   "source": [
    "m = nn.Linear(5, 20, 3)\n",
    "m.__class__.__name__"
   ]
  },
  {
   "cell_type": "code",
   "execution_count": null,
   "id": "e1456bc0",
   "metadata": {},
   "outputs": [],
   "source": []
  },
  {
   "cell_type": "code",
   "execution_count": 4,
   "id": "a7d658bc",
   "metadata": {},
   "outputs": [
    {
     "data": {
      "text/plain": [
       "'ConvTranspose3d'"
      ]
     },
     "execution_count": 4,
     "metadata": {},
     "output_type": "execute_result"
    }
   ],
   "source": [
    "m = nn.ConvTranspose3d(20, 5, 3)\n",
    "m.__class__.__name__"
   ]
  },
  {
   "cell_type": "code",
   "execution_count": 5,
   "id": "92ecca24",
   "metadata": {},
   "outputs": [
    {
     "data": {
      "text/plain": [
       "True"
      ]
     },
     "execution_count": 5,
     "metadata": {},
     "output_type": "execute_result"
    }
   ],
   "source": [
    "'Conv' in m.__class__.__name__"
   ]
  },
  {
   "cell_type": "code",
   "execution_count": null,
   "id": "978fc170",
   "metadata": {},
   "outputs": [],
   "source": []
  },
  {
   "cell_type": "code",
   "execution_count": 6,
   "id": "ceaf3ad8",
   "metadata": {
    "scrolled": true
   },
   "outputs": [
    {
     "data": {
      "text/html": [
       "<pre style=\"white-space:pre;overflow-x:auto;line-height:normal;font-family:Menlo,'DejaVu Sans Mono',consolas,'Courier New',monospace\">z-8x2_k-8x8_norm-batch-spectral\n",
       "</pre>\n"
      ],
      "text/plain": [
       "z-8x2_k-8x8_norm-batch-spectral\n"
      ]
     },
     "metadata": {},
     "output_type": "display_data"
    }
   ],
   "source": [
    "from model.configuration import ConfigVAE\n",
    "\n",
    "cfg = ConfigVAE()\n",
    "print(cfg.get_name())"
   ]
  },
  {
   "cell_type": "code",
   "execution_count": null,
   "id": "d45c6e61",
   "metadata": {},
   "outputs": [],
   "source": []
  },
  {
   "cell_type": "code",
   "execution_count": 7,
   "id": "ee18f4b2",
   "metadata": {},
   "outputs": [
    {
     "data": {
      "text/plain": [
       "'2022_10_05,18:44'"
      ]
     },
     "execution_count": 7,
     "metadata": {},
     "output_type": "execute_result"
    }
   ],
   "source": [
    "vae = VAE(cfg)\n",
    "vae.datetime"
   ]
  },
  {
   "cell_type": "code",
   "execution_count": null,
   "id": "ee929cfe",
   "metadata": {},
   "outputs": [],
   "source": []
  },
  {
   "cell_type": "code",
   "execution_count": 8,
   "id": "df407d25",
   "metadata": {},
   "outputs": [],
   "source": [
    "from model.common import save_model, load_model"
   ]
  },
  {
   "cell_type": "code",
   "execution_count": 9,
   "id": "886c160c",
   "metadata": {},
   "outputs": [],
   "source": [
    "_ = save_model(vae, 56)"
   ]
  },
  {
   "cell_type": "code",
   "execution_count": null,
   "id": "dd134d19",
   "metadata": {},
   "outputs": [],
   "source": []
  },
  {
   "cell_type": "code",
   "execution_count": 10,
   "id": "ad109560",
   "metadata": {},
   "outputs": [
    {
     "data": {
      "text/html": [
       "<pre style=\"white-space:pre;overflow-x:auto;line-height:normal;font-family:Menlo,'DejaVu Sans Mono',consolas,'Courier New',monospace\">+-------------+------------+\n",
       "| Module Name | Num Params |\n",
       "+-------------+------------+\n",
       "|     VAE     |    <span style=\"color: #008080; text-decoration-color: #008080; font-weight: bold\">512</span>     |\n",
       "|     ---     |    ---     |\n",
       "|     enc     |    <span style=\"color: #008080; text-decoration-color: #008080; font-weight: bold\">512</span>     |\n",
       "+-------------+------------+ \n",
       "\n",
       "\n",
       "</pre>\n"
      ],
      "text/plain": [
       "+-------------+------------+\n",
       "| Module Name | Num Params |\n",
       "+-------------+------------+\n",
       "|     VAE     |    \u001b[1;36m512\u001b[0m     |\n",
       "|     ---     |    ---     |\n",
       "|     enc     |    \u001b[1;36m512\u001b[0m     |\n",
       "+-------------+------------+ \n",
       "\n",
       "\n"
      ]
     },
     "metadata": {},
     "output_type": "display_data"
    }
   ],
   "source": [
    "model, meta = load_model(\n",
    "    name='z-8x2_k-8x8_norm-batch-spectral',\n",
    "    time=-1,\n",
    "    chkpt=-1,\n",
    "    strict=True,\n",
    "    verbose=True,\n",
    ")"
   ]
  },
  {
   "cell_type": "code",
   "execution_count": 11,
   "id": "c203d7bc",
   "metadata": {},
   "outputs": [
    {
     "data": {
      "text/plain": [
       "{'fname': 'VAE-0056-(2022_10_05,18:44).bin',\n",
       " 'chkpt': -1,\n",
       " 'dir': '/home/hadi/Documents/MTMST/models/z-8x2_k-8x8_norm-batch-spectral/save/2022_10_05,18:44'}"
      ]
     },
     "execution_count": 11,
     "metadata": {},
     "output_type": "execute_result"
    }
   ],
   "source": [
    "meta"
   ]
  },
  {
   "cell_type": "code",
   "execution_count": null,
   "id": "09ab5057",
   "metadata": {},
   "outputs": [],
   "source": []
  },
  {
   "cell_type": "code",
   "execution_count": 12,
   "id": "b9b6cc77",
   "metadata": {},
   "outputs": [
    {
     "data": {
      "text/plain": [
       "<torch.utils.tensorboard.writer.SummaryWriter at 0x7ff2841c9460>"
      ]
     },
     "execution_count": 12,
     "metadata": {},
     "output_type": "execute_result"
    }
   ],
   "source": [
    "from torch.utils import tensorboard\n",
    "tensorboard.SummaryWriter()"
   ]
  },
  {
   "cell_type": "code",
   "execution_count": 13,
   "id": "38d8461e",
   "metadata": {},
   "outputs": [
    {
     "data": {
      "text/plain": [
       "SELayer(\n",
       "  (avg_pool): AdaptiveAvgPool3d(output_size=1)\n",
       "  (fc): Sequential(\n",
       "    (0): Linear(in_features=64, out_features=4, bias=False)\n",
       "    (1): SiLU()\n",
       "    (2): Linear(in_features=4, out_features=64, bias=False)\n",
       "    (3): Sigmoid()\n",
       "  )\n",
       ")"
      ]
     },
     "execution_count": 13,
     "metadata": {},
     "output_type": "execute_result"
    }
   ],
   "source": [
    "vae.enc"
   ]
  },
  {
   "cell_type": "code",
   "execution_count": 20,
   "id": "788ffe52",
   "metadata": {},
   "outputs": [
    {
     "data": {
      "text/plain": [
       "device(type='cpu')"
      ]
     },
     "execution_count": 20,
     "metadata": {},
     "output_type": "execute_result"
    }
   ],
   "source": [
    "next(vae.parameters()).device"
   ]
  },
  {
   "cell_type": "code",
   "execution_count": 21,
   "id": "36c2cab2",
   "metadata": {},
   "outputs": [],
   "source": [
    "from torch import nn"
   ]
  },
  {
   "cell_type": "code",
   "execution_count": 40,
   "id": "3de509cd",
   "metadata": {},
   "outputs": [],
   "source": [
    "norm = nn.LayerNorm(5)"
   ]
  },
  {
   "cell_type": "code",
   "execution_count": 41,
   "id": "d5f4f24f",
   "metadata": {},
   "outputs": [
    {
     "data": {
      "text/plain": [
       "LayerNorm((5,), eps=1e-05, elementwise_affine=True)"
      ]
     },
     "execution_count": 41,
     "metadata": {},
     "output_type": "execute_result"
    }
   ],
   "source": [
    "norm"
   ]
  },
  {
   "cell_type": "code",
   "execution_count": 42,
   "id": "98d98d09",
   "metadata": {},
   "outputs": [
    {
     "data": {
      "text/plain": [
       "False"
      ]
     },
     "execution_count": 42,
     "metadata": {},
     "output_type": "execute_result"
    }
   ],
   "source": [
    "isinstance(norm, nn.BatchNorm3d)"
   ]
  },
  {
   "cell_type": "code",
   "execution_count": 43,
   "id": "86abf407",
   "metadata": {},
   "outputs": [
    {
     "data": {
      "text/plain": [
       "True"
      ]
     },
     "execution_count": 43,
     "metadata": {},
     "output_type": "execute_result"
    }
   ],
   "source": [
    "'Norm' in norm.__class__.__name__"
   ]
  },
  {
   "cell_type": "code",
   "execution_count": 45,
   "id": "15c04e5f",
   "metadata": {},
   "outputs": [],
   "source": [
    "m = 2\n",
    "if hasattr(m, 'bias') and m.bias is not None:\n",
    "    print(hi)"
   ]
  },
  {
   "cell_type": "code",
   "execution_count": null,
   "id": "ac8fa3eb",
   "metadata": {},
   "outputs": [],
   "source": []
  },
  {
   "cell_type": "code",
   "execution_count": null,
   "id": "6bd664df",
   "metadata": {},
   "outputs": [],
   "source": []
  },
  {
   "cell_type": "code",
   "execution_count": 25,
   "id": "8f7dc870",
   "metadata": {},
   "outputs": [
    {
     "data": {
      "text/plain": [
       "type"
      ]
     },
     "execution_count": 25,
     "metadata": {},
     "output_type": "execute_result"
    }
   ],
   "source": [
    "type(norm)"
   ]
  },
  {
   "cell_type": "code",
   "execution_count": 28,
   "id": "94d95a04",
   "metadata": {},
   "outputs": [
    {
     "data": {
      "text/plain": [
       "torch.nn.modules.batchnorm.BatchNorm3d"
      ]
     },
     "execution_count": 28,
     "metadata": {},
     "output_type": "execute_result"
    }
   ],
   "source": [
    "nn.BatchNorm3d"
   ]
  },
  {
   "cell_type": "code",
   "execution_count": 30,
   "id": "3d1b0ffb",
   "metadata": {},
   "outputs": [
    {
     "data": {
      "text/plain": [
       "\"<class 'torch.nn.modules.batchnorm.BatchNorm3d'>\""
      ]
     },
     "execution_count": 30,
     "metadata": {},
     "output_type": "execute_result"
    }
   ],
   "source": [
    "str(norm)"
   ]
  },
  {
   "cell_type": "code",
   "execution_count": 32,
   "id": "681bc1ab",
   "metadata": {},
   "outputs": [
    {
     "data": {
      "text/plain": [
       "type"
      ]
     },
     "execution_count": 32,
     "metadata": {},
     "output_type": "execute_result"
    }
   ],
   "source": [
    "norm.__class__."
   ]
  },
  {
   "cell_type": "code",
   "execution_count": null,
   "id": "98d8fb08",
   "metadata": {},
   "outputs": [],
   "source": []
  },
  {
   "cell_type": "code",
   "execution_count": 23,
   "id": "9ca40db3",
   "metadata": {},
   "outputs": [
    {
     "data": {
      "text/plain": [
       "'type'"
      ]
     },
     "execution_count": 23,
     "metadata": {},
     "output_type": "execute_result"
    }
   ],
   "source": [
    "type(norm).__name__"
   ]
  },
  {
   "cell_type": "code",
   "execution_count": null,
   "id": "3297db01",
   "metadata": {},
   "outputs": [],
   "source": []
  },
  {
   "cell_type": "code",
   "execution_count": null,
   "id": "fb4f0568",
   "metadata": {},
   "outputs": [],
   "source": []
  },
  {
   "cell_type": "code",
   "execution_count": null,
   "id": "16f5923a",
   "metadata": {},
   "outputs": [],
   "source": []
  },
  {
   "cell_type": "code",
   "execution_count": null,
   "id": "3928a25a",
   "metadata": {},
   "outputs": [],
   "source": []
  },
  {
   "cell_type": "code",
   "execution_count": 7,
   "id": "94c5d3a8",
   "metadata": {},
   "outputs": [
    {
     "data": {
      "text/html": [
       "<div style='column-count: 2;'><p>Abyssinica SIL: <span style='font-family:Abyssinica SIL; font-size: 24px;'>Abyssinica SIL  01234 </p>\n",
       "<p>Ani: <span style='font-family:Ani; font-size: 24px;'>Ani  01234 </p>\n",
       "<p>AnjaliOldLipi: <span style='font-family:AnjaliOldLipi; font-size: 24px;'>AnjaliOldLipi  01234 </p>\n",
       "<p>C059: <span style='font-family:C059; font-size: 24px;'>C059  01234 </p>\n",
       "<p>Chandas: <span style='font-family:Chandas; font-size: 24px;'>Chandas  01234 </p>\n",
       "<p>Chilanka: <span style='font-family:Chilanka; font-size: 24px;'>Chilanka  01234 </p>\n",
       "<p>D050000L: <span style='font-family:D050000L; font-size: 24px;'>D050000L  01234 </p>\n",
       "<p>DejaVu Sans: <span style='font-family:DejaVu Sans; font-size: 24px;'>DejaVu Sans  01234 </p>\n",
       "<p>DejaVu Sans Display: <span style='font-family:DejaVu Sans Display; font-size: 24px;'>DejaVu Sans Display  01234 </p>\n",
       "<p>DejaVu Sans Mono: <span style='font-family:DejaVu Sans Mono; font-size: 24px;'>DejaVu Sans Mono  01234 </p>\n",
       "<p>DejaVu Serif: <span style='font-family:DejaVu Serif; font-size: 24px;'>DejaVu Serif  01234 </p>\n",
       "<p>DejaVu Serif Display: <span style='font-family:DejaVu Serif Display; font-size: 24px;'>DejaVu Serif Display  01234 </p>\n",
       "<p>Droid Sans Fallback: <span style='font-family:Droid Sans Fallback; font-size: 24px;'>Droid Sans Fallback  01234 </p>\n",
       "<p>Dyuthi: <span style='font-family:Dyuthi; font-size: 24px;'>Dyuthi  01234 </p>\n",
       "<p>FreeMono: <span style='font-family:FreeMono; font-size: 24px;'>FreeMono  01234 </p>\n",
       "<p>FreeSans: <span style='font-family:FreeSans; font-size: 24px;'>FreeSans  01234 </p>\n",
       "<p>FreeSerif: <span style='font-family:FreeSerif; font-size: 24px;'>FreeSerif  01234 </p>\n",
       "<p>Gargi: <span style='font-family:Gargi; font-size: 24px;'>Gargi  01234 </p>\n",
       "<p>Garuda: <span style='font-family:Garuda; font-size: 24px;'>Garuda  01234 </p>\n",
       "<p>Gayathri: <span style='font-family:Gayathri; font-size: 24px;'>Gayathri  01234 </p>\n",
       "<p>Gubbi: <span style='font-family:Gubbi; font-size: 24px;'>Gubbi  01234 </p>\n",
       "<p>Jamrul: <span style='font-family:Jamrul; font-size: 24px;'>Jamrul  01234 </p>\n",
       "<p>KacstArt: <span style='font-family:KacstArt; font-size: 24px;'>KacstArt  01234 </p>\n",
       "<p>KacstBook: <span style='font-family:KacstBook; font-size: 24px;'>KacstBook  01234 </p>\n",
       "<p>KacstDecorative: <span style='font-family:KacstDecorative; font-size: 24px;'>KacstDecorative  01234 </p>\n",
       "<p>KacstDigital: <span style='font-family:KacstDigital; font-size: 24px;'>KacstDigital  01234 </p>\n",
       "<p>KacstFarsi: <span style='font-family:KacstFarsi; font-size: 24px;'>KacstFarsi  01234 </p>\n",
       "<p>KacstLetter: <span style='font-family:KacstLetter; font-size: 24px;'>KacstLetter  01234 </p>\n",
       "<p>KacstNaskh: <span style='font-family:KacstNaskh; font-size: 24px;'>KacstNaskh  01234 </p>\n",
       "<p>KacstOffice: <span style='font-family:KacstOffice; font-size: 24px;'>KacstOffice  01234 </p>\n",
       "<p>KacstOne: <span style='font-family:KacstOne; font-size: 24px;'>KacstOne  01234 </p>\n",
       "<p>KacstPen: <span style='font-family:KacstPen; font-size: 24px;'>KacstPen  01234 </p>\n",
       "<p>KacstPoster: <span style='font-family:KacstPoster; font-size: 24px;'>KacstPoster  01234 </p>\n",
       "<p>KacstQurn: <span style='font-family:KacstQurn; font-size: 24px;'>KacstQurn  01234 </p>\n",
       "<p>KacstScreen: <span style='font-family:KacstScreen; font-size: 24px;'>KacstScreen  01234 </p>\n",
       "<p>KacstTitle: <span style='font-family:KacstTitle; font-size: 24px;'>KacstTitle  01234 </p>\n",
       "<p>KacstTitleL: <span style='font-family:KacstTitleL; font-size: 24px;'>KacstTitleL  01234 </p>\n",
       "<p>Kalapi: <span style='font-family:Kalapi; font-size: 24px;'>Kalapi  01234 </p>\n",
       "<p>Kalimati: <span style='font-family:Kalimati; font-size: 24px;'>Kalimati  01234 </p>\n",
       "<p>Karumbi: <span style='font-family:Karumbi; font-size: 24px;'>Karumbi  01234 </p>\n",
       "<p>Keraleeyam: <span style='font-family:Keraleeyam; font-size: 24px;'>Keraleeyam  01234 </p>\n",
       "<p>Khmer OS: <span style='font-family:Khmer OS; font-size: 24px;'>Khmer OS  01234 </p>\n",
       "<p>Khmer OS System: <span style='font-family:Khmer OS System; font-size: 24px;'>Khmer OS System  01234 </p>\n",
       "<p>Kinnari: <span style='font-family:Kinnari; font-size: 24px;'>Kinnari  01234 </p>\n",
       "<p>LKLUG: <span style='font-family:LKLUG; font-size: 24px;'>LKLUG  01234 </p>\n",
       "<p>Laksaman: <span style='font-family:Laksaman; font-size: 24px;'>Laksaman  01234 </p>\n",
       "<p>Liberation Mono: <span style='font-family:Liberation Mono; font-size: 24px;'>Liberation Mono  01234 </p>\n",
       "<p>Liberation Sans: <span style='font-family:Liberation Sans; font-size: 24px;'>Liberation Sans  01234 </p>\n",
       "<p>Liberation Sans Narrow: <span style='font-family:Liberation Sans Narrow; font-size: 24px;'>Liberation Sans Narrow  01234 </p>\n",
       "<p>Liberation Serif: <span style='font-family:Liberation Serif; font-size: 24px;'>Liberation Serif  01234 </p>\n",
       "<p>Likhan: <span style='font-family:Likhan; font-size: 24px;'>Likhan  01234 </p>\n",
       "<p>Lohit Assamese: <span style='font-family:Lohit Assamese; font-size: 24px;'>Lohit Assamese  01234 </p>\n",
       "<p>Lohit Bengali: <span style='font-family:Lohit Bengali; font-size: 24px;'>Lohit Bengali  01234 </p>\n",
       "<p>Lohit Devanagari: <span style='font-family:Lohit Devanagari; font-size: 24px;'>Lohit Devanagari  01234 </p>\n",
       "<p>Lohit Gujarati: <span style='font-family:Lohit Gujarati; font-size: 24px;'>Lohit Gujarati  01234 </p>\n",
       "<p>Lohit Gurmukhi: <span style='font-family:Lohit Gurmukhi; font-size: 24px;'>Lohit Gurmukhi  01234 </p>\n",
       "<p>Lohit Kannada: <span style='font-family:Lohit Kannada; font-size: 24px;'>Lohit Kannada  01234 </p>\n",
       "<p>Lohit Malayalam: <span style='font-family:Lohit Malayalam; font-size: 24px;'>Lohit Malayalam  01234 </p>\n",
       "<p>Lohit Odia: <span style='font-family:Lohit Odia; font-size: 24px;'>Lohit Odia  01234 </p>\n",
       "<p>Lohit Tamil: <span style='font-family:Lohit Tamil; font-size: 24px;'>Lohit Tamil  01234 </p>\n",
       "<p>Lohit Tamil Classical: <span style='font-family:Lohit Tamil Classical; font-size: 24px;'>Lohit Tamil Classical  01234 </p>\n",
       "<p>Lohit Telugu: <span style='font-family:Lohit Telugu; font-size: 24px;'>Lohit Telugu  01234 </p>\n",
       "<p>Loma: <span style='font-family:Loma; font-size: 24px;'>Loma  01234 </p>\n",
       "<p>Manjari: <span style='font-family:Manjari; font-size: 24px;'>Manjari  01234 </p>\n",
       "<p>Meera: <span style='font-family:Meera; font-size: 24px;'>Meera  01234 </p>\n",
       "<p>Mitra Mono: <span style='font-family:Mitra Mono; font-size: 24px;'>Mitra Mono  01234 </p>\n",
       "<p>Mukti Narrow: <span style='font-family:Mukti Narrow; font-size: 24px;'>Mukti Narrow  01234 </p>\n",
       "<p>Nakula: <span style='font-family:Nakula; font-size: 24px;'>Nakula  01234 </p>\n",
       "<p>Navilu: <span style='font-family:Navilu; font-size: 24px;'>Navilu  01234 </p>\n",
       "<p>Nimbus Mono PS: <span style='font-family:Nimbus Mono PS; font-size: 24px;'>Nimbus Mono PS  01234 </p>\n",
       "<p>Nimbus Roman: <span style='font-family:Nimbus Roman; font-size: 24px;'>Nimbus Roman  01234 </p>\n",
       "<p>Nimbus Sans: <span style='font-family:Nimbus Sans; font-size: 24px;'>Nimbus Sans  01234 </p>\n",
       "<p>Nimbus Sans Narrow: <span style='font-family:Nimbus Sans Narrow; font-size: 24px;'>Nimbus Sans Narrow  01234 </p>\n",
       "<p>Norasi: <span style='font-family:Norasi; font-size: 24px;'>Norasi  01234 </p>\n",
       "<p>Noto Mono: <span style='font-family:Noto Mono; font-size: 24px;'>Noto Mono  01234 </p>\n",
       "<p>Noto Sans CJK JP: <span style='font-family:Noto Sans CJK JP; font-size: 24px;'>Noto Sans CJK JP  01234 </p>\n",
       "<p>Noto Serif CJK JP: <span style='font-family:Noto Serif CJK JP; font-size: 24px;'>Noto Serif CJK JP  01234 </p>\n",
       "<p>OpenSymbol: <span style='font-family:OpenSymbol; font-size: 24px;'>OpenSymbol  01234 </p>\n",
       "<p>P052: <span style='font-family:P052; font-size: 24px;'>P052  01234 </p>\n",
       "<p>Padauk: <span style='font-family:Padauk; font-size: 24px;'>Padauk  01234 </p>\n",
       "<p>Padauk Book: <span style='font-family:Padauk Book; font-size: 24px;'>Padauk Book  01234 </p>\n",
       "<p>Pagul: <span style='font-family:Pagul; font-size: 24px;'>Pagul  01234 </p>\n",
       "<p>Phetsarath OT: <span style='font-family:Phetsarath OT; font-size: 24px;'>Phetsarath OT  01234 </p>\n",
       "<p>Pothana2000: <span style='font-family:Pothana2000; font-size: 24px;'>Pothana2000  01234 </p>\n",
       "<p>Purisa: <span style='font-family:Purisa; font-size: 24px;'>Purisa  01234 </p>\n",
       "<p>Rachana: <span style='font-family:Rachana; font-size: 24px;'>Rachana  01234 </p>\n",
       "<p>RaghuMalayalamSans: <span style='font-family:RaghuMalayalamSans; font-size: 24px;'>RaghuMalayalamSans  01234 </p>\n",
       "<p>Rasa: <span style='font-family:Rasa; font-size: 24px;'>Rasa  01234 </p>\n",
       "<p>Rekha: <span style='font-family:Rekha; font-size: 24px;'>Rekha  01234 </p>\n",
       "<p>STIXGeneral: <span style='font-family:STIXGeneral; font-size: 24px;'>STIXGeneral  01234 </p>\n",
       "<p>STIXNonUnicode: <span style='font-family:STIXNonUnicode; font-size: 24px;'>STIXNonUnicode  01234 </p>\n",
       "<p>STIXSizeFiveSym: <span style='font-family:STIXSizeFiveSym; font-size: 24px;'>STIXSizeFiveSym  01234 </p>\n",
       "<p>STIXSizeFourSym: <span style='font-family:STIXSizeFourSym; font-size: 24px;'>STIXSizeFourSym  01234 </p>\n",
       "<p>STIXSizeOneSym: <span style='font-family:STIXSizeOneSym; font-size: 24px;'>STIXSizeOneSym  01234 </p>\n",
       "<p>STIXSizeThreeSym: <span style='font-family:STIXSizeThreeSym; font-size: 24px;'>STIXSizeThreeSym  01234 </p>\n",
       "<p>STIXSizeTwoSym: <span style='font-family:STIXSizeTwoSym; font-size: 24px;'>STIXSizeTwoSym  01234 </p>\n",
       "<p>Saab: <span style='font-family:Saab; font-size: 24px;'>Saab  01234 </p>\n",
       "<p>Sahadeva: <span style='font-family:Sahadeva; font-size: 24px;'>Sahadeva  01234 </p>\n",
       "<p>Samanata: <span style='font-family:Samanata; font-size: 24px;'>Samanata  01234 </p>\n",
       "<p>Samyak Devanagari: <span style='font-family:Samyak Devanagari; font-size: 24px;'>Samyak Devanagari  01234 </p>\n",
       "<p>Samyak Gujarati: <span style='font-family:Samyak Gujarati; font-size: 24px;'>Samyak Gujarati  01234 </p>\n",
       "<p>Samyak Malayalam: <span style='font-family:Samyak Malayalam; font-size: 24px;'>Samyak Malayalam  01234 </p>\n",
       "<p>Samyak Tamil: <span style='font-family:Samyak Tamil; font-size: 24px;'>Samyak Tamil  01234 </p>\n",
       "<p>Sarai: <span style='font-family:Sarai; font-size: 24px;'>Sarai  01234 </p>\n",
       "<p>Sawasdee: <span style='font-family:Sawasdee; font-size: 24px;'>Sawasdee  01234 </p>\n",
       "<p>Standard Symbols PS: <span style='font-family:Standard Symbols PS; font-size: 24px;'>Standard Symbols PS  01234 </p>\n",
       "<p>Suruma: <span style='font-family:Suruma; font-size: 24px;'>Suruma  01234 </p>\n",
       "<p>Tibetan Machine Uni: <span style='font-family:Tibetan Machine Uni; font-size: 24px;'>Tibetan Machine Uni  01234 </p>\n",
       "<p>Tlwg Mono: <span style='font-family:Tlwg Mono; font-size: 24px;'>Tlwg Mono  01234 </p>\n",
       "<p>Tlwg Typewriter: <span style='font-family:Tlwg Typewriter; font-size: 24px;'>Tlwg Typewriter  01234 </p>\n",
       "<p>Tlwg Typist: <span style='font-family:Tlwg Typist; font-size: 24px;'>Tlwg Typist  01234 </p>\n",
       "<p>Tlwg Typo: <span style='font-family:Tlwg Typo; font-size: 24px;'>Tlwg Typo  01234 </p>\n",
       "<p>URW Bookman: <span style='font-family:URW Bookman; font-size: 24px;'>URW Bookman  01234 </p>\n",
       "<p>URW Gothic: <span style='font-family:URW Gothic; font-size: 24px;'>URW Gothic  01234 </p>\n",
       "<p>Ubuntu: <span style='font-family:Ubuntu; font-size: 24px;'>Ubuntu  01234 </p>\n",
       "<p>Ubuntu Condensed: <span style='font-family:Ubuntu Condensed; font-size: 24px;'>Ubuntu Condensed  01234 </p>\n",
       "<p>Ubuntu Mono: <span style='font-family:Ubuntu Mono; font-size: 24px;'>Ubuntu Mono  01234 </p>\n",
       "<p>Umpush: <span style='font-family:Umpush; font-size: 24px;'>Umpush  01234 </p>\n",
       "<p>Uroob: <span style='font-family:Uroob; font-size: 24px;'>Uroob  01234 </p>\n",
       "<p>Vemana2000: <span style='font-family:Vemana2000; font-size: 24px;'>Vemana2000  01234 </p>\n",
       "<p>Waree: <span style='font-family:Waree; font-size: 24px;'>Waree  01234 </p>\n",
       "<p>Yrsa: <span style='font-family:Yrsa; font-size: 24px;'>Yrsa  01234 </p>\n",
       "<p>Z003: <span style='font-family:Z003; font-size: 24px;'>Z003  01234 </p>\n",
       "<p>aakar: <span style='font-family:aakar; font-size: 24px;'>aakar  01234 </p>\n",
       "<p>cmb10: <span style='font-family:cmb10; font-size: 24px;'>cmb10  01234 </p>\n",
       "<p>cmex10: <span style='font-family:cmex10; font-size: 24px;'>cmex10  01234 </p>\n",
       "<p>cmmi10: <span style='font-family:cmmi10; font-size: 24px;'>cmmi10  01234 </p>\n",
       "<p>cmr10: <span style='font-family:cmr10; font-size: 24px;'>cmr10  01234 </p>\n",
       "<p>cmss10: <span style='font-family:cmss10; font-size: 24px;'>cmss10  01234 </p>\n",
       "<p>cmsy10: <span style='font-family:cmsy10; font-size: 24px;'>cmsy10  01234 </p>\n",
       "<p>cmtt10: <span style='font-family:cmtt10; font-size: 24px;'>cmtt10  01234 </p>\n",
       "<p>mry_KacstQurn: <span style='font-family:mry_KacstQurn; font-size: 24px;'>mry_KacstQurn  01234 </p>\n",
       "<p>ori1Uni: <span style='font-family:ori1Uni; font-size: 24px;'>ori1Uni  01234 </p>\n",
       "<p>padmaa: <span style='font-family:padmaa; font-size: 24px;'>padmaa  01234 </p>\n",
       "<p>padmaa-Bold.1.1: <span style='font-family:padmaa-Bold.1.1; font-size: 24px;'>padmaa-Bold.1.1  01234 </p></div>"
      ],
      "text/plain": [
       "<IPython.core.display.HTML object>"
      ]
     },
     "metadata": {},
     "output_type": "display_data"
    }
   ],
   "source": [
    "display(HTML(fonts_html()))"
   ]
  },
  {
   "cell_type": "code",
   "execution_count": null,
   "id": "9aa5d977",
   "metadata": {},
   "outputs": [],
   "source": []
  }
 ],
 "metadata": {
  "kernelspec": {
   "display_name": "Python 3",
   "language": "python",
   "name": "python3"
  },
  "language_info": {
   "codemirror_mode": {
    "name": "ipython",
    "version": 3
   },
   "file_extension": ".py",
   "mimetype": "text/x-python",
   "name": "python",
   "nbconvert_exporter": "python",
   "pygments_lexer": "ipython3",
   "version": "3.8.3"
  }
 },
 "nbformat": 4,
 "nbformat_minor": 5
}
