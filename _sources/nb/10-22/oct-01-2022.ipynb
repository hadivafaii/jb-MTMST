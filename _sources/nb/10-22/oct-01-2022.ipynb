{
 "cells": [
  {
   "cell_type": "markdown",
   "id": "a9736f88",
   "metadata": {},
   "source": [
    "# Oct 1st, 2022 (Load Wild Data)\n",
    "\n",
    "**Motivation**:  <br>"
   ]
  },
  {
   "cell_type": "code",
   "execution_count": 1,
   "id": "5360bb70",
   "metadata": {
    "tags": [
     "hide-input"
    ]
   },
   "outputs": [],
   "source": [
    "# HIDE CODE\n",
    "\n",
    "\n",
    "import os\n",
    "import sys\n",
    "from pprint import pprint\n",
    "from copy import deepcopy as dc\n",
    "from os.path import join as pjoin\n",
    "from scipy.ndimage import gaussian_filter\n",
    "from IPython.display import display, IFrame, HTML\n",
    "\n",
    "# tmp & extras dir\n",
    "git_dir = pjoin(os.environ['HOME'], 'Dropbox/git')\n",
    "extras_dir = pjoin(git_dir, 'jb-MTMST/_extras')\n",
    "fig_base_dir = pjoin(git_dir, 'jb-MTMST/figs')\n",
    "tmp_dir = pjoin(git_dir, 'jb-MTMST/tmp')\n",
    "\n",
    "# GitHub\n",
    "sys.path.insert(0, pjoin(git_dir, '_MTMST'))\n",
    "\n",
    "# warnings, tqdm, & style\n",
    "import warnings\n",
    "warnings.filterwarnings('ignore', category=DeprecationWarning)\n",
    "from tqdm.notebook import tqdm\n",
    "%matplotlib inline\n",
    "# set_style()"
   ]
  },
  {
   "cell_type": "code",
   "execution_count": 4,
   "id": "c51c3d26",
   "metadata": {},
   "outputs": [],
   "source": [
    "_dir = '/home/hadi/Documents/MST/data/MSTn'\n",
    "f = pjoin(_dir, 'amm-MSTn-sun-172-01+01-task.h5')"
   ]
  },
  {
   "cell_type": "code",
   "execution_count": 6,
   "id": "de936412",
   "metadata": {},
   "outputs": [],
   "source": [
    "import h5py"
   ]
  },
  {
   "cell_type": "code",
   "execution_count": 7,
   "id": "8bf248a3",
   "metadata": {},
   "outputs": [],
   "source": [
    "f = h5py.File(f, 'r')"
   ]
  },
  {
   "cell_type": "code",
   "execution_count": 8,
   "id": "e49907c6",
   "metadata": {},
   "outputs": [
    {
     "data": {
      "text/plain": [
       "['event_time', 'event_value']"
      ]
     },
     "execution_count": 8,
     "metadata": {},
     "output_type": "execute_result"
    }
   ],
   "source": [
    "list(f)"
   ]
  },
  {
   "cell_type": "code",
   "execution_count": 11,
   "id": "fd39616b",
   "metadata": {},
   "outputs": [
    {
     "data": {
      "text/plain": [
       "['IO_buttonA',\n",
       " 'IO_fixationPoint',\n",
       " 'IO_rewardA_ms',\n",
       " 'IO_sync_16bit',\n",
       " 'SPIKE_channelUnit',\n",
       " 'STIM_background_colorB',\n",
       " 'STIM_background_colorG',\n",
       " 'STIM_background_colorR',\n",
       " 'STIM_background_onset',\n",
       " 'STIM_background_type',\n",
       " 'STIM_displayUpdate',\n",
       " 'STIM_fixationPoint_alphaMultiplier',\n",
       " 'STIM_fixationPoint_colorB',\n",
       " 'STIM_fixationPoint_colorG',\n",
       " 'STIM_fixationPoint_colorR',\n",
       " 'STIM_fixationPoint_onset',\n",
       " 'STIM_fixationPoint_posX',\n",
       " 'STIM_fixationPoint_posY',\n",
       " 'STIM_fixationPoint_rotation',\n",
       " 'STIM_fixationPoint_sizeX',\n",
       " 'STIM_fixationPoint_sizeY',\n",
       " 'STIM_fixationPoint_type',\n",
       " 'STIM_fixationPoint_width',\n",
       " 'STIM_mask_alphaMultiplier',\n",
       " 'STIM_mask_colorB',\n",
       " 'STIM_mask_colorG',\n",
       " 'STIM_mask_colorR',\n",
       " 'STIM_mask_onset',\n",
       " 'STIM_mask_posX',\n",
       " 'STIM_mask_posY',\n",
       " 'STIM_mask_rotation',\n",
       " 'STIM_mask_sizeX',\n",
       " 'STIM_mask_sizeY',\n",
       " 'STIM_mask_type',\n",
       " 'STIM_nDimRDP_RCsampleTime',\n",
       " 'STIM_nDimRDP_alphaMultiplier',\n",
       " 'STIM_nDimRDP_color',\n",
       " 'STIM_nDimRDP_dotSize',\n",
       " 'STIM_nDimRDP_maxSpeed',\n",
       " 'STIM_nDimRDP_numberOfDots',\n",
       " 'STIM_nDimRDP_onset',\n",
       " 'STIM_nDimRDP_posX',\n",
       " 'STIM_nDimRDP_posY',\n",
       " 'STIM_nDimRDP_probePosition',\n",
       " 'STIM_nDimRDP_sizeX',\n",
       " 'STIM_nDimRDP_sizeY',\n",
       " 'STIM_nDimRDP_speed',\n",
       " 'STIM_nDimRDP_type',\n",
       " 'TRIAL_end',\n",
       " 'TRIAL_outcome',\n",
       " 'TRIAL_responseEvent',\n",
       " 'TRIAL_responseTrigger',\n",
       " 'TRIAL_start',\n",
       " 'TRIAL_type']"
      ]
     },
     "execution_count": 11,
     "metadata": {},
     "output_type": "execute_result"
    }
   ],
   "source": [
    "list(f['event_value'])"
   ]
  },
  {
   "cell_type": "code",
   "execution_count": null,
   "id": "95047337",
   "metadata": {},
   "outputs": [],
   "source": []
  },
  {
   "cell_type": "code",
   "execution_count": 20,
   "id": "456e5f6e",
   "metadata": {},
   "outputs": [],
   "source": [
    "import numpy as np\n",
    "import seaborn as sns\n",
    "from matplotlib import pyplot as plt"
   ]
  },
  {
   "cell_type": "code",
   "execution_count": 21,
   "id": "7a4f87a2",
   "metadata": {},
   "outputs": [
    {
     "data": {
      "text/plain": [
       "(127136, 1)"
      ]
     },
     "execution_count": 21,
     "metadata": {},
     "output_type": "execute_result"
    }
   ],
   "source": [
    "x = np.array(f['event_value']['SPIKE_channelUnit'])\n",
    "x.shape"
   ]
  },
  {
   "cell_type": "code",
   "execution_count": 23,
   "id": "ef136530",
   "metadata": {},
   "outputs": [
    {
     "data": {
      "text/plain": [
       "<AxesSubplot:ylabel='Count'>"
      ]
     },
     "execution_count": 23,
     "metadata": {},
     "output_type": "execute_result"
    },
    {
     "data": {
      "image/png": "[encoded data removed]",
      "text/plain": [
       "<Figure size 432x288 with 1 Axes>"
      ]
     },
     "metadata": {
      "needs_background": "light"
     },
     "output_type": "display_data"
    }
   ],
   "source": [
    "sns.histplot(x.ravel())"
   ]
  },
  {
   "cell_type": "code",
   "execution_count": null,
   "id": "575008f4",
   "metadata": {},
   "outputs": [],
   "source": []
  },
  {
   "cell_type": "code",
   "execution_count": null,
   "id": "98432304",
   "metadata": {},
   "outputs": [],
   "source": []
  },
  {
   "cell_type": "code",
   "execution_count": 27,
   "id": "4681c5bd",
   "metadata": {},
   "outputs": [
    {
     "data": {
      "text/plain": [
       "((1241, 1), (1241, 1))"
      ]
     },
     "execution_count": 27,
     "metadata": {},
     "output_type": "execute_result"
    }
   ],
   "source": [
    "x = np.array(f['event_value']['STIM_nDimRDP_posX'])\n",
    "y = np.array(f['event_value']['STIM_nDimRDP_posY'])\n",
    "x.shape, y.shape"
   ]
  },
  {
   "cell_type": "code",
   "execution_count": null,
   "id": "7e6c1153",
   "metadata": {},
   "outputs": [],
   "source": []
  },
  {
   "cell_type": "code",
   "execution_count": 50,
   "id": "a31d6027",
   "metadata": {},
   "outputs": [
    {
     "data": {
      "text/plain": [
       "(31253,)"
      ]
     },
     "execution_count": 50,
     "metadata": {},
     "output_type": "execute_result"
    }
   ],
   "source": [
    "x = np.array(f['event_value']['STIM_nDimRDP_probePosition'])\n",
    "x.shape"
   ]
  },
  {
   "cell_type": "code",
   "execution_count": null,
   "id": "6489de85",
   "metadata": {},
   "outputs": [],
   "source": []
  },
  {
   "cell_type": "code",
   "execution_count": 56,
   "id": "a4915657",
   "metadata": {},
   "outputs": [
    {
     "data": {
      "text/plain": [
       "((1242, 1), (1242, 1))"
      ]
     },
     "execution_count": 56,
     "metadata": {},
     "output_type": "execute_result"
    }
   ],
   "source": [
    "start = np.array(f['event_time']['TRIAL_start'])\n",
    "end = np.array(f['event_time']['TRIAL_end'])\n",
    "start.shape, end.shape"
   ]
  },
  {
   "cell_type": "code",
   "execution_count": 58,
   "id": "2ccf0c01",
   "metadata": {},
   "outputs": [
    {
     "data": {
      "text/plain": [
       "(1242, 1)"
      ]
     },
     "execution_count": 58,
     "metadata": {},
     "output_type": "execute_result"
    }
   ],
   "source": [
    "duration = (end - start) / 1e6\n",
    "duration.shape"
   ]
  },
  {
   "cell_type": "code",
   "execution_count": 61,
   "id": "da7e9963",
   "metadata": {},
   "outputs": [
    {
     "data": {
      "text/plain": [
       "3488.899634"
      ]
     },
     "execution_count": 61,
     "metadata": {},
     "output_type": "execute_result"
    }
   ],
   "source": [
    "duration.sum()"
   ]
  },
  {
   "cell_type": "code",
   "execution_count": null,
   "id": "3f2e24f5",
   "metadata": {},
   "outputs": [],
   "source": []
  },
  {
   "cell_type": "code",
   "execution_count": null,
   "id": "5e6cd8ed",
   "metadata": {},
   "outputs": [],
   "source": []
  },
  {
   "cell_type": "code",
   "execution_count": null,
   "id": "7b3a357f",
   "metadata": {},
   "outputs": [],
   "source": []
  },
  {
   "cell_type": "code",
   "execution_count": null,
   "id": "f7a37645",
   "metadata": {},
   "outputs": [],
   "source": []
  },
  {
   "cell_type": "code",
   "execution_count": null,
   "id": "b194842d",
   "metadata": {},
   "outputs": [],
   "source": []
  },
  {
   "cell_type": "code",
   "execution_count": null,
   "id": "8d024649",
   "metadata": {},
   "outputs": [],
   "source": []
  },
  {
   "cell_type": "code",
   "execution_count": null,
   "id": "658e0a00",
   "metadata": {},
   "outputs": [],
   "source": []
  },
  {
   "cell_type": "code",
   "execution_count": 10,
   "id": "3e282380",
   "metadata": {},
   "outputs": [
    {
     "data": {
      "text/plain": [
       "['IO_buttonA',\n",
       " 'IO_fixationPoint',\n",
       " 'IO_rewardA_ms',\n",
       " 'IO_sync_16bit',\n",
       " 'SPIKE_channelUnit',\n",
       " 'STIM_background_colorB',\n",
       " 'STIM_background_colorG',\n",
       " 'STIM_background_colorR',\n",
       " 'STIM_background_onset',\n",
       " 'STIM_background_type',\n",
       " 'STIM_displayUpdate',\n",
       " 'STIM_fixationPoint_alphaMultiplier',\n",
       " 'STIM_fixationPoint_colorB',\n",
       " 'STIM_fixationPoint_colorG',\n",
       " 'STIM_fixationPoint_colorR',\n",
       " 'STIM_fixationPoint_onset',\n",
       " 'STIM_fixationPoint_posX',\n",
       " 'STIM_fixationPoint_posY',\n",
       " 'STIM_fixationPoint_rotation',\n",
       " 'STIM_fixationPoint_sizeX',\n",
       " 'STIM_fixationPoint_sizeY',\n",
       " 'STIM_fixationPoint_type',\n",
       " 'STIM_fixationPoint_width',\n",
       " 'STIM_mask_alphaMultiplier',\n",
       " 'STIM_mask_colorB',\n",
       " 'STIM_mask_colorG',\n",
       " 'STIM_mask_colorR',\n",
       " 'STIM_mask_onset',\n",
       " 'STIM_mask_posX',\n",
       " 'STIM_mask_posY',\n",
       " 'STIM_mask_rotation',\n",
       " 'STIM_mask_sizeX',\n",
       " 'STIM_mask_sizeY',\n",
       " 'STIM_mask_type',\n",
       " 'STIM_nDimRDP_RCsampleTime',\n",
       " 'STIM_nDimRDP_alphaMultiplier',\n",
       " 'STIM_nDimRDP_color',\n",
       " 'STIM_nDimRDP_dotSize',\n",
       " 'STIM_nDimRDP_maxSpeed',\n",
       " 'STIM_nDimRDP_numberOfDots',\n",
       " 'STIM_nDimRDP_onset',\n",
       " 'STIM_nDimRDP_posX',\n",
       " 'STIM_nDimRDP_posY',\n",
       " 'STIM_nDimRDP_probePosition',\n",
       " 'STIM_nDimRDP_sizeX',\n",
       " 'STIM_nDimRDP_sizeY',\n",
       " 'STIM_nDimRDP_speed',\n",
       " 'STIM_nDimRDP_type',\n",
       " 'TRIAL_end',\n",
       " 'TRIAL_outcome',\n",
       " 'TRIAL_responseEvent',\n",
       " 'TRIAL_responseTrigger',\n",
       " 'TRIAL_start',\n",
       " 'TRIAL_type']"
      ]
     },
     "execution_count": 10,
     "metadata": {},
     "output_type": "execute_result"
    }
   ],
   "source": [
    "list(f['event_time'])"
   ]
  },
  {
   "cell_type": "code",
   "execution_count": null,
   "id": "f927a2d8",
   "metadata": {},
   "outputs": [],
   "source": []
  },
  {
   "cell_type": "code",
   "execution_count": null,
   "id": "9ca40db3",
   "metadata": {},
   "outputs": [],
   "source": []
  },
  {
   "cell_type": "code",
   "execution_count": null,
   "id": "94c5d3a8",
   "metadata": {},
   "outputs": [],
   "source": []
  }
 ],
 "metadata": {
  "kernelspec": {
   "display_name": "Python 3",
   "language": "python",
   "name": "python3"
  },
  "language_info": {
   "codemirror_mode": {
    "name": "ipython",
    "version": 3
   },
   "file_extension": ".py",
   "mimetype": "text/x-python",
   "name": "python",
   "nbconvert_exporter": "python",
   "pygments_lexer": "ipython3",
   "version": "3.8.3"
  }
 },
 "nbformat": 4,
 "nbformat_minor": 5
}
