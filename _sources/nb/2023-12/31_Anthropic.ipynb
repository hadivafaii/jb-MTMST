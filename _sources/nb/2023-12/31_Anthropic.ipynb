{
 "cells": [
  {
   "cell_type": "markdown",
   "id": "81743cf7",
   "metadata": {},
   "source": [
    "# (31) Anthropic\n",
    "\n",
    "**Motivation**: Scratch Notebook. <br>"
   ]
  },
  {
   "cell_type": "code",
   "execution_count": 1,
   "id": "3755dc2d",
   "metadata": {},
   "outputs": [],
   "source": [
    "# HIDE CODE\n",
    "\n",
    "\n",
    "import os, sys\n",
    "from IPython.display import display\n",
    "\n",
    "# tmp & extras dir\n",
    "git_dir = os.path.join(os.environ['HOME'], 'Dropbox/git')\n",
    "extras_dir = os.path.join(git_dir, 'jb-MTMST/_extras')\n",
    "fig_base_dir = os.path.join(git_dir, 'jb-MTMST/figs')\n",
    "tmp_dir = os.path.join(git_dir, 'jb-MTMST/tmp')\n",
    "\n",
    "# GitHub\n",
    "sys.path.insert(0, os.path.join(git_dir, '_MTMST'))\n",
    "from vae.train_vae import TrainerVAE, ConfigTrainVAE\n",
    "from vae.vae2d import VAE, ConfigVAE\n",
    "from figures.fighelper import *\n",
    "from analysis.glm import *\n",
    "\n",
    "# warnings, tqdm, & style\n",
    "warnings.filterwarnings('ignore', category=DeprecationWarning)\n",
    "from rich.jupyter import print\n",
    "%matplotlib inline\n",
    "set_style()"
   ]
  },
  {
   "cell_type": "code",
   "execution_count": null,
   "id": "e9a84695",
   "metadata": {},
   "outputs": [],
   "source": []
  },
  {
   "cell_type": "code",
   "execution_count": 15,
   "id": "7c5cdda1",
   "metadata": {},
   "outputs": [],
   "source": [
    "a = [25, 2, 3, 57, 38, 41]\n",
    "x = ''.join([str(e) for e in a])\n",
    "cts = collections.Counter(x)\n",
    "max_val = max(cts.values())\n",
    "cts = {k: v for k, v in cts.items() if v == max_val}\n",
    "cts = sorted([int(s) for s in cts])"
   ]
  },
  {
   "cell_type": "code",
   "execution_count": 16,
   "id": "e9638a7d",
   "metadata": {},
   "outputs": [
    {
     "data": {
      "text/plain": [
       "[2, 3, 5]"
      ]
     },
     "execution_count": 16,
     "metadata": {},
     "output_type": "execute_result"
    }
   ],
   "source": [
    "cts"
   ]
  },
  {
   "cell_type": "code",
   "execution_count": 14,
   "id": "5f1e0461",
   "metadata": {},
   "outputs": [
    {
     "data": {
      "text/plain": [
       "{'2': 2, '5': 2, '3': 2}"
      ]
     },
     "execution_count": 14,
     "metadata": {},
     "output_type": "execute_result"
    }
   ],
   "source": [
    "\n",
    "    \n",
    "    # todo: compute lower bound\n",
    "    lower_bound = int(np.floor(max(a) / k))\n",
    "    if lower_bound == 0:\n",
    "        lower_bound = 1\n",
    "    \n",
    "\n",
    "    for el in range(lower_bound, max(a)):\n",
    "        _k = sum([\n",
    "            int(np.floor(e / el))\n",
    "            for e in a\n",
    "        ])\n",
    "        if _k >= k:\n",
    "            ans = el\n",
    "        else:\n",
    "            exit = True\n",
    "        if exit:\n",
    "            break"
   ]
  },
  {
   "cell_type": "code",
   "execution_count": null,
   "id": "976f8062",
   "metadata": {},
   "outputs": [],
   "source": []
  },
  {
   "cell_type": "code",
   "execution_count": 17,
   "id": "0304cf6c",
   "metadata": {},
   "outputs": [
    {
     "data": {
      "text/plain": [
       "27"
      ]
     },
     "execution_count": 17,
     "metadata": {},
     "output_type": "execute_result"
    }
   ],
   "source": [
    "sum([5, 2, 7, 4, 9])"
   ]
  },
  {
   "cell_type": "code",
   "execution_count": 18,
   "id": "486efcf0",
   "metadata": {},
   "outputs": [
    {
     "data": {
      "text/plain": [
       "5.4"
      ]
     },
     "execution_count": 18,
     "metadata": {},
     "output_type": "execute_result"
    }
   ],
   "source": [
    "27 / 5"
   ]
  },
  {
   "cell_type": "code",
   "execution_count": 19,
   "id": "2fd5418c",
   "metadata": {
    "scrolled": true
   },
   "outputs": [
    {
     "data": {
      "text/plain": [
       "array([4, 3, 2, 1, 0])"
      ]
     },
     "execution_count": 19,
     "metadata": {},
     "output_type": "execute_result"
    }
   ],
   "source": [
    "np.arange(5)[::-1]"
   ]
  },
  {
   "cell_type": "code",
   "execution_count": 21,
   "id": "11216574",
   "metadata": {},
   "outputs": [
    {
     "data": {
      "text/plain": [
       "array([2., 2., 1.])"
      ]
     },
     "execution_count": 21,
     "metadata": {},
     "output_type": "execute_result"
    }
   ],
   "source": [
    "a = np.array([5, 4, 2])\n",
    "np.floor(a / 2)"
   ]
  },
  {
   "cell_type": "code",
   "execution_count": 23,
   "id": "6b8cb9c3",
   "metadata": {},
   "outputs": [],
   "source": [
    "def solution(a, k):\n",
    "    # Initializing the bounds for binary search\n",
    "    low, high = 1, max(a)\n",
    "\n",
    "    # Binary search\n",
    "    while low <= high:\n",
    "        mid = (low + high) // 2\n",
    "        total_ribbons = sum(ribbon // mid for ribbon in a)\n",
    "\n",
    "        if total_ribbons >= k:\n",
    "            low = mid + 1\n",
    "        else:\n",
    "            high = mid - 1\n",
    "\n",
    "    return high"
   ]
  },
  {
   "cell_type": "code",
   "execution_count": 24,
   "id": "86766994",
   "metadata": {},
   "outputs": [
    {
     "data": {
      "text/html": [
       "<pre style=\"white-space:pre;overflow-x:auto;line-height:normal;font-family:Menlo,'DejaVu Sans Mono',consolas,'Courier New',monospace\"><span style=\"color: #008080; text-decoration-color: #008080; font-weight: bold\">2</span>\n",
       "</pre>\n"
      ],
      "text/plain": [
       "\u001b[1;36m2\u001b[0m\n"
      ]
     },
     "metadata": {},
     "output_type": "display_data"
    }
   ],
   "source": [
    "# Example usage\n",
    "a = [8, 2, 6, 4, 8, 9, 6, 2]\n",
    "k = 18\n",
    "print(solution(a, k))  # Output will be the maximum length L"
   ]
  },
  {
   "cell_type": "code",
   "execution_count": null,
   "id": "137e4a47",
   "metadata": {},
   "outputs": [],
   "source": []
  },
  {
   "cell_type": "code",
   "execution_count": null,
   "id": "9daaf905",
   "metadata": {},
   "outputs": [],
   "source": []
  },
  {
   "cell_type": "code",
   "execution_count": null,
   "id": "0e301791",
   "metadata": {},
   "outputs": [],
   "source": []
  }
 ],
 "metadata": {
  "kernelspec": {
   "display_name": "Python 3 (ipykernel)",
   "language": "python",
   "name": "python3"
  },
  "language_info": {
   "codemirror_mode": {
    "name": "ipython",
    "version": 3
   },
   "file_extension": ".py",
   "mimetype": "text/x-python",
   "name": "python",
   "nbconvert_exporter": "python",
   "pygments_lexer": "ipython3",
   "version": "3.8.5"
  }
 },
 "nbformat": 4,
 "nbformat_minor": 5
}
