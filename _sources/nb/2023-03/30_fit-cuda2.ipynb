{
 "cells": [
  {
   "cell_type": "markdown",
   "id": "a9736f88",
   "metadata": {},
   "source": [
    "# (30) Fit -- cuda2\n",
    "\n",
    "**Motivation**: Fitting notebook, cuda2 <br>"
   ]
  },
  {
   "cell_type": "code",
   "execution_count": 1,
   "id": "5360bb70",
   "metadata": {
    "tags": [
     "hide-input"
    ]
   },
   "outputs": [],
   "source": [
    "# HIDE CODE\n",
    "\n",
    "\n",
    "import os, sys\n",
    "from IPython.display import display\n",
    "\n",
    "# tmp & extras dir\n",
    "git_dir = os.path.join(os.environ['HOME'], 'Dropbox/git')\n",
    "extras_dir = os.path.join(git_dir, 'jb-MTMST/_extras')\n",
    "fig_base_dir = os.path.join(git_dir, 'jb-MTMST/figs')\n",
    "tmp_dir = os.path.join(git_dir, 'jb-MTMST/tmp')\n",
    "\n",
    "# GitHub\n",
    "sys.path.insert(0, os.path.join(git_dir, '_MTMST'))\n",
    "from model.train_vae import TrainerVAE, ConfigTrain\n",
    "from model.vae2d import VAE, ConfigVAE\n",
    "from analysis.opticflow import *\n",
    "from figures.fighelper import *\n",
    "\n",
    "# warnings, tqdm, & style\n",
    "warnings.filterwarnings('ignore', category=DeprecationWarning)\n",
    "from tqdm.notebook import tqdm\n",
    "from rich.jupyter import print\n",
    "%matplotlib inline\n",
    "set_style()"
   ]
  },
  {
   "cell_type": "markdown",
   "id": "f199f8a7",
   "metadata": {},
   "source": [
    "## Trainer"
   ]
  },
  {
   "cell_type": "code",
   "execution_count": 2,
   "id": "c2648828",
   "metadata": {},
   "outputs": [
    {
     "data": {
      "text/plain": [
       "210"
      ]
     },
     "execution_count": 2,
     "metadata": {},
     "output_type": "execute_result"
    }
   ],
   "source": [
    "vae = VAE(ConfigVAE(\n",
    "    n_latent_scales=2, n_groups_per_scale=20, n_latent_per_group=7,\n",
    "    scale_init=False, residual_kl=True, ada_groups=True,\n",
    "))\n",
    "tr = TrainerVAE(\n",
    "    model=vae,\n",
    "    cfg=ConfigTrain(\n",
    "        lr=0.003, batch_size=512, epochs=2000, grad_clip=1000,\n",
    "        lambda_anneal=True, lambda_init=1e-7, lambda_norm=1e-3,\n",
    "        kl_beta=0.25, kl_anneal_cycles=1, \n",
    "        scheduler_kws={'T_max': 660.0, 'eta_min': 1e-05},\n",
    "        optimizer='adamax_fast',\n",
    "    ),\n",
    "    device='cuda:2',\n",
    ")\n",
    "vae.cfg.total_latents()"
   ]
  },
  {
   "cell_type": "code",
   "execution_count": 3,
   "id": "66d63e5a",
   "metadata": {
    "scrolled": false
   },
   "outputs": [
    {
     "data": {
      "text/html": [
       "<pre style=\"white-space:pre;overflow-x:auto;line-height:normal;font-family:Menlo,'DejaVu Sans Mono',consolas,'Courier New',monospace\">+-------------+------------+\n",
       "| Module Name | Num Params |\n",
       "+-------------+------------+\n",
       "|     VAE     |  <span style=\"color: #008080; text-decoration-color: #008080; font-weight: bold\">17.0</span> Mil  |\n",
       "|     ---     |    ---     |\n",
       "|     stem    |   <span style=\"color: #008080; text-decoration-color: #008080; font-weight: bold\">1.1</span> K    |\n",
       "|     pre     |   <span style=\"color: #008080; text-decoration-color: #008080; font-weight: bold\">96.0</span> K   |\n",
       "|  enc_tower  |  <span style=\"color: #008080; text-decoration-color: #008080; font-weight: bold\">9.4</span> Mil   |\n",
       "|     enc0    |   <span style=\"color: #008080; text-decoration-color: #008080; font-weight: bold\">16.6</span> K   |\n",
       "| enc_sampler |  <span style=\"color: #008080; text-decoration-color: #008080; font-weight: bold\">1.4</span> Mil   |\n",
       "| dec_sampler |  <span style=\"color: #008080; text-decoration-color: #008080; font-weight: bold\">1.4</span> Mil   |\n",
       "|    expand   |   <span style=\"color: #008080; text-decoration-color: #008080; font-weight: bold\">71.0</span> K   |\n",
       "|  dec_tower  |  <span style=\"color: #008080; text-decoration-color: #008080; font-weight: bold\">4.5</span> Mil   |\n",
       "|     post    |   <span style=\"color: #008080; text-decoration-color: #008080; font-weight: bold\">40.0</span> K   |\n",
       "|     out     |    <span style=\"color: #008080; text-decoration-color: #008080; font-weight: bold\">578</span>     |\n",
       "+-------------+------------+ \n",
       "\n",
       "\n",
       "</pre>\n"
      ],
      "text/plain": [
       "+-------------+------------+\n",
       "| Module Name | Num Params |\n",
       "+-------------+------------+\n",
       "|     VAE     |  \u001b[1;36m17.0\u001b[0m Mil  |\n",
       "|     ---     |    ---     |\n",
       "|     stem    |   \u001b[1;36m1.1\u001b[0m K    |\n",
       "|     pre     |   \u001b[1;36m96.0\u001b[0m K   |\n",
       "|  enc_tower  |  \u001b[1;36m9.4\u001b[0m Mil   |\n",
       "|     enc0    |   \u001b[1;36m16.6\u001b[0m K   |\n",
       "| enc_sampler |  \u001b[1;36m1.4\u001b[0m Mil   |\n",
       "| dec_sampler |  \u001b[1;36m1.4\u001b[0m Mil   |\n",
       "|    expand   |   \u001b[1;36m71.0\u001b[0m K   |\n",
       "|  dec_tower  |  \u001b[1;36m4.5\u001b[0m Mil   |\n",
       "|     post    |   \u001b[1;36m40.0\u001b[0m K   |\n",
       "|     out     |    \u001b[1;36m578\u001b[0m     |\n",
       "+-------------+------------+ \n",
       "\n",
       "\n"
      ]
     },
     "metadata": {},
     "output_type": "display_data"
    },
    {
     "data": {
      "text/plain": [
       "[8, 4]"
      ]
     },
     "execution_count": 3,
     "metadata": {},
     "output_type": "execute_result"
    }
   ],
   "source": [
    "vae.print()\n",
    "vae.scales"
   ]
  },
  {
   "cell_type": "code",
   "execution_count": 4,
   "id": "2627dee3",
   "metadata": {},
   "outputs": [
    {
     "data": {
      "text/plain": [
       "(291, 228)"
      ]
     },
     "execution_count": 4,
     "metadata": {},
     "output_type": "execute_result"
    }
   ],
   "source": [
    "len(vae.all_conv_layers), len(vae.all_log_norm)"
   ]
  },
  {
   "cell_type": "code",
   "execution_count": null,
   "id": "4fabdb03",
   "metadata": {},
   "outputs": [],
   "source": []
  },
  {
   "cell_type": "code",
   "execution_count": 5,
   "id": "475b1ca7",
   "metadata": {},
   "outputs": [
    {
     "data": {
      "text/plain": [
       "{'lr': 0.003,\n",
       " 'epochs': 2000,\n",
       " 'batch_size': 512,\n",
       " 'warmup_portion': 0.02,\n",
       " 'lambda_anneal': True,\n",
       " 'lambda_init': 1e-07,\n",
       " 'lambda_norm': 0.001,\n",
       " 'kl_beta': 0.25,\n",
       " 'kl_beta_min': 0.0001,\n",
       " 'kl_balancer': 'equal',\n",
       " 'kl_anneal_cycles': 1,\n",
       " 'kl_anneal_portion': 0.3,\n",
       " 'kl_const_portion': 0.001,\n",
       " 'optimizer': 'adamax_fast',\n",
       " 'optimizer_kws': {'betas': (0.9, 0.999),\n",
       "  'weight_decay': 0.0001,\n",
       "  'eps': 1e-08},\n",
       " 'scheduler_type': 'cosine',\n",
       " 'scheduler_kws': {'T_max': 660.0, 'eta_min': 1e-05},\n",
       " 'spectral_reg': False,\n",
       " 'ema_rate': 0.999,\n",
       " 'grad_clip': 1000,\n",
       " 'chkpt_freq': 50,\n",
       " 'eval_freq': 5,\n",
       " 'log_freq': 30,\n",
       " 'use_amp': False}"
      ]
     },
     "execution_count": 5,
     "metadata": {},
     "output_type": "execute_result"
    }
   ],
   "source": [
    "vars(tr.cfg)"
   ]
  },
  {
   "cell_type": "code",
   "execution_count": null,
   "id": "d0fff848",
   "metadata": {},
   "outputs": [],
   "source": []
  },
  {
   "cell_type": "code",
   "execution_count": 6,
   "id": "4f50c1e4",
   "metadata": {},
   "outputs": [
    {
     "data": {
      "text/plain": [
       "Adamax (\n",
       "Parameter Group 0\n",
       "    betas: (0.9, 0.999)\n",
       "    eps: 1e-08\n",
       "    initial_lr: 0.003\n",
       "    lr: 0.003\n",
       "    weight_decay: 0.0001\n",
       ")"
      ]
     },
     "execution_count": 6,
     "metadata": {},
     "output_type": "execute_result"
    }
   ],
   "source": [
    "tr.optim"
   ]
  },
  {
   "cell_type": "code",
   "execution_count": null,
   "id": "791675c6",
   "metadata": {},
   "outputs": [],
   "source": []
  },
  {
   "cell_type": "markdown",
   "id": "5ae507ed",
   "metadata": {},
   "source": [
    "## Review train options"
   ]
  },
  {
   "cell_type": "code",
   "execution_count": 7,
   "id": "1424bdf2",
   "metadata": {
    "scrolled": false
   },
   "outputs": [
    {
     "data": {
      "text/html": [
       "<pre style=\"white-space:pre;overflow-x:auto;line-height:normal;font-family:Menlo,'DejaVu Sans Mono',consolas,'Courier New',monospace\">k-32_z-7x<span style=\"font-weight: bold\">[</span><span style=\"color: #008080; text-decoration-color: #008080; font-weight: bold\">10</span>,<span style=\"color: #008080; text-decoration-color: #008080; font-weight: bold\">20</span><span style=\"font-weight: bold\">]</span><span style=\"color: #800080; text-decoration-color: #800080; font-weight: bold\">_enc</span><span style=\"font-weight: bold\">(</span>2x2<span style=\"font-weight: bold\">)</span>-<span style=\"color: #800080; text-decoration-color: #800080; font-weight: bold\">dec</span><span style=\"font-weight: bold\">(</span>2x1<span style=\"font-weight: bold\">)</span>-<span style=\"color: #800080; text-decoration-color: #800080; font-weight: bold\">pre</span><span style=\"font-weight: bold\">(</span>1x3<span style=\"font-weight: bold\">)</span>-<span style=\"color: #800080; text-decoration-color: #800080; font-weight: bold\">post</span><span style=\"font-weight: bold\">(</span>1x3<span style=\"font-weight: bold\">)</span>\n",
       "ep2000-b512-<span style=\"color: #800080; text-decoration-color: #800080; font-weight: bold\">lr</span><span style=\"font-weight: bold\">(</span><span style=\"color: #008080; text-decoration-color: #008080; font-weight: bold\">0.003</span><span style=\"font-weight: bold\">)</span><span style=\"color: #800080; text-decoration-color: #800080; font-weight: bold\">_beta</span><span style=\"font-weight: bold\">(</span><span style=\"color: #008080; text-decoration-color: #008080; font-weight: bold\">0.25</span><span style=\"font-weight: bold\">)</span>-<span style=\"color: #800080; text-decoration-color: #800080; font-weight: bold\">anneal</span><span style=\"font-weight: bold\">(</span>1x0.<span style=\"color: #008080; text-decoration-color: #008080; font-weight: bold\">3</span><span style=\"font-weight: bold\">)</span><span style=\"color: #800080; text-decoration-color: #800080; font-weight: bold\">_lambda</span><span style=\"font-weight: bold\">(</span><span style=\"color: #008080; text-decoration-color: #008080; font-weight: bold\">0.001</span><span style=\"font-weight: bold\">)</span><span style=\"color: #800080; text-decoration-color: #800080; font-weight: bold\">_grad</span><span style=\"font-weight: bold\">(</span><span style=\"color: #008080; text-decoration-color: #008080; font-weight: bold\">1000</span><span style=\"font-weight: bold\">)</span>\n",
       "</pre>\n"
      ],
      "text/plain": [
       "k-32_z-7x\u001b[1m[\u001b[0m\u001b[1;36m10\u001b[0m,\u001b[1;36m20\u001b[0m\u001b[1m]\u001b[0m\u001b[1;35m_enc\u001b[0m\u001b[1m(\u001b[0m2x2\u001b[1m)\u001b[0m-\u001b[1;35mdec\u001b[0m\u001b[1m(\u001b[0m2x1\u001b[1m)\u001b[0m-\u001b[1;35mpre\u001b[0m\u001b[1m(\u001b[0m1x3\u001b[1m)\u001b[0m-\u001b[1;35mpost\u001b[0m\u001b[1m(\u001b[0m1x3\u001b[1m)\u001b[0m\n",
       "ep2000-b512-\u001b[1;35mlr\u001b[0m\u001b[1m(\u001b[0m\u001b[1;36m0.003\u001b[0m\u001b[1m)\u001b[0m\u001b[1;35m_beta\u001b[0m\u001b[1m(\u001b[0m\u001b[1;36m0.25\u001b[0m\u001b[1m)\u001b[0m-\u001b[1;35manneal\u001b[0m\u001b[1m(\u001b[0m1x0.\u001b[1;36m3\u001b[0m\u001b[1m)\u001b[0m\u001b[1;35m_lambda\u001b[0m\u001b[1m(\u001b[0m\u001b[1;36m0.001\u001b[0m\u001b[1m)\u001b[0m\u001b[1;35m_grad\u001b[0m\u001b[1m(\u001b[0m\u001b[1;36m1000\u001b[0m\u001b[1m)\u001b[0m\n"
      ]
     },
     "metadata": {},
     "output_type": "display_data"
    }
   ],
   "source": [
    "print(f\"{vae.cfg.name()}\\n{tr.cfg.name()}\")"
   ]
  },
  {
   "cell_type": "markdown",
   "id": "0b1bde66",
   "metadata": {},
   "source": [
    "## Train"
   ]
  },
  {
   "cell_type": "code",
   "execution_count": null,
   "id": "823e8839",
   "metadata": {
    "scrolled": true
   },
   "outputs": [
    {
     "name": "stderr",
     "output_type": "stream",
     "text": [
      "epoch # 1390, avg loss: 15.067790:  70%|██████▉   | 1390/2000 [22:28:01<9:18:11, 54.90s/it]   "
     ]
    }
   ],
   "source": [
    "comment = f\"ClipVal:500_AdamaxFast(eps:1e-8)_{tr.cfg.name()}\"\n",
    "tr.train(comment=comment)"
   ]
  },
  {
   "cell_type": "code",
   "execution_count": null,
   "id": "bbc93ecb",
   "metadata": {},
   "outputs": [],
   "source": []
  },
  {
   "cell_type": "markdown",
   "id": "2197100d",
   "metadata": {},
   "source": [
    "### Also: was non smooth L1"
   ]
  },
  {
   "cell_type": "code",
   "execution_count": null,
   "id": "4cfd44e8",
   "metadata": {},
   "outputs": [],
   "source": []
  },
  {
   "cell_type": "code",
   "execution_count": null,
   "id": "e6833db2",
   "metadata": {},
   "outputs": [],
   "source": []
  },
  {
   "cell_type": "code",
   "execution_count": null,
   "id": "2f08d545",
   "metadata": {},
   "outputs": [],
   "source": []
  }
 ],
 "metadata": {
  "kernelspec": {
   "display_name": "Python 3",
   "language": "python",
   "name": "python3"
  },
  "language_info": {
   "codemirror_mode": {
    "name": "ipython",
    "version": 3
   },
   "file_extension": ".py",
   "mimetype": "text/x-python",
   "name": "python",
   "nbconvert_exporter": "python",
   "pygments_lexer": "ipython3",
   "version": "3.8.3"
  }
 },
 "nbformat": 4,
 "nbformat_minor": 5
}
