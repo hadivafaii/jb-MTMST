{
 "cells": [
  {
   "cell_type": "markdown",
   "id": "6c0cb91c",
   "metadata": {},
   "source": [
    "# (24) Untangle -- Raw data\n",
    "\n",
    "**Motivation**: <br>"
   ]
  },
  {
   "cell_type": "code",
   "execution_count": 1,
   "id": "b12d2b0a",
   "metadata": {},
   "outputs": [],
   "source": [
    "# HIDE CODE\n",
    "\n",
    "\n",
    "import os, sys\n",
    "from IPython.display import display\n",
    "\n",
    "# tmp & extras dir\n",
    "git_dir = os.path.join(os.environ['HOME'], 'Dropbox/git')\n",
    "extras_dir = os.path.join(git_dir, 'jb-MTMST/_extras')\n",
    "fig_base_dir = os.path.join(git_dir, 'jb-MTMST/figs')\n",
    "tmp_dir = os.path.join(git_dir, 'jb-MTMST/tmp')\n",
    "\n",
    "# Code path\n",
    "sys.path.insert(0, '/home/hadi/Documents/MTMST/code')\n",
    "from vae.train_vae import TrainerVAE, ConfigTrainVAE\n",
    "from vae.vae2d import VAE, ConfigVAE\n",
    "from figures.fighelper import *\n",
    "from analysis.glm import *\n",
    "\n",
    "\n",
    "# warnings, tqdm, & style\n",
    "warnings.filterwarnings('ignore', category=DeprecationWarning)\n",
    "from rich.jupyter import print\n",
    "%matplotlib inline\n",
    "set_style()"
   ]
  },
  {
   "cell_type": "markdown",
   "id": "089bb6cb",
   "metadata": {},
   "source": [
    "## Load ROFL / g"
   ]
  },
  {
   "cell_type": "code",
   "execution_count": 2,
   "id": "60747629",
   "metadata": {},
   "outputs": [],
   "source": [
    "category = 'fixate1'\n",
    "\n",
    "sim_path = pjoin(\n",
    "    os.environ['HOME'],\n",
    "    'Documents/MTMST/data',\n",
    "    f\"{category}_dim-17_n-750k\",\n",
    ")\n",
    "ds = {\n",
    "    k: ROFLDS(sim_path, k)\n",
    "    for k in ['vld', 'tst']\n",
    "}\n",
    "g, select_lbl = prep_rofl(category)"
   ]
  },
  {
   "cell_type": "markdown",
   "id": "5e4efd52",
   "metadata": {},
   "source": [
    "## Fit to raw data"
   ]
  },
  {
   "cell_type": "code",
   "execution_count": 3,
   "id": "8a0413f7",
   "metadata": {},
   "outputs": [],
   "source": [
    "lr = sk_linear.LinearRegression().fit(\n",
    "    flatten_stim(ds['vld'].x), g['vld'])\n",
    "r2_scores = sk_metric.r2_score(\n",
    "    y_true=g['tst'],\n",
    "    y_pred=lr.predict(flatten_stim(ds['tst'].x)),\n",
    "    multioutput='raw_values',\n",
    ")\n",
    "r2_scores = {\n",
    "    lbl: x for lbl, x in\n",
    "    zip(select_lbl, r2_scores)\n",
    "}"
   ]
  },
  {
   "cell_type": "code",
   "execution_count": 4,
   "id": "bf288dfa",
   "metadata": {},
   "outputs": [
    {
     "data": {
      "text/html": [
       "<pre style=\"white-space:pre;overflow-x:auto;line-height:normal;font-family:Menlo,'DejaVu Sans Mono',consolas,'Courier New',monospace\"><span style=\"font-weight: bold\">{</span>\n",
       "    <span style=\"color: #008000; text-decoration-color: #008000\">'fix_x'</span>: <span style=\"color: #008080; text-decoration-color: #008080; font-weight: bold\">-0.008625149327132764</span>,\n",
       "    <span style=\"color: #008000; text-decoration-color: #008000\">'fix_y'</span>: <span style=\"color: #008080; text-decoration-color: #008080; font-weight: bold\">-0.008116382933272437</span>,\n",
       "    <span style=\"color: #008000; text-decoration-color: #008000\">'slf_v_x'</span>: <span style=\"color: #008080; text-decoration-color: #008080; font-weight: bold\">0.5599118300502732</span>,\n",
       "    <span style=\"color: #008000; text-decoration-color: #008000\">'slf_v_y'</span>: <span style=\"color: #008080; text-decoration-color: #008080; font-weight: bold\">0.5649848209371218</span>,\n",
       "    <span style=\"color: #008000; text-decoration-color: #008000\">'slf_v_z'</span>: <span style=\"color: #008080; text-decoration-color: #008080; font-weight: bold\">0.5197317385205819</span>,\n",
       "    <span style=\"color: #008000; text-decoration-color: #008000\">'obj0_x'</span>: <span style=\"color: #008080; text-decoration-color: #008080; font-weight: bold\">-0.0036310660777214565</span>,\n",
       "    <span style=\"color: #008000; text-decoration-color: #008000\">'obj0_y'</span>: <span style=\"color: #008080; text-decoration-color: #008080; font-weight: bold\">-0.0036199790636441964</span>,\n",
       "    <span style=\"color: #008000; text-decoration-color: #008000\">'obj0_z'</span>: <span style=\"color: #008080; text-decoration-color: #008080; font-weight: bold\">-0.009402511654204027</span>,\n",
       "    <span style=\"color: #008000; text-decoration-color: #008000\">'obj0_v_x'</span>: <span style=\"color: #008080; text-decoration-color: #008080; font-weight: bold\">0.46821294190541096</span>,\n",
       "    <span style=\"color: #008000; text-decoration-color: #008000\">'obj0_v_y'</span>: <span style=\"color: #008080; text-decoration-color: #008080; font-weight: bold\">0.4709874249314957</span>,\n",
       "    <span style=\"color: #008000; text-decoration-color: #008000\">'obj0_v_z'</span>: <span style=\"color: #008080; text-decoration-color: #008080; font-weight: bold\">0.030050620264630123</span>\n",
       "<span style=\"font-weight: bold\">}</span>\n",
       "</pre>\n"
      ],
      "text/plain": [
       "\u001b[1m{\u001b[0m\n",
       "    \u001b[32m'fix_x'\u001b[0m: \u001b[1;36m-0.008625149327132764\u001b[0m,\n",
       "    \u001b[32m'fix_y'\u001b[0m: \u001b[1;36m-0.008116382933272437\u001b[0m,\n",
       "    \u001b[32m'slf_v_x'\u001b[0m: \u001b[1;36m0.5599118300502732\u001b[0m,\n",
       "    \u001b[32m'slf_v_y'\u001b[0m: \u001b[1;36m0.5649848209371218\u001b[0m,\n",
       "    \u001b[32m'slf_v_z'\u001b[0m: \u001b[1;36m0.5197317385205819\u001b[0m,\n",
       "    \u001b[32m'obj0_x'\u001b[0m: \u001b[1;36m-0.0036310660777214565\u001b[0m,\n",
       "    \u001b[32m'obj0_y'\u001b[0m: \u001b[1;36m-0.0036199790636441964\u001b[0m,\n",
       "    \u001b[32m'obj0_z'\u001b[0m: \u001b[1;36m-0.009402511654204027\u001b[0m,\n",
       "    \u001b[32m'obj0_v_x'\u001b[0m: \u001b[1;36m0.46821294190541096\u001b[0m,\n",
       "    \u001b[32m'obj0_v_y'\u001b[0m: \u001b[1;36m0.4709874249314957\u001b[0m,\n",
       "    \u001b[32m'obj0_v_z'\u001b[0m: \u001b[1;36m0.030050620264630123\u001b[0m\n",
       "\u001b[1m}\u001b[0m\n"
      ]
     },
     "metadata": {},
     "output_type": "display_data"
    }
   ],
   "source": [
    "print(r2_scores)"
   ]
  },
  {
   "cell_type": "code",
   "execution_count": null,
   "id": "04b72105",
   "metadata": {},
   "outputs": [],
   "source": []
  },
  {
   "cell_type": "code",
   "execution_count": 5,
   "id": "705181b8",
   "metadata": {},
   "outputs": [
    {
     "data": {
      "text/html": [
       "<pre style=\"white-space:pre;overflow-x:auto;line-height:normal;font-family:Menlo,'DejaVu Sans Mono',consolas,'Courier New',monospace\"><span style=\"font-weight: bold\">[</span>PROGRESS<span style=\"font-weight: bold\">]</span> <span style=\"color: #008000; text-decoration-color: #008000\">'r2_raw.npy'</span> saved at\n",
       "<span style=\"color: #800080; text-decoration-color: #800080\">/home/hadi/Dropbox/git/jb-MTMST/tmp/</span><span style=\"color: #ff00ff; text-decoration-color: #ff00ff\">fig4_untangle_material</span>\n",
       "</pre>\n"
      ],
      "text/plain": [
       "\u001b[1m[\u001b[0mPROGRESS\u001b[1m]\u001b[0m \u001b[32m'r2_raw.npy'\u001b[0m saved at\n",
       "\u001b[35m/home/hadi/Dropbox/git/jb-MTMST/tmp/\u001b[0m\u001b[95mfig4_untangle_material\u001b[0m\n"
      ]
     },
     "metadata": {},
     "output_type": "display_data"
    }
   ],
   "source": [
    "save_obj(\n",
    "    obj=r2_scores,\n",
    "    file_name='r2_raw',\n",
    "    save_dir=pjoin(tmp_dir, 'fig4_untangle_material'),\n",
    "    mode='npy',\n",
    ");"
   ]
  },
  {
   "cell_type": "code",
   "execution_count": null,
   "id": "5281bd39",
   "metadata": {},
   "outputs": [],
   "source": []
  },
  {
   "cell_type": "code",
   "execution_count": null,
   "id": "82d66130",
   "metadata": {},
   "outputs": [],
   "source": []
  },
  {
   "cell_type": "code",
   "execution_count": null,
   "id": "891d9289",
   "metadata": {},
   "outputs": [],
   "source": []
  },
  {
   "cell_type": "code",
   "execution_count": null,
   "id": "6485ea66",
   "metadata": {},
   "outputs": [],
   "source": []
  }
 ],
 "metadata": {
  "kernelspec": {
   "display_name": "Python 3 (ipykernel)",
   "language": "python",
   "name": "python3"
  },
  "language_info": {
   "codemirror_mode": {
    "name": "ipython",
    "version": 3
   },
   "file_extension": ".py",
   "mimetype": "text/x-python",
   "name": "python",
   "nbconvert_exporter": "python",
   "pygments_lexer": "ipython3",
   "version": "3.8.5"
  }
 },
 "nbformat": 4,
 "nbformat_minor": 5
}
