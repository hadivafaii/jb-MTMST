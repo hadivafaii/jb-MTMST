{
 "cells": [
  {
   "cell_type": "markdown",
   "id": "6c0cb91c",
   "metadata": {},
   "source": [
    "# (24) Untangle -- NVAE\n",
    "\n",
    "**Motivation**: <br>"
   ]
  },
  {
   "cell_type": "code",
   "execution_count": 1,
   "id": "b12d2b0a",
   "metadata": {},
   "outputs": [],
   "source": [
    "# HIDE CODE\n",
    "\n",
    "\n",
    "import os, sys\n",
    "from IPython.display import display\n",
    "\n",
    "# tmp & extras dir\n",
    "git_dir = os.path.join(os.environ['HOME'], 'Dropbox/git')\n",
    "extras_dir = os.path.join(git_dir, 'jb-MTMST/_extras')\n",
    "fig_base_dir = os.path.join(git_dir, 'jb-MTMST/figs')\n",
    "tmp_dir = os.path.join(git_dir, 'jb-MTMST/tmp')\n",
    "\n",
    "# Code path\n",
    "sys.path.insert(0, '/home/hadi/Documents/MTMST/code')\n",
    "from vae.train_vae import TrainerVAE, ConfigTrainVAE\n",
    "from vae.vae2d import VAE, ConfigVAE\n",
    "from figures.fighelper import *\n",
    "from analysis.glm import *\n",
    "\n",
    "\n",
    "# warnings, tqdm, & style\n",
    "warnings.filterwarnings('ignore', category=DeprecationWarning)\n",
    "from rich.jupyter import print\n",
    "%matplotlib inline\n",
    "set_style()"
   ]
  },
  {
   "cell_type": "markdown",
   "id": "e5ea60e9",
   "metadata": {},
   "source": [
    "## Check the cNVAE vs. NVAE vs. cNAE numbers"
   ]
  },
  {
   "cell_type": "code",
   "execution_count": 2,
   "id": "60747629",
   "metadata": {},
   "outputs": [
    {
     "data": {
      "text/html": [
       "<pre style=\"white-space:pre;overflow-x:auto;line-height:normal;font-family:Menlo,'DejaVu Sans Mono',consolas,'Courier New',monospace\"><span style=\"font-weight: bold\">{</span><span style=\"color: #008000; text-decoration-color: #008000\">'trn'</span>: <span style=\"font-weight: bold\">(</span><span style=\"color: #008080; text-decoration-color: #008080; font-weight: bold\">600000</span>, <span style=\"color: #008080; text-decoration-color: #008080; font-weight: bold\">11</span><span style=\"font-weight: bold\">)</span>, <span style=\"color: #008000; text-decoration-color: #008000\">'vld'</span>: <span style=\"font-weight: bold\">(</span><span style=\"color: #008080; text-decoration-color: #008080; font-weight: bold\">75000</span>, <span style=\"color: #008080; text-decoration-color: #008080; font-weight: bold\">11</span><span style=\"font-weight: bold\">)</span>, <span style=\"color: #008000; text-decoration-color: #008000\">'tst'</span>: <span style=\"font-weight: bold\">(</span><span style=\"color: #008080; text-decoration-color: #008080; font-weight: bold\">75000</span>, <span style=\"color: #008080; text-decoration-color: #008080; font-weight: bold\">11</span><span style=\"font-weight: bold\">)}</span>\n",
       "<span style=\"color: #00ff00; text-decoration-color: #00ff00; font-style: italic\">True</span>\n",
       "</pre>\n"
      ],
      "text/plain": [
       "\u001b[1m{\u001b[0m\u001b[32m'trn'\u001b[0m: \u001b[1m(\u001b[0m\u001b[1;36m600000\u001b[0m, \u001b[1;36m11\u001b[0m\u001b[1m)\u001b[0m, \u001b[32m'vld'\u001b[0m: \u001b[1m(\u001b[0m\u001b[1;36m75000\u001b[0m, \u001b[1;36m11\u001b[0m\u001b[1m)\u001b[0m, \u001b[32m'tst'\u001b[0m: \u001b[1m(\u001b[0m\u001b[1;36m75000\u001b[0m, \u001b[1;36m11\u001b[0m\u001b[1m)\u001b[0m\u001b[1m}\u001b[0m\n",
       "\u001b[3;92mTrue\u001b[0m\n"
      ]
     },
     "metadata": {},
     "output_type": "display_data"
    }
   ],
   "source": [
    "g, select_lbl = prep_rofl('fixate1')\n",
    "print(\n",
    "    {k: v.shape for k, v in g.items()},\n",
    "    select_lbl == list(LBL2TEX),\n",
    ")"
   ]
  },
  {
   "cell_type": "code",
   "execution_count": null,
   "id": "382ae60b",
   "metadata": {},
   "outputs": [],
   "source": []
  },
  {
   "cell_type": "code",
   "execution_count": 3,
   "id": "6bbdeaf2",
   "metadata": {},
   "outputs": [
    {
     "name": "stdout",
     "output_type": "stream",
     "text": [
      "CPU times: user 1min 35s, sys: 4.86 s, total: 1min 40s\n",
      "Wall time: 14.9 s\n"
     ]
    }
   ],
   "source": [
    "%%time\n",
    "\n",
    "models = {\n",
    "    'cNVAE': 'fixate1_nf-420_beta-0.15_(2023_04_27,20:20)',\n",
    "    'VAE': 'vanilla_fixate1_nf-420_beta-0.15_(2023_05_02,15:15)',\n",
    "    'NVAE': (\n",
    "        'fixate1_k-32_z-1x[2,3,6]_enc(3x3)-dec(2x2)-pre(1x3)-post(1x3)_noncmprs',\n",
    "        'NVAE_ep160-b600-lr(0.002)_beta(0.15:0x0.5)_lamb(0.0001)_gr(250.0)_(2023_08_07,10:30)'),\n",
    "    'cNAE': 'fixate1_nf-420_beta-ae_(2023_05_12,07:31)',\n",
    "}\n",
    "\n",
    "trainers = {}\n",
    "for mod_name, f in models.items():\n",
    "    if isinstance(f, str):\n",
    "        trainers[mod_name] = load_model_lite(\n",
    "            path=pjoin(results_dir(f), 'Trainer'),\n",
    "            device='cuda',\n",
    "            strict=False,\n",
    "        )[0]\n",
    "    elif isinstance(f, tuple):\n",
    "        trainers[mod_name] = load_model(*f, device='cuda')[0]"
   ]
  },
  {
   "cell_type": "code",
   "execution_count": null,
   "id": "bf288dfa",
   "metadata": {},
   "outputs": [],
   "source": []
  },
  {
   "cell_type": "code",
   "execution_count": 4,
   "id": "8c082932",
   "metadata": {},
   "outputs": [
    {
     "name": "stdout",
     "output_type": "stream",
     "text": [
      "CPU times: user 2min 26s, sys: 14.2 s, total: 2min 40s\n",
      "Wall time: 2min 24s\n"
     ]
    }
   ],
   "source": [
    "%%time\n",
    "\n",
    "r2_scores = {}\n",
    "for mod_name, tr in trainers.items():\n",
    "    z = {\n",
    "        k: tr.forward(k, True)[0]['z']\n",
    "        for k in ['vld', 'tst']\n",
    "    }\n",
    "    lr = sk_linear.LinearRegression().fit(\n",
    "        z['vld'], g['vld'])\n",
    "    r2_scores[mod_name] = sk_metric.r2_score(\n",
    "        y_true=g['tst'],\n",
    "        y_pred=lr.predict(z['tst']),\n",
    "        multioutput='raw_values',\n",
    "    )\n",
    "r2_scores = {\n",
    "    k: {lbl: r2 for lbl, r2 in zip(select_lbl, v)}\n",
    "    for k, v in r2_scores.items()\n",
    "}"
   ]
  },
  {
   "cell_type": "code",
   "execution_count": null,
   "id": "010867f2",
   "metadata": {},
   "outputs": [],
   "source": []
  },
  {
   "cell_type": "code",
   "execution_count": 5,
   "id": "705181b8",
   "metadata": {},
   "outputs": [
    {
     "data": {
      "text/html": [
       "<pre style=\"white-space:pre;overflow-x:auto;line-height:normal;font-family:Menlo,'DejaVu Sans Mono',consolas,'Courier New',monospace\"><span style=\"font-weight: bold\">[</span>PROGRESS<span style=\"font-weight: bold\">]</span> <span style=\"color: #008000; text-decoration-color: #008000\">'r2_all_mods.npy'</span> saved at\n",
       "<span style=\"color: #800080; text-decoration-color: #800080\">/home/hadi/Dropbox/git/jb-MTMST/tmp/</span><span style=\"color: #ff00ff; text-decoration-color: #ff00ff\">fig4_untangle_material</span>\n",
       "</pre>\n"
      ],
      "text/plain": [
       "\u001b[1m[\u001b[0mPROGRESS\u001b[1m]\u001b[0m \u001b[32m'r2_all_mods.npy'\u001b[0m saved at\n",
       "\u001b[35m/home/hadi/Dropbox/git/jb-MTMST/tmp/\u001b[0m\u001b[95mfig4_untangle_material\u001b[0m\n"
      ]
     },
     "metadata": {},
     "output_type": "display_data"
    }
   ],
   "source": [
    "save_obj(\n",
    "    obj=r2_scores,\n",
    "    file_name='r2_all_mods',\n",
    "    save_dir=pjoin(tmp_dir, 'fig4_untangle_material'),\n",
    "    mode='npy',\n",
    ");"
   ]
  },
  {
   "cell_type": "code",
   "execution_count": null,
   "id": "5281bd39",
   "metadata": {},
   "outputs": [],
   "source": []
  },
  {
   "cell_type": "code",
   "execution_count": 6,
   "id": "a775420e",
   "metadata": {},
   "outputs": [
    {
     "data": {
      "text/html": [
       "<pre style=\"white-space:pre;overflow-x:auto;line-height:normal;font-family:Menlo,'DejaVu Sans Mono',consolas,'Courier New',monospace\"><span style=\"font-weight: bold\">{</span>\n",
       "    <span style=\"color: #008000; text-decoration-color: #008000\">'cNVAE'</span>: <span style=\"font-weight: bold\">{</span>\n",
       "        <span style=\"color: #008000; text-decoration-color: #008000\">'fix_x'</span>: <span style=\"color: #008080; text-decoration-color: #008080; font-weight: bold\">0.989778426557353</span>,\n",
       "        <span style=\"color: #008000; text-decoration-color: #008000\">'fix_y'</span>: <span style=\"color: #008080; text-decoration-color: #008080; font-weight: bold\">0.990775163666926</span>,\n",
       "        <span style=\"color: #008000; text-decoration-color: #008000\">'slf_v_x'</span>: <span style=\"color: #008080; text-decoration-color: #008080; font-weight: bold\">0.9895214195166717</span>,\n",
       "        <span style=\"color: #008000; text-decoration-color: #008000\">'slf_v_y'</span>: <span style=\"color: #008080; text-decoration-color: #008080; font-weight: bold\">0.9610539165865616</span>,\n",
       "        <span style=\"color: #008000; text-decoration-color: #008000\">'slf_v_z'</span>: <span style=\"color: #008080; text-decoration-color: #008080; font-weight: bold\">0.9962583282214843</span>,\n",
       "        <span style=\"color: #008000; text-decoration-color: #008000\">'obj0_x'</span>: <span style=\"color: #008080; text-decoration-color: #008080; font-weight: bold\">0.9343984605542495</span>,\n",
       "        <span style=\"color: #008000; text-decoration-color: #008000\">'obj0_y'</span>: <span style=\"color: #008080; text-decoration-color: #008080; font-weight: bold\">0.929628455006863</span>,\n",
       "        <span style=\"color: #008000; text-decoration-color: #008000\">'obj0_z'</span>: <span style=\"color: #008080; text-decoration-color: #008080; font-weight: bold\">0.8473433315953052</span>,\n",
       "        <span style=\"color: #008000; text-decoration-color: #008000\">'obj0_v_x'</span>: <span style=\"color: #008080; text-decoration-color: #008080; font-weight: bold\">0.737199927674727</span>,\n",
       "        <span style=\"color: #008000; text-decoration-color: #008000\">'obj0_v_y'</span>: <span style=\"color: #008080; text-decoration-color: #008080; font-weight: bold\">0.8176653499003526</span>,\n",
       "        <span style=\"color: #008000; text-decoration-color: #008000\">'obj0_v_z'</span>: <span style=\"color: #008080; text-decoration-color: #008080; font-weight: bold\">0.6830093457988539</span>\n",
       "    <span style=\"font-weight: bold\">}</span>,\n",
       "    <span style=\"color: #008000; text-decoration-color: #008000\">'VAE'</span>: <span style=\"font-weight: bold\">{</span>\n",
       "        <span style=\"color: #008000; text-decoration-color: #008000\">'fix_x'</span>: <span style=\"color: #008080; text-decoration-color: #008080; font-weight: bold\">0.20637256571693186</span>,\n",
       "        <span style=\"color: #008000; text-decoration-color: #008000\">'fix_y'</span>: <span style=\"color: #008080; text-decoration-color: #008080; font-weight: bold\">0.18895140317184367</span>,\n",
       "        <span style=\"color: #008000; text-decoration-color: #008000\">'slf_v_x'</span>: <span style=\"color: #008080; text-decoration-color: #008080; font-weight: bold\">0.6259139764458328</span>,\n",
       "        <span style=\"color: #008000; text-decoration-color: #008000\">'slf_v_y'</span>: <span style=\"color: #008080; text-decoration-color: #008080; font-weight: bold\">0.6183938690800832</span>,\n",
       "        <span style=\"color: #008000; text-decoration-color: #008000\">'slf_v_z'</span>: <span style=\"color: #008080; text-decoration-color: #008080; font-weight: bold\">0.5834971295128955</span>,\n",
       "        <span style=\"color: #008000; text-decoration-color: #008000\">'obj0_x'</span>: <span style=\"color: #008080; text-decoration-color: #008080; font-weight: bold\">0.32073395317165654</span>,\n",
       "        <span style=\"color: #008000; text-decoration-color: #008000\">'obj0_y'</span>: <span style=\"color: #008080; text-decoration-color: #008080; font-weight: bold\">0.35212297217336264</span>,\n",
       "        <span style=\"color: #008000; text-decoration-color: #008000\">'obj0_z'</span>: <span style=\"color: #008080; text-decoration-color: #008080; font-weight: bold\">0.2765233619778489</span>,\n",
       "        <span style=\"color: #008000; text-decoration-color: #008000\">'obj0_v_x'</span>: <span style=\"color: #008080; text-decoration-color: #008080; font-weight: bold\">0.5003645125939268</span>,\n",
       "        <span style=\"color: #008000; text-decoration-color: #008000\">'obj0_v_y'</span>: <span style=\"color: #008080; text-decoration-color: #008080; font-weight: bold\">0.5187708676579394</span>,\n",
       "        <span style=\"color: #008000; text-decoration-color: #008000\">'obj0_v_z'</span>: <span style=\"color: #008080; text-decoration-color: #008080; font-weight: bold\">0.2689222358810168</span>\n",
       "    <span style=\"font-weight: bold\">}</span>,\n",
       "    <span style=\"color: #008000; text-decoration-color: #008000\">'NVAE'</span>: <span style=\"font-weight: bold\">{</span>\n",
       "        <span style=\"color: #008000; text-decoration-color: #008000\">'fix_x'</span>: <span style=\"color: #008080; text-decoration-color: #008080; font-weight: bold\">0.636662556885099</span>,\n",
       "        <span style=\"color: #008000; text-decoration-color: #008000\">'fix_y'</span>: <span style=\"color: #008080; text-decoration-color: #008080; font-weight: bold\">0.5971482831628009</span>,\n",
       "        <span style=\"color: #008000; text-decoration-color: #008000\">'slf_v_x'</span>: <span style=\"color: #008080; text-decoration-color: #008080; font-weight: bold\">0.8675620837960916</span>,\n",
       "        <span style=\"color: #008000; text-decoration-color: #008000\">'slf_v_y'</span>: <span style=\"color: #008080; text-decoration-color: #008080; font-weight: bold\">0.8079092140865782</span>,\n",
       "        <span style=\"color: #008000; text-decoration-color: #008000\">'slf_v_z'</span>: <span style=\"color: #008080; text-decoration-color: #008080; font-weight: bold\">0.6412729352290666</span>,\n",
       "        <span style=\"color: #008000; text-decoration-color: #008000\">'obj0_x'</span>: <span style=\"color: #008080; text-decoration-color: #008080; font-weight: bold\">0.6839303343900112</span>,\n",
       "        <span style=\"color: #008000; text-decoration-color: #008000\">'obj0_y'</span>: <span style=\"color: #008080; text-decoration-color: #008080; font-weight: bold\">0.6657844308685004</span>,\n",
       "        <span style=\"color: #008000; text-decoration-color: #008000\">'obj0_z'</span>: <span style=\"color: #008080; text-decoration-color: #008080; font-weight: bold\">0.6413977398909395</span>,\n",
       "        <span style=\"color: #008000; text-decoration-color: #008000\">'obj0_v_x'</span>: <span style=\"color: #008080; text-decoration-color: #008080; font-weight: bold\">0.6492920275010565</span>,\n",
       "        <span style=\"color: #008000; text-decoration-color: #008000\">'obj0_v_y'</span>: <span style=\"color: #008080; text-decoration-color: #008080; font-weight: bold\">0.5819717532779551</span>,\n",
       "        <span style=\"color: #008000; text-decoration-color: #008000\">'obj0_v_z'</span>: <span style=\"color: #008080; text-decoration-color: #008080; font-weight: bold\">0.26028077419338735</span>\n",
       "    <span style=\"font-weight: bold\">}</span>,\n",
       "    <span style=\"color: #008000; text-decoration-color: #008000\">'cNAE'</span>: <span style=\"font-weight: bold\">{</span>\n",
       "        <span style=\"color: #008000; text-decoration-color: #008000\">'fix_x'</span>: <span style=\"color: #008080; text-decoration-color: #008080; font-weight: bold\">0.36072774267759544</span>,\n",
       "        <span style=\"color: #008000; text-decoration-color: #008000\">'fix_y'</span>: <span style=\"color: #008080; text-decoration-color: #008080; font-weight: bold\">0.23203312369741658</span>,\n",
       "        <span style=\"color: #008000; text-decoration-color: #008000\">'slf_v_x'</span>: <span style=\"color: #008080; text-decoration-color: #008080; font-weight: bold\">0.5940207294555816</span>,\n",
       "        <span style=\"color: #008000; text-decoration-color: #008000\">'slf_v_y'</span>: <span style=\"color: #008080; text-decoration-color: #008080; font-weight: bold\">0.6003593309910022</span>,\n",
       "        <span style=\"color: #008000; text-decoration-color: #008000\">'slf_v_z'</span>: <span style=\"color: #008080; text-decoration-color: #008080; font-weight: bold\">0.5491924204503753</span>,\n",
       "        <span style=\"color: #008000; text-decoration-color: #008000\">'obj0_x'</span>: <span style=\"color: #008080; text-decoration-color: #008080; font-weight: bold\">0.5916098170831072</span>,\n",
       "        <span style=\"color: #008000; text-decoration-color: #008000\">'obj0_y'</span>: <span style=\"color: #008080; text-decoration-color: #008080; font-weight: bold\">0.5427856924714345</span>,\n",
       "        <span style=\"color: #008000; text-decoration-color: #008000\">'obj0_z'</span>: <span style=\"color: #008080; text-decoration-color: #008080; font-weight: bold\">0.31510474769558217</span>,\n",
       "        <span style=\"color: #008000; text-decoration-color: #008000\">'obj0_v_x'</span>: <span style=\"color: #008080; text-decoration-color: #008080; font-weight: bold\">0.5197330873541037</span>,\n",
       "        <span style=\"color: #008000; text-decoration-color: #008000\">'obj0_v_y'</span>: <span style=\"color: #008080; text-decoration-color: #008080; font-weight: bold\">0.5545703485229416</span>,\n",
       "        <span style=\"color: #008000; text-decoration-color: #008000\">'obj0_v_z'</span>: <span style=\"color: #008080; text-decoration-color: #008080; font-weight: bold\">0.12927646781065505</span>\n",
       "    <span style=\"font-weight: bold\">}</span>\n",
       "<span style=\"font-weight: bold\">}</span>\n",
       "</pre>\n"
      ],
      "text/plain": [
       "\u001b[1m{\u001b[0m\n",
       "    \u001b[32m'cNVAE'\u001b[0m: \u001b[1m{\u001b[0m\n",
       "        \u001b[32m'fix_x'\u001b[0m: \u001b[1;36m0.989778426557353\u001b[0m,\n",
       "        \u001b[32m'fix_y'\u001b[0m: \u001b[1;36m0.990775163666926\u001b[0m,\n",
       "        \u001b[32m'slf_v_x'\u001b[0m: \u001b[1;36m0.9895214195166717\u001b[0m,\n",
       "        \u001b[32m'slf_v_y'\u001b[0m: \u001b[1;36m0.9610539165865616\u001b[0m,\n",
       "        \u001b[32m'slf_v_z'\u001b[0m: \u001b[1;36m0.9962583282214843\u001b[0m,\n",
       "        \u001b[32m'obj0_x'\u001b[0m: \u001b[1;36m0.9343984605542495\u001b[0m,\n",
       "        \u001b[32m'obj0_y'\u001b[0m: \u001b[1;36m0.929628455006863\u001b[0m,\n",
       "        \u001b[32m'obj0_z'\u001b[0m: \u001b[1;36m0.8473433315953052\u001b[0m,\n",
       "        \u001b[32m'obj0_v_x'\u001b[0m: \u001b[1;36m0.737199927674727\u001b[0m,\n",
       "        \u001b[32m'obj0_v_y'\u001b[0m: \u001b[1;36m0.8176653499003526\u001b[0m,\n",
       "        \u001b[32m'obj0_v_z'\u001b[0m: \u001b[1;36m0.6830093457988539\u001b[0m\n",
       "    \u001b[1m}\u001b[0m,\n",
       "    \u001b[32m'VAE'\u001b[0m: \u001b[1m{\u001b[0m\n",
       "        \u001b[32m'fix_x'\u001b[0m: \u001b[1;36m0.20637256571693186\u001b[0m,\n",
       "        \u001b[32m'fix_y'\u001b[0m: \u001b[1;36m0.18895140317184367\u001b[0m,\n",
       "        \u001b[32m'slf_v_x'\u001b[0m: \u001b[1;36m0.6259139764458328\u001b[0m,\n",
       "        \u001b[32m'slf_v_y'\u001b[0m: \u001b[1;36m0.6183938690800832\u001b[0m,\n",
       "        \u001b[32m'slf_v_z'\u001b[0m: \u001b[1;36m0.5834971295128955\u001b[0m,\n",
       "        \u001b[32m'obj0_x'\u001b[0m: \u001b[1;36m0.32073395317165654\u001b[0m,\n",
       "        \u001b[32m'obj0_y'\u001b[0m: \u001b[1;36m0.35212297217336264\u001b[0m,\n",
       "        \u001b[32m'obj0_z'\u001b[0m: \u001b[1;36m0.2765233619778489\u001b[0m,\n",
       "        \u001b[32m'obj0_v_x'\u001b[0m: \u001b[1;36m0.5003645125939268\u001b[0m,\n",
       "        \u001b[32m'obj0_v_y'\u001b[0m: \u001b[1;36m0.5187708676579394\u001b[0m,\n",
       "        \u001b[32m'obj0_v_z'\u001b[0m: \u001b[1;36m0.2689222358810168\u001b[0m\n",
       "    \u001b[1m}\u001b[0m,\n",
       "    \u001b[32m'NVAE'\u001b[0m: \u001b[1m{\u001b[0m\n",
       "        \u001b[32m'fix_x'\u001b[0m: \u001b[1;36m0.636662556885099\u001b[0m,\n",
       "        \u001b[32m'fix_y'\u001b[0m: \u001b[1;36m0.5971482831628009\u001b[0m,\n",
       "        \u001b[32m'slf_v_x'\u001b[0m: \u001b[1;36m0.8675620837960916\u001b[0m,\n",
       "        \u001b[32m'slf_v_y'\u001b[0m: \u001b[1;36m0.8079092140865782\u001b[0m,\n",
       "        \u001b[32m'slf_v_z'\u001b[0m: \u001b[1;36m0.6412729352290666\u001b[0m,\n",
       "        \u001b[32m'obj0_x'\u001b[0m: \u001b[1;36m0.6839303343900112\u001b[0m,\n",
       "        \u001b[32m'obj0_y'\u001b[0m: \u001b[1;36m0.6657844308685004\u001b[0m,\n",
       "        \u001b[32m'obj0_z'\u001b[0m: \u001b[1;36m0.6413977398909395\u001b[0m,\n",
       "        \u001b[32m'obj0_v_x'\u001b[0m: \u001b[1;36m0.6492920275010565\u001b[0m,\n",
       "        \u001b[32m'obj0_v_y'\u001b[0m: \u001b[1;36m0.5819717532779551\u001b[0m,\n",
       "        \u001b[32m'obj0_v_z'\u001b[0m: \u001b[1;36m0.26028077419338735\u001b[0m\n",
       "    \u001b[1m}\u001b[0m,\n",
       "    \u001b[32m'cNAE'\u001b[0m: \u001b[1m{\u001b[0m\n",
       "        \u001b[32m'fix_x'\u001b[0m: \u001b[1;36m0.36072774267759544\u001b[0m,\n",
       "        \u001b[32m'fix_y'\u001b[0m: \u001b[1;36m0.23203312369741658\u001b[0m,\n",
       "        \u001b[32m'slf_v_x'\u001b[0m: \u001b[1;36m0.5940207294555816\u001b[0m,\n",
       "        \u001b[32m'slf_v_y'\u001b[0m: \u001b[1;36m0.6003593309910022\u001b[0m,\n",
       "        \u001b[32m'slf_v_z'\u001b[0m: \u001b[1;36m0.5491924204503753\u001b[0m,\n",
       "        \u001b[32m'obj0_x'\u001b[0m: \u001b[1;36m0.5916098170831072\u001b[0m,\n",
       "        \u001b[32m'obj0_y'\u001b[0m: \u001b[1;36m0.5427856924714345\u001b[0m,\n",
       "        \u001b[32m'obj0_z'\u001b[0m: \u001b[1;36m0.31510474769558217\u001b[0m,\n",
       "        \u001b[32m'obj0_v_x'\u001b[0m: \u001b[1;36m0.5197330873541037\u001b[0m,\n",
       "        \u001b[32m'obj0_v_y'\u001b[0m: \u001b[1;36m0.5545703485229416\u001b[0m,\n",
       "        \u001b[32m'obj0_v_z'\u001b[0m: \u001b[1;36m0.12927646781065505\u001b[0m\n",
       "    \u001b[1m}\u001b[0m\n",
       "\u001b[1m}\u001b[0m\n"
      ]
     },
     "metadata": {},
     "output_type": "display_data"
    }
   ],
   "source": [
    "print(r2_scores)"
   ]
  },
  {
   "cell_type": "code",
   "execution_count": null,
   "id": "aa9ae887",
   "metadata": {},
   "outputs": [],
   "source": []
  },
  {
   "cell_type": "code",
   "execution_count": 7,
   "id": "48504dc8",
   "metadata": {},
   "outputs": [
    {
     "data": {
      "text/html": [
       "<pre style=\"white-space:pre;overflow-x:auto;line-height:normal;font-family:Menlo,'DejaVu Sans Mono',consolas,'Courier New',monospace\"><span style=\"font-weight: bold\">{</span>\n",
       "    <span style=\"color: #008000; text-decoration-color: #008000\">'cNVAE'</span>: <span style=\"color: #008080; text-decoration-color: #008080; font-weight: bold\">0.8978756477344862</span>,\n",
       "    <span style=\"color: #008000; text-decoration-color: #008000\">'VAE'</span>: <span style=\"color: #008080; text-decoration-color: #008080; font-weight: bold\">0.40550607703484887</span>,\n",
       "    <span style=\"color: #008000; text-decoration-color: #008000\">'NVAE'</span>: <span style=\"color: #008080; text-decoration-color: #008080; font-weight: bold\">0.6393829212074078</span>,\n",
       "    <span style=\"color: #008000; text-decoration-color: #008000\">'cNAE'</span>: <span style=\"color: #008080; text-decoration-color: #008080; font-weight: bold\">0.45358304620089046</span>\n",
       "<span style=\"font-weight: bold\">}</span>\n",
       "</pre>\n"
      ],
      "text/plain": [
       "\u001b[1m{\u001b[0m\n",
       "    \u001b[32m'cNVAE'\u001b[0m: \u001b[1;36m0.8978756477344862\u001b[0m,\n",
       "    \u001b[32m'VAE'\u001b[0m: \u001b[1;36m0.40550607703484887\u001b[0m,\n",
       "    \u001b[32m'NVAE'\u001b[0m: \u001b[1;36m0.6393829212074078\u001b[0m,\n",
       "    \u001b[32m'cNAE'\u001b[0m: \u001b[1;36m0.45358304620089046\u001b[0m\n",
       "\u001b[1m}\u001b[0m\n"
      ]
     },
     "metadata": {},
     "output_type": "display_data"
    }
   ],
   "source": [
    "print({k: np.mean(list(v.values())) for k, v in r2_scores.items()})"
   ]
  },
  {
   "cell_type": "code",
   "execution_count": null,
   "id": "e8f72bf3",
   "metadata": {},
   "outputs": [],
   "source": []
  },
  {
   "cell_type": "code",
   "execution_count": 8,
   "id": "2d9c1d2f",
   "metadata": {},
   "outputs": [
    {
     "data": {
      "text/plain": [
       "'fixate1_k-32_z-1x[2,3,6]_enc(3x3)-dec(2x2)-pre(1x3)-post(1x3)_noncmprs'"
      ]
     },
     "execution_count": 8,
     "metadata": {},
     "output_type": "execute_result"
    }
   ],
   "source": [
    "trainers['NVAE'].model.cfg.name()"
   ]
  },
  {
   "cell_type": "code",
   "execution_count": null,
   "id": "3d565b1e",
   "metadata": {},
   "outputs": [],
   "source": []
  },
  {
   "cell_type": "code",
   "execution_count": null,
   "id": "ad035fd7",
   "metadata": {},
   "outputs": [],
   "source": []
  },
  {
   "cell_type": "markdown",
   "id": "a5189833",
   "metadata": {},
   "source": [
    "## Check the cNVAE (beta = 0.8) vs. VAE (beta = 5.0) thing"
   ]
  },
  {
   "cell_type": "code",
   "execution_count": 2,
   "id": "28576a96",
   "metadata": {},
   "outputs": [],
   "source": [
    "path = pjoin(tmp_dir, 'results_combined')\n",
    "\n",
    "fits = []\n",
    "with open(pjoin(path, 'fits.txt'), 'r') as f:\n",
    "    for line in f:\n",
    "        if '# computer name' in line:\n",
    "            continue\n",
    "        fits.append(line.split('\\n')[0])"
   ]
  },
  {
   "cell_type": "code",
   "execution_count": 3,
   "id": "18c984d4",
   "metadata": {},
   "outputs": [],
   "source": [
    "skip_fits = [\n",
    "    'fixate1_nf-420_beta-0.8_(2023_05_07,04:15)',\n",
    "]\n",
    "fits = sorted([\n",
    "    f for f in fits\n",
    "    if 'fixate1' in f\n",
    "    and f not in skip_fits\n",
    "])"
   ]
  },
  {
   "cell_type": "code",
   "execution_count": null,
   "id": "4593fd6a",
   "metadata": {},
   "outputs": [],
   "source": []
  },
  {
   "cell_type": "code",
   "execution_count": 4,
   "id": "5acc38d4",
   "metadata": {},
   "outputs": [],
   "source": [
    "df = []\n",
    "perf = {}\n",
    "for fit_name in fits:\n",
    "    if 'reservoir' in fit_name:\n",
    "        continue\n",
    "    _df = f\"summary_{fit_name}.df\"\n",
    "    _df = pjoin(tmp_dir, 'results_combined', _df)\n",
    "    _df = pd.read_pickle(_df)\n",
    "    assert len(_df) == 141\n",
    "    k = _df['category'].unique().item()\n",
    "    if 'vanilla' in fit_name:\n",
    "        k = f\"vanilla-{k}\"\n",
    "        _df['category'] = k\n",
    "    perf[k] = _df.perf.values\n",
    "    df.append(_df)\n",
    "df = pd.concat(df)"
   ]
  },
  {
   "cell_type": "code",
   "execution_count": 5,
   "id": "aa78d0f8",
   "metadata": {},
   "outputs": [
    {
     "data": {
      "text/html": [
       "<div>\n",
       "<style scoped>\n",
       "    .dataframe tbody tr th:only-of-type {\n",
       "        vertical-align: middle;\n",
       "    }\n",
       "\n",
       "    .dataframe tbody tr th {\n",
       "        vertical-align: top;\n",
       "    }\n",
       "\n",
       "    .dataframe thead th {\n",
       "        text-align: right;\n",
       "    }\n",
       "</style>\n",
       "<table border=\"1\" class=\"dataframe\">\n",
       "  <thead>\n",
       "    <tr style=\"text-align: right;\">\n",
       "      <th></th>\n",
       "      <th></th>\n",
       "      <th>nf</th>\n",
       "      <th>cell</th>\n",
       "      <th>perf</th>\n",
       "      <th>max_perf</th>\n",
       "      <th>log_alpha</th>\n",
       "      <th>best_lag</th>\n",
       "    </tr>\n",
       "    <tr>\n",
       "      <th>category</th>\n",
       "      <th>beta</th>\n",
       "      <th></th>\n",
       "      <th></th>\n",
       "      <th></th>\n",
       "      <th></th>\n",
       "      <th></th>\n",
       "      <th></th>\n",
       "    </tr>\n",
       "  </thead>\n",
       "  <tbody>\n",
       "    <tr>\n",
       "      <th rowspan=\"18\" valign=\"top\">fixate1</th>\n",
       "      <th>0.01</th>\n",
       "      <td>420.0</td>\n",
       "      <td>5.439716</td>\n",
       "      <td>0.474176</td>\n",
       "      <td>0.850839</td>\n",
       "      <td>1.297872</td>\n",
       "      <td>4.070922</td>\n",
       "    </tr>\n",
       "    <tr>\n",
       "      <th>0.1</th>\n",
       "      <td>420.0</td>\n",
       "      <td>5.439716</td>\n",
       "      <td>0.453431</td>\n",
       "      <td>0.850839</td>\n",
       "      <td>2.226950</td>\n",
       "      <td>4.418440</td>\n",
       "    </tr>\n",
       "    <tr>\n",
       "      <th>0.15</th>\n",
       "      <td>420.0</td>\n",
       "      <td>5.439716</td>\n",
       "      <td>0.484689</td>\n",
       "      <td>0.850839</td>\n",
       "      <td>2.326241</td>\n",
       "      <td>4.304965</td>\n",
       "    </tr>\n",
       "    <tr>\n",
       "      <th>0.2</th>\n",
       "      <td>420.0</td>\n",
       "      <td>5.439716</td>\n",
       "      <td>0.482407</td>\n",
       "      <td>0.850839</td>\n",
       "      <td>2.106383</td>\n",
       "      <td>4.290780</td>\n",
       "    </tr>\n",
       "    <tr>\n",
       "      <th>0.3</th>\n",
       "      <td>420.0</td>\n",
       "      <td>5.439716</td>\n",
       "      <td>0.497061</td>\n",
       "      <td>0.850839</td>\n",
       "      <td>1.156028</td>\n",
       "      <td>4.156028</td>\n",
       "    </tr>\n",
       "    <tr>\n",
       "      <th>0.4</th>\n",
       "      <td>420.0</td>\n",
       "      <td>5.439716</td>\n",
       "      <td>0.492740</td>\n",
       "      <td>0.850839</td>\n",
       "      <td>1.517730</td>\n",
       "      <td>4.482270</td>\n",
       "    </tr>\n",
       "    <tr>\n",
       "      <th>0.5</th>\n",
       "      <td>420.0</td>\n",
       "      <td>5.439716</td>\n",
       "      <td>0.506407</td>\n",
       "      <td>0.850839</td>\n",
       "      <td>1.609929</td>\n",
       "      <td>4.163121</td>\n",
       "    </tr>\n",
       "    <tr>\n",
       "      <th>0.6</th>\n",
       "      <td>420.0</td>\n",
       "      <td>5.439716</td>\n",
       "      <td>0.502729</td>\n",
       "      <td>0.850839</td>\n",
       "      <td>0.283688</td>\n",
       "      <td>4.177305</td>\n",
       "    </tr>\n",
       "    <tr>\n",
       "      <th>0.7</th>\n",
       "      <td>420.0</td>\n",
       "      <td>5.439716</td>\n",
       "      <td>0.479763</td>\n",
       "      <td>0.850839</td>\n",
       "      <td>0.702128</td>\n",
       "      <td>4.312057</td>\n",
       "    </tr>\n",
       "    <tr>\n",
       "      <th>0.8</th>\n",
       "      <td>420.0</td>\n",
       "      <td>5.439716</td>\n",
       "      <td>0.517225</td>\n",
       "      <td>0.850839</td>\n",
       "      <td>-3.595745</td>\n",
       "      <td>4.134752</td>\n",
       "    </tr>\n",
       "    <tr>\n",
       "      <th>0.9</th>\n",
       "      <td>420.0</td>\n",
       "      <td>5.439716</td>\n",
       "      <td>0.505225</td>\n",
       "      <td>0.850839</td>\n",
       "      <td>-5.567376</td>\n",
       "      <td>4.312057</td>\n",
       "    </tr>\n",
       "    <tr>\n",
       "      <th>1.0</th>\n",
       "      <td>420.0</td>\n",
       "      <td>5.439716</td>\n",
       "      <td>0.494226</td>\n",
       "      <td>0.850839</td>\n",
       "      <td>-2.453901</td>\n",
       "      <td>4.531915</td>\n",
       "    </tr>\n",
       "    <tr>\n",
       "      <th>1.5</th>\n",
       "      <td>420.0</td>\n",
       "      <td>5.439716</td>\n",
       "      <td>0.498746</td>\n",
       "      <td>0.850839</td>\n",
       "      <td>-6.000000</td>\n",
       "      <td>4.631206</td>\n",
       "    </tr>\n",
       "    <tr>\n",
       "      <th>2.0</th>\n",
       "      <td>420.0</td>\n",
       "      <td>5.439716</td>\n",
       "      <td>0.487510</td>\n",
       "      <td>0.850839</td>\n",
       "      <td>-4.702128</td>\n",
       "      <td>4.695035</td>\n",
       "    </tr>\n",
       "    <tr>\n",
       "      <th>5.0</th>\n",
       "      <td>420.0</td>\n",
       "      <td>5.439716</td>\n",
       "      <td>0.486167</td>\n",
       "      <td>0.850839</td>\n",
       "      <td>-4.744681</td>\n",
       "      <td>4.326241</td>\n",
       "    </tr>\n",
       "    <tr>\n",
       "      <th>10.0</th>\n",
       "      <td>420.0</td>\n",
       "      <td>5.439716</td>\n",
       "      <td>0.473805</td>\n",
       "      <td>0.850839</td>\n",
       "      <td>-4.063830</td>\n",
       "      <td>5.099291</td>\n",
       "    </tr>\n",
       "    <tr>\n",
       "      <th>20.0</th>\n",
       "      <td>420.0</td>\n",
       "      <td>5.439716</td>\n",
       "      <td>0.272697</td>\n",
       "      <td>0.850839</td>\n",
       "      <td>-1.113475</td>\n",
       "      <td>5.652482</td>\n",
       "    </tr>\n",
       "    <tr>\n",
       "      <th>ae</th>\n",
       "      <td>420.0</td>\n",
       "      <td>5.439716</td>\n",
       "      <td>0.476137</td>\n",
       "      <td>0.850839</td>\n",
       "      <td>3.120567</td>\n",
       "      <td>4.219858</td>\n",
       "    </tr>\n",
       "    <tr>\n",
       "      <th rowspan=\"17\" valign=\"top\">vanilla-fixate1</th>\n",
       "      <th>0.01</th>\n",
       "      <td>420.0</td>\n",
       "      <td>5.439716</td>\n",
       "      <td>0.503502</td>\n",
       "      <td>0.850839</td>\n",
       "      <td>-0.106383</td>\n",
       "      <td>4.028369</td>\n",
       "    </tr>\n",
       "    <tr>\n",
       "      <th>0.1</th>\n",
       "      <td>420.0</td>\n",
       "      <td>5.439716</td>\n",
       "      <td>0.503309</td>\n",
       "      <td>0.850839</td>\n",
       "      <td>-1.865248</td>\n",
       "      <td>3.851064</td>\n",
       "    </tr>\n",
       "    <tr>\n",
       "      <th>0.15</th>\n",
       "      <td>420.0</td>\n",
       "      <td>5.439716</td>\n",
       "      <td>0.500548</td>\n",
       "      <td>0.850839</td>\n",
       "      <td>-2.716312</td>\n",
       "      <td>4.290780</td>\n",
       "    </tr>\n",
       "    <tr>\n",
       "      <th>0.2</th>\n",
       "      <td>420.0</td>\n",
       "      <td>5.439716</td>\n",
       "      <td>0.495714</td>\n",
       "      <td>0.850839</td>\n",
       "      <td>-1.326241</td>\n",
       "      <td>4.326241</td>\n",
       "    </tr>\n",
       "    <tr>\n",
       "      <th>0.3</th>\n",
       "      <td>420.0</td>\n",
       "      <td>5.439716</td>\n",
       "      <td>0.498316</td>\n",
       "      <td>0.850839</td>\n",
       "      <td>-2.780142</td>\n",
       "      <td>4.049645</td>\n",
       "    </tr>\n",
       "    <tr>\n",
       "      <th>0.4</th>\n",
       "      <td>420.0</td>\n",
       "      <td>5.439716</td>\n",
       "      <td>0.507059</td>\n",
       "      <td>0.850839</td>\n",
       "      <td>-2.539007</td>\n",
       "      <td>4.184397</td>\n",
       "    </tr>\n",
       "    <tr>\n",
       "      <th>0.5</th>\n",
       "      <td>420.0</td>\n",
       "      <td>5.439716</td>\n",
       "      <td>0.507706</td>\n",
       "      <td>0.850839</td>\n",
       "      <td>-2.921986</td>\n",
       "      <td>4.212766</td>\n",
       "    </tr>\n",
       "    <tr>\n",
       "      <th>0.6</th>\n",
       "      <td>420.0</td>\n",
       "      <td>5.439716</td>\n",
       "      <td>0.471452</td>\n",
       "      <td>0.850839</td>\n",
       "      <td>-4.985816</td>\n",
       "      <td>3.964539</td>\n",
       "    </tr>\n",
       "    <tr>\n",
       "      <th>0.7</th>\n",
       "      <td>420.0</td>\n",
       "      <td>5.439716</td>\n",
       "      <td>0.462053</td>\n",
       "      <td>0.850839</td>\n",
       "      <td>-3.957447</td>\n",
       "      <td>4.234043</td>\n",
       "    </tr>\n",
       "    <tr>\n",
       "      <th>0.8</th>\n",
       "      <td>420.0</td>\n",
       "      <td>5.439716</td>\n",
       "      <td>0.480787</td>\n",
       "      <td>0.850839</td>\n",
       "      <td>-4.546099</td>\n",
       "      <td>4.191489</td>\n",
       "    </tr>\n",
       "    <tr>\n",
       "      <th>0.9</th>\n",
       "      <td>420.0</td>\n",
       "      <td>5.439716</td>\n",
       "      <td>0.478758</td>\n",
       "      <td>0.850839</td>\n",
       "      <td>-4.879433</td>\n",
       "      <td>4.056738</td>\n",
       "    </tr>\n",
       "    <tr>\n",
       "      <th>1.0</th>\n",
       "      <td>420.0</td>\n",
       "      <td>5.439716</td>\n",
       "      <td>0.494063</td>\n",
       "      <td>0.850839</td>\n",
       "      <td>-4.808511</td>\n",
       "      <td>4.418440</td>\n",
       "    </tr>\n",
       "    <tr>\n",
       "      <th>1.5</th>\n",
       "      <td>420.0</td>\n",
       "      <td>5.439716</td>\n",
       "      <td>0.482558</td>\n",
       "      <td>0.850839</td>\n",
       "      <td>-5.546099</td>\n",
       "      <td>4.021277</td>\n",
       "    </tr>\n",
       "    <tr>\n",
       "      <th>2.0</th>\n",
       "      <td>420.0</td>\n",
       "      <td>5.439716</td>\n",
       "      <td>0.484126</td>\n",
       "      <td>0.850839</td>\n",
       "      <td>-5.205674</td>\n",
       "      <td>3.695035</td>\n",
       "    </tr>\n",
       "    <tr>\n",
       "      <th>5.0</th>\n",
       "      <td>420.0</td>\n",
       "      <td>5.439716</td>\n",
       "      <td>0.509300</td>\n",
       "      <td>0.850839</td>\n",
       "      <td>-5.886525</td>\n",
       "      <td>3.978723</td>\n",
       "    </tr>\n",
       "    <tr>\n",
       "      <th>10.0</th>\n",
       "      <td>420.0</td>\n",
       "      <td>5.439716</td>\n",
       "      <td>0.480553</td>\n",
       "      <td>0.850839</td>\n",
       "      <td>-5.546099</td>\n",
       "      <td>4.049645</td>\n",
       "    </tr>\n",
       "    <tr>\n",
       "      <th>ae</th>\n",
       "      <td>420.0</td>\n",
       "      <td>5.439716</td>\n",
       "      <td>0.495481</td>\n",
       "      <td>0.850839</td>\n",
       "      <td>-3.035461</td>\n",
       "      <td>4.148936</td>\n",
       "    </tr>\n",
       "  </tbody>\n",
       "</table>\n",
       "</div>"
      ],
      "text/plain": [
       "                         nf      cell      perf  max_perf  log_alpha  best_lag\n",
       "category        beta                                                          \n",
       "fixate1         0.01  420.0  5.439716  0.474176  0.850839   1.297872  4.070922\n",
       "                0.1   420.0  5.439716  0.453431  0.850839   2.226950  4.418440\n",
       "                0.15  420.0  5.439716  0.484689  0.850839   2.326241  4.304965\n",
       "                0.2   420.0  5.439716  0.482407  0.850839   2.106383  4.290780\n",
       "                0.3   420.0  5.439716  0.497061  0.850839   1.156028  4.156028\n",
       "                0.4   420.0  5.439716  0.492740  0.850839   1.517730  4.482270\n",
       "                0.5   420.0  5.439716  0.506407  0.850839   1.609929  4.163121\n",
       "                0.6   420.0  5.439716  0.502729  0.850839   0.283688  4.177305\n",
       "                0.7   420.0  5.439716  0.479763  0.850839   0.702128  4.312057\n",
       "                0.8   420.0  5.439716  0.517225  0.850839  -3.595745  4.134752\n",
       "                0.9   420.0  5.439716  0.505225  0.850839  -5.567376  4.312057\n",
       "                1.0   420.0  5.439716  0.494226  0.850839  -2.453901  4.531915\n",
       "                1.5   420.0  5.439716  0.498746  0.850839  -6.000000  4.631206\n",
       "                2.0   420.0  5.439716  0.487510  0.850839  -4.702128  4.695035\n",
       "                5.0   420.0  5.439716  0.486167  0.850839  -4.744681  4.326241\n",
       "                10.0  420.0  5.439716  0.473805  0.850839  -4.063830  5.099291\n",
       "                20.0  420.0  5.439716  0.272697  0.850839  -1.113475  5.652482\n",
       "                ae    420.0  5.439716  0.476137  0.850839   3.120567  4.219858\n",
       "vanilla-fixate1 0.01  420.0  5.439716  0.503502  0.850839  -0.106383  4.028369\n",
       "                0.1   420.0  5.439716  0.503309  0.850839  -1.865248  3.851064\n",
       "                0.15  420.0  5.439716  0.500548  0.850839  -2.716312  4.290780\n",
       "                0.2   420.0  5.439716  0.495714  0.850839  -1.326241  4.326241\n",
       "                0.3   420.0  5.439716  0.498316  0.850839  -2.780142  4.049645\n",
       "                0.4   420.0  5.439716  0.507059  0.850839  -2.539007  4.184397\n",
       "                0.5   420.0  5.439716  0.507706  0.850839  -2.921986  4.212766\n",
       "                0.6   420.0  5.439716  0.471452  0.850839  -4.985816  3.964539\n",
       "                0.7   420.0  5.439716  0.462053  0.850839  -3.957447  4.234043\n",
       "                0.8   420.0  5.439716  0.480787  0.850839  -4.546099  4.191489\n",
       "                0.9   420.0  5.439716  0.478758  0.850839  -4.879433  4.056738\n",
       "                1.0   420.0  5.439716  0.494063  0.850839  -4.808511  4.418440\n",
       "                1.5   420.0  5.439716  0.482558  0.850839  -5.546099  4.021277\n",
       "                2.0   420.0  5.439716  0.484126  0.850839  -5.205674  3.695035\n",
       "                5.0   420.0  5.439716  0.509300  0.850839  -5.886525  3.978723\n",
       "                10.0  420.0  5.439716  0.480553  0.850839  -5.546099  4.049645\n",
       "                ae    420.0  5.439716  0.495481  0.850839  -3.035461  4.148936"
      ]
     },
     "execution_count": 5,
     "metadata": {},
     "output_type": "execute_result"
    }
   ],
   "source": [
    "df.groupby(['category', 'beta']).mean()"
   ]
  },
  {
   "cell_type": "code",
   "execution_count": null,
   "id": "ff5e1f1a",
   "metadata": {},
   "outputs": [],
   "source": []
  },
  {
   "cell_type": "code",
   "execution_count": 16,
   "id": "99fdb4b8",
   "metadata": {},
   "outputs": [],
   "source": [
    "a = df.loc[\n",
    "    (df['category'] == 'fixate1') &\n",
    "    (df['beta'] == 0.8), 'perf'\n",
    "].values\n",
    "\n",
    "b = df.loc[\n",
    "    (df['category'] == 'vanilla-fixate1') &\n",
    "    (df['beta'] == 5.0), 'perf'\n",
    "].values"
   ]
  },
  {
   "cell_type": "code",
   "execution_count": 22,
   "id": "07fd924a",
   "metadata": {},
   "outputs": [
    {
     "data": {
      "text/plain": [
       "TtestResult(statistic=1.178167748329819, pvalue=0.2407284723498203, df=140)"
      ]
     },
     "execution_count": 22,
     "metadata": {},
     "output_type": "execute_result"
    }
   ],
   "source": [
    "sp_stats.ttest_rel(a, b)"
   ]
  },
  {
   "cell_type": "code",
   "execution_count": null,
   "id": "98c024d2",
   "metadata": {},
   "outputs": [],
   "source": []
  },
  {
   "cell_type": "markdown",
   "id": "803e5d68",
   "metadata": {},
   "source": [
    "## Save bash scripts"
   ]
  },
  {
   "cell_type": "code",
   "execution_count": 2,
   "id": "7c3a85ce",
   "metadata": {},
   "outputs": [
    {
     "data": {
      "text/plain": [
       "['--lesion_enc 2',\n",
       " '--lesion_enc 4',\n",
       " '--lesion_enc 8',\n",
       " '--lesion_dec 2',\n",
       " '--lesion_dec 4',\n",
       " '--lesion_dec 8',\n",
       " None]"
      ]
     },
     "execution_count": 2,
     "metadata": {},
     "output_type": "execute_result"
    }
   ],
   "source": [
    "args = [\n",
    "    f'--lesion_enc {s}'\n",
    "    for s in [2, 4, 8]\n",
    "]\n",
    "args += [\n",
    "    f'--lesion_dec {s}'\n",
    "    for s in [2, 4, 8]\n",
    "]\n",
    "args += [None]\n",
    "args"
   ]
  },
  {
   "cell_type": "code",
   "execution_count": 3,
   "id": "d48f58d2",
   "metadata": {},
   "outputs": [
    {
     "data": {
      "text/html": [
       "<pre style=\"white-space:pre;overflow-x:auto;line-height:normal;font-family:Menlo,'DejaVu Sans Mono',consolas,'Courier New',monospace\"><span style=\"font-weight: bold\">[</span>PROGRESS<span style=\"font-weight: bold\">]</span> <span style=\"color: #008000; text-decoration-color: #008000\">'run_neuron_gaban.txt'</span> saved at\n",
       "<span style=\"color: #800080; text-decoration-color: #800080\">/home/hadi/Documents/MTMST/code/</span><span style=\"color: #ff00ff; text-decoration-color: #ff00ff\">scripts</span>\n",
       "</pre>\n"
      ],
      "text/plain": [
       "\u001b[1m[\u001b[0mPROGRESS\u001b[1m]\u001b[0m \u001b[32m'run_neuron_gaban.txt'\u001b[0m saved at\n",
       "\u001b[35m/home/hadi/Documents/MTMST/code/\u001b[0m\u001b[95mscripts\u001b[0m\n"
      ]
     },
     "metadata": {},
     "output_type": "display_data"
    }
   ],
   "source": [
    "fits = ['/'.join([\n",
    "    'fixate1_k-32_z-20x[3,6,12]_enc(1x3)-dec(1x2)-pre(1x3)-post(1x3)',\n",
    "    'ep160-b600-lr(0.002)_beta(0.5:0x0.5)_lamb(0.0001)_gr(250.0)_(2023_04_29,17:52)',\n",
    "])] * 7\n",
    "\n",
    "save_script_neural(\n",
    "    fits=fits,\n",
    "    args=args,\n",
    "    device='cuda',\n",
    ")"
   ]
  },
  {
   "cell_type": "code",
   "execution_count": null,
   "id": "8788923c",
   "metadata": {},
   "outputs": [],
   "source": []
  },
  {
   "cell_type": "code",
   "execution_count": 3,
   "id": "a5b6ec8e",
   "metadata": {},
   "outputs": [],
   "source": [
    "tr, meta = load_model(\n",
    "    'fixate1_k-32_z-20x[3,6,12]_enc(1x3)-dec(1x2)-pre(1x3)-post(1x3)',\n",
    "    'ep160-b600-lr(0.002)_beta(0.5:0x0.5)_lamb(0.0001)_gr(250.0)_(2023_04_29,17:52)',\n",
    ")"
   ]
  },
  {
   "cell_type": "code",
   "execution_count": 4,
   "id": "0933c992",
   "metadata": {},
   "outputs": [
    {
     "data": {
      "text/plain": [
       "{'checkpoint': None,\n",
       " 'global_step': None,\n",
       " 'file': 'VAE+TrainerVAE_(2023_04_30,20:06).pt',\n",
       " 'path': '/home/hadi/Documents/MTMST/models/fixate1_k-32_z-20x[3,6,12]_enc(1x3)-dec(1x2)-pre(1x3)-post(1x3)/ep160-b600-lr(0.002)_beta(0.5:0x0.5)_lamb(0.0001)_gr(250.0)_(2023_04_29,17:52)'}"
      ]
     },
     "execution_count": 4,
     "metadata": {},
     "output_type": "execute_result"
    }
   ],
   "source": [
    "meta"
   ]
  },
  {
   "cell_type": "code",
   "execution_count": null,
   "id": "f51b839a",
   "metadata": {},
   "outputs": [],
   "source": []
  },
  {
   "cell_type": "code",
   "execution_count": null,
   "id": "285395b8",
   "metadata": {},
   "outputs": [],
   "source": []
  },
  {
   "cell_type": "code",
   "execution_count": 2,
   "id": "5cc8de32",
   "metadata": {
    "scrolled": true
   },
   "outputs": [
    {
     "data": {
      "text/plain": [
       "420"
      ]
     },
     "execution_count": 2,
     "metadata": {},
     "output_type": "execute_result"
    }
   ],
   "source": [
    "vae = VAE(ConfigVAE('fixate1', compress=True, save=False))\n",
    "vae.total_latents()"
   ]
  },
  {
   "cell_type": "code",
   "execution_count": 4,
   "id": "a72bb06e",
   "metadata": {},
   "outputs": [
    {
     "data": {
      "text/plain": [
       "torch.Size([1024, 420])"
      ]
     },
     "execution_count": 4,
     "metadata": {},
     "output_type": "execute_result"
    }
   ],
   "source": [
    "latents = vae.sample()[1]\n",
    "z = flat_cat(latents)\n",
    "z.size()"
   ]
  },
  {
   "cell_type": "code",
   "execution_count": null,
   "id": "9e32c2bd",
   "metadata": {},
   "outputs": [],
   "source": []
  },
  {
   "cell_type": "code",
   "execution_count": 5,
   "id": "16be2f4a",
   "metadata": {
    "scrolled": true
   },
   "outputs": [
    {
     "data": {
      "text/plain": [
       "17520"
      ]
     },
     "execution_count": 5,
     "metadata": {},
     "output_type": "execute_result"
    }
   ],
   "source": [
    "vae = VAE(ConfigVAE('fixate1', compress=False, save=False))\n",
    "vae.total_latents()"
   ]
  },
  {
   "cell_type": "code",
   "execution_count": 6,
   "id": "1166a8bb",
   "metadata": {},
   "outputs": [
    {
     "data": {
      "text/plain": [
       "torch.Size([1024, 17520])"
      ]
     },
     "execution_count": 6,
     "metadata": {},
     "output_type": "execute_result"
    }
   ],
   "source": [
    "latents = vae.sample()[1]\n",
    "z = flat_cat(latents)\n",
    "z.size()"
   ]
  },
  {
   "cell_type": "code",
   "execution_count": null,
   "id": "dfdb562f",
   "metadata": {},
   "outputs": [],
   "source": []
  },
  {
   "cell_type": "code",
   "execution_count": null,
   "id": "82d66130",
   "metadata": {},
   "outputs": [],
   "source": []
  },
  {
   "cell_type": "code",
   "execution_count": null,
   "id": "891d9289",
   "metadata": {},
   "outputs": [],
   "source": []
  },
  {
   "cell_type": "code",
   "execution_count": null,
   "id": "6485ea66",
   "metadata": {},
   "outputs": [],
   "source": []
  }
 ],
 "metadata": {
  "kernelspec": {
   "display_name": "Python 3 (ipykernel)",
   "language": "python",
   "name": "python3"
  },
  "language_info": {
   "codemirror_mode": {
    "name": "ipython",
    "version": 3
   },
   "file_extension": ".py",
   "mimetype": "text/x-python",
   "name": "python",
   "nbconvert_exporter": "python",
   "pygments_lexer": "ipython3",
   "version": "3.8.5"
  }
 },
 "nbformat": 4,
 "nbformat_minor": 5
}
